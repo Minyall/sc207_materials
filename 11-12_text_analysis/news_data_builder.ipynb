{
 "cells": [
  {
   "cell_type": "code",
   "execution_count": 1,
   "metadata": {},
   "outputs": [],
   "source": [
    "import webhoseio\n",
    "from datetime import datetime\n",
    "import json \n",
    "import pandas as pd \n",
    "from pandas.io.json import json_normalize #package for flattening json in pandas df\n",
    "webhoseio.config(token=\"\")\n"
   ]
  },
  {
   "cell_type": "code",
   "execution_count": 2,
   "metadata": {},
   "outputs": [],
   "source": [
    "start_date_seconds = datetime(2019,10,1,0,0,0).strftime('%s')\n",
    "start_date_mili = int(start_date_seconds) *1000"
   ]
  },
  {
   "cell_type": "code",
   "execution_count": 3,
   "metadata": {},
   "outputs": [
    {
     "data": {
      "text/plain": [
       "1569884400000"
      ]
     },
     "execution_count": 3,
     "metadata": {},
     "output_type": "execute_result"
    }
   ],
   "source": [
    "start_date_mili"
   ]
  },
  {
   "cell_type": "code",
   "execution_count": null,
   "metadata": {},
   "outputs": [],
   "source": [
    "df = pd.DataFrame()"
   ]
  },
  {
   "cell_type": "code",
   "execution_count": 18,
   "metadata": {},
   "outputs": [],
   "source": [
    "terms = ['boris johnson', 'jeremy corbyn']\n",
    "performance_score = 5"
   ]
  },
  {
   "cell_type": "code",
   "execution_count": 19,
   "metadata": {},
   "outputs": [
    {
     "name": "stdout",
     "output_type": "stream",
     "text": [
      "boris johnson\n",
      "boris johnson 0\n",
      "boris johnson 1\n",
      "boris johnson 2\n",
      "jeremy corbyn\n",
      "jeremy corbyn 0\n",
      "jeremy corbyn 1\n",
      "jeremy corbyn 2\n"
     ]
    }
   ],
   "source": [
    "# df = pd.DataFrame()\n",
    "\n",
    "for term in terms:\n",
    "    query_params = {\n",
    "    \"q\": f\"language:english site_type:news performance_score:>{performance_score} {term}\",\n",
    "    \"ts\": start_date_mili,\n",
    "    \"sort\": \"crawled\"}\n",
    "    print(term)\n",
    "    result = webhoseio.query(\"filterWebContent\", query_params)\n",
    "    temp = json_normalize(result['posts'])\n",
    "    temp['query'] = term\n",
    "    df = pd.concat([df,temp], axis='index')\n",
    "    for loop in range(3):\n",
    "        if result['moreResultsAvailable'] > 100:\n",
    "            print(term, loop)\n",
    "            result = webhoseio.get_next()\n",
    "            temp = json_normalize(result['posts'])\n",
    "            temp['query'] = term\n",
    "            df = pd.concat([df,temp], axis='index', sort=False)"
   ]
  },
  {
   "cell_type": "code",
   "execution_count": 20,
   "metadata": {},
   "outputs": [],
   "source": [
    "df = df.drop_duplicates(subset=['title','author'])\n",
    "df = df.reset_index(drop=True)\n",
    "        "
   ]
  },
  {
   "cell_type": "code",
   "execution_count": null,
   "metadata": {},
   "outputs": [],
   "source": []
  },
  {
   "cell_type": "code",
   "execution_count": 21,
   "metadata": {},
   "outputs": [
    {
     "data": {
      "text/plain": [
       "general election    491\n",
       "boris johnson       302\n",
       "jeremy corbyn       147\n",
       "Name: query, dtype: int64"
      ]
     },
     "execution_count": 21,
     "metadata": {},
     "output_type": "execute_result"
    }
   ],
   "source": [
    "df['query'].value_counts()"
   ]
  },
  {
   "cell_type": "code",
   "execution_count": 42,
   "metadata": {},
   "outputs": [],
   "source": [
    "df.to_pickle('raw_news_data.pkl')"
   ]
  },
  {
   "cell_type": "code",
   "execution_count": 22,
   "metadata": {},
   "outputs": [],
   "source": [
    "df[['uuid','query','thread.title_full','text','published','thread.site']].to_pickle('election_news_data.pkl')"
   ]
  },
  {
   "cell_type": "code",
   "execution_count": null,
   "metadata": {},
   "outputs": [],
   "source": []
  }
 ],
 "metadata": {
  "kernelspec": {
   "display_name": "Python [conda env:teaching]",
   "language": "python",
   "name": "conda-env-teaching-py"
  },
  "language_info": {
   "codemirror_mode": {
    "name": "ipython",
    "version": 3
   },
   "file_extension": ".py",
   "mimetype": "text/x-python",
   "name": "python",
   "nbconvert_exporter": "python",
   "pygments_lexer": "ipython3",
   "version": "3.7.3"
  }
 },
 "nbformat": 4,
 "nbformat_minor": 2
}
