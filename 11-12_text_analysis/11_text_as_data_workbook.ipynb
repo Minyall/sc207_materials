{
 "cells": [
  {
   "cell_type": "markdown",
   "metadata": {},
   "source": [
    "# Session 11 - Text Mining\n",
    "## Introduction to Text as Data\n",
    "\n",
    "- We broadly understand how text might be used as data for qualitative analysis.\n",
    "- Words are not treated simply as individual units of data, but we recognise context, structure, pattern.\n",
    "- How then can text be analysed quantitatively, and how can it be interpreted by a computer to aide that analysis?\n",
    "- Usually text analysis techniques require text to be prepared for analysis through two stages\n",
    "\n",
    "### 1. Tokenizing\n",
    "\n",
    "- Computers break down text into units of analysis known as *Tokens*. Tokens are often individual words, but they can also be parts of words, common phrases etc. \n",
    "- Tokenizing is the first fundamental step in any text analysis.\n",
    "- How exactly you split up text is not necessarily straight forward.\n",
    "- There are a range of different strategies which you can see at the [Python NLTK Demo Page](https://text-processing.com/demo/tokenize/).\n",
    "\n",
    "### 2. Pre-Processing\n",
    "- Exactly what happens in pre-processing tends to depend on the type of analysis you are doing.\n",
    "- In general it tends to involve...\n",
    "        - Filtering out of common words and punctuation\n",
    "        - Standardising the text to make it less complex for the computer.\n"
   ]
  },
  {
   "cell_type": "markdown",
   "metadata": {},
   "source": [
    "## Step 1: Tokenizing"
   ]
  },
  {
   "cell_type": "markdown",
   "metadata": {},
   "source": [
    "#### Example of the problem\n",
    "We already know how to split up a string into a series of items in a list. It's pretty simple using `.split()`"
   ]
  },
  {
   "cell_type": "code",
   "execution_count": 38,
   "metadata": {},
   "outputs": [],
   "source": [
    "test_phrase = \"I don't see my cat. He has a long tail, fluffy ears and big eyes!\"\\\n",
    "\" He also subscribes to Marxist historical materialism. It's just his way.\""
   ]
  },
  {
   "cell_type": "code",
   "execution_count": 39,
   "metadata": {},
   "outputs": [
    {
     "name": "stdout",
     "output_type": "stream",
     "text": [
      "['I', \"don't\", 'see', 'my', 'cat.', 'He', 'has', 'a', 'long', 'tail,', 'fluffy', 'ears', 'and', 'big', 'eyes!', 'He', 'also', 'subscribes', 'to', 'Marxist', 'historical', 'materialism.', \"It's\", 'just', 'his', 'way.']\n"
     ]
    }
   ],
   "source": [
    "test_tokens = test_phrase.split()\n",
    "print(test_tokens)"
   ]
  },
  {
   "cell_type": "code",
   "execution_count": 40,
   "metadata": {},
   "outputs": [
    {
     "data": {
      "text/plain": [
       "True"
      ]
     },
     "execution_count": 40,
     "metadata": {},
     "output_type": "execute_result"
    }
   ],
   "source": [
    "# first we check if the string 'ears' is in the list\n",
    "'ears' in test_tokens"
   ]
  },
  {
   "cell_type": "code",
   "execution_count": 41,
   "metadata": {},
   "outputs": [
    {
     "data": {
      "text/plain": [
       "False"
      ]
     },
     "execution_count": 41,
     "metadata": {},
     "output_type": "execute_result"
    }
   ],
   "source": [
    "# so we would imagine that 'eyes' is also in the list?\n",
    "'eyes' in test_tokens"
   ]
  },
  {
   "cell_type": "markdown",
   "metadata": {},
   "source": [
    "Having punctuation atached to words like this can cause us problems because the tokens `eyes` and `eyes!` would be considered two seperate things. This messes with a lot of analysis further down the line."
   ]
  },
  {
   "cell_type": "markdown",
   "metadata": {},
   "source": [
    "### Using Tokenizers\n",
    "- Tokenizers are functions that split up text for us. \n",
    "- Some of them are based on complex sets of rules, others are based on training computers using lots of examples of text.\n",
    "- There are many (many!) packages available for handling text data. See Moodle for a list of common ones.\n",
    "\n",
    "#### SpaCy\n",
    "\n",
    "SpaCy uses pre-trained models of language to do a lot of the tasks we need. To create our spacy text tool we need to load in a model. SpaCy has a [load of different models](https://spacy.io/usage/models) for different languages and different types of task.\n",
    "\n",
    "We're going to use `en_core_web_md` which means..\n",
    "- en: English\n",
    "- core: Can perform the core features of Spacy but not some of the more specialised techniques.\n",
    "- web: trained on content from the web such as blogs, news, comments, making it suitable for similar content.\n",
    "- md: medium version. There is also the small and large models. Small is trained just on web text data from 2013. Medium is trained on [petabytes of data from the contemporary internet](https://commoncrawl.org/big-picture/) and so is much more up to date in how it understands contemporary language use."
   ]
  },
  {
   "cell_type": "code",
   "execution_count": 42,
   "metadata": {},
   "outputs": [],
   "source": [
    "#import\n",
    "import spacy"
   ]
  },
  {
   "cell_type": "code",
   "execution_count": 43,
   "metadata": {},
   "outputs": [],
   "source": [
    "# nlp represents the trained language model provided by Spacy...\n",
    "nlp = spacy.load('en_core_web_md')"
   ]
  },
  {
   "cell_type": "code",
   "execution_count": 44,
   "metadata": {},
   "outputs": [
    {
     "data": {
      "text/plain": [
       "I don't see my cat. He has a long tail, fluffy ears and big eyes! He also subscribes to Marxist historical materialism. It's just his way."
      ]
     },
     "execution_count": 44,
     "metadata": {},
     "output_type": "execute_result"
    }
   ],
   "source": [
    "# In SpaCy tokenization happens the moment you wrap a string in your language model object nlp()\n",
    "\n",
    "doc = nlp(test_phrase)\n",
    "\n",
    "doc"
   ]
  },
  {
   "cell_type": "code",
   "execution_count": 45,
   "metadata": {},
   "outputs": [
    {
     "name": "stdout",
     "output_type": "stream",
     "text": [
      "[I, do, n't, see, my, cat, ., He, has, a, long, tail, ,, fluffy, ears, and, big, eyes, !, He, also, subscribes, to, Marxist, historical, materialism, ., It, 's, just, his, way, .]\n"
     ]
    }
   ],
   "source": [
    "# if we iterate over the doc we can see the tokens.\n",
    "tokens_a = []\n",
    "\n",
    "for word in doc:\n",
    "    tokens_a.append(word)\n",
    "print(tokens_a)"
   ]
  },
  {
   "cell_type": "markdown",
   "metadata": {},
   "source": [
    "\n",
    "\n",
    "**List comprehensions** allow us to do in 1 line what would normally take 3. They are much more efficient than using a `for` loop. We'll see how they can be used more later."
   ]
  },
  {
   "cell_type": "code",
   "execution_count": 46,
   "metadata": {},
   "outputs": [
    {
     "name": "stdout",
     "output_type": "stream",
     "text": [
      "[I, do, n't, see, my, cat, ., He, has, a, long, tail, ,, fluffy, ears, and, big, eyes, !, He, also, subscribes, to, Marxist, historical, materialism, ., It, 's, just, his, way, .]\n"
     ]
    }
   ],
   "source": [
    "tokens_b = [word for word in doc]\n",
    "print(tokens_b)"
   ]
  },
  {
   "cell_type": "markdown",
   "metadata": {},
   "source": [
    "A number of things have been done by the tokenizer.\n",
    "- Punctuation has been seperated from words into their own tokens.\n",
    "- Words that are contractions of two words (It's > It is / Don't > Do not) have been split into two.\n",
    "- This becomes more useful in a minute and is all part of the process of reducing the nuance of language to make documents more comparable."
   ]
  },
  {
   "cell_type": "markdown",
   "metadata": {},
   "source": [
    "## Step 2: Pre-Processing\n",
    "- Whilst the above looks just like the strings again it is actually a SpaCy **Document**.\n",
    "- Once a string is processed by SpaCy it becomes a SpaCy [Document object](https://spacy.io/api/doc). \n",
    "- The SpaCy document object itself is made up of SpaCy [Token objects](https://spacy.io/api/token).\n",
    "\n",
    "This means that Documents and Tokens have a range of associated methods and attributes based on SpaCy's analysis."
   ]
  },
  {
   "cell_type": "code",
   "execution_count": 47,
   "metadata": {},
   "outputs": [],
   "source": [
    "# Let's do that again\n",
    "test_phrase = \"I don't see my cat. He has a long tail, fluffy ears and big eyes!\"\\\n",
    "\" He also subscribes to Marxist historical materialism. It's just his way.\"\n",
    "doc = nlp(test_phrase)"
   ]
  },
  {
   "cell_type": "code",
   "execution_count": 48,
   "metadata": {},
   "outputs": [
    {
     "data": {
      "text/plain": [
       "spacy.tokens.doc.Doc"
      ]
     },
     "execution_count": 48,
     "metadata": {},
     "output_type": "execute_result"
    }
   ],
   "source": [
    "type(doc)"
   ]
  },
  {
   "cell_type": "code",
   "execution_count": 49,
   "metadata": {},
   "outputs": [
    {
     "data": {
      "text/plain": [
       "'en'"
      ]
     },
     "execution_count": 49,
     "metadata": {},
     "output_type": "execute_result"
    }
   ],
   "source": [
    "# check language\n",
    "doc.lang_"
   ]
  },
  {
   "cell_type": "code",
   "execution_count": 50,
   "metadata": {},
   "outputs": [
    {
     "data": {
      "text/plain": [
       "cat"
      ]
     },
     "execution_count": 50,
     "metadata": {},
     "output_type": "execute_result"
    }
   ],
   "source": [
    "token = doc[5]\n",
    "token"
   ]
  },
  {
   "cell_type": "code",
   "execution_count": 51,
   "metadata": {},
   "outputs": [
    {
     "data": {
      "text/plain": [
       "spacy.tokens.token.Token"
      ]
     },
     "execution_count": 51,
     "metadata": {},
     "output_type": "execute_result"
    }
   ],
   "source": [
    "type(token)"
   ]
  },
  {
   "cell_type": "markdown",
   "metadata": {},
   "source": [
    "#### Pre-Processing: Lemmatisation\n",
    "Language is very nuanced in real life, but part of the filtering process involves reducing that nuance to strip back to a piece of text's bare bones.\n",
    "\n",
    "```\n",
    "\"I don't like rabbits in space\"\n",
    "\"I do not like rabbits in space\"\n",
    "```\n",
    "- Semantically the same, computationally different.\n",
    "- Lemmatising using the token method `.lemma_` allows us to roll words back to a common 'root'."
   ]
  },
  {
   "cell_type": "code",
   "execution_count": 52,
   "metadata": {},
   "outputs": [
    {
     "name": "stdout",
     "output_type": "stream",
     "text": [
      "['-PRON-', 'do', 'not', 'like', 'rabbit', 'in', 'space']\n",
      "['-PRON-', 'do', 'not', 'like', 'rabbit', 'in', 'space']\n"
     ]
    }
   ],
   "source": [
    "rabbit_1 = nlp(\"I don't like rabbits in space\")\n",
    "rabbit_2 = nlp(\"I do not like rabbits in space\")\n",
    "\n",
    "print([token.lemma_ for token in rabbit_1])\n",
    "print([token.lemma_ for token in rabbit_2])\n"
   ]
  },
  {
   "cell_type": "markdown",
   "metadata": {},
   "source": [
    "These phrases below are semantically similar, but only share 1 word. Lemmatising brings them closer together computationally."
   ]
  },
  {
   "cell_type": "code",
   "execution_count": 53,
   "metadata": {},
   "outputs": [
    {
     "name": "stdout",
     "output_type": "stream",
     "text": [
      "['-PRON-', 'be', 'love', 'these', 'rabbit']\n",
      "['-PRON-', 'love', 'this', 'rabbit', '!']\n"
     ]
    }
   ],
   "source": [
    "rabbit_1 = nlp(\"I'm loving these rabbits\")\n",
    "rabbit_2 = nlp(\"I love this rabbit!\")\n",
    "\n",
    "print([token.lemma_ for token in rabbit_1])\n",
    "print([token.lemma_ for token in rabbit_2])"
   ]
  },
  {
   "cell_type": "code",
   "execution_count": 54,
   "metadata": {},
   "outputs": [],
   "source": [
    "# Let's see what it does to our test phrase\n",
    "doc = nlp(test_phrase)"
   ]
  },
  {
   "cell_type": "code",
   "execution_count": 55,
   "metadata": {},
   "outputs": [
    {
     "name": "stdout",
     "output_type": "stream",
     "text": [
      "['-PRON-', 'do', 'not', 'see', '-PRON-', 'cat', '.', '-PRON-', 'have', 'a', 'long', 'tail', ',', 'fluffy', 'ear', 'and', 'big', 'eye', '!', '-PRON-', 'also', 'subscribe', 'to', 'marxist', 'historical', 'materialism', '.', '-PRON-', 'be', 'just', '-PRON-', 'way', '.']\n"
     ]
    }
   ],
   "source": [
    "print( [token.lemma_ for token in doc])"
   ]
  },
  {
   "cell_type": "markdown",
   "metadata": {},
   "source": [
    "#### Pre-Processing: Punctuation\n",
    "Unless punctuation matters for your analysis (such as needing to break text down into sentences), we normally will clear out punctuation from text. We can use SpaCy's `.is_alpha` attribute to include only tokens that are alphabetical, and still just return the lemma."
   ]
  },
  {
   "cell_type": "code",
   "execution_count": 56,
   "metadata": {},
   "outputs": [
    {
     "name": "stdout",
     "output_type": "stream",
     "text": [
      "['-PRON-', 'do', 'see', '-PRON-', 'cat', '-PRON-', 'have', 'a', 'long', 'tail', 'fluffy', 'ear', 'and', 'big', 'eye', '-PRON-', 'also', 'subscribe', 'to', 'marxist', 'historical', 'materialism', '-PRON-', 'just', '-PRON-', 'way']\n"
     ]
    }
   ],
   "source": [
    "processed_doc = [token.lemma_ for token in doc if token.is_alpha]\n",
    "print(processed_doc)"
   ]
  },
  {
   "cell_type": "markdown",
   "metadata": {},
   "source": [
    "#### Pre-Processing: Stop Words\n",
    "Stop words are common words that tend to be structurally useful in sentences, but are too common to provide much meaning alone. They are often stripped out before text analysis.\n",
    "Lets add this to our list comprehension."
   ]
  },
  {
   "cell_type": "code",
   "execution_count": 57,
   "metadata": {},
   "outputs": [],
   "source": [
    "stop_words = nlp.Defaults.stop_words"
   ]
  },
  {
   "cell_type": "code",
   "execution_count": 58,
   "metadata": {},
   "outputs": [
    {
     "name": "stdout",
     "output_type": "stream",
     "text": [
      "['-PRON-', 'do', 'see', '-PRON-', 'cat', '-PRON-', 'have', 'a', 'long', 'tail', 'fluffy', 'ear', 'and', 'big', 'eye', '-PRON-', 'also', 'subscribe', 'to', 'marxist', 'historical', 'materialism', '-PRON-', 'just', '-PRON-', 'way']\n"
     ]
    }
   ],
   "source": [
    "print(processed_doc)"
   ]
  },
  {
   "cell_type": "code",
   "execution_count": 59,
   "metadata": {},
   "outputs": [
    {
     "name": "stdout",
     "output_type": "stream",
     "text": [
      "['-PRON-', '-PRON-', 'cat', '-PRON-', 'long', 'tail', 'fluffy', 'ear', 'big', 'eye', '-PRON-', 'subscribe', 'marxist', 'historical', 'materialism', '-PRON-', '-PRON-', 'way']\n"
     ]
    }
   ],
   "source": [
    "# list comp that filters out stop_words\n",
    "print([word for word in processed_doc if word.lower() not in stop_words])"
   ]
  },
  {
   "cell_type": "code",
   "execution_count": 60,
   "metadata": {},
   "outputs": [],
   "source": [
    "# we'll add .lower() to our result to ensure that we \n",
    "# get rid of any distinction when it comes to capitalisation as well\n",
    "\n",
    "def process_text(doc):\n",
    "    return [token.lemma_.lower() for token in doc if token.is_alpha]\n",
    "    \n",
    "def filter_stops(tokens, stop_words):\n",
    "    return [tok for tok in tokens if tok.lower() not in stop_words]"
   ]
  },
  {
   "cell_type": "code",
   "execution_count": 61,
   "metadata": {},
   "outputs": [
    {
     "name": "stdout",
     "output_type": "stream",
     "text": [
      "['-pron-', 'do', 'see', '-pron-', 'cat', '-pron-', 'have', 'a', 'long', 'tail', 'fluffy', 'ear', 'and', 'big', 'eye', '-pron-', 'also', 'subscribe', 'to', 'marxist', 'historical', 'materialism', '-pron-', 'just', '-pron-', 'way']\n",
      "\n",
      "['-pron-', '-pron-', 'cat', '-pron-', 'long', 'tail', 'fluffy', 'ear', 'big', 'eye', '-pron-', 'subscribe', 'marxist', 'historical', 'materialism', '-pron-', '-pron-', 'way']\n"
     ]
    }
   ],
   "source": [
    "test_phrase = \"I don't see my cat. He has a long tail, fluffy ears and big eyes!\"\\\n",
    "\" He also subscribes to Marxist historical materialism. It's just his way.\"\n",
    "doc = nlp(test_phrase)\n",
    "\n",
    "print(process_text(doc))\n",
    "print()\n",
    "print(filter_stops(process_text(doc), stop_words))"
   ]
  },
  {
   "cell_type": "markdown",
   "metadata": {},
   "source": [
    "## Processing a Corpus\n",
    "A \"Corpus\" is a collection of textual documents. Often in computational textual analysis a corpus size will run into the hundreds, thousands or even hundreds of thousands. Whilst we could process each document seperately with a `for` loop, it is much more efficient to use Spacy's `pipe` which can process multiple documents in parallel and is memory efficient.\n"
   ]
  },
  {
   "cell_type": "code",
   "execution_count": 62,
   "metadata": {},
   "outputs": [],
   "source": [
    "corpus = [\"I don't like rabbits in space\",\n",
    "         \"I do not like rabbits in space\",\n",
    "         \"I'm loving these rabbits\",\n",
    "         \"I love this rabbit!\"]"
   ]
  },
  {
   "cell_type": "code",
   "execution_count": 64,
   "metadata": {},
   "outputs": [
    {
     "data": {
      "text/plain": [
       "<generator object Language.pipe at 0x7fd4bc5dbed0>"
      ]
     },
     "execution_count": 64,
     "metadata": {},
     "output_type": "execute_result"
    }
   ],
   "source": [
    "# pipe it!\n",
    "docs = nlp.pipe(corpus)\n",
    "docs"
   ]
  },
  {
   "cell_type": "markdown",
   "metadata": {},
   "source": [
    "Spacy has created a generator object. This means that at the moment, no processing has been done. Each document is only processed when we iterate over the generator object as if it were a list."
   ]
  },
  {
   "cell_type": "code",
   "execution_count": 65,
   "metadata": {},
   "outputs": [
    {
     "data": {
      "text/plain": [
       "[I don't like rabbits in space,\n",
       " I do not like rabbits in space,\n",
       " I'm loving these rabbits,\n",
       " I love this rabbit!]"
      ]
     },
     "execution_count": 65,
     "metadata": {},
     "output_type": "execute_result"
    }
   ],
   "source": [
    "# We can force the generator to produce the results by iterating over it in a list comprehension.\n",
    "docs = [doc for doc in docs]\n",
    "docs"
   ]
  },
  {
   "cell_type": "markdown",
   "metadata": {},
   "source": [
    "For peace of mind we can check and see that yes the objects are spacy documents"
   ]
  },
  {
   "cell_type": "code",
   "execution_count": 66,
   "metadata": {},
   "outputs": [
    {
     "name": "stdout",
     "output_type": "stream",
     "text": [
      "<class 'spacy.tokens.doc.Doc'>\n",
      "<class 'spacy.tokens.doc.Doc'>\n",
      "<class 'spacy.tokens.doc.Doc'>\n",
      "<class 'spacy.tokens.doc.Doc'>\n"
     ]
    }
   ],
   "source": [
    "for doc in docs:\n",
    "    print(type(doc))"
   ]
  },
  {
   "cell_type": "markdown",
   "metadata": {},
   "source": [
    "Which means we can run our processor on each Spacy doc as it is spat out and retain the result."
   ]
  },
  {
   "cell_type": "code",
   "execution_count": 67,
   "metadata": {},
   "outputs": [
    {
     "data": {
      "text/plain": [
       "[['-pron-', 'do', 'like', 'rabbit', 'in', 'space'],\n",
       " ['-pron-', 'do', 'not', 'like', 'rabbit', 'in', 'space'],\n",
       " ['-pron-', 'love', 'these', 'rabbit'],\n",
       " ['-pron-', 'love', 'this', 'rabbit']]"
      ]
     },
     "execution_count": 67,
     "metadata": {},
     "output_type": "execute_result"
    }
   ],
   "source": [
    "# process the text as it generates\n",
    "[process_text(doc) for doc in docs]"
   ]
  },
  {
   "cell_type": "code",
   "execution_count": 68,
   "metadata": {},
   "outputs": [],
   "source": [
    "def process_documents(corpus, stop_words=None):\n",
    "    # pipe it\n",
    "    docs = nlp.pipe(corpus)\n",
    "    # process the text\n",
    "    processed = [process_text(doc) for doc in docs]\n",
    "    # remove stop_words if provided\n",
    "    if stop_words is not None:\n",
    "        processed = [filter_stops(tokens, stop_words) for tokens in processed]\n",
    "    return processed"
   ]
  },
  {
   "cell_type": "code",
   "execution_count": 69,
   "metadata": {},
   "outputs": [
    {
     "name": "stdout",
     "output_type": "stream",
     "text": [
      "[['-pron-', 'do', 'like', 'rabbit', 'in', 'space'], ['-pron-', 'do', 'not', 'like', 'rabbit', 'in', 'space'], ['-pron-', 'love', 'these', 'rabbit'], ['-pron-', 'love', 'this', 'rabbit']]\n",
      "\n",
      "[['-pron-', 'like', 'rabbit', 'space'], ['-pron-', 'like', 'rabbit', 'space'], ['-pron-', 'love', 'rabbit'], ['-pron-', 'love', 'rabbit']]\n"
     ]
    }
   ],
   "source": [
    "stop_words = nlp.Defaults.stop_words\n",
    "\n",
    "print( process_documents(corpus) )\n",
    "print()\n",
    "print( process_documents(corpus, stop_words) )"
   ]
  },
  {
   "cell_type": "markdown",
   "metadata": {},
   "source": [
    "## Real Data Test\n",
    "So far we've been working on a toy dataset. Lets see what happens with a real dataset."
   ]
  },
  {
   "cell_type": "code",
   "execution_count": 70,
   "metadata": {},
   "outputs": [],
   "source": [
    "import pandas as pd"
   ]
  },
  {
   "cell_type": "code",
   "execution_count": 71,
   "metadata": {},
   "outputs": [],
   "source": [
    "df = pd.read_csv('sample_news_large.csv')"
   ]
  },
  {
   "cell_type": "code",
   "execution_count": 75,
   "metadata": {},
   "outputs": [
    {
     "data": {
      "text/html": [
       "<div>\n",
       "<style scoped>\n",
       "    .dataframe tbody tr th:only-of-type {\n",
       "        vertical-align: middle;\n",
       "    }\n",
       "\n",
       "    .dataframe tbody tr th {\n",
       "        vertical-align: top;\n",
       "    }\n",
       "\n",
       "    .dataframe thead th {\n",
       "        text-align: right;\n",
       "    }\n",
       "</style>\n",
       "<table border=\"1\" class=\"dataframe\">\n",
       "  <thead>\n",
       "    <tr style=\"text-align: right;\">\n",
       "      <th></th>\n",
       "      <th>query</th>\n",
       "      <th>title</th>\n",
       "      <th>text</th>\n",
       "      <th>published</th>\n",
       "      <th>site</th>\n",
       "    </tr>\n",
       "  </thead>\n",
       "  <tbody>\n",
       "    <tr>\n",
       "      <th>0</th>\n",
       "      <td>Hong Kong</td>\n",
       "      <td>Horrifying view of fires from space</td>\n",
       "      <td>Video Image Satellite images show insane view ...</td>\n",
       "      <td>2019-11-08T23:51:00.000+02:00</td>\n",
       "      <td>news.com.au</td>\n",
       "    </tr>\n",
       "    <tr>\n",
       "      <th>1</th>\n",
       "      <td>Hong Kong</td>\n",
       "      <td>Protester shot with live round in Hong Kong as...</td>\n",
       "      <td>\\n Chief Executive addresses the press after c...</td>\n",
       "      <td>2019-11-11T02:00:00.000+02:00</td>\n",
       "      <td>scmp.com</td>\n",
       "    </tr>\n",
       "    <tr>\n",
       "      <th>2</th>\n",
       "      <td>Hong Kong</td>\n",
       "      <td>China imposes online gaming curfew for minors ...</td>\n",
       "      <td>Hong Kong (CNN) China has announced a curfew o...</td>\n",
       "      <td>2019-11-06T02:00:00.000+02:00</td>\n",
       "      <td>cnn.com</td>\n",
       "    </tr>\n",
       "    <tr>\n",
       "      <th>3</th>\n",
       "      <td>Hong Kong</td>\n",
       "      <td>Trump made 96 false claims last week - CNNPoli...</td>\n",
       "      <td>Washington (CNN) President Donald Trump was re...</td>\n",
       "      <td>2019-10-30T20:35:00.000+02:00</td>\n",
       "      <td>cnn.com</td>\n",
       "    </tr>\n",
       "    <tr>\n",
       "      <th>4</th>\n",
       "      <td>Hong Kong</td>\n",
       "      <td>50 best breads around the world | CNN Travel</td>\n",
       "      <td>(CNN) — What is bread? You likely don't have t...</td>\n",
       "      <td>2019-10-16T07:02:00.000+03:00</td>\n",
       "      <td>cnn.com</td>\n",
       "    </tr>\n",
       "  </tbody>\n",
       "</table>\n",
       "</div>"
      ],
      "text/plain": [
       "       query                                              title  \\\n",
       "0  Hong Kong                Horrifying view of fires from space   \n",
       "1  Hong Kong  Protester shot with live round in Hong Kong as...   \n",
       "2  Hong Kong  China imposes online gaming curfew for minors ...   \n",
       "3  Hong Kong  Trump made 96 false claims last week - CNNPoli...   \n",
       "4  Hong Kong       50 best breads around the world | CNN Travel   \n",
       "\n",
       "                                                text  \\\n",
       "0  Video Image Satellite images show insane view ...   \n",
       "1  \\n Chief Executive addresses the press after c...   \n",
       "2  Hong Kong (CNN) China has announced a curfew o...   \n",
       "3  Washington (CNN) President Donald Trump was re...   \n",
       "4  (CNN) — What is bread? You likely don't have t...   \n",
       "\n",
       "                       published         site  \n",
       "0  2019-11-08T23:51:00.000+02:00  news.com.au  \n",
       "1  2019-11-11T02:00:00.000+02:00     scmp.com  \n",
       "2  2019-11-06T02:00:00.000+02:00      cnn.com  \n",
       "3  2019-10-30T20:35:00.000+02:00      cnn.com  \n",
       "4  2019-10-16T07:02:00.000+03:00      cnn.com  "
      ]
     },
     "execution_count": 75,
     "metadata": {},
     "output_type": "execute_result"
    }
   ],
   "source": [
    "df.head()"
   ]
  },
  {
   "cell_type": "code",
   "execution_count": 76,
   "metadata": {},
   "outputs": [
    {
     "name": "stdout",
     "output_type": "stream",
     "text": [
      "CPU times: user 27.5 s, sys: 7.91 s, total: 35.4 s\n",
      "Wall time: 41.5 s\n"
     ]
    }
   ],
   "source": [
    "stop_words = nlp.Defaults.stop_words\n",
    "\n",
    "%time result =  process_documents(df['text'], stop_words=stop_words)"
   ]
  },
  {
   "cell_type": "code",
   "execution_count": 83,
   "metadata": {
    "collapsed": true,
    "jupyter": {
     "outputs_hidden": true
    }
   },
   "outputs": [
    {
     "name": "stdout",
     "output_type": "stream",
     "text": [
      "(CNN) — What is bread? You likely don't have to think for long, and whether you're hungry for a slice of sourdough or craving some tortillas, what you imagine says a lot about where you're from. But if bread is easy to picture, it's hard to define. Bread historian William Rubel argues that creating a strict definition of bread is unnecessary, even counterproductive. \"Bread is basically what your culture says it is,\" says Rubel, the author of \"Bread: A Global History.\" \"It doesn't need to be made with any particular kind of flour.\" Instead, he likes to focus on what bread does: It turns staple grains such as wheat, rye or corn into durable foods that can be carried into the fields, used to feed an army or stored for winter. Even before the first agricultural societies formed around 10,000 B.C., hunter-gatherers in Jordan's Black Desert made bread with tubers and domesticated grain. Related content 50 of the world's best desserts Today, the descendants of those early breads showcase the remarkable breadth of our world's food traditions. In the rugged mountains of Germany's Westphalia region, bakers steam loaves of dense rye for up to 24 hours, while a round of Armenian lavash made from wheat turns blistered and brown after 30 seconds inside a tandoor oven. Ethiopian cooks ferment injera's ground-teff batter into a tart, bubbling brew, while the corn dough for Venezuelan arepas is patted straight onto a sizzling griddle. This list reflects that diversity. Along with memorable flavor, these breads are chosen for their unique ingredients, iconic status and the sheer, homey pleasure of eating them. In alphabetical order by location, to mark World Bread Day on October 16, here are 50 of the world's most wonderful breads. From the rich layers of Malaysian roti canai to Turkey's seed-crusted simit, they're a journey through the essence of global comfort food -- and a reminder that creativity, like bread, is a human inheritance. Bolani, Afghanistan Johannes Eisele/AFP/Getty Images Golden blisters of crisp dough speckle a perfectly made bolani, but the real treasure of Afghanistan's favorite flatbread is hidden inside. After rolling out the yeast-leavened dough into a thin sheet, Afghan bakers layer bolani with a generous filling of potatoes, spinach or lentils. Fresh herbs and scallions add bright flavor to the chewy, comforting dish, which gets a crispy crust when it's fried in shimmering-hot oil. Lavash, Armenia Shutterstock When your Armenian mother-in-law comes towards you wielding a hula hoop-sized flatbread, don't duck: Lavash is draped over the country's newlyweds to ensure a life of abundance and prosperity. Maybe that's because making lavash takes friends. To shape the traditional breads, groups of women gather to roll and stretch dough across a cushion padded with hay or wool. It takes a practiced hand to slap the enormous sheets onto the inside of conical clay ovens, where they bake quickly in the intense heat. The bread is so central to Armenia's culture it's been designated UNESCO Intangible Heritage . Damper bread, Australia Alamy A traveler's staple suited to life on the road, damper recalls Australia's frontier days. It's a simple blend of water, flour and salt that can be cooked directly in the ashes, pressed into a cast iron pan or even toasted at the end of a stick. These days, recipes often include some chemical leavening, butter and milk, turning the hearty backwoods fare into a more refined treat similar to Irish soda bread. Luchi, Bangladesh Shutterstock A dunk in hot oil turns soft wheat dough into a blistered, golden flatbread that's a perfect pairing with the country's aromatic curries. It's a popular choice for breakfast in Bangladesh, often served with white potato curry, but you can find the puffy breads everywhere from Dhaka sidewalk stalls to home kitchens. Pão de queijo, Brazil Shutterstock It's a triumph of kitchen ingenuity that South America's native cassava is eaten at all: The starchy root has enough naturally occurring cyanide to kill a human being. But by carefully treating cassava with a cycle of soaking, pressing and drying, many of the continent's indigenous groups found a way to turn the root into an unlikely culinary star. Now, it's the base for one of Brazil's most snackable treats, a cheesy bread roll whose crisp crust gives way to a tender, lightly sour interior. Related content World's 50 most delicious drinks Montreal bagels, Canada Alamy The fire is always lit at Montreal's Fairmount Bagel , which became the city's first bagel bakery when it opened in 1919 under the name Montreal Bagel Bakery. Inside, bakers use long, slender wooden paddles to slide rows of bagels into the wood-fired oven, where they toast to a deep golden color. New Yorkers might think they have a monopoly on bagels, but the Montreal version is an entirely different delicacy. Here, bagel dough is mixed with egg and honey, and the hand-shaped rings are boiled in honey water before baking. The result is dense, chewy and lightly sweet, and you can buy them hot from the oven 24 hours a day. Marraqueta, Chile Shutterstock An influx of European immigrants brought their wheat-bread traditions to Chile in the 19th and early 20th centuries, and the country's favorite snack has descended from that cultural collision. Split into four lobes, the marraqueta has a pale, fluffy interior, but the ubiquitous roll is all about the crust. Bakers slide a pan of water into the oven to achieve an addictively crispy exterior that is a favorite part of the marraqueta for many Chileans. It's a nourishing part of daily life, to the extent that when a Chilean wants to describe a child born to a life of plenty, they might say \"nació con la marraqueta bajo el brazo,\" or \"they were born with a marraqueta under their arm.\" Shaobing, China Shutterstock Crack into the sesame-seed crust of a shaobing to reveal tender layers that are rich with wheat flavor. Expert shaobing bakers whirl and slap the dough so thin that the finished product has 18 or more layers. The north Chinese flatbread can then be spiked with sweet or savory fillings, from black sesame paste to smoked meat or Sichuan pepper. Pan Cubano, Cuba Shutterstock Melted lard lends a hint of savory flavor to loaves of pan Cubano, whose fluffy crumb offers a tender contrast to the crisp, cracker-like crust. Duck into a Cuban bakery, and you'll likely spot the long, golden loaf with a pale seam down the center: Some bakers press a stripped palmetto leaf into the dough before baking to create a distinctive crack along the length of the bread. It's popular from Havana to Miami, but it's only stateside that you'll find the loaves in \"Cuban sandwiches,\" which are thought to have been invented during the 19th century by Cubans living in Florida. Libba, Egypt Jen Rose Smith Bedouin tribes travel light in Egypt's vast deserts, carrying sacks of wheat flour to make each day's bread in the campfire. While some Bedouin breads are baked on hot metal sheets, libba is slapped directly into the embers. That powerful heat sears a crisp, browned crust onto the soft dough, leaving the inside steaming and moist. Related content World's best Restaurant Awards Pupusas, El Salvador Lane Turner/The Boston Globe/Getty Images Walk the streets of San Salvador, and you'll never be far from the toasted-corn scent of cooking pupusas. The griddled corn bread is both a beloved snack and a national icon. To make pupusas, a cook wraps a filling of cheese, pork or spiced beans into tender corn dough, then pats the mixture onto a blazing-hot griddle. A bright topping of slaw-like curtido cuts through the fat and salt for a satisfying meal. It's a flavor that's endured through the centuries. At the UNESCO-listed site of Joya de Cerén , a Maya city buried by an erupting volcano, archaeologists have found cooking tools like those used to make pupusas that date to around 600 A.D. Injera, Ethiopia Alamy A constellation of bubbles pocks injera's spongy surface, making this Ethiopian bread the perfect foil for the country's rich sauces and stews. Also beloved in neighboring Eritrea and Somalia, injera is both a mealtime staple and the ultimate utensil -- tear off tender pieces of moist, rolled-up bread to scoop food served on a communal platter. Made from an ancient -- and ultra-nutritious -- grain called teff, injera has a characteristically sour taste. It's the result of a fermentation process that starts by blending fresh batter with cultures from a previous batch, then leaving the mixture to grow more flavorful over several days. Baguette, France Enrico Spanu/REDA&CO/UIG/Getty Images The French may frown on eating on the go, but there's an unofficial exception for \"le quignon,\" the crisp-baked end of a slender baguette. You're allowed to break that off and munch it as you walk down the street -- perhaps because the baguette has pride of place as a symbol of French culture. But like some of the greatest traditions, the baguette is a relatively recent invention. According to Paris food historian Jim Chevallier , long, narrow breads similar to modern baguettes gained prominence in the 19th century, and the first official mention is in a 1920 price list. (French President Emmanuel Macron nonetheless argues that the baguette deserves UNESCO status .) Khachapuri, Georgia Shutterstock Bubbling with fresh imeruli and sulguni cheeses, khachapuri might be the country of Georgia's most beloved snack. The savory flatbread starts with soft, yeasted dough that's pinched into a boat-shaped cradle, then baked with a generous filling of egg and cheese. An elongated shape maximizes the contrast in texture, from the tender interior to crisp, brown tips. Khachapuri experts know to break off the ends for swabbing in the rich, oozing filling. It's such a key feature of Georgian cuisine that the Khachapuri Index is one measure of the country's economic welfare; and in 2019, the country's National Agency for Cultural Heritage Preservation named traditional khachapuri as UNESCO Intangible Heritage of Georgia. Pumpernickel, Germany Shutterstock Pure rye flour lends these iconic north German loaves impressive heft, along with a distinctive, mahogany hue. The most traditional versions are baked in a warm, steamy oven for up to 24 hours. It's an unusual technique that helps transform sugars in the rye flour, turning naturally occurring sweetness into depth of flavor. Pumpernickel has been a specialty in Germany's Westphalia region for hundreds of years, and there's even a family-owned bakery in the town of Soest that's made the hearty bread using the same recipe since 1570. Pai bao, Hong Kong Shutterstock Hong Kong bakers outdo each other by crafting the softest, fluffiest breads imaginable, turning wheat flour into pillowy confections. Pai bao might be loftier than all the rest, thanks to a technique known as the Tangzhong method. When mixing the wheat dough, bakers add a small amount of cooked flour and water to the rest of the ingredients, a minor change with major impact on the bread's structural development. The results? A wonderfully tender loaf that retains moisture for days, with a milky flavor that invites snacking out of hand. Dökkt rúgbrauð, Iceland Alamy The simmering, geothermal heat that powers Iceland's geysers, hot springs and steam vents also provides a natural oven for this slow-baked Icelandic rye bread. Made with dark rye flour, the dough is enclosed in a metal pot before it's buried in the warm ground near geothermal springs and other hotspots. When baked in the traditional method, dökkt rúgbrauð takes a full 24 hours to cook in the subterranean \"oven.\" It's an ingenious use of an explosive natural resource, and in the hot-springs town of Laugarvatn, visitors can try loaves of dökkt rúgbrauð when it's fresh from a hole in the black sand. Paratha, India Stuart Freedman/Corbis/Getty Images Flatbreads go wonderfully flaky in this whole-wheat Indian treat, which can be eaten plain or studded with savory fillings. Folding and rolling the dough over thinly spread fat creates sumptuous layers that are rich with flavor, employing a technique similar to that used for croissants or puff pastry. Stuffed wheat bread has been made in India for hundreds of years, and several varieties even get a shout-out in the \"Manasollasa,\" a 12th-century Sanskrit text that contains some of the earliest written descriptions of the region's food. Roti gambang, Indonesia Shutterstock Palm sugar and cinnamon lend a light, aromatic sweetness to roti gambang, a tender wheat bread that's an old-fashioned favorite at Jakarta bakeries. The name evokes the gambang, a traditional Indonesian instrument with a resemblance to the slender, brown loaves. For the recipe, though, cooks look back to the colonial era: From spiced holiday cookies to cheese sticks topped with Gouda or Edam, Indonesian baking has adapted Dutch ingredients and techniques to local tastes. Sangak, Iran Behrouz Mehri/AFP/Getty Images It takes a pair of deft bakers to craft this addictive Iranian flatbread, which is cooked directly on a bed of hot pebbles. That blazing-hot surface pocks the wheat dough with golden blisters, and it gives sangak -- also known as nan-e sangak -- a characteristic chewiness. If you're lucky enough to taste sangak hot from the oven, enjoy a heavenly contrast of crisp crust and tender crumb. Eat the flatbread on its own, or turn it into an Iranian-style breakfast: Use a piece of sangak to wrap salty cheese and a bundle of aromatic green herbs. Soda bread, Ireland Shutterstock You don't need yeast to get lofty bread: Chemical leavening can add air through an explosive combination of acidic and basic ingredients. While Native Americans used refined potash to leaven griddled breads -- an early example of chemical leavening -- this version became popular during the lean years of the Irish Potato Famine. With potato crops failing, impoverished Irish started mixing loaves using soft wheat flour, sour milk and baking soda. Now, dense loaves of soda bread are a nostalgic treat that's a perfect pairing with salted Irish butter. Challah, Israel Shutterstock If you think challah is limited to pillowy, braided loaves, think again -- traditionally, challah is any bread used in Jewish ritual. And Jewish bakers have long made breads as diverse as the diaspora itself: Think blistered flatbreads, hearty European loaves and Hungarian confections dotted with poppy seeds. Israel's modern-day bakers draw on that rich heritage. But on Friday afternoons in Tel Aviv, you'll still spot plenty of the classic Ashkenazi versions that many people in the United States know as challah. Those golden loaves are tender with eggs, and shiny under a generous glaze. It's the braid, though, that catches the eye. By wrapping dough strands together, bakers create twelve distinctive mounds said to represent twelve loaves in the ancient Temple of Jerusalem. Ciabatta, Italy Bruce Bisping/Star Tribune/Getty Images Between an emphasis on \"ancient grains\" and centuries of floury traditions, it can seem like breadmaking is stuck in the past. But bread is continually evolving, and there's no better example than this iconic Italian loaf, which was only invented in the 1980s. In 1982, Italian baker Arnaldo Cavallari created the low, chewy loaf in defiance of the baguette-style breads he saw taking over Roman bakeries. It was a watershed moment in the comeback of artisanal breads, which has roots in the 1960s and 1970s backlash against the increasingly industrialized food system. Bammy bread, Jamaica Shutterstock Pan-fried cassava cakes are delicious comfort food in Jamaica, where rounds of bammy bread are a hearty pairing for the island's ultra-fresh seafood. The traditional process for making bammy bread starts with processing grated cassava to get rid of naturally occurring cyanide; next, sifted cassava pulp is pressed into metal rings. It's a recipe with ancient roots -- cassava has been a staple in South America and the Caribbean since long before the arrival of Europeans here, and it's believed that the native Arawak people used the root to make flatbreads as well. Kare pan, Japan Shutterstock Yeasted wheat dough makes a convenient package for Japanese curry, turning a sit-down meal into a snack that can be eaten out of hand. Kare pan, or curry bread, is rolled in panko before a dunk in the deep fryer, ensuring a crispy crust that provides maximum textural contrast with the soft, saucy interior. Kare pan is so beloved that there's even a crime-fighting superhero named for the savory treat: A star of the anime series \"Soreike! Anpanman,\" Karepanman fights villains by shooting out a burning-hot curry filling. Taboon bread, Jordan Shutterstock Follow the aroma of baking bread in Amman, and you'll find bakers in roadside stalls stacking this classic flatbread into steaming piles. When shaping taboon, bakers press rounds of soft, wheat dough over a convex form, then slap them onto the interior of a conical clay oven. What emerges is a chewy round that's crackling with steam, wafting a rich smell of grain and smoke. It's the ideal foil for a plate of Jordanian mouttabal, a roasted eggplant dip that's blended with ground sesame seeds and yogurt. Roti canai, Malaysia Alamy Roti flatbread may have arrived in Malaysia with Indian immigrants, but the country's made the flaky, rich bread their own. When cooked on a hot griddle, roti canai puffs into a stack of overlapping layers rich with buttery flavor. Irresistible when served with Malaysian dips and curries, roti canai becomes a meal all its own with the addition of stuffings from sweet, ripe bananas to fried eggs. Ħobż tal-Malti, Malta Shutterstock The tawny crust of Malta's sourdough gives way to a pillow-soft interior, ideal for rubbing with a fresh tomato or soaking up the islands' prized olive oils. Classic versions take more than a day to prepare, and were traditionally baked in shared, wood-fired ovens that served as community gathering places. Even now that few Maltese bake their own bread, Ħobż tal-Malti has a powerful symbolism for the Mediterranean island nation. When trying to discover someone's true nature, a Maltese person might ask \"x'ħobz jiekol dan?,\" literally, \"what kind of bread does he eat?\" Tortillas, Mexico Lisa Cherkasky for The Washington Post/Getty Images Thin rounds of corn dough turn blistered and brown on a hot comal, the traditional griddles that have been used in Mexico since at least 700 B.C. Whether folded into a taco or eaten out of hand, corn tortillas are one of the country's most universally loved foods. The ground-corn dough is deceptively simple; made from just a few ingredients, it's nonetheless a triumph of culinary ingenuity. Before being ground, the corn is mixed with an alkaline ingredient such as lime, a process called nixtamalization that makes the grain more nutritious and easier to digest. Khobz kesra, Morocco Bartosz Luczak/iStockphoto/Getty Images Follow the rich scent of baking bread through a Moroccan medina, and you may find yourself at one of the communal neighborhood ovens called ferran. This is where locals bring rounds of tender wheat dough ready to bake into khobz kesra, one of the country's homiest breads. The low, rounded loaves have a slightly crisp exterior that earns them pride of place on the Moroccan table, where their fluffy texture is ideal for absorbing aromatic tajine sauce. Fry bread, Navajo Nation Luke E. Montavon/AFP/Getty Images Golden, crisp rounds of fry bread are a taste of home for many in the Navajo Nation, as well as a reminder of a tragic history. When Navajo people were forced out of their Arizona lands by the US government in 1864, they resettled in New Mexican landscapes where growing traditional crops of beans and vegetables proved difficult. To survive, they used government-provided stores of white flour, lard and sugar, creating fry bread out of stark necessity. Now, fry bread is a symbol of perseverance and tradition, and a favorite treat everywhere from powwows to family gatherings. Tijgerbrood, Netherlands Shutterstock Putting the \"Dutch\" in Dutch crunch, tijgerbrood is a crust-lover's masterpiece in every crispy bite. To create the mottled top of tijgerbrood, bakers spread unbaked loaves of white bread with a soft mixture of rice flour, sesame oil, water and yeast. Heat transforms the exterior into a crispy pattern of snackable pieces, and loaves of tijgerbrood are beloved for sandwiches. (An ocean away from Amsterdam's Old World bakeries, San Francisco has made Dutch crunch its sandwich bread of choice as well.) Rēwena parāoa, New Zealand Shutterstock When European settlers brought potatoes and wheat to New Zealand, indigenous Maori people made the imported ingredients their own with this innovative bread. To mix the dough, potatoes are boiled then fermented into a sourdough-like starter that gives the finished bread a sweet-and-sour taste. Now, rēwena parāoa is a favorite treat when layered with butter and jam or served with a hearty portion of raw fish, a longtime delicacy for Maori people. Lefse, Norway Shutterstock If you don't think of northern Europe as flatbread country, you haven't tasted lefse. The Norwegian potato flatbread is a favorite at holidays, when there are many hands to roll the soft dough with a grooved pin, then cook it on a hot griddle. For a taste of Norwegian comfort food, eat a warm lefse spiraled with butter, sugar and a dash of cinnamon. While potatoes are just an 18th-century addition to the Norwegian diet, Scandinavian flatbread is at least as old as the Vikings. Podplomyk, Poland Shutterstock Slather a hot round of podplomyk with white cheese and fruit preserves for a taste of old-fashioned, Polish home cooking. The unyeasted flatbread is blistered brown. With ingredients limited to wheat flour, salt and water, podplomyk is a deliciously simple entry in the sprawling family tree of flatbreads. Since dough for podplomyk is rolled thin, it was traditionally baked before other loaves are ready for the oven. In the Middle Ages, the portable breads were shared with neighbors and household members as a sign of friendship. (Today, that tradition is carried on with the exchange of oplatek wafers at Christmastime.) Broa de milho, Portugal Shutterstock Corn and buckwheat are stone-milled, sifted and kneaded in a wooden trough for the most traditional version of this hearty peasant bread from northern Portugal. When the loaves are baked in wood-fired, stone ovens, an archipelago of floury crust shards expands over deep cracks. The ovens themselves are sealed with bread dough, which acts as a natural oven timer: The bread is ready when the dough strips turn toasty brown. Europeans didn't taste corn until they arrived in the Americas, but it would be eagerly adopted in northern Portuguese regions where soil conditions are poorly suited to growing wheat. Karavai, Russia Shutterstock Bread baking becomes art on Russian holidays, when golden loaves of karavai are decked in dough flowers, animals and swirls. The bread plays a starring role at weddings, with elaborate rules to govern the baking process: Traditionally, a happily married woman must mix the dough, and a married man slides the round loaf into the oven. Even the round shape has an ancient symbolism and is thought to date back to ancient sun worship. Now, it's baked to ensure health and prosperity for a new couple. Pane carasau, Sardinia Shutterstock Once part of the Kingdom of Piedmont-Sardinia, this mountainous island's cuisine remains distinct from mainland Italy. Among the most iconic foods here is pane carasau, parchment-thin flatbread with a melodic nickname: carta de musica, or sheet music. While pane carasau starts like a classic flatbread, there's a Sardinian twist that makes it an ideal traveling companion; after the flatbreads puff up in the oven, they're sliced horizontally into two thinner pieces. Those pieces are baked a second time, drying out the bread enough to last for months. Proja, Serbia Shutterstock Warm squares of Serbian proja, or cornbread, are a favorite accompaniment to the country's lush meat stews. It's a homey dish that's often cooked fresh for family meals, then served hot from the oven. Ground corn offers a lightly sweet foil to salty toppings, from salty kajmak cheese to a scattering of cracklings. Gyeran-ppang, South Korea Shutterstock There's buried treasure within every loaf of gyeran-ppang, individually sized wheat breads with a whole egg baked inside. Translating simply to \"egg bread,\" gyeran-ppang is a favorite in the streets of Seoul, eaten hot for breakfast -- or at any other time of day. The addition of ham, cheese and chopped parsley adds a savory twist to the sweet-and-salty treat, a belly-warming snack that keeps South Korea fueled through the country's long winters. Appam, Sri Lanka Shutterstock A thin, fermented batter of rice flour and coconut milk turns crisp in the bowl-shaped pans used for cooking appam, one of Sri Lanka's most ubiquitous treats. Often called hoppers, this whisper-thin pancake is best eaten hot -- preferably while standing around a Colombo street food stall. Favorite toppings for appam in Sri Lanka include coconut sambal and chicken curry, or you can order one with egg. For egg hoppers, a whole egg is cracked into the center of an appam, then topped with a richly aromatic chili paste. Appam is also popular in southern India. Kisra, Sudan and South Sudan Alamy Overnight fermentation lends a delicious tang to this Sudanese flatbread, balancing the mild, earthy flavor of sorghum flour with a tart bite. Making the crepe-like kisra takes practice and patience, but perfect the art of cooking these on a flat metal pan and you'll be in for a classic Sudanese treat. Like Ethiopian injera, kisra is both staple food and an edible utensil -- use pieces of the spongy bread to scoop up spicy bites of the hearty stews that are some of Sudan's most beloved foods. Limpa bread, Sweden Alamy Before commercial yeast was available, brewers and bakers worked in tandem: Brewers harvested yeast from their batches of beer, passing it off to bakers whose bread would be infused with a light beer flavor. That legacy lives on in Sweden's vörtlimpa: Limpa means loaf, while vört refers to a tart dose of brewer's wort. Known as limpa bread in English, the light rye now gets acidity from orange juice, not brewers wort. Balep korkun, Tibet Alamy Crops of cold-hardy barley have thrived on the Tibetan Plateau for thousands of years, and the grain has long been a staple of high-altitude diets there. While balep korkun is often made with wheat, traditional versions of this flatbread are shaped from tsampa, a roasted barley flour with nutty flavor. That rich-tasting flour is so central to Tibetan identity that it's been turned into a hashtag and been called out in rap songs . (The Dalai Lama even eats it for breakfast. ) Simit, Turkey VW Pics/UIG/Getty Images Dredged in sesame seeds and spiraled into rings, simit might be Turkey's ultimate on-the-go treat. A few decades ago, vendors wound through the Istanbul streets carrying trays piled high with the breads, but roving bread-sellers are now rare in the capital. Instead, commuters pick up their daily simit at roadside stands, where the deep-colored rings are stacked by the dozen. A burnished crust infuses the breads with a light sweetness -- before sliding into wood fired ovens, simit is dunked in sugar-water or thinned molasses, a slick glaze that turns to caramel in the intense heat. Crumpets, United Kingdom Shutterstock Yeasted wheat batter bubbles into a spongy cake for this griddled treat, a British favorite when smeared with jam, butter or clotted cream. Ring molds contain the pourable batter on an oiled griddle, which cooks one side of each crumpet to a golden hue. Like Eastern European zwieback and crisp rusks, crumpets are mostly eaten as a twice-baked bread -- the rounds are split and toasted before serving. Biscuits, United States Dixie D. Vereen/For The Washington Post/Getty Images Smeared with butter or dripping in gravy, biscuits are one of the United States' homiest tastes. That's not to say they're easy to make: Achieving soft, fluffy biscuits requires quick hands and gentle mixing. In the antebellum South, biscuits were seen as a special treat for Sunday dinner. These days they're nearly ubiquitous, from gas station barbecue joints to home-cooked meals. Part of the secret is in the flour, typically a low-protein flour like White Lily. The soft wheat used for White Lily was long grown in Southern states -- before long-distance food shipping. (It's now milled in the Midwest.) Non, Uzbekistan Shutterstock Flatbreads become art in Uzbekistan's traditional tandoor ovens, which turn out rounds adorned with twists, swirls and stamps. Uzbek non varies across regions, from Tashkent's chewy versions to Samarkand loaves showered in black nigella seeds. As soon as the breads emerge from the oven, they're turned over to a swarm of bicycle messengers who ferry the hot loaves to markets and cafes. Arepa, Venezuela Shutterstock Areperos -- Venezuelan arepa-makers -- pat golden rounds of corn dough onto hot griddles to give the plump flatbreads a deliciously toasted crust and tender, steaming interior. Arepas have been made in Venezuela and surrounding regions since long before the arrival of Europeans in South America, and the nourishing corn breads can range from simple to elaborate. At breakfast, try them split and buttered. Stuffed with savory fillings, creamy sauces and fiery salsa, arepas can become a hearty meal all their own. Malawach, Yemen Shutterstock A family tree of flatbreads stretches across the Middle East and beyond, but Yemen's Jewish community's version is a richer treat than most. To make malawach, bakers roll wheat dough into a delicate sheet and fold it over a slick of melted butter. The dough is twisted into a loose topknot, then re-rolled, sending veins of butter through overlapping layers. When the pan-fried dough emerges steaming from the stovetop, a final shower of black nigella or sesame seeds add texture and savory crunch.\n"
     ]
    }
   ],
   "source": [
    "print(df.loc[4,'text'])"
   ]
  },
  {
   "cell_type": "code",
   "execution_count": 84,
   "metadata": {
    "collapsed": true,
    "jupyter": {
     "outputs_hidden": true
    }
   },
   "outputs": [
    {
     "name": "stdout",
     "output_type": "stream",
     "text": [
      "['cnn', 'bread', '-pron-', 'likely', 'think', 'long', '-pron-', 'hungry', 'slice', 'sourdough', 'crave', 'tortilla', '-pron-', 'imagine', 'lot', '-pron-', 'bread', 'easy', 'picture', '-pron-', 'hard', 'define', 'bread', 'historian', 'william', 'rubel', 'argue', 'create', 'strict', 'definition', 'bread', 'unnecessary', 'counterproductive', 'bread', 'basically', '-pron-', 'culture', '-pron-', 'rubel', 'author', 'bread', 'global', 'history', '-pron-', 'need', 'particular', 'kind', 'flour', 'instead', '-pron-', 'like', 'focus', 'bread', '-pron-', 'turn', 'staple', 'grain', 'wheat', 'rye', 'corn', 'durable', 'food', 'carry', 'field', 'use', 'feed', 'army', 'store', 'winter', 'agricultural', 'society', 'form', 'hunter', 'gatherer', 'jordan', 'black', 'desert', 'bread', 'tuber', 'domesticated', 'grain', 'relate', 'content', 'world', 'good', 'dessert', 'today', 'descendant', 'early', 'breads', 'showcase', 'remarkable', 'breadth', '-pron-', 'world', 'food', 'tradition', 'rugged', 'mountain', 'germany', 'westphalia', 'region', 'baker', 'steam', 'loaf', 'dense', 'rye', 'hour', 'round', 'armenian', 'lavash', 'wheat', 'turn', 'blistered', 'brown', 'second', 'inside', 'tandoor', 'oven', 'ethiopian', 'cook', 'ferment', 'injera', 'ground', 'teff', 'batter', 'tart', 'bubble', 'brew', 'corn', 'dough', 'venezuelan', 'arepa', 'pat', 'straight', 'sizzling', 'griddle', 'list', 'reflect', 'diversity', 'memorable', 'flavor', 'bread', 'choose', '-pron-', 'unique', 'ingredient', 'iconic', 'status', 'sheer', 'homey', 'pleasure', 'eat', '-pron-', 'alphabetical', 'order', 'location', 'mark', 'world', 'bread', 'day', 'october', 'world', 'wonderful', 'bread', 'rich', 'layer', 'malaysian', 'roti', 'canai', 'turkey', 'seed', 'crust', 'simit', '-pron-', 'journey', 'essence', 'global', 'comfort', 'food', 'reminder', 'creativity', 'like', 'bread', 'human', 'inheritance', 'bolani', 'afghanistan', 'johannes', 'eisele', 'afp', 'getty', 'images', 'golden', 'blister', 'crisp', 'dough', 'speckle', 'perfectly', 'bolani', 'real', 'treasure', 'afghanistan', 'favorite', 'flatbread', 'hide', 'inside', 'roll', 'yeast', 'leaven', 'dough', 'thin', 'sheet', 'afghan', 'baker', 'layer', 'bolani', 'generous', 'filling', 'potato', 'spinach', 'lentil', 'fresh', 'herb', 'scallion', 'add', 'bright', 'flavor', 'chewy', 'comfort', 'dish', 'crispy', 'crust', '-pron-', 'fry', 'shimmering', 'hot', 'oil', 'lavash', 'armenia', 'shutterstock', '-pron-', 'armenian', 'mother', 'law', 'come', '-pron-', 'wield', 'hula', 'hoop', 'sized', 'flatbread', 'duck', 'lavash', 'drape', 'country', 'newlywed', 'ensure', 'life', 'abundance', 'prosperity', 'maybe', 'lavash', 'friend', 'shape', 'traditional', 'bread', 'group', 'woman', 'gather', 'roll', 'stretch', 'dough', 'cushion', 'pad', 'hay', 'wool', '-pron-', 'practice', 'hand', 'slap', 'enormous', 'sheet', 'inside', 'conical', 'clay', 'oven', '-pron-', 'bake', 'quickly', 'intense', 'heat', 'bread', 'central', 'armenia', 'culture', '-pron-', 'designate', 'unesco', 'intangible', 'heritage', 'damper', 'bread', 'australia', 'alamy', 'traveler', 'staple', 'suit', 'life', 'road', 'damper', 'recall', 'australia', 'frontier', 'day', '-pron-', 'simple', 'blend', 'water', 'flour', 'salt', 'cook', 'directly', 'ashe', 'press', 'cast', 'iron', 'pan', 'toast', 'end', 'stick', 'day', 'recipe', 'include', 'chemical', 'leavening', 'butter', 'milk', 'turn', 'hearty', 'backwood', 'fare', 'refined', 'treat', 'similar', 'irish', 'soda', 'bread', 'luchi', 'bangladesh', 'shutterstock', 'dunk', 'hot', 'oil', 'turn', 'soft', 'wheat', 'dough', 'blistered', 'golden', 'flatbread', 'perfect', 'pairing', 'country', 'aromatic', 'curry', '-pron-', 'popular', 'choice', 'breakfast', 'bangladesh', 'serve', 'white', 'potato', 'curry', '-pron-', 'find', 'puffy', 'bread', 'dhaka', 'sidewalk', 'stall', 'home', 'kitchen', 'pão', 'de', 'queijo', 'brazil', 'shutterstock', '-pron-', 'triumph', 'kitchen', 'ingenuity', 'south', 'america', 'native', 'cassava', 'eat', 'starchy', 'root', 'naturally', 'occur', 'cyanide', 'kill', 'human', 'carefully', 'treat', 'cassava', 'cycle', 'soaking', 'press', 'drying', 'continent', 'indigenous', 'group', 'find', 'way', 'turn', 'root', 'unlikely', 'culinary', 'star', '-pron-', 'base', 'brazil', 'snackable', 'treat', 'cheesy', 'bread', 'roll', 'crisp', 'crust', 'way', 'tender', 'lightly', 'sour', 'interior', 'related', 'content', 'world', 'delicious', 'drink', 'montreal', 'bagel', 'canada', 'alamy', 'fire', 'light', 'montreal', 'fairmount', 'bagel', 'city', 'bagel', 'bakery', '-pron-', 'open', 'montreal', 'bagel', 'bakery', 'inside', 'baker', 'use', 'long', 'slender', 'wooden', 'paddle', 'slide', 'row', 'bagel', 'wood', 'fire', 'oven', '-pron-', 'toast', 'deep', 'golden', 'color', 'new', 'yorkers', 'think', '-pron-', 'monopoly', 'bagel', 'montreal', 'version', 'entirely', 'different', 'delicacy', 'bagel', 'dough', 'mixed', 'egg', 'honey', 'hand', 'shape', 'ring', 'boil', 'honey', 'water', 'baking', 'result', 'dense', 'chewy', 'lightly', 'sweet', '-pron-', 'buy', '-pron-', 'hot', 'oven', 'hour', 'day', 'marraqueta', 'chile', 'shutterstock', 'influx', 'european', 'immigrant', 'bring', '-pron-', 'wheat', 'bread', 'tradition', 'chile', 'early', 'century', 'country', 'favorite', 'snack', 'descend', 'cultural', 'collision', 'split', 'lobe', 'marraqueta', 'pale', 'fluffy', 'interior', 'ubiquitous', 'roll', 'crust', 'baker', 'slide', 'pan', 'water', 'oven', 'achieve', 'addictively', 'crispy', 'exterior', 'favorite', 'marraqueta', 'chileans', '-pron-', 'nourishing', 'daily', 'life', 'extent', 'chilean', 'want', 'describe', 'child', 'bear', 'life', 'plenty', '-pron-', 'nació', 'con', 'la', 'marraqueta', 'bajo', 'el', 'brazo', '-pron-', 'bear', 'marraqueta', '-pron-', 'arm', 'shaobing', 'china', 'shutterstock', 'crack', 'sesame', 'seed', 'crust', 'shaobing', 'reveal', 'tender', 'layer', 'rich', 'wheat', 'flavor', 'expert', 'shaobe', 'baker', 'whirl', 'slap', 'dough', 'thin', 'finished', 'product', 'layer', 'north', 'chinese', 'flatbread', 'spike', 'sweet', 'savory', 'filling', 'black', 'sesame', 'paste', 'smoke', 'meat', 'sichuan', 'pepper', 'pan', 'cubano', 'cuba', 'shutterstock', 'melt', 'lard', 'lend', 'hint', 'savory', 'flavor', 'loaf', 'pan', 'cubano', 'fluffy', 'crumb', 'offer', 'tender', 'contrast', 'crisp', 'cracker', 'like', 'crust', 'duck', 'cuban', 'bakery', '-pron-', 'likely', 'spot', 'long', 'golden', 'loaf', 'pale', 'seam', 'center', 'baker', 'press', 'strip', 'palmetto', 'leaf', 'dough', 'bake', 'create', 'distinctive', 'crack', 'length', 'bread', '-pron-', 'popular', 'havana', 'miami', '-pron-', 'stateside', '-pron-', 'find', 'loaf', 'cuban', 'sandwich', 'think', 'invent', 'century', 'cubans', 'live', 'florida', 'libba', 'egypt', 'jen', 'rose', 'smith', 'bedouin', 'tribe', 'travel', 'light', 'egypt', 'vast', 'desert', 'carry', 'sack', 'wheat', 'flour', 'day', 'bread', 'campfire', 'bedouin', 'bread', 'bake', 'hot', 'metal', 'sheet', 'libba', 'slap', 'directly', 'ember', 'powerful', 'heat', 'sear', 'crisp', 'browned', 'crust', 'soft', 'dough', 'leave', 'inside', 'steaming', 'moist', 'related', 'content', 'world', 'good', 'restaurant', 'awards', 'pupusas', 'el', 'salvador', 'lane', 'turner', 'boston', 'globe', 'getty', 'images', 'walk', 'street', 'san', 'salvador', '-pron-', 'far', 'toast', 'corn', 'scent', 'cook', 'pupusas', 'griddled', 'corn', 'bread', 'beloved', 'snack', 'national', 'icon', 'pupusa', 'cook', 'wrap', 'filling', 'cheese', 'pork', 'spiced', 'bean', 'tender', 'corn', 'dough', 'pat', 'mixture', 'blaze', 'hot', 'griddle', 'bright', 'topping', 'slaw', 'like', 'curtido', 'cut', 'fat', 'salt', 'satisfying', 'meal', '-pron-', 'flavor', 'endure', 'century', 'unesco', 'list', 'site', 'joya', 'de', 'cerén', 'maya', 'city', 'bury', 'erupt', 'volcano', 'archaeologist', 'find', 'cooking', 'tool', 'like', 'use', 'pupusa', 'date', 'injera', 'ethiopia', 'alamy', 'constellation', 'bubble', 'pock', 'injera', 'spongy', 'surface', 'ethiopian', 'bread', 'perfect', 'foil', 'country', 'rich', 'sauce', 'stew', 'beloved', 'neighbor', 'eritrea', 'somalia', 'injera', 'mealtime', 'staple', 'ultimate', 'utensil', 'tear', 'tender', 'piece', 'moist', 'roll', 'bread', 'scoop', 'food', 'serve', 'communal', 'platter', 'ancient', 'ultra', 'nutritious', 'grain', 'teff', 'injera', 'characteristically', 'sour', 'taste', '-pron-', 'result', 'fermentation', 'process', 'start', 'blend', 'fresh', 'batter', 'culture', 'previous', 'batch', 'leave', 'mixture', 'grow', 'flavorful', 'day', 'baguette', 'france', 'enrico', 'spanu', 'uig', 'getty', 'images', 'french', 'frown', 'eat', 'unofficial', 'exception', 'le', 'quignon', 'crisp', 'baked', 'end', 'slender', 'baguette', '-pron-', 'allow', 'break', 'munch', '-pron-', '-pron-', 'walk', 'street', 'baguette', 'pride', 'place', 'symbol', 'french', 'culture', 'like', 'great', 'tradition', 'baguette', 'relatively', 'recent', 'invention', 'accord', 'paris', 'food', 'historian', 'jim', 'chevallier', 'long', 'narrow', 'bread', 'similar', 'modern', 'baguette', 'gain', 'prominence', 'century', 'official', 'mention', 'price', 'list', 'french', 'president', 'emmanuel', 'macron', 'nonetheless', 'argue', 'baguette', 'deserve', 'unesco', 'status', 'khachapuri', 'georgia', 'shutterstock', 'bubble', 'fresh', 'imeruli', 'sulguni', 'cheese', 'khachapuri', 'country', 'georgia', 'beloved', 'snack', 'savory', 'flatbread', 'start', 'soft', 'yeaste', 'dough', 'pinch', 'boat', 'shape', 'cradle', 'bake', 'generous', 'filling', 'egg', 'cheese', 'elongated', 'shape', 'maximize', 'contrast', 'texture', 'tender', 'interior', 'crisp', 'brown', 'tip', 'khachapuri', 'expert', 'know', 'break', 'end', 'swab', 'rich', 'ooze', 'filling', '-pron-', 'key', 'feature', 'georgian', 'cuisine', 'khachapuri', 'index', 'measure', 'country', 'economic', 'welfare', 'country', 'national', 'agency', 'cultural', 'heritage', 'preservation', 'traditional', 'khachapuri', 'unesco', 'intangible', 'heritage', 'georgia', 'pumpernickel', 'germany', 'shutterstock', 'pure', 'rye', 'flour', 'lend', 'iconic', 'north', 'german', 'loaf', 'impressive', 'heft', 'distinctive', 'mahogany', 'hue', 'traditional', 'version', 'bake', 'warm', 'steamy', 'oven', 'hour', '-pron-', 'unusual', 'technique', 'help', 'transform', 'sugar', 'rye', 'flour', 'turn', 'naturally', 'occur', 'sweetness', 'depth', 'flavor', 'pumpernickel', 'specialty', 'germany', 'westphalia', 'region', 'year', 'family', 'bakery', 'town', 'soest', 'hearty', 'bread', 'use', 'recipe', 'pai', 'bao', 'hong', 'kong', 'shutterstock', 'hong', 'kong', 'baker', 'outdo', 'craft', 'soft', 'fluffy', 'breads', 'imaginable', 'turn', 'wheat', 'flour', 'pillowy', 'confection', 'pai', 'bao', 'loftier', 'rest', 'thank', 'technique', 'know', 'tangzhong', 'method', 'mix', 'wheat', 'dough', 'baker', 'add', 'small', 'cooked', 'flour', 'water', 'rest', 'ingredient', 'minor', 'change', 'major', 'impact', 'bread', 'structural', 'development', 'result', 'wonderfully', 'tender', 'loaf', 'retain', 'moisture', 'day', 'milky', 'flavor', 'invite', 'snack', 'hand', 'dökkt', 'rúgbrauð', 'iceland', 'alamy', 'simmering', 'geothermal', 'heat', 'power', 'iceland', 'geyser', 'hot', 'spring', 'steam', 'vent', 'provide', 'natural', 'oven', 'slow', 'bake', 'icelandic', 'rye', 'bread', 'dark', 'rye', 'flour', 'dough', 'enclose', 'metal', 'pot', '-pron-', 'bury', 'warm', 'ground', 'near', 'geothermal', 'spring', 'hotspot', 'bake', 'traditional', 'method', 'dökkt', 'rúgbrauð', 'hour', 'cook', 'subterranean', 'oven', '-pron-', 'ingenious', 'use', 'explosive', 'natural', 'resource', 'hot', 'spring', 'town', 'laugarvatn', 'visitor', 'try', 'loaf', 'dökkt', 'rúgbrauð', '-pron-', 'fresh', 'hole', 'black', 'sand', 'paratha', 'india', 'stuart', 'freedman', 'corbis', 'getty', 'images', 'flatbreads', 'wonderfully', 'flaky', 'wheat', 'indian', 'treat', 'eat', 'plain', 'stud', 'savory', 'filling', 'fold', 'roll', 'dough', 'thinly', 'spread', 'fat', 'create', 'sumptuous', 'layer', 'rich', 'flavor', 'employ', 'technique', 'similar', 'use', 'croissant', 'puff', 'pastry', 'stuff', 'wheat', 'bread', 'india', 'year', 'variety', 'shout', 'manasollasa', 'century', 'sanskrit', 'text', 'contain', 'early', 'write', 'description', 'region', 'food', 'roti', 'gambang', 'indonesia', 'shutterstock', 'palm', 'sugar', 'cinnamon', 'lend', 'light', 'aromatic', 'sweetness', 'roti', 'gambang', 'tender', 'wheat', 'bread', 'old', 'fashioned', 'favorite', 'jakarta', 'bakery', 'evoke', 'gambang', 'traditional', 'indonesian', 'instrument', 'resemblance', 'slender', 'brown', 'loaf', 'recipe', 'cook', 'look', 'colonial', 'era', 'spiced', 'holiday', 'cookie', 'cheese', 'stick', 'gouda', 'edam', 'indonesian', 'baking', 'adapt', 'dutch', 'ingredient', 'technique', 'local', 'taste', 'sangak', 'iran', 'behrouz', 'mehri', 'afp', 'getty', 'images', '-pron-', 'pair', 'deft', 'baker', 'craft', 'addictive', 'iranian', 'flatbread', 'cook', 'directly', 'bed', 'hot', 'pebble', 'blaze', 'hot', 'surface', 'pock', 'wheat', 'dough', 'golden', 'blister', '-pron-', 'sangak', 'know', 'nan', 'e', 'sangak', 'characteristic', 'chewiness', '-pron-', 'lucky', 'taste', 'sangak', 'hot', 'oven', 'enjoy', 'heavenly', 'contrast', 'crisp', 'crust', 'tender', 'crumb', 'eat', 'flatbread', '-pron-', 'turn', '-pron-', 'iranian', 'style', 'breakfast', 'use', 'piece', 'sangak', 'wrap', 'salty', 'cheese', 'bundle', 'aromatic', 'green', 'herb', 'soda', 'bread', 'ireland', 'shutterstock', '-pron-', 'need', 'yeast', 'lofty', 'bread', 'chemical', 'leavening', 'add', 'air', 'explosive', 'combination', 'acidic', 'basic', 'ingredient', 'native', 'americans', 'use', 'refined', 'potash', 'leaven', 'griddle', 'breads', 'early', 'example', 'chemical', 'leavening', 'version', 'popular', 'lean', 'year', 'irish', 'potato', 'famine', 'potato', 'crop', 'fail', 'impoverished', 'irish', 'start', 'mix', 'loaf', 'use', 'soft', 'wheat', 'flour', 'sour', 'milk', 'baking', 'soda', 'dense', 'loaf', 'soda', 'bread', 'nostalgic', 'treat', 'perfect', 'pairing', 'salted', 'irish', 'butter', 'challah', 'israel', 'shutterstock', '-pron-', 'think', 'challah', 'limit', 'pillowy', 'braid', 'loaf', 'think', 'traditionally', 'challah', 'bread', 'use', 'jewish', 'ritual', 'jewish', 'baker', 'long', 'bread', 'diverse', 'diaspora', '-pron-', 'think', 'blistered', 'flatbread', 'hearty', 'european', 'loaf', 'hungarian', 'confection', 'dot', 'poppy', 'seed', 'israel', 'modern', 'day', 'baker', 'draw', 'rich', 'heritage', 'friday', 'afternoon', 'tel', 'aviv', '-pron-', 'spot', 'plenty', 'classic', 'ashkenazi', 'version', 'people', 'united', 'states', 'know', 'challah', 'golden', 'loaf', 'tender', 'egg', 'shiny', 'generous', 'glaze', '-pron-', 'braid', 'catch', 'eye', 'wrap', 'dough', 'strand', 'baker', 'create', 'distinctive', 'mound', 'represent', 'loaf', 'ancient', 'temple', 'jerusalem', 'ciabatta', 'italy', 'bruce', 'bisping', 'star', 'tribune', 'getty', 'images', 'emphasis', 'ancient', 'grain', 'century', 'floury', 'tradition', '-pron-', 'like', 'breadmaking', 'stick', 'past', 'bread', 'continually', 'evolve', 'example', 'iconic', 'italian', 'loaf', 'invent', 'italian', 'baker', 'arnaldo', 'cavallari', 'create', 'low', 'chewy', 'loaf', 'defiance', 'baguette', 'style', 'bread', '-pron-', 'roman', 'bakery', '-pron-', 'watershed', 'moment', 'comeback', 'artisanal', 'bread', 'root', 'backlash', 'increasingly', 'industrialize', 'food', 'system', 'bammy', 'bread', 'jamaica', 'shutterstock', 'pan', 'fry', 'cassava', 'cake', 'delicious', 'comfort', 'food', 'jamaica', 'round', 'bammy', 'bread', 'hearty', 'pairing', 'island', 'ultra', 'fresh', 'seafood', 'traditional', 'process', 'bammy', 'bread', 'start', 'process', 'grate', 'cassava', 'rid', 'naturally', 'occur', 'cyanide', 'sifted', 'cassava', 'pulp', 'press', 'metal', 'ring', '-pron-', 'recipe', 'ancient', 'root', 'cassava', 'staple', 'south', 'america', 'caribbean', 'long', 'arrival', 'europeans', '-pron-', 'believe', 'native', 'arawak', 'people', 'use', 'root', 'flatbread', 'kare', 'pan', 'japan', 'shutterstock', 'yeasted', 'wheat', 'dough', 'convenient', 'package', 'japanese', 'curry', 'turn', 'sit', 'meal', 'snack', 'eat', 'hand', 'kare', 'pan', 'curry', 'bread', 'roll', 'panko', 'dunk', 'deep', 'fryer', 'ensure', 'crispy', 'crust', 'provide', 'maximum', 'textural', 'contrast', 'soft', 'saucy', 'interior', 'kare', 'pan', 'beloved', 'crime', 'fight', 'superhero', 'savory', 'treat', 'star', 'anime', 'series', 'soreike', 'anpanman', 'karepanman', 'fight', 'villain', 'shoot', 'burn', 'hot', 'curry', 'filling', 'taboon', 'bread', 'jordan', 'shutterstock', 'follow', 'aroma', 'bake', 'bread', 'amman', '-pron-', 'find', 'baker', 'roadside', 'stall', 'stack', 'classic', 'flatbread', 'steam', 'pile', 'shape', 'taboon', 'bakers', 'press', 'round', 'soft', 'wheat', 'dough', 'convex', 'form', 'slap', '-pron-', 'interior', 'conical', 'clay', 'oven', 'emerge', 'chewy', 'round', 'crackle', 'steam', 'waft', 'rich', 'smell', 'grain', 'smoke', '-pron-', 'ideal', 'foil', 'plate', 'jordanian', 'mouttabal', 'roasted', 'eggplant', 'dip', 'blend', 'ground', 'sesame', 'seed', 'yogurt', 'roti', 'canai', 'malaysia', 'alamy', 'roti', 'flatbread', 'arrive', 'malaysia', 'indian', 'immigrant', 'country', 'flaky', 'rich', 'bread', '-pron-', 'cook', 'hot', 'griddle', 'roti', 'canai', 'puff', 'stack', 'overlap', 'layer', 'rich', 'buttery', 'flavor', 'irresistible', 'serve', 'malaysian', 'dip', 'curry', 'roti', 'canai', 'meal', '-pron-', 'addition', 'stuffing', 'sweet', 'ripe', 'banana', 'fry', 'egg', 'ħobż', 'tal', 'malti', 'malta', 'shutterstock', 'tawny', 'crust', 'malta', 'sourdough', 'way', 'pillow', 'soft', 'interior', 'ideal', 'rub', 'fresh', 'tomato', 'soak', 'island', 'prized', 'olive', 'oil', 'classic', 'version', 'day', 'prepare', 'traditionally', 'bake', 'share', 'wood', 'fire', 'oven', 'serve', 'community', 'gathering', 'place', 'maltese', 'bake', '-pron-', 'bread', 'ħobż', 'tal', 'malti', 'powerful', 'symbolism', 'mediterranean', 'island', 'nation', 'try', 'discover', 'true', 'nature', 'maltese', 'person', 'ask', 'jiekol', 'dan', 'literally', 'kind', 'bread', '-pron-', 'eat', 'tortillas', 'mexico', 'lisa', 'cherkasky', 'washington', 'post', 'getty', 'images', 'thin', 'round', 'corn', 'dough', 'turn', 'blistered', 'brown', 'hot', 'comal', 'traditional', 'griddle', 'use', 'mexico', 'fold', 'taco', 'eat', 'hand', 'corn', 'tortilla', 'country', 'universally', 'love', 'food', 'ground', 'corn', 'dough', 'deceptively', 'simple', 'ingredient', '-pron-', 'nonetheless', 'triumph', 'culinary', 'ingenuity', 'ground', 'corn', 'mix', 'alkaline', 'ingredient', 'lime', 'process', 'nixtamalization', 'grain', 'nutritious', 'easy', 'digest', 'khobz', 'kesra', 'morocco', 'bartosz', 'luczak', 'istockphoto', 'getty', 'images', 'follow', 'rich', 'scent', 'bake', 'bread', 'moroccan', 'medina', '-pron-', 'find', '-pron-', 'communal', 'neighborhood', 'oven', 'ferran', 'local', 'bring', 'round', 'tender', 'wheat', 'dough', 'ready', 'bake', 'khobz', 'kesra', 'country', 'homiest', 'bread', 'low', 'rounded', 'loaf', 'slightly', 'crisp', 'exterior', 'earn', '-pron-', 'pride', 'place', 'moroccan', 'table', '-pron-', 'fluffy', 'texture', 'ideal', 'absorb', 'aromatic', 'tajine', 'sauce', 'fry', 'bread', 'navajo', 'nation', 'luke', 'montavon', 'afp', 'getty', 'images', 'golden', 'crisp', 'round', 'fry', 'bread', 'taste', 'home', 'navajo', 'nation', 'reminder', 'tragic', 'history', 'navajo', 'people', 'force', '-pron-', 'arizona', 'land', 'government', '-pron-', 'resettle', 'new', 'mexican', 'landscape', 'grow', 'traditional', 'crop', 'bean', 'vegetable', 'prove', 'difficult', 'survive', '-pron-', 'use', 'government', 'provide', 'store', 'white', 'flour', 'lard', 'sugar', 'create', 'fry', 'bread', 'stark', 'necessity', 'fry', 'bread', 'symbol', 'perseverance', 'tradition', 'favorite', 'treat', 'powwow', 'family', 'gathering', 'tijgerbrood', 'netherlands', 'shutterstock', 'dutch', 'dutch', 'crunch', 'tijgerbrood', 'crust', 'lover', 'masterpiece', 'crispy', 'bite', 'create', 'mottled', 'tijgerbrood', 'baker', 'spread', 'unbaked', 'loaf', 'white', 'bread', 'soft', 'mixture', 'rice', 'flour', 'sesame', 'oil', 'water', 'yeast', 'heat', 'transform', 'exterior', 'crispy', 'pattern', 'snackable', 'piece', 'loaf', 'tijgerbrood', 'beloved', 'sandwich', 'ocean', 'away', 'amsterdam', 'old', 'world', 'bakery', 'san', 'francisco', 'dutch', 'crunch', '-pron-', 'sandwich', 'bread', 'choice', 'rēwena', 'parāoa', 'new', 'zealand', 'shutterstock', 'european', 'settler', 'bring', 'potato', 'wheat', 'new', 'zealand', 'indigenous', 'maori', 'people', 'import', 'ingredient', '-pron-', 'innovative', 'bread', 'mix', 'dough', 'potato', 'boil', 'ferment', 'sourdough', 'like', 'starter', 'finished', 'bread', 'sweet', 'sour', 'taste', 'rēwena', 'parāoa', 'favorite', 'treat', 'layer', 'butter', 'jam', 'serve', 'hearty', 'portion', 'raw', 'fish', 'longtime', 'delicacy', 'maori', 'people', 'lefse', 'norway', 'shutterstock', '-pron-', 'think', 'northern', 'europe', 'flatbread', 'country', '-pron-', 'taste', 'lefse', 'norwegian', 'potato', 'flatbread', 'favorite', 'holiday', 'hand', 'roll', 'soft', 'dough', 'grooved', 'pin', 'cook', '-pron-', 'hot', 'griddle', 'taste', 'norwegian', 'comfort', 'food', 'eat', 'warm', 'lefse', 'spiral', 'butter', 'sugar', 'dash', 'cinnamon', 'potato', 'century', 'addition', 'norwegian', 'diet', 'scandinavian', 'flatbread', 'old', 'vikings', 'podplomyk', 'poland', 'shutterstock', 'slather', 'hot', 'round', 'podplomyk', 'white', 'cheese', 'fruit', 'preserve', 'taste', 'old', 'fashioned', 'polish', 'home', 'cooking', 'unyeasted', 'flatbread', 'blister', 'brown', 'ingredient', 'limit', 'wheat', 'flour', 'salt', 'water', 'podplomyk', 'deliciously', 'simple', 'entry', 'sprawl', 'family', 'tree', 'flatbread', 'dough', 'podplomyk', 'roll', 'thin', '-pron-', 'traditionally', 'bake', 'loaf', 'ready', 'oven', 'middle', 'ages', 'portable', 'bread', 'share', 'neighbor', 'household', 'member', 'sign', 'friendship', 'today', 'tradition', 'carry', 'exchange', 'oplatek', 'wafer', 'christmastime', 'broa', 'de', 'milho', 'portugal', 'shutterstock', 'corn', 'buckwheat', 'stone', 'mill', 'sift', 'knead', 'wooden', 'trough', 'traditional', 'version', 'hearty', 'peasant', 'bread', 'northern', 'portugal', 'loaf', 'bake', 'wood', 'fire', 'stone', 'oven', 'archipelago', 'floury', 'crust', 'shard', 'expand', 'deep', 'crack', 'oven', '-pron-', 'seal', 'bread', 'dough', 'act', 'natural', 'oven', 'timer', 'bread', 'ready', 'dough', 'strip', 'turn', 'toasty', 'brown', 'europeans', 'taste', 'corn', '-pron-', 'arrive', 'americas', '-pron-', 'eagerly', 'adopt', 'northern', 'portuguese', 'region', 'soil', 'condition', 'poorly', 'suit', 'grow', 'wheat', 'karavai', 'russia', 'shutterstock', 'bread', 'baking', 'art', 'russian', 'holiday', 'golden', 'loaf', 'karavai', 'deck', 'dough', 'flower', 'animal', 'swirls', 'bread', 'play', 'starring', 'role', 'wedding', 'elaborate', 'rule', 'govern', 'baking', 'process', 'traditionally', 'happily', 'married', 'woman', 'mix', 'dough', 'married', 'man', 'slide', 'round', 'loaf', 'oven', 'round', 'shape', 'ancient', 'symbolism', 'think', 'date', 'ancient', 'sun', 'worship', '-pron-', 'bake', 'ensure', 'health', 'prosperity', 'new', 'couple', 'pane', 'carasau', 'sardinia', 'shutterstock', 'kingdom', 'piedmont', 'sardinia', 'mountainous', 'island', 'cuisine', 'remain', 'distinct', 'mainland', 'italy', 'iconic', 'food', 'pane', 'carasau', 'parchment', 'thin', 'flatbread', 'melodic', 'nickname', 'carta', 'de', 'musica', 'sheet', 'music', 'pane', 'carasau', 'start', 'like', 'classic', 'flatbread', 'sardinian', 'twist', '-pron-', 'ideal', 'travel', 'companion', 'flatbread', 'puff', 'oven', '-pron-', 'slice', 'horizontally', 'thin', 'piece', 'piece', 'bake', 'second', 'time', 'dry', 'bread', 'month', 'proja', 'serbia', 'shutterstock', 'warm', 'square', 'serbian', 'proja', 'cornbread', 'favorite', 'accompaniment', 'country', 'lush', 'meat', 'stew', '-pron-', 'homey', 'dish', 'cook', 'fresh', 'family', 'meal', 'serve', 'hot', 'oven', 'ground', 'corn', 'offer', 'lightly', 'sweet', 'foil', 'salty', 'topping', 'salty', 'kajmak', 'cheese', 'scattering', 'crackling', 'gyeran', 'ppang', 'south', 'korea', 'shutterstock', 'bury', 'treasure', 'loaf', 'gyeran', 'ppang', 'individually', 'sized', 'wheat', 'bread', 'egg', 'bake', 'inside', 'translate', 'simply', 'egg', 'bread', 'gyeran', 'ppang', 'favorite', 'street', 'seoul', 'eat', 'hot', 'breakfast', 'time', 'day', 'addition', 'ham', 'cheese', 'chop', 'parsley', 'add', 'savory', 'twist', 'sweet', 'salty', 'treat', 'belly', 'warm', 'snack', 'south', 'korea', 'fuel', 'country', 'long', 'winter', 'appam', 'sri', 'lanka', 'shutterstock', 'thin', 'fermented', 'batter', 'rice', 'flour', 'coconut', 'milk', 'turn', 'crisp', 'bowl', 'shape', 'pan', 'use', 'cook', 'appam', 'sri', 'lanka', 'ubiquitous', 'treat', 'hopper', 'whisper', 'thin', 'pancake', 'eat', 'hot', 'preferably', 'stand', 'colombo', 'street', 'food', 'stall', 'favorite', 'topping', 'appam', 'sri', 'lanka', 'include', 'coconut', 'sambal', 'chicken', 'curry', '-pron-', 'order', 'egg', 'egg', 'hopper', 'egg', 'crack', 'center', 'appam', 'richly', 'aromatic', 'chili', 'paste', 'appam', 'popular', 'southern', 'india', 'kisra', 'sudan', 'south', 'sudan', 'alamy', 'overnight', 'fermentation', 'lend', 'delicious', 'tang', 'sudanese', 'flatbread', 'balance', 'mild', 'earthy', 'flavor', 'sorghum', 'flour', 'tart', 'bite', 'crepe', 'like', 'kisra', 'practice', 'patience', 'perfect', 'art', 'cook', 'flat', 'metal', 'pan', '-pron-', 'classic', 'sudanese', 'treat', 'like', 'ethiopian', 'injera', 'kisra', 'staple', 'food', 'edible', 'utensil', 'use', 'piece', 'spongy', 'bread', 'scoop', 'spicy', 'bite', 'hearty', 'stew', 'sudan', 'beloved', 'food', 'limpa', 'bread', 'sweden', 'alamy', 'commercial', 'yeast', 'available', 'brewer', 'baker', 'work', 'tandem', 'brewer', 'harvest', 'yeast', '-pron-', 'batch', 'beer', 'pass', '-pron-', 'baker', 'bread', 'infuse', 'light', 'beer', 'flavor', 'legacy', 'live', 'sweden', 'vörtlimpa', 'limpa', 'mean', 'loaf', 'vört', 'refer', 'tart', 'dose', 'brewer', 'wort', 'know', 'limpa', 'bread', 'english', 'light', 'rye', 'acidity', 'orange', 'juice', 'brewer', 'wort', 'balep', 'korkun', 'tibet', 'alamy', 'crop', 'cold', 'hardy', 'barley', 'thrive', 'tibetan', 'plateau', 'thousand', 'year', 'grain', 'long', 'staple', 'high', 'altitude', 'diet', 'balep', 'korkun', 'wheat', 'traditional', 'version', 'flatbread', 'shape', 'tsampa', 'roasted', 'barley', 'flour', 'nutty', 'flavor', 'rich', 'taste', 'flour', 'central', 'tibetan', 'identity', '-pron-', 'turn', 'hashtag', 'rap', 'song', 'dalai', 'lama', 'eat', '-pron-', 'breakfast', 'simit', 'turkey', 'vw', 'pics', 'uig', 'getty', 'images', 'dredge', 'sesame', 'seed', 'spiral', 'ring', 'simit', 'turkey', 'ultimate', 'treat', 'decade', 'ago', 'vendor', 'wound', 'istanbul', 'street', 'carry', 'tray', 'pile', 'high', 'bread', 'rove', 'bread', 'seller', 'rare', 'capital', 'instead', 'commuter', 'pick', '-pron-', 'daily', 'simit', 'roadside', 'stand', 'deep', 'colored', 'ring', 'stack', 'dozen', 'burnished', 'crust', 'infuse', 'breads', 'light', 'sweetness', 'slide', 'wood', 'fire', 'oven', 'simit', 'dunk', 'sugar', 'water', 'thinned', 'molasse', 'slick', 'glaze', 'turn', 'caramel', 'intense', 'heat', 'crumpets', 'united', 'kingdom', 'shutterstock', 'yeasted', 'wheat', 'batter', 'bubble', 'spongy', 'cake', 'griddle', 'treat', 'british', 'favorite', 'smear', 'jam', 'butter', 'clot', 'cream', 'ring', 'mold', 'contain', 'pourable', 'batter', 'oil', 'griddle', 'cook', 'crumpet', 'golden', 'hue', 'like', 'eastern', 'european', 'zwieback', 'crisp', 'rusk', 'crumpet', 'eat', 'twice', 'bake', 'bread', 'round', 'split', 'toast', 'serve', 'biscuits', 'united', 'states', 'dixie', 'vereen', 'washington', 'post', 'getty', 'image', 'smear', 'butter', 'dripping', 'gravy', 'biscuit', 'united', 'states', 'homiest', 'taste', '-pron-', 'easy', 'achieve', 'soft', 'fluffy', 'biscuit', 'require', 'quick', 'hand', 'gentle', 'mixing', 'antebellum', 'south', 'biscuit', 'special', 'treat', 'sunday', 'dinner', 'day', '-pron-', 'nearly', 'ubiquitous', 'gas', 'station', 'barbecue', 'joint', 'home', 'cook', 'meal', 'secret', 'flour', 'typically', 'low', 'protein', 'flour', 'like', 'white', 'lily', 'soft', 'wheat', 'use', 'white', 'lily', 'long', 'grow', 'southern', 'state', 'long', 'distance', 'food', 'shipping', '-pron-', 'mill', 'midwest', 'non', 'uzbekistan', 'shutterstock', 'flatbreads', 'art', 'uzbekistan', 'traditional', 'tandoor', 'oven', 'turn', 'round', 'adorn', 'twist', 'swirls', 'stamp', 'uzbek', 'non', 'vary', 'region', 'tashkent', 'chewy', 'version', 'samarkand', 'loaf', 'shower', 'black', 'nigella', 'seed', 'soon', 'bread', 'emerge', 'oven', '-pron-', 'turn', 'swarm', 'bicycle', 'messenger', 'ferry', 'hot', 'loaf', 'market', 'cafe', 'arepa', 'venezuela', 'shutterstock', 'areperos', 'venezuelan', 'arepa', 'maker', 'pat', 'golden', 'round', 'corn', 'dough', 'hot', 'griddle', 'plump', 'flatbread', 'deliciously', 'toast', 'crust', 'tender', 'steam', 'interior', 'arepas', 'venezuela', 'surround', 'region', 'long', 'arrival', 'europeans', 'south', 'america', 'nourish', 'corn', 'bread', 'range', 'simple', 'elaborate', 'breakfast', 'try', '-pron-', 'split', 'butter', 'stuff', 'savory', 'filling', 'creamy', 'sauce', 'fiery', 'salsa', 'arepa', 'hearty', 'meal', '-pron-', 'malawach', 'yemen', 'shutterstock', 'family', 'tree', 'flatbread', 'stretch', 'middle', 'east', 'yemen', 'jewish', 'community', 'version', 'rich', 'treat', 'malawach', 'baker', 'roll', 'wheat', 'dough', 'delicate', 'sheet', 'fold', '-pron-', 'slick', 'melted', 'butter', 'dough', 'twist', 'loose', 'topknot', 'roll', 'send', 'vein', 'butter', 'overlap', 'layer', 'pan', 'fry', 'dough', 'emerge', 'steam', 'stovetop', 'final', 'shower', 'black', 'nigella', 'sesame', 'seed', 'add', 'texture', 'savory', 'crunch']\n"
     ]
    }
   ],
   "source": [
    "print(result[4])"
   ]
  },
  {
   "cell_type": "code",
   "execution_count": 85,
   "metadata": {},
   "outputs": [],
   "source": [
    "# to create a new column of tokenized documents we simply assign the result\n",
    "\n",
    "df['tokens'] = result"
   ]
  },
  {
   "cell_type": "code",
   "execution_count": 86,
   "metadata": {},
   "outputs": [
    {
     "data": {
      "text/html": [
       "<div>\n",
       "<style scoped>\n",
       "    .dataframe tbody tr th:only-of-type {\n",
       "        vertical-align: middle;\n",
       "    }\n",
       "\n",
       "    .dataframe tbody tr th {\n",
       "        vertical-align: top;\n",
       "    }\n",
       "\n",
       "    .dataframe thead th {\n",
       "        text-align: right;\n",
       "    }\n",
       "</style>\n",
       "<table border=\"1\" class=\"dataframe\">\n",
       "  <thead>\n",
       "    <tr style=\"text-align: right;\">\n",
       "      <th></th>\n",
       "      <th>text</th>\n",
       "      <th>tokens</th>\n",
       "    </tr>\n",
       "  </thead>\n",
       "  <tbody>\n",
       "    <tr>\n",
       "      <th>0</th>\n",
       "      <td>Video Image Satellite images show insane view ...</td>\n",
       "      <td>[video, image, satellite, image, insane, view,...</td>\n",
       "    </tr>\n",
       "    <tr>\n",
       "      <th>1</th>\n",
       "      <td>\\n Chief Executive addresses the press after c...</td>\n",
       "      <td>[chief, executive, address, press, citywide, c...</td>\n",
       "    </tr>\n",
       "    <tr>\n",
       "      <th>2</th>\n",
       "      <td>Hong Kong (CNN) China has announced a curfew o...</td>\n",
       "      <td>[hong, kong, cnn, china, announce, curfew, onl...</td>\n",
       "    </tr>\n",
       "    <tr>\n",
       "      <th>3</th>\n",
       "      <td>Washington (CNN) President Donald Trump was re...</td>\n",
       "      <td>[washington, cnn, president, donald, trump, re...</td>\n",
       "    </tr>\n",
       "    <tr>\n",
       "      <th>4</th>\n",
       "      <td>(CNN) — What is bread? You likely don't have t...</td>\n",
       "      <td>[cnn, bread, -pron-, likely, think, long, -pro...</td>\n",
       "    </tr>\n",
       "    <tr>\n",
       "      <th>...</th>\n",
       "      <td>...</td>\n",
       "      <td>...</td>\n",
       "    </tr>\n",
       "    <tr>\n",
       "      <th>170</th>\n",
       "      <td>The head of Facebook’s blockchain project says...</td>\n",
       "      <td>[head, facebook, blockchain, project, developm...</td>\n",
       "    </tr>\n",
       "    <tr>\n",
       "      <th>171</th>\n",
       "      <td>Housing and Urban Development Secretary Ben Ca...</td>\n",
       "      <td>[housing, urban, development, secretary, ben, ...</td>\n",
       "    </tr>\n",
       "    <tr>\n",
       "      <th>172</th>\n",
       "      <td>Wednesday, October 16, 2019\\nWall Street lost ...</td>\n",
       "      <td>[wednesday, october, wall, street, lose, milli...</td>\n",
       "    </tr>\n",
       "    <tr>\n",
       "      <th>173</th>\n",
       "      <td>U.S. stocks slid Thursday following reports th...</td>\n",
       "      <td>[stock, slide, thursday, follow, report, chine...</td>\n",
       "    </tr>\n",
       "    <tr>\n",
       "      <th>174</th>\n",
       "      <td>Democratic presidential candidate entrepreneur...</td>\n",
       "      <td>[democratic, presidential, candidate, entrepre...</td>\n",
       "    </tr>\n",
       "  </tbody>\n",
       "</table>\n",
       "<p>175 rows × 2 columns</p>\n",
       "</div>"
      ],
      "text/plain": [
       "                                                  text  \\\n",
       "0    Video Image Satellite images show insane view ...   \n",
       "1    \\n Chief Executive addresses the press after c...   \n",
       "2    Hong Kong (CNN) China has announced a curfew o...   \n",
       "3    Washington (CNN) President Donald Trump was re...   \n",
       "4    (CNN) — What is bread? You likely don't have t...   \n",
       "..                                                 ...   \n",
       "170  The head of Facebook’s blockchain project says...   \n",
       "171  Housing and Urban Development Secretary Ben Ca...   \n",
       "172  Wednesday, October 16, 2019\\nWall Street lost ...   \n",
       "173  U.S. stocks slid Thursday following reports th...   \n",
       "174  Democratic presidential candidate entrepreneur...   \n",
       "\n",
       "                                                tokens  \n",
       "0    [video, image, satellite, image, insane, view,...  \n",
       "1    [chief, executive, address, press, citywide, c...  \n",
       "2    [hong, kong, cnn, china, announce, curfew, onl...  \n",
       "3    [washington, cnn, president, donald, trump, re...  \n",
       "4    [cnn, bread, -pron-, likely, think, long, -pro...  \n",
       "..                                                 ...  \n",
       "170  [head, facebook, blockchain, project, developm...  \n",
       "171  [housing, urban, development, secretary, ben, ...  \n",
       "172  [wednesday, october, wall, street, lose, milli...  \n",
       "173  [stock, slide, thursday, follow, report, chine...  \n",
       "174  [democratic, presidential, candidate, entrepre...  \n",
       "\n",
       "[175 rows x 2 columns]"
      ]
     },
     "execution_count": 86,
     "metadata": {},
     "output_type": "execute_result"
    }
   ],
   "source": [
    "df[['text','tokens']]"
   ]
  },
  {
   "cell_type": "code",
   "execution_count": null,
   "metadata": {},
   "outputs": [],
   "source": []
  }
 ],
 "metadata": {
  "kernelspec": {
   "display_name": "Python [conda env:teaching]",
   "language": "python",
   "name": "conda-env-teaching-py"
  },
  "language_info": {
   "codemirror_mode": {
    "name": "ipython",
    "version": 3
   },
   "file_extension": ".py",
   "mimetype": "text/x-python",
   "name": "python",
   "nbconvert_exporter": "python",
   "pygments_lexer": "ipython3",
   "version": "3.7.8"
  }
 },
 "nbformat": 4,
 "nbformat_minor": 4
}
