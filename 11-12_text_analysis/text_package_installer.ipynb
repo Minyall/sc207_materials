{
 "cells": [
  {
   "cell_type": "markdown",
   "id": "final-spain",
   "metadata": {},
   "source": [
    "# SC207 Text Sessions Package Installer\n",
    "For the next few sessions we will be using some packages not installed with Anacoda. To install these run the cells below.\n",
    "\n",
    "## Important\n",
    "- Some of these packages are large and require time to install. After running an installer cell, make sure the activity indicator to the left shows a number rather than a * before moving on.\n",
    "- You will need to complete all 3 steps\n",
    "    1. Installing SpaCy\n",
    "    2. Installing the SpaCy language model\n",
    "    3. Installing Gensim\n",
    "- Check your installation was succesful by running the final cell"
   ]
  },
  {
   "cell_type": "markdown",
   "id": "offshore-bhutan",
   "metadata": {},
   "source": [
    "#### Install SpaCy"
   ]
  },
  {
   "cell_type": "code",
   "execution_count": null,
   "id": "loaded-gardening",
   "metadata": {},
   "outputs": [],
   "source": [
    "! conda install -c conda-forge spacy --yes"
   ]
  },
  {
   "cell_type": "markdown",
   "id": "exempt-diploma",
   "metadata": {},
   "source": [
    "#### Install SpaCy Language Model"
   ]
  },
  {
   "cell_type": "code",
   "execution_count": null,
   "id": "outstanding-excess",
   "metadata": {},
   "outputs": [],
   "source": [
    "! python -m spacy download en_core_web_md"
   ]
  },
  {
   "cell_type": "markdown",
   "id": "worst-saskatchewan",
   "metadata": {},
   "source": [
    "#### Install Gensim"
   ]
  },
  {
   "cell_type": "code",
   "execution_count": null,
   "id": "first-ireland",
   "metadata": {},
   "outputs": [],
   "source": [
    "! conda install -c conda-forge gensim --yes"
   ]
  },
  {
   "cell_type": "markdown",
   "id": "prospective-least",
   "metadata": {},
   "source": [
    "#### Check the installation was a success\n",
    "If installation was succesful, the next cell should run without errors. Running it for the first time may take 10-20 seconds.\n",
    "If you recieve an error please email me at jallenh@essex.ac.uk"
   ]
  },
  {
   "cell_type": "code",
   "execution_count": null,
   "id": "romance-family",
   "metadata": {},
   "outputs": [],
   "source": [
    "import gensim\n",
    "import spacy\n",
    "\n",
    "nlp = spacy.load('en_core_web_md')"
   ]
  }
 ],
 "metadata": {
  "kernelspec": {
   "display_name": "Python 3",
   "language": "python",
   "name": "python3"
  },
  "language_info": {
   "codemirror_mode": {
    "name": "ipython",
    "version": 3
   },
   "file_extension": ".py",
   "mimetype": "text/x-python",
   "name": "python",
   "nbconvert_exporter": "python",
   "pygments_lexer": "ipython3",
   "version": "3.8.6"
  }
 },
 "nbformat": 4,
 "nbformat_minor": 5
}
