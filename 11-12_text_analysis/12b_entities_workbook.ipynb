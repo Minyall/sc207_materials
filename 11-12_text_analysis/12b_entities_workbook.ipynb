{
 "cells": [
  {
   "cell_type": "markdown",
   "metadata": {},
   "source": [
    "# Session 12b - Text Mining\n",
    "## Analysing and summarising collections of text\n",
    "### Named Entity Recognition\n",
    "\n",
    "Having learned how to clean and simplify our text for processing, the next stage is to ask what our text is about. This workbook looks at extracting \"Entities\" from our Text using SpaCy."
   ]
  },
  {
   "cell_type": "code",
   "execution_count": 1,
   "metadata": {},
   "outputs": [],
   "source": [
    "import pandas as pd\n",
    "import spacy"
   ]
  },
  {
   "cell_type": "code",
   "execution_count": 2,
   "metadata": {},
   "outputs": [],
   "source": [
    "df = pd.read_csv('sample_news_large.csv')"
   ]
  },
  {
   "cell_type": "code",
   "execution_count": 3,
   "metadata": {},
   "outputs": [
    {
     "data": {
      "text/html": [
       "<div>\n",
       "<style scoped>\n",
       "    .dataframe tbody tr th:only-of-type {\n",
       "        vertical-align: middle;\n",
       "    }\n",
       "\n",
       "    .dataframe tbody tr th {\n",
       "        vertical-align: top;\n",
       "    }\n",
       "\n",
       "    .dataframe thead th {\n",
       "        text-align: right;\n",
       "    }\n",
       "</style>\n",
       "<table border=\"1\" class=\"dataframe\">\n",
       "  <thead>\n",
       "    <tr style=\"text-align: right;\">\n",
       "      <th></th>\n",
       "      <th>query</th>\n",
       "      <th>title</th>\n",
       "      <th>text</th>\n",
       "      <th>published</th>\n",
       "      <th>site</th>\n",
       "    </tr>\n",
       "  </thead>\n",
       "  <tbody>\n",
       "    <tr>\n",
       "      <th>0</th>\n",
       "      <td>Hong Kong</td>\n",
       "      <td>Horrifying view of fires from space</td>\n",
       "      <td>Video Image Satellite images show insane view ...</td>\n",
       "      <td>2019-11-08T23:51:00.000+02:00</td>\n",
       "      <td>news.com.au</td>\n",
       "    </tr>\n",
       "    <tr>\n",
       "      <th>1</th>\n",
       "      <td>Hong Kong</td>\n",
       "      <td>Protester shot with live round in Hong Kong as...</td>\n",
       "      <td>\\n Chief Executive addresses the press after c...</td>\n",
       "      <td>2019-11-11T02:00:00.000+02:00</td>\n",
       "      <td>scmp.com</td>\n",
       "    </tr>\n",
       "    <tr>\n",
       "      <th>2</th>\n",
       "      <td>Hong Kong</td>\n",
       "      <td>China imposes online gaming curfew for minors ...</td>\n",
       "      <td>Hong Kong (CNN) China has announced a curfew o...</td>\n",
       "      <td>2019-11-06T02:00:00.000+02:00</td>\n",
       "      <td>cnn.com</td>\n",
       "    </tr>\n",
       "    <tr>\n",
       "      <th>3</th>\n",
       "      <td>Hong Kong</td>\n",
       "      <td>Trump made 96 false claims last week - CNNPoli...</td>\n",
       "      <td>Washington (CNN) President Donald Trump was re...</td>\n",
       "      <td>2019-10-30T20:35:00.000+02:00</td>\n",
       "      <td>cnn.com</td>\n",
       "    </tr>\n",
       "    <tr>\n",
       "      <th>4</th>\n",
       "      <td>Hong Kong</td>\n",
       "      <td>50 best breads around the world | CNN Travel</td>\n",
       "      <td>(CNN) — What is bread? You likely don't have t...</td>\n",
       "      <td>2019-10-16T07:02:00.000+03:00</td>\n",
       "      <td>cnn.com</td>\n",
       "    </tr>\n",
       "  </tbody>\n",
       "</table>\n",
       "</div>"
      ],
      "text/plain": [
       "       query                                              title  \\\n",
       "0  Hong Kong                Horrifying view of fires from space   \n",
       "1  Hong Kong  Protester shot with live round in Hong Kong as...   \n",
       "2  Hong Kong  China imposes online gaming curfew for minors ...   \n",
       "3  Hong Kong  Trump made 96 false claims last week - CNNPoli...   \n",
       "4  Hong Kong       50 best breads around the world | CNN Travel   \n",
       "\n",
       "                                                text  \\\n",
       "0  Video Image Satellite images show insane view ...   \n",
       "1  \\n Chief Executive addresses the press after c...   \n",
       "2  Hong Kong (CNN) China has announced a curfew o...   \n",
       "3  Washington (CNN) President Donald Trump was re...   \n",
       "4  (CNN) — What is bread? You likely don't have t...   \n",
       "\n",
       "                       published         site  \n",
       "0  2019-11-08T23:51:00.000+02:00  news.com.au  \n",
       "1  2019-11-11T02:00:00.000+02:00     scmp.com  \n",
       "2  2019-11-06T02:00:00.000+02:00      cnn.com  \n",
       "3  2019-10-30T20:35:00.000+02:00      cnn.com  \n",
       "4  2019-10-16T07:02:00.000+03:00      cnn.com  "
      ]
     },
     "execution_count": 3,
     "metadata": {},
     "output_type": "execute_result"
    }
   ],
   "source": [
    "df.head()"
   ]
  },
  {
   "cell_type": "markdown",
   "metadata": {},
   "source": [
    "## Top Entities (Named Entity Recognition)\n",
    "\n",
    "Named entity recognition (NER) is the technique of extracting key entities within a piece of text,\n",
    "- people\n",
    "- places\n",
    "- organisations\n",
    "- dates\n",
    "- values\n",
    "- currencies etc.\n",
    "\n",
    "SpaCy's processing examines each word in context and uses this to predict which tokens likely refer to particular types of entities like people, organisations, dates etc. It is not using any limited list or reference to \"look up\" these entities, but instead identifies them based on contextual cues.\n"
   ]
  },
  {
   "cell_type": "code",
   "execution_count": 4,
   "metadata": {},
   "outputs": [],
   "source": [
    "nlp = spacy.load('en_core_web_md')"
   ]
  },
  {
   "cell_type": "code",
   "execution_count": 5,
   "metadata": {},
   "outputs": [],
   "source": [
    "trump = nlp(\"\"\"A New York judge has ordered President Donald Trump to pay $2m (£1.6m)\"\"\"\\\n",
    "            \"\"\" for misusing funds from his charity to finance his 2016 political campaign.\"\"\"\\\n",
    "            \"\"\" The Donald J Trump Foundation closed down in 2018. Prosecutors had accused it\"\"\"\\\n",
    "            \"\"\" of working as \"little more than a chequebook\" for Mr Trump's interests.\"\"\"\\\n",
    "            \"\"\" Charities such as the one Mr Trump and his three eldest children headed cannot\"\"\"\\\n",
    "            \"\"\" engage in politics, the judge ruled.\"\"\")\n",
    "\n",
    "# Source: https://www.bbc.co.uk/news/world-us-canada-50338231"
   ]
  },
  {
   "cell_type": "code",
   "execution_count": 6,
   "metadata": {},
   "outputs": [
    {
     "data": {
      "text/plain": [
       "(New York,\n",
       " Donald Trump,\n",
       " $2m,\n",
       " £1.6m,\n",
       " 2016,\n",
       " The Donald J Trump Foundation,\n",
       " 2018,\n",
       " Trump,\n",
       " one,\n",
       " Trump,\n",
       " three)"
      ]
     },
     "execution_count": 6,
     "metadata": {},
     "output_type": "execute_result"
    }
   ],
   "source": [
    "# we can access the entities with the .ents attribute\n",
    "trump.ents"
   ]
  },
  {
   "cell_type": "code",
   "execution_count": 7,
   "metadata": {},
   "outputs": [
    {
     "name": "stdout",
     "output_type": "stream",
     "text": [
      "New York GPE\n",
      "Donald Trump PERSON\n",
      "$2m MONEY\n",
      "£1.6m MONEY\n",
      "2016 DATE\n",
      "The Donald J Trump Foundation ORG\n",
      "2018 DATE\n",
      "Trump PERSON\n",
      "one CARDINAL\n",
      "Trump PERSON\n",
      "three CARDINAL\n"
     ]
    }
   ],
   "source": [
    "# every object in the entities list has a text attribute and a label attribute to tell you the type of entity it is.\n",
    "\n",
    "for entity in trump.ents:\n",
    "    print( entity.text, entity.label_ )"
   ]
  },
  {
   "cell_type": "code",
   "execution_count": 10,
   "metadata": {},
   "outputs": [
    {
     "data": {
      "text/html": [
       "<span class=\"tex2jax_ignore\"><div class=\"entities\" style=\"line-height: 2.5; direction: ltr\">A \n",
       "<mark class=\"entity\" style=\"background: #feca74; padding: 0.45em 0.6em; margin: 0 0.25em; line-height: 1; border-radius: 0.35em;\">\n",
       "    New York\n",
       "    <span style=\"font-size: 0.8em; font-weight: bold; line-height: 1; border-radius: 0.35em; text-transform: uppercase; vertical-align: middle; margin-left: 0.5rem\">GPE</span>\n",
       "</mark>\n",
       " judge has ordered President \n",
       "<mark class=\"entity\" style=\"background: #aa9cfc; padding: 0.45em 0.6em; margin: 0 0.25em; line-height: 1; border-radius: 0.35em;\">\n",
       "    Donald Trump\n",
       "    <span style=\"font-size: 0.8em; font-weight: bold; line-height: 1; border-radius: 0.35em; text-transform: uppercase; vertical-align: middle; margin-left: 0.5rem\">PERSON</span>\n",
       "</mark>\n",
       " to pay \n",
       "<mark class=\"entity\" style=\"background: #e4e7d2; padding: 0.45em 0.6em; margin: 0 0.25em; line-height: 1; border-radius: 0.35em;\">\n",
       "    $2m\n",
       "    <span style=\"font-size: 0.8em; font-weight: bold; line-height: 1; border-radius: 0.35em; text-transform: uppercase; vertical-align: middle; margin-left: 0.5rem\">MONEY</span>\n",
       "</mark>\n",
       " (\n",
       "<mark class=\"entity\" style=\"background: #e4e7d2; padding: 0.45em 0.6em; margin: 0 0.25em; line-height: 1; border-radius: 0.35em;\">\n",
       "    £1.6m\n",
       "    <span style=\"font-size: 0.8em; font-weight: bold; line-height: 1; border-radius: 0.35em; text-transform: uppercase; vertical-align: middle; margin-left: 0.5rem\">MONEY</span>\n",
       "</mark>\n",
       ") for misusing funds from his charity to finance his \n",
       "<mark class=\"entity\" style=\"background: #bfe1d9; padding: 0.45em 0.6em; margin: 0 0.25em; line-height: 1; border-radius: 0.35em;\">\n",
       "    2016\n",
       "    <span style=\"font-size: 0.8em; font-weight: bold; line-height: 1; border-radius: 0.35em; text-transform: uppercase; vertical-align: middle; margin-left: 0.5rem\">DATE</span>\n",
       "</mark>\n",
       " political campaign. \n",
       "<mark class=\"entity\" style=\"background: #7aecec; padding: 0.45em 0.6em; margin: 0 0.25em; line-height: 1; border-radius: 0.35em;\">\n",
       "    The Donald J Trump Foundation\n",
       "    <span style=\"font-size: 0.8em; font-weight: bold; line-height: 1; border-radius: 0.35em; text-transform: uppercase; vertical-align: middle; margin-left: 0.5rem\">ORG</span>\n",
       "</mark>\n",
       " closed down in \n",
       "<mark class=\"entity\" style=\"background: #bfe1d9; padding: 0.45em 0.6em; margin: 0 0.25em; line-height: 1; border-radius: 0.35em;\">\n",
       "    2018\n",
       "    <span style=\"font-size: 0.8em; font-weight: bold; line-height: 1; border-radius: 0.35em; text-transform: uppercase; vertical-align: middle; margin-left: 0.5rem\">DATE</span>\n",
       "</mark>\n",
       ". Prosecutors had accused it of working as &quot;little more than a chequebook&quot; for Mr \n",
       "<mark class=\"entity\" style=\"background: #aa9cfc; padding: 0.45em 0.6em; margin: 0 0.25em; line-height: 1; border-radius: 0.35em;\">\n",
       "    Trump\n",
       "    <span style=\"font-size: 0.8em; font-weight: bold; line-height: 1; border-radius: 0.35em; text-transform: uppercase; vertical-align: middle; margin-left: 0.5rem\">PERSON</span>\n",
       "</mark>\n",
       "'s interests. Charities such as the \n",
       "<mark class=\"entity\" style=\"background: #e4e7d2; padding: 0.45em 0.6em; margin: 0 0.25em; line-height: 1; border-radius: 0.35em;\">\n",
       "    one\n",
       "    <span style=\"font-size: 0.8em; font-weight: bold; line-height: 1; border-radius: 0.35em; text-transform: uppercase; vertical-align: middle; margin-left: 0.5rem\">CARDINAL</span>\n",
       "</mark>\n",
       " Mr \n",
       "<mark class=\"entity\" style=\"background: #aa9cfc; padding: 0.45em 0.6em; margin: 0 0.25em; line-height: 1; border-radius: 0.35em;\">\n",
       "    Trump\n",
       "    <span style=\"font-size: 0.8em; font-weight: bold; line-height: 1; border-radius: 0.35em; text-transform: uppercase; vertical-align: middle; margin-left: 0.5rem\">PERSON</span>\n",
       "</mark>\n",
       " and his \n",
       "<mark class=\"entity\" style=\"background: #e4e7d2; padding: 0.45em 0.6em; margin: 0 0.25em; line-height: 1; border-radius: 0.35em;\">\n",
       "    three\n",
       "    <span style=\"font-size: 0.8em; font-weight: bold; line-height: 1; border-radius: 0.35em; text-transform: uppercase; vertical-align: middle; margin-left: 0.5rem\">CARDINAL</span>\n",
       "</mark>\n",
       " eldest children headed cannot engage in politics, the judge ruled.</div></span>"
      ],
      "text/plain": [
       "<IPython.core.display.HTML object>"
      ]
     },
     "metadata": {},
     "output_type": "display_data"
    }
   ],
   "source": [
    "# as we're in Jupyter we can also use SpaCy's built in visualiser\n",
    "\n",
    "spacy.displacy.render(trump, style='ent', jupyter=True)"
   ]
  },
  {
   "cell_type": "code",
   "execution_count": 11,
   "metadata": {},
   "outputs": [],
   "source": [
    "# if you want to save the annotated version of the\n",
    "# text you can save to html using this function.\n",
    "\n",
    "def save_displacy_to_html(doc, filename, style='ent'):\n",
    "    html_data = spacy.displacy.render(doc, style='ent', jupyter=False, page=True)\n",
    "    with open(filename, 'w+', encoding=\"utf-8\") as f:\n",
    "        f.write(html_data)\n",
    "\n",
    "save_displacy_to_html(trump, 'test.html', style='ent')"
   ]
  },
  {
   "cell_type": "code",
   "execution_count": 12,
   "metadata": {},
   "outputs": [],
   "source": [
    "# lets create a function that can extract specific types of entities from a text\n",
    "\n",
    "def entity_extractor(nlp_doc, entity_type=None):\n",
    "    if entity_type is None:\n",
    "        ents = [ent.text for ent in nlp_doc.ents]\n",
    "    else:\n",
    "        ents = [ent.text for ent in nlp_doc.ents if ent.label_ == entity_type.upper()]\n",
    "    unique = list(set(ents))\n",
    "    return unique"
   ]
  },
  {
   "cell_type": "code",
   "execution_count": 18,
   "metadata": {},
   "outputs": [
    {
     "data": {
      "text/plain": [
       "['Donald Trump', 'Trump']"
      ]
     },
     "execution_count": 18,
     "metadata": {},
     "output_type": "execute_result"
    }
   ],
   "source": [
    "entity_extractor(trump, entity_type='person')"
   ]
  },
  {
   "cell_type": "code",
   "execution_count": 19,
   "metadata": {},
   "outputs": [],
   "source": [
    "docs = nlp.pipe(df['text'])\n",
    "people = [entity_extractor(doc, entity_type='person') for doc in docs]"
   ]
  },
  {
   "cell_type": "code",
   "execution_count": 20,
   "metadata": {
    "collapsed": true,
    "jupyter": {
     "outputs_hidden": true
    }
   },
   "outputs": [
    {
     "data": {
      "text/plain": [
       "[['pic.twitter.com/AlgiOgAHQI\\n',\n",
       "  'Matt Hope',\n",
       "  'Rappville',\n",
       "  'Rob Rogers',\n",
       "  'Shane Fitzsimmons',\n",
       "  'Dakota Smith',\n",
       "  'bush',\n",
       "  '— Dakota Smith (@weatherdak)'],\n",
       " ['Chan Ho-him',\n",
       "  'Kwai Fong',\n",
       "  'Kimmy Chung',\n",
       "  'Kathleen Magramo',\n",
       "  'Chow Tsz-lok',\n",
       "  'Victor Ting',\n",
       "  'Karen Zhang',\n",
       "  'Carrie Lam Cheng Yuet',\n",
       "  'Sum Lok-kei',\n",
       "  'Kwan O',\n",
       "  'Joanne Ma',\n",
       "  'Nicola Chan'],\n",
       " [],\n",
       " ['Kim',\n",
       "  'Bush',\n",
       "  'James Clapper',\n",
       "  'Richard Nixon',\n",
       "  'bin Laden',\n",
       "  'Fu Cong',\n",
       "  'Adam Schiff',\n",
       "  'Andrew Wheeler',\n",
       "  'Comey',\n",
       "  'Ivanka',\n",
       "  'Robert Mueller',\n",
       "  'Howard Stern',\n",
       "  'Ivanka Trump',\n",
       "  'Mavericks',\n",
       "  'Stephen Moore',\n",
       "  'Conor Lamb',\n",
       "  'Sgt',\n",
       "  'Sidney Powell',\n",
       "  'Derek Scissors',\n",
       "  'Mark Zaid',\n",
       "  'Schiff',\n",
       "  'Obama',\n",
       "  'Herbert Hoover',\n",
       "  'Dean Baquet',\n",
       "  'Mitchell Warren',\n",
       "  'Sean Hannity',\n",
       "  'Brad Karkkainen',\n",
       "  'Hillary',\n",
       "  'Trump',\n",
       "  'Julián Castro',\n",
       "  'Rudy Giuliani',\n",
       "  'Flynn',\n",
       "  'Hannity',\n",
       "  'Sentier',\n",
       "  'Barack Obama',\n",
       "  'William Barr',\n",
       "  'Osama bin Laden',\n",
       "  'Zelensky',\n",
       "  'Paul Manafort',\n",
       "  'James Jeffrey',\n",
       "  'Ann Carlson',\n",
       "  'Steve Doocy',\n",
       "  \"Donald Trump's\",\n",
       "  'Kim Jong',\n",
       "  \"George Washington's\",\n",
       "  'Mazloum',\n",
       "  'Joe Biden',\n",
       "  'Clinton',\n",
       "  'Jedediah Bila',\n",
       "  'ISIS',\n",
       "  'Todd Harrison',\n",
       "  'Cameron',\n",
       "  'Chuck Schumer',\n",
       "  'Mike Pompeo',\n",
       "  'Mary Thompson',\n",
       "  'Michael Flynn',\n",
       "  'Lamb',\n",
       "  'Cameron LNG',\n",
       "  'Doocy',\n",
       "  'Donald Trump',\n",
       "  'Zelensky Trump',\n",
       "  'Kim Jong Un',\n",
       "  'George Washington',\n",
       "  'Pelosi',\n",
       "  'David',\n",
       "  'Mueller',\n",
       "  'Sean',\n",
       "  'Bin Laden',\n",
       "  'Jeffrey',\n",
       "  \"Nancy Pelosi's\",\n",
       "  'Eric Bolling',\n",
       "  'Cedric Leighton',\n",
       "  'Charlie Kirk',\n",
       "  'Abu Bakr al-Baghdadi',\n",
       "  'David Bernhardt',\n",
       "  'Arthur Sulzberger Jr.',\n",
       "  'John Bel Edwards',\n",
       "  'Powell',\n",
       "  'Schumer',\n",
       "  'Alexander Vindman',\n",
       "  'Volodymyr Zelensky',\n",
       "  'Bradley Moss',\n",
       "  'Elizabeth Warren',\n",
       "  'Nancy Pelosi',\n",
       "  'Edwards',\n",
       "  'Harrison',\n",
       "  'Jason Evans',\n",
       "  'Donald Trump Jr.',\n",
       "  'Jeffrey Engel',\n",
       "  'Crooked Hillary',\n",
       "  'John F. Kennedy',\n",
       "  'Pete Hegseth',\n",
       "  'Michael Atkinson',\n",
       "  'Bill Clinton',\n",
       "  'Hillary Clinton',\n",
       "  'Shifty Schiff',\n",
       "  'Kirk',\n",
       "  'Gordon Green',\n",
       "  'Gene Kim',\n",
       "  'Conor',\n",
       "  'Thompson',\n",
       "  'George W. Bush',\n",
       "  'Tomahawk'],\n",
       " ['karavai',\n",
       "  'Getty Images',\n",
       "  'Pan Cubano',\n",
       "  'Roti gambang',\n",
       "  'Ashkenazi',\n",
       "  'Tibet Alamy Crops',\n",
       "  'William Rubel',\n",
       "  'Maya',\n",
       "  'Jen Rose Smith',\n",
       "  'Bolani',\n",
       "  'Arnaldo Cavallari',\n",
       "  'Simit',\n",
       "  'simit',\n",
       "  'Rēwena parāoa',\n",
       "  'Pai bao',\n",
       "  'A.D. Injera',\n",
       "  'Manasollasa',\n",
       "  'Johannes Eisele/AFP',\n",
       "  'Iran Behrouz Mehri/AFP',\n",
       "  'Ħobż tal-Malti',\n",
       "  'Emmanuel',\n",
       "  'Morocco Bartosz Luczak/iStockphoto',\n",
       "  'Rubel',\n",
       "  'Jordan Shutterstock',\n",
       "  'Challah',\n",
       "  'Jim Chevallier',\n",
       "  'Baguette',\n",
       "  'Karepanman',\n",
       "  'Roti canai',\n",
       "  'Lisa Cherkasky',\n",
       "  'Bruce Bisping',\n",
       "  'nan-e sangak',\n",
       "  'Tangzhong',\n",
       "  'Balep korkun',\n",
       "  'balep korkun',\n",
       "  'Luke E. Montavon/AFP/Getty Images Golden',\n",
       "  'Enrico Spanu',\n",
       "  'bakers',\n",
       "  'Kare pan',\n",
       "  'roti gambang',\n",
       "  'carta de musica',\n",
       "  \"x'ħobz\",\n",
       "  'Sweden Alamy',\n",
       "  'Anpanman',\n",
       "  'White Lily',\n",
       "  'Dixie D. Vereen',\n",
       "  'sulguni cheeses'],\n",
       " ['Tiwai Smelter'],\n",
       " ['Linda Lew', 'Jeffie Lam', 'Kimmy Chung'],\n",
       " ['Matt Gorman',\n",
       "  'William Taylor',\n",
       "  'Biden',\n",
       "  'Mike Pompeo',\n",
       "  'Trump',\n",
       "  'Gorman',\n",
       "  'Taylor',\n",
       "  'Donald Trump',\n",
       "  \"Mike Pence's\",\n",
       "  'Zelenkskiy',\n",
       "  'Pence',\n",
       "  'Mick Mulvaney',\n",
       "  'Marc Short',\n",
       "  'Mulvaney',\n",
       "  'Erdogan',\n",
       "  'Volodymyr Zelenskiy',\n",
       "  'Zelenskiy',\n",
       "  'Recep Tayyip Erdogan',\n",
       "  'Abu Bakr al-Baghdadi',\n",
       "  'Joe Biden'],\n",
       " ['Jennifer Poulson', 'Hulog', 'Addil Bin Bashir', 'Justin Hulog', 'LoL'],\n",
       " ['Chow Tsz-lok']]"
      ]
     },
     "execution_count": 20,
     "metadata": {},
     "output_type": "execute_result"
    }
   ],
   "source": [
    "people[:10]"
   ]
  },
  {
   "cell_type": "code",
   "execution_count": null,
   "metadata": {},
   "outputs": [],
   "source": []
  },
  {
   "cell_type": "code",
   "execution_count": 21,
   "metadata": {},
   "outputs": [
    {
     "data": {
      "text/plain": [
       "0      [pic.twitter.com/AlgiOgAHQI\\n, Matt Hope, Rapp...\n",
       "1      [Chan Ho-him, Kwai Fong, Kimmy Chung, Kathleen...\n",
       "2                                                     []\n",
       "3      [Kim, Bush, James Clapper, Richard Nixon, bin ...\n",
       "4      [karavai, Getty Images, Pan Cubano, Roti gamba...\n",
       "                             ...                        \n",
       "170    [Marcus, Lyft, Steven Mnuchin, Benoit Tessier,...\n",
       "171    [Steven Mnuchin, Carson, Ben Carson, Rayburn B...\n",
       "172    [Andrew Harnik, David Solomon, Cheung, Bill Gu...\n",
       "173    [Donald Trump, Facebook, Xi, Jerome Powell, Tr...\n",
       "174    [Warren, Mark Zuckerberg, Yang, Bernie Sanders...\n",
       "Name: people, Length: 175, dtype: object"
      ]
     },
     "execution_count": 21,
     "metadata": {},
     "output_type": "execute_result"
    }
   ],
   "source": [
    "df['people'] = people\n",
    "df['people']"
   ]
  },
  {
   "cell_type": "code",
   "execution_count": 22,
   "metadata": {},
   "outputs": [
    {
     "data": {
      "text/html": [
       "<div>\n",
       "<style scoped>\n",
       "    .dataframe tbody tr th:only-of-type {\n",
       "        vertical-align: middle;\n",
       "    }\n",
       "\n",
       "    .dataframe tbody tr th {\n",
       "        vertical-align: top;\n",
       "    }\n",
       "\n",
       "    .dataframe thead th {\n",
       "        text-align: right;\n",
       "    }\n",
       "</style>\n",
       "<table border=\"1\" class=\"dataframe\">\n",
       "  <thead>\n",
       "    <tr style=\"text-align: right;\">\n",
       "      <th></th>\n",
       "      <th>query</th>\n",
       "      <th>title</th>\n",
       "      <th>text</th>\n",
       "      <th>published</th>\n",
       "      <th>site</th>\n",
       "      <th>people</th>\n",
       "    </tr>\n",
       "  </thead>\n",
       "  <tbody>\n",
       "    <tr>\n",
       "      <th>0</th>\n",
       "      <td>Hong Kong</td>\n",
       "      <td>Horrifying view of fires from space</td>\n",
       "      <td>Video Image Satellite images show insane view ...</td>\n",
       "      <td>2019-11-08T23:51:00.000+02:00</td>\n",
       "      <td>news.com.au</td>\n",
       "      <td>[pic.twitter.com/AlgiOgAHQI\\n, Matt Hope, Rapp...</td>\n",
       "    </tr>\n",
       "    <tr>\n",
       "      <th>1</th>\n",
       "      <td>Hong Kong</td>\n",
       "      <td>Protester shot with live round in Hong Kong as...</td>\n",
       "      <td>\\n Chief Executive addresses the press after c...</td>\n",
       "      <td>2019-11-11T02:00:00.000+02:00</td>\n",
       "      <td>scmp.com</td>\n",
       "      <td>[Chan Ho-him, Kwai Fong, Kimmy Chung, Kathleen...</td>\n",
       "    </tr>\n",
       "    <tr>\n",
       "      <th>2</th>\n",
       "      <td>Hong Kong</td>\n",
       "      <td>China imposes online gaming curfew for minors ...</td>\n",
       "      <td>Hong Kong (CNN) China has announced a curfew o...</td>\n",
       "      <td>2019-11-06T02:00:00.000+02:00</td>\n",
       "      <td>cnn.com</td>\n",
       "      <td>[]</td>\n",
       "    </tr>\n",
       "    <tr>\n",
       "      <th>3</th>\n",
       "      <td>Hong Kong</td>\n",
       "      <td>Trump made 96 false claims last week - CNNPoli...</td>\n",
       "      <td>Washington (CNN) President Donald Trump was re...</td>\n",
       "      <td>2019-10-30T20:35:00.000+02:00</td>\n",
       "      <td>cnn.com</td>\n",
       "      <td>[Kim, Bush, James Clapper, Richard Nixon, bin ...</td>\n",
       "    </tr>\n",
       "    <tr>\n",
       "      <th>4</th>\n",
       "      <td>Hong Kong</td>\n",
       "      <td>50 best breads around the world | CNN Travel</td>\n",
       "      <td>(CNN) — What is bread? You likely don't have t...</td>\n",
       "      <td>2019-10-16T07:02:00.000+03:00</td>\n",
       "      <td>cnn.com</td>\n",
       "      <td>[karavai, Getty Images, Pan Cubano, Roti gamba...</td>\n",
       "    </tr>\n",
       "  </tbody>\n",
       "</table>\n",
       "</div>"
      ],
      "text/plain": [
       "       query                                              title  \\\n",
       "0  Hong Kong                Horrifying view of fires from space   \n",
       "1  Hong Kong  Protester shot with live round in Hong Kong as...   \n",
       "2  Hong Kong  China imposes online gaming curfew for minors ...   \n",
       "3  Hong Kong  Trump made 96 false claims last week - CNNPoli...   \n",
       "4  Hong Kong       50 best breads around the world | CNN Travel   \n",
       "\n",
       "                                                text  \\\n",
       "0  Video Image Satellite images show insane view ...   \n",
       "1  \\n Chief Executive addresses the press after c...   \n",
       "2  Hong Kong (CNN) China has announced a curfew o...   \n",
       "3  Washington (CNN) President Donald Trump was re...   \n",
       "4  (CNN) — What is bread? You likely don't have t...   \n",
       "\n",
       "                       published         site  \\\n",
       "0  2019-11-08T23:51:00.000+02:00  news.com.au   \n",
       "1  2019-11-11T02:00:00.000+02:00     scmp.com   \n",
       "2  2019-11-06T02:00:00.000+02:00      cnn.com   \n",
       "3  2019-10-30T20:35:00.000+02:00      cnn.com   \n",
       "4  2019-10-16T07:02:00.000+03:00      cnn.com   \n",
       "\n",
       "                                              people  \n",
       "0  [pic.twitter.com/AlgiOgAHQI\\n, Matt Hope, Rapp...  \n",
       "1  [Chan Ho-him, Kwai Fong, Kimmy Chung, Kathleen...  \n",
       "2                                                 []  \n",
       "3  [Kim, Bush, James Clapper, Richard Nixon, bin ...  \n",
       "4  [karavai, Getty Images, Pan Cubano, Roti gamba...  "
      ]
     },
     "execution_count": 22,
     "metadata": {},
     "output_type": "execute_result"
    }
   ],
   "source": [
    "df.head()"
   ]
  },
  {
   "cell_type": "code",
   "execution_count": 26,
   "metadata": {},
   "outputs": [
    {
     "data": {
      "text/plain": [
       "Donald Trump        30\n",
       "Trump               23\n",
       "Mark Zuckerberg     22\n",
       "Boris Johnson       15\n",
       "Johnson             11\n",
       "Elizabeth Warren    11\n",
       "Zuckerberg           9\n",
       "Joe Biden            8\n",
       "Hillary Clinton      8\n",
       "David Marcus         8\n",
       "Name: people, dtype: int64"
      ]
     },
     "execution_count": 26,
     "metadata": {},
     "output_type": "execute_result"
    }
   ],
   "source": [
    "# most mentioned people\n",
    "df.explode('people')['people'].value_counts()[:10]"
   ]
  },
  {
   "cell_type": "code",
   "execution_count": 27,
   "metadata": {},
   "outputs": [
    {
     "name": "stdout",
     "output_type": "stream",
     "text": [
      "****Hong Kong****\n",
      "Donald Trump            6\n",
      "Carrie Lam              5\n",
      "Chow Tsz-lok            3\n",
      "Mike Pompeo             2\n",
      "Kwan O                  2\n",
      "Kimmy Chung             2\n",
      "Xi Jinping              2\n",
      "Trump                   2\n",
      "Abu Bakr al-Baghdadi    2\n",
      "Joe Biden               2\n",
      "Name: people, dtype: int64\n",
      "\n",
      "****Tesla****\n",
      "Elon Musk              4\n",
      "Facebook               2\n",
      "Cambridge Analytica    2\n",
      "Deepak Chopra          2\n",
      "Grete Suarez           2\n",
      "Musk                   2\n",
      "Trump                  2\n",
      "Dan Ives               2\n",
      "Vivek Arya             1\n",
      "Teresa                 1\n",
      "Name: people, dtype: int64\n",
      "\n",
      "****alt-right****\n",
      "Trump              8\n",
      "Donald Trump       7\n",
      "Breitbart          7\n",
      "Richard Spencer    5\n",
      "Steve Bannon       4\n",
      "Katie McHugh       4\n",
      "Stephen Miller     4\n",
      "McHugh             4\n",
      "Miller             4\n",
      "Jeff Sessions      3\n",
      "Name: people, dtype: int64\n",
      "\n",
      "****billionaire****\n",
      "Donald Trump            9\n",
      "Trump                   8\n",
      "David Cay Johnston’s    6\n",
      "Bill Gates              5\n",
      "Hillary Clinton         5\n",
      "Bernie Sanders          4\n",
      "Warren                  4\n",
      "Elizabeth Warren        4\n",
      "Obama                   3\n",
      "Mark Zuckerberg         3\n",
      "Name: people, dtype: int64\n",
      "\n",
      "****bitcoin****\n",
      "Jong Woo Son       4\n",
      "David Marcus       3\n",
      "Mark Zuckerberg    3\n",
      "Kadeem L. Noray    2\n",
      "Shiller            2\n",
      "David Hopkinson    2\n",
      "Philip Lowe        2\n",
      "Warren Buffett     2\n",
      "Kyle Fox           2\n",
      "Buffett            2\n",
      "Name: people, dtype: int64\n",
      "\n",
      "****brexit****\n",
      "Boris Johnson     13\n",
      "Johnson            9\n",
      "Tory               6\n",
      "Jeremy Corbyn      4\n",
      "Boris              4\n",
      "John Bercow        3\n",
      "John McDonnell     3\n",
      "Oliver Letwin      3\n",
      "Brexit             3\n",
      "Donald Trump       3\n",
      "Name: people, dtype: int64\n",
      "\n",
      "****cryptocurrency****\n",
      "Mark Zuckerberg     13\n",
      "Zuckerberg           7\n",
      "Elizabeth Warren     5\n",
      "David Marcus         5\n",
      "Brian Cheung         3\n",
      "Ocasio-Cortez        3\n",
      "Donald Trump         3\n",
      "Steven Mnuchin       3\n",
      "Joe Biden            2\n",
      "Letitia James        2\n",
      "Name: people, dtype: int64\n",
      "\n"
     ]
    }
   ],
   "source": [
    "# top ten people per group\n",
    "for query,data in df.groupby('query'):\n",
    "    print(f\"****{query}****\")\n",
    "    print(data.explode('people')['people'].value_counts()[:10])\n",
    "    print()"
   ]
  },
  {
   "cell_type": "code",
   "execution_count": 30,
   "metadata": {},
   "outputs": [
    {
     "data": {
      "text/html": [
       "<div>\n",
       "<style scoped>\n",
       "    .dataframe tbody tr th:only-of-type {\n",
       "        vertical-align: middle;\n",
       "    }\n",
       "\n",
       "    .dataframe tbody tr th {\n",
       "        vertical-align: top;\n",
       "    }\n",
       "\n",
       "    .dataframe thead th {\n",
       "        text-align: right;\n",
       "    }\n",
       "</style>\n",
       "<table border=\"1\" class=\"dataframe\">\n",
       "  <thead>\n",
       "    <tr style=\"text-align: right;\">\n",
       "      <th></th>\n",
       "      <th>people</th>\n",
       "      <th>query</th>\n",
       "      <th>title</th>\n",
       "      <th>text</th>\n",
       "      <th>published</th>\n",
       "      <th>site</th>\n",
       "    </tr>\n",
       "  </thead>\n",
       "  <tbody>\n",
       "    <tr>\n",
       "      <th>331</th>\n",
       "      <td>Donald Trump</td>\n",
       "      <td>30</td>\n",
       "      <td>30</td>\n",
       "      <td>30</td>\n",
       "      <td>30</td>\n",
       "      <td>30</td>\n",
       "    </tr>\n",
       "    <tr>\n",
       "      <th>1266</th>\n",
       "      <td>Trump</td>\n",
       "      <td>23</td>\n",
       "      <td>23</td>\n",
       "      <td>23</td>\n",
       "      <td>23</td>\n",
       "      <td>23</td>\n",
       "    </tr>\n",
       "    <tr>\n",
       "      <th>836</th>\n",
       "      <td>Mark Zuckerberg</td>\n",
       "      <td>22</td>\n",
       "      <td>22</td>\n",
       "      <td>22</td>\n",
       "      <td>22</td>\n",
       "      <td>22</td>\n",
       "    </tr>\n",
       "    <tr>\n",
       "      <th>170</th>\n",
       "      <td>Boris Johnson</td>\n",
       "      <td>15</td>\n",
       "      <td>15</td>\n",
       "      <td>15</td>\n",
       "      <td>15</td>\n",
       "      <td>15</td>\n",
       "    </tr>\n",
       "    <tr>\n",
       "      <th>369</th>\n",
       "      <td>Elizabeth Warren</td>\n",
       "      <td>11</td>\n",
       "      <td>11</td>\n",
       "      <td>11</td>\n",
       "      <td>11</td>\n",
       "      <td>11</td>\n",
       "    </tr>\n",
       "    <tr>\n",
       "      <th>648</th>\n",
       "      <td>Johnson</td>\n",
       "      <td>11</td>\n",
       "      <td>11</td>\n",
       "      <td>11</td>\n",
       "      <td>11</td>\n",
       "      <td>11</td>\n",
       "    </tr>\n",
       "    <tr>\n",
       "      <th>1371</th>\n",
       "      <td>Zuckerberg</td>\n",
       "      <td>9</td>\n",
       "      <td>9</td>\n",
       "      <td>9</td>\n",
       "      <td>9</td>\n",
       "      <td>9</td>\n",
       "    </tr>\n",
       "    <tr>\n",
       "      <th>181</th>\n",
       "      <td>Breitbart</td>\n",
       "      <td>8</td>\n",
       "      <td>8</td>\n",
       "      <td>8</td>\n",
       "      <td>8</td>\n",
       "      <td>8</td>\n",
       "    </tr>\n",
       "    <tr>\n",
       "      <th>296</th>\n",
       "      <td>David Marcus</td>\n",
       "      <td>8</td>\n",
       "      <td>8</td>\n",
       "      <td>8</td>\n",
       "      <td>8</td>\n",
       "      <td>8</td>\n",
       "    </tr>\n",
       "    <tr>\n",
       "      <th>518</th>\n",
       "      <td>Hillary Clinton</td>\n",
       "      <td>8</td>\n",
       "      <td>8</td>\n",
       "      <td>8</td>\n",
       "      <td>8</td>\n",
       "      <td>8</td>\n",
       "    </tr>\n",
       "  </tbody>\n",
       "</table>\n",
       "</div>"
      ],
      "text/plain": [
       "                people  query  title  text  published  site\n",
       "331       Donald Trump     30     30    30         30    30\n",
       "1266             Trump     23     23    23         23    23\n",
       "836    Mark Zuckerberg     22     22    22         22    22\n",
       "170      Boris Johnson     15     15    15         15    15\n",
       "369   Elizabeth Warren     11     11    11         11    11\n",
       "648            Johnson     11     11    11         11    11\n",
       "1371        Zuckerberg      9      9     9          9     9\n",
       "181          Breitbart      8      8     8          8     8\n",
       "296       David Marcus      8      8     8          8     8\n",
       "518    Hillary Clinton      8      8     8          8     8"
      ]
     },
     "execution_count": 30,
     "metadata": {},
     "output_type": "execute_result"
    }
   ],
   "source": [
    "to_plot = df.explode('people').groupby('people', as_index=False).count().nlargest(10,'text')\n",
    "to_plot"
   ]
  },
  {
   "cell_type": "code",
   "execution_count": 31,
   "metadata": {},
   "outputs": [],
   "source": [
    "import seaborn as sns\n",
    "import matplotlib.pyplot as plt"
   ]
  },
  {
   "cell_type": "code",
   "execution_count": 32,
   "metadata": {},
   "outputs": [
    {
     "data": {
      "image/png": "[encoded data removed]",
      "text/plain": [
       "<Figure size 720x360 with 1 Axes>"
      ]
     },
     "metadata": {
      "needs_background": "light"
     },
     "output_type": "display_data"
    }
   ],
   "source": [
    "# seaborn plot here \n",
    "sns.barplot(data=to_plot, x='people', y='title')\n",
    "\n",
    "\n",
    "fig = plt.gcf()\n",
    "fig.set_size_inches(10, 5)\n",
    "\n",
    "plt.xlabel('Person')\n",
    "plt.ylabel('article frequency')\n",
    "plt.title('Most mentioned people by article frequency')\n",
    "plt.xticks(rotation=90)\n",
    "plt.show()"
   ]
  },
  {
   "cell_type": "code",
   "execution_count": 33,
   "metadata": {},
   "outputs": [
    {
     "data": {
      "image/png": "[encoded data removed]",
      "text/plain": [
       "<Figure size 720x360 with 1 Axes>"
      ]
     },
     "metadata": {
      "needs_background": "light"
     },
     "output_type": "display_data"
    },
    {
     "data": {
      "image/png": "[encoded data removed]",
      "text/plain": [
       "<Figure size 720x360 with 1 Axes>"
      ]
     },
     "metadata": {
      "needs_background": "light"
     },
     "output_type": "display_data"
    },
    {
     "data": {
      "image/png": "[encoded data removed]",
      "text/plain": [
       "<Figure size 720x360 with 1 Axes>"
      ]
     },
     "metadata": {
      "needs_background": "light"
     },
     "output_type": "display_data"
    },
    {
     "data": {
      "image/png": "[encoded data removed]",
      "text/plain": [
       "<Figure size 720x360 with 1 Axes>"
      ]
     },
     "metadata": {
      "needs_background": "light"
     },
     "output_type": "display_data"
    },
    {
     "data": {
      "image/png": "[encoded data removed]",
      "text/plain": [
       "<Figure size 720x360 with 1 Axes>"
      ]
     },
     "metadata": {
      "needs_background": "light"
     },
     "output_type": "display_data"
    },
    {
     "data": {
      "image/png": "[encoded data removed]",
      "text/plain": [
       "<Figure size 720x360 with 1 Axes>"
      ]
     },
     "metadata": {
      "needs_background": "light"
     },
     "output_type": "display_data"
    },
    {
     "data": {
      "image/png": "[encoded data removed]",
      "text/plain": [
       "<Figure size 720x360 with 1 Axes>"
      ]
     },
     "metadata": {
      "needs_background": "light"
     },
     "output_type": "display_data"
    }
   ],
   "source": [
    "# grouped by query\n",
    "for query, data in df.groupby('query'):\n",
    "    to_plot = data.explode('people').groupby('people', as_index=False).count().nlargest(10, 'title')\n",
    "    \n",
    "    sns.barplot(data=to_plot, x='people',y='title')\n",
    "\n",
    "    fig = plt.gcf()\n",
    "    fig.set_size_inches(10, 5)\n",
    "\n",
    "    plt.xlabel('Person')\n",
    "    plt.ylabel('article frequency')\n",
    "    plt.title(f'{query}: Most mentioned people by article frequency')\n",
    "    plt.xticks(rotation=90)\n",
    "    plt.show()"
   ]
  },
  {
   "cell_type": "code",
   "execution_count": null,
   "metadata": {},
   "outputs": [],
   "source": []
  }
 ],
 "metadata": {
  "kernelspec": {
   "display_name": "Python [conda env:teaching]",
   "language": "python",
   "name": "conda-env-teaching-py"
  },
  "language_info": {
   "codemirror_mode": {
    "name": "ipython",
    "version": 3
   },
   "file_extension": ".py",
   "mimetype": "text/x-python",
   "name": "python",
   "nbconvert_exporter": "python",
   "pygments_lexer": "ipython3",
   "version": "3.7.8"
  }
 },
 "nbformat": 4,
 "nbformat_minor": 4
}
