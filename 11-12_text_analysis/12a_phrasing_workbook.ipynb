{
 "cells": [
  {
   "cell_type": "markdown",
   "metadata": {},
   "source": [
    "# Session 12(a) - Text Mining\n",
    "## Analysing and summarising collections of text\n",
    "### Phrases\n",
    "\n",
    "Having learned how to clean and simplify our text for processing, the next stage is to ask what our text is about. This session will cover finding"
   ]
  },
  {
   "cell_type": "code",
   "execution_count": 1,
   "metadata": {},
   "outputs": [],
   "source": [
    "import pandas as pd\n",
    "import spacy"
   ]
  },
  {
   "cell_type": "code",
   "execution_count": 2,
   "metadata": {},
   "outputs": [],
   "source": [
    "df = pd.read_csv('sample_news_large.csv')"
   ]
  },
  {
   "cell_type": "code",
   "execution_count": 3,
   "metadata": {},
   "outputs": [
    {
     "name": "stdout",
     "output_type": "stream",
     "text": [
      "<class 'pandas.core.frame.DataFrame'>\n",
      "RangeIndex: 175 entries, 0 to 174\n",
      "Data columns (total 5 columns):\n",
      " #   Column     Non-Null Count  Dtype \n",
      "---  ------     --------------  ----- \n",
      " 0   query      175 non-null    object\n",
      " 1   title      173 non-null    object\n",
      " 2   text       175 non-null    object\n",
      " 3   published  175 non-null    object\n",
      " 4   site       175 non-null    object\n",
      "dtypes: object(5)\n",
      "memory usage: 7.0+ KB\n"
     ]
    }
   ],
   "source": [
    "df.info()"
   ]
  },
  {
   "cell_type": "code",
   "execution_count": 4,
   "metadata": {},
   "outputs": [
    {
     "data": {
      "text/html": [
       "<div>\n",
       "<style scoped>\n",
       "    .dataframe tbody tr th:only-of-type {\n",
       "        vertical-align: middle;\n",
       "    }\n",
       "\n",
       "    .dataframe tbody tr th {\n",
       "        vertical-align: top;\n",
       "    }\n",
       "\n",
       "    .dataframe thead th {\n",
       "        text-align: right;\n",
       "    }\n",
       "</style>\n",
       "<table border=\"1\" class=\"dataframe\">\n",
       "  <thead>\n",
       "    <tr style=\"text-align: right;\">\n",
       "      <th></th>\n",
       "      <th>query</th>\n",
       "      <th>title</th>\n",
       "      <th>text</th>\n",
       "      <th>published</th>\n",
       "      <th>site</th>\n",
       "    </tr>\n",
       "  </thead>\n",
       "  <tbody>\n",
       "    <tr>\n",
       "      <th>0</th>\n",
       "      <td>Hong Kong</td>\n",
       "      <td>Horrifying view of fires from space</td>\n",
       "      <td>Video Image Satellite images show insane view ...</td>\n",
       "      <td>2019-11-08T23:51:00.000+02:00</td>\n",
       "      <td>news.com.au</td>\n",
       "    </tr>\n",
       "    <tr>\n",
       "      <th>1</th>\n",
       "      <td>Hong Kong</td>\n",
       "      <td>Protester shot with live round in Hong Kong as...</td>\n",
       "      <td>\\n Chief Executive addresses the press after c...</td>\n",
       "      <td>2019-11-11T02:00:00.000+02:00</td>\n",
       "      <td>scmp.com</td>\n",
       "    </tr>\n",
       "    <tr>\n",
       "      <th>2</th>\n",
       "      <td>Hong Kong</td>\n",
       "      <td>China imposes online gaming curfew for minors ...</td>\n",
       "      <td>Hong Kong (CNN) China has announced a curfew o...</td>\n",
       "      <td>2019-11-06T02:00:00.000+02:00</td>\n",
       "      <td>cnn.com</td>\n",
       "    </tr>\n",
       "    <tr>\n",
       "      <th>3</th>\n",
       "      <td>Hong Kong</td>\n",
       "      <td>Trump made 96 false claims last week - CNNPoli...</td>\n",
       "      <td>Washington (CNN) President Donald Trump was re...</td>\n",
       "      <td>2019-10-30T20:35:00.000+02:00</td>\n",
       "      <td>cnn.com</td>\n",
       "    </tr>\n",
       "    <tr>\n",
       "      <th>4</th>\n",
       "      <td>Hong Kong</td>\n",
       "      <td>50 best breads around the world | CNN Travel</td>\n",
       "      <td>(CNN) — What is bread? You likely don't have t...</td>\n",
       "      <td>2019-10-16T07:02:00.000+03:00</td>\n",
       "      <td>cnn.com</td>\n",
       "    </tr>\n",
       "  </tbody>\n",
       "</table>\n",
       "</div>"
      ],
      "text/plain": [
       "       query                                              title  \\\n",
       "0  Hong Kong                Horrifying view of fires from space   \n",
       "1  Hong Kong  Protester shot with live round in Hong Kong as...   \n",
       "2  Hong Kong  China imposes online gaming curfew for minors ...   \n",
       "3  Hong Kong  Trump made 96 false claims last week - CNNPoli...   \n",
       "4  Hong Kong       50 best breads around the world | CNN Travel   \n",
       "\n",
       "                                                text  \\\n",
       "0  Video Image Satellite images show insane view ...   \n",
       "1  \\n Chief Executive addresses the press after c...   \n",
       "2  Hong Kong (CNN) China has announced a curfew o...   \n",
       "3  Washington (CNN) President Donald Trump was re...   \n",
       "4  (CNN) — What is bread? You likely don't have t...   \n",
       "\n",
       "                       published         site  \n",
       "0  2019-11-08T23:51:00.000+02:00  news.com.au  \n",
       "1  2019-11-11T02:00:00.000+02:00     scmp.com  \n",
       "2  2019-11-06T02:00:00.000+02:00      cnn.com  \n",
       "3  2019-10-30T20:35:00.000+02:00      cnn.com  \n",
       "4  2019-10-16T07:02:00.000+03:00      cnn.com  "
      ]
     },
     "execution_count": 4,
     "metadata": {},
     "output_type": "execute_result"
    }
   ],
   "source": [
    "df.head()"
   ]
  },
  {
   "cell_type": "code",
   "execution_count": 5,
   "metadata": {},
   "outputs": [
    {
     "data": {
      "text/plain": [
       "Hong Kong         25\n",
       "brexit            25\n",
       "cryptocurrency    25\n",
       "Tesla             25\n",
       "alt-right         25\n",
       "billionaire       25\n",
       "bitcoin           25\n",
       "Name: query, dtype: int64"
      ]
     },
     "execution_count": 5,
     "metadata": {},
     "output_type": "execute_result"
    }
   ],
   "source": [
    "df['query'].value_counts()"
   ]
  },
  {
   "cell_type": "code",
   "execution_count": 6,
   "metadata": {},
   "outputs": [],
   "source": [
    "df = df.sample(50, random_state=1)"
   ]
  },
  {
   "cell_type": "code",
   "execution_count": 7,
   "metadata": {},
   "outputs": [],
   "source": [
    "nlp = spacy.load('en_core_web_md')"
   ]
  },
  {
   "cell_type": "markdown",
   "metadata": {},
   "source": [
    "## Phrases (n-grams)\n",
    "<img src=\"https://github.com/Minyall/sc207_materials/blob/master/images/Archer-phrasing.jpg?raw=true\" align=\"right\" width=\"300\">\n",
    "\n",
    "- Operates on the assumption that if words often co-occur together in a corpus, they should be considered as a single 'phrase', rather than as individual words.\n",
    "- Phrasing improves the accuracy of various analyses as it recognises that words may be transformed by their context.\n",
    "- For example: \n",
    "    - In one document we have the phrase \"human rights\", in the other, \"human biology\". \n",
    "    - **Without phrasing** these may be considered similar as they both use the word \"human\".\n",
    "    - However **with phrasing** these would be transformed into two seperate tokens, human_rights and human_biology, and therefore be more likely to be distinguished as different.\n",
    "\n",
    "#### Training the Phraser\n",
    "\n",
    "`train_phraser` has three stages. \n",
    "- First we create a list of tokenized *sentences*. \n",
    "- We then feed that list of sentences to a Gensim `Phrases` model. This model looks at which token co-occur, how often and [makes a judgement](https://arxiv.org/abs/1310.4546) about whether co-occurence is common enough to consider it a 'phrase'.\n",
    "- Why sentences? Sentences mark out boundaries between words. Consider the phrase 'Human Rights'...\n",
    "\n",
    "\n",
    "```\n",
    "... and so recognising that he was only human. Rights based discussions can only....\n",
    "\n",
    "```\n",
    "\n",
    "```\n",
    "... and so recognising that he was only human rights based discussions can only..\n",
    "\n",
    "```"
   ]
  },
  {
   "cell_type": "code",
   "execution_count": 8,
   "metadata": {},
   "outputs": [],
   "source": [
    "# gensim is a text processing library that has the Phrasing tools we need\n",
    "from gensim.models import Phrases"
   ]
  },
  {
   "cell_type": "code",
   "execution_count": 19,
   "metadata": {},
   "outputs": [],
   "source": [
    "stop_words = nlp.Defaults.stop_words\n",
    "def process_text(doc):\n",
    "    return [token.lemma_.lower() for token in doc if token.is_alpha]\n",
    "\n",
    "# process sentences function\n",
    "def process_sentences(doc):\n",
    "    return [process_text(sent) for sent in doc.sents]\n",
    "\n",
    "# ###### START HERE!!\n",
    "def train_phraser(corpus, stop_words):\n",
    "    sentences = []\n",
    "    for doc in nlp.pipe(corpus):\n",
    "        doc_sents = process_sentences(doc)\n",
    "        sentences.extend(doc_sents)\n",
    "    \n",
    "    phraser = Phrases(sentences, common_terms=stop_words)\n",
    "    return phraser"
   ]
  },
  {
   "cell_type": "code",
   "execution_count": 20,
   "metadata": {},
   "outputs": [
    {
     "name": "stdout",
     "output_type": "stream",
     "text": [
      "CPU times: user 6.88 s, sys: 1.96 s, total: 8.84 s\n",
      "Wall time: 9.88 s\n"
     ]
    }
   ],
   "source": [
    "%time phraser = train_phraser(df['text'], stop_words)"
   ]
  },
  {
   "cell_type": "code",
   "execution_count": 22,
   "metadata": {},
   "outputs": [
    {
     "data": {
      "text/plain": [
       "Taxing the rich to help the poor and middle class has defined the presidential campaigns of Senators Elizabeth Warren and Bernie Sanders.\n",
       "Skeptics of the proposal argue that a wealth tax of this magnitude is impractical, and will not generate the revenue that Senator Warren and supporters anticipate. But French economist Gabriel Zucman, an early proponent of the tax , argues otherwise.\n",
       "Zucman, now author of the book “The Triumph of Injustice: How the Rich Dodge Taxes and How to Make Them Pay,” joined The Final Round to"
      ]
     },
     "execution_count": 22,
     "metadata": {},
     "output_type": "execute_result"
    }
   ],
   "source": [
    "test_text = nlp(df['text'].iloc[0])\n",
    "test_text[:100]"
   ]
  },
  {
   "cell_type": "code",
   "execution_count": 24,
   "metadata": {},
   "outputs": [
    {
     "name": "stdout",
     "output_type": "stream",
     "text": [
      "['have', 'define', 'the', 'presidential', 'campaign', 'of', 'senators', 'elizabeth', 'warren', 'and', 'bernie', 'sanders', 'skeptic', 'of', 'the', 'proposal', 'argue', 'that', 'a', 'wealth']\n"
     ]
    }
   ],
   "source": [
    "tokens = process_text(test_text)\n",
    "print(tokens[10:30])"
   ]
  },
  {
   "cell_type": "code",
   "execution_count": 26,
   "metadata": {},
   "outputs": [
    {
     "name": "stdout",
     "output_type": "stream",
     "text": [
      "['have', 'define', 'the', 'presidential', 'campaign', 'of', 'senators', 'elizabeth_warren', 'and', 'bernie', 'sanders', 'skeptic', 'of', 'the', 'proposal', 'argue', 'that', 'a', 'wealth_tax', 'of']\n"
     ]
    }
   ],
   "source": [
    "phrased = phraser[tokens]\n",
    "print(phrased[10:30])"
   ]
  },
  {
   "cell_type": "code",
   "execution_count": 27,
   "metadata": {},
   "outputs": [
    {
     "data": {
      "text/plain": [
       "['elizabeth_warren',\n",
       " 'wealth_tax',\n",
       " 'wealth_tax',\n",
       " 'elizabeth_warren',\n",
       " 'wealth_tax',\n",
       " 'wealth_tax',\n",
       " 'elizabeth_warren',\n",
       " 'wealth_tax',\n",
       " 'wealth_tax',\n",
       " 'new_york',\n",
       " 'new_york',\n",
       " 'chief_executive',\n",
       " 'chief_executive',\n",
       " 'wealth_tax']"
      ]
     },
     "execution_count": 27,
     "metadata": {},
     "output_type": "execute_result"
    }
   ],
   "source": [
    "[token for token in phrased if '_' in token]"
   ]
  },
  {
   "cell_type": "code",
   "execution_count": 28,
   "metadata": {},
   "outputs": [],
   "source": [
    "# We can save our phraser to disk so we don't have to do it again\n",
    "\n",
    "phraser.save('phraser.bin')\n",
    "\n",
    "# and load it when we need it\n",
    "\n",
    "phraser = Phrases.load('phraser.bin')"
   ]
  },
  {
   "cell_type": "markdown",
   "metadata": {},
   "source": [
    "### Integrating Phrasing\n",
    "Let's adjust our original functions to accommodate phrasing. We'll make it an optional part of the process."
   ]
  },
  {
   "cell_type": "code",
   "execution_count": 33,
   "metadata": {},
   "outputs": [],
   "source": [
    "# OUR REPLACEMENT FUNCTIONS\n",
    "\n",
    "def process_text(doc, phraser=None):\n",
    "    if phraser is None:\n",
    "        return [token.lemma_.lower() for token in doc if token.is_alpha]\n",
    "    else:\n",
    "        tokens = []\n",
    "        sentences = process_sentences(doc)\n",
    "        for sent in sentences:\n",
    "            phrased = phraser[sent]\n",
    "            tokens.extend(phrased)\n",
    "    return tokens\n",
    "\n",
    "def process_sentences(doc):\n",
    "    return [process_text(sent) for sent in doc.sents]\n",
    "    \n",
    "def filter_stops(tokens, stop_words):\n",
    "    return [tok for tok in tokens if tok.lower() not in stop_words]\n",
    "\n",
    "def process_documents(corpus, phraser=None, stop_words=None): #change here\n",
    "    docs = nlp.pipe(corpus)\n",
    "    processed = [process_text(doc, phraser=phraser) for doc in docs] # and here\n",
    "    if stop_words is not None:\n",
    "        processed = [filter_stops(doc, stop_words) for doc in processed]\n",
    "    return processed"
   ]
  },
  {
   "cell_type": "code",
   "execution_count": 34,
   "metadata": {},
   "outputs": [
    {
     "name": "stdout",
     "output_type": "stream",
     "text": [
      "['have', 'define', 'the', 'presidential', 'campaign', 'of', 'senators', 'elizabeth', 'warren', 'and', 'bernie', 'sanders', 'skeptic', 'of', 'the', 'proposal', 'argue', 'that', 'a', 'wealth']\n"
     ]
    }
   ],
   "source": [
    "print(process_text(test_text)[10:30])"
   ]
  },
  {
   "cell_type": "code",
   "execution_count": 35,
   "metadata": {},
   "outputs": [
    {
     "name": "stdout",
     "output_type": "stream",
     "text": [
      "['have', 'define', 'the', 'presidential', 'campaign', 'of', 'senators', 'elizabeth_warren', 'and', 'bernie', 'sanders', 'skeptic', 'of', 'the', 'proposal', 'argue', 'that', 'a', 'wealth_tax', 'of']\n"
     ]
    }
   ],
   "source": [
    "print(process_text(test_text, phraser=phraser)[10:30])"
   ]
  },
  {
   "cell_type": "code",
   "execution_count": 37,
   "metadata": {},
   "outputs": [
    {
     "name": "stdout",
     "output_type": "stream",
     "text": [
      "CPU times: user 6.58 s, sys: 1.87 s, total: 8.45 s\n",
      "Wall time: 9.05 s\n"
     ]
    }
   ],
   "source": [
    "%time tokenized_docs = process_documents(df['text'], phraser=phraser, stop_words=stop_words)"
   ]
  },
  {
   "cell_type": "code",
   "execution_count": 44,
   "metadata": {
    "collapsed": true,
    "jupyter": {
     "outputs_hidden": true
    }
   },
   "outputs": [
    {
     "data": {
      "text/plain": [
       "['private',\n",
       " 'email',\n",
       " 'white_house',\n",
       " 'senior',\n",
       " 'adviser',\n",
       " 'stephen',\n",
       " 'miller',\n",
       " 'send',\n",
       " 'breitbart',\n",
       " 'editor',\n",
       " '-pron-',\n",
       " 'recommend',\n",
       " 'white',\n",
       " 'nationalist',\n",
       " 'website',\n",
       " 'literature',\n",
       " 'uphold',\n",
       " 'coolidge',\n",
       " 'administration',\n",
       " 'model']"
      ]
     },
     "execution_count": 44,
     "metadata": {},
     "output_type": "execute_result"
    }
   ],
   "source": [
    "tokenized_docs[4][:20]"
   ]
  },
  {
   "cell_type": "code",
   "execution_count": 47,
   "metadata": {},
   "outputs": [],
   "source": [
    "# to reiterate the steps\n",
    "df = pd.read_csv('sample_news_large.csv')\n",
    "\n",
    "# df = df.sample(50, random_state=1) # only use if you want to reduce the number of rows for testing\n",
    "\n",
    "# Get your list of texts and stop words\n",
    "corpus = df['text']\n",
    "stop_words = nlp.Defaults.stop_words\n",
    "\n",
    "# train your phraser and save it to avoid retraining later\n",
    "phraser = train_phraser(corpus, stop_words)\n",
    "phraser.save('phraser.bin')\n",
    "\n",
    "tokenized_docs = process_documents(corpus,phraser=phraser, stop_words=stop_words)\n",
    "# Done!!"
   ]
  },
  {
   "cell_type": "code",
   "execution_count": 48,
   "metadata": {},
   "outputs": [],
   "source": [
    "df['tokens'] = tokenized_docs"
   ]
  },
  {
   "cell_type": "code",
   "execution_count": 49,
   "metadata": {},
   "outputs": [
    {
     "data": {
      "text/html": [
       "<div>\n",
       "<style scoped>\n",
       "    .dataframe tbody tr th:only-of-type {\n",
       "        vertical-align: middle;\n",
       "    }\n",
       "\n",
       "    .dataframe tbody tr th {\n",
       "        vertical-align: top;\n",
       "    }\n",
       "\n",
       "    .dataframe thead th {\n",
       "        text-align: right;\n",
       "    }\n",
       "</style>\n",
       "<table border=\"1\" class=\"dataframe\">\n",
       "  <thead>\n",
       "    <tr style=\"text-align: right;\">\n",
       "      <th></th>\n",
       "      <th>query</th>\n",
       "      <th>title</th>\n",
       "      <th>text</th>\n",
       "      <th>published</th>\n",
       "      <th>site</th>\n",
       "      <th>tokens</th>\n",
       "    </tr>\n",
       "  </thead>\n",
       "  <tbody>\n",
       "    <tr>\n",
       "      <th>93</th>\n",
       "      <td>billionaire</td>\n",
       "      <td>Warren's wealth tax would solve economic inequ...</td>\n",
       "      <td>Taxing the rich to help the poor and middle cl...</td>\n",
       "      <td>2019-10-27T17:45:00.000+02:00</td>\n",
       "      <td>yahoo.com</td>\n",
       "      <td>[tax, rich, help, poor, middle, class, define,...</td>\n",
       "    </tr>\n",
       "    <tr>\n",
       "      <th>114</th>\n",
       "      <td>bitcoin</td>\n",
       "      <td>The crypto CEO who bailed on a $4.6 million lu...</td>\n",
       "      <td>View Business Insider’s homepage for more stor...</td>\n",
       "      <td>2019-11-06T12:51:00.000+02:00</td>\n",
       "      <td>businessinsider.com</td>\n",
       "      <td>[view, business_insider, homepage, story, cryp...</td>\n",
       "    </tr>\n",
       "    <tr>\n",
       "      <th>19</th>\n",
       "      <td>Hong Kong</td>\n",
       "      <td>Stock market news: November 8, 2019</td>\n",
       "      <td>Stocks ended slightly higher, shrugging off ea...</td>\n",
       "      <td>2019-11-08T18:30:00.000+02:00</td>\n",
       "      <td>yahoo.com</td>\n",
       "      <td>[stock, end, slightly, high, shrug, early, los...</td>\n",
       "    </tr>\n",
       "    <tr>\n",
       "      <th>69</th>\n",
       "      <td>alt-right</td>\n",
       "      <td>Victoria Police 'extremely' disappointed with ...</td>\n",
       "      <td>Victoria Police denounces 'inappropriate' meme...</td>\n",
       "      <td>2019-11-02T09:44:00.000+02:00</td>\n",
       "      <td>abc.net.au</td>\n",
       "      <td>[victoria_police, denounce, inappropriate, mem...</td>\n",
       "    </tr>\n",
       "    <tr>\n",
       "      <th>53</th>\n",
       "      <td>alt-right</td>\n",
       "      <td>Stephen Miller promoted white supremacist, ant...</td>\n",
       "      <td>Hundreds of private emails White House senior ...</td>\n",
       "      <td>2019-11-12T23:15:00.000+02:00</td>\n",
       "      <td>vox.com</td>\n",
       "      <td>[private, email, white_house, senior, adviser,...</td>\n",
       "    </tr>\n",
       "  </tbody>\n",
       "</table>\n",
       "</div>"
      ],
      "text/plain": [
       "           query                                              title  \\\n",
       "93   billionaire  Warren's wealth tax would solve economic inequ...   \n",
       "114      bitcoin  The crypto CEO who bailed on a $4.6 million lu...   \n",
       "19     Hong Kong                Stock market news: November 8, 2019   \n",
       "69     alt-right  Victoria Police 'extremely' disappointed with ...   \n",
       "53     alt-right  Stephen Miller promoted white supremacist, ant...   \n",
       "\n",
       "                                                  text  \\\n",
       "93   Taxing the rich to help the poor and middle cl...   \n",
       "114  View Business Insider’s homepage for more stor...   \n",
       "19   Stocks ended slightly higher, shrugging off ea...   \n",
       "69   Victoria Police denounces 'inappropriate' meme...   \n",
       "53   Hundreds of private emails White House senior ...   \n",
       "\n",
       "                         published                 site  \\\n",
       "93   2019-10-27T17:45:00.000+02:00            yahoo.com   \n",
       "114  2019-11-06T12:51:00.000+02:00  businessinsider.com   \n",
       "19   2019-11-08T18:30:00.000+02:00            yahoo.com   \n",
       "69   2019-11-02T09:44:00.000+02:00           abc.net.au   \n",
       "53   2019-11-12T23:15:00.000+02:00              vox.com   \n",
       "\n",
       "                                                tokens  \n",
       "93   [tax, rich, help, poor, middle, class, define,...  \n",
       "114  [view, business_insider, homepage, story, cryp...  \n",
       "19   [stock, end, slightly, high, shrug, early, los...  \n",
       "69   [victoria_police, denounce, inappropriate, mem...  \n",
       "53   [private, email, white_house, senior, adviser,...  "
      ]
     },
     "execution_count": 49,
     "metadata": {},
     "output_type": "execute_result"
    }
   ],
   "source": [
    "df.head()"
   ]
  },
  {
   "cell_type": "markdown",
   "metadata": {},
   "source": [
    "### Top Phrases"
   ]
  },
  {
   "cell_type": "code",
   "execution_count": 53,
   "metadata": {},
   "outputs": [
    {
     "data": {
      "text/plain": [
       "['elizabeth_warren',\n",
       " 'wealth_tax',\n",
       " 'wealth_tax',\n",
       " 'elizabeth_warren',\n",
       " 'wealth_tax',\n",
       " 'wealth_tax',\n",
       " 'elizabeth_warren',\n",
       " 'wealth_tax',\n",
       " 'wealth_tax',\n",
       " 'new_york',\n",
       " 'new_york',\n",
       " 'chief_executive',\n",
       " 'chief_executive',\n",
       " 'wealth_tax']"
      ]
     },
     "execution_count": 53,
     "metadata": {},
     "output_type": "execute_result"
    }
   ],
   "source": [
    "test_tokens = df.loc[93,'tokens']\n",
    "extract_phrases(test_tokens)"
   ]
  },
  {
   "cell_type": "code",
   "execution_count": 55,
   "metadata": {},
   "outputs": [],
   "source": [
    "def extract_phrases(tokens):\n",
    "    return [token for token in tokens if '_' in token]\n",
    "\n",
    "df['phrases'] = df['tokens'].apply(extract_phrases)"
   ]
  },
  {
   "cell_type": "code",
   "execution_count": 58,
   "metadata": {},
   "outputs": [
    {
     "data": {
      "text/html": [
       "<div>\n",
       "<style scoped>\n",
       "    .dataframe tbody tr th:only-of-type {\n",
       "        vertical-align: middle;\n",
       "    }\n",
       "\n",
       "    .dataframe tbody tr th {\n",
       "        vertical-align: top;\n",
       "    }\n",
       "\n",
       "    .dataframe thead th {\n",
       "        text-align: right;\n",
       "    }\n",
       "</style>\n",
       "<table border=\"1\" class=\"dataframe\">\n",
       "  <thead>\n",
       "    <tr style=\"text-align: right;\">\n",
       "      <th></th>\n",
       "      <th>query</th>\n",
       "      <th>title</th>\n",
       "      <th>text</th>\n",
       "      <th>published</th>\n",
       "      <th>site</th>\n",
       "      <th>tokens</th>\n",
       "      <th>phrases</th>\n",
       "    </tr>\n",
       "  </thead>\n",
       "  <tbody>\n",
       "    <tr>\n",
       "      <th>93</th>\n",
       "      <td>billionaire</td>\n",
       "      <td>Warren's wealth tax would solve economic inequ...</td>\n",
       "      <td>Taxing the rich to help the poor and middle cl...</td>\n",
       "      <td>2019-10-27T17:45:00.000+02:00</td>\n",
       "      <td>yahoo.com</td>\n",
       "      <td>[tax, rich, help, poor, middle, class, define,...</td>\n",
       "      <td>[elizabeth_warren, wealth_tax, wealth_tax, eli...</td>\n",
       "    </tr>\n",
       "    <tr>\n",
       "      <th>114</th>\n",
       "      <td>bitcoin</td>\n",
       "      <td>The crypto CEO who bailed on a $4.6 million lu...</td>\n",
       "      <td>View Business Insider’s homepage for more stor...</td>\n",
       "      <td>2019-11-06T12:51:00.000+02:00</td>\n",
       "      <td>businessinsider.com</td>\n",
       "      <td>[view, business_insider, homepage, story, cryp...</td>\n",
       "      <td>[business_insider, donald_trump]</td>\n",
       "    </tr>\n",
       "    <tr>\n",
       "      <th>19</th>\n",
       "      <td>Hong Kong</td>\n",
       "      <td>Stock market news: November 8, 2019</td>\n",
       "      <td>Stocks ended slightly higher, shrugging off ea...</td>\n",
       "      <td>2019-11-08T18:30:00.000+02:00</td>\n",
       "      <td>yahoo.com</td>\n",
       "      <td>[stock, end, slightly, high, shrug, early, los...</td>\n",
       "      <td>[president_donald, president_donald, white_hou...</td>\n",
       "    </tr>\n",
       "    <tr>\n",
       "      <th>69</th>\n",
       "      <td>alt-right</td>\n",
       "      <td>Victoria Police 'extremely' disappointed with ...</td>\n",
       "      <td>Victoria Police denounces 'inappropriate' meme...</td>\n",
       "      <td>2019-11-02T09:44:00.000+02:00</td>\n",
       "      <td>abc.net.au</td>\n",
       "      <td>[victoria_police, denounce, inappropriate, mem...</td>\n",
       "      <td>[victoria_police, victoria_police, alt_right, ...</td>\n",
       "    </tr>\n",
       "    <tr>\n",
       "      <th>53</th>\n",
       "      <td>alt-right</td>\n",
       "      <td>Stephen Miller promoted white supremacist, ant...</td>\n",
       "      <td>Hundreds of private emails White House senior ...</td>\n",
       "      <td>2019-11-12T23:15:00.000+02:00</td>\n",
       "      <td>vox.com</td>\n",
       "      <td>[private, email, white_house, senior, adviser,...</td>\n",
       "      <td>[white_house, trump_administration, far_right,...</td>\n",
       "    </tr>\n",
       "  </tbody>\n",
       "</table>\n",
       "</div>"
      ],
      "text/plain": [
       "           query                                              title  \\\n",
       "93   billionaire  Warren's wealth tax would solve economic inequ...   \n",
       "114      bitcoin  The crypto CEO who bailed on a $4.6 million lu...   \n",
       "19     Hong Kong                Stock market news: November 8, 2019   \n",
       "69     alt-right  Victoria Police 'extremely' disappointed with ...   \n",
       "53     alt-right  Stephen Miller promoted white supremacist, ant...   \n",
       "\n",
       "                                                  text  \\\n",
       "93   Taxing the rich to help the poor and middle cl...   \n",
       "114  View Business Insider’s homepage for more stor...   \n",
       "19   Stocks ended slightly higher, shrugging off ea...   \n",
       "69   Victoria Police denounces 'inappropriate' meme...   \n",
       "53   Hundreds of private emails White House senior ...   \n",
       "\n",
       "                         published                 site  \\\n",
       "93   2019-10-27T17:45:00.000+02:00            yahoo.com   \n",
       "114  2019-11-06T12:51:00.000+02:00  businessinsider.com   \n",
       "19   2019-11-08T18:30:00.000+02:00            yahoo.com   \n",
       "69   2019-11-02T09:44:00.000+02:00           abc.net.au   \n",
       "53   2019-11-12T23:15:00.000+02:00              vox.com   \n",
       "\n",
       "                                                tokens  \\\n",
       "93   [tax, rich, help, poor, middle, class, define,...   \n",
       "114  [view, business_insider, homepage, story, cryp...   \n",
       "19   [stock, end, slightly, high, shrug, early, los...   \n",
       "69   [victoria_police, denounce, inappropriate, mem...   \n",
       "53   [private, email, white_house, senior, adviser,...   \n",
       "\n",
       "                                               phrases  \n",
       "93   [elizabeth_warren, wealth_tax, wealth_tax, eli...  \n",
       "114                   [business_insider, donald_trump]  \n",
       "19   [president_donald, president_donald, white_hou...  \n",
       "69   [victoria_police, victoria_police, alt_right, ...  \n",
       "53   [white_house, trump_administration, far_right,...  "
      ]
     },
     "execution_count": 58,
     "metadata": {},
     "output_type": "execute_result"
    }
   ],
   "source": [
    "# phrases for one document\n",
    "df.head()"
   ]
  },
  {
   "cell_type": "code",
   "execution_count": 64,
   "metadata": {},
   "outputs": [
    {
     "data": {
      "text/plain": [
       "hong_kong           216\n",
       "hide_caption        162\n",
       "kong_unrest          38\n",
       "photos_hong          30\n",
       "pro_democracy        28\n",
       "unrest_protester     22\n",
       "photo_hong           21\n",
       "new_york             19\n",
       "tear_gas             19\n",
       "getty_images         17\n",
       "Name: phrases, dtype: int64"
      ]
     },
     "execution_count": 64,
     "metadata": {},
     "output_type": "execute_result"
    }
   ],
   "source": [
    "df.explode('phrases')['phrases'].value_counts()[:10]"
   ]
  },
  {
   "cell_type": "code",
   "execution_count": 65,
   "metadata": {},
   "outputs": [
    {
     "name": "stdout",
     "output_type": "stream",
     "text": [
      "hong_kong           216\n",
      "hide_caption        162\n",
      "kong_unrest          38\n",
      "photos_hong          30\n",
      "pro_democracy        28\n",
      "unrest_protester     22\n",
      "photo_hong           21\n",
      "new_york             19\n",
      "tear_gas             19\n",
      "getty_images         17\n",
      "Name: phrases, dtype: int64\n"
     ]
    }
   ],
   "source": [
    "# top ten phrases overall\n",
    "print(df.explode('phrases')['phrases'].value_counts()[:10])"
   ]
  },
  {
   "cell_type": "code",
   "execution_count": 66,
   "metadata": {},
   "outputs": [
    {
     "data": {
      "text/html": [
       "<div>\n",
       "<style scoped>\n",
       "    .dataframe tbody tr th:only-of-type {\n",
       "        vertical-align: middle;\n",
       "    }\n",
       "\n",
       "    .dataframe tbody tr th {\n",
       "        vertical-align: top;\n",
       "    }\n",
       "\n",
       "    .dataframe thead th {\n",
       "        text-align: right;\n",
       "    }\n",
       "</style>\n",
       "<table border=\"1\" class=\"dataframe\">\n",
       "  <thead>\n",
       "    <tr style=\"text-align: right;\">\n",
       "      <th></th>\n",
       "      <th>query</th>\n",
       "      <th>title</th>\n",
       "      <th>text</th>\n",
       "      <th>published</th>\n",
       "      <th>site</th>\n",
       "      <th>tokens</th>\n",
       "      <th>phrases</th>\n",
       "    </tr>\n",
       "  </thead>\n",
       "  <tbody>\n",
       "    <tr>\n",
       "      <th>93</th>\n",
       "      <td>billionaire</td>\n",
       "      <td>Warren's wealth tax would solve economic inequ...</td>\n",
       "      <td>Taxing the rich to help the poor and middle cl...</td>\n",
       "      <td>2019-10-27T17:45:00.000+02:00</td>\n",
       "      <td>yahoo.com</td>\n",
       "      <td>[tax, rich, help, poor, middle, class, define,...</td>\n",
       "      <td>[elizabeth_warren, wealth_tax, wealth_tax, eli...</td>\n",
       "    </tr>\n",
       "    <tr>\n",
       "      <th>114</th>\n",
       "      <td>bitcoin</td>\n",
       "      <td>The crypto CEO who bailed on a $4.6 million lu...</td>\n",
       "      <td>View Business Insider’s homepage for more stor...</td>\n",
       "      <td>2019-11-06T12:51:00.000+02:00</td>\n",
       "      <td>businessinsider.com</td>\n",
       "      <td>[view, business_insider, homepage, story, cryp...</td>\n",
       "      <td>[business_insider, donald_trump]</td>\n",
       "    </tr>\n",
       "    <tr>\n",
       "      <th>19</th>\n",
       "      <td>Hong Kong</td>\n",
       "      <td>Stock market news: November 8, 2019</td>\n",
       "      <td>Stocks ended slightly higher, shrugging off ea...</td>\n",
       "      <td>2019-11-08T18:30:00.000+02:00</td>\n",
       "      <td>yahoo.com</td>\n",
       "      <td>[stock, end, slightly, high, shrug, early, los...</td>\n",
       "      <td>[president_donald, president_donald, white_hou...</td>\n",
       "    </tr>\n",
       "    <tr>\n",
       "      <th>69</th>\n",
       "      <td>alt-right</td>\n",
       "      <td>Victoria Police 'extremely' disappointed with ...</td>\n",
       "      <td>Victoria Police denounces 'inappropriate' meme...</td>\n",
       "      <td>2019-11-02T09:44:00.000+02:00</td>\n",
       "      <td>abc.net.au</td>\n",
       "      <td>[victoria_police, denounce, inappropriate, mem...</td>\n",
       "      <td>[victoria_police, victoria_police, alt_right, ...</td>\n",
       "    </tr>\n",
       "    <tr>\n",
       "      <th>53</th>\n",
       "      <td>alt-right</td>\n",
       "      <td>Stephen Miller promoted white supremacist, ant...</td>\n",
       "      <td>Hundreds of private emails White House senior ...</td>\n",
       "      <td>2019-11-12T23:15:00.000+02:00</td>\n",
       "      <td>vox.com</td>\n",
       "      <td>[private, email, white_house, senior, adviser,...</td>\n",
       "      <td>[white_house, trump_administration, far_right,...</td>\n",
       "    </tr>\n",
       "  </tbody>\n",
       "</table>\n",
       "</div>"
      ],
      "text/plain": [
       "           query                                              title  \\\n",
       "93   billionaire  Warren's wealth tax would solve economic inequ...   \n",
       "114      bitcoin  The crypto CEO who bailed on a $4.6 million lu...   \n",
       "19     Hong Kong                Stock market news: November 8, 2019   \n",
       "69     alt-right  Victoria Police 'extremely' disappointed with ...   \n",
       "53     alt-right  Stephen Miller promoted white supremacist, ant...   \n",
       "\n",
       "                                                  text  \\\n",
       "93   Taxing the rich to help the poor and middle cl...   \n",
       "114  View Business Insider’s homepage for more stor...   \n",
       "19   Stocks ended slightly higher, shrugging off ea...   \n",
       "69   Victoria Police denounces 'inappropriate' meme...   \n",
       "53   Hundreds of private emails White House senior ...   \n",
       "\n",
       "                         published                 site  \\\n",
       "93   2019-10-27T17:45:00.000+02:00            yahoo.com   \n",
       "114  2019-11-06T12:51:00.000+02:00  businessinsider.com   \n",
       "19   2019-11-08T18:30:00.000+02:00            yahoo.com   \n",
       "69   2019-11-02T09:44:00.000+02:00           abc.net.au   \n",
       "53   2019-11-12T23:15:00.000+02:00              vox.com   \n",
       "\n",
       "                                                tokens  \\\n",
       "93   [tax, rich, help, poor, middle, class, define,...   \n",
       "114  [view, business_insider, homepage, story, cryp...   \n",
       "19   [stock, end, slightly, high, shrug, early, los...   \n",
       "69   [victoria_police, denounce, inappropriate, mem...   \n",
       "53   [private, email, white_house, senior, adviser,...   \n",
       "\n",
       "                                               phrases  \n",
       "93   [elizabeth_warren, wealth_tax, wealth_tax, eli...  \n",
       "114                   [business_insider, donald_trump]  \n",
       "19   [president_donald, president_donald, white_hou...  \n",
       "69   [victoria_police, victoria_police, alt_right, ...  \n",
       "53   [white_house, trump_administration, far_right,...  "
      ]
     },
     "execution_count": 66,
     "metadata": {},
     "output_type": "execute_result"
    }
   ],
   "source": [
    "df.head()"
   ]
  },
  {
   "cell_type": "code",
   "execution_count": 69,
   "metadata": {},
   "outputs": [
    {
     "name": "stdout",
     "output_type": "stream",
     "text": [
      "****Hong Kong****\n",
      "hong_kong           216\n",
      "hide_caption        159\n",
      "kong_unrest          38\n",
      "photos_hong          30\n",
      "pro_democracy        28\n",
      "unrest_protester     22\n",
      "photo_hong           21\n",
      "tear_gas             17\n",
      "unrest_police        16\n",
      "anti_government      13\n",
      "Name: phrases, dtype: int64\n",
      "\n",
      "****Tesla****\n",
      "electric_vehicle    13\n",
      "electric_car        12\n",
      "elon_musk            9\n",
      "mhari_shaw           9\n",
      "early_retirement     8\n",
      "mr_musk              7\n",
      "self_drive           7\n",
      "rs_automotive        6\n",
      "yahoo_finance        4\n",
      "business_insider     4\n",
      "Name: phrases, dtype: int64\n",
      "\n",
      "****alt-right****\n",
      "alt_right               13\n",
      "victoria_police         11\n",
      "far_right                9\n",
      "sandy_hook               7\n",
      "social_medium            6\n",
      "new_york                 5\n",
      "trump_administration     5\n",
      "white_house              5\n",
      "washington_post          3\n",
      "police_officer           2\n",
      "Name: phrases, dtype: int64\n",
      "\n",
      "****billionaire****\n",
      "raw_story             16\n",
      "trump_organization    15\n",
      "wealth_tax             7\n",
      "russell_moyle          7\n",
      "white_house            6\n",
      "business_insider       6\n",
      "foreign_deal           6\n",
      "foreign_government     6\n",
      "rees_mogg              6\n",
      "donald_trump           6\n",
      "Name: phrases, dtype: int64\n",
      "\n",
      "****bitcoin****\n",
      "libra_association    12\n",
      "com_mirza            11\n",
      "canada_revenue        8\n",
      "toronto_police        6\n",
      "gulf_news             6\n",
      "real_estate           5\n",
      "mark_zuckerberg       3\n",
      "social_medium         3\n",
      "new_york              3\n",
      "adjusted_earning      3\n",
      "Name: phrases, dtype: int64\n",
      "\n",
      "****brexit****\n",
      "mr_johnson          13\n",
      "boris_johnson       10\n",
      "prime_minister      10\n",
      "trade_deal           5\n",
      "image_copyright      4\n",
      "president_donald     3\n",
      "new_york             2\n",
      "donald_trump         2\n",
      "jacob_rees           1\n",
      "getty_images         1\n",
      "Name: phrases, dtype: int64\n",
      "\n",
      "****cryptocurrency****\n",
      "political_ad          16\n",
      "quantum_computer      10\n",
      "mark_zuckerberg        7\n",
      "quantum_supremacy      6\n",
      "social_medium          4\n",
      "house_financial        3\n",
      "services_committee     2\n",
      "new_york               1\n",
      "getty_images           1\n",
      "chief_executive        1\n",
      "Name: phrases, dtype: int64\n",
      "\n"
     ]
    }
   ],
   "source": [
    "# top ten phrases per group\n",
    "for query, data in df.groupby('query'):\n",
    "    print(f\"****{query}****\")\n",
    "    print(data.explode('phrases')['phrases'].value_counts()[:10])\n",
    "    print()"
   ]
  },
  {
   "cell_type": "code",
   "execution_count": null,
   "metadata": {},
   "outputs": [],
   "source": []
  }
 ],
 "metadata": {
  "kernelspec": {
   "display_name": "Python [conda env:teaching]",
   "language": "python",
   "name": "conda-env-teaching-py"
  },
  "language_info": {
   "codemirror_mode": {
    "name": "ipython",
    "version": 3
   },
   "file_extension": ".py",
   "mimetype": "text/x-python",
   "name": "python",
   "nbconvert_exporter": "python",
   "pygments_lexer": "ipython3",
   "version": "3.7.8"
  }
 },
 "nbformat": 4,
 "nbformat_minor": 4
}
