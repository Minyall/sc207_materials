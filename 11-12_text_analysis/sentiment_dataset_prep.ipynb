{
 "cells": [
  {
   "cell_type": "code",
   "execution_count": 31,
   "metadata": {},
   "outputs": [],
   "source": [
    "import pandas as pd"
   ]
  },
  {
   "cell_type": "code",
   "execution_count": 32,
   "metadata": {},
   "outputs": [],
   "source": [
    "with open(\"dictionary.txt\", 'r') as f:\n",
    "    \n",
    "    dictionary = list(f.readlines())\n",
    "    dictionary = list(map(lambda x: x.strip().split('|'), dictionary))\n",
    "    dictionary = pd.DataFrame(dictionary, columns=['phrase','phrase ids'])"
   ]
  },
  {
   "cell_type": "code",
   "execution_count": 33,
   "metadata": {},
   "outputs": [],
   "source": [
    "with open(\"sentiment_labels.txt\", 'r') as f:\n",
    "    \n",
    "    sentiments = list(f.readlines())"
   ]
  },
  {
   "cell_type": "code",
   "execution_count": 34,
   "metadata": {},
   "outputs": [],
   "source": [
    "sentiments = list(map(lambda x: x.strip().split('|'), sentiments))\n",
    "sentiments = pd.DataFrame(sentiments[1:], columns=sentiments[0])"
   ]
  },
  {
   "cell_type": "code",
   "execution_count": 35,
   "metadata": {},
   "outputs": [],
   "source": [
    "data = dictionary.merge(sentiments, on='phrase ids')"
   ]
  },
  {
   "cell_type": "code",
   "execution_count": 36,
   "metadata": {},
   "outputs": [],
   "source": [
    "data['sentiment values'] = data['sentiment values'].astype(float)"
   ]
  },
  {
   "cell_type": "code",
   "execution_count": 37,
   "metadata": {},
   "outputs": [],
   "source": [
    "cut = pd.cut(data['sentiment values'],bins=[0,0.2,0.4,0.6,0.8,1.0],\n",
    "             labels=['very negative','negative','neutral','positive','very positive'])"
   ]
  },
  {
   "cell_type": "code",
   "execution_count": 38,
   "metadata": {},
   "outputs": [],
   "source": [
    "data['sentiment_label'] = cut"
   ]
  },
  {
   "cell_type": "code",
   "execution_count": 39,
   "metadata": {},
   "outputs": [],
   "source": [
    "data = data.drop(columns=['phrase ids']).rename(columns={'sentiment values':'senti_val', 'sentiment_label':'senti_label'})"
   ]
  },
  {
   "cell_type": "code",
   "execution_count": 40,
   "metadata": {},
   "outputs": [],
   "source": [
    "data = data[data['phrase'].apply(lambda x: len(x) > 20 )]\n",
    "data = data[~data['senti_label'].isna()]"
   ]
  },
  {
   "cell_type": "code",
   "execution_count": 41,
   "metadata": {},
   "outputs": [],
   "source": [
    "data.to_csv('imdb_sentiment_example.csv', index=False)"
   ]
  },
  {
   "cell_type": "code",
   "execution_count": 42,
   "metadata": {},
   "outputs": [
    {
     "name": "stdout",
     "output_type": "stream",
     "text": [
      "very negative\n",
      "***\n",
      "0.15278 | ordinary melodrama that is heavy on religious symbols but wafer-thin on dramatic substance\n",
      "0.041667 | been replaced by the bottom of the barrel\n",
      "0.097222 | the movie 's contrived , lame screenplay and\n",
      "\n",
      "negative\n",
      "***\n",
      "0.27778 | is an agonizing bore except when the fantastic kathy bates turns up . bravado kathy\n",
      "0.23611 | Michele 's spiritual quest is neither amusing nor dramatic enough to sustain interest\n",
      "0.22222 | its juxtaposition of overwrought existentialism and stomach-churning gore\n",
      "\n",
      "neutral\n",
      "***\n",
      "0.59722 | the sights and sounds of the wondrous beats\n",
      "0.44792 | is in depicting child abuse\n",
      "0.54167 | of the inevitable conflicts between human urges and an institution concerned with self-preservation\n",
      "\n",
      "positive\n",
      "***\n",
      "0.65278 | takes its time to tell its story , casts mostly little-known performers in key roles , and\n",
      "0.625 | , but it 's not without style\n",
      "0.68056 | Margarita Happy Hour represents an auspicious feature debut for Chaiken .\n",
      "\n",
      "very positive\n",
      "***\n",
      "0.81944 | a whip-crack of a buddy movie\n",
      "0.83333 | But it 's ) worth recommending because of two marvelous performances by Michael Caine and Brendan\n",
      "0.83333 | cinema at its finest .\n",
      "\n"
     ]
    }
   ],
   "source": [
    "for group, df in data.groupby('senti_label'):\n",
    "    print(group)\n",
    "    print('***')\n",
    "    for i, row in df.sample(3).iterrows():\n",
    "        print(str(row['senti_val'])+\" | \"+row['phrase'])\n",
    "    print()"
   ]
  },
  {
   "cell_type": "code",
   "execution_count": null,
   "metadata": {},
   "outputs": [],
   "source": []
  }
 ],
 "metadata": {
  "kernelspec": {
   "display_name": "Python [conda env:teaching]",
   "language": "python",
   "name": "conda-env-teaching-py"
  },
  "language_info": {
   "codemirror_mode": {
    "name": "ipython",
    "version": 3
   },
   "file_extension": ".py",
   "mimetype": "text/x-python",
   "name": "python",
   "nbconvert_exporter": "python",
   "pygments_lexer": "ipython3",
   "version": "3.7.8"
  }
 },
 "nbformat": 4,
 "nbformat_minor": 4
}
