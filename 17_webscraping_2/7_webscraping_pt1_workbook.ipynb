{
 "cells": [
  {
   "cell_type": "markdown",
   "metadata": {},
   "source": [
    "# WebScraping\n",
    "## 4. Retrieving Thread Content (Single Page)\n",
    "To get started lets's take a url of a thread.\n",
    "\n",
    "https://uberpeople.net/threads/fight-for-equity-in-uber-not-to-become-an-employee.30393/  \n",
    "\n",
    "Our main priority here is to retrieve the text from each post within the thread.\n",
    "\n",
    "Things you might want to consider before you begin.\n",
    "- Do I want to retrieve just the entire thread text or be able to seperate the text into individual posts?\n",
    "- Some posts in the thread have quotes, am I keeping those or removing them?\n",
    "- Do I want to also track user information and date information at a per post level?\n",
    "\n",
    "For this session we will just focus on retrieving the text from the entire thread, and we'll remove quotes to demonstrate how to exclude content."
   ]
  },
  {
   "cell_type": "code",
   "execution_count": null,
   "metadata": {},
   "outputs": [],
   "source": [
    "# imports\n",
    "\n"
   ]
  },
  {
   "cell_type": "markdown",
   "metadata": {},
   "source": [
    "\n",
    "### Retrieving (and cleaning) a Single Post"
   ]
  },
  {
   "cell_type": "markdown",
   "metadata": {},
   "source": [
    "\n",
    "\n",
    "- If we inspect the page we can see posts are contained within a `div` element with the class `p-body-content`\n",
    "- Within that division are a series of `article` elements, which seem to correspond with the posts.\n",
    "- There are also divisions which are not articles, which appear to be adverts.\n",
    "- If we narrow down to the division that contains the posts, and then find all `article` elements with the class `message` we should avoid the adverts..."
   ]
  },
  {
   "cell_type": "code",
   "execution_count": null,
   "metadata": {},
   "outputs": [],
   "source": [
    "# This should be familiar by now\n",
    "\n",
    "test_url = 'https://uberpeople.net/threads/fight-for-equity-in-uber-not-to-become-an-employee.30393/'\n",
    "response = \n",
    "soup = "
   ]
  },
  {
   "cell_type": "code",
   "execution_count": null,
   "metadata": {},
   "outputs": [],
   "source": [
    "# We narrow down to the division containing the article elements\n",
    "post_container = \n",
    "\n",
    "# Then we find all article elements which will return us a list of posts.\n",
    "posts = "
   ]
  },
  {
   "cell_type": "code",
   "execution_count": null,
   "metadata": {
    "scrolled": true
   },
   "outputs": [],
   "source": [
    "# check the first post\n"
   ]
  },
  {
   "cell_type": "code",
   "execution_count": null,
   "metadata": {},
   "outputs": [],
   "source": [
    "# To access just the text the most nested element that contains the text is another\n",
    "# article tag (nested within the original article tag) with the class 'message-body'\n",
    "\n"
   ]
  },
  {
   "cell_type": "code",
   "execution_count": null,
   "metadata": {},
   "outputs": [],
   "source": [
    "# Looks like this one could be as simple as simply asking for the text content of the container, \n",
    "# and cleaning it up with .strip()\n",
    "\n"
   ]
  },
  {
   "cell_type": "code",
   "execution_count": null,
   "metadata": {},
   "outputs": [],
   "source": [
    "# however if we want to remove quotes we need to remove them from our content...\n",
    "# Depending on your project you may want to keep quotes, \n",
    "# however for now we'll remove them as it is a good opportunity to demonstrate removing erroneous material\n",
    "\n",
    " # post 6 has a quote\n"
   ]
  },
  {
   "cell_type": "code",
   "execution_count": null,
   "metadata": {},
   "outputs": [],
   "source": [
    "# Quotes and the associated informaation like who said it are contained in a blockquote element with the class 'bbCodeBlock--quote' nested inside our article element.\n",
    "# We can use Beautifulsoup's 'decompose' method to remove it.\n",
    "\n"
   ]
  },
  {
   "cell_type": "code",
   "execution_count": null,
   "metadata": {},
   "outputs": [],
   "source": [
    "# check the item again\n",
    "\n"
   ]
  },
  {
   "cell_type": "code",
   "execution_count": null,
   "metadata": {},
   "outputs": [],
   "source": [
    "# What happens if we try and decompose on a post without a quote?\n",
    "\n"
   ]
  },
  {
   "cell_type": "markdown",
   "metadata": {},
   "source": [
    "\n",
    "\n",
    "We get an error because we're trying to run decompose on a `None` object because our `.find` method returns a `None` if it can't find what we're asking for.  We can use this to our advantage.\n",
    "\n",
    "- We can use the presence or absence of a `None` as a filter that allows us to control whether we attempt to decompose the quote or not.\n",
    "\n"
   ]
  },
  {
   "cell_type": "code",
   "execution_count": null,
   "metadata": {},
   "outputs": [],
   "source": [
    "# if we run the same as above without the decompose we can check using a comparator (True or False?)\n",
    "\n"
   ]
  },
  {
   "cell_type": "code",
   "execution_count": null,
   "metadata": {},
   "outputs": [],
   "source": [
    "# to demonstrate here we just use the filter to show us only posts that contain a quote.\n",
    "\n"
   ]
  },
  {
   "cell_type": "code",
   "execution_count": null,
   "metadata": {},
   "outputs": [],
   "source": [
    "# we can use this logic to clean posts if they need to be cleaned, or leave them if they don't.\n",
    "\n",
    "\n"
   ]
  },
  {
   "cell_type": "markdown",
   "metadata": {},
   "source": [
    "## ACTIVITY: Build a text_extractor\n",
    "\n",
    "- Before when collecting thread information we created a function to extract what we want from a single row.\n",
    "- Here we're going to  create a function that can extract the cleaned text from an individual post.\n",
    "- Later we'll use this function as part of another function to collect all the posts.\n",
    "- Create a `text_extractor` function...\n",
    "    - It should take a post.\n",
    "    - Isolate the post content\n",
    "    - Check to see whether there is a quote inside that post content\n",
    "    - If there is a quote, it should decompose it\n",
    "    - Whether there was a quote or not, it should then return the post content text that has been stripped of surrounding whitespace."
   ]
  },
  {
   "cell_type": "code",
   "execution_count": null,
   "metadata": {},
   "outputs": [],
   "source": [
    "def post_text_extractor(post):\n",
    "    \n",
    "    \n",
    "    \n",
    "    return "
   ]
  },
  {
   "cell_type": "code",
   "execution_count": null,
   "metadata": {},
   "outputs": [],
   "source": [
    "test_post = posts[6]\n",
    "\n",
    "result = post_text_extractor(test_post)\n",
    "print(result)"
   ]
  },
  {
   "cell_type": "markdown",
   "metadata": {},
   "source": [
    "### Retrieving (and cleaning) Multiple Posts"
   ]
  },
  {
   "cell_type": "markdown",
   "metadata": {},
   "source": [
    "### ACTIVITY: Build a page_posts_extractor\n",
    "\n",
    "- Now we have our function to extract a single post, we can loop over all the posts and collect the text into a list\n",
    "- Create a function called `page_posts_extractor`. The function should...\n",
    "    - take a requests response\n",
    "    - transform it into soup\n",
    "    - isolate the container of the posts\n",
    "    - create a list of individual posts from that container\n",
    "    - loop over each post in the page, extract the text and save it to a list\n",
    "    - and then return the completed list."
   ]
  },
  {
   "cell_type": "code",
   "execution_count": null,
   "metadata": {},
   "outputs": [],
   "source": [
    "def page_posts_extractor(response):\n",
    "    \n",
    "    \n",
    "    \n",
    "    \n",
    "    \n",
    "    return "
   ]
  },
  {
   "cell_type": "code",
   "execution_count": null,
   "metadata": {},
   "outputs": [],
   "source": [
    "test_url = 'https://uberpeople.net/threads/fight-for-equity-in-uber-not-to-become-an-employee.30393/'\n",
    "response = requests.get(test_url)\n",
    "\n",
    "page_posts_extractor(response)"
   ]
  },
  {
   "cell_type": "code",
   "execution_count": null,
   "metadata": {},
   "outputs": [],
   "source": []
  }
 ],
 "metadata": {
  "kernelspec": {
   "display_name": "Python [conda env:teaching]",
   "language": "python",
   "name": "conda-env-teaching-py"
  },
  "language_info": {
   "codemirror_mode": {
    "name": "ipython",
    "version": 3
   },
   "file_extension": ".py",
   "mimetype": "text/x-python",
   "name": "python",
   "nbconvert_exporter": "python",
   "pygments_lexer": "ipython3",
   "version": "3.7.3"
  }
 },
 "nbformat": 4,
 "nbformat_minor": 2
}
