{
 "cells": [
  {
   "cell_type": "markdown",
   "metadata": {
    "pycharm": {
     "name": "#%% md\n"
    }
   },
   "source": [
    "# Network Analysis with NetworkX\n",
    "One key progression when working with network data is to shift your understanding beyond simply thinking of them as visualisations that we can qualitatively interpret, but also as models for structuring data in a relational way that allows us to ask different kinds of questions.\n",
    "\n",
    "Furthermore, network analysis can be in and of itself a method of analysis, but it can also form a part of a larger analysis. For example by using network analysis to identify community partitions you can create a categorical variable to then subdivide your data during exploratory analysis.\n",
    "\n",
    "Rather than turn to Gephi, we can use NetworkX for this relational modelling and analysis."
   ]
  },
  {
   "cell_type": "markdown",
   "metadata": {
    "pycharm": {
     "name": "#%% md\n"
    }
   },
   "source": [
    "#### [NetworkX](https://networkx.org) is a Python library for creating, analysing, and visualising networks\n",
    "* written in pure Python\n",
    "* flexible and easy to install\n",
    "* relatively scalable"
   ]
  },
  {
   "cell_type": "code",
   "execution_count": 1,
   "outputs": [
    {
     "name": "stdout",
     "output_type": "stream",
     "text": [
      "Collecting package metadata (current_repodata.json): done\r\n",
      "Solving environment: done\r\n",
      "\r\n",
      "\r\n",
      "==> WARNING: A newer version of conda exists. <==\r\n",
      "  current version: 4.12.0\r\n",
      "  latest version: 4.13.0\r\n",
      "\r\n",
      "Please update conda by running\r\n",
      "\r\n",
      "    $ conda update -n base conda\r\n",
      "\r\n",
      "\r\n",
      "\r\n",
      "## Package Plan ##\r\n",
      "\r\n",
      "  environment location: /Users/james/miniconda3/envs/teaching\r\n",
      "\r\n",
      "  added / updated specs:\r\n",
      "    - networkx\r\n",
      "    - pandas\r\n",
      "    - scipy\r\n",
      "    - seaborn\r\n",
      "\r\n",
      "\r\n",
      "The following packages will be downloaded:\r\n",
      "\r\n",
      "    package                    |            build\r\n",
      "    ---------------------------|-----------------\r\n",
      "    kiwisolver-1.4.4           |  py310hd23d0e8_0          62 KB  conda-forge\r\n",
      "    ------------------------------------------------------------\r\n",
      "                                           Total:          62 KB\r\n",
      "\r\n",
      "The following NEW packages will be INSTALLED:\r\n",
      "\r\n",
      "  brotli             conda-forge/osx-arm64::brotli-1.0.9-h1c322ee_7\r\n",
      "  brotli-bin         conda-forge/osx-arm64::brotli-bin-1.0.9-h1c322ee_7\r\n",
      "  certifi            conda-forge/osx-arm64::certifi-2022.6.15-py310hbe9552e_0\r\n",
      "  cycler             conda-forge/noarch::cycler-0.11.0-pyhd8ed1ab_0\r\n",
      "  fonttools          conda-forge/osx-arm64::fonttools-4.34.4-py310h02f21da_0\r\n",
      "  freetype           conda-forge/osx-arm64::freetype-2.10.4-h17b34a0_1\r\n",
      "  giflib             conda-forge/osx-arm64::giflib-5.2.1-h27ca646_2\r\n",
      "  jpeg               conda-forge/osx-arm64::jpeg-9e-he4db4b2_2\r\n",
      "  kiwisolver         conda-forge/osx-arm64::kiwisolver-1.4.4-py310hd23d0e8_0\r\n",
      "  lcms2              conda-forge/osx-arm64::lcms2-2.12-had6a04f_0\r\n",
      "  lerc               conda-forge/osx-arm64::lerc-3.0-hbdafb3b_0\r\n",
      "  libblas            conda-forge/osx-arm64::libblas-3.9.0-15_osxarm64_openblas\r\n",
      "  libbrotlicommon    conda-forge/osx-arm64::libbrotlicommon-1.0.9-h1c322ee_7\r\n",
      "  libbrotlidec       conda-forge/osx-arm64::libbrotlidec-1.0.9-h1c322ee_7\r\n",
      "  libbrotlienc       conda-forge/osx-arm64::libbrotlienc-1.0.9-h1c322ee_7\r\n",
      "  libcblas           conda-forge/osx-arm64::libcblas-3.9.0-15_osxarm64_openblas\r\n",
      "  libdeflate         conda-forge/osx-arm64::libdeflate-1.12-he4db4b2_0\r\n",
      "  libgfortran        conda-forge/osx-arm64::libgfortran-5.0.0.dev0-11_0_1_hf114ba7_23\r\n",
      "  libgfortran5       conda-forge/osx-arm64::libgfortran5-11.0.1.dev0-hf114ba7_23\r\n",
      "  liblapack          conda-forge/osx-arm64::liblapack-3.9.0-15_osxarm64_openblas\r\n",
      "  libopenblas        conda-forge/osx-arm64::libopenblas-0.3.20-openmp_h2209c59_0\r\n",
      "  libpng             conda-forge/osx-arm64::libpng-1.6.37-h2c9beb0_3\r\n",
      "  libtiff            conda-forge/osx-arm64::libtiff-4.4.0-hcbbed22_1\r\n",
      "  libwebp            conda-forge/osx-arm64::libwebp-1.2.2-h0d20362_0\r\n",
      "  libwebp-base       conda-forge/osx-arm64::libwebp-base-1.2.2-h3422bc3_1\r\n",
      "  libxcb             conda-forge/osx-arm64::libxcb-1.13-h9b22ae9_1004\r\n",
      "  llvm-openmp        conda-forge/osx-arm64::llvm-openmp-14.0.4-hd125106_0\r\n",
      "  lz4-c              conda-forge/osx-arm64::lz4-c-1.9.3-hbdafb3b_1\r\n",
      "  matplotlib-base    conda-forge/osx-arm64::matplotlib-base-3.5.2-py310hbeb1b0d_0\r\n",
      "  munkres            conda-forge/noarch::munkres-1.1.4-pyh9f0ad1d_0\r\n",
      "  networkx           conda-forge/noarch::networkx-2.8.4-pyhd8ed1ab_0\r\n",
      "  numpy              conda-forge/osx-arm64::numpy-1.23.1-py310h0a343b5_0\r\n",
      "  openjpeg           conda-forge/osx-arm64::openjpeg-2.4.0-h062765e_1\r\n",
      "  pandas             conda-forge/osx-arm64::pandas-1.4.3-py310ha6a5cd6_0\r\n",
      "  patsy              conda-forge/noarch::patsy-0.5.2-pyhd8ed1ab_0\r\n",
      "  pillow             conda-forge/osx-arm64::pillow-9.2.0-py310hc9df86f_0\r\n",
      "  pthread-stubs      conda-forge/osx-arm64::pthread-stubs-0.4-h27ca646_1001\r\n",
      "  pytz               conda-forge/noarch::pytz-2022.1-pyhd8ed1ab_0\r\n",
      "  scipy              conda-forge/osx-arm64::scipy-1.8.1-py310hdb41229_0\r\n",
      "  seaborn            conda-forge/noarch::seaborn-0.11.2-hd8ed1ab_0\r\n",
      "  seaborn-base       conda-forge/noarch::seaborn-base-0.11.2-pyhd8ed1ab_0\r\n",
      "  statsmodels        conda-forge/osx-arm64::statsmodels-0.13.2-py310h611a7d1_0\r\n",
      "  unicodedata2       conda-forge/osx-arm64::unicodedata2-14.0.0-py310hf8d0d8f_1\r\n",
      "  xorg-libxau        conda-forge/osx-arm64::xorg-libxau-1.0.9-h27ca646_0\r\n",
      "  xorg-libxdmcp      conda-forge/osx-arm64::xorg-libxdmcp-1.1.3-h27ca646_0\r\n",
      "  zstd               conda-forge/osx-arm64::zstd-1.5.2-hd705a24_2\r\n",
      "\r\n",
      "\r\n",
      "\r\n",
      "Downloading and Extracting Packages\r\n",
      "kiwisolver-1.4.4     | 62 KB     | ##################################### | 100% \r\n",
      "Preparing transaction: done\r\n",
      "Verifying transaction: done\r\n",
      "Executing transaction: done\r\n"
     ]
    }
   ],
   "source": [
    "! conda install -c conda-forge networkx pandas scipy seaborn --yes"
   ],
   "metadata": {
    "collapsed": false,
    "pycharm": {
     "name": "#%%\n"
    }
   }
  },
  {
   "cell_type": "code",
   "execution_count": 3,
   "metadata": {
    "pycharm": {
     "name": "#%%\n"
    }
   },
   "outputs": [],
   "source": [
    "# Import networkx and other packages we will use\n",
    "\n",
    "import networkx as nx\n",
    "import matplotlib.pyplot as plt\n",
    "import seaborn as sns\n",
    "import pandas as pd\n",
    "from scipy.stats import pearsonr"
   ]
  },
  {
   "cell_type": "markdown",
   "metadata": {
    "pycharm": {
     "name": "#%% md\n"
    }
   },
   "source": [
    "### Create a network\n",
    "We'll create a small toy network directly using NetworkX. This will...\n",
    "\n",
    "- Show us how we can directly construct a network model using python.\n",
    "- Give us a small human readable network that we can then test different metrics on."
   ]
  },
  {
   "cell_type": "code",
   "execution_count": 56,
   "metadata": {
    "pycharm": {
     "name": "#%%\n"
    }
   },
   "outputs": [
    {
     "data": {
      "text/plain": "NodeView((1, 2, 3, 4, 5, 6))"
     },
     "execution_count": 56,
     "metadata": {},
     "output_type": "execute_result"
    }
   ],
   "source": [
    "# Create an empty network\n",
    "G = nx.Graph()\n",
    "# G = nx.DiGraph() # Creates a directed network\n",
    "\n",
    "# Add nodes\n",
    "G.add_node(1)\n",
    "\n",
    "# Or add a set of nodes from a list\n",
    "G.add_nodes_from([2, 3, 4, 5, 6])\n",
    "G.nodes()"
   ]
  },
  {
   "cell_type": "code",
   "execution_count": 57,
   "metadata": {
    "pycharm": {
     "name": "#%%\n"
    }
   },
   "outputs": [],
   "source": [
    "# Add edges\n",
    "G.add_edge(1, 2)\n",
    "G.add_edge(2, 4)\n",
    "\n",
    "# Or add a set of edges from a list\n",
    "\n",
    "node_list = [(1, 4), (3, 4), (1, 5), (2, 6), (5,6)]\n",
    "\n",
    "G.add_edges_from(node_list)"
   ]
  },
  {
   "cell_type": "code",
   "execution_count": 58,
   "metadata": {
    "pycharm": {
     "name": "#%%\n"
    }
   },
   "outputs": [
    {
     "data": {
      "text/plain": "EdgeView([(1, 2), (1, 4), (1, 5), (2, 4), (2, 6), (3, 4), (5, 6)])"
     },
     "execution_count": 58,
     "metadata": {},
     "output_type": "execute_result"
    }
   ],
   "source": [
    "# Check the created edges\n",
    "G.edges()"
   ]
  },
  {
   "cell_type": "code",
   "execution_count": 59,
   "metadata": {
    "pycharm": {
     "name": "#%%\n"
    }
   },
   "outputs": [
    {
     "name": "stdout",
     "output_type": "stream",
     "text": [
      "Number of nodes: 6\n",
      "Number of edges: 7\n"
     ]
    }
   ],
   "source": [
    "# Check basic properties of the graph\n",
    "\n",
    "print(f'Number of nodes: {G.number_of_nodes()}')\n",
    "print(f'Number of edges: {G.number_of_edges()}')"
   ]
  },
  {
   "cell_type": "markdown",
   "source": [
    "NetworkX has some visualisation features, based on Matplotlib. Note that it will struggle to provide coherent visuals of very large networks, such as Twitter networks (more on this later)."
   ],
   "metadata": {
    "collapsed": false,
    "pycharm": {
     "name": "#%% md\n"
    }
   }
  },
  {
   "cell_type": "code",
   "execution_count": 60,
   "metadata": {
    "scrolled": true,
    "pycharm": {
     "name": "#%%\n"
    }
   },
   "outputs": [
    {
     "data": {
      "text/plain": "<Figure size 432x288 with 1 Axes>",
      "image/png": "[encoded data removed]"
     },
     "metadata": {},
     "output_type": "display_data"
    }
   ],
   "source": [
    "\n",
    "# Draw a network\n",
    "\n",
    "nx.draw(G, with_labels=True,node_size=400)\n",
    "\n",
    "# Note that without a provided layout, the network visual will change each run."
   ]
  },
  {
   "cell_type": "code",
   "execution_count": 65,
   "outputs": [
    {
     "data": {
      "text/plain": "<Figure size 432x288 with 1 Axes>",
      "image/png": "[encoded data removed]"
     },
     "metadata": {},
     "output_type": "display_data"
    }
   ],
   "source": [
    "layout = nx.fruchterman_reingold_layout(G, seed=1) # seed ensures we all get the same graph rather than it being random.\n",
    "\n",
    "nx.draw(G, pos=layout, with_labels=True,node_size=400)\n"
   ],
   "metadata": {
    "collapsed": false,
    "pycharm": {
     "name": "#%%\n"
    }
   }
  },
  {
   "cell_type": "code",
   "execution_count": 136,
   "metadata": {
    "pycharm": {
     "name": "#%%\n"
    }
   },
   "outputs": [
    {
     "data": {
      "text/plain": "   id  degree\n0   1       3\n1   2       3\n2   3       1\n3   4       3\n4   5       2\n5   6       2",
      "text/html": "<div>\n<style scoped>\n    .dataframe tbody tr th:only-of-type {\n        vertical-align: middle;\n    }\n\n    .dataframe tbody tr th {\n        vertical-align: top;\n    }\n\n    .dataframe thead th {\n        text-align: right;\n    }\n</style>\n<table border=\"1\" class=\"dataframe\">\n  <thead>\n    <tr style=\"text-align: right;\">\n      <th></th>\n      <th>id</th>\n      <th>degree</th>\n    </tr>\n  </thead>\n  <tbody>\n    <tr>\n      <th>0</th>\n      <td>1</td>\n      <td>3</td>\n    </tr>\n    <tr>\n      <th>1</th>\n      <td>2</td>\n      <td>3</td>\n    </tr>\n    <tr>\n      <th>2</th>\n      <td>3</td>\n      <td>1</td>\n    </tr>\n    <tr>\n      <th>3</th>\n      <td>4</td>\n      <td>3</td>\n    </tr>\n    <tr>\n      <th>4</th>\n      <td>5</td>\n      <td>2</td>\n    </tr>\n    <tr>\n      <th>5</th>\n      <td>6</td>\n      <td>2</td>\n    </tr>\n  </tbody>\n</table>\n</div>"
     },
     "execution_count": 136,
     "metadata": {},
     "output_type": "execute_result"
    }
   ],
   "source": [
    "# Basic network properties\n",
    "\n",
    "pd.DataFrame(G.degree, columns=['id','degree'])"
   ]
  },
  {
   "cell_type": "markdown",
   "source": [],
   "metadata": {
    "collapsed": false,
    "pycharm": {
     "name": "#%% md\n"
    }
   }
  },
  {
   "cell_type": "code",
   "execution_count": 144,
   "outputs": [
    {
     "data": {
      "text/plain": "DegreeView({1: 3, 2: 3, 3: 1, 4: 3, 5: 2, 6: 2})"
     },
     "execution_count": 144,
     "metadata": {},
     "output_type": "execute_result"
    }
   ],
   "source": [
    "G.degree"
   ],
   "metadata": {
    "collapsed": false,
    "pycharm": {
     "name": "#%%\n"
    }
   }
  },
  {
   "cell_type": "code",
   "execution_count": 142,
   "outputs": [
    {
     "ename": "ValueError",
     "evalue": "If using all scalar values, you must pass an index",
     "output_type": "error",
     "traceback": [
      "\u001B[0;31m---------------------------------------------------------------------------\u001B[0m",
      "\u001B[0;31mValueError\u001B[0m                                Traceback (most recent call last)",
      "Input \u001B[0;32mIn [142]\u001B[0m, in \u001B[0;36m<cell line: 3>\u001B[0;34m()\u001B[0m\n\u001B[1;32m      1\u001B[0m \u001B[38;5;66;03m# These are easily transferable to a Dataframe if we want to leverage our Pandas skills\u001B[39;00m\n\u001B[0;32m----> 3\u001B[0m between \u001B[38;5;241m=\u001B[39m \u001B[43mpd\u001B[49m\u001B[38;5;241;43m.\u001B[39;49m\u001B[43mDataFrame\u001B[49m\u001B[43m(\u001B[49m\u001B[43mnx\u001B[49m\u001B[38;5;241;43m.\u001B[39;49m\u001B[43mbetweenness_centrality\u001B[49m\u001B[43m(\u001B[49m\u001B[43mG\u001B[49m\u001B[43m)\u001B[49m\u001B[43m)\u001B[49m\n\u001B[1;32m      4\u001B[0m between\n",
      "File \u001B[0;32m~/miniconda3/envs/teaching/lib/python3.10/site-packages/pandas/core/frame.py:636\u001B[0m, in \u001B[0;36mDataFrame.__init__\u001B[0;34m(self, data, index, columns, dtype, copy)\u001B[0m\n\u001B[1;32m    630\u001B[0m     mgr \u001B[38;5;241m=\u001B[39m \u001B[38;5;28mself\u001B[39m\u001B[38;5;241m.\u001B[39m_init_mgr(\n\u001B[1;32m    631\u001B[0m         data, axes\u001B[38;5;241m=\u001B[39m{\u001B[38;5;124m\"\u001B[39m\u001B[38;5;124mindex\u001B[39m\u001B[38;5;124m\"\u001B[39m: index, \u001B[38;5;124m\"\u001B[39m\u001B[38;5;124mcolumns\u001B[39m\u001B[38;5;124m\"\u001B[39m: columns}, dtype\u001B[38;5;241m=\u001B[39mdtype, copy\u001B[38;5;241m=\u001B[39mcopy\n\u001B[1;32m    632\u001B[0m     )\n\u001B[1;32m    634\u001B[0m \u001B[38;5;28;01melif\u001B[39;00m \u001B[38;5;28misinstance\u001B[39m(data, \u001B[38;5;28mdict\u001B[39m):\n\u001B[1;32m    635\u001B[0m     \u001B[38;5;66;03m# GH#38939 de facto copy defaults to False only in non-dict cases\u001B[39;00m\n\u001B[0;32m--> 636\u001B[0m     mgr \u001B[38;5;241m=\u001B[39m \u001B[43mdict_to_mgr\u001B[49m\u001B[43m(\u001B[49m\u001B[43mdata\u001B[49m\u001B[43m,\u001B[49m\u001B[43m \u001B[49m\u001B[43mindex\u001B[49m\u001B[43m,\u001B[49m\u001B[43m \u001B[49m\u001B[43mcolumns\u001B[49m\u001B[43m,\u001B[49m\u001B[43m \u001B[49m\u001B[43mdtype\u001B[49m\u001B[38;5;241;43m=\u001B[39;49m\u001B[43mdtype\u001B[49m\u001B[43m,\u001B[49m\u001B[43m \u001B[49m\u001B[43mcopy\u001B[49m\u001B[38;5;241;43m=\u001B[39;49m\u001B[43mcopy\u001B[49m\u001B[43m,\u001B[49m\u001B[43m \u001B[49m\u001B[43mtyp\u001B[49m\u001B[38;5;241;43m=\u001B[39;49m\u001B[43mmanager\u001B[49m\u001B[43m)\u001B[49m\n\u001B[1;32m    637\u001B[0m \u001B[38;5;28;01melif\u001B[39;00m \u001B[38;5;28misinstance\u001B[39m(data, ma\u001B[38;5;241m.\u001B[39mMaskedArray):\n\u001B[1;32m    638\u001B[0m     \u001B[38;5;28;01mimport\u001B[39;00m \u001B[38;5;21;01mnumpy\u001B[39;00m\u001B[38;5;21;01m.\u001B[39;00m\u001B[38;5;21;01mma\u001B[39;00m\u001B[38;5;21;01m.\u001B[39;00m\u001B[38;5;21;01mmrecords\u001B[39;00m \u001B[38;5;28;01mas\u001B[39;00m \u001B[38;5;21;01mmrecords\u001B[39;00m\n",
      "File \u001B[0;32m~/miniconda3/envs/teaching/lib/python3.10/site-packages/pandas/core/internals/construction.py:502\u001B[0m, in \u001B[0;36mdict_to_mgr\u001B[0;34m(data, index, columns, dtype, typ, copy)\u001B[0m\n\u001B[1;32m    494\u001B[0m     arrays \u001B[38;5;241m=\u001B[39m [\n\u001B[1;32m    495\u001B[0m         x\n\u001B[1;32m    496\u001B[0m         \u001B[38;5;28;01mif\u001B[39;00m \u001B[38;5;129;01mnot\u001B[39;00m \u001B[38;5;28mhasattr\u001B[39m(x, \u001B[38;5;124m\"\u001B[39m\u001B[38;5;124mdtype\u001B[39m\u001B[38;5;124m\"\u001B[39m) \u001B[38;5;129;01mor\u001B[39;00m \u001B[38;5;129;01mnot\u001B[39;00m \u001B[38;5;28misinstance\u001B[39m(x\u001B[38;5;241m.\u001B[39mdtype, ExtensionDtype)\n\u001B[1;32m    497\u001B[0m         \u001B[38;5;28;01melse\u001B[39;00m x\u001B[38;5;241m.\u001B[39mcopy()\n\u001B[1;32m    498\u001B[0m         \u001B[38;5;28;01mfor\u001B[39;00m x \u001B[38;5;129;01min\u001B[39;00m arrays\n\u001B[1;32m    499\u001B[0m     ]\n\u001B[1;32m    500\u001B[0m     \u001B[38;5;66;03m# TODO: can we get rid of the dt64tz special case above?\u001B[39;00m\n\u001B[0;32m--> 502\u001B[0m \u001B[38;5;28;01mreturn\u001B[39;00m \u001B[43marrays_to_mgr\u001B[49m\u001B[43m(\u001B[49m\u001B[43marrays\u001B[49m\u001B[43m,\u001B[49m\u001B[43m \u001B[49m\u001B[43mcolumns\u001B[49m\u001B[43m,\u001B[49m\u001B[43m \u001B[49m\u001B[43mindex\u001B[49m\u001B[43m,\u001B[49m\u001B[43m \u001B[49m\u001B[43mdtype\u001B[49m\u001B[38;5;241;43m=\u001B[39;49m\u001B[43mdtype\u001B[49m\u001B[43m,\u001B[49m\u001B[43m \u001B[49m\u001B[43mtyp\u001B[49m\u001B[38;5;241;43m=\u001B[39;49m\u001B[43mtyp\u001B[49m\u001B[43m,\u001B[49m\u001B[43m \u001B[49m\u001B[43mconsolidate\u001B[49m\u001B[38;5;241;43m=\u001B[39;49m\u001B[43mcopy\u001B[49m\u001B[43m)\u001B[49m\n",
      "File \u001B[0;32m~/miniconda3/envs/teaching/lib/python3.10/site-packages/pandas/core/internals/construction.py:120\u001B[0m, in \u001B[0;36marrays_to_mgr\u001B[0;34m(arrays, columns, index, dtype, verify_integrity, typ, consolidate)\u001B[0m\n\u001B[1;32m    117\u001B[0m \u001B[38;5;28;01mif\u001B[39;00m verify_integrity:\n\u001B[1;32m    118\u001B[0m     \u001B[38;5;66;03m# figure out the index, if necessary\u001B[39;00m\n\u001B[1;32m    119\u001B[0m     \u001B[38;5;28;01mif\u001B[39;00m index \u001B[38;5;129;01mis\u001B[39;00m \u001B[38;5;28;01mNone\u001B[39;00m:\n\u001B[0;32m--> 120\u001B[0m         index \u001B[38;5;241m=\u001B[39m \u001B[43m_extract_index\u001B[49m\u001B[43m(\u001B[49m\u001B[43marrays\u001B[49m\u001B[43m)\u001B[49m\n\u001B[1;32m    121\u001B[0m     \u001B[38;5;28;01melse\u001B[39;00m:\n\u001B[1;32m    122\u001B[0m         index \u001B[38;5;241m=\u001B[39m ensure_index(index)\n",
      "File \u001B[0;32m~/miniconda3/envs/teaching/lib/python3.10/site-packages/pandas/core/internals/construction.py:664\u001B[0m, in \u001B[0;36m_extract_index\u001B[0;34m(data)\u001B[0m\n\u001B[1;32m    661\u001B[0m         \u001B[38;5;28;01mraise\u001B[39;00m \u001B[38;5;167;01mValueError\u001B[39;00m(\u001B[38;5;124m\"\u001B[39m\u001B[38;5;124mPer-column arrays must each be 1-dimensional\u001B[39m\u001B[38;5;124m\"\u001B[39m)\n\u001B[1;32m    663\u001B[0m \u001B[38;5;28;01mif\u001B[39;00m \u001B[38;5;129;01mnot\u001B[39;00m indexes \u001B[38;5;129;01mand\u001B[39;00m \u001B[38;5;129;01mnot\u001B[39;00m raw_lengths:\n\u001B[0;32m--> 664\u001B[0m     \u001B[38;5;28;01mraise\u001B[39;00m \u001B[38;5;167;01mValueError\u001B[39;00m(\u001B[38;5;124m\"\u001B[39m\u001B[38;5;124mIf using all scalar values, you must pass an index\u001B[39m\u001B[38;5;124m\"\u001B[39m)\n\u001B[1;32m    666\u001B[0m \u001B[38;5;28;01melif\u001B[39;00m have_series:\n\u001B[1;32m    667\u001B[0m     index \u001B[38;5;241m=\u001B[39m union_indexes(indexes)\n",
      "\u001B[0;31mValueError\u001B[0m: If using all scalar values, you must pass an index"
     ]
    }
   ],
   "source": [
    "# These are easily transferable to a Dataframe if we want to leverage our Pandas skills\n",
    "\n",
    "between = pd.DataFrame(nx.betweenness_centrality(G))\n",
    "between"
   ],
   "metadata": {
    "collapsed": false,
    "pycharm": {
     "name": "#%%\n"
    }
   }
  },
  {
   "cell_type": "markdown",
   "source": [
    "### Add node attributes"
   ],
   "metadata": {
    "collapsed": false,
    "pycharm": {
     "name": "#%% md\n"
    }
   }
  },
  {
   "cell_type": "code",
   "execution_count": 97,
   "outputs": [],
   "source": [
    "# Add attributes to existing nodes\n",
    "\n",
    "G.nodes[1]['team'] = \"A\"\n",
    "G.nodes[2]['team'] = \"A\"\n",
    "G.nodes[3]['team'] = \"B\"\n",
    "G.nodes[4]['team'] = \"B\"\n",
    "G.nodes[5]['team'] = \"A\"\n",
    "G.nodes[6]['team'] = \"A\""
   ],
   "metadata": {
    "collapsed": false,
    "pycharm": {
     "name": "#%%\n"
    }
   }
  },
  {
   "cell_type": "code",
   "execution_count": 98,
   "outputs": [],
   "source": [
    "# Assign different colour to nodes with different attributes\n",
    "node_color = ['#a5b41f' if G.nodes[v][\"team\"] == \"A\"\n",
    "    else '#1fb4a5' for v in G]"
   ],
   "metadata": {
    "collapsed": false,
    "pycharm": {
     "name": "#%%\n"
    }
   }
  },
  {
   "cell_type": "code",
   "execution_count": 116,
   "outputs": [
    {
     "data": {
      "text/plain": "<Figure size 432x288 with 1 Axes>",
      "image/png": "[encoded data removed]"
     },
     "metadata": {},
     "output_type": "display_data"
    }
   ],
   "source": [
    "# Plot the network with node colours representing team categories\n",
    "\n",
    "nx.draw_networkx(G, with_labels=True, node_color=node_color,node_size=400)\n",
    "\n",
    "plt.axis('off')\n",
    "plt.show()"
   ],
   "metadata": {
    "collapsed": false,
    "pycharm": {
     "name": "#%%\n"
    }
   }
  },
  {
   "cell_type": "markdown",
   "metadata": {
    "pycharm": {
     "name": "#%% md\n"
    }
   },
   "source": [
    "### Directed network"
   ]
  },
  {
   "cell_type": "code",
   "execution_count": 100,
   "outputs": [],
   "source": [
    "# Create an empty directed network\n",
    "DG = nx.DiGraph()\n",
    "\n",
    "# Add nodes\n",
    "DG.add_nodes_from([1, 2, 3, 4, 5, 6])\n",
    "\n",
    "# Add edges\n",
    "DG.add_edges_from([(1, 2),(2, 4),(1, 4), (3, 4), (1, 5), (2, 6), (5,6)])"
   ],
   "metadata": {
    "collapsed": false,
    "pycharm": {
     "name": "#%%\n"
    }
   }
  },
  {
   "cell_type": "code",
   "execution_count": 104,
   "metadata": {
    "pycharm": {
     "name": "#%%\n"
    }
   },
   "outputs": [
    {
     "data": {
      "text/plain": "<Figure size 432x288 with 1 Axes>",
      "image/png": "[encoded data removed]"
     },
     "metadata": {},
     "output_type": "display_data"
    }
   ],
   "source": [
    "# Draw the directed network\n",
    "\n",
    "nx.draw(DG, with_labels=True,node_size=400)"
   ]
  },
  {
   "cell_type": "code",
   "execution_count": 132,
   "outputs": [
    {
     "data": {
      "text/plain": "<Figure size 432x288 with 1 Axes>",
      "image/png": "[encoded data removed]"
     },
     "metadata": {},
     "output_type": "display_data"
    }
   ],
   "source": [
    "karate = nx.karate_club_graph()\n",
    "node_color = ['#a5b41f' if karate.nodes[v][\"club\"] == \"Mr. Hi\"\n",
    "              else '#1fb4a5' for v in karate]\n",
    "nx.draw(karate, with_labels=True, node_color=node_color)"
   ],
   "metadata": {
    "collapsed": false,
    "pycharm": {
     "name": "#%%\n"
    }
   }
  },
  {
   "cell_type": "markdown",
   "source": [
    "# Exercise 1\n",
    "Below we will load in a new example graph called the Karate club graph. Can you answer the following questions?\n",
    "1. How many nodes and edges in the graph?\n",
    "2."
   ],
   "metadata": {
    "collapsed": false,
    "pycharm": {
     "name": "#%% md\n"
    }
   }
  },
  {
   "cell_type": "code",
   "execution_count": null,
   "outputs": [],
   "source": [
    "# Below we wil"
   ],
   "metadata": {
    "collapsed": false,
    "pycharm": {
     "name": "#%%\n"
    }
   }
  },
  {
   "cell_type": "code",
   "execution_count": null,
   "outputs": [],
   "source": [
    "nx.draw(G)"
   ],
   "metadata": {
    "collapsed": false,
    "pycharm": {
     "name": "#%%\n"
    }
   }
  },
  {
   "cell_type": "markdown",
   "metadata": {
    "pycharm": {
     "name": "#%% md\n"
    }
   },
   "source": [
    "## An Example Network — Star Wars Episode IV: A New Hope"
   ]
  },
  {
   "cell_type": "code",
   "execution_count": null,
   "outputs": [],
   "source": [],
   "metadata": {
    "collapsed": false,
    "pycharm": {
     "name": "#%%\n"
    }
   }
  },
  {
   "cell_type": "markdown",
   "metadata": {
    "pycharm": {
     "name": "#%% md\n"
    }
   },
   "source": [
    "In this section we use a [small weighted network reconstructed from the movie Star Wars Episode IV: A New Hope](http://evelinag.com/blog/2015/12-15-star-wars-social-network/). [See also this network analysis' tutorial in R](https://cdn.rawgit.com/pablobarbera/data-science-workshop/master/sna/01_networks_intro.html). Each node represents a character and each edge represents the number of times a pair of characters appeared together in a scene of the movie. Edges are undirected and weighted."
   ]
  },
  {
   "cell_type": "code",
   "execution_count": 19,
   "metadata": {
    "pycharm": {
     "name": "#%%\n"
    }
   },
   "outputs": [
    {
     "name": "stdout",
     "output_type": "stream",
     "text": [
      "source,target,weight\n",
      "C-3PO,R2-D2,17\n",
      "LUKE,R2-D2,13\n",
      "OBI-WAN,R2-D2,6\n",
      "LEIA,R2-D2,5\n",
      "HAN,R2-D2,5\n",
      "CHEWBACCA,R2-D2,3\n",
      "DODONNA,R2-D2,1\n",
      "CHEWBACCA,OBI-WAN,7\n",
      "C-3PO,CHEWBACCA,5\n"
     ]
    }
   ],
   "source": [
    "# A quick view of the network\n",
    "\n",
    "!head /Users/valentindanchev/Documents/star-wars-network.csv "
   ]
  },
  {
   "cell_type": "code",
   "execution_count": 20,
   "metadata": {
    "pycharm": {
     "name": "#%%\n"
    }
   },
   "outputs": [],
   "source": [
    "# Read a weighted edge list via csv\n",
    "\n",
    "import csv\n",
    "weighted_edges = []\n",
    "with open('/Users/valentindanchev/Documents/star-wars-network.csv', 'r') as f:\n",
    "    filereader = csv.reader(f, delimiter=\",\", quotechar='\"')\n",
    "    next(filereader) # skips header row\n",
    "    for row in filereader:\n",
    "            weighted_edges.append(row)"
   ]
  },
  {
   "cell_type": "code",
   "execution_count": 21,
   "metadata": {
    "pycharm": {
     "name": "#%%\n"
    }
   },
   "outputs": [
    {
     "data": {
      "text/plain": [
       "[['C-3PO', 'R2-D2', '17'],\n",
       " ['LUKE', 'R2-D2', '13'],\n",
       " ['OBI-WAN', 'R2-D2', '6'],\n",
       " ['LEIA', 'R2-D2', '5'],\n",
       " ['HAN', 'R2-D2', '5'],\n",
       " ['CHEWBACCA', 'R2-D2', '3'],\n",
       " ['DODONNA', 'R2-D2', '1'],\n",
       " ['CHEWBACCA', 'OBI-WAN', '7'],\n",
       " ['C-3PO', 'CHEWBACCA', '5'],\n",
       " ['CHEWBACCA', 'LUKE', '16'],\n",
       " ['CHEWBACCA', 'HAN', '19'],\n",
       " ['CHEWBACCA', 'LEIA', '11'],\n",
       " ['CHEWBACCA', 'DARTH VADER', '1'],\n",
       " ['CHEWBACCA', 'DODONNA', '1'],\n",
       " ['CAMIE', 'LUKE', '2'],\n",
       " ['BIGGS', 'CAMIE', '2'],\n",
       " ['BIGGS', 'LUKE', '4'],\n",
       " ['DARTH VADER', 'LEIA', '1'],\n",
       " ['BERU', 'LUKE', '3'],\n",
       " ['BERU', 'OWEN', '3'],\n",
       " ['BERU', 'C-3PO', '2'],\n",
       " ['LUKE', 'OWEN', '3'],\n",
       " ['C-3PO', 'LUKE', '18'],\n",
       " ['C-3PO', 'OWEN', '2'],\n",
       " ['C-3PO', 'LEIA', '6'],\n",
       " ['LEIA', 'LUKE', '17'],\n",
       " ['BERU', 'LEIA', '1'],\n",
       " ['LUKE', 'OBI-WAN', '19'],\n",
       " ['C-3PO', 'OBI-WAN', '6'],\n",
       " ['LEIA', 'OBI-WAN', '1'],\n",
       " ['MOTTI', 'TARKIN', '2'],\n",
       " ['DARTH VADER', 'MOTTI', '1'],\n",
       " ['DARTH VADER', 'TARKIN', '7'],\n",
       " ['HAN', 'OBI-WAN', '9'],\n",
       " ['HAN', 'LUKE', '26'],\n",
       " ['GREEDO', 'HAN', '1'],\n",
       " ['HAN', 'JABBA', '1'],\n",
       " ['C-3PO', 'HAN', '6'],\n",
       " ['LEIA', 'MOTTI', '1'],\n",
       " ['LEIA', 'TARKIN', '1'],\n",
       " ['HAN', 'LEIA', '13'],\n",
       " ['DARTH VADER', 'OBI-WAN', '1'],\n",
       " ['DODONNA', 'GOLD LEADER', '1'],\n",
       " ['DODONNA', 'WEDGE', '1'],\n",
       " ['DODONNA', 'LUKE', '1'],\n",
       " ['GOLD LEADER', 'WEDGE', '1'],\n",
       " ['GOLD LEADER', 'LUKE', '1'],\n",
       " ['LUKE', 'WEDGE', '2'],\n",
       " ['BIGGS', 'LEIA', '1'],\n",
       " ['LEIA', 'RED LEADER', '1'],\n",
       " ['LUKE', 'RED LEADER', '3'],\n",
       " ['BIGGS', 'RED LEADER', '3'],\n",
       " ['BIGGS', 'C-3PO', '1'],\n",
       " ['C-3PO', 'RED LEADER', '1'],\n",
       " ['RED LEADER', 'WEDGE', '3'],\n",
       " ['GOLD LEADER', 'RED LEADER', '1'],\n",
       " ['BIGGS', 'WEDGE', '2'],\n",
       " ['RED LEADER', 'RED TEN', '1'],\n",
       " ['BIGGS', 'GOLD LEADER', '1'],\n",
       " ['LUKE', 'RED TEN', '1']]"
      ]
     },
     "execution_count": 21,
     "metadata": {},
     "output_type": "execute_result"
    }
   ],
   "source": [
    "# Check the result\n",
    "\n",
    "weighted_edges"
   ]
  },
  {
   "cell_type": "code",
   "execution_count": 22,
   "metadata": {
    "pycharm": {
     "name": "#%%\n"
    }
   },
   "outputs": [
    {
     "data": {
      "text/html": [
       "<div>\n",
       "<style scoped>\n",
       "    .dataframe tbody tr th:only-of-type {\n",
       "        vertical-align: middle;\n",
       "    }\n",
       "\n",
       "    .dataframe tbody tr th {\n",
       "        vertical-align: top;\n",
       "    }\n",
       "\n",
       "    .dataframe thead th {\n",
       "        text-align: right;\n",
       "    }\n",
       "</style>\n",
       "<table border=\"1\" class=\"dataframe\">\n",
       "  <thead>\n",
       "    <tr style=\"text-align: right;\">\n",
       "      <th></th>\n",
       "      <th>source</th>\n",
       "      <th>target</th>\n",
       "      <th>weight</th>\n",
       "    </tr>\n",
       "  </thead>\n",
       "  <tbody>\n",
       "    <tr>\n",
       "      <th>0</th>\n",
       "      <td>C-3PO</td>\n",
       "      <td>R2-D2</td>\n",
       "      <td>17</td>\n",
       "    </tr>\n",
       "    <tr>\n",
       "      <th>1</th>\n",
       "      <td>LUKE</td>\n",
       "      <td>R2-D2</td>\n",
       "      <td>13</td>\n",
       "    </tr>\n",
       "    <tr>\n",
       "      <th>2</th>\n",
       "      <td>OBI-WAN</td>\n",
       "      <td>R2-D2</td>\n",
       "      <td>6</td>\n",
       "    </tr>\n",
       "    <tr>\n",
       "      <th>3</th>\n",
       "      <td>LEIA</td>\n",
       "      <td>R2-D2</td>\n",
       "      <td>5</td>\n",
       "    </tr>\n",
       "    <tr>\n",
       "      <th>4</th>\n",
       "      <td>HAN</td>\n",
       "      <td>R2-D2</td>\n",
       "      <td>5</td>\n",
       "    </tr>\n",
       "  </tbody>\n",
       "</table>\n",
       "</div>"
      ],
      "text/plain": [
       "    source target  weight\n",
       "0    C-3PO  R2-D2      17\n",
       "1     LUKE  R2-D2      13\n",
       "2  OBI-WAN  R2-D2       6\n",
       "3     LEIA  R2-D2       5\n",
       "4      HAN  R2-D2       5"
      ]
     },
     "execution_count": 22,
     "metadata": {},
     "output_type": "execute_result"
    }
   ],
   "source": [
    "# Read the edge list .csv file via pandas\n",
    "\n",
    "sw_df = pd.read_csv('~/Documents/star-wars-network.csv')\n",
    "sw_df.head()"
   ]
  },
  {
   "cell_type": "code",
   "execution_count": 23,
   "metadata": {
    "pycharm": {
     "name": "#%%\n"
    }
   },
   "outputs": [],
   "source": [
    "# Create a graph object using the from_pandas_edgelist function\n",
    "\n",
    "gsw = nx.from_pandas_edgelist(sw_df, source=\"source\", target=\"target\",edge_attr=True)"
   ]
  },
  {
   "cell_type": "code",
   "execution_count": 24,
   "metadata": {
    "pycharm": {
     "name": "#%%\n"
    }
   },
   "outputs": [
    {
     "name": "stdout",
     "output_type": "stream",
     "text": [
      "Name: \n",
      "Type: Graph\n",
      "Number of nodes: 21\n",
      "Number of edges: 60\n",
      "Average degree:   5.7143\n"
     ]
    }
   ],
   "source": [
    "print(nx.info(gsw))"
   ]
  },
  {
   "cell_type": "code",
   "execution_count": 25,
   "metadata": {
    "pycharm": {
     "name": "#%%\n"
    }
   },
   "outputs": [
    {
     "data": {
      "text/plain": [
       "60"
      ]
     },
     "execution_count": 25,
     "metadata": {},
     "output_type": "execute_result"
    }
   ],
   "source": [
    "# Returns the number of edges in a network\n",
    "gsw.size()"
   ]
  },
  {
   "cell_type": "code",
   "execution_count": 26,
   "metadata": {
    "pycharm": {
     "name": "#%%\n"
    }
   },
   "outputs": [
    {
     "data": {
      "text/plain": [
       "295.0"
      ]
     },
     "execution_count": 26,
     "metadata": {},
     "output_type": "execute_result"
    }
   ],
   "source": [
    "# Returns total weight sum\n",
    "gsw.size(weight=\"weight\")"
   ]
  },
  {
   "cell_type": "code",
   "execution_count": 27,
   "metadata": {
    "pycharm": {
     "name": "#%%\n"
    }
   },
   "outputs": [
    {
     "data": {
      "text/plain": [
       "17"
      ]
     },
     "execution_count": 27,
     "metadata": {},
     "output_type": "execute_result"
    }
   ],
   "source": [
    "# Check the weight of the edge between a pair of nodes\n",
    "gsw['C-3PO']['R2-D2'][\"weight\"]"
   ]
  },
  {
   "cell_type": "code",
   "execution_count": 28,
   "metadata": {
    "pycharm": {
     "name": "#%%\n"
    }
   },
   "outputs": [
    {
     "data": {
      "image/png": "[encoded data removed]",
      "text/plain": [
       "<Figure size 1080x1080 with 1 Axes>"
      ]
     },
     "metadata": {},
     "output_type": "display_data"
    }
   ],
   "source": [
    "# Specify figure size\n",
    "plt.figure(figsize=(15,15))\n",
    "plt.axis('equal')\n",
    "\n",
    "# Draw the Star Wars Episode IV network \n",
    "node_pos = nx.spring_layout(gsw)\n",
    "nx.draw(gsw,node_pos,with_labels=True)\n",
    "\n",
    "# Draw edge weights\n",
    "labels = nx.get_edge_attributes(gsw,'weight')\n",
    "nx.draw_networkx_edge_labels(gsw,node_pos,edge_labels=labels)\n",
    "plt.axis('off')\n",
    "plt.show()"
   ]
  },
  {
   "cell_type": "markdown",
   "metadata": {
    "pycharm": {
     "name": "#%% md\n"
    }
   },
   "source": [
    "### [netwulf: simple and interactive network visualization in Python](https://netwulf.readthedocs.io/en/latest/index.html)\n",
    "Visualising networks using NetworkX can get complicated. But you can always pass a networkx Graph-objects to other tools to easily create beautifully looking network visualizations. Netwulf is such an interactive visualization tool for networkx Graph-objects."
   ]
  },
  {
   "cell_type": "markdown",
   "metadata": {
    "pycharm": {
     "name": "#%% md\n"
    }
   },
   "source": [
    "<img src='https://raw.githubusercontent.com/benmaier/netwulf/master/img/logo_small.png' width=\"400\" height=\"200\">"
   ]
  },
  {
   "cell_type": "code",
   "execution_count": 29,
   "metadata": {
    "pycharm": {
     "name": "#%%\n"
    }
   },
   "outputs": [
    {
     "name": "stdout",
     "output_type": "stream",
     "text": [
      "Requirement already satisfied: netwulf in /Users/valentindanchev/opt/anaconda3/lib/python3.8/site-packages (0.1.5)\n",
      "Requirement already satisfied: simplejson>=3.0 in /Users/valentindanchev/opt/anaconda3/lib/python3.8/site-packages (from netwulf) (3.17.2)\n",
      "Requirement already satisfied: networkx>=2.0 in /Users/valentindanchev/opt/anaconda3/lib/python3.8/site-packages (from netwulf) (2.5)\n",
      "Requirement already satisfied: numpy>=0.14 in /Users/valentindanchev/opt/anaconda3/lib/python3.8/site-packages (from netwulf) (1.19.2)\n",
      "Requirement already satisfied: matplotlib>=3.0 in /Users/valentindanchev/opt/anaconda3/lib/python3.8/site-packages (from netwulf) (3.3.2)\n",
      "Requirement already satisfied: numpy>=0.14 in /Users/valentindanchev/opt/anaconda3/lib/python3.8/site-packages (from netwulf) (1.19.2)\n",
      "Requirement already satisfied: certifi>=2020.06.20 in /Users/valentindanchev/opt/anaconda3/lib/python3.8/site-packages (from matplotlib>=3.0->netwulf) (2020.11.8)\n",
      "Requirement already satisfied: cycler>=0.10 in /Users/valentindanchev/opt/anaconda3/lib/python3.8/site-packages (from matplotlib>=3.0->netwulf) (0.10.0)\n",
      "Requirement already satisfied: pillow>=6.2.0 in /Users/valentindanchev/opt/anaconda3/lib/python3.8/site-packages (from matplotlib>=3.0->netwulf) (8.0.1)\n",
      "Requirement already satisfied: pyparsing!=2.0.4,!=2.1.2,!=2.1.6,>=2.0.3 in /Users/valentindanchev/opt/anaconda3/lib/python3.8/site-packages (from matplotlib>=3.0->netwulf) (2.4.7)\n",
      "Requirement already satisfied: kiwisolver>=1.0.1 in /Users/valentindanchev/opt/anaconda3/lib/python3.8/site-packages (from matplotlib>=3.0->netwulf) (1.3.0)\n",
      "Requirement already satisfied: python-dateutil>=2.1 in /Users/valentindanchev/opt/anaconda3/lib/python3.8/site-packages (from matplotlib>=3.0->netwulf) (2.8.1)\n",
      "Requirement already satisfied: six in /Users/valentindanchev/opt/anaconda3/lib/python3.8/site-packages (from cycler>=0.10->matplotlib>=3.0->netwulf) (1.15.0)\n",
      "Requirement already satisfied: decorator>=4.3.0 in /Users/valentindanchev/opt/anaconda3/lib/python3.8/site-packages (from networkx>=2.0->netwulf) (4.4.2)\n",
      "Requirement already satisfied: six in /Users/valentindanchev/opt/anaconda3/lib/python3.8/site-packages (from cycler>=0.10->matplotlib>=3.0->netwulf) (1.15.0)\n"
     ]
    }
   ],
   "source": [
    "# Install and import netwulf\n",
    "! pip install netwulf\n",
    "from netwulf import visualize"
   ]
  },
  {
   "cell_type": "code",
   "execution_count": 30,
   "metadata": {
    "pycharm": {
     "name": "#%%\n"
    }
   },
   "outputs": [],
   "source": [
    "# You can now do interactive styling of your network visualization in the browser\n",
    "\n",
    "visualize(gsw)"
   ]
  },
  {
   "cell_type": "code",
   "execution_count": 31,
   "metadata": {
    "pycharm": {
     "name": "#%%\n"
    }
   },
   "outputs": [],
   "source": [
    "# Write the network into a Gephi gexf file\n",
    "\n",
    "nx.write_gexf(gsw, 'gsw_Gephi.gexf')"
   ]
  },
  {
   "cell_type": "markdown",
   "metadata": {
    "pycharm": {
     "name": "#%% md\n"
    }
   },
   "source": [
    "# Local node-level network diagnostics"
   ]
  },
  {
   "cell_type": "code",
   "execution_count": 32,
   "metadata": {
    "pycharm": {
     "name": "#%%\n"
    }
   },
   "outputs": [
    {
     "data": {
      "text/plain": [
       "[('LUKE', 15),\n",
       " ('LEIA', 12),\n",
       " ('C-3PO', 10),\n",
       " ('HAN', 8),\n",
       " ('CHEWBACCA', 8),\n",
       " ('R2-D2', 7),\n",
       " ('OBI-WAN', 7),\n",
       " ('BIGGS', 7),\n",
       " ('RED LEADER', 7),\n",
       " ('DODONNA', 5),\n",
       " ('DARTH VADER', 5),\n",
       " ('GOLD LEADER', 5),\n",
       " ('WEDGE', 5),\n",
       " ('BERU', 4),\n",
       " ('OWEN', 3),\n",
       " ('MOTTI', 3),\n",
       " ('TARKIN', 3),\n",
       " ('CAMIE', 2),\n",
       " ('RED TEN', 2),\n",
       " ('GREEDO', 1),\n",
       " ('JABBA', 1)]"
      ]
     },
     "execution_count": 32,
     "metadata": {},
     "output_type": "execute_result"
    }
   ],
   "source": [
    "# Node degree - number of edges adjacent to that node\n",
    "\n",
    "gsw_degrees = gsw.degree\n",
    "sorted(gsw_degrees, key=lambda x: x[1], reverse=True)"
   ]
  },
  {
   "cell_type": "code",
   "execution_count": 33,
   "metadata": {
    "pycharm": {
     "name": "#%%\n"
    }
   },
   "outputs": [
    {
     "data": {
      "text/plain": [
       "Text(0.5, 1.0, 'Star Wars Episode IV network')"
      ]
     },
     "execution_count": 33,
     "metadata": {},
     "output_type": "execute_result"
    },
    {
     "data": {
      "image/png": "[encoded data removed]",
      "text/plain": [
       "<Figure size 432x288 with 1 Axes>"
      ]
     },
     "metadata": {
      "needs_background": "light"
     },
     "output_type": "display_data"
    }
   ],
   "source": [
    "# Plot a histogram for node degrees\n",
    "degree_values = [v for k, v in gsw_degrees]\n",
    "plt.hist(degree_values,6)\n",
    "\n",
    "plt.xlabel('Degree')\n",
    "plt.ylabel('Number of nodes') \n",
    "plt.title('Star Wars Episode IV network')"
   ]
  },
  {
   "cell_type": "code",
   "execution_count": 34,
   "metadata": {
    "pycharm": {
     "name": "#%%\n"
    }
   },
   "outputs": [
    {
     "data": {
      "text/plain": [
       "[('LUKE', 129),\n",
       " ('HAN', 80),\n",
       " ('C-3PO', 64),\n",
       " ('CHEWBACCA', 63),\n",
       " ('LEIA', 59),\n",
       " ('R2-D2', 50),\n",
       " ('OBI-WAN', 49),\n",
       " ('BIGGS', 14),\n",
       " ('RED LEADER', 13),\n",
       " ('DARTH VADER', 11),\n",
       " ('TARKIN', 10),\n",
       " ('BERU', 9),\n",
       " ('WEDGE', 9),\n",
       " ('OWEN', 8),\n",
       " ('DODONNA', 5),\n",
       " ('GOLD LEADER', 5),\n",
       " ('CAMIE', 4),\n",
       " ('MOTTI', 4),\n",
       " ('RED TEN', 2),\n",
       " ('GREEDO', 1),\n",
       " ('JABBA', 1)]"
      ]
     },
     "execution_count": 34,
     "metadata": {},
     "output_type": "execute_result"
    }
   ],
   "source": [
    "# Node strenght - sum of the edge weights adjacent to the node\n",
    "\n",
    "gsw_weights=gsw.degree(weight='weight')\n",
    "sorted(gsw_weights, key=lambda x: x[1], reverse=True)"
   ]
  },
  {
   "cell_type": "code",
   "execution_count": 35,
   "metadata": {
    "pycharm": {
     "name": "#%%\n"
    }
   },
   "outputs": [
    {
     "data": {
      "text/plain": [
       "Text(0.5, 1.0, 'Star Wars Episode IV network')"
      ]
     },
     "execution_count": 35,
     "metadata": {},
     "output_type": "execute_result"
    },
    {
     "data": {
      "image/png": "[encoded data removed]",
      "text/plain": [
       "<Figure size 432x288 with 1 Axes>"
      ]
     },
     "metadata": {
      "needs_background": "light"
     },
     "output_type": "display_data"
    }
   ],
   "source": [
    "# Plot a histogram for node degrees\n",
    "\n",
    "weights_values = [v for k, v in gsw_weights]\n",
    "plt.hist(weights_values,4)\n",
    "\n",
    "plt.xlabel('Weight')\n",
    "plt.ylabel('Number of nodes') \n",
    "plt.title('Star Wars Episode IV network')"
   ]
  },
  {
   "cell_type": "code",
   "execution_count": 36,
   "metadata": {
    "pycharm": {
     "name": "#%%\n"
    }
   },
   "outputs": [
    {
     "data": {
      "text/plain": [
       "Text(0.5, 1.0, 'Star Wars Episode IV network')"
      ]
     },
     "execution_count": 36,
     "metadata": {},
     "output_type": "execute_result"
    },
    {
     "data": {
      "image/png": "[encoded data removed]",
      "text/plain": [
       "<Figure size 432x288 with 1 Axes>"
      ]
     },
     "metadata": {
      "needs_background": "light"
     },
     "output_type": "display_data"
    }
   ],
   "source": [
    "# Plot node degree versus weights\n",
    "import numpy as np\n",
    "np.cov(degree_values,weights_values)\n",
    "plt.scatter(degree_values,weights_values)\n",
    "plt.xlabel('Degree')\n",
    "plt.ylabel('Weight')\n",
    "plt.title('Star Wars Episode IV network')"
   ]
  },
  {
   "cell_type": "code",
   "execution_count": 37,
   "metadata": {
    "pycharm": {
     "name": "#%%\n"
    }
   },
   "outputs": [
    {
     "name": "stdout",
     "output_type": "stream",
     "text": [
      "(0.8851273622332305, 9.819373909550064e-08)\n"
     ]
    }
   ],
   "source": [
    "# Correlation between node degree and strenght\n",
    "from scipy.stats.stats import pearsonr\n",
    "\n",
    "# Print the pearson correlation coefficient and the associated p-value\n",
    "print(pearsonr(degree_values,weights_values))"
   ]
  },
  {
   "cell_type": "code",
   "execution_count": 38,
   "metadata": {
    "pycharm": {
     "name": "#%%\n"
    }
   },
   "outputs": [
    {
     "data": {
      "text/plain": [
       "[('LUKE', 62.428571428571416),\n",
       " ('LEIA', 45.59523809523809),\n",
       " ('HAN', 37.0),\n",
       " ('C-3PO', 12.095238095238093),\n",
       " ('CHEWBACCA', 7.452380952380952),\n",
       " ('BIGGS', 6.749999999999999),\n",
       " ('RED LEADER', 6.749999999999999),\n",
       " ('OBI-WAN', 3.119047619047619),\n",
       " ('R2-D2', 2.5),\n",
       " ('DARTH VADER', 2.5)]"
      ]
     },
     "execution_count": 38,
     "metadata": {},
     "output_type": "execute_result"
    }
   ],
   "source": [
    "# Compute betweenness centrality — unweighted\n",
    "\n",
    "betweenness = nx.betweenness_centrality(gsw, normalized=False)\n",
    "sorted(betweenness.items(), key=lambda x:x[1], reverse=True)[0:10]"
   ]
  },
  {
   "cell_type": "code",
   "execution_count": 39,
   "metadata": {
    "pycharm": {
     "name": "#%%\n"
    }
   },
   "outputs": [
    {
     "data": {
      "text/plain": [
       "[('LEIA', 59.95000000000001),\n",
       " ('DODONNA', 47.53333333333333),\n",
       " ('HAN', 37.0),\n",
       " ('C-3PO', 32.78333333333333),\n",
       " ('BIGGS', 31.91666666666667),\n",
       " ('RED LEADER', 31.416666666666668),\n",
       " ('GOLD LEADER', 23.799999999999997),\n",
       " ('R2-D2', 22.75),\n",
       " ('LUKE', 18.333333333333332),\n",
       " ('CHEWBACCA', 15.916666666666664)]"
      ]
     },
     "execution_count": 39,
     "metadata": {},
     "output_type": "execute_result"
    }
   ],
   "source": [
    "# Compute betweenness centrality — weighted\n",
    "\n",
    "betweenness = nx.betweenness_centrality(gsw, weight='weight', normalized=False)\n",
    "sorted(betweenness.items(), key=lambda x:x[1], reverse=True)[0:10]"
   ]
  },
  {
   "cell_type": "code",
   "execution_count": 40,
   "metadata": {
    "pycharm": {
     "name": "#%%\n"
    }
   },
   "outputs": [
    {
     "data": {
      "text/plain": [
       "[('LUKE', 0.4173849989544929),\n",
       " ('LEIA', 0.3621476171212341),\n",
       " ('C-3PO', 0.34237759659841116),\n",
       " ('CHEWBACCA', 0.29309285556955944),\n",
       " ('R2-D2', 0.2768558557532187),\n",
       " ('OBI-WAN', 0.27354238616778775),\n",
       " ('HAN', 0.2652851070021197),\n",
       " ('RED LEADER', 0.22769355656700285),\n",
       " ('BIGGS', 0.22769355656700282),\n",
       " ('DODONNA', 0.16949029608351718)]"
      ]
     },
     "execution_count": 40,
     "metadata": {},
     "output_type": "execute_result"
    }
   ],
   "source": [
    "# Compute eigenvector centrality\n",
    "\n",
    "eigenvector = nx.eigenvector_centrality(gsw)\n",
    "sorted(eigenvector.items(), key=lambda x:x[1], reverse=True)[0:10]"
   ]
  },
  {
   "cell_type": "code",
   "execution_count": 41,
   "metadata": {
    "pycharm": {
     "name": "#%%\n"
    }
   },
   "outputs": [
    {
     "data": {
      "text/plain": [
       "[('LUKE', 0.8),\n",
       " ('LEIA', 0.7142857142857143),\n",
       " ('C-3PO', 0.6666666666666666),\n",
       " ('HAN', 0.625),\n",
       " ('CHEWBACCA', 0.625),\n",
       " ('R2-D2', 0.6060606060606061),\n",
       " ('OBI-WAN', 0.6060606060606061),\n",
       " ('BIGGS', 0.5714285714285714),\n",
       " ('RED LEADER', 0.5714285714285714),\n",
       " ('BERU', 0.5263157894736842)]"
      ]
     },
     "execution_count": 41,
     "metadata": {},
     "output_type": "execute_result"
    }
   ],
   "source": [
    "# Compute closeness centrality\n",
    "\n",
    "closeness = nx.closeness_centrality(gsw)\n",
    "sorted(closeness.items(), key=lambda x:x[1], reverse=True)[0:10]"
   ]
  },
  {
   "cell_type": "code",
   "execution_count": 42,
   "metadata": {
    "pycharm": {
     "name": "#%%\n"
    }
   },
   "outputs": [
    {
     "data": {
      "text/plain": [
       "[('LUKE', 35),\n",
       " ('LEIA', 27),\n",
       " ('C-3PO', 24),\n",
       " ('CHEWBACCA', 19),\n",
       " ('R2-D2', 17),\n",
       " ('OBI-WAN', 17),\n",
       " ('HAN', 15),\n",
       " ('BIGGS', 12),\n",
       " ('RED LEADER', 12),\n",
       " ('GOLD LEADER', 8)]"
      ]
     },
     "execution_count": 42,
     "metadata": {},
     "output_type": "execute_result"
    }
   ],
   "source": [
    "# Compute the number of triangles\n",
    "\n",
    "triangles = nx.triangles(gsw)\n",
    "sorted(triangles.items(), key=lambda x:x[1], reverse=True)[0:10]"
   ]
  },
  {
   "cell_type": "code",
   "execution_count": 43,
   "metadata": {
    "pycharm": {
     "name": "#%%\n"
    }
   },
   "outputs": [
    {
     "data": {
      "text/plain": [
       "[('CAMIE', 1.0),\n",
       " ('OWEN', 1.0),\n",
       " ('MOTTI', 1.0),\n",
       " ('TARKIN', 1.0),\n",
       " ('RED TEN', 1.0),\n",
       " ('BERU', 0.8333333333333334),\n",
       " ('R2-D2', 0.8095238095238095),\n",
       " ('OBI-WAN', 0.8095238095238095),\n",
       " ('GOLD LEADER', 0.8),\n",
       " ('WEDGE', 0.8)]"
      ]
     },
     "execution_count": 43,
     "metadata": {},
     "output_type": "execute_result"
    }
   ],
   "source": [
    "# Compute clustering\n",
    "\n",
    "clustering = nx.clustering(gsw)\n",
    "sorted(clustering.items(), key=lambda x:x[1], reverse=True)[0:10]"
   ]
  },
  {
   "cell_type": "code",
   "execution_count": 44,
   "metadata": {
    "pycharm": {
     "name": "#%%\n"
    }
   },
   "outputs": [
    {
     "data": {
      "text/plain": [
       "[('CAMIE', 1.0),\n",
       " ('OWEN', 1.0),\n",
       " ('MOTTI', 1.0),\n",
       " ('TARKIN', 1.0),\n",
       " ('RED TEN', 1.0),\n",
       " ('BERU', 0.8333333333333334),\n",
       " ('R2-D2', 0.8095238095238095),\n",
       " ('OBI-WAN', 0.8095238095238095),\n",
       " ('GOLD LEADER', 0.8),\n",
       " ('WEDGE', 0.8)]"
      ]
     },
     "execution_count": 44,
     "metadata": {},
     "output_type": "execute_result"
    }
   ],
   "source": [
    "# Instead of repeating the sort procedure for each centrality diagnostic we could define a function\n",
    "\n",
    "def sorted_map(map):\n",
    "    sm = sorted(map.items(), key=lambda x:x[1], reverse=True)[0:10]\n",
    "    return sm\n",
    "\n",
    "sorted_map(clustering)"
   ]
  },
  {
   "cell_type": "code",
   "execution_count": 45,
   "metadata": {
    "pycharm": {
     "name": "#%%\n"
    }
   },
   "outputs": [
    {
     "data": {
      "text/plain": [
       "1.9095238095238096"
      ]
     },
     "execution_count": 45,
     "metadata": {},
     "output_type": "execute_result"
    }
   ],
   "source": [
    "# Compute the average shortest path for the network\n",
    "\n",
    "nx.average_shortest_path_length(gsw)"
   ]
  },
  {
   "cell_type": "code",
   "execution_count": 46,
   "metadata": {
    "pycharm": {
     "name": "#%%\n"
    }
   },
   "outputs": [
    {
     "data": {
      "text/plain": [
       "{'LUKE': 0,\n",
       " 'OBI-WAN': 1,\n",
       " 'R2-D2': 1,\n",
       " 'CAMIE': 1,\n",
       " 'DODONNA': 1,\n",
       " 'BERU': 1,\n",
       " 'C-3PO': 1,\n",
       " 'OWEN': 1,\n",
       " 'WEDGE': 1,\n",
       " 'HAN': 1,\n",
       " 'RED TEN': 1,\n",
       " 'LEIA': 1,\n",
       " 'CHEWBACCA': 1,\n",
       " 'RED LEADER': 1,\n",
       " 'GOLD LEADER': 1,\n",
       " 'BIGGS': 1,\n",
       " 'GREEDO': 2,\n",
       " 'DARTH VADER': 2,\n",
       " 'TARKIN': 2,\n",
       " 'MOTTI': 2,\n",
       " 'JABBA': 2}"
      ]
     },
     "execution_count": 46,
     "metadata": {},
     "output_type": "execute_result"
    }
   ],
   "source": [
    "# Get the distance from Luke to any other character\n",
    "\n",
    "nx.shortest_path_length(gsw, 'LUKE')"
   ]
  },
  {
   "cell_type": "code",
   "execution_count": 47,
   "metadata": {
    "pycharm": {
     "name": "#%%\n"
    }
   },
   "outputs": [
    {
     "data": {
      "text/plain": [
       "['LUKE', 'CHEWBACCA', 'DARTH VADER']"
      ]
     },
     "execution_count": 47,
     "metadata": {},
     "output_type": "execute_result"
    }
   ],
   "source": [
    "# Get the shortes path between any two characters\n",
    "nx.shortest_path(gsw, 'LUKE','DARTH VADER')"
   ]
  },
  {
   "cell_type": "markdown",
   "source": [
    "### Acknowledgements\n",
    "* Notebook adapted from original teaching materials by Dr. Valentin Danchev.\n",
    "* Menczer, F., Fortunato, S., Davis, C. 2020. A first course in network science. Cambridge University Press.\n",
    "* Rob Chew’s and Peter Baumgartner’s tutorial “Connected: A Social Network Analysis Tutorial with NetworkX”. PyData 2016. \n",
    "* Edward L. Platt. 2020. Network Science with Python and NetworkX Quick Start Guide: Explore and visualize network data effectively. Packt Publishing."
   ],
   "metadata": {
    "collapsed": false,
    "pycharm": {
     "name": "#%% md\n"
    }
   }
  },
  {
   "cell_type": "code",
   "execution_count": null,
   "outputs": [],
   "source": [],
   "metadata": {
    "collapsed": false,
    "pycharm": {
     "name": "#%%\n"
    }
   }
  }
 ],
 "metadata": {
  "kernelspec": {
   "name": "python3",
   "language": "python",
   "display_name": "Python 3 (ipykernel)"
  },
  "language_info": {
   "codemirror_mode": {
    "name": "ipython",
    "version": 3
   },
   "file_extension": ".py",
   "mimetype": "text/x-python",
   "name": "python",
   "nbconvert_exporter": "python",
   "pygments_lexer": "ipython3",
   "version": "3.7.8"
  }
 },
 "nbformat": 4,
 "nbformat_minor": 4
}