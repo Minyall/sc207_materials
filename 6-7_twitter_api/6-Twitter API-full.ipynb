{
 "cells": [
  {
   "cell_type": "markdown",
   "metadata": {},
   "source": [
    "# SC207 - Session 6\n",
    "# APIs - Gathering Twitter Data\n",
    "<img src=\"https://github.com/Minyall/sc207_materials/blob/master/images/tweepy.jpg?raw=true\" align=\"right\" width=\"300\">\n",
    "\n",
    "\n",
    "- API = Application Programming Interface\n",
    "- A Standardised way to retrieve data from platforms.\n",
    "- Many platforms have an API and they all work relatively similarly\n",
    "- Today we will use the package `tweepy` to retrieve data from the Twitter API\n",
    "\n",
    "[Tweepy Documentation](http://docs.tweepy.org/en/stable/)"
   ]
  },
  {
   "cell_type": "markdown",
   "metadata": {},
   "source": [
    "### Imports\n",
    "\n",
    "Today we will be using Tweepy and Pandas to retrieve, store and explore data."
   ]
  },
  {
   "cell_type": "code",
   "execution_count": 1,
   "metadata": {},
   "outputs": [],
   "source": [
    "import tweepy\n",
    "import pandas as pd\n",
    "\n",
    "# This function is here just to make the class go smoothly!\n",
    "def find_first_retweet(list_of_tweets):\n",
    "    for tweet in list_of_tweets:\n",
    "        if 'retweeted_status' in tweet._json:\n",
    "            return tweet\n",
    "        \n",
    "def find_first_regular_tweet(list_of_tweets):\n",
    "    for tweet in list_of_tweets:\n",
    "        if 'retweeted_status' not in tweet._json:\n",
    "            return tweet"
   ]
  },
  {
   "cell_type": "markdown",
   "metadata": {},
   "source": [
    "# 1. Authorising and Connecting the API\n",
    "`Tweepy` makes this process incredibly streamlined into essentially three simple stages.\n",
    "\n",
    "### a) Identify your Access Tokens\n",
    "APIs require authorisation tokens to identify who is using the API and to manage API usage by a single account holder.\n",
    "- Go to https://developer.twitter.com\n",
    "- Sign in with your Twitter account details\n",
    "- You may have to navigate back to the Twitter developer page if you get redirected to normal Twitter.\n",
    "- Once signed in use the drop down menu at the top right and select 'Apps'\n",
    "- Create a new app (follow along in class with the details)\n",
    "- Once created, go to the keys and tokens tab\n",
    "- Copy and paste your Consumer Key and your Consumer secret into the variables below.\n"
   ]
  },
  {
   "cell_type": "code",
   "execution_count": 2,
   "metadata": {},
   "outputs": [],
   "source": [
    "CONSUMER_KEY = '0R42gxh35fuYdmGP93KhtYHPx'\n",
    "CONSUMER_SECRET = 'n6JHuWVmKaAGZidwfRueqOj1HhZNCDvvyeJD9ukEnLRJGTnW2W'"
   ]
  },
  {
   "cell_type": "markdown",
   "metadata": {},
   "source": [
    "### b) Create an Authorisation Object\n",
    "We create a special authorisation handler to store our keys."
   ]
  },
  {
   "cell_type": "code",
   "execution_count": 3,
   "metadata": {},
   "outputs": [],
   "source": [
    "auth = tweepy.AppAuthHandler(CONSUMER_KEY, CONSUMER_SECRET)"
   ]
  },
  {
   "cell_type": "markdown",
   "metadata": {},
   "source": [
    "### c) Connect the API\n",
    "We create a new `API` object and feed it our authorisation handler.\n",
    "\n",
    "We also set two additional arguments...\n",
    "- `wait_on_rate_limit` sets the API to wait if you have maxed out your number of queries, and then resume when the limit is lifted\n",
    "- `wait_on_rate_limit_notify` ensures Tweepy informs you of the wait occuring."
   ]
  },
  {
   "cell_type": "code",
   "execution_count": 4,
   "metadata": {},
   "outputs": [],
   "source": [
    "api = tweepy.API(auth, wait_on_rate_limit=True, wait_on_rate_limit_notify=True)"
   ]
  },
  {
   "cell_type": "markdown",
   "metadata": {},
   "source": [
    "# 2. Gathering Data - Search\n",
    "Search is one of the simpler ways you can interact with the API.\n",
    "- Search returns a list of tweet objects matching your query\n",
    "- Every request returns up to 100 tweets\n",
    "- You can make 450 requests in a 15 minute window.\n",
    "- A maximum of 45,000 tweets every 15 minutes.\n",
    "- Each request counts against your quota, no matter how many Tweets it returns.\n",
    "\n",
    "### What you recieve\n",
    "It is important to be clear what Twitter is providing you when you ask for data.\n",
    ">The Twitter's standard search API (search/tweets) allows simple queries against the indices of recent or popular Tweets and behaves similarly to, but not exactly like the Search UI feature available in Twitter mobile or web clients. The Twitter Search API searches against a sampling of recent Tweets published in the past 7 days. Before digging in, it’s important to know that the standard search API is focused on relevance and not completeness. This means that some Tweets and users may be missing from search results.\n",
    "[Twitter API Documentation: Standard Search](https://developer.twitter.com/en/docs/tweets/search/overview/standard)\n",
    "\n",
    "- Already sampled based on 'relevance'.\n",
    "- Max. 7 days old.\n",
    "- NOT complete."
   ]
  },
  {
   "cell_type": "markdown",
   "metadata": {},
   "source": [
    "### Making a Single Request\n",
    "Lets make a single request for something that will have a lot of results.\n",
    "\n",
    "- Tweepy has a range of 'arguments' built in to the search function.\n",
    "- `q=` query: a string to search for. You can also use [operators](https://developer.twitter.com/en/docs/tweets/search/guides/standard-operators) to make complex queries.\n",
    "- `result_type=`: set this to either `mixed`, `recent` or `popular`. Note again that Twitter is to some extent pre-sampling for you.\n",
    "    - `popular` - prioritise popular tweets\n",
    "    - `recent`  - prioritise recent tweets\n",
    "    - `mixed` **DEFAULT** - include both popular and recent\n",
    "- `tweet_mode=` Set this to 'extended' to ensure you get the full text of a tweet, otherwise it will be cut off after 140 characters (Tweets can now be 280 characters). If your project doesn't care about tweet text then don't bother including the argument.\n",
    "- `count=` max tweets per request. Defaults to 15, can be set up to 100.\n",
    "- `since_id=` Each tweet has a unique ID. If you provide a tweet's ID number here, it will only return tweets posted AFTER that tweet was posted.\n",
    "- `max_id=` As above, but limits the API to returning tweets posted BEFORE the tweet provided.\n",
    "\n",
    "[You can view all the argument options in the Tweepy Documentation](http://docs.tweepy.org/en/latest/api.html#search-methods)"
   ]
  },
  {
   "cell_type": "code",
   "execution_count": 5,
   "metadata": {},
   "outputs": [],
   "source": [
    "single_response = api.search(q='brexit',tweet_mode='extended',result_type='mixed', count=100)"
   ]
  },
  {
   "cell_type": "code",
   "execution_count": 6,
   "metadata": {},
   "outputs": [
    {
     "data": {
      "text/plain": [
       "100"
      ]
     },
     "execution_count": 6,
     "metadata": {},
     "output_type": "execute_result"
    }
   ],
   "source": [
    "# lets check the number of results we got\n",
    "len(single_response)"
   ]
  },
  {
   "cell_type": "code",
   "execution_count": 7,
   "metadata": {},
   "outputs": [
    {
     "data": {
      "text/plain": [
       "Status(_api=<tweepy.api.API object at 0x7fdef0847e90>, _json={'created_at': 'Sun Nov 22 14:01:44 +0000 2020', 'id': 1330511787712794624, 'id_str': '1330511787712794624', 'full_text': 'It\\'s so ****ed up that the government whose record on Covid is the highest excess death rate in Europe and the worst economic recession in the G7, is using the damage THEY CAUSED to cover up the damage from Brexit, WHICH THEY ALSO CAUSED.\\n#Marr \"Rishi Sunak\" https://t.co/3ySAXLXyRU', 'truncated': False, 'display_text_range': [0, 258], 'entities': {'hashtags': [{'text': 'Marr', 'indices': [239, 244]}], 'symbols': [], 'user_mentions': [], 'urls': [], 'media': [{'id': 1330508816669171715, 'id_str': '1330508816669171715', 'indices': [259, 282], 'media_url': 'http://pbs.twimg.com/media/Enbxy7tW4Ak8BE5.jpg', 'media_url_https': 'https://pbs.twimg.com/media/Enbxy7tW4Ak8BE5.jpg', 'url': 'https://t.co/3ySAXLXyRU', 'display_url': 'pic.twitter.com/3ySAXLXyRU', 'expanded_url': 'https://twitter.com/Femi_Sorry/status/1330511787712794624/video/1', 'type': 'photo', 'sizes': {'thumb': {'w': 150, 'h': 150, 'resize': 'crop'}, 'large': {'w': 1920, 'h': 1080, 'resize': 'fit'}, 'medium': {'w': 1200, 'h': 675, 'resize': 'fit'}, 'small': {'w': 680, 'h': 383, 'resize': 'fit'}}}]}, 'extended_entities': {'media': [{'id': 1330508816669171715, 'id_str': '1330508816669171715', 'indices': [259, 282], 'media_url': 'http://pbs.twimg.com/media/Enbxy7tW4Ak8BE5.jpg', 'media_url_https': 'https://pbs.twimg.com/media/Enbxy7tW4Ak8BE5.jpg', 'url': 'https://t.co/3ySAXLXyRU', 'display_url': 'pic.twitter.com/3ySAXLXyRU', 'expanded_url': 'https://twitter.com/Femi_Sorry/status/1330511787712794624/video/1', 'type': 'video', 'sizes': {'thumb': {'w': 150, 'h': 150, 'resize': 'crop'}, 'large': {'w': 1920, 'h': 1080, 'resize': 'fit'}, 'medium': {'w': 1200, 'h': 675, 'resize': 'fit'}, 'small': {'w': 680, 'h': 383, 'resize': 'fit'}}, 'video_info': {'aspect_ratio': [2, 1], 'duration_millis': 197533, 'variants': [{'bitrate': 2176000, 'content_type': 'video/mp4', 'url': 'https://video.twimg.com/amplify_video/1330508816669171715/vid/1440x720/i4rP2IiGYCHBmCm-.mp4?tag=13'}, {'content_type': 'application/x-mpegURL', 'url': 'https://video.twimg.com/amplify_video/1330508816669171715/pl/dRcGGBiNHbx-aZUx.m3u8?tag=13'}, {'bitrate': 832000, 'content_type': 'video/mp4', 'url': 'https://video.twimg.com/amplify_video/1330508816669171715/vid/720x360/erc5V-fOFOZWElJH.mp4?tag=13'}, {'bitrate': 288000, 'content_type': 'video/mp4', 'url': 'https://video.twimg.com/amplify_video/1330508816669171715/vid/540x270/qcF9cWs9PrZaLAYO.mp4?tag=13'}]}, 'additional_media_info': {'title': '', 'description': 'Rishi Sunak is quizzed about No-Deal Brexit on #Marr', 'embeddable': True, 'monetizable': False}}]}, 'metadata': {'result_type': 'popular', 'iso_language_code': 'en'}, 'source': '<a href=\"https://studio.twitter.com\" rel=\"nofollow\">Twitter Media Studio</a>', 'in_reply_to_status_id': None, 'in_reply_to_status_id_str': None, 'in_reply_to_user_id': None, 'in_reply_to_user_id_str': None, 'in_reply_to_screen_name': None, 'user': {'id': 234694571, 'id_str': '234694571', 'name': 'Femi😷', 'screen_name': 'Femi_Sorry', 'location': 'Solihull, England', 'description': 'Femi Oluwole\\n🇬🇧Law grad \"Do-Gooder\"\\nCalling out #Brexit and Boris & Farage\\'s lies & lack of humanity in @Independent/@theIpaper/@LondonEconomic\\nEx @OFOCbrexit', 'url': 'https://t.co/3qVH7HQFJk', 'entities': {'url': {'urls': [{'url': 'https://t.co/3qVH7HQFJk', 'expanded_url': 'http://Instagram.com/femi_sorry', 'display_url': 'Instagram.com/femi_sorry', 'indices': [0, 23]}]}, 'description': {'urls': []}}, 'protected': False, 'followers_count': 282591, 'friends_count': 1598, 'listed_count': 1087, 'created_at': 'Thu Jan 06 09:50:22 +0000 2011', 'favourites_count': 97575, 'utc_offset': None, 'time_zone': None, 'geo_enabled': True, 'verified': True, 'statuses_count': 71859, 'lang': None, 'contributors_enabled': False, 'is_translator': False, 'is_translation_enabled': True, 'profile_background_color': 'C0DEED', 'profile_background_image_url': 'http://abs.twimg.com/images/themes/theme1/bg.png', 'profile_background_image_url_https': 'https://abs.twimg.com/images/themes/theme1/bg.png', 'profile_background_tile': False, 'profile_image_url': 'http://pbs.twimg.com/profile_images/1325322600223019008/ya7G1P-1_normal.jpg', 'profile_image_url_https': 'https://pbs.twimg.com/profile_images/1325322600223019008/ya7G1P-1_normal.jpg', 'profile_banner_url': 'https://pbs.twimg.com/profile_banners/234694571/1593978138', 'profile_link_color': 'B30000', 'profile_sidebar_border_color': 'C0DEED', 'profile_sidebar_fill_color': 'DDEEF6', 'profile_text_color': '333333', 'profile_use_background_image': True, 'has_extended_profile': True, 'default_profile': False, 'default_profile_image': False, 'following': None, 'follow_request_sent': None, 'notifications': None, 'translator_type': 'none'}, 'geo': None, 'coordinates': None, 'place': None, 'contributors': None, 'is_quote_status': False, 'retweet_count': 1333, 'favorite_count': 4622, 'favorited': False, 'retweeted': False, 'possibly_sensitive': False, 'lang': 'en'}, created_at=datetime.datetime(2020, 11, 22, 14, 1, 44), id=1330511787712794624, id_str='1330511787712794624', full_text='It\\'s so ****ed up that the government whose record on Covid is the highest excess death rate in Europe and the worst economic recession in the G7, is using the damage THEY CAUSED to cover up the damage from Brexit, WHICH THEY ALSO CAUSED.\\n#Marr \"Rishi Sunak\" https://t.co/3ySAXLXyRU', truncated=False, display_text_range=[0, 258], entities={'hashtags': [{'text': 'Marr', 'indices': [239, 244]}], 'symbols': [], 'user_mentions': [], 'urls': [], 'media': [{'id': 1330508816669171715, 'id_str': '1330508816669171715', 'indices': [259, 282], 'media_url': 'http://pbs.twimg.com/media/Enbxy7tW4Ak8BE5.jpg', 'media_url_https': 'https://pbs.twimg.com/media/Enbxy7tW4Ak8BE5.jpg', 'url': 'https://t.co/3ySAXLXyRU', 'display_url': 'pic.twitter.com/3ySAXLXyRU', 'expanded_url': 'https://twitter.com/Femi_Sorry/status/1330511787712794624/video/1', 'type': 'photo', 'sizes': {'thumb': {'w': 150, 'h': 150, 'resize': 'crop'}, 'large': {'w': 1920, 'h': 1080, 'resize': 'fit'}, 'medium': {'w': 1200, 'h': 675, 'resize': 'fit'}, 'small': {'w': 680, 'h': 383, 'resize': 'fit'}}}]}, extended_entities={'media': [{'id': 1330508816669171715, 'id_str': '1330508816669171715', 'indices': [259, 282], 'media_url': 'http://pbs.twimg.com/media/Enbxy7tW4Ak8BE5.jpg', 'media_url_https': 'https://pbs.twimg.com/media/Enbxy7tW4Ak8BE5.jpg', 'url': 'https://t.co/3ySAXLXyRU', 'display_url': 'pic.twitter.com/3ySAXLXyRU', 'expanded_url': 'https://twitter.com/Femi_Sorry/status/1330511787712794624/video/1', 'type': 'video', 'sizes': {'thumb': {'w': 150, 'h': 150, 'resize': 'crop'}, 'large': {'w': 1920, 'h': 1080, 'resize': 'fit'}, 'medium': {'w': 1200, 'h': 675, 'resize': 'fit'}, 'small': {'w': 680, 'h': 383, 'resize': 'fit'}}, 'video_info': {'aspect_ratio': [2, 1], 'duration_millis': 197533, 'variants': [{'bitrate': 2176000, 'content_type': 'video/mp4', 'url': 'https://video.twimg.com/amplify_video/1330508816669171715/vid/1440x720/i4rP2IiGYCHBmCm-.mp4?tag=13'}, {'content_type': 'application/x-mpegURL', 'url': 'https://video.twimg.com/amplify_video/1330508816669171715/pl/dRcGGBiNHbx-aZUx.m3u8?tag=13'}, {'bitrate': 832000, 'content_type': 'video/mp4', 'url': 'https://video.twimg.com/amplify_video/1330508816669171715/vid/720x360/erc5V-fOFOZWElJH.mp4?tag=13'}, {'bitrate': 288000, 'content_type': 'video/mp4', 'url': 'https://video.twimg.com/amplify_video/1330508816669171715/vid/540x270/qcF9cWs9PrZaLAYO.mp4?tag=13'}]}, 'additional_media_info': {'title': '', 'description': 'Rishi Sunak is quizzed about No-Deal Brexit on #Marr', 'embeddable': True, 'monetizable': False}}]}, metadata={'result_type': 'popular', 'iso_language_code': 'en'}, source='Twitter Media Studio', source_url='https://studio.twitter.com', in_reply_to_status_id=None, in_reply_to_status_id_str=None, in_reply_to_user_id=None, in_reply_to_user_id_str=None, in_reply_to_screen_name=None, author=User(_api=<tweepy.api.API object at 0x7fdef0847e90>, _json={'id': 234694571, 'id_str': '234694571', 'name': 'Femi😷', 'screen_name': 'Femi_Sorry', 'location': 'Solihull, England', 'description': 'Femi Oluwole\\n🇬🇧Law grad \"Do-Gooder\"\\nCalling out #Brexit and Boris & Farage\\'s lies & lack of humanity in @Independent/@theIpaper/@LondonEconomic\\nEx @OFOCbrexit', 'url': 'https://t.co/3qVH7HQFJk', 'entities': {'url': {'urls': [{'url': 'https://t.co/3qVH7HQFJk', 'expanded_url': 'http://Instagram.com/femi_sorry', 'display_url': 'Instagram.com/femi_sorry', 'indices': [0, 23]}]}, 'description': {'urls': []}}, 'protected': False, 'followers_count': 282591, 'friends_count': 1598, 'listed_count': 1087, 'created_at': 'Thu Jan 06 09:50:22 +0000 2011', 'favourites_count': 97575, 'utc_offset': None, 'time_zone': None, 'geo_enabled': True, 'verified': True, 'statuses_count': 71859, 'lang': None, 'contributors_enabled': False, 'is_translator': False, 'is_translation_enabled': True, 'profile_background_color': 'C0DEED', 'profile_background_image_url': 'http://abs.twimg.com/images/themes/theme1/bg.png', 'profile_background_image_url_https': 'https://abs.twimg.com/images/themes/theme1/bg.png', 'profile_background_tile': False, 'profile_image_url': 'http://pbs.twimg.com/profile_images/1325322600223019008/ya7G1P-1_normal.jpg', 'profile_image_url_https': 'https://pbs.twimg.com/profile_images/1325322600223019008/ya7G1P-1_normal.jpg', 'profile_banner_url': 'https://pbs.twimg.com/profile_banners/234694571/1593978138', 'profile_link_color': 'B30000', 'profile_sidebar_border_color': 'C0DEED', 'profile_sidebar_fill_color': 'DDEEF6', 'profile_text_color': '333333', 'profile_use_background_image': True, 'has_extended_profile': True, 'default_profile': False, 'default_profile_image': False, 'following': None, 'follow_request_sent': None, 'notifications': None, 'translator_type': 'none'}, id=234694571, id_str='234694571', name='Femi😷', screen_name='Femi_Sorry', location='Solihull, England', description='Femi Oluwole\\n🇬🇧Law grad \"Do-Gooder\"\\nCalling out #Brexit and Boris & Farage\\'s lies & lack of humanity in @Independent/@theIpaper/@LondonEconomic\\nEx @OFOCbrexit', url='https://t.co/3qVH7HQFJk', entities={'url': {'urls': [{'url': 'https://t.co/3qVH7HQFJk', 'expanded_url': 'http://Instagram.com/femi_sorry', 'display_url': 'Instagram.com/femi_sorry', 'indices': [0, 23]}]}, 'description': {'urls': []}}, protected=False, followers_count=282591, friends_count=1598, listed_count=1087, created_at=datetime.datetime(2011, 1, 6, 9, 50, 22), favourites_count=97575, utc_offset=None, time_zone=None, geo_enabled=True, verified=True, statuses_count=71859, lang=None, contributors_enabled=False, is_translator=False, is_translation_enabled=True, profile_background_color='C0DEED', profile_background_image_url='http://abs.twimg.com/images/themes/theme1/bg.png', profile_background_image_url_https='https://abs.twimg.com/images/themes/theme1/bg.png', profile_background_tile=False, profile_image_url='http://pbs.twimg.com/profile_images/1325322600223019008/ya7G1P-1_normal.jpg', profile_image_url_https='https://pbs.twimg.com/profile_images/1325322600223019008/ya7G1P-1_normal.jpg', profile_banner_url='https://pbs.twimg.com/profile_banners/234694571/1593978138', profile_link_color='B30000', profile_sidebar_border_color='C0DEED', profile_sidebar_fill_color='DDEEF6', profile_text_color='333333', profile_use_background_image=True, has_extended_profile=True, default_profile=False, default_profile_image=False, following=False, follow_request_sent=None, notifications=None, translator_type='none'), user=User(_api=<tweepy.api.API object at 0x7fdef0847e90>, _json={'id': 234694571, 'id_str': '234694571', 'name': 'Femi😷', 'screen_name': 'Femi_Sorry', 'location': 'Solihull, England', 'description': 'Femi Oluwole\\n🇬🇧Law grad \"Do-Gooder\"\\nCalling out #Brexit and Boris & Farage\\'s lies & lack of humanity in @Independent/@theIpaper/@LondonEconomic\\nEx @OFOCbrexit', 'url': 'https://t.co/3qVH7HQFJk', 'entities': {'url': {'urls': [{'url': 'https://t.co/3qVH7HQFJk', 'expanded_url': 'http://Instagram.com/femi_sorry', 'display_url': 'Instagram.com/femi_sorry', 'indices': [0, 23]}]}, 'description': {'urls': []}}, 'protected': False, 'followers_count': 282591, 'friends_count': 1598, 'listed_count': 1087, 'created_at': 'Thu Jan 06 09:50:22 +0000 2011', 'favourites_count': 97575, 'utc_offset': None, 'time_zone': None, 'geo_enabled': True, 'verified': True, 'statuses_count': 71859, 'lang': None, 'contributors_enabled': False, 'is_translator': False, 'is_translation_enabled': True, 'profile_background_color': 'C0DEED', 'profile_background_image_url': 'http://abs.twimg.com/images/themes/theme1/bg.png', 'profile_background_image_url_https': 'https://abs.twimg.com/images/themes/theme1/bg.png', 'profile_background_tile': False, 'profile_image_url': 'http://pbs.twimg.com/profile_images/1325322600223019008/ya7G1P-1_normal.jpg', 'profile_image_url_https': 'https://pbs.twimg.com/profile_images/1325322600223019008/ya7G1P-1_normal.jpg', 'profile_banner_url': 'https://pbs.twimg.com/profile_banners/234694571/1593978138', 'profile_link_color': 'B30000', 'profile_sidebar_border_color': 'C0DEED', 'profile_sidebar_fill_color': 'DDEEF6', 'profile_text_color': '333333', 'profile_use_background_image': True, 'has_extended_profile': True, 'default_profile': False, 'default_profile_image': False, 'following': None, 'follow_request_sent': None, 'notifications': None, 'translator_type': 'none'}, id=234694571, id_str='234694571', name='Femi😷', screen_name='Femi_Sorry', location='Solihull, England', description='Femi Oluwole\\n🇬🇧Law grad \"Do-Gooder\"\\nCalling out #Brexit and Boris & Farage\\'s lies & lack of humanity in @Independent/@theIpaper/@LondonEconomic\\nEx @OFOCbrexit', url='https://t.co/3qVH7HQFJk', entities={'url': {'urls': [{'url': 'https://t.co/3qVH7HQFJk', 'expanded_url': 'http://Instagram.com/femi_sorry', 'display_url': 'Instagram.com/femi_sorry', 'indices': [0, 23]}]}, 'description': {'urls': []}}, protected=False, followers_count=282591, friends_count=1598, listed_count=1087, created_at=datetime.datetime(2011, 1, 6, 9, 50, 22), favourites_count=97575, utc_offset=None, time_zone=None, geo_enabled=True, verified=True, statuses_count=71859, lang=None, contributors_enabled=False, is_translator=False, is_translation_enabled=True, profile_background_color='C0DEED', profile_background_image_url='http://abs.twimg.com/images/themes/theme1/bg.png', profile_background_image_url_https='https://abs.twimg.com/images/themes/theme1/bg.png', profile_background_tile=False, profile_image_url='http://pbs.twimg.com/profile_images/1325322600223019008/ya7G1P-1_normal.jpg', profile_image_url_https='https://pbs.twimg.com/profile_images/1325322600223019008/ya7G1P-1_normal.jpg', profile_banner_url='https://pbs.twimg.com/profile_banners/234694571/1593978138', profile_link_color='B30000', profile_sidebar_border_color='C0DEED', profile_sidebar_fill_color='DDEEF6', profile_text_color='333333', profile_use_background_image=True, has_extended_profile=True, default_profile=False, default_profile_image=False, following=False, follow_request_sent=None, notifications=None, translator_type='none'), geo=None, coordinates=None, place=None, contributors=None, is_quote_status=False, retweet_count=1333, favorite_count=4622, favorited=False, retweeted=False, possibly_sensitive=False, lang='en')"
      ]
     },
     "execution_count": 7,
     "metadata": {},
     "output_type": "execute_result"
    }
   ],
   "source": [
    "# lets examine just one tweet object\n",
    "\n",
    "single_tweet = single_response[0]\n",
    "\n",
    "single_tweet"
   ]
  },
  {
   "cell_type": "code",
   "execution_count": 8,
   "metadata": {},
   "outputs": [
    {
     "data": {
      "text/plain": [
       "{'created_at': 'Sun Nov 22 14:01:44 +0000 2020',\n",
       " 'id': 1330511787712794624,\n",
       " 'id_str': '1330511787712794624',\n",
       " 'full_text': 'It\\'s so ****ed up that the government whose record on Covid is the highest excess death rate in Europe and the worst economic recession in the G7, is using the damage THEY CAUSED to cover up the damage from Brexit, WHICH THEY ALSO CAUSED.\\n#Marr \"Rishi Sunak\" https://t.co/3ySAXLXyRU',\n",
       " 'truncated': False,\n",
       " 'display_text_range': [0, 258],\n",
       " 'entities': {'hashtags': [{'text': 'Marr', 'indices': [239, 244]}],\n",
       "  'symbols': [],\n",
       "  'user_mentions': [],\n",
       "  'urls': [],\n",
       "  'media': [{'id': 1330508816669171715,\n",
       "    'id_str': '1330508816669171715',\n",
       "    'indices': [259, 282],\n",
       "    'media_url': 'http://pbs.twimg.com/media/Enbxy7tW4Ak8BE5.jpg',\n",
       "    'media_url_https': 'https://pbs.twimg.com/media/Enbxy7tW4Ak8BE5.jpg',\n",
       "    'url': 'https://t.co/3ySAXLXyRU',\n",
       "    'display_url': 'pic.twitter.com/3ySAXLXyRU',\n",
       "    'expanded_url': 'https://twitter.com/Femi_Sorry/status/1330511787712794624/video/1',\n",
       "    'type': 'photo',\n",
       "    'sizes': {'thumb': {'w': 150, 'h': 150, 'resize': 'crop'},\n",
       "     'large': {'w': 1920, 'h': 1080, 'resize': 'fit'},\n",
       "     'medium': {'w': 1200, 'h': 675, 'resize': 'fit'},\n",
       "     'small': {'w': 680, 'h': 383, 'resize': 'fit'}}}]},\n",
       " 'extended_entities': {'media': [{'id': 1330508816669171715,\n",
       "    'id_str': '1330508816669171715',\n",
       "    'indices': [259, 282],\n",
       "    'media_url': 'http://pbs.twimg.com/media/Enbxy7tW4Ak8BE5.jpg',\n",
       "    'media_url_https': 'https://pbs.twimg.com/media/Enbxy7tW4Ak8BE5.jpg',\n",
       "    'url': 'https://t.co/3ySAXLXyRU',\n",
       "    'display_url': 'pic.twitter.com/3ySAXLXyRU',\n",
       "    'expanded_url': 'https://twitter.com/Femi_Sorry/status/1330511787712794624/video/1',\n",
       "    'type': 'video',\n",
       "    'sizes': {'thumb': {'w': 150, 'h': 150, 'resize': 'crop'},\n",
       "     'large': {'w': 1920, 'h': 1080, 'resize': 'fit'},\n",
       "     'medium': {'w': 1200, 'h': 675, 'resize': 'fit'},\n",
       "     'small': {'w': 680, 'h': 383, 'resize': 'fit'}},\n",
       "    'video_info': {'aspect_ratio': [2, 1],\n",
       "     'duration_millis': 197533,\n",
       "     'variants': [{'bitrate': 2176000,\n",
       "       'content_type': 'video/mp4',\n",
       "       'url': 'https://video.twimg.com/amplify_video/1330508816669171715/vid/1440x720/i4rP2IiGYCHBmCm-.mp4?tag=13'},\n",
       "      {'content_type': 'application/x-mpegURL',\n",
       "       'url': 'https://video.twimg.com/amplify_video/1330508816669171715/pl/dRcGGBiNHbx-aZUx.m3u8?tag=13'},\n",
       "      {'bitrate': 832000,\n",
       "       'content_type': 'video/mp4',\n",
       "       'url': 'https://video.twimg.com/amplify_video/1330508816669171715/vid/720x360/erc5V-fOFOZWElJH.mp4?tag=13'},\n",
       "      {'bitrate': 288000,\n",
       "       'content_type': 'video/mp4',\n",
       "       'url': 'https://video.twimg.com/amplify_video/1330508816669171715/vid/540x270/qcF9cWs9PrZaLAYO.mp4?tag=13'}]},\n",
       "    'additional_media_info': {'title': '',\n",
       "     'description': 'Rishi Sunak is quizzed about No-Deal Brexit on #Marr',\n",
       "     'embeddable': True,\n",
       "     'monetizable': False}}]},\n",
       " 'metadata': {'result_type': 'popular', 'iso_language_code': 'en'},\n",
       " 'source': '<a href=\"https://studio.twitter.com\" rel=\"nofollow\">Twitter Media Studio</a>',\n",
       " 'in_reply_to_status_id': None,\n",
       " 'in_reply_to_status_id_str': None,\n",
       " 'in_reply_to_user_id': None,\n",
       " 'in_reply_to_user_id_str': None,\n",
       " 'in_reply_to_screen_name': None,\n",
       " 'user': {'id': 234694571,\n",
       "  'id_str': '234694571',\n",
       "  'name': 'Femi😷',\n",
       "  'screen_name': 'Femi_Sorry',\n",
       "  'location': 'Solihull, England',\n",
       "  'description': 'Femi Oluwole\\n🇬🇧Law grad \"Do-Gooder\"\\nCalling out #Brexit and Boris & Farage\\'s lies & lack of humanity in @Independent/@theIpaper/@LondonEconomic\\nEx @OFOCbrexit',\n",
       "  'url': 'https://t.co/3qVH7HQFJk',\n",
       "  'entities': {'url': {'urls': [{'url': 'https://t.co/3qVH7HQFJk',\n",
       "      'expanded_url': 'http://Instagram.com/femi_sorry',\n",
       "      'display_url': 'Instagram.com/femi_sorry',\n",
       "      'indices': [0, 23]}]},\n",
       "   'description': {'urls': []}},\n",
       "  'protected': False,\n",
       "  'followers_count': 282591,\n",
       "  'friends_count': 1598,\n",
       "  'listed_count': 1087,\n",
       "  'created_at': 'Thu Jan 06 09:50:22 +0000 2011',\n",
       "  'favourites_count': 97575,\n",
       "  'utc_offset': None,\n",
       "  'time_zone': None,\n",
       "  'geo_enabled': True,\n",
       "  'verified': True,\n",
       "  'statuses_count': 71859,\n",
       "  'lang': None,\n",
       "  'contributors_enabled': False,\n",
       "  'is_translator': False,\n",
       "  'is_translation_enabled': True,\n",
       "  'profile_background_color': 'C0DEED',\n",
       "  'profile_background_image_url': 'http://abs.twimg.com/images/themes/theme1/bg.png',\n",
       "  'profile_background_image_url_https': 'https://abs.twimg.com/images/themes/theme1/bg.png',\n",
       "  'profile_background_tile': False,\n",
       "  'profile_image_url': 'http://pbs.twimg.com/profile_images/1325322600223019008/ya7G1P-1_normal.jpg',\n",
       "  'profile_image_url_https': 'https://pbs.twimg.com/profile_images/1325322600223019008/ya7G1P-1_normal.jpg',\n",
       "  'profile_banner_url': 'https://pbs.twimg.com/profile_banners/234694571/1593978138',\n",
       "  'profile_link_color': 'B30000',\n",
       "  'profile_sidebar_border_color': 'C0DEED',\n",
       "  'profile_sidebar_fill_color': 'DDEEF6',\n",
       "  'profile_text_color': '333333',\n",
       "  'profile_use_background_image': True,\n",
       "  'has_extended_profile': True,\n",
       "  'default_profile': False,\n",
       "  'default_profile_image': False,\n",
       "  'following': None,\n",
       "  'follow_request_sent': None,\n",
       "  'notifications': None,\n",
       "  'translator_type': 'none'},\n",
       " 'geo': None,\n",
       " 'coordinates': None,\n",
       " 'place': None,\n",
       " 'contributors': None,\n",
       " 'is_quote_status': False,\n",
       " 'retweet_count': 1333,\n",
       " 'favorite_count': 4622,\n",
       " 'favorited': False,\n",
       " 'retweeted': False,\n",
       " 'possibly_sensitive': False,\n",
       " 'lang': 'en'}"
      ]
     },
     "execution_count": 8,
     "metadata": {},
     "output_type": "execute_result"
    }
   ],
   "source": [
    "# You get a LOT of data in one single Tweet of a single response, but it's also a bit unwieldy. \n",
    "# Luckily we can access a nice structured version of this with the ._json attribute attached to each tweet object\n",
    "\n",
    "# we'll use the ._json attribute in later sessions...\n",
    "single_tweet._json"
   ]
  },
  {
   "cell_type": "markdown",
   "metadata": {},
   "source": [
    "### Types of Data in a single Tweet object\n",
    "Tweets from the API contain data such as...\n",
    "- Time posted\n",
    "- The text of the tweet\n",
    "- Full details on the User who posted.\n",
    "- Details of any media embedded in the tweet\n",
    "- Details of any hashtags user mentions, urls"
   ]
  },
  {
   "cell_type": "code",
   "execution_count": 9,
   "metadata": {},
   "outputs": [
    {
     "data": {
      "text/plain": [
       "tweepy.models.Status"
      ]
     },
     "execution_count": 9,
     "metadata": {},
     "output_type": "execute_result"
    }
   ],
   "source": [
    "# If we check the type of our single_tweet we can see it is a tweepy Status object.\n",
    "# When Tweepy recieved the response from Twitter, it wrapped it up into a useful object for us.\n",
    "type(single_tweet)"
   ]
  },
  {
   "cell_type": "code",
   "execution_count": 10,
   "metadata": {},
   "outputs": [
    {
     "name": "stdout",
     "output_type": "stream",
     "text": [
      "It's so ****ed up that the government whose record on Covid is the highest excess death rate in Europe and the worst economic recession in the G7, is using the damage THEY CAUSED to cover up the damage from Brexit, WHICH THEY ALSO CAUSED.\n",
      "#Marr \"Rishi Sunak\" https://t.co/3ySAXLXyRU\n",
      "Twitter Media Studio\n",
      "1333\n"
     ]
    }
   ],
   "source": [
    "# You can access any of these items individually as they are set as attributes of the Status class...\n",
    "\n",
    "print(single_tweet.full_text)\n",
    "print(single_tweet.source)\n",
    "print(single_tweet.retweet_count)"
   ]
  },
  {
   "cell_type": "code",
   "execution_count": 11,
   "metadata": {},
   "outputs": [
    {
     "data": {
      "text/plain": [
       "dict_keys(['created_at', 'id', 'id_str', 'full_text', 'truncated', 'display_text_range', 'entities', 'extended_entities', 'metadata', 'source', 'in_reply_to_status_id', 'in_reply_to_status_id_str', 'in_reply_to_user_id', 'in_reply_to_user_id_str', 'in_reply_to_screen_name', 'user', 'geo', 'coordinates', 'place', 'contributors', 'is_quote_status', 'retweet_count', 'favorite_count', 'favorited', 'retweeted', 'possibly_sensitive', 'lang'])"
      ]
     },
     "execution_count": 11,
     "metadata": {},
     "output_type": "execute_result"
    }
   ],
   "source": [
    "# a clean way to see all the relevant attributes is to ask for the json keys...\n",
    "single_tweet._json.keys()"
   ]
  },
  {
   "cell_type": "code",
   "execution_count": 14,
   "metadata": {},
   "outputs": [],
   "source": [
    "# You can also use Jupyter to help you by using the code completion suggestions\n",
    "# type single_tweet. and then hit Tab on your keyboard to see your options.\n",
    "\n",
    "# single_tweet."
   ]
  },
  {
   "cell_type": "code",
   "execution_count": 15,
   "metadata": {},
   "outputs": [
    {
     "data": {
      "text/plain": [
       "tweepy.models.User"
      ]
     },
     "execution_count": 15,
     "metadata": {},
     "output_type": "execute_result"
    }
   ],
   "source": [
    "# Some the values of some items will themselves be other objects, with their own attributes...\n",
    "\n",
    "type(single_tweet.user)"
   ]
  },
  {
   "cell_type": "code",
   "execution_count": 16,
   "metadata": {},
   "outputs": [
    {
     "data": {
      "text/plain": [
       "User(_api=<tweepy.api.API object at 0x7fdef0847e90>, _json={'id': 234694571, 'id_str': '234694571', 'name': 'Femi😷', 'screen_name': 'Femi_Sorry', 'location': 'Solihull, England', 'description': 'Femi Oluwole\\n🇬🇧Law grad \"Do-Gooder\"\\nCalling out #Brexit and Boris & Farage\\'s lies & lack of humanity in @Independent/@theIpaper/@LondonEconomic\\nEx @OFOCbrexit', 'url': 'https://t.co/3qVH7HQFJk', 'entities': {'url': {'urls': [{'url': 'https://t.co/3qVH7HQFJk', 'expanded_url': 'http://Instagram.com/femi_sorry', 'display_url': 'Instagram.com/femi_sorry', 'indices': [0, 23]}]}, 'description': {'urls': []}}, 'protected': False, 'followers_count': 282591, 'friends_count': 1598, 'listed_count': 1087, 'created_at': 'Thu Jan 06 09:50:22 +0000 2011', 'favourites_count': 97575, 'utc_offset': None, 'time_zone': None, 'geo_enabled': True, 'verified': True, 'statuses_count': 71859, 'lang': None, 'contributors_enabled': False, 'is_translator': False, 'is_translation_enabled': True, 'profile_background_color': 'C0DEED', 'profile_background_image_url': 'http://abs.twimg.com/images/themes/theme1/bg.png', 'profile_background_image_url_https': 'https://abs.twimg.com/images/themes/theme1/bg.png', 'profile_background_tile': False, 'profile_image_url': 'http://pbs.twimg.com/profile_images/1325322600223019008/ya7G1P-1_normal.jpg', 'profile_image_url_https': 'https://pbs.twimg.com/profile_images/1325322600223019008/ya7G1P-1_normal.jpg', 'profile_banner_url': 'https://pbs.twimg.com/profile_banners/234694571/1593978138', 'profile_link_color': 'B30000', 'profile_sidebar_border_color': 'C0DEED', 'profile_sidebar_fill_color': 'DDEEF6', 'profile_text_color': '333333', 'profile_use_background_image': True, 'has_extended_profile': True, 'default_profile': False, 'default_profile_image': False, 'following': None, 'follow_request_sent': None, 'notifications': None, 'translator_type': 'none'}, id=234694571, id_str='234694571', name='Femi😷', screen_name='Femi_Sorry', location='Solihull, England', description='Femi Oluwole\\n🇬🇧Law grad \"Do-Gooder\"\\nCalling out #Brexit and Boris & Farage\\'s lies & lack of humanity in @Independent/@theIpaper/@LondonEconomic\\nEx @OFOCbrexit', url='https://t.co/3qVH7HQFJk', entities={'url': {'urls': [{'url': 'https://t.co/3qVH7HQFJk', 'expanded_url': 'http://Instagram.com/femi_sorry', 'display_url': 'Instagram.com/femi_sorry', 'indices': [0, 23]}]}, 'description': {'urls': []}}, protected=False, followers_count=282591, friends_count=1598, listed_count=1087, created_at=datetime.datetime(2011, 1, 6, 9, 50, 22), favourites_count=97575, utc_offset=None, time_zone=None, geo_enabled=True, verified=True, statuses_count=71859, lang=None, contributors_enabled=False, is_translator=False, is_translation_enabled=True, profile_background_color='C0DEED', profile_background_image_url='http://abs.twimg.com/images/themes/theme1/bg.png', profile_background_image_url_https='https://abs.twimg.com/images/themes/theme1/bg.png', profile_background_tile=False, profile_image_url='http://pbs.twimg.com/profile_images/1325322600223019008/ya7G1P-1_normal.jpg', profile_image_url_https='https://pbs.twimg.com/profile_images/1325322600223019008/ya7G1P-1_normal.jpg', profile_banner_url='https://pbs.twimg.com/profile_banners/234694571/1593978138', profile_link_color='B30000', profile_sidebar_border_color='C0DEED', profile_sidebar_fill_color='DDEEF6', profile_text_color='333333', profile_use_background_image=True, has_extended_profile=True, default_profile=False, default_profile_image=False, following=False, follow_request_sent=None, notifications=None, translator_type='none')"
      ]
     },
     "execution_count": 16,
     "metadata": {},
     "output_type": "execute_result"
    }
   ],
   "source": [
    "single_tweet.user"
   ]
  },
  {
   "cell_type": "code",
   "execution_count": 17,
   "metadata": {},
   "outputs": [
    {
     "data": {
      "text/plain": [
       "{'id': 234694571,\n",
       " 'id_str': '234694571',\n",
       " 'name': 'Femi😷',\n",
       " 'screen_name': 'Femi_Sorry',\n",
       " 'location': 'Solihull, England',\n",
       " 'description': 'Femi Oluwole\\n🇬🇧Law grad \"Do-Gooder\"\\nCalling out #Brexit and Boris & Farage\\'s lies & lack of humanity in @Independent/@theIpaper/@LondonEconomic\\nEx @OFOCbrexit',\n",
       " 'url': 'https://t.co/3qVH7HQFJk',\n",
       " 'entities': {'url': {'urls': [{'url': 'https://t.co/3qVH7HQFJk',\n",
       "     'expanded_url': 'http://Instagram.com/femi_sorry',\n",
       "     'display_url': 'Instagram.com/femi_sorry',\n",
       "     'indices': [0, 23]}]},\n",
       "  'description': {'urls': []}},\n",
       " 'protected': False,\n",
       " 'followers_count': 282591,\n",
       " 'friends_count': 1598,\n",
       " 'listed_count': 1087,\n",
       " 'created_at': 'Thu Jan 06 09:50:22 +0000 2011',\n",
       " 'favourites_count': 97575,\n",
       " 'utc_offset': None,\n",
       " 'time_zone': None,\n",
       " 'geo_enabled': True,\n",
       " 'verified': True,\n",
       " 'statuses_count': 71859,\n",
       " 'lang': None,\n",
       " 'contributors_enabled': False,\n",
       " 'is_translator': False,\n",
       " 'is_translation_enabled': True,\n",
       " 'profile_background_color': 'C0DEED',\n",
       " 'profile_background_image_url': 'http://abs.twimg.com/images/themes/theme1/bg.png',\n",
       " 'profile_background_image_url_https': 'https://abs.twimg.com/images/themes/theme1/bg.png',\n",
       " 'profile_background_tile': False,\n",
       " 'profile_image_url': 'http://pbs.twimg.com/profile_images/1325322600223019008/ya7G1P-1_normal.jpg',\n",
       " 'profile_image_url_https': 'https://pbs.twimg.com/profile_images/1325322600223019008/ya7G1P-1_normal.jpg',\n",
       " 'profile_banner_url': 'https://pbs.twimg.com/profile_banners/234694571/1593978138',\n",
       " 'profile_link_color': 'B30000',\n",
       " 'profile_sidebar_border_color': 'C0DEED',\n",
       " 'profile_sidebar_fill_color': 'DDEEF6',\n",
       " 'profile_text_color': '333333',\n",
       " 'profile_use_background_image': True,\n",
       " 'has_extended_profile': True,\n",
       " 'default_profile': False,\n",
       " 'default_profile_image': False,\n",
       " 'following': None,\n",
       " 'follow_request_sent': None,\n",
       " 'notifications': None,\n",
       " 'translator_type': 'none'}"
      ]
     },
     "execution_count": 17,
     "metadata": {},
     "output_type": "execute_result"
    }
   ],
   "source": [
    "single_tweet.user._json"
   ]
  },
  {
   "cell_type": "code",
   "execution_count": 18,
   "metadata": {},
   "outputs": [
    {
     "data": {
      "text/plain": [
       "'Femi_Sorry'"
      ]
     },
     "execution_count": 18,
     "metadata": {},
     "output_type": "execute_result"
    }
   ],
   "source": [
    "# We can access these subvalues by just chaining our attribute requests\n",
    "\n",
    "single_tweet.user.screen_name"
   ]
  },
  {
   "cell_type": "markdown",
   "metadata": {},
   "source": [
    "If a tweet is a retweet it will also contain another tweet object with all the information on the original tweet."
   ]
  },
  {
   "cell_type": "code",
   "execution_count": 19,
   "metadata": {},
   "outputs": [
    {
     "name": "stdout",
     "output_type": "stream",
     "text": [
      "Status(_api=<tweepy.api.API object at 0x7fdef0847e90>, _json={'created_at': 'Mon Nov 23 13:31:55 +0000 2020', 'id': 1330866671498747904, 'id_str': '1330866671498747904', 'full_text': 'RT @liz_langfield: Right. So was Covid to blame for tearing up the countryside in Kent for the huge lorry parks?  Is Covid to blame for all…', 'truncated': False, 'display_text_range': [0, 140], 'entities': {'hashtags': [], 'symbols': [], 'user_mentions': [{'screen_name': 'liz_langfield', 'name': 'Liz Langfield 3.5% #FBPE🐝', 'id': 826465702156627968, 'id_str': '826465702156627968', 'indices': [3, 17]}], 'urls': []}, 'metadata': {'iso_language_code': 'en', 'result_type': 'recent'}, 'source': '<a href=\"https://mobile.twitter.com\" rel=\"nofollow\">Twitter Web App</a>', 'in_reply_to_status_id': None, 'in_reply_to_status_id_str': None, 'in_reply_to_user_id': None, 'in_reply_to_user_id_str': None, 'in_reply_to_screen_name': None, 'user': {'id': 4332062969, 'id_str': '4332062969', 'name': 'Neil 🏴\\U000e0067\\U000e0062\\U000e0073\\U000e0063\\U000e0074\\U000e007f', 'screen_name': 'devchem123', 'location': '', 'description': '', 'url': None, 'entities': {'description': {'urls': []}}, 'protected': False, 'followers_count': 237, 'friends_count': 291, 'listed_count': 0, 'created_at': 'Mon Nov 30 19:37:23 +0000 2015', 'favourites_count': 69995, 'utc_offset': None, 'time_zone': None, 'geo_enabled': False, 'verified': False, 'statuses_count': 27231, 'lang': None, 'contributors_enabled': False, 'is_translator': False, 'is_translation_enabled': False, 'profile_background_color': 'C0DEED', 'profile_background_image_url': 'http://abs.twimg.com/images/themes/theme1/bg.png', 'profile_background_image_url_https': 'https://abs.twimg.com/images/themes/theme1/bg.png', 'profile_background_tile': False, 'profile_image_url': 'http://pbs.twimg.com/profile_images/929459555867807750/ZDkQyco4_normal.jpg', 'profile_image_url_https': 'https://pbs.twimg.com/profile_images/929459555867807750/ZDkQyco4_normal.jpg', 'profile_banner_url': 'https://pbs.twimg.com/profile_banners/4332062969/1448912580', 'profile_link_color': '1DA1F2', 'profile_sidebar_border_color': 'C0DEED', 'profile_sidebar_fill_color': 'DDEEF6', 'profile_text_color': '333333', 'profile_use_background_image': True, 'has_extended_profile': True, 'default_profile': True, 'default_profile_image': False, 'following': None, 'follow_request_sent': None, 'notifications': None, 'translator_type': 'none'}, 'geo': None, 'coordinates': None, 'place': None, 'contributors': None, 'retweeted_status': {'created_at': 'Sun Nov 22 23:31:49 +0000 2020', 'id': 1330655255277793280, 'id_str': '1330655255277793280', 'full_text': 'Right. So was Covid to blame for tearing up the countryside in Kent for the huge lorry parks?  Is Covid to blame for all the extra “paperwork” needed to export/import goods?  Is Covid to blame for all those financial institutions moving out of London?   NO. NO. NO.  IT’S BREXIT.', 'truncated': False, 'display_text_range': [0, 279], 'entities': {'hashtags': [], 'symbols': [], 'user_mentions': [], 'urls': []}, 'metadata': {'iso_language_code': 'en', 'result_type': 'recent'}, 'source': '<a href=\"http://twitter.com/download/iphone\" rel=\"nofollow\">Twitter for iPhone</a>', 'in_reply_to_status_id': None, 'in_reply_to_status_id_str': None, 'in_reply_to_user_id': None, 'in_reply_to_user_id_str': None, 'in_reply_to_screen_name': None, 'user': {'id': 826465702156627968, 'id_str': '826465702156627968', 'name': 'Liz Langfield 3.5% #FBPE🐝', 'screen_name': 'liz_langfield', 'location': 'North East, England', 'description': 'Love fairness, fun, good debate. Abhor this lying, corrupt Government. Brexit is anathema to me. Want to see a better world for all. #REJOIN', 'url': None, 'entities': {'description': {'urls': []}}, 'protected': False, 'followers_count': 1487, 'friends_count': 1839, 'listed_count': 1, 'created_at': 'Tue Jan 31 16:22:33 +0000 2017', 'favourites_count': 21031, 'utc_offset': None, 'time_zone': None, 'geo_enabled': False, 'verified': False, 'statuses_count': 7943, 'lang': None, 'contributors_enabled': False, 'is_translator': False, 'is_translation_enabled': False, 'profile_background_color': 'F5F8FA', 'profile_background_image_url': None, 'profile_background_image_url_https': None, 'profile_background_tile': False, 'profile_image_url': 'http://pbs.twimg.com/profile_images/1197863030257836032/vl-KbqgN_normal.jpg', 'profile_image_url_https': 'https://pbs.twimg.com/profile_images/1197863030257836032/vl-KbqgN_normal.jpg', 'profile_link_color': '1DA1F2', 'profile_sidebar_border_color': 'C0DEED', 'profile_sidebar_fill_color': 'DDEEF6', 'profile_text_color': '333333', 'profile_use_background_image': True, 'has_extended_profile': False, 'default_profile': True, 'default_profile_image': False, 'following': None, 'follow_request_sent': None, 'notifications': None, 'translator_type': 'none'}, 'geo': None, 'coordinates': None, 'place': None, 'contributors': None, 'is_quote_status': False, 'retweet_count': 234, 'favorite_count': 867, 'favorited': False, 'retweeted': False, 'lang': 'en'}, 'is_quote_status': False, 'retweet_count': 234, 'favorite_count': 0, 'favorited': False, 'retweeted': False, 'lang': 'en'}, created_at=datetime.datetime(2020, 11, 23, 13, 31, 55), id=1330866671498747904, id_str='1330866671498747904', full_text='RT @liz_langfield: Right. So was Covid to blame for tearing up the countryside in Kent for the huge lorry parks?  Is Covid to blame for all…', truncated=False, display_text_range=[0, 140], entities={'hashtags': [], 'symbols': [], 'user_mentions': [{'screen_name': 'liz_langfield', 'name': 'Liz Langfield 3.5% #FBPE🐝', 'id': 826465702156627968, 'id_str': '826465702156627968', 'indices': [3, 17]}], 'urls': []}, metadata={'iso_language_code': 'en', 'result_type': 'recent'}, source='Twitter Web App', source_url='https://mobile.twitter.com', in_reply_to_status_id=None, in_reply_to_status_id_str=None, in_reply_to_user_id=None, in_reply_to_user_id_str=None, in_reply_to_screen_name=None, author=User(_api=<tweepy.api.API object at 0x7fdef0847e90>, _json={'id': 4332062969, 'id_str': '4332062969', 'name': 'Neil 🏴\\U000e0067\\U000e0062\\U000e0073\\U000e0063\\U000e0074\\U000e007f', 'screen_name': 'devchem123', 'location': '', 'description': '', 'url': None, 'entities': {'description': {'urls': []}}, 'protected': False, 'followers_count': 237, 'friends_count': 291, 'listed_count': 0, 'created_at': 'Mon Nov 30 19:37:23 +0000 2015', 'favourites_count': 69995, 'utc_offset': None, 'time_zone': None, 'geo_enabled': False, 'verified': False, 'statuses_count': 27231, 'lang': None, 'contributors_enabled': False, 'is_translator': False, 'is_translation_enabled': False, 'profile_background_color': 'C0DEED', 'profile_background_image_url': 'http://abs.twimg.com/images/themes/theme1/bg.png', 'profile_background_image_url_https': 'https://abs.twimg.com/images/themes/theme1/bg.png', 'profile_background_tile': False, 'profile_image_url': 'http://pbs.twimg.com/profile_images/929459555867807750/ZDkQyco4_normal.jpg', 'profile_image_url_https': 'https://pbs.twimg.com/profile_images/929459555867807750/ZDkQyco4_normal.jpg', 'profile_banner_url': 'https://pbs.twimg.com/profile_banners/4332062969/1448912580', 'profile_link_color': '1DA1F2', 'profile_sidebar_border_color': 'C0DEED', 'profile_sidebar_fill_color': 'DDEEF6', 'profile_text_color': '333333', 'profile_use_background_image': True, 'has_extended_profile': True, 'default_profile': True, 'default_profile_image': False, 'following': None, 'follow_request_sent': None, 'notifications': None, 'translator_type': 'none'}, id=4332062969, id_str='4332062969', name='Neil 🏴\\U000e0067\\U000e0062\\U000e0073\\U000e0063\\U000e0074\\U000e007f', screen_name='devchem123', location='', description='', url=None, entities={'description': {'urls': []}}, protected=False, followers_count=237, friends_count=291, listed_count=0, created_at=datetime.datetime(2015, 11, 30, 19, 37, 23), favourites_count=69995, utc_offset=None, time_zone=None, geo_enabled=False, verified=False, statuses_count=27231, lang=None, contributors_enabled=False, is_translator=False, is_translation_enabled=False, profile_background_color='C0DEED', profile_background_image_url='http://abs.twimg.com/images/themes/theme1/bg.png', profile_background_image_url_https='https://abs.twimg.com/images/themes/theme1/bg.png', profile_background_tile=False, profile_image_url='http://pbs.twimg.com/profile_images/929459555867807750/ZDkQyco4_normal.jpg', profile_image_url_https='https://pbs.twimg.com/profile_images/929459555867807750/ZDkQyco4_normal.jpg', profile_banner_url='https://pbs.twimg.com/profile_banners/4332062969/1448912580', profile_link_color='1DA1F2', profile_sidebar_border_color='C0DEED', profile_sidebar_fill_color='DDEEF6', profile_text_color='333333', profile_use_background_image=True, has_extended_profile=True, default_profile=True, default_profile_image=False, following=False, follow_request_sent=None, notifications=None, translator_type='none'), user=User(_api=<tweepy.api.API object at 0x7fdef0847e90>, _json={'id': 4332062969, 'id_str': '4332062969', 'name': 'Neil 🏴\\U000e0067\\U000e0062\\U000e0073\\U000e0063\\U000e0074\\U000e007f', 'screen_name': 'devchem123', 'location': '', 'description': '', 'url': None, 'entities': {'description': {'urls': []}}, 'protected': False, 'followers_count': 237, 'friends_count': 291, 'listed_count': 0, 'created_at': 'Mon Nov 30 19:37:23 +0000 2015', 'favourites_count': 69995, 'utc_offset': None, 'time_zone': None, 'geo_enabled': False, 'verified': False, 'statuses_count': 27231, 'lang': None, 'contributors_enabled': False, 'is_translator': False, 'is_translation_enabled': False, 'profile_background_color': 'C0DEED', 'profile_background_image_url': 'http://abs.twimg.com/images/themes/theme1/bg.png', 'profile_background_image_url_https': 'https://abs.twimg.com/images/themes/theme1/bg.png', 'profile_background_tile': False, 'profile_image_url': 'http://pbs.twimg.com/profile_images/929459555867807750/ZDkQyco4_normal.jpg', 'profile_image_url_https': 'https://pbs.twimg.com/profile_images/929459555867807750/ZDkQyco4_normal.jpg', 'profile_banner_url': 'https://pbs.twimg.com/profile_banners/4332062969/1448912580', 'profile_link_color': '1DA1F2', 'profile_sidebar_border_color': 'C0DEED', 'profile_sidebar_fill_color': 'DDEEF6', 'profile_text_color': '333333', 'profile_use_background_image': True, 'has_extended_profile': True, 'default_profile': True, 'default_profile_image': False, 'following': None, 'follow_request_sent': None, 'notifications': None, 'translator_type': 'none'}, id=4332062969, id_str='4332062969', name='Neil 🏴\\U000e0067\\U000e0062\\U000e0073\\U000e0063\\U000e0074\\U000e007f', screen_name='devchem123', location='', description='', url=None, entities={'description': {'urls': []}}, protected=False, followers_count=237, friends_count=291, listed_count=0, created_at=datetime.datetime(2015, 11, 30, 19, 37, 23), favourites_count=69995, utc_offset=None, time_zone=None, geo_enabled=False, verified=False, statuses_count=27231, lang=None, contributors_enabled=False, is_translator=False, is_translation_enabled=False, profile_background_color='C0DEED', profile_background_image_url='http://abs.twimg.com/images/themes/theme1/bg.png', profile_background_image_url_https='https://abs.twimg.com/images/themes/theme1/bg.png', profile_background_tile=False, profile_image_url='http://pbs.twimg.com/profile_images/929459555867807750/ZDkQyco4_normal.jpg', profile_image_url_https='https://pbs.twimg.com/profile_images/929459555867807750/ZDkQyco4_normal.jpg', profile_banner_url='https://pbs.twimg.com/profile_banners/4332062969/1448912580', profile_link_color='1DA1F2', profile_sidebar_border_color='C0DEED', profile_sidebar_fill_color='DDEEF6', profile_text_color='333333', profile_use_background_image=True, has_extended_profile=True, default_profile=True, default_profile_image=False, following=False, follow_request_sent=None, notifications=None, translator_type='none'), geo=None, coordinates=None, place=None, contributors=None, retweeted_status=Status(_api=<tweepy.api.API object at 0x7fdef0847e90>, _json={'created_at': 'Sun Nov 22 23:31:49 +0000 2020', 'id': 1330655255277793280, 'id_str': '1330655255277793280', 'full_text': 'Right. So was Covid to blame for tearing up the countryside in Kent for the huge lorry parks?  Is Covid to blame for all the extra “paperwork” needed to export/import goods?  Is Covid to blame for all those financial institutions moving out of London?   NO. NO. NO.  IT’S BREXIT.', 'truncated': False, 'display_text_range': [0, 279], 'entities': {'hashtags': [], 'symbols': [], 'user_mentions': [], 'urls': []}, 'metadata': {'iso_language_code': 'en', 'result_type': 'recent'}, 'source': '<a href=\"http://twitter.com/download/iphone\" rel=\"nofollow\">Twitter for iPhone</a>', 'in_reply_to_status_id': None, 'in_reply_to_status_id_str': None, 'in_reply_to_user_id': None, 'in_reply_to_user_id_str': None, 'in_reply_to_screen_name': None, 'user': {'id': 826465702156627968, 'id_str': '826465702156627968', 'name': 'Liz Langfield 3.5% #FBPE🐝', 'screen_name': 'liz_langfield', 'location': 'North East, England', 'description': 'Love fairness, fun, good debate. Abhor this lying, corrupt Government. Brexit is anathema to me. Want to see a better world for all. #REJOIN', 'url': None, 'entities': {'description': {'urls': []}}, 'protected': False, 'followers_count': 1487, 'friends_count': 1839, 'listed_count': 1, 'created_at': 'Tue Jan 31 16:22:33 +0000 2017', 'favourites_count': 21031, 'utc_offset': None, 'time_zone': None, 'geo_enabled': False, 'verified': False, 'statuses_count': 7943, 'lang': None, 'contributors_enabled': False, 'is_translator': False, 'is_translation_enabled': False, 'profile_background_color': 'F5F8FA', 'profile_background_image_url': None, 'profile_background_image_url_https': None, 'profile_background_tile': False, 'profile_image_url': 'http://pbs.twimg.com/profile_images/1197863030257836032/vl-KbqgN_normal.jpg', 'profile_image_url_https': 'https://pbs.twimg.com/profile_images/1197863030257836032/vl-KbqgN_normal.jpg', 'profile_link_color': '1DA1F2', 'profile_sidebar_border_color': 'C0DEED', 'profile_sidebar_fill_color': 'DDEEF6', 'profile_text_color': '333333', 'profile_use_background_image': True, 'has_extended_profile': False, 'default_profile': True, 'default_profile_image': False, 'following': None, 'follow_request_sent': None, 'notifications': None, 'translator_type': 'none'}, 'geo': None, 'coordinates': None, 'place': None, 'contributors': None, 'is_quote_status': False, 'retweet_count': 234, 'favorite_count': 867, 'favorited': False, 'retweeted': False, 'lang': 'en'}, created_at=datetime.datetime(2020, 11, 22, 23, 31, 49), id=1330655255277793280, id_str='1330655255277793280', full_text='Right. So was Covid to blame for tearing up the countryside in Kent for the huge lorry parks?  Is Covid to blame for all the extra “paperwork” needed to export/import goods?  Is Covid to blame for all those financial institutions moving out of London?   NO. NO. NO.  IT’S BREXIT.', truncated=False, display_text_range=[0, 279], entities={'hashtags': [], 'symbols': [], 'user_mentions': [], 'urls': []}, metadata={'iso_language_code': 'en', 'result_type': 'recent'}, source='Twitter for iPhone', source_url='http://twitter.com/download/iphone', in_reply_to_status_id=None, in_reply_to_status_id_str=None, in_reply_to_user_id=None, in_reply_to_user_id_str=None, in_reply_to_screen_name=None, author=User(_api=<tweepy.api.API object at 0x7fdef0847e90>, _json={'id': 826465702156627968, 'id_str': '826465702156627968', 'name': 'Liz Langfield 3.5% #FBPE🐝', 'screen_name': 'liz_langfield', 'location': 'North East, England', 'description': 'Love fairness, fun, good debate. Abhor this lying, corrupt Government. Brexit is anathema to me. Want to see a better world for all. #REJOIN', 'url': None, 'entities': {'description': {'urls': []}}, 'protected': False, 'followers_count': 1487, 'friends_count': 1839, 'listed_count': 1, 'created_at': 'Tue Jan 31 16:22:33 +0000 2017', 'favourites_count': 21031, 'utc_offset': None, 'time_zone': None, 'geo_enabled': False, 'verified': False, 'statuses_count': 7943, 'lang': None, 'contributors_enabled': False, 'is_translator': False, 'is_translation_enabled': False, 'profile_background_color': 'F5F8FA', 'profile_background_image_url': None, 'profile_background_image_url_https': None, 'profile_background_tile': False, 'profile_image_url': 'http://pbs.twimg.com/profile_images/1197863030257836032/vl-KbqgN_normal.jpg', 'profile_image_url_https': 'https://pbs.twimg.com/profile_images/1197863030257836032/vl-KbqgN_normal.jpg', 'profile_link_color': '1DA1F2', 'profile_sidebar_border_color': 'C0DEED', 'profile_sidebar_fill_color': 'DDEEF6', 'profile_text_color': '333333', 'profile_use_background_image': True, 'has_extended_profile': False, 'default_profile': True, 'default_profile_image': False, 'following': None, 'follow_request_sent': None, 'notifications': None, 'translator_type': 'none'}, id=826465702156627968, id_str='826465702156627968', name='Liz Langfield 3.5% #FBPE🐝', screen_name='liz_langfield', location='North East, England', description='Love fairness, fun, good debate. Abhor this lying, corrupt Government. Brexit is anathema to me. Want to see a better world for all. #REJOIN', url=None, entities={'description': {'urls': []}}, protected=False, followers_count=1487, friends_count=1839, listed_count=1, created_at=datetime.datetime(2017, 1, 31, 16, 22, 33), favourites_count=21031, utc_offset=None, time_zone=None, geo_enabled=False, verified=False, statuses_count=7943, lang=None, contributors_enabled=False, is_translator=False, is_translation_enabled=False, profile_background_color='F5F8FA', profile_background_image_url=None, profile_background_image_url_https=None, profile_background_tile=False, profile_image_url='http://pbs.twimg.com/profile_images/1197863030257836032/vl-KbqgN_normal.jpg', profile_image_url_https='https://pbs.twimg.com/profile_images/1197863030257836032/vl-KbqgN_normal.jpg', profile_link_color='1DA1F2', profile_sidebar_border_color='C0DEED', profile_sidebar_fill_color='DDEEF6', profile_text_color='333333', profile_use_background_image=True, has_extended_profile=False, default_profile=True, default_profile_image=False, following=False, follow_request_sent=None, notifications=None, translator_type='none'), user=User(_api=<tweepy.api.API object at 0x7fdef0847e90>, _json={'id': 826465702156627968, 'id_str': '826465702156627968', 'name': 'Liz Langfield 3.5% #FBPE🐝', 'screen_name': 'liz_langfield', 'location': 'North East, England', 'description': 'Love fairness, fun, good debate. Abhor this lying, corrupt Government. Brexit is anathema to me. Want to see a better world for all. #REJOIN', 'url': None, 'entities': {'description': {'urls': []}}, 'protected': False, 'followers_count': 1487, 'friends_count': 1839, 'listed_count': 1, 'created_at': 'Tue Jan 31 16:22:33 +0000 2017', 'favourites_count': 21031, 'utc_offset': None, 'time_zone': None, 'geo_enabled': False, 'verified': False, 'statuses_count': 7943, 'lang': None, 'contributors_enabled': False, 'is_translator': False, 'is_translation_enabled': False, 'profile_background_color': 'F5F8FA', 'profile_background_image_url': None, 'profile_background_image_url_https': None, 'profile_background_tile': False, 'profile_image_url': 'http://pbs.twimg.com/profile_images/1197863030257836032/vl-KbqgN_normal.jpg', 'profile_image_url_https': 'https://pbs.twimg.com/profile_images/1197863030257836032/vl-KbqgN_normal.jpg', 'profile_link_color': '1DA1F2', 'profile_sidebar_border_color': 'C0DEED', 'profile_sidebar_fill_color': 'DDEEF6', 'profile_text_color': '333333', 'profile_use_background_image': True, 'has_extended_profile': False, 'default_profile': True, 'default_profile_image': False, 'following': None, 'follow_request_sent': None, 'notifications': None, 'translator_type': 'none'}, id=826465702156627968, id_str='826465702156627968', name='Liz Langfield 3.5% #FBPE🐝', screen_name='liz_langfield', location='North East, England', description='Love fairness, fun, good debate. Abhor this lying, corrupt Government. Brexit is anathema to me. Want to see a better world for all. #REJOIN', url=None, entities={'description': {'urls': []}}, protected=False, followers_count=1487, friends_count=1839, listed_count=1, created_at=datetime.datetime(2017, 1, 31, 16, 22, 33), favourites_count=21031, utc_offset=None, time_zone=None, geo_enabled=False, verified=False, statuses_count=7943, lang=None, contributors_enabled=False, is_translator=False, is_translation_enabled=False, profile_background_color='F5F8FA', profile_background_image_url=None, profile_background_image_url_https=None, profile_background_tile=False, profile_image_url='http://pbs.twimg.com/profile_images/1197863030257836032/vl-KbqgN_normal.jpg', profile_image_url_https='https://pbs.twimg.com/profile_images/1197863030257836032/vl-KbqgN_normal.jpg', profile_link_color='1DA1F2', profile_sidebar_border_color='C0DEED', profile_sidebar_fill_color='DDEEF6', profile_text_color='333333', profile_use_background_image=True, has_extended_profile=False, default_profile=True, default_profile_image=False, following=False, follow_request_sent=None, notifications=None, translator_type='none'), geo=None, coordinates=None, place=None, contributors=None, is_quote_status=False, retweet_count=234, favorite_count=867, favorited=False, retweeted=False, lang='en'), is_quote_status=False, retweet_count=234, favorite_count=0, favorited=False, retweeted=False, lang='en')\n"
     ]
    }
   ],
   "source": [
    "# lets make sure we are all looking at a retweet by using our handy function - this may be the tweet you were looking at already!\n",
    "\n",
    "single_tweet_with_RT = find_first_retweet(single_response)\n",
    "print(single_tweet_with_RT)"
   ]
  },
  {
   "cell_type": "code",
   "execution_count": 20,
   "metadata": {},
   "outputs": [
    {
     "name": "stdout",
     "output_type": "stream",
     "text": [
      "2020-11-23 13:31:55\n",
      "RT @liz_langfield: Right. So was Covid to blame for tearing up the countryside in Kent for the huge lorry parks?  Is Covid to blame for all…\n",
      "devchem123\n",
      "****************************************************************************************************\n",
      "2020-11-22 23:31:49\n",
      "Right. So was Covid to blame for tearing up the countryside in Kent for the huge lorry parks?  Is Covid to blame for all the extra “paperwork” needed to export/import goods?  Is Covid to blame for all those financial institutions moving out of London?   NO. NO. NO.  IT’S BREXIT.\n",
      "liz_langfield\n"
     ]
    }
   ],
   "source": [
    "#.... and therefore we can also access the details of that tweet\n",
    "\n",
    "print(single_tweet_with_RT.created_at)\n",
    "print(single_tweet_with_RT.full_text)\n",
    "print(single_tweet_with_RT.user.screen_name)\n",
    "\n",
    "print('*'*100)\n",
    "\n",
    "print(single_tweet_with_RT.retweeted_status.created_at)\n",
    "print(single_tweet_with_RT.retweeted_status.full_text)\n",
    "print(single_tweet_with_RT.retweeted_status.user.screen_name)\n",
    "\n"
   ]
  },
  {
   "cell_type": "markdown",
   "metadata": {},
   "source": [
    "### Making Multiple Requests\n",
    " - With a single request we can retrieve 100 tweets\n",
    " - What if we want to maximise our data access and make multiple requests\n",
    " - We could make a second request and then join the lists of results together...\n",
    " - However Twitter doesn't know what tweets we already retrieved in the first request, so we might get the same ones again.\n",
    " - Enter Tweepy's `Cursor` object.\n",
    " - The `Cursor` will keep track of where we are in the results stream, handle any api limits and blocks, and keep producing results until it reaches the set limit.\n"
   ]
  },
  {
   "cell_type": "code",
   "execution_count": 21,
   "metadata": {},
   "outputs": [],
   "source": [
    "import tweepy\n",
    "import pandas as pd\n",
    "\n",
    "\n",
    "CONSUMER_KEY = '0R42gxh35fuYdmGP93KhtYHPx'\n",
    "CONSUMER_SECRET = 'n6JHuWVmKaAGZidwfRueqOj1HhZNCDvvyeJD9ukEnLRJGTnW2W'\n",
    "\n",
    "auth = tweepy.AppAuthHandler(CONSUMER_KEY, CONSUMER_SECRET)\n",
    "api = tweepy.API(auth, wait_on_rate_limit=True, wait_on_rate_limit_notify=True)\n",
    "\n"
   ]
  },
  {
   "cell_type": "code",
   "execution_count": 22,
   "metadata": {},
   "outputs": [],
   "source": [
    "# This was our original way we made a request for data from the API\n",
    "\n",
    "old_approach = api.search(q='brexit',tweet_mode='extended',result_type='mixed', count=100)"
   ]
  },
  {
   "cell_type": "code",
   "execution_count": 23,
   "metadata": {},
   "outputs": [],
   "source": [
    "# Using the cursor is similar to our original single_response method.\n",
    "# we first create our custom cursor, providing it the api method we want to use,\n",
    "# and any of the arguments we want to be used by that method.\n",
    "\n",
    "\n",
    "\n",
    "our_cursor = tweepy.Cursor(api.search, q='brexit', tweet_mode='extended',result_type='mixed', count=100)"
   ]
  },
  {
   "cell_type": "markdown",
   "metadata": {},
   "source": [
    "## Cursors\n",
    "Cursor objects don't DO anything alone. They are almost like a set of instructions, but the instructions aren't being acted out until we do two things....\n",
    "1. Specify whether we want our results as `items` or `pages`.\n",
    "2. Iterate over the cursor\n",
    "\n",
    "#### 1. Items / Pages\n",
    "\n",
    "Cursors can return either a list of individual result items, or result pages depending on what is best. \n",
    "- Pages returns you a stream of response objects, each containing the maximum number of tweets per request.\n",
    "- Items returns you a stream of tweets, essentially joining together the results of the responses.\n",
    "\n",
    "We set whether we are using pages or items using a method attached to the cursor. The number we pass to the cursor defines the limit, of either pages or items. These arguments would return the same number of tweets, presuming we set our count to 100.\n",
    "\n",
    "`our_cursor.pages(2)`\n",
    "\n",
    "`our_cursor.items(200)`\n",
    "\n",
    "#### 2. Iterating over the Cursor\n",
    "\n",
    "For our purposes asking for the `.items()` is sufficient, now we need to iterate over it."
   ]
  },
  {
   "cell_type": "code",
   "execution_count": 24,
   "metadata": {},
   "outputs": [
    {
     "name": "stdout",
     "output_type": "stream",
     "text": [
      "200\n"
     ]
    }
   ],
   "source": [
    "# The most explicit way - using a for loop\n",
    "\n",
    "item_results = []\n",
    "for status in our_cursor.items(200):\n",
    "    item_results.append(status)\n",
    "print(len(item_results))"
   ]
  },
  {
   "cell_type": "markdown",
   "metadata": {},
   "source": [
    "# 3. Managing Tweet Data\n",
    "- It's all well and good having this data and printing out pieces of it, but how do we...\n",
    "- Structure it...\n",
    "- Store it...\n",
    "- and Explore it?"
   ]
  },
  {
   "cell_type": "code",
   "execution_count": 25,
   "metadata": {},
   "outputs": [],
   "source": [
    "# First lets get a fresh set of results with a new cursor. Limit to 500 items.\n",
    "\n",
    "results = []\n",
    "our_cursor = tweepy.Cursor(api.search, q='brexit', count=100, tweet_mode='extended')\n",
    "\n",
    "for item in our_cursor.items(500):\n",
    "    results.append(item)"
   ]
  },
  {
   "cell_type": "markdown",
   "metadata": {},
   "source": [
    "Ideally we'd like this data now in a Pandas DataFrame so we can work with it. Let's just try and put it in and see what happens..."
   ]
  },
  {
   "cell_type": "code",
   "execution_count": 26,
   "metadata": {},
   "outputs": [
    {
     "data": {
      "text/html": [
       "<div>\n",
       "<style scoped>\n",
       "    .dataframe tbody tr th:only-of-type {\n",
       "        vertical-align: middle;\n",
       "    }\n",
       "\n",
       "    .dataframe tbody tr th {\n",
       "        vertical-align: top;\n",
       "    }\n",
       "\n",
       "    .dataframe thead th {\n",
       "        text-align: right;\n",
       "    }\n",
       "</style>\n",
       "<table border=\"1\" class=\"dataframe\">\n",
       "  <thead>\n",
       "    <tr style=\"text-align: right;\">\n",
       "      <th></th>\n",
       "      <th>0</th>\n",
       "    </tr>\n",
       "  </thead>\n",
       "  <tbody>\n",
       "    <tr>\n",
       "      <th>0</th>\n",
       "      <td>Status(_api=&lt;tweepy.api.API object at 0x7fdef2...</td>\n",
       "    </tr>\n",
       "    <tr>\n",
       "      <th>1</th>\n",
       "      <td>Status(_api=&lt;tweepy.api.API object at 0x7fdef2...</td>\n",
       "    </tr>\n",
       "    <tr>\n",
       "      <th>2</th>\n",
       "      <td>Status(_api=&lt;tweepy.api.API object at 0x7fdef2...</td>\n",
       "    </tr>\n",
       "    <tr>\n",
       "      <th>3</th>\n",
       "      <td>Status(_api=&lt;tweepy.api.API object at 0x7fdef2...</td>\n",
       "    </tr>\n",
       "    <tr>\n",
       "      <th>4</th>\n",
       "      <td>Status(_api=&lt;tweepy.api.API object at 0x7fdef2...</td>\n",
       "    </tr>\n",
       "    <tr>\n",
       "      <th>...</th>\n",
       "      <td>...</td>\n",
       "    </tr>\n",
       "    <tr>\n",
       "      <th>495</th>\n",
       "      <td>Status(_api=&lt;tweepy.api.API object at 0x7fdef2...</td>\n",
       "    </tr>\n",
       "    <tr>\n",
       "      <th>496</th>\n",
       "      <td>Status(_api=&lt;tweepy.api.API object at 0x7fdef2...</td>\n",
       "    </tr>\n",
       "    <tr>\n",
       "      <th>497</th>\n",
       "      <td>Status(_api=&lt;tweepy.api.API object at 0x7fdef2...</td>\n",
       "    </tr>\n",
       "    <tr>\n",
       "      <th>498</th>\n",
       "      <td>Status(_api=&lt;tweepy.api.API object at 0x7fdef2...</td>\n",
       "    </tr>\n",
       "    <tr>\n",
       "      <th>499</th>\n",
       "      <td>Status(_api=&lt;tweepy.api.API object at 0x7fdef2...</td>\n",
       "    </tr>\n",
       "  </tbody>\n",
       "</table>\n",
       "<p>500 rows × 1 columns</p>\n",
       "</div>"
      ],
      "text/plain": [
       "                                                     0\n",
       "0    Status(_api=<tweepy.api.API object at 0x7fdef2...\n",
       "1    Status(_api=<tweepy.api.API object at 0x7fdef2...\n",
       "2    Status(_api=<tweepy.api.API object at 0x7fdef2...\n",
       "3    Status(_api=<tweepy.api.API object at 0x7fdef2...\n",
       "4    Status(_api=<tweepy.api.API object at 0x7fdef2...\n",
       "..                                                 ...\n",
       "495  Status(_api=<tweepy.api.API object at 0x7fdef2...\n",
       "496  Status(_api=<tweepy.api.API object at 0x7fdef2...\n",
       "497  Status(_api=<tweepy.api.API object at 0x7fdef2...\n",
       "498  Status(_api=<tweepy.api.API object at 0x7fdef2...\n",
       "499  Status(_api=<tweepy.api.API object at 0x7fdef2...\n",
       "\n",
       "[500 rows x 1 columns]"
      ]
     },
     "execution_count": 26,
     "metadata": {},
     "output_type": "execute_result"
    }
   ],
   "source": [
    "df = pd.DataFrame(results)\n",
    "df"
   ]
  },
  {
   "cell_type": "markdown",
   "metadata": {},
   "source": [
    "Ok....partial success.\n",
    "Pandas doesn't understand these `Status` objects we're trying to load into it. \n",
    "Whilst often people will load data into Pandas using .csv files, Pandas can create dataframes from python data structures such as lists and dictionaries."
   ]
  },
  {
   "cell_type": "code",
   "execution_count": 27,
   "metadata": {},
   "outputs": [
    {
     "data": {
      "text/html": [
       "<div>\n",
       "<style scoped>\n",
       "    .dataframe tbody tr th:only-of-type {\n",
       "        vertical-align: middle;\n",
       "    }\n",
       "\n",
       "    .dataframe tbody tr th {\n",
       "        vertical-align: top;\n",
       "    }\n",
       "\n",
       "    .dataframe thead th {\n",
       "        text-align: right;\n",
       "    }\n",
       "</style>\n",
       "<table border=\"1\" class=\"dataframe\">\n",
       "  <thead>\n",
       "    <tr style=\"text-align: right;\">\n",
       "      <th></th>\n",
       "      <th>name</th>\n",
       "      <th>age</th>\n",
       "    </tr>\n",
       "  </thead>\n",
       "  <tbody>\n",
       "    <tr>\n",
       "      <th>0</th>\n",
       "      <td>Fred</td>\n",
       "      <td>30</td>\n",
       "    </tr>\n",
       "    <tr>\n",
       "      <th>1</th>\n",
       "      <td>Wilma</td>\n",
       "      <td>27</td>\n",
       "    </tr>\n",
       "    <tr>\n",
       "      <th>2</th>\n",
       "      <td>Barney</td>\n",
       "      <td>32</td>\n",
       "    </tr>\n",
       "    <tr>\n",
       "      <th>3</th>\n",
       "      <td>Betty</td>\n",
       "      <td>26</td>\n",
       "    </tr>\n",
       "  </tbody>\n",
       "</table>\n",
       "</div>"
      ],
      "text/plain": [
       "     name  age\n",
       "0    Fred   30\n",
       "1   Wilma   27\n",
       "2  Barney   32\n",
       "3   Betty   26"
      ]
     },
     "execution_count": 27,
     "metadata": {},
     "output_type": "execute_result"
    }
   ],
   "source": [
    "flintstones_data = [ {'name':'Fred', 'age':30}, {'name':'Wilma', 'age':27}, {'name':'Barney', 'age':32}, {'name':'Betty', 'age':26}  ]\n",
    "\n",
    "toy_df = pd.DataFrame(flintstones_data)\n",
    "toy_df"
   ]
  },
  {
   "cell_type": "markdown",
   "metadata": {},
   "source": [
    "So we need to somehow convert all of our `status` objects into some sort of Python data structure like our Flintstones data....\n",
    "\n",
    "#### Luckily for us....\n",
    "The `._json` method attached to each `Status` turns the object into a dictionary."
   ]
  },
  {
   "cell_type": "code",
   "execution_count": 28,
   "metadata": {},
   "outputs": [
    {
     "name": "stdout",
     "output_type": "stream",
     "text": [
      "<class 'dict'>\n"
     ]
    },
    {
     "data": {
      "text/plain": [
       "{'created_at': 'Mon Nov 23 13:32:48 +0000 2020',\n",
       " 'id': 1330866892983181313,\n",
       " 'id_str': '1330866892983181313',\n",
       " 'full_text': 'Bit of a pain having Covid restrictions this festive season, but remember - Brexit is for life, not just for Christmas.',\n",
       " 'truncated': False,\n",
       " 'display_text_range': [0, 119],\n",
       " 'entities': {'hashtags': [], 'symbols': [], 'user_mentions': [], 'urls': []},\n",
       " 'metadata': {'iso_language_code': 'en', 'result_type': 'recent'},\n",
       " 'source': '<a href=\"https://mobile.twitter.com\" rel=\"nofollow\">Twitter Web App</a>',\n",
       " 'in_reply_to_status_id': None,\n",
       " 'in_reply_to_status_id_str': None,\n",
       " 'in_reply_to_user_id': None,\n",
       " 'in_reply_to_user_id_str': None,\n",
       " 'in_reply_to_screen_name': None,\n",
       " 'user': {'id': 4047208852,\n",
       "  'id_str': '4047208852',\n",
       "  'name': 'SpersJR',\n",
       "  'screen_name': 'Frantically2',\n",
       "  'location': '',\n",
       "  'description': \"The only thing we have to fear is fear itself. That's what scares me.\",\n",
       "  'url': None,\n",
       "  'entities': {'description': {'urls': []}},\n",
       "  'protected': False,\n",
       "  'followers_count': 127,\n",
       "  'friends_count': 372,\n",
       "  'listed_count': 1,\n",
       "  'created_at': 'Mon Oct 26 15:51:08 +0000 2015',\n",
       "  'favourites_count': 77835,\n",
       "  'utc_offset': None,\n",
       "  'time_zone': None,\n",
       "  'geo_enabled': False,\n",
       "  'verified': False,\n",
       "  'statuses_count': 6558,\n",
       "  'lang': None,\n",
       "  'contributors_enabled': False,\n",
       "  'is_translator': False,\n",
       "  'is_translation_enabled': False,\n",
       "  'profile_background_color': 'C0DEED',\n",
       "  'profile_background_image_url': 'http://abs.twimg.com/images/themes/theme1/bg.png',\n",
       "  'profile_background_image_url_https': 'https://abs.twimg.com/images/themes/theme1/bg.png',\n",
       "  'profile_background_tile': False,\n",
       "  'profile_image_url': 'http://pbs.twimg.com/profile_images/978370687025995776/qAyq9bds_normal.jpg',\n",
       "  'profile_image_url_https': 'https://pbs.twimg.com/profile_images/978370687025995776/qAyq9bds_normal.jpg',\n",
       "  'profile_link_color': '1DA1F2',\n",
       "  'profile_sidebar_border_color': 'C0DEED',\n",
       "  'profile_sidebar_fill_color': 'DDEEF6',\n",
       "  'profile_text_color': '333333',\n",
       "  'profile_use_background_image': True,\n",
       "  'has_extended_profile': False,\n",
       "  'default_profile': True,\n",
       "  'default_profile_image': False,\n",
       "  'following': None,\n",
       "  'follow_request_sent': None,\n",
       "  'notifications': None,\n",
       "  'translator_type': 'none'},\n",
       " 'geo': None,\n",
       " 'coordinates': None,\n",
       " 'place': None,\n",
       " 'contributors': None,\n",
       " 'is_quote_status': False,\n",
       " 'retweet_count': 0,\n",
       " 'favorite_count': 0,\n",
       " 'favorited': False,\n",
       " 'retweeted': False,\n",
       " 'lang': 'en'}"
      ]
     },
     "execution_count": 28,
     "metadata": {},
     "output_type": "execute_result"
    }
   ],
   "source": [
    "single_tweet = results[0]\n",
    "print(type(single_tweet._json))\n",
    "single_tweet._json"
   ]
  },
  {
   "cell_type": "code",
   "execution_count": 29,
   "metadata": {},
   "outputs": [],
   "source": [
    "# Lets first create a new list of the transformed Status objects\n",
    "\n",
    "json_results = []\n",
    "\n",
    "for tweet in results:\n",
    "    json_results.append(tweet._json)\n",
    "    "
   ]
  },
  {
   "cell_type": "code",
   "execution_count": 30,
   "metadata": {},
   "outputs": [
    {
     "data": {
      "text/html": [
       "<div>\n",
       "<style scoped>\n",
       "    .dataframe tbody tr th:only-of-type {\n",
       "        vertical-align: middle;\n",
       "    }\n",
       "\n",
       "    .dataframe tbody tr th {\n",
       "        vertical-align: top;\n",
       "    }\n",
       "\n",
       "    .dataframe thead th {\n",
       "        text-align: right;\n",
       "    }\n",
       "</style>\n",
       "<table border=\"1\" class=\"dataframe\">\n",
       "  <thead>\n",
       "    <tr style=\"text-align: right;\">\n",
       "      <th></th>\n",
       "      <th>created_at</th>\n",
       "      <th>id</th>\n",
       "      <th>id_str</th>\n",
       "      <th>full_text</th>\n",
       "      <th>truncated</th>\n",
       "      <th>display_text_range</th>\n",
       "      <th>entities</th>\n",
       "      <th>metadata</th>\n",
       "      <th>source</th>\n",
       "      <th>in_reply_to_status_id</th>\n",
       "      <th>...</th>\n",
       "      <th>favorite_count</th>\n",
       "      <th>favorited</th>\n",
       "      <th>retweeted</th>\n",
       "      <th>lang</th>\n",
       "      <th>retweeted_status</th>\n",
       "      <th>quoted_status_id</th>\n",
       "      <th>quoted_status_id_str</th>\n",
       "      <th>possibly_sensitive</th>\n",
       "      <th>quoted_status</th>\n",
       "      <th>extended_entities</th>\n",
       "    </tr>\n",
       "  </thead>\n",
       "  <tbody>\n",
       "    <tr>\n",
       "      <th>0</th>\n",
       "      <td>Mon Nov 23 13:32:48 +0000 2020</td>\n",
       "      <td>1330866892983181313</td>\n",
       "      <td>1330866892983181313</td>\n",
       "      <td>Bit of a pain having Covid restrictions this f...</td>\n",
       "      <td>False</td>\n",
       "      <td>[0, 119]</td>\n",
       "      <td>{'hashtags': [], 'symbols': [], 'user_mentions...</td>\n",
       "      <td>{'iso_language_code': 'en', 'result_type': 're...</td>\n",
       "      <td>&lt;a href=\"https://mobile.twitter.com\" rel=\"nofo...</td>\n",
       "      <td>NaN</td>\n",
       "      <td>...</td>\n",
       "      <td>0</td>\n",
       "      <td>False</td>\n",
       "      <td>False</td>\n",
       "      <td>en</td>\n",
       "      <td>NaN</td>\n",
       "      <td>NaN</td>\n",
       "      <td>NaN</td>\n",
       "      <td>NaN</td>\n",
       "      <td>NaN</td>\n",
       "      <td>NaN</td>\n",
       "    </tr>\n",
       "    <tr>\n",
       "      <th>1</th>\n",
       "      <td>Mon Nov 23 13:32:48 +0000 2020</td>\n",
       "      <td>1330866892614086657</td>\n",
       "      <td>1330866892614086657</td>\n",
       "      <td>RT @JamesGr49498338: @LeftieCatLady No, this i...</td>\n",
       "      <td>False</td>\n",
       "      <td>[0, 140]</td>\n",
       "      <td>{'hashtags': [], 'symbols': [], 'user_mentions...</td>\n",
       "      <td>{'iso_language_code': 'en', 'result_type': 're...</td>\n",
       "      <td>&lt;a href=\"http://twitter.com/download/iphone\" r...</td>\n",
       "      <td>NaN</td>\n",
       "      <td>...</td>\n",
       "      <td>0</td>\n",
       "      <td>False</td>\n",
       "      <td>False</td>\n",
       "      <td>en</td>\n",
       "      <td>{'created_at': 'Mon Nov 23 08:46:51 +0000 2020...</td>\n",
       "      <td>NaN</td>\n",
       "      <td>NaN</td>\n",
       "      <td>NaN</td>\n",
       "      <td>NaN</td>\n",
       "      <td>NaN</td>\n",
       "    </tr>\n",
       "    <tr>\n",
       "      <th>2</th>\n",
       "      <td>Mon Nov 23 13:32:47 +0000 2020</td>\n",
       "      <td>1330866891502522370</td>\n",
       "      <td>1330866891502522370</td>\n",
       "      <td>RT @carolJhedges: 🇪🇺😠The new Home Office regul...</td>\n",
       "      <td>False</td>\n",
       "      <td>[0, 140]</td>\n",
       "      <td>{'hashtags': [], 'symbols': [], 'user_mentions...</td>\n",
       "      <td>{'iso_language_code': 'en', 'result_type': 're...</td>\n",
       "      <td>&lt;a href=\"http://twitter.com/download/iphone\" r...</td>\n",
       "      <td>NaN</td>\n",
       "      <td>...</td>\n",
       "      <td>0</td>\n",
       "      <td>False</td>\n",
       "      <td>False</td>\n",
       "      <td>en</td>\n",
       "      <td>{'created_at': 'Mon Nov 23 13:22:08 +0000 2020...</td>\n",
       "      <td>NaN</td>\n",
       "      <td>NaN</td>\n",
       "      <td>NaN</td>\n",
       "      <td>NaN</td>\n",
       "      <td>NaN</td>\n",
       "    </tr>\n",
       "    <tr>\n",
       "      <th>3</th>\n",
       "      <td>Mon Nov 23 13:32:47 +0000 2020</td>\n",
       "      <td>1330866891154485251</td>\n",
       "      <td>1330866891154485251</td>\n",
       "      <td>RT @NvOndarza: Very interesting if this materi...</td>\n",
       "      <td>False</td>\n",
       "      <td>[0, 139]</td>\n",
       "      <td>{'hashtags': [{'text': 'Brexit', 'indices': [6...</td>\n",
       "      <td>{'iso_language_code': 'en', 'result_type': 're...</td>\n",
       "      <td>&lt;a href=\"https://mobile.twitter.com\" rel=\"nofo...</td>\n",
       "      <td>NaN</td>\n",
       "      <td>...</td>\n",
       "      <td>0</td>\n",
       "      <td>False</td>\n",
       "      <td>False</td>\n",
       "      <td>en</td>\n",
       "      <td>{'created_at': 'Mon Nov 23 11:04:06 +0000 2020...</td>\n",
       "      <td>1.330824e+18</td>\n",
       "      <td>1330823757829722112</td>\n",
       "      <td>NaN</td>\n",
       "      <td>NaN</td>\n",
       "      <td>NaN</td>\n",
       "    </tr>\n",
       "    <tr>\n",
       "      <th>4</th>\n",
       "      <td>Mon Nov 23 13:32:46 +0000 2020</td>\n",
       "      <td>1330866885345370113</td>\n",
       "      <td>1330866885345370113</td>\n",
       "      <td>RT @MilesKing10: Brain of Brexit Steve Baker. ...</td>\n",
       "      <td>False</td>\n",
       "      <td>[0, 140]</td>\n",
       "      <td>{'hashtags': [], 'symbols': [], 'user_mentions...</td>\n",
       "      <td>{'iso_language_code': 'en', 'result_type': 're...</td>\n",
       "      <td>&lt;a href=\"http://twitter.com/download/iphone\" r...</td>\n",
       "      <td>NaN</td>\n",
       "      <td>...</td>\n",
       "      <td>0</td>\n",
       "      <td>False</td>\n",
       "      <td>False</td>\n",
       "      <td>en</td>\n",
       "      <td>{'created_at': 'Mon Nov 23 09:01:05 +0000 2020...</td>\n",
       "      <td>NaN</td>\n",
       "      <td>NaN</td>\n",
       "      <td>NaN</td>\n",
       "      <td>NaN</td>\n",
       "      <td>NaN</td>\n",
       "    </tr>\n",
       "  </tbody>\n",
       "</table>\n",
       "<p>5 rows × 31 columns</p>\n",
       "</div>"
      ],
      "text/plain": [
       "                       created_at                   id               id_str  \\\n",
       "0  Mon Nov 23 13:32:48 +0000 2020  1330866892983181313  1330866892983181313   \n",
       "1  Mon Nov 23 13:32:48 +0000 2020  1330866892614086657  1330866892614086657   \n",
       "2  Mon Nov 23 13:32:47 +0000 2020  1330866891502522370  1330866891502522370   \n",
       "3  Mon Nov 23 13:32:47 +0000 2020  1330866891154485251  1330866891154485251   \n",
       "4  Mon Nov 23 13:32:46 +0000 2020  1330866885345370113  1330866885345370113   \n",
       "\n",
       "                                           full_text  truncated  \\\n",
       "0  Bit of a pain having Covid restrictions this f...      False   \n",
       "1  RT @JamesGr49498338: @LeftieCatLady No, this i...      False   \n",
       "2  RT @carolJhedges: 🇪🇺😠The new Home Office regul...      False   \n",
       "3  RT @NvOndarza: Very interesting if this materi...      False   \n",
       "4  RT @MilesKing10: Brain of Brexit Steve Baker. ...      False   \n",
       "\n",
       "  display_text_range                                           entities  \\\n",
       "0           [0, 119]  {'hashtags': [], 'symbols': [], 'user_mentions...   \n",
       "1           [0, 140]  {'hashtags': [], 'symbols': [], 'user_mentions...   \n",
       "2           [0, 140]  {'hashtags': [], 'symbols': [], 'user_mentions...   \n",
       "3           [0, 139]  {'hashtags': [{'text': 'Brexit', 'indices': [6...   \n",
       "4           [0, 140]  {'hashtags': [], 'symbols': [], 'user_mentions...   \n",
       "\n",
       "                                            metadata  \\\n",
       "0  {'iso_language_code': 'en', 'result_type': 're...   \n",
       "1  {'iso_language_code': 'en', 'result_type': 're...   \n",
       "2  {'iso_language_code': 'en', 'result_type': 're...   \n",
       "3  {'iso_language_code': 'en', 'result_type': 're...   \n",
       "4  {'iso_language_code': 'en', 'result_type': 're...   \n",
       "\n",
       "                                              source  in_reply_to_status_id  \\\n",
       "0  <a href=\"https://mobile.twitter.com\" rel=\"nofo...                    NaN   \n",
       "1  <a href=\"http://twitter.com/download/iphone\" r...                    NaN   \n",
       "2  <a href=\"http://twitter.com/download/iphone\" r...                    NaN   \n",
       "3  <a href=\"https://mobile.twitter.com\" rel=\"nofo...                    NaN   \n",
       "4  <a href=\"http://twitter.com/download/iphone\" r...                    NaN   \n",
       "\n",
       "   ... favorite_count  favorited retweeted lang  \\\n",
       "0  ...              0      False     False   en   \n",
       "1  ...              0      False     False   en   \n",
       "2  ...              0      False     False   en   \n",
       "3  ...              0      False     False   en   \n",
       "4  ...              0      False     False   en   \n",
       "\n",
       "                                    retweeted_status quoted_status_id  \\\n",
       "0                                                NaN              NaN   \n",
       "1  {'created_at': 'Mon Nov 23 08:46:51 +0000 2020...              NaN   \n",
       "2  {'created_at': 'Mon Nov 23 13:22:08 +0000 2020...              NaN   \n",
       "3  {'created_at': 'Mon Nov 23 11:04:06 +0000 2020...     1.330824e+18   \n",
       "4  {'created_at': 'Mon Nov 23 09:01:05 +0000 2020...              NaN   \n",
       "\n",
       "  quoted_status_id_str possibly_sensitive quoted_status  extended_entities  \n",
       "0                  NaN                NaN           NaN                NaN  \n",
       "1                  NaN                NaN           NaN                NaN  \n",
       "2                  NaN                NaN           NaN                NaN  \n",
       "3  1330823757829722112                NaN           NaN                NaN  \n",
       "4                  NaN                NaN           NaN                NaN  \n",
       "\n",
       "[5 rows x 31 columns]"
      ]
     },
     "execution_count": 30,
     "metadata": {},
     "output_type": "execute_result"
    }
   ],
   "source": [
    "# Now try...\n",
    "\n",
    "df = pd.DataFrame(json_results)\n",
    "df.head()"
   ]
  },
  {
   "cell_type": "markdown",
   "metadata": {},
   "source": [
    "If we check, we can see that the columns in the DataFrame, match the names of the attributes in our status objects, meaning each column represents that attribute, and each row represents a single Tweet/Status"
   ]
  },
  {
   "cell_type": "code",
   "execution_count": 31,
   "metadata": {},
   "outputs": [
    {
     "data": {
      "text/plain": [
       "dict_keys(['created_at', 'id', 'id_str', 'full_text', 'truncated', 'display_text_range', 'entities', 'metadata', 'source', 'in_reply_to_status_id', 'in_reply_to_status_id_str', 'in_reply_to_user_id', 'in_reply_to_user_id_str', 'in_reply_to_screen_name', 'user', 'geo', 'coordinates', 'place', 'contributors', 'is_quote_status', 'retweet_count', 'favorite_count', 'favorited', 'retweeted', 'lang'])"
      ]
     },
     "execution_count": 31,
     "metadata": {},
     "output_type": "execute_result"
    }
   ],
   "source": [
    "results[0]._json.keys()"
   ]
  },
  {
   "cell_type": "code",
   "execution_count": 32,
   "metadata": {},
   "outputs": [
    {
     "name": "stdout",
     "output_type": "stream",
     "text": [
      "<class 'pandas.core.frame.DataFrame'>\n",
      "RangeIndex: 500 entries, 0 to 499\n",
      "Data columns (total 31 columns):\n",
      " #   Column                     Non-Null Count  Dtype  \n",
      "---  ------                     --------------  -----  \n",
      " 0   created_at                 500 non-null    object \n",
      " 1   id                         500 non-null    int64  \n",
      " 2   id_str                     500 non-null    object \n",
      " 3   full_text                  500 non-null    object \n",
      " 4   truncated                  500 non-null    bool   \n",
      " 5   display_text_range         500 non-null    object \n",
      " 6   entities                   500 non-null    object \n",
      " 7   metadata                   500 non-null    object \n",
      " 8   source                     500 non-null    object \n",
      " 9   in_reply_to_status_id      97 non-null     float64\n",
      " 10  in_reply_to_status_id_str  97 non-null     object \n",
      " 11  in_reply_to_user_id        103 non-null    float64\n",
      " 12  in_reply_to_user_id_str    103 non-null    object \n",
      " 13  in_reply_to_screen_name    103 non-null    object \n",
      " 14  user                       500 non-null    object \n",
      " 15  geo                        0 non-null      object \n",
      " 16  coordinates                0 non-null      object \n",
      " 17  place                      4 non-null      object \n",
      " 18  contributors               0 non-null      object \n",
      " 19  is_quote_status            500 non-null    bool   \n",
      " 20  retweet_count              500 non-null    int64  \n",
      " 21  favorite_count             500 non-null    int64  \n",
      " 22  favorited                  500 non-null    bool   \n",
      " 23  retweeted                  500 non-null    bool   \n",
      " 24  lang                       500 non-null    object \n",
      " 25  retweeted_status           317 non-null    object \n",
      " 26  quoted_status_id           70 non-null     float64\n",
      " 27  quoted_status_id_str       70 non-null     object \n",
      " 28  possibly_sensitive         135 non-null    object \n",
      " 29  quoted_status              24 non-null     object \n",
      " 30  extended_entities          35 non-null     object \n",
      "dtypes: bool(4), float64(3), int64(3), object(21)\n",
      "memory usage: 107.5+ KB\n"
     ]
    }
   ],
   "source": [
    "df.info()"
   ]
  },
  {
   "cell_type": "markdown",
   "metadata": {},
   "source": [
    "# 4. Saving Tweet Data\n",
    "\n",
    "We can finally save our data to disk if we like. In this case we're going to save to something called a `pickle` file. Why?"
   ]
  },
  {
   "cell_type": "code",
   "execution_count": 33,
   "metadata": {},
   "outputs": [
    {
     "data": {
      "text/plain": [
       "0      {'hashtags': [], 'symbols': [], 'user_mentions...\n",
       "1      {'hashtags': [], 'symbols': [], 'user_mentions...\n",
       "2      {'hashtags': [], 'symbols': [], 'user_mentions...\n",
       "3      {'hashtags': [{'text': 'Brexit', 'indices': [6...\n",
       "4      {'hashtags': [], 'symbols': [], 'user_mentions...\n",
       "                             ...                        \n",
       "495    {'hashtags': [], 'symbols': [], 'user_mentions...\n",
       "496    {'hashtags': [], 'symbols': [], 'user_mentions...\n",
       "497    {'hashtags': [{'text': 'SteveBaker', 'indices'...\n",
       "498    {'hashtags': [], 'symbols': [], 'user_mentions...\n",
       "499    {'hashtags': [], 'symbols': [], 'user_mentions...\n",
       "Name: entities, Length: 500, dtype: object"
      ]
     },
     "execution_count": 33,
     "metadata": {},
     "output_type": "execute_result"
    }
   ],
   "source": [
    "# If we examine one of our columns...\n",
    "\n",
    "df.entities"
   ]
  },
  {
   "cell_type": "markdown",
   "metadata": {},
   "source": [
    "The values in the entities columns aren't strings, they're dictionaries..."
   ]
  },
  {
   "cell_type": "code",
   "execution_count": 34,
   "metadata": {},
   "outputs": [
    {
     "data": {
      "text/plain": [
       "{'hashtags': [], 'symbols': [], 'user_mentions': [], 'urls': []}"
      ]
     },
     "execution_count": 34,
     "metadata": {},
     "output_type": "execute_result"
    }
   ],
   "source": [
    "# Here is the first row's value in the 'entities' column\n",
    "df.loc[0, 'entities']"
   ]
  },
  {
   "cell_type": "code",
   "execution_count": 35,
   "metadata": {},
   "outputs": [
    {
     "data": {
      "text/plain": [
       "dict"
      ]
     },
     "execution_count": 35,
     "metadata": {},
     "output_type": "execute_result"
    }
   ],
   "source": [
    "# The type of the value is dict - dictionary.\n",
    "type(df.loc[0, 'entities'])"
   ]
  },
  {
   "cell_type": "code",
   "execution_count": 36,
   "metadata": {},
   "outputs": [
    {
     "data": {
      "text/plain": [
       "[]"
      ]
     },
     "execution_count": 36,
     "metadata": {},
     "output_type": "execute_result"
    }
   ],
   "source": [
    "# and parts of it can be accessed like a dictionary\n",
    "df.loc[0, 'entities']['user_mentions']"
   ]
  },
  {
   "cell_type": "markdown",
   "metadata": {},
   "source": [
    "<img src=\"https://github.com/Minyall/sc207_materials/blob/master/images/pickle.jpg?raw=true\" align=\"right\" height=\"200\">\n",
    "If we were to save this DataFrame as a .csv file, it would have to turn those dictionaries into strings, because .csv's don't understand Python objects. When we reloaded the data from a CSV our entities column would be a column of weird messy strings.\n",
    "\n",
    "### How do we solve this?\n",
    "\n",
    "# PICKLES!\n",
    "- A pickle file is a saved version of a python object. So long as it is saved and loaded with the same version of Pandas, it will retain all the data exactly in the state it is in now.\n",
    "\n",
    "How do we complete this highly complex procedure?...."
   ]
  },
  {
   "cell_type": "code",
   "execution_count": 37,
   "metadata": {},
   "outputs": [],
   "source": [
    "# Pickle it!\n",
    "df.to_pickle('my_tweet_df.pkl')"
   ]
  },
  {
   "cell_type": "markdown",
   "metadata": {},
   "source": [
    "# Extending your Collection\n",
    "\n",
    "If you want to gather data across a longer period, such as sampling across a week, you may want to pull from the Twitter API once a day. How do we do this without duplicating our data, and how do we easily just add the new data to our dataset, rather than creating a new one each time?"
   ]
  },
  {
   "cell_type": "code",
   "execution_count": 38,
   "metadata": {},
   "outputs": [
    {
     "name": "stdout",
     "output_type": "stream",
     "text": [
      "1000\n"
     ]
    }
   ],
   "source": [
    "import os\n",
    "\n",
    "my_data_filename = 'twitter_data.pkl'\n",
    "query = 'brexit'\n",
    "n_items = 1000\n",
    "\n",
    "\n",
    "# First load in your data if you have it, otherwise create a new DataFrame\n",
    "\n",
    "if os.path.exists(my_data_filename):\n",
    "    df = pd.read_pickle(my_data_filename)\n",
    "    \n",
    "    # if there is data check to find the largest id in your dataset, this will be the most recent\n",
    "    max_id = df['id'].max()\n",
    "else:\n",
    "    df = pd.DataFrame()\n",
    "    # set max_id to None because on the first run we don't need to provide an id to limit results\n",
    "    max_id = None\n",
    "    \n",
    "# Pull results from the Twitter API\n",
    "\n",
    "results = []\n",
    "our_cursor = tweepy.Cursor(api.search, q=query, count=100, tweet_mode='extended', since_id=max_id)\n",
    "\n",
    "for item in our_cursor.items(n_items):\n",
    "    results.append(item._json)\n",
    "\n",
    "# Load this batch of data into a DataFrame\n",
    "    \n",
    "current_data = pd.DataFrame(results)\n",
    "\n",
    "# Append the new data onto the end of the loaded data (or the empty dataframe if this is the first run)\n",
    "df = df.append(current_data)\n",
    "\n",
    "# Check the dataset for any duplicates by dropping any rows with duplicate ids\n",
    "df = df.drop_duplicates('id')\n",
    "\n",
    "# Save back to disk\n",
    "df.to_pickle(my_data_filename)\n",
    "\n",
    "print(len(df))"
   ]
  },
  {
   "cell_type": "code",
   "execution_count": null,
   "metadata": {},
   "outputs": [],
   "source": []
  }
 ],
 "metadata": {
  "kernelspec": {
   "display_name": "Python [conda env:teaching]",
   "language": "python",
   "name": "conda-env-teaching-py"
  },
  "language_info": {
   "codemirror_mode": {
    "name": "ipython",
    "version": 3
   },
   "file_extension": ".py",
   "mimetype": "text/x-python",
   "name": "python",
   "nbconvert_exporter": "python",
   "pygments_lexer": "ipython3",
   "version": "3.7.8"
  }
 },
 "nbformat": 4,
 "nbformat_minor": 4
}
