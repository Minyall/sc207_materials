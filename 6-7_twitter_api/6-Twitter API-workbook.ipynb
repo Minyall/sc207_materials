{
 "cells": [
  {
   "cell_type": "markdown",
   "metadata": {},
   "source": [
    "# SC207 - Session 6\n",
    "# APIs - Gathering Twitter Data\n",
    "<img src=\"https://github.com/Minyall/sc207_materials/blob/master/images/tweepy.jpg?raw=true\" align=\"right\" width=\"300\">\n",
    "\n",
    "\n",
    "- API = Application Programming Interface\n",
    "- A Standardised way to retrieve data from platforms.\n",
    "- Many platforms have an API and they all work relatively similarly\n",
    "- Today we will use the package `tweepy` to retrieve data from the Twitter API\n",
    "\n",
    "[Tweepy Documentation](http://docs.tweepy.org/en/stable/)"
   ]
  },
  {
   "cell_type": "code",
   "execution_count": null,
   "metadata": {},
   "outputs": [],
   "source": [
    "pip install tweepy"
   ]
  },
  {
   "cell_type": "markdown",
   "metadata": {},
   "source": [
    "### Imports\n",
    "\n",
    "Today we will be using Tweepy and Pandas to retrieve, store and explore data."
   ]
  },
  {
   "cell_type": "code",
   "execution_count": 27,
   "metadata": {},
   "outputs": [],
   "source": [
    "# IMPORTS HERE\n",
    "import tweepy\n",
    "import pandas as pd\n",
    "\n",
    "# This function is here just to make the class go smoothly!\n",
    "def find_first_retweet(list_of_tweets):\n",
    "    for tweet in list_of_tweets:\n",
    "        if 'retweeted_status' in tweet._json:\n",
    "            return tweet\n",
    "        \n",
    "def find_first_regular_tweet(list_of_tweets):\n",
    "    for tweet in list_of_tweets:\n",
    "        if 'retweeted_status' not in tweet._json:\n",
    "            return tweet"
   ]
  },
  {
   "cell_type": "markdown",
   "metadata": {},
   "source": [
    "# 1. Authorising and Connecting the API\n",
    "`Tweepy` makes this process incredibly streamlined into essentially three simple stages.\n",
    "\n",
    "### a) Identify your Access Tokens\n",
    "APIs require authorisation tokens to identify who is using the API and to manage API usage by a single account holder.\n",
    "- Go to https://developer.twitter.com\n",
    "- Sign in with your Twitter account details\n",
    "- You may have to navigate back to the Twitter developer page if you get redirected to normal Twitter.\n",
    "- Once signed in use the drop down menu at the top right and select 'Apps'\n",
    "- Create a new app (follow along in class with the details)\n",
    "- Once created, go to the keys and tokens tab\n",
    "- Copy and paste your Consumer Key and your Consumer secret into the variables below.\n"
   ]
  },
  {
   "cell_type": "code",
   "execution_count": 4,
   "metadata": {},
   "outputs": [],
   "source": [
    "CONSUMER_KEY = '6pxpKSMRxmNkpJeazzAbYtGA1'\n",
    "CONSUMER_SECRET = '4vWM3hmOMLqRCfHkWV4BGaGEellwDhzT4DnUe6iRBOMFe6rPGC'"
   ]
  },
  {
   "cell_type": "markdown",
   "metadata": {},
   "source": [
    "### b) Create an Authorisation Object\n",
    "We create a special authorisation handler to store our keys."
   ]
  },
  {
   "cell_type": "code",
   "execution_count": 5,
   "metadata": {},
   "outputs": [],
   "source": [
    "auth = tweepy.AppAuthHandler(CONSUMER_KEY, CONSUMER_SECRET)"
   ]
  },
  {
   "cell_type": "markdown",
   "metadata": {},
   "source": [
    "### c) Connect the API\n",
    "We create a new `API` object and feed it our authorisation handler.\n",
    "\n",
    "We also set two additional arguments...\n",
    "- `wait_on_rate_limit` sets the API to wait if you have maxed out your number of queries, and then resume when the limit is lifted\n",
    "- `wait_on_rate_limit_notify` ensures Tweepy informs you of the wait occuring."
   ]
  },
  {
   "cell_type": "code",
   "execution_count": 6,
   "metadata": {},
   "outputs": [],
   "source": [
    "api = tweepy.API(auth, wait_on_rate_limit=True, wait_on_rate_limit_notify=True)"
   ]
  },
  {
   "cell_type": "markdown",
   "metadata": {},
   "source": [
    "# 2. Gathering Data - Search\n",
    "Search is one of the simpler ways you can interact with the API.\n",
    "- Search returns a list of tweet objects matching your query\n",
    "- Every request returns up to 100 tweets\n",
    "- You can make 450 requests in a 15 minute window.\n",
    "- A maximum of 45,000 tweets every 15 minutes.\n",
    "- Each request counts against your quota, no matter how many Tweets it returns.\n",
    "\n",
    "### What you recieve\n",
    "It is important to be clear what Twitter is providing you when you ask for data.\n",
    ">The Twitter's standard search API (search/tweets) allows simple queries against the indices of recent or popular Tweets and behaves similarly to, but not exactly like the Search UI feature available in Twitter mobile or web clients. The Twitter Search API searches against a sampling of recent Tweets published in the past 7 days. Before digging in, it’s important to know that the standard search API is focused on relevance and not completeness. This means that some Tweets and users may be missing from search results.\n",
    "[Twitter API Documentation: Standard Search](https://developer.twitter.com/en/docs/tweets/search/overview/standard)\n",
    "\n",
    "- Already sampled based on 'relevance'.\n",
    "- Max. 7 days old.\n",
    "- NOT complete."
   ]
  },
  {
   "cell_type": "markdown",
   "metadata": {},
   "source": [
    "### Making a Single Request\n",
    "Lets make a single request for something that will have a lot of results.\n",
    "\n",
    "- Tweepy has a range of 'arguments' built in to the search function.\n",
    "- `q=` query: a string to search for. You can also use [operators](https://developer.twitter.com/en/docs/tweets/search/guides/standard-operators) to make complex queries.\n",
    "- `result_type=`: set this to either `mixed`, `recent` or `popular`. Note again that Twitter is to some extent pre-sampling for you.\n",
    "    - `popular` - prioritise popular tweets\n",
    "    - `recent`  - prioritise recent tweets\n",
    "    - `mixed` **DEFAULT** - include both popular and recent\n",
    "- `tweet_mode=` Set this to 'extended' to ensure you get the full text of a tweet, otherwise it will be cut off after 140 characters (Tweets can now be 280 characters). If your project doesn't care about tweet text then don't bother including the argument.\n",
    "- `count=` max tweets per request. Defaults to 15, can be set up to 100.\n",
    "- `since_id=` Each tweet has a unique ID. If you provide a tweet's ID number here, it will only return tweets posted AFTER that tweet was posted.\n",
    "- `max_id=` As above, but limits the API to returning tweets posted BEFORE the tweet provided.\n",
    "\n",
    "[You can view all the argument options in the Tweepy Documentation](http://docs.tweepy.org/en/latest/api.html#search-methods)"
   ]
  },
  {
   "cell_type": "code",
   "execution_count": 7,
   "metadata": {},
   "outputs": [],
   "source": [
    "single_response = api.search(q='brexit', tweet_mode='extended', result_type='mixed', count=100)"
   ]
  },
  {
   "cell_type": "code",
   "execution_count": 9,
   "metadata": {},
   "outputs": [
    {
     "data": {
      "text/plain": [
       "100"
      ]
     },
     "execution_count": 9,
     "metadata": {},
     "output_type": "execute_result"
    }
   ],
   "source": [
    "# lets check the number of results we got\n",
    "len(single_response)"
   ]
  },
  {
   "cell_type": "code",
   "execution_count": 10,
   "metadata": {
    "collapsed": true,
    "jupyter": {
     "outputs_hidden": true
    }
   },
   "outputs": [
    {
     "data": {
      "text/plain": [
       "Status(_api=<tweepy.api.API object at 0x7f8e3c65d990>, _json={'created_at': 'Sun Nov 15 17:36:02 +0000 2020', 'id': 1328029002221703170, 'id_str': '1328029002221703170', 'full_text': 'Boris wants a taxpayer funded Green New Deal that will please Queen Carrie and Zac Goldsmith.\\n\\nBut the voters who put him into power want a real Brexit, strict immigration controls and well paid jobs in industry. \\n\\nThe Prime Minister has lost the plot.', 'truncated': False, 'display_text_range': [0, 252], 'entities': {'hashtags': [], 'symbols': [], 'user_mentions': [], 'urls': []}, 'metadata': {'result_type': 'popular', 'iso_language_code': 'en'}, 'source': '<a href=\"http://twitter.com/download/iphone\" rel=\"nofollow\">Twitter for iPhone</a>', 'in_reply_to_status_id': None, 'in_reply_to_status_id_str': None, 'in_reply_to_user_id': None, 'in_reply_to_user_id_str': None, 'in_reply_to_screen_name': None, 'user': {'id': 19017675, 'id_str': '19017675', 'name': 'Nigel Farage', 'screen_name': 'Nigel_Farage', 'location': '', 'description': 'Leader of @BrexitParty_UK.', 'url': 'https://t.co/UpU9eEx2sm', 'entities': {'url': {'urls': [{'url': 'https://t.co/UpU9eEx2sm', 'expanded_url': 'http://thebrexitparty.org', 'display_url': 'thebrexitparty.org', 'indices': [0, 23]}]}, 'description': {'urls': []}}, 'protected': False, 'followers_count': 1658589, 'friends_count': 496, 'listed_count': 6233, 'created_at': 'Thu Jan 15 10:37:07 +0000 2009', 'favourites_count': 201, 'utc_offset': None, 'time_zone': None, 'geo_enabled': True, 'verified': True, 'statuses_count': 16238, 'lang': None, 'contributors_enabled': False, 'is_translator': False, 'is_translation_enabled': False, 'profile_background_color': '722889', 'profile_background_image_url': 'http://abs.twimg.com/images/themes/theme10/bg.gif', 'profile_background_image_url_https': 'https://abs.twimg.com/images/themes/theme10/bg.gif', 'profile_background_tile': True, 'profile_image_url': 'http://pbs.twimg.com/profile_images/1245317683698155520/qykOsfLt_normal.jpg', 'profile_image_url_https': 'https://pbs.twimg.com/profile_images/1245317683698155520/qykOsfLt_normal.jpg', 'profile_banner_url': 'https://pbs.twimg.com/profile_banners/19017675/1580949317', 'profile_link_color': '722889', 'profile_sidebar_border_color': 'FFFFFF', 'profile_sidebar_fill_color': '7AC3EE', 'profile_text_color': '3D1957', 'profile_use_background_image': True, 'has_extended_profile': False, 'default_profile': False, 'default_profile_image': False, 'following': None, 'follow_request_sent': None, 'notifications': None, 'translator_type': 'none'}, 'geo': None, 'coordinates': None, 'place': None, 'contributors': None, 'is_quote_status': False, 'retweet_count': 4456, 'favorite_count': 21521, 'favorited': False, 'retweeted': False, 'lang': 'en'}, created_at=datetime.datetime(2020, 11, 15, 17, 36, 2), id=1328029002221703170, id_str='1328029002221703170', full_text='Boris wants a taxpayer funded Green New Deal that will please Queen Carrie and Zac Goldsmith.\\n\\nBut the voters who put him into power want a real Brexit, strict immigration controls and well paid jobs in industry. \\n\\nThe Prime Minister has lost the plot.', truncated=False, display_text_range=[0, 252], entities={'hashtags': [], 'symbols': [], 'user_mentions': [], 'urls': []}, metadata={'result_type': 'popular', 'iso_language_code': 'en'}, source='Twitter for iPhone', source_url='http://twitter.com/download/iphone', in_reply_to_status_id=None, in_reply_to_status_id_str=None, in_reply_to_user_id=None, in_reply_to_user_id_str=None, in_reply_to_screen_name=None, author=User(_api=<tweepy.api.API object at 0x7f8e3c65d990>, _json={'id': 19017675, 'id_str': '19017675', 'name': 'Nigel Farage', 'screen_name': 'Nigel_Farage', 'location': '', 'description': 'Leader of @BrexitParty_UK.', 'url': 'https://t.co/UpU9eEx2sm', 'entities': {'url': {'urls': [{'url': 'https://t.co/UpU9eEx2sm', 'expanded_url': 'http://thebrexitparty.org', 'display_url': 'thebrexitparty.org', 'indices': [0, 23]}]}, 'description': {'urls': []}}, 'protected': False, 'followers_count': 1658589, 'friends_count': 496, 'listed_count': 6233, 'created_at': 'Thu Jan 15 10:37:07 +0000 2009', 'favourites_count': 201, 'utc_offset': None, 'time_zone': None, 'geo_enabled': True, 'verified': True, 'statuses_count': 16238, 'lang': None, 'contributors_enabled': False, 'is_translator': False, 'is_translation_enabled': False, 'profile_background_color': '722889', 'profile_background_image_url': 'http://abs.twimg.com/images/themes/theme10/bg.gif', 'profile_background_image_url_https': 'https://abs.twimg.com/images/themes/theme10/bg.gif', 'profile_background_tile': True, 'profile_image_url': 'http://pbs.twimg.com/profile_images/1245317683698155520/qykOsfLt_normal.jpg', 'profile_image_url_https': 'https://pbs.twimg.com/profile_images/1245317683698155520/qykOsfLt_normal.jpg', 'profile_banner_url': 'https://pbs.twimg.com/profile_banners/19017675/1580949317', 'profile_link_color': '722889', 'profile_sidebar_border_color': 'FFFFFF', 'profile_sidebar_fill_color': '7AC3EE', 'profile_text_color': '3D1957', 'profile_use_background_image': True, 'has_extended_profile': False, 'default_profile': False, 'default_profile_image': False, 'following': None, 'follow_request_sent': None, 'notifications': None, 'translator_type': 'none'}, id=19017675, id_str='19017675', name='Nigel Farage', screen_name='Nigel_Farage', location='', description='Leader of @BrexitParty_UK.', url='https://t.co/UpU9eEx2sm', entities={'url': {'urls': [{'url': 'https://t.co/UpU9eEx2sm', 'expanded_url': 'http://thebrexitparty.org', 'display_url': 'thebrexitparty.org', 'indices': [0, 23]}]}, 'description': {'urls': []}}, protected=False, followers_count=1658589, friends_count=496, listed_count=6233, created_at=datetime.datetime(2009, 1, 15, 10, 37, 7), favourites_count=201, utc_offset=None, time_zone=None, geo_enabled=True, verified=True, statuses_count=16238, lang=None, contributors_enabled=False, is_translator=False, is_translation_enabled=False, profile_background_color='722889', profile_background_image_url='http://abs.twimg.com/images/themes/theme10/bg.gif', profile_background_image_url_https='https://abs.twimg.com/images/themes/theme10/bg.gif', profile_background_tile=True, profile_image_url='http://pbs.twimg.com/profile_images/1245317683698155520/qykOsfLt_normal.jpg', profile_image_url_https='https://pbs.twimg.com/profile_images/1245317683698155520/qykOsfLt_normal.jpg', profile_banner_url='https://pbs.twimg.com/profile_banners/19017675/1580949317', profile_link_color='722889', profile_sidebar_border_color='FFFFFF', profile_sidebar_fill_color='7AC3EE', profile_text_color='3D1957', profile_use_background_image=True, has_extended_profile=False, default_profile=False, default_profile_image=False, following=False, follow_request_sent=None, notifications=None, translator_type='none'), user=User(_api=<tweepy.api.API object at 0x7f8e3c65d990>, _json={'id': 19017675, 'id_str': '19017675', 'name': 'Nigel Farage', 'screen_name': 'Nigel_Farage', 'location': '', 'description': 'Leader of @BrexitParty_UK.', 'url': 'https://t.co/UpU9eEx2sm', 'entities': {'url': {'urls': [{'url': 'https://t.co/UpU9eEx2sm', 'expanded_url': 'http://thebrexitparty.org', 'display_url': 'thebrexitparty.org', 'indices': [0, 23]}]}, 'description': {'urls': []}}, 'protected': False, 'followers_count': 1658589, 'friends_count': 496, 'listed_count': 6233, 'created_at': 'Thu Jan 15 10:37:07 +0000 2009', 'favourites_count': 201, 'utc_offset': None, 'time_zone': None, 'geo_enabled': True, 'verified': True, 'statuses_count': 16238, 'lang': None, 'contributors_enabled': False, 'is_translator': False, 'is_translation_enabled': False, 'profile_background_color': '722889', 'profile_background_image_url': 'http://abs.twimg.com/images/themes/theme10/bg.gif', 'profile_background_image_url_https': 'https://abs.twimg.com/images/themes/theme10/bg.gif', 'profile_background_tile': True, 'profile_image_url': 'http://pbs.twimg.com/profile_images/1245317683698155520/qykOsfLt_normal.jpg', 'profile_image_url_https': 'https://pbs.twimg.com/profile_images/1245317683698155520/qykOsfLt_normal.jpg', 'profile_banner_url': 'https://pbs.twimg.com/profile_banners/19017675/1580949317', 'profile_link_color': '722889', 'profile_sidebar_border_color': 'FFFFFF', 'profile_sidebar_fill_color': '7AC3EE', 'profile_text_color': '3D1957', 'profile_use_background_image': True, 'has_extended_profile': False, 'default_profile': False, 'default_profile_image': False, 'following': None, 'follow_request_sent': None, 'notifications': None, 'translator_type': 'none'}, id=19017675, id_str='19017675', name='Nigel Farage', screen_name='Nigel_Farage', location='', description='Leader of @BrexitParty_UK.', url='https://t.co/UpU9eEx2sm', entities={'url': {'urls': [{'url': 'https://t.co/UpU9eEx2sm', 'expanded_url': 'http://thebrexitparty.org', 'display_url': 'thebrexitparty.org', 'indices': [0, 23]}]}, 'description': {'urls': []}}, protected=False, followers_count=1658589, friends_count=496, listed_count=6233, created_at=datetime.datetime(2009, 1, 15, 10, 37, 7), favourites_count=201, utc_offset=None, time_zone=None, geo_enabled=True, verified=True, statuses_count=16238, lang=None, contributors_enabled=False, is_translator=False, is_translation_enabled=False, profile_background_color='722889', profile_background_image_url='http://abs.twimg.com/images/themes/theme10/bg.gif', profile_background_image_url_https='https://abs.twimg.com/images/themes/theme10/bg.gif', profile_background_tile=True, profile_image_url='http://pbs.twimg.com/profile_images/1245317683698155520/qykOsfLt_normal.jpg', profile_image_url_https='https://pbs.twimg.com/profile_images/1245317683698155520/qykOsfLt_normal.jpg', profile_banner_url='https://pbs.twimg.com/profile_banners/19017675/1580949317', profile_link_color='722889', profile_sidebar_border_color='FFFFFF', profile_sidebar_fill_color='7AC3EE', profile_text_color='3D1957', profile_use_background_image=True, has_extended_profile=False, default_profile=False, default_profile_image=False, following=False, follow_request_sent=None, notifications=None, translator_type='none'), geo=None, coordinates=None, place=None, contributors=None, is_quote_status=False, retweet_count=4456, favorite_count=21521, favorited=False, retweeted=False, lang='en')"
      ]
     },
     "execution_count": 10,
     "metadata": {},
     "output_type": "execute_result"
    }
   ],
   "source": [
    "# lets examine just one tweet object\n",
    "\n",
    "single_tweet = single_response[0]\n",
    "\n",
    "single_tweet."
   ]
  },
  {
   "cell_type": "code",
   "execution_count": 28,
   "metadata": {},
   "outputs": [
    {
     "data": {
      "text/plain": [
       "{'created_at': 'Sun Nov 15 17:36:02 +0000 2020',\n",
       " 'id': 1328029002221703170,\n",
       " 'id_str': '1328029002221703170',\n",
       " 'full_text': 'Boris wants a taxpayer funded Green New Deal that will please Queen Carrie and Zac Goldsmith.\\n\\nBut the voters who put him into power want a real Brexit, strict immigration controls and well paid jobs in industry. \\n\\nThe Prime Minister has lost the plot.',\n",
       " 'truncated': False,\n",
       " 'display_text_range': [0, 252],\n",
       " 'entities': {'hashtags': [], 'symbols': [], 'user_mentions': [], 'urls': []},\n",
       " 'metadata': {'result_type': 'popular', 'iso_language_code': 'en'},\n",
       " 'source': '<a href=\"http://twitter.com/download/iphone\" rel=\"nofollow\">Twitter for iPhone</a>',\n",
       " 'in_reply_to_status_id': None,\n",
       " 'in_reply_to_status_id_str': None,\n",
       " 'in_reply_to_user_id': None,\n",
       " 'in_reply_to_user_id_str': None,\n",
       " 'in_reply_to_screen_name': None,\n",
       " 'user': {'id': 19017675,\n",
       "  'id_str': '19017675',\n",
       "  'name': 'Nigel Farage',\n",
       "  'screen_name': 'Nigel_Farage',\n",
       "  'location': '',\n",
       "  'description': 'Leader of @BrexitParty_UK.',\n",
       "  'url': 'https://t.co/UpU9eEx2sm',\n",
       "  'entities': {'url': {'urls': [{'url': 'https://t.co/UpU9eEx2sm',\n",
       "      'expanded_url': 'http://thebrexitparty.org',\n",
       "      'display_url': 'thebrexitparty.org',\n",
       "      'indices': [0, 23]}]},\n",
       "   'description': {'urls': []}},\n",
       "  'protected': False,\n",
       "  'followers_count': 1658589,\n",
       "  'friends_count': 496,\n",
       "  'listed_count': 6233,\n",
       "  'created_at': 'Thu Jan 15 10:37:07 +0000 2009',\n",
       "  'favourites_count': 201,\n",
       "  'utc_offset': None,\n",
       "  'time_zone': None,\n",
       "  'geo_enabled': True,\n",
       "  'verified': True,\n",
       "  'statuses_count': 16238,\n",
       "  'lang': None,\n",
       "  'contributors_enabled': False,\n",
       "  'is_translator': False,\n",
       "  'is_translation_enabled': False,\n",
       "  'profile_background_color': '722889',\n",
       "  'profile_background_image_url': 'http://abs.twimg.com/images/themes/theme10/bg.gif',\n",
       "  'profile_background_image_url_https': 'https://abs.twimg.com/images/themes/theme10/bg.gif',\n",
       "  'profile_background_tile': True,\n",
       "  'profile_image_url': 'http://pbs.twimg.com/profile_images/1245317683698155520/qykOsfLt_normal.jpg',\n",
       "  'profile_image_url_https': 'https://pbs.twimg.com/profile_images/1245317683698155520/qykOsfLt_normal.jpg',\n",
       "  'profile_banner_url': 'https://pbs.twimg.com/profile_banners/19017675/1580949317',\n",
       "  'profile_link_color': '722889',\n",
       "  'profile_sidebar_border_color': 'FFFFFF',\n",
       "  'profile_sidebar_fill_color': '7AC3EE',\n",
       "  'profile_text_color': '3D1957',\n",
       "  'profile_use_background_image': True,\n",
       "  'has_extended_profile': False,\n",
       "  'default_profile': False,\n",
       "  'default_profile_image': False,\n",
       "  'following': None,\n",
       "  'follow_request_sent': None,\n",
       "  'notifications': None,\n",
       "  'translator_type': 'none'},\n",
       " 'geo': None,\n",
       " 'coordinates': None,\n",
       " 'place': None,\n",
       " 'contributors': None,\n",
       " 'is_quote_status': False,\n",
       " 'retweet_count': 4456,\n",
       " 'favorite_count': 21521,\n",
       " 'favorited': False,\n",
       " 'retweeted': False,\n",
       " 'lang': 'en'}"
      ]
     },
     "execution_count": 28,
     "metadata": {},
     "output_type": "execute_result"
    }
   ],
   "source": [
    "# You get a LOT of data in one single Tweet of a single response, but it's also a bit unwieldy. \n",
    "# Luckily we can access a nice structured version of this with the ._json attribute attached to each tweet object\n",
    "\n",
    "# we'll use the ._json attribute in later sessions...\n",
    "\n",
    "single_tweet._json"
   ]
  },
  {
   "cell_type": "markdown",
   "metadata": {},
   "source": [
    "### Types of Data in a single Tweet object\n",
    "Tweets from the API contain data such as...\n",
    "- Time posted\n",
    "- The text of the tweet\n",
    "- Full details on the User who posted.\n",
    "- Details of any media embedded in the tweet\n",
    "- Details of any hashtags user mentions, urls"
   ]
  },
  {
   "cell_type": "code",
   "execution_count": 12,
   "metadata": {},
   "outputs": [
    {
     "data": {
      "text/plain": [
       "tweepy.models.Status"
      ]
     },
     "execution_count": 12,
     "metadata": {},
     "output_type": "execute_result"
    }
   ],
   "source": [
    "# If we check the type of our single_tweet we can see it is a tweepy Status object.\n",
    "# When Tweepy recieved the response from Twitter, it wrapped it up into a useful object for us.\n",
    "\n",
    "type(single_tweet)"
   ]
  },
  {
   "cell_type": "code",
   "execution_count": 15,
   "metadata": {},
   "outputs": [
    {
     "data": {
      "text/plain": [
       "4456"
      ]
     },
     "execution_count": 15,
     "metadata": {},
     "output_type": "execute_result"
    }
   ],
   "source": [
    "# You can access any of these items individually as they are set as attributes of the Status class...\n",
    "single_tweet.retweet_count\n"
   ]
  },
  {
   "cell_type": "code",
   "execution_count": 16,
   "metadata": {},
   "outputs": [
    {
     "data": {
      "text/plain": [
       "dict_keys(['created_at', 'id', 'id_str', 'full_text', 'truncated', 'display_text_range', 'entities', 'metadata', 'source', 'in_reply_to_status_id', 'in_reply_to_status_id_str', 'in_reply_to_user_id', 'in_reply_to_user_id_str', 'in_reply_to_screen_name', 'user', 'geo', 'coordinates', 'place', 'contributors', 'is_quote_status', 'retweet_count', 'favorite_count', 'favorited', 'retweeted', 'lang'])"
      ]
     },
     "execution_count": 16,
     "metadata": {},
     "output_type": "execute_result"
    }
   ],
   "source": [
    "# a clean way to see all the relevant attributes is to ask for the json keys...\n",
    "single_tweet._json.keys()\n"
   ]
  },
  {
   "cell_type": "code",
   "execution_count": null,
   "metadata": {},
   "outputs": [],
   "source": [
    "# You can also use Jupyter to help you by using the code completion suggestions\n",
    "# type single_tweet. and then hit Tab on your keyboard to see your options.\n",
    "\n",
    "single_tweet."
   ]
  },
  {
   "cell_type": "code",
   "execution_count": 22,
   "metadata": {},
   "outputs": [
    {
     "data": {
      "text/plain": [
       "datetime.datetime(2009, 1, 15, 10, 37, 7)"
      ]
     },
     "execution_count": 22,
     "metadata": {},
     "output_type": "execute_result"
    }
   ],
   "source": [
    "# Some the values of some items will themselves be other objects, with their own attributes...\n",
    "\n",
    "single_tweet.user.created_at"
   ]
  },
  {
   "cell_type": "code",
   "execution_count": null,
   "metadata": {},
   "outputs": [],
   "source": [
    "# examine our user attribute\n"
   ]
  },
  {
   "cell_type": "code",
   "execution_count": 24,
   "metadata": {
    "collapsed": true,
    "jupyter": {
     "outputs_hidden": true
    }
   },
   "outputs": [
    {
     "data": {
      "text/plain": [
       "{'id': 19017675,\n",
       " 'id_str': '19017675',\n",
       " 'name': 'Nigel Farage',\n",
       " 'screen_name': 'Nigel_Farage',\n",
       " 'location': '',\n",
       " 'description': 'Leader of @BrexitParty_UK.',\n",
       " 'url': 'https://t.co/UpU9eEx2sm',\n",
       " 'entities': {'url': {'urls': [{'url': 'https://t.co/UpU9eEx2sm',\n",
       "     'expanded_url': 'http://thebrexitparty.org',\n",
       "     'display_url': 'thebrexitparty.org',\n",
       "     'indices': [0, 23]}]},\n",
       "  'description': {'urls': []}},\n",
       " 'protected': False,\n",
       " 'followers_count': 1658589,\n",
       " 'friends_count': 496,\n",
       " 'listed_count': 6233,\n",
       " 'created_at': 'Thu Jan 15 10:37:07 +0000 2009',\n",
       " 'favourites_count': 201,\n",
       " 'utc_offset': None,\n",
       " 'time_zone': None,\n",
       " 'geo_enabled': True,\n",
       " 'verified': True,\n",
       " 'statuses_count': 16238,\n",
       " 'lang': None,\n",
       " 'contributors_enabled': False,\n",
       " 'is_translator': False,\n",
       " 'is_translation_enabled': False,\n",
       " 'profile_background_color': '722889',\n",
       " 'profile_background_image_url': 'http://abs.twimg.com/images/themes/theme10/bg.gif',\n",
       " 'profile_background_image_url_https': 'https://abs.twimg.com/images/themes/theme10/bg.gif',\n",
       " 'profile_background_tile': True,\n",
       " 'profile_image_url': 'http://pbs.twimg.com/profile_images/1245317683698155520/qykOsfLt_normal.jpg',\n",
       " 'profile_image_url_https': 'https://pbs.twimg.com/profile_images/1245317683698155520/qykOsfLt_normal.jpg',\n",
       " 'profile_banner_url': 'https://pbs.twimg.com/profile_banners/19017675/1580949317',\n",
       " 'profile_link_color': '722889',\n",
       " 'profile_sidebar_border_color': 'FFFFFF',\n",
       " 'profile_sidebar_fill_color': '7AC3EE',\n",
       " 'profile_text_color': '3D1957',\n",
       " 'profile_use_background_image': True,\n",
       " 'has_extended_profile': False,\n",
       " 'default_profile': False,\n",
       " 'default_profile_image': False,\n",
       " 'following': None,\n",
       " 'follow_request_sent': None,\n",
       " 'notifications': None,\n",
       " 'translator_type': 'none'}"
      ]
     },
     "execution_count": 24,
     "metadata": {},
     "output_type": "execute_result"
    }
   ],
   "source": [
    "# and user in json form\n",
    "single_tweet.user._json"
   ]
  },
  {
   "cell_type": "code",
   "execution_count": null,
   "metadata": {},
   "outputs": [],
   "source": [
    "# We can access these subvalues by just chaining our attribute requests\n",
    "\n",
    "single_tweet.user.screen_name"
   ]
  },
  {
   "cell_type": "markdown",
   "metadata": {},
   "source": [
    "If a tweet is a retweet it will also contain another tweet object with all the information on the original tweet."
   ]
  },
  {
   "cell_type": "code",
   "execution_count": 25,
   "metadata": {
    "collapsed": true,
    "jupyter": {
     "outputs_hidden": true
    }
   },
   "outputs": [
    {
     "name": "stdout",
     "output_type": "stream",
     "text": [
      "Status(_api=<tweepy.api.API object at 0x7f8e3c65d990>, _json={'created_at': 'Mon Nov 16 13:39:13 +0000 2020', 'id': 1328331792416444417, 'id_str': '1328331792416444417', 'full_text': 'RT @BriefcaseMike: \"The Government isn\\'t going to blink first\" says disgraced former Cabinet Minister Stephen Crabb as though it\\'s fine to…', 'truncated': False, 'display_text_range': [0, 139], 'entities': {'hashtags': [], 'symbols': [], 'user_mentions': [{'screen_name': 'BriefcaseMike', 'name': 'Briefcase Michael', 'id': 586420487, 'id_str': '586420487', 'indices': [3, 17]}], 'urls': []}, 'metadata': {'iso_language_code': 'en', 'result_type': 'recent'}, 'source': '<a href=\"https://mobile.twitter.com\" rel=\"nofollow\">Twitter Web App</a>', 'in_reply_to_status_id': None, 'in_reply_to_status_id_str': None, 'in_reply_to_user_id': None, 'in_reply_to_user_id_str': None, 'in_reply_to_screen_name': None, 'user': {'id': 121192964, 'id_str': '121192964', 'name': 'Scrapester 3.5%', 'screen_name': 'scrapester', 'location': 'Cornwall, Europe', 'description': 'Protect NHS: save lives: get rid of the Tories. #bloodontheirhands\\n\\n\\nRetweets = interesting. #FBCoalition2024  #3.5%\\n\\nThe world is still burning.', 'url': None, 'entities': {'description': {'urls': []}}, 'protected': False, 'followers_count': 812, 'friends_count': 3061, 'listed_count': 1, 'created_at': 'Mon Mar 08 18:34:35 +0000 2010', 'favourites_count': 13038, 'utc_offset': None, 'time_zone': None, 'geo_enabled': False, 'verified': False, 'statuses_count': 24434, 'lang': None, 'contributors_enabled': False, 'is_translator': False, 'is_translation_enabled': False, 'profile_background_color': '000000', 'profile_background_image_url': 'http://abs.twimg.com/images/themes/theme18/bg.gif', 'profile_background_image_url_https': 'https://abs.twimg.com/images/themes/theme18/bg.gif', 'profile_background_tile': False, 'profile_image_url': 'http://pbs.twimg.com/profile_images/1212116727338872835/E4Et1UoQ_normal.jpg', 'profile_image_url_https': 'https://pbs.twimg.com/profile_images/1212116727338872835/E4Et1UoQ_normal.jpg', 'profile_banner_url': 'https://pbs.twimg.com/profile_banners/121192964/1577826949', 'profile_link_color': '19CF86', 'profile_sidebar_border_color': '000000', 'profile_sidebar_fill_color': '000000', 'profile_text_color': '000000', 'profile_use_background_image': False, 'has_extended_profile': False, 'default_profile': False, 'default_profile_image': False, 'following': None, 'follow_request_sent': None, 'notifications': None, 'translator_type': 'none'}, 'geo': None, 'coordinates': None, 'place': None, 'contributors': None, 'retweeted_status': {'created_at': 'Mon Nov 16 12:38:12 +0000 2020', 'id': 1328316439728713728, 'id_str': '1328316439728713728', 'full_text': '\"The Government isn\\'t going to blink first\" says disgraced former Cabinet Minister Stephen Crabb as though it\\'s fine to play a game of chicken with people\\'s lives. #PoliticsLive @BBCPolitics #Brexit', 'truncated': False, 'display_text_range': [0, 198], 'entities': {'hashtags': [{'text': 'PoliticsLive', 'indices': [164, 177]}, {'text': 'Brexit', 'indices': [191, 198]}], 'symbols': [], 'user_mentions': [{'screen_name': 'BBCPolitics', 'name': 'BBC Politics', 'id': 621533, 'id_str': '621533', 'indices': [178, 190]}], 'urls': []}, 'metadata': {'iso_language_code': 'en', 'result_type': 'recent'}, 'source': '<a href=\"https://mobile.twitter.com\" rel=\"nofollow\">Twitter Web App</a>', 'in_reply_to_status_id': None, 'in_reply_to_status_id_str': None, 'in_reply_to_user_id': None, 'in_reply_to_user_id_str': None, 'in_reply_to_screen_name': None, 'user': {'id': 586420487, 'id_str': '586420487', 'name': 'Briefcase Michael', 'screen_name': 'BriefcaseMike', 'location': 'England', 'description': \"Socialist. European. Well red and well-read. Not a lawyer so don't request legal advice. It may be inaccurate & you may still be charged. 😃 🌹 🌈\", 'url': None, 'entities': {'description': {'urls': []}}, 'protected': False, 'followers_count': 10317, 'friends_count': 5944, 'listed_count': 43, 'created_at': 'Mon May 21 10:06:23 +0000 2012', 'favourites_count': 61264, 'utc_offset': None, 'time_zone': None, 'geo_enabled': False, 'verified': False, 'statuses_count': 37532, 'lang': None, 'contributors_enabled': False, 'is_translator': False, 'is_translation_enabled': False, 'profile_background_color': 'EBEBEB', 'profile_background_image_url': 'http://abs.twimg.com/images/themes/theme7/bg.gif', 'profile_background_image_url_https': 'https://abs.twimg.com/images/themes/theme7/bg.gif', 'profile_background_tile': False, 'profile_image_url': 'http://pbs.twimg.com/profile_images/2237591866/rose_twitter_normal.jpg', 'profile_image_url_https': 'https://pbs.twimg.com/profile_images/2237591866/rose_twitter_normal.jpg', 'profile_link_color': '990000', 'profile_sidebar_border_color': 'DFDFDF', 'profile_sidebar_fill_color': 'F3F3F3', 'profile_text_color': '333333', 'profile_use_background_image': True, 'has_extended_profile': False, 'default_profile': False, 'default_profile_image': False, 'following': None, 'follow_request_sent': None, 'notifications': None, 'translator_type': 'none'}, 'geo': None, 'coordinates': None, 'place': None, 'contributors': None, 'is_quote_status': False, 'retweet_count': 20, 'favorite_count': 39, 'favorited': False, 'retweeted': False, 'lang': 'en'}, 'is_quote_status': False, 'retweet_count': 20, 'favorite_count': 0, 'favorited': False, 'retweeted': False, 'lang': 'en'}, created_at=datetime.datetime(2020, 11, 16, 13, 39, 13), id=1328331792416444417, id_str='1328331792416444417', full_text='RT @BriefcaseMike: \"The Government isn\\'t going to blink first\" says disgraced former Cabinet Minister Stephen Crabb as though it\\'s fine to…', truncated=False, display_text_range=[0, 139], entities={'hashtags': [], 'symbols': [], 'user_mentions': [{'screen_name': 'BriefcaseMike', 'name': 'Briefcase Michael', 'id': 586420487, 'id_str': '586420487', 'indices': [3, 17]}], 'urls': []}, metadata={'iso_language_code': 'en', 'result_type': 'recent'}, source='Twitter Web App', source_url='https://mobile.twitter.com', in_reply_to_status_id=None, in_reply_to_status_id_str=None, in_reply_to_user_id=None, in_reply_to_user_id_str=None, in_reply_to_screen_name=None, author=User(_api=<tweepy.api.API object at 0x7f8e3c65d990>, _json={'id': 121192964, 'id_str': '121192964', 'name': 'Scrapester 3.5%', 'screen_name': 'scrapester', 'location': 'Cornwall, Europe', 'description': 'Protect NHS: save lives: get rid of the Tories. #bloodontheirhands\\n\\n\\nRetweets = interesting. #FBCoalition2024  #3.5%\\n\\nThe world is still burning.', 'url': None, 'entities': {'description': {'urls': []}}, 'protected': False, 'followers_count': 812, 'friends_count': 3061, 'listed_count': 1, 'created_at': 'Mon Mar 08 18:34:35 +0000 2010', 'favourites_count': 13038, 'utc_offset': None, 'time_zone': None, 'geo_enabled': False, 'verified': False, 'statuses_count': 24434, 'lang': None, 'contributors_enabled': False, 'is_translator': False, 'is_translation_enabled': False, 'profile_background_color': '000000', 'profile_background_image_url': 'http://abs.twimg.com/images/themes/theme18/bg.gif', 'profile_background_image_url_https': 'https://abs.twimg.com/images/themes/theme18/bg.gif', 'profile_background_tile': False, 'profile_image_url': 'http://pbs.twimg.com/profile_images/1212116727338872835/E4Et1UoQ_normal.jpg', 'profile_image_url_https': 'https://pbs.twimg.com/profile_images/1212116727338872835/E4Et1UoQ_normal.jpg', 'profile_banner_url': 'https://pbs.twimg.com/profile_banners/121192964/1577826949', 'profile_link_color': '19CF86', 'profile_sidebar_border_color': '000000', 'profile_sidebar_fill_color': '000000', 'profile_text_color': '000000', 'profile_use_background_image': False, 'has_extended_profile': False, 'default_profile': False, 'default_profile_image': False, 'following': None, 'follow_request_sent': None, 'notifications': None, 'translator_type': 'none'}, id=121192964, id_str='121192964', name='Scrapester 3.5%', screen_name='scrapester', location='Cornwall, Europe', description='Protect NHS: save lives: get rid of the Tories. #bloodontheirhands\\n\\n\\nRetweets = interesting. #FBCoalition2024  #3.5%\\n\\nThe world is still burning.', url=None, entities={'description': {'urls': []}}, protected=False, followers_count=812, friends_count=3061, listed_count=1, created_at=datetime.datetime(2010, 3, 8, 18, 34, 35), favourites_count=13038, utc_offset=None, time_zone=None, geo_enabled=False, verified=False, statuses_count=24434, lang=None, contributors_enabled=False, is_translator=False, is_translation_enabled=False, profile_background_color='000000', profile_background_image_url='http://abs.twimg.com/images/themes/theme18/bg.gif', profile_background_image_url_https='https://abs.twimg.com/images/themes/theme18/bg.gif', profile_background_tile=False, profile_image_url='http://pbs.twimg.com/profile_images/1212116727338872835/E4Et1UoQ_normal.jpg', profile_image_url_https='https://pbs.twimg.com/profile_images/1212116727338872835/E4Et1UoQ_normal.jpg', profile_banner_url='https://pbs.twimg.com/profile_banners/121192964/1577826949', profile_link_color='19CF86', profile_sidebar_border_color='000000', profile_sidebar_fill_color='000000', profile_text_color='000000', profile_use_background_image=False, has_extended_profile=False, default_profile=False, default_profile_image=False, following=False, follow_request_sent=None, notifications=None, translator_type='none'), user=User(_api=<tweepy.api.API object at 0x7f8e3c65d990>, _json={'id': 121192964, 'id_str': '121192964', 'name': 'Scrapester 3.5%', 'screen_name': 'scrapester', 'location': 'Cornwall, Europe', 'description': 'Protect NHS: save lives: get rid of the Tories. #bloodontheirhands\\n\\n\\nRetweets = interesting. #FBCoalition2024  #3.5%\\n\\nThe world is still burning.', 'url': None, 'entities': {'description': {'urls': []}}, 'protected': False, 'followers_count': 812, 'friends_count': 3061, 'listed_count': 1, 'created_at': 'Mon Mar 08 18:34:35 +0000 2010', 'favourites_count': 13038, 'utc_offset': None, 'time_zone': None, 'geo_enabled': False, 'verified': False, 'statuses_count': 24434, 'lang': None, 'contributors_enabled': False, 'is_translator': False, 'is_translation_enabled': False, 'profile_background_color': '000000', 'profile_background_image_url': 'http://abs.twimg.com/images/themes/theme18/bg.gif', 'profile_background_image_url_https': 'https://abs.twimg.com/images/themes/theme18/bg.gif', 'profile_background_tile': False, 'profile_image_url': 'http://pbs.twimg.com/profile_images/1212116727338872835/E4Et1UoQ_normal.jpg', 'profile_image_url_https': 'https://pbs.twimg.com/profile_images/1212116727338872835/E4Et1UoQ_normal.jpg', 'profile_banner_url': 'https://pbs.twimg.com/profile_banners/121192964/1577826949', 'profile_link_color': '19CF86', 'profile_sidebar_border_color': '000000', 'profile_sidebar_fill_color': '000000', 'profile_text_color': '000000', 'profile_use_background_image': False, 'has_extended_profile': False, 'default_profile': False, 'default_profile_image': False, 'following': None, 'follow_request_sent': None, 'notifications': None, 'translator_type': 'none'}, id=121192964, id_str='121192964', name='Scrapester 3.5%', screen_name='scrapester', location='Cornwall, Europe', description='Protect NHS: save lives: get rid of the Tories. #bloodontheirhands\\n\\n\\nRetweets = interesting. #FBCoalition2024  #3.5%\\n\\nThe world is still burning.', url=None, entities={'description': {'urls': []}}, protected=False, followers_count=812, friends_count=3061, listed_count=1, created_at=datetime.datetime(2010, 3, 8, 18, 34, 35), favourites_count=13038, utc_offset=None, time_zone=None, geo_enabled=False, verified=False, statuses_count=24434, lang=None, contributors_enabled=False, is_translator=False, is_translation_enabled=False, profile_background_color='000000', profile_background_image_url='http://abs.twimg.com/images/themes/theme18/bg.gif', profile_background_image_url_https='https://abs.twimg.com/images/themes/theme18/bg.gif', profile_background_tile=False, profile_image_url='http://pbs.twimg.com/profile_images/1212116727338872835/E4Et1UoQ_normal.jpg', profile_image_url_https='https://pbs.twimg.com/profile_images/1212116727338872835/E4Et1UoQ_normal.jpg', profile_banner_url='https://pbs.twimg.com/profile_banners/121192964/1577826949', profile_link_color='19CF86', profile_sidebar_border_color='000000', profile_sidebar_fill_color='000000', profile_text_color='000000', profile_use_background_image=False, has_extended_profile=False, default_profile=False, default_profile_image=False, following=False, follow_request_sent=None, notifications=None, translator_type='none'), geo=None, coordinates=None, place=None, contributors=None, retweeted_status=Status(_api=<tweepy.api.API object at 0x7f8e3c65d990>, _json={'created_at': 'Mon Nov 16 12:38:12 +0000 2020', 'id': 1328316439728713728, 'id_str': '1328316439728713728', 'full_text': '\"The Government isn\\'t going to blink first\" says disgraced former Cabinet Minister Stephen Crabb as though it\\'s fine to play a game of chicken with people\\'s lives. #PoliticsLive @BBCPolitics #Brexit', 'truncated': False, 'display_text_range': [0, 198], 'entities': {'hashtags': [{'text': 'PoliticsLive', 'indices': [164, 177]}, {'text': 'Brexit', 'indices': [191, 198]}], 'symbols': [], 'user_mentions': [{'screen_name': 'BBCPolitics', 'name': 'BBC Politics', 'id': 621533, 'id_str': '621533', 'indices': [178, 190]}], 'urls': []}, 'metadata': {'iso_language_code': 'en', 'result_type': 'recent'}, 'source': '<a href=\"https://mobile.twitter.com\" rel=\"nofollow\">Twitter Web App</a>', 'in_reply_to_status_id': None, 'in_reply_to_status_id_str': None, 'in_reply_to_user_id': None, 'in_reply_to_user_id_str': None, 'in_reply_to_screen_name': None, 'user': {'id': 586420487, 'id_str': '586420487', 'name': 'Briefcase Michael', 'screen_name': 'BriefcaseMike', 'location': 'England', 'description': \"Socialist. European. Well red and well-read. Not a lawyer so don't request legal advice. It may be inaccurate & you may still be charged. 😃 🌹 🌈\", 'url': None, 'entities': {'description': {'urls': []}}, 'protected': False, 'followers_count': 10317, 'friends_count': 5944, 'listed_count': 43, 'created_at': 'Mon May 21 10:06:23 +0000 2012', 'favourites_count': 61264, 'utc_offset': None, 'time_zone': None, 'geo_enabled': False, 'verified': False, 'statuses_count': 37532, 'lang': None, 'contributors_enabled': False, 'is_translator': False, 'is_translation_enabled': False, 'profile_background_color': 'EBEBEB', 'profile_background_image_url': 'http://abs.twimg.com/images/themes/theme7/bg.gif', 'profile_background_image_url_https': 'https://abs.twimg.com/images/themes/theme7/bg.gif', 'profile_background_tile': False, 'profile_image_url': 'http://pbs.twimg.com/profile_images/2237591866/rose_twitter_normal.jpg', 'profile_image_url_https': 'https://pbs.twimg.com/profile_images/2237591866/rose_twitter_normal.jpg', 'profile_link_color': '990000', 'profile_sidebar_border_color': 'DFDFDF', 'profile_sidebar_fill_color': 'F3F3F3', 'profile_text_color': '333333', 'profile_use_background_image': True, 'has_extended_profile': False, 'default_profile': False, 'default_profile_image': False, 'following': None, 'follow_request_sent': None, 'notifications': None, 'translator_type': 'none'}, 'geo': None, 'coordinates': None, 'place': None, 'contributors': None, 'is_quote_status': False, 'retweet_count': 20, 'favorite_count': 39, 'favorited': False, 'retweeted': False, 'lang': 'en'}, created_at=datetime.datetime(2020, 11, 16, 12, 38, 12), id=1328316439728713728, id_str='1328316439728713728', full_text='\"The Government isn\\'t going to blink first\" says disgraced former Cabinet Minister Stephen Crabb as though it\\'s fine to play a game of chicken with people\\'s lives. #PoliticsLive @BBCPolitics #Brexit', truncated=False, display_text_range=[0, 198], entities={'hashtags': [{'text': 'PoliticsLive', 'indices': [164, 177]}, {'text': 'Brexit', 'indices': [191, 198]}], 'symbols': [], 'user_mentions': [{'screen_name': 'BBCPolitics', 'name': 'BBC Politics', 'id': 621533, 'id_str': '621533', 'indices': [178, 190]}], 'urls': []}, metadata={'iso_language_code': 'en', 'result_type': 'recent'}, source='Twitter Web App', source_url='https://mobile.twitter.com', in_reply_to_status_id=None, in_reply_to_status_id_str=None, in_reply_to_user_id=None, in_reply_to_user_id_str=None, in_reply_to_screen_name=None, author=User(_api=<tweepy.api.API object at 0x7f8e3c65d990>, _json={'id': 586420487, 'id_str': '586420487', 'name': 'Briefcase Michael', 'screen_name': 'BriefcaseMike', 'location': 'England', 'description': \"Socialist. European. Well red and well-read. Not a lawyer so don't request legal advice. It may be inaccurate & you may still be charged. 😃 🌹 🌈\", 'url': None, 'entities': {'description': {'urls': []}}, 'protected': False, 'followers_count': 10317, 'friends_count': 5944, 'listed_count': 43, 'created_at': 'Mon May 21 10:06:23 +0000 2012', 'favourites_count': 61264, 'utc_offset': None, 'time_zone': None, 'geo_enabled': False, 'verified': False, 'statuses_count': 37532, 'lang': None, 'contributors_enabled': False, 'is_translator': False, 'is_translation_enabled': False, 'profile_background_color': 'EBEBEB', 'profile_background_image_url': 'http://abs.twimg.com/images/themes/theme7/bg.gif', 'profile_background_image_url_https': 'https://abs.twimg.com/images/themes/theme7/bg.gif', 'profile_background_tile': False, 'profile_image_url': 'http://pbs.twimg.com/profile_images/2237591866/rose_twitter_normal.jpg', 'profile_image_url_https': 'https://pbs.twimg.com/profile_images/2237591866/rose_twitter_normal.jpg', 'profile_link_color': '990000', 'profile_sidebar_border_color': 'DFDFDF', 'profile_sidebar_fill_color': 'F3F3F3', 'profile_text_color': '333333', 'profile_use_background_image': True, 'has_extended_profile': False, 'default_profile': False, 'default_profile_image': False, 'following': None, 'follow_request_sent': None, 'notifications': None, 'translator_type': 'none'}, id=586420487, id_str='586420487', name='Briefcase Michael', screen_name='BriefcaseMike', location='England', description=\"Socialist. European. Well red and well-read. Not a lawyer so don't request legal advice. It may be inaccurate & you may still be charged. 😃 🌹 🌈\", url=None, entities={'description': {'urls': []}}, protected=False, followers_count=10317, friends_count=5944, listed_count=43, created_at=datetime.datetime(2012, 5, 21, 10, 6, 23), favourites_count=61264, utc_offset=None, time_zone=None, geo_enabled=False, verified=False, statuses_count=37532, lang=None, contributors_enabled=False, is_translator=False, is_translation_enabled=False, profile_background_color='EBEBEB', profile_background_image_url='http://abs.twimg.com/images/themes/theme7/bg.gif', profile_background_image_url_https='https://abs.twimg.com/images/themes/theme7/bg.gif', profile_background_tile=False, profile_image_url='http://pbs.twimg.com/profile_images/2237591866/rose_twitter_normal.jpg', profile_image_url_https='https://pbs.twimg.com/profile_images/2237591866/rose_twitter_normal.jpg', profile_link_color='990000', profile_sidebar_border_color='DFDFDF', profile_sidebar_fill_color='F3F3F3', profile_text_color='333333', profile_use_background_image=True, has_extended_profile=False, default_profile=False, default_profile_image=False, following=False, follow_request_sent=None, notifications=None, translator_type='none'), user=User(_api=<tweepy.api.API object at 0x7f8e3c65d990>, _json={'id': 586420487, 'id_str': '586420487', 'name': 'Briefcase Michael', 'screen_name': 'BriefcaseMike', 'location': 'England', 'description': \"Socialist. European. Well red and well-read. Not a lawyer so don't request legal advice. It may be inaccurate & you may still be charged. 😃 🌹 🌈\", 'url': None, 'entities': {'description': {'urls': []}}, 'protected': False, 'followers_count': 10317, 'friends_count': 5944, 'listed_count': 43, 'created_at': 'Mon May 21 10:06:23 +0000 2012', 'favourites_count': 61264, 'utc_offset': None, 'time_zone': None, 'geo_enabled': False, 'verified': False, 'statuses_count': 37532, 'lang': None, 'contributors_enabled': False, 'is_translator': False, 'is_translation_enabled': False, 'profile_background_color': 'EBEBEB', 'profile_background_image_url': 'http://abs.twimg.com/images/themes/theme7/bg.gif', 'profile_background_image_url_https': 'https://abs.twimg.com/images/themes/theme7/bg.gif', 'profile_background_tile': False, 'profile_image_url': 'http://pbs.twimg.com/profile_images/2237591866/rose_twitter_normal.jpg', 'profile_image_url_https': 'https://pbs.twimg.com/profile_images/2237591866/rose_twitter_normal.jpg', 'profile_link_color': '990000', 'profile_sidebar_border_color': 'DFDFDF', 'profile_sidebar_fill_color': 'F3F3F3', 'profile_text_color': '333333', 'profile_use_background_image': True, 'has_extended_profile': False, 'default_profile': False, 'default_profile_image': False, 'following': None, 'follow_request_sent': None, 'notifications': None, 'translator_type': 'none'}, id=586420487, id_str='586420487', name='Briefcase Michael', screen_name='BriefcaseMike', location='England', description=\"Socialist. European. Well red and well-read. Not a lawyer so don't request legal advice. It may be inaccurate & you may still be charged. 😃 🌹 🌈\", url=None, entities={'description': {'urls': []}}, protected=False, followers_count=10317, friends_count=5944, listed_count=43, created_at=datetime.datetime(2012, 5, 21, 10, 6, 23), favourites_count=61264, utc_offset=None, time_zone=None, geo_enabled=False, verified=False, statuses_count=37532, lang=None, contributors_enabled=False, is_translator=False, is_translation_enabled=False, profile_background_color='EBEBEB', profile_background_image_url='http://abs.twimg.com/images/themes/theme7/bg.gif', profile_background_image_url_https='https://abs.twimg.com/images/themes/theme7/bg.gif', profile_background_tile=False, profile_image_url='http://pbs.twimg.com/profile_images/2237591866/rose_twitter_normal.jpg', profile_image_url_https='https://pbs.twimg.com/profile_images/2237591866/rose_twitter_normal.jpg', profile_link_color='990000', profile_sidebar_border_color='DFDFDF', profile_sidebar_fill_color='F3F3F3', profile_text_color='333333', profile_use_background_image=True, has_extended_profile=False, default_profile=False, default_profile_image=False, following=False, follow_request_sent=None, notifications=None, translator_type='none'), geo=None, coordinates=None, place=None, contributors=None, is_quote_status=False, retweet_count=20, favorite_count=39, favorited=False, retweeted=False, lang='en'), is_quote_status=False, retweet_count=20, favorite_count=0, favorited=False, retweeted=False, lang='en')\n"
     ]
    }
   ],
   "source": [
    "# lets make sure we are all looking at a retweet by using our handy function - this may be the tweet you were looking at already!\n",
    "\n",
    "single_tweet_with_RT = find_first_retweet(single_response)\n",
    "print(single_tweet_with_RT)"
   ]
  },
  {
   "cell_type": "code",
   "execution_count": 26,
   "metadata": {},
   "outputs": [
    {
     "name": "stdout",
     "output_type": "stream",
     "text": [
      "2020-11-16 13:39:13\n",
      "RT @BriefcaseMike: \"The Government isn't going to blink first\" says disgraced former Cabinet Minister Stephen Crabb as though it's fine to…\n",
      "scrapester\n",
      "****************************************************************************************************\n",
      "2020-11-16 12:38:12\n",
      "\"The Government isn't going to blink first\" says disgraced former Cabinet Minister Stephen Crabb as though it's fine to play a game of chicken with people's lives. #PoliticsLive @BBCPolitics #Brexit\n",
      "BriefcaseMike\n"
     ]
    }
   ],
   "source": [
    "#.... and therefore we can also access the details of that tweet\n",
    "\n",
    "print(single_tweet_with_RT.created_at)\n",
    "print(single_tweet_with_RT.full_text)\n",
    "print(single_tweet_with_RT.user.screen_name)\n",
    "\n",
    "print('*'*100)\n",
    "\n",
    "print(single_tweet_with_RT.retweeted_status.created_at)\n",
    "print(single_tweet_with_RT.retweeted_status.full_text)\n",
    "print(single_tweet_with_RT.retweeted_status.user.screen_name)\n",
    "\n"
   ]
  },
  {
   "cell_type": "markdown",
   "metadata": {},
   "source": [
    "### Making Multiple Requests\n",
    " - With a single request we can retrieve 100 tweets\n",
    " - What if we want to maximise our data access and make multiple requests\n",
    " - We could make a second request and then join the lists of results together...\n",
    " - However Twitter doesn't know what tweets we already retrieved in the first request, so we might get the same ones again.\n",
    " - Enter Tweepy's `Cursor` object.\n",
    " - The `Cursor` will keep track of where we are in the results stream, handle any api limits and blocks, and keep producing results until it reaches the set limit.\n"
   ]
  },
  {
   "cell_type": "code",
   "execution_count": 13,
   "metadata": {},
   "outputs": [],
   "source": [
    "import tweepy\n",
    "import pandas as pd\n",
    "\n",
    "CONSUMER_KEY = '6pxpKSMRxmNkpJeazzAbYtGA1'\n",
    "CONSUMER_SECRET = '4vWM3hmOMLqRCfHkWV4BGaGEellwDhzT4DnUe6iRBOMFe6rPGC'\n",
    "\n",
    "auth = tweepy.AppAuthHandler(CONSUMER_KEY, CONSUMER_SECRET)\n",
    "api = tweepy.API(auth, wait_on_rate_limit=True, wait_on_rate_limit_notify=True)\n",
    "\n"
   ]
  },
  {
   "cell_type": "code",
   "execution_count": 3,
   "metadata": {},
   "outputs": [],
   "source": [
    "# This was our original way we made a request for data from the API\n",
    "\n",
    "old_approach = api.search(q='brexit',tweet_mode='extended',result_type='mixed', count=100)"
   ]
  },
  {
   "cell_type": "code",
   "execution_count": 14,
   "metadata": {},
   "outputs": [],
   "source": [
    "# Using the cursor is similar to our original single_response method.\n",
    "# we first create our custom cursor, providing it the api method we want to use,\n",
    "# and any of the arguments we want to be used by that method.\n",
    "\n",
    "\n",
    "\n",
    "our_cursor = tweepy.Cursor(api.search, q='brexit',tweet_mode='extended',result_type='mixed', count=100)"
   ]
  },
  {
   "cell_type": "code",
   "execution_count": 15,
   "metadata": {},
   "outputs": [
    {
     "data": {
      "text/plain": [
       "<tweepy.cursor.Cursor at 0x7fcddb32a4d0>"
      ]
     },
     "execution_count": 15,
     "metadata": {},
     "output_type": "execute_result"
    }
   ],
   "source": [
    "our_cursor"
   ]
  },
  {
   "cell_type": "markdown",
   "metadata": {},
   "source": [
    "## Cursors\n",
    "Cursor objects don't DO anything alone. They are almost like a set of instructions, but the instructions aren't being acted out until we do two things....\n",
    "1. Specify whether we want our results as `items` or `pages`.\n",
    "2. Iterate over the cursor\n",
    "\n",
    "#### 1. Items / Pages\n",
    "\n",
    "Cursors can return either a list of individual result items, or result pages depending on what is best. \n",
    "- Pages returns you a stream of response objects, each containing the maximum number of tweets per request.\n",
    "- Items returns you a stream of tweets, essentially joining together the results of the responses.\n",
    "\n",
    "We set whether we are using pages or items using a method attached to the cursor. The number we pass to the cursor defines the limit, of either pages or items. These arguments would return the same number of tweets, presuming we set our count to 100.\n",
    "\n",
    "`our_cursor.pages(2)`\n",
    "\n",
    "`our_cursor.items(200)`\n",
    "\n",
    "#### 2. Iterating over the Cursor\n",
    "\n",
    "For our purposes asking for the `.items()` is sufficient, now we need to iterate over it."
   ]
  },
  {
   "cell_type": "code",
   "execution_count": 18,
   "metadata": {},
   "outputs": [
    {
     "name": "stdout",
     "output_type": "stream",
     "text": [
      "500\n"
     ]
    }
   ],
   "source": [
    "# The most explicit way - using a for loop\n",
    "our_cursor = tweepy.Cursor(api.search, q='brexit',tweet_mode='extended',result_type='mixed', count=100)\n",
    "item_results = []\n",
    "\n",
    "for tweet in our_cursor.items(500):\n",
    "    item_results.append(tweet)\n",
    "\n",
    "print(len(item_results))"
   ]
  },
  {
   "cell_type": "markdown",
   "metadata": {},
   "source": [
    "# 3. Managing Tweet Data\n",
    "- It's all well and good having this data and printing out pieces of it, but how do we...\n",
    "- Structure it...\n",
    "- Store it...\n",
    "- and Explore it?"
   ]
  },
  {
   "cell_type": "code",
   "execution_count": 24,
   "metadata": {},
   "outputs": [
    {
     "name": "stdout",
     "output_type": "stream",
     "text": [
      "500\n"
     ]
    }
   ],
   "source": [
    "# First lets get a fresh set of results with a new cursor. Limit to 500 items.\n",
    "\n",
    "our_cursor = tweepy.Cursor(api.search, q='brexit',tweet_mode='extended',result_type='mixed', count=100)\n",
    "item_results = []\n",
    "\n",
    "for tweet in our_cursor.items(500):\n",
    "    item_results.append(tweet)\n",
    "\n",
    "print(len(item_results))"
   ]
  },
  {
   "cell_type": "markdown",
   "metadata": {},
   "source": [
    "Ideally we'd like this data now in a Pandas DataFrame so we can work with it. Let's just try and put it in and see what happens..."
   ]
  },
  {
   "cell_type": "code",
   "execution_count": 25,
   "metadata": {},
   "outputs": [
    {
     "data": {
      "text/html": [
       "<div>\n",
       "<style scoped>\n",
       "    .dataframe tbody tr th:only-of-type {\n",
       "        vertical-align: middle;\n",
       "    }\n",
       "\n",
       "    .dataframe tbody tr th {\n",
       "        vertical-align: top;\n",
       "    }\n",
       "\n",
       "    .dataframe thead th {\n",
       "        text-align: right;\n",
       "    }\n",
       "</style>\n",
       "<table border=\"1\" class=\"dataframe\">\n",
       "  <thead>\n",
       "    <tr style=\"text-align: right;\">\n",
       "      <th></th>\n",
       "      <th>0</th>\n",
       "    </tr>\n",
       "  </thead>\n",
       "  <tbody>\n",
       "    <tr>\n",
       "      <th>0</th>\n",
       "      <td>Status(_api=&lt;tweepy.api.API object at 0x7fcddb...</td>\n",
       "    </tr>\n",
       "    <tr>\n",
       "      <th>1</th>\n",
       "      <td>Status(_api=&lt;tweepy.api.API object at 0x7fcddb...</td>\n",
       "    </tr>\n",
       "    <tr>\n",
       "      <th>2</th>\n",
       "      <td>Status(_api=&lt;tweepy.api.API object at 0x7fcddb...</td>\n",
       "    </tr>\n",
       "    <tr>\n",
       "      <th>3</th>\n",
       "      <td>Status(_api=&lt;tweepy.api.API object at 0x7fcddb...</td>\n",
       "    </tr>\n",
       "    <tr>\n",
       "      <th>4</th>\n",
       "      <td>Status(_api=&lt;tweepy.api.API object at 0x7fcddb...</td>\n",
       "    </tr>\n",
       "    <tr>\n",
       "      <th>...</th>\n",
       "      <td>...</td>\n",
       "    </tr>\n",
       "    <tr>\n",
       "      <th>495</th>\n",
       "      <td>Status(_api=&lt;tweepy.api.API object at 0x7fcddb...</td>\n",
       "    </tr>\n",
       "    <tr>\n",
       "      <th>496</th>\n",
       "      <td>Status(_api=&lt;tweepy.api.API object at 0x7fcddb...</td>\n",
       "    </tr>\n",
       "    <tr>\n",
       "      <th>497</th>\n",
       "      <td>Status(_api=&lt;tweepy.api.API object at 0x7fcddb...</td>\n",
       "    </tr>\n",
       "    <tr>\n",
       "      <th>498</th>\n",
       "      <td>Status(_api=&lt;tweepy.api.API object at 0x7fcddb...</td>\n",
       "    </tr>\n",
       "    <tr>\n",
       "      <th>499</th>\n",
       "      <td>Status(_api=&lt;tweepy.api.API object at 0x7fcddb...</td>\n",
       "    </tr>\n",
       "  </tbody>\n",
       "</table>\n",
       "<p>500 rows × 1 columns</p>\n",
       "</div>"
      ],
      "text/plain": [
       "                                                     0\n",
       "0    Status(_api=<tweepy.api.API object at 0x7fcddb...\n",
       "1    Status(_api=<tweepy.api.API object at 0x7fcddb...\n",
       "2    Status(_api=<tweepy.api.API object at 0x7fcddb...\n",
       "3    Status(_api=<tweepy.api.API object at 0x7fcddb...\n",
       "4    Status(_api=<tweepy.api.API object at 0x7fcddb...\n",
       "..                                                 ...\n",
       "495  Status(_api=<tweepy.api.API object at 0x7fcddb...\n",
       "496  Status(_api=<tweepy.api.API object at 0x7fcddb...\n",
       "497  Status(_api=<tweepy.api.API object at 0x7fcddb...\n",
       "498  Status(_api=<tweepy.api.API object at 0x7fcddb...\n",
       "499  Status(_api=<tweepy.api.API object at 0x7fcddb...\n",
       "\n",
       "[500 rows x 1 columns]"
      ]
     },
     "execution_count": 25,
     "metadata": {},
     "output_type": "execute_result"
    }
   ],
   "source": [
    "# Shove results into DataFrame and see\n",
    "df = pd.DataFrame(item_results)\n",
    "df"
   ]
  },
  {
   "cell_type": "markdown",
   "metadata": {},
   "source": [
    "Ok....partial success.\n",
    "Pandas doesn't understand these `Status` objects we're trying to load into it. \n",
    "Whilst often people will load data into Pandas using .csv files, Pandas can create dataframes from python data structures such as lists and dictionaries."
   ]
  },
  {
   "cell_type": "code",
   "execution_count": 26,
   "metadata": {},
   "outputs": [
    {
     "data": {
      "text/html": [
       "<div>\n",
       "<style scoped>\n",
       "    .dataframe tbody tr th:only-of-type {\n",
       "        vertical-align: middle;\n",
       "    }\n",
       "\n",
       "    .dataframe tbody tr th {\n",
       "        vertical-align: top;\n",
       "    }\n",
       "\n",
       "    .dataframe thead th {\n",
       "        text-align: right;\n",
       "    }\n",
       "</style>\n",
       "<table border=\"1\" class=\"dataframe\">\n",
       "  <thead>\n",
       "    <tr style=\"text-align: right;\">\n",
       "      <th></th>\n",
       "      <th>name</th>\n",
       "      <th>age</th>\n",
       "    </tr>\n",
       "  </thead>\n",
       "  <tbody>\n",
       "    <tr>\n",
       "      <th>0</th>\n",
       "      <td>Fred</td>\n",
       "      <td>30</td>\n",
       "    </tr>\n",
       "    <tr>\n",
       "      <th>1</th>\n",
       "      <td>Wilma</td>\n",
       "      <td>27</td>\n",
       "    </tr>\n",
       "    <tr>\n",
       "      <th>2</th>\n",
       "      <td>Barney</td>\n",
       "      <td>32</td>\n",
       "    </tr>\n",
       "    <tr>\n",
       "      <th>3</th>\n",
       "      <td>Betty</td>\n",
       "      <td>26</td>\n",
       "    </tr>\n",
       "  </tbody>\n",
       "</table>\n",
       "</div>"
      ],
      "text/plain": [
       "     name  age\n",
       "0    Fred   30\n",
       "1   Wilma   27\n",
       "2  Barney   32\n",
       "3   Betty   26"
      ]
     },
     "execution_count": 26,
     "metadata": {},
     "output_type": "execute_result"
    }
   ],
   "source": [
    "flintstones_data = [{'name':'Fred', 'age':30},\n",
    "                    {'name':'Wilma', 'age':27},\n",
    "                    {'name':'Barney', 'age':32},\n",
    "                    {'name':'Betty', 'age':26}  ]\n",
    "\n",
    "toy_df = pd.DataFrame(flintstones_data)\n",
    "toy_df"
   ]
  },
  {
   "cell_type": "markdown",
   "metadata": {},
   "source": [
    "So we need to somehow convert all of our `status` objects into some sort of Python data structure like our Flintstones data....\n",
    "\n",
    "#### Luckily for us....\n",
    "The `._json` method attached to each `Status` turns the object into a dictionary."
   ]
  },
  {
   "cell_type": "code",
   "execution_count": 27,
   "metadata": {},
   "outputs": [
    {
     "name": "stdout",
     "output_type": "stream",
     "text": [
      "<class 'dict'>\n"
     ]
    },
    {
     "data": {
      "text/plain": [
       "{'created_at': 'Wed Nov 18 10:33:31 +0000 2020',\n",
       " 'id': 1329009838458859525,\n",
       " 'id_str': '1329009838458859525',\n",
       " 'full_text': 'Brexit committee exposing madness of Brexit\\n\\nA ham and cheese sandwich coming into Belfast from GB (think Marks and Spencer etc) would need \"two health certificates\". \\nBut problem escalates if lorry carrying the sandwiches also carrying 10 other types of sandwiches - all need HCs',\n",
       " 'truncated': False,\n",
       " 'display_text_range': [0, 280],\n",
       " 'entities': {'hashtags': [], 'symbols': [], 'user_mentions': [], 'urls': []},\n",
       " 'metadata': {'result_type': 'popular', 'iso_language_code': 'en'},\n",
       " 'source': '<a href=\"https://mobile.twitter.com\" rel=\"nofollow\">Twitter Web App</a>',\n",
       " 'in_reply_to_status_id': None,\n",
       " 'in_reply_to_status_id_str': None,\n",
       " 'in_reply_to_user_id': None,\n",
       " 'in_reply_to_user_id_str': None,\n",
       " 'in_reply_to_screen_name': None,\n",
       " 'user': {'id': 25876418,\n",
       "  'id_str': '25876418',\n",
       "  'name': \"lisa o'carroll\",\n",
       "  'screen_name': 'lisaocarroll',\n",
       "  'location': 'Citizen of everywhere',\n",
       "  'description': 'Guardian Brexit correspondent.Have a story we should cover? lisa.ocarroll@guardian.co.uk or try securedrop https://t.co/iB3x91MiSj',\n",
       "  'url': None,\n",
       "  'entities': {'description': {'urls': [{'url': 'https://t.co/iB3x91MiSj',\n",
       "      'expanded_url': 'https://www.theguardian.com/securedrop',\n",
       "      'display_url': 'theguardian.com/securedrop',\n",
       "      'indices': [107, 130]}]}},\n",
       "  'protected': False,\n",
       "  'followers_count': 42839,\n",
       "  'friends_count': 3065,\n",
       "  'listed_count': 1078,\n",
       "  'created_at': 'Sun Mar 22 20:43:06 +0000 2009',\n",
       "  'favourites_count': 1170,\n",
       "  'utc_offset': None,\n",
       "  'time_zone': None,\n",
       "  'geo_enabled': True,\n",
       "  'verified': True,\n",
       "  'statuses_count': 33068,\n",
       "  'lang': None,\n",
       "  'contributors_enabled': False,\n",
       "  'is_translator': False,\n",
       "  'is_translation_enabled': False,\n",
       "  'profile_background_color': 'C0DEED',\n",
       "  'profile_background_image_url': 'http://abs.twimg.com/images/themes/theme1/bg.png',\n",
       "  'profile_background_image_url_https': 'https://abs.twimg.com/images/themes/theme1/bg.png',\n",
       "  'profile_background_tile': True,\n",
       "  'profile_image_url': 'http://pbs.twimg.com/profile_images/3561423749/300f99f1152e297e9f2ed64c510acbe9_normal.jpeg',\n",
       "  'profile_image_url_https': 'https://pbs.twimg.com/profile_images/3561423749/300f99f1152e297e9f2ed64c510acbe9_normal.jpeg',\n",
       "  'profile_banner_url': 'https://pbs.twimg.com/profile_banners/25876418/1562024953',\n",
       "  'profile_link_color': '0084B4',\n",
       "  'profile_sidebar_border_color': 'C0DEED',\n",
       "  'profile_sidebar_fill_color': 'DDEEF6',\n",
       "  'profile_text_color': '333333',\n",
       "  'profile_use_background_image': True,\n",
       "  'has_extended_profile': False,\n",
       "  'default_profile': False,\n",
       "  'default_profile_image': False,\n",
       "  'following': None,\n",
       "  'follow_request_sent': None,\n",
       "  'notifications': None,\n",
       "  'translator_type': 'none'},\n",
       " 'geo': None,\n",
       " 'coordinates': None,\n",
       " 'place': None,\n",
       " 'contributors': None,\n",
       " 'is_quote_status': False,\n",
       " 'retweet_count': 856,\n",
       " 'favorite_count': 1839,\n",
       " 'favorited': False,\n",
       " 'retweeted': False,\n",
       " 'lang': 'en'}"
      ]
     },
     "execution_count": 27,
     "metadata": {},
     "output_type": "execute_result"
    }
   ],
   "source": [
    "single_tweet = item_results[0]\n",
    "print(type(single_tweet._json))\n",
    "single_tweet._json"
   ]
  },
  {
   "cell_type": "code",
   "execution_count": 28,
   "metadata": {},
   "outputs": [],
   "source": [
    "# Lets first create a new list of the transformed Status objects\n",
    "\n",
    "json_results = []\n",
    "\n",
    "for tweet in item_results:\n",
    "    json_results.append(tweet._json)\n",
    "    "
   ]
  },
  {
   "cell_type": "code",
   "execution_count": 35,
   "metadata": {},
   "outputs": [
    {
     "name": "stdout",
     "output_type": "stream",
     "text": [
      "<class 'pandas.core.frame.DataFrame'>\n",
      "RangeIndex: 500 entries, 0 to 499\n",
      "Data columns (total 31 columns):\n",
      " #   Column                     Non-Null Count  Dtype  \n",
      "---  ------                     --------------  -----  \n",
      " 0   created_at                 500 non-null    object \n",
      " 1   id                         500 non-null    int64  \n",
      " 2   id_str                     500 non-null    object \n",
      " 3   full_text                  500 non-null    object \n",
      " 4   truncated                  500 non-null    bool   \n",
      " 5   display_text_range         500 non-null    object \n",
      " 6   entities                   500 non-null    object \n",
      " 7   metadata                   500 non-null    object \n",
      " 8   source                     500 non-null    object \n",
      " 9   in_reply_to_status_id      105 non-null    float64\n",
      " 10  in_reply_to_status_id_str  105 non-null    object \n",
      " 11  in_reply_to_user_id        110 non-null    float64\n",
      " 12  in_reply_to_user_id_str    110 non-null    object \n",
      " 13  in_reply_to_screen_name    110 non-null    object \n",
      " 14  user                       500 non-null    object \n",
      " 15  geo                        1 non-null      object \n",
      " 16  coordinates                1 non-null      object \n",
      " 17  place                      6 non-null      object \n",
      " 18  contributors               0 non-null      object \n",
      " 19  is_quote_status            500 non-null    bool   \n",
      " 20  retweet_count              500 non-null    int64  \n",
      " 21  favorite_count             500 non-null    int64  \n",
      " 22  favorited                  500 non-null    bool   \n",
      " 23  retweeted                  500 non-null    bool   \n",
      " 24  lang                       500 non-null    object \n",
      " 25  extended_entities          32 non-null     object \n",
      " 26  possibly_sensitive         126 non-null    object \n",
      " 27  retweeted_status           311 non-null    object \n",
      " 28  quoted_status_id           56 non-null     float64\n",
      " 29  quoted_status_id_str       56 non-null     object \n",
      " 30  quoted_status              24 non-null     object \n",
      "dtypes: bool(4), float64(3), int64(3), object(21)\n",
      "memory usage: 107.5+ KB\n"
     ]
    }
   ],
   "source": [
    "# Now try...\n",
    "\n",
    "df = pd.DataFrame(json_results)\n",
    "df.info()"
   ]
  },
  {
   "cell_type": "markdown",
   "metadata": {},
   "source": [
    "If we check, we can see that the columns in the DataFrame, match the names of the attributes in our status objects, meaning each column represents that attribute, and each row represents a single Tweet/Status"
   ]
  },
  {
   "cell_type": "code",
   "execution_count": 37,
   "metadata": {},
   "outputs": [
    {
     "data": {
      "text/plain": [
       "dict_keys(['created_at', 'id', 'id_str', 'full_text', 'truncated', 'display_text_range', 'entities', 'metadata', 'source', 'in_reply_to_status_id', 'in_reply_to_status_id_str', 'in_reply_to_user_id', 'in_reply_to_user_id_str', 'in_reply_to_screen_name', 'user', 'geo', 'coordinates', 'place', 'contributors', 'is_quote_status', 'retweet_count', 'favorite_count', 'favorited', 'retweeted', 'lang'])"
      ]
     },
     "execution_count": 37,
     "metadata": {},
     "output_type": "execute_result"
    }
   ],
   "source": [
    "item_results[0]._json.keys()"
   ]
  },
  {
   "cell_type": "code",
   "execution_count": 38,
   "metadata": {},
   "outputs": [
    {
     "data": {
      "text/plain": [
       "Index(['created_at', 'id', 'id_str', 'full_text', 'truncated',\n",
       "       'display_text_range', 'entities', 'metadata', 'source',\n",
       "       'in_reply_to_status_id', 'in_reply_to_status_id_str',\n",
       "       'in_reply_to_user_id', 'in_reply_to_user_id_str',\n",
       "       'in_reply_to_screen_name', 'user', 'geo', 'coordinates', 'place',\n",
       "       'contributors', 'is_quote_status', 'retweet_count', 'favorite_count',\n",
       "       'favorited', 'retweeted', 'lang', 'extended_entities',\n",
       "       'possibly_sensitive', 'retweeted_status', 'quoted_status_id',\n",
       "       'quoted_status_id_str', 'quoted_status'],\n",
       "      dtype='object')"
      ]
     },
     "execution_count": 38,
     "metadata": {},
     "output_type": "execute_result"
    }
   ],
   "source": [
    "df.columns"
   ]
  },
  {
   "cell_type": "markdown",
   "metadata": {},
   "source": [
    "# 4. Saving Tweet Data\n",
    "\n",
    "We can finally save our data to disk if we like. In this case we're going to save to something called a `pickle` file. Why?"
   ]
  },
  {
   "cell_type": "code",
   "execution_count": 42,
   "metadata": {},
   "outputs": [
    {
     "data": {
      "text/plain": [
       "{'hashtags': [],\n",
       " 'symbols': [],\n",
       " 'user_mentions': [],\n",
       " 'urls': [],\n",
       " 'media': [{'id': 1329172825157070848,\n",
       "   'id_str': '1329172825157070848',\n",
       "   'indices': [92, 115],\n",
       "   'media_url': 'http://pbs.twimg.com/media/EnIrpGiW8AAbqug.jpg',\n",
       "   'media_url_https': 'https://pbs.twimg.com/media/EnIrpGiW8AAbqug.jpg',\n",
       "   'url': 'https://t.co/VPepcZKsrn',\n",
       "   'display_url': 'pic.twitter.com/VPepcZKsrn',\n",
       "   'expanded_url': 'https://twitter.com/JolyonMaugham/status/1329172827166085123/photo/1',\n",
       "   'type': 'photo',\n",
       "   'sizes': {'thumb': {'w': 150, 'h': 150, 'resize': 'crop'},\n",
       "    'large': {'w': 796, 'h': 424, 'resize': 'fit'},\n",
       "    'small': {'w': 680, 'h': 362, 'resize': 'fit'},\n",
       "    'medium': {'w': 796, 'h': 424, 'resize': 'fit'}}}]}"
      ]
     },
     "execution_count": 42,
     "metadata": {},
     "output_type": "execute_result"
    }
   ],
   "source": [
    "# If we examine our entities column...\n",
    "\n",
    "df['entities'].loc[2]"
   ]
  },
  {
   "cell_type": "markdown",
   "metadata": {},
   "source": [
    "The values in the entities columns aren't strings, they're dictionaries..."
   ]
  },
  {
   "cell_type": "code",
   "execution_count": 44,
   "metadata": {},
   "outputs": [
    {
     "data": {
      "text/plain": [
       "{'hashtags': [],\n",
       " 'symbols': [],\n",
       " 'user_mentions': [{'screen_name': 'rjbarfield1',\n",
       "   'name': 'Richard Barfield',\n",
       "   'id': 802130548072316928,\n",
       "   'id_str': '802130548072316928',\n",
       "   'indices': [3, 15]}],\n",
       " 'urls': []}"
      ]
     },
     "execution_count": 44,
     "metadata": {},
     "output_type": "execute_result"
    }
   ],
   "source": [
    "# Here is the first row's value in the 'entities' column\n",
    "df.loc[3,'entities']\n"
   ]
  },
  {
   "cell_type": "code",
   "execution_count": 45,
   "metadata": {},
   "outputs": [
    {
     "data": {
      "text/plain": [
       "dict"
      ]
     },
     "execution_count": 45,
     "metadata": {},
     "output_type": "execute_result"
    }
   ],
   "source": [
    "# The type of the value is dict - dictionary.\n",
    "type(df.loc[3,'entities'])"
   ]
  },
  {
   "cell_type": "code",
   "execution_count": 48,
   "metadata": {},
   "outputs": [
    {
     "data": {
      "text/plain": [
       "[{'screen_name': 'rjbarfield1',\n",
       "  'name': 'Richard Barfield',\n",
       "  'id': 802130548072316928,\n",
       "  'id_str': '802130548072316928',\n",
       "  'indices': [3, 15]}]"
      ]
     },
     "execution_count": 48,
     "metadata": {},
     "output_type": "execute_result"
    }
   ],
   "source": [
    "# and parts of it can be accessed like a dictionary\n",
    "\n",
    "df.loc[3,'entities']['user_mentions']"
   ]
  },
  {
   "cell_type": "markdown",
   "metadata": {},
   "source": [
    "<img src=\"https://github.com/Minyall/sc207_materials/blob/master/images/pickle.jpg?raw=true\" align=\"right\" height=\"200\">\n",
    "If we were to save this DataFrame as a .csv file, it would have to turn those dictionaries into strings, because .csv's don't understand Python objects. When we reloaded the data from a CSV our entities column would be a column of weird messy strings.\n",
    "\n",
    "### How do we solve this?\n",
    "\n",
    "# PICKLES!\n",
    "- A pickle file is a saved version of a python object. So long as it is saved and loaded with the same version of Pandas, it will retain all the data exactly in the state it is in now.\n",
    "\n",
    "How do we complete this highly complex procedure?...."
   ]
  },
  {
   "cell_type": "code",
   "execution_count": 49,
   "metadata": {},
   "outputs": [],
   "source": [
    "# Pickle it!\n",
    "\n",
    "df.to_pickle('my_tweet_df.pkl')"
   ]
  },
  {
   "cell_type": "code",
   "execution_count": 50,
   "metadata": {},
   "outputs": [],
   "source": [
    "new_df = pd.read_pickle('my_tweet_df.pkl')"
   ]
  },
  {
   "cell_type": "code",
   "execution_count": null,
   "metadata": {},
   "outputs": [],
   "source": []
  },
  {
   "cell_type": "code",
   "execution_count": 53,
   "metadata": {},
   "outputs": [
    {
     "data": {
      "text/plain": [
       "True"
      ]
     },
     "execution_count": 53,
     "metadata": {},
     "output_type": "execute_result"
    }
   ],
   "source": [
    "import os\n",
    "\n",
    "os.path.exists('brexit_tweets.csv')"
   ]
  },
  {
   "cell_type": "code",
   "execution_count": 71,
   "metadata": {},
   "outputs": [
    {
     "name": "stdout",
     "output_type": "stream",
     "text": [
      "1120\n"
     ]
    }
   ],
   "source": [
    "\n",
    "\n",
    "my_data_filename = 'twitter_data.pkl'\n",
    "query = 'brexit'\n",
    "n_items = 1000\n",
    "\n",
    "\n",
    "# First load in your data if you have it, otherwise create a new DataFrame\n",
    "\n",
    "if os.path.exists(my_data_filename):\n",
    "    df = pd.read_pickle(my_data_filename)\n",
    "    max_id = df['id'].max()\n",
    "else:\n",
    "    df = pd.DataFrame()\n",
    "    max_id = None\n",
    "    \n",
    "\n",
    "\n",
    "results = []\n",
    "our_cursor = tweepy.Cursor(api.search, q=query, count=100, tweet_mode='extended', since_id=max_id)\n",
    "\n",
    "for item in our_cursor.items(n_items):\n",
    "    results.append(item._json)\n",
    "\n",
    "current_data = pd.DataFrame(results)\n",
    "df = df.append(current_data)\n",
    "df = df.drop_duplicates('id')\n",
    "df.to_pickle(my_data_filename)\n",
    "\n",
    "print(len(df))"
   ]
  },
  {
   "cell_type": "code",
   "execution_count": 57,
   "metadata": {},
   "outputs": [
    {
     "data": {
      "text/plain": [
       "1329405851564724224"
      ]
     },
     "execution_count": 57,
     "metadata": {},
     "output_type": "execute_result"
    }
   ],
   "source": [
    "df['id'].max()"
   ]
  },
  {
   "cell_type": "code",
   "execution_count": 59,
   "metadata": {},
   "outputs": [
    {
     "data": {
      "text/plain": [
       "1329406493729361922"
      ]
     },
     "execution_count": 59,
     "metadata": {},
     "output_type": "execute_result"
    }
   ],
   "source": [
    "df['id'].max()"
   ]
  },
  {
   "cell_type": "code",
   "execution_count": 75,
   "metadata": {},
   "outputs": [],
   "source": [
    "my_data = pd.read_pickle('twitter_data.pkl')"
   ]
  },
  {
   "cell_type": "code",
   "execution_count": 77,
   "metadata": {},
   "outputs": [
    {
     "data": {
      "text/html": [
       "<div>\n",
       "<style scoped>\n",
       "    .dataframe tbody tr th:only-of-type {\n",
       "        vertical-align: middle;\n",
       "    }\n",
       "\n",
       "    .dataframe tbody tr th {\n",
       "        vertical-align: top;\n",
       "    }\n",
       "\n",
       "    .dataframe thead th {\n",
       "        text-align: right;\n",
       "    }\n",
       "</style>\n",
       "<table border=\"1\" class=\"dataframe\">\n",
       "  <thead>\n",
       "    <tr style=\"text-align: right;\">\n",
       "      <th></th>\n",
       "      <th>created_at</th>\n",
       "      <th>id</th>\n",
       "      <th>id_str</th>\n",
       "      <th>full_text</th>\n",
       "      <th>truncated</th>\n",
       "      <th>display_text_range</th>\n",
       "      <th>entities</th>\n",
       "      <th>metadata</th>\n",
       "      <th>source</th>\n",
       "      <th>in_reply_to_status_id</th>\n",
       "      <th>...</th>\n",
       "      <th>retweet_count</th>\n",
       "      <th>favorite_count</th>\n",
       "      <th>favorited</th>\n",
       "      <th>retweeted</th>\n",
       "      <th>lang</th>\n",
       "      <th>extended_entities</th>\n",
       "      <th>possibly_sensitive</th>\n",
       "      <th>quoted_status_id</th>\n",
       "      <th>quoted_status_id_str</th>\n",
       "      <th>quoted_status</th>\n",
       "    </tr>\n",
       "  </thead>\n",
       "  <tbody>\n",
       "    <tr>\n",
       "      <th>0</th>\n",
       "      <td>Thu Nov 19 12:51:54 +0000 2020</td>\n",
       "      <td>1329407050972078080</td>\n",
       "      <td>1329407050972078080</td>\n",
       "      <td>RT @nickreeves9876: The government is pumping ...</td>\n",
       "      <td>False</td>\n",
       "      <td>[0, 140]</td>\n",
       "      <td>{'hashtags': [], 'symbols': [], 'user_mentions...</td>\n",
       "      <td>{'iso_language_code': 'en', 'result_type': 're...</td>\n",
       "      <td>&lt;a href=\"http://twitter.com/download/iphone\" r...</td>\n",
       "      <td>NaN</td>\n",
       "      <td>...</td>\n",
       "      <td>20</td>\n",
       "      <td>0</td>\n",
       "      <td>False</td>\n",
       "      <td>False</td>\n",
       "      <td>en</td>\n",
       "      <td>NaN</td>\n",
       "      <td>NaN</td>\n",
       "      <td>NaN</td>\n",
       "      <td>NaN</td>\n",
       "      <td>NaN</td>\n",
       "    </tr>\n",
       "    <tr>\n",
       "      <th>1</th>\n",
       "      <td>Thu Nov 19 12:51:53 +0000 2020</td>\n",
       "      <td>1329407047272722432</td>\n",
       "      <td>1329407047272722432</td>\n",
       "      <td>@joncstone BREXIT. Does increase our freedom o...</td>\n",
       "      <td>False</td>\n",
       "      <td>[11, 143]</td>\n",
       "      <td>{'hashtags': [], 'symbols': [], 'user_mentions...</td>\n",
       "      <td>{'iso_language_code': 'en', 'result_type': 're...</td>\n",
       "      <td>&lt;a href=\"http://twitter.com/download/iphone\" r...</td>\n",
       "      <td>1.32939e+18</td>\n",
       "      <td>...</td>\n",
       "      <td>0</td>\n",
       "      <td>0</td>\n",
       "      <td>False</td>\n",
       "      <td>False</td>\n",
       "      <td>en</td>\n",
       "      <td>NaN</td>\n",
       "      <td>NaN</td>\n",
       "      <td>NaN</td>\n",
       "      <td>NaN</td>\n",
       "      <td>NaN</td>\n",
       "    </tr>\n",
       "    <tr>\n",
       "      <th>2</th>\n",
       "      <td>Thu Nov 19 12:51:51 +0000 2020</td>\n",
       "      <td>1329407035482517511</td>\n",
       "      <td>1329407035482517511</td>\n",
       "      <td>RT @archer_rs: The duplicitous Farage about to...</td>\n",
       "      <td>False</td>\n",
       "      <td>[0, 135]</td>\n",
       "      <td>{'hashtags': [{'text': 'Brexit', 'indices': [1...</td>\n",
       "      <td>{'iso_language_code': 'en', 'result_type': 're...</td>\n",
       "      <td>&lt;a href=\"http://twitter.com/download/android\" ...</td>\n",
       "      <td>NaN</td>\n",
       "      <td>...</td>\n",
       "      <td>32</td>\n",
       "      <td>0</td>\n",
       "      <td>False</td>\n",
       "      <td>False</td>\n",
       "      <td>en</td>\n",
       "      <td>NaN</td>\n",
       "      <td>NaN</td>\n",
       "      <td>NaN</td>\n",
       "      <td>NaN</td>\n",
       "      <td>NaN</td>\n",
       "    </tr>\n",
       "    <tr>\n",
       "      <th>3</th>\n",
       "      <td>Thu Nov 19 12:51:50 +0000 2020</td>\n",
       "      <td>1329407035000152065</td>\n",
       "      <td>1329407035000152065</td>\n",
       "      <td>RT @AcWailing: How Brexit voters were raised.....</td>\n",
       "      <td>False</td>\n",
       "      <td>[0, 71]</td>\n",
       "      <td>{'hashtags': [], 'symbols': [], 'user_mentions...</td>\n",
       "      <td>{'iso_language_code': 'en', 'result_type': 're...</td>\n",
       "      <td>&lt;a href=\"https://mobile.twitter.com\" rel=\"nofo...</td>\n",
       "      <td>NaN</td>\n",
       "      <td>...</td>\n",
       "      <td>1</td>\n",
       "      <td>0</td>\n",
       "      <td>False</td>\n",
       "      <td>False</td>\n",
       "      <td>en</td>\n",
       "      <td>{'media': [{'id': 1329406889902436352, 'id_str...</td>\n",
       "      <td>False</td>\n",
       "      <td>NaN</td>\n",
       "      <td>NaN</td>\n",
       "      <td>NaN</td>\n",
       "    </tr>\n",
       "    <tr>\n",
       "      <th>4</th>\n",
       "      <td>Thu Nov 19 12:51:50 +0000 2020</td>\n",
       "      <td>1329407031888011269</td>\n",
       "      <td>1329407031888011269</td>\n",
       "      <td>RT @MrsNigel: My dears, I am delighted to anno...</td>\n",
       "      <td>False</td>\n",
       "      <td>[0, 140]</td>\n",
       "      <td>{'hashtags': [], 'symbols': [], 'user_mentions...</td>\n",
       "      <td>{'iso_language_code': 'en', 'result_type': 're...</td>\n",
       "      <td>&lt;a href=\"http://twitter.com/download/android\" ...</td>\n",
       "      <td>NaN</td>\n",
       "      <td>...</td>\n",
       "      <td>19</td>\n",
       "      <td>0</td>\n",
       "      <td>False</td>\n",
       "      <td>False</td>\n",
       "      <td>en</td>\n",
       "      <td>NaN</td>\n",
       "      <td>NaN</td>\n",
       "      <td>NaN</td>\n",
       "      <td>NaN</td>\n",
       "      <td>NaN</td>\n",
       "    </tr>\n",
       "    <tr>\n",
       "      <th>...</th>\n",
       "      <td>...</td>\n",
       "      <td>...</td>\n",
       "      <td>...</td>\n",
       "      <td>...</td>\n",
       "      <td>...</td>\n",
       "      <td>...</td>\n",
       "      <td>...</td>\n",
       "      <td>...</td>\n",
       "      <td>...</td>\n",
       "      <td>...</td>\n",
       "      <td>...</td>\n",
       "      <td>...</td>\n",
       "      <td>...</td>\n",
       "      <td>...</td>\n",
       "      <td>...</td>\n",
       "      <td>...</td>\n",
       "      <td>...</td>\n",
       "      <td>...</td>\n",
       "      <td>...</td>\n",
       "      <td>...</td>\n",
       "      <td>...</td>\n",
       "    </tr>\n",
       "    <tr>\n",
       "      <th>93</th>\n",
       "      <td>Thu Nov 19 12:52:23 +0000 2020</td>\n",
       "      <td>1329407172472614912</td>\n",
       "      <td>1329407172472614912</td>\n",
       "      <td>RT @think__32: Thread and the state of play on...</td>\n",
       "      <td>False</td>\n",
       "      <td>[0, 56]</td>\n",
       "      <td>{'hashtags': [], 'symbols': [], 'user_mentions...</td>\n",
       "      <td>{'iso_language_code': 'en', 'result_type': 're...</td>\n",
       "      <td>&lt;a href=\"http://twitter.com/download/android\" ...</td>\n",
       "      <td>NaN</td>\n",
       "      <td>...</td>\n",
       "      <td>3</td>\n",
       "      <td>0</td>\n",
       "      <td>False</td>\n",
       "      <td>False</td>\n",
       "      <td>en</td>\n",
       "      <td>NaN</td>\n",
       "      <td>NaN</td>\n",
       "      <td>1.329401e+18</td>\n",
       "      <td>1329401467116130311</td>\n",
       "      <td>NaN</td>\n",
       "    </tr>\n",
       "    <tr>\n",
       "      <th>94</th>\n",
       "      <td>Thu Nov 19 12:52:23 +0000 2020</td>\n",
       "      <td>1329407171470221312</td>\n",
       "      <td>1329407171470221312</td>\n",
       "      <td>RT @YesCymru: \"Johnson is already under fire o...</td>\n",
       "      <td>False</td>\n",
       "      <td>[0, 140]</td>\n",
       "      <td>{'hashtags': [], 'symbols': [], 'user_mentions...</td>\n",
       "      <td>{'iso_language_code': 'en', 'result_type': 're...</td>\n",
       "      <td>&lt;a href=\"http://twitter.com/download/android\" ...</td>\n",
       "      <td>NaN</td>\n",
       "      <td>...</td>\n",
       "      <td>6</td>\n",
       "      <td>0</td>\n",
       "      <td>False</td>\n",
       "      <td>False</td>\n",
       "      <td>en</td>\n",
       "      <td>NaN</td>\n",
       "      <td>NaN</td>\n",
       "      <td>NaN</td>\n",
       "      <td>NaN</td>\n",
       "      <td>NaN</td>\n",
       "    </tr>\n",
       "    <tr>\n",
       "      <th>95</th>\n",
       "      <td>Thu Nov 19 12:52:23 +0000 2020</td>\n",
       "      <td>1329407170631397378</td>\n",
       "      <td>1329407170631397378</td>\n",
       "      <td>@JaineFenn It'll make the hang-em-flog-em Brex...</td>\n",
       "      <td>False</td>\n",
       "      <td>[11, 133]</td>\n",
       "      <td>{'hashtags': [], 'symbols': [], 'user_mentions...</td>\n",
       "      <td>{'iso_language_code': 'en', 'result_type': 're...</td>\n",
       "      <td>&lt;a href=\"https://mobile.twitter.com\" rel=\"nofo...</td>\n",
       "      <td>1.32939e+18</td>\n",
       "      <td>...</td>\n",
       "      <td>0</td>\n",
       "      <td>0</td>\n",
       "      <td>False</td>\n",
       "      <td>False</td>\n",
       "      <td>en</td>\n",
       "      <td>NaN</td>\n",
       "      <td>NaN</td>\n",
       "      <td>NaN</td>\n",
       "      <td>NaN</td>\n",
       "      <td>NaN</td>\n",
       "    </tr>\n",
       "    <tr>\n",
       "      <th>96</th>\n",
       "      <td>Thu Nov 19 12:52:23 +0000 2020</td>\n",
       "      <td>1329407169561849861</td>\n",
       "      <td>1329407169561849861</td>\n",
       "      <td>Brexit endgame: no deal nerves creeping in amo...</td>\n",
       "      <td>False</td>\n",
       "      <td>[0, 113]</td>\n",
       "      <td>{'hashtags': [{'text': 'Conservatives', 'indic...</td>\n",
       "      <td>{'iso_language_code': 'en', 'result_type': 're...</td>\n",
       "      <td>&lt;a href=\"https://mobile.twitter.com\" rel=\"nofo...</td>\n",
       "      <td>NaN</td>\n",
       "      <td>...</td>\n",
       "      <td>0</td>\n",
       "      <td>0</td>\n",
       "      <td>False</td>\n",
       "      <td>False</td>\n",
       "      <td>en</td>\n",
       "      <td>NaN</td>\n",
       "      <td>False</td>\n",
       "      <td>NaN</td>\n",
       "      <td>NaN</td>\n",
       "      <td>NaN</td>\n",
       "    </tr>\n",
       "    <tr>\n",
       "      <th>97</th>\n",
       "      <td>Thu Nov 19 12:52:23 +0000 2020</td>\n",
       "      <td>1329407169280815110</td>\n",
       "      <td>1329407169280815110</td>\n",
       "      <td>RT @TheNewEuropean: Liz Truss refuses to expla...</td>\n",
       "      <td>False</td>\n",
       "      <td>[0, 127]</td>\n",
       "      <td>{'hashtags': [], 'symbols': [], 'user_mentions...</td>\n",
       "      <td>{'iso_language_code': 'en', 'result_type': 're...</td>\n",
       "      <td>&lt;a href=\"http://twitter.com/download/android\" ...</td>\n",
       "      <td>NaN</td>\n",
       "      <td>...</td>\n",
       "      <td>56</td>\n",
       "      <td>0</td>\n",
       "      <td>False</td>\n",
       "      <td>False</td>\n",
       "      <td>en</td>\n",
       "      <td>NaN</td>\n",
       "      <td>False</td>\n",
       "      <td>NaN</td>\n",
       "      <td>NaN</td>\n",
       "      <td>NaN</td>\n",
       "    </tr>\n",
       "  </tbody>\n",
       "</table>\n",
       "<p>1120 rows × 31 columns</p>\n",
       "</div>"
      ],
      "text/plain": [
       "                        created_at                   id               id_str  \\\n",
       "0   Thu Nov 19 12:51:54 +0000 2020  1329407050972078080  1329407050972078080   \n",
       "1   Thu Nov 19 12:51:53 +0000 2020  1329407047272722432  1329407047272722432   \n",
       "2   Thu Nov 19 12:51:51 +0000 2020  1329407035482517511  1329407035482517511   \n",
       "3   Thu Nov 19 12:51:50 +0000 2020  1329407035000152065  1329407035000152065   \n",
       "4   Thu Nov 19 12:51:50 +0000 2020  1329407031888011269  1329407031888011269   \n",
       "..                             ...                  ...                  ...   \n",
       "93  Thu Nov 19 12:52:23 +0000 2020  1329407172472614912  1329407172472614912   \n",
       "94  Thu Nov 19 12:52:23 +0000 2020  1329407171470221312  1329407171470221312   \n",
       "95  Thu Nov 19 12:52:23 +0000 2020  1329407170631397378  1329407170631397378   \n",
       "96  Thu Nov 19 12:52:23 +0000 2020  1329407169561849861  1329407169561849861   \n",
       "97  Thu Nov 19 12:52:23 +0000 2020  1329407169280815110  1329407169280815110   \n",
       "\n",
       "                                            full_text  truncated  \\\n",
       "0   RT @nickreeves9876: The government is pumping ...      False   \n",
       "1   @joncstone BREXIT. Does increase our freedom o...      False   \n",
       "2   RT @archer_rs: The duplicitous Farage about to...      False   \n",
       "3   RT @AcWailing: How Brexit voters were raised.....      False   \n",
       "4   RT @MrsNigel: My dears, I am delighted to anno...      False   \n",
       "..                                                ...        ...   \n",
       "93  RT @think__32: Thread and the state of play on...      False   \n",
       "94  RT @YesCymru: \"Johnson is already under fire o...      False   \n",
       "95  @JaineFenn It'll make the hang-em-flog-em Brex...      False   \n",
       "96  Brexit endgame: no deal nerves creeping in amo...      False   \n",
       "97  RT @TheNewEuropean: Liz Truss refuses to expla...      False   \n",
       "\n",
       "   display_text_range                                           entities  \\\n",
       "0            [0, 140]  {'hashtags': [], 'symbols': [], 'user_mentions...   \n",
       "1           [11, 143]  {'hashtags': [], 'symbols': [], 'user_mentions...   \n",
       "2            [0, 135]  {'hashtags': [{'text': 'Brexit', 'indices': [1...   \n",
       "3             [0, 71]  {'hashtags': [], 'symbols': [], 'user_mentions...   \n",
       "4            [0, 140]  {'hashtags': [], 'symbols': [], 'user_mentions...   \n",
       "..                ...                                                ...   \n",
       "93            [0, 56]  {'hashtags': [], 'symbols': [], 'user_mentions...   \n",
       "94           [0, 140]  {'hashtags': [], 'symbols': [], 'user_mentions...   \n",
       "95          [11, 133]  {'hashtags': [], 'symbols': [], 'user_mentions...   \n",
       "96           [0, 113]  {'hashtags': [{'text': 'Conservatives', 'indic...   \n",
       "97           [0, 127]  {'hashtags': [], 'symbols': [], 'user_mentions...   \n",
       "\n",
       "                                             metadata  \\\n",
       "0   {'iso_language_code': 'en', 'result_type': 're...   \n",
       "1   {'iso_language_code': 'en', 'result_type': 're...   \n",
       "2   {'iso_language_code': 'en', 'result_type': 're...   \n",
       "3   {'iso_language_code': 'en', 'result_type': 're...   \n",
       "4   {'iso_language_code': 'en', 'result_type': 're...   \n",
       "..                                                ...   \n",
       "93  {'iso_language_code': 'en', 'result_type': 're...   \n",
       "94  {'iso_language_code': 'en', 'result_type': 're...   \n",
       "95  {'iso_language_code': 'en', 'result_type': 're...   \n",
       "96  {'iso_language_code': 'en', 'result_type': 're...   \n",
       "97  {'iso_language_code': 'en', 'result_type': 're...   \n",
       "\n",
       "                                               source in_reply_to_status_id  \\\n",
       "0   <a href=\"http://twitter.com/download/iphone\" r...                   NaN   \n",
       "1   <a href=\"http://twitter.com/download/iphone\" r...           1.32939e+18   \n",
       "2   <a href=\"http://twitter.com/download/android\" ...                   NaN   \n",
       "3   <a href=\"https://mobile.twitter.com\" rel=\"nofo...                   NaN   \n",
       "4   <a href=\"http://twitter.com/download/android\" ...                   NaN   \n",
       "..                                                ...                   ...   \n",
       "93  <a href=\"http://twitter.com/download/android\" ...                   NaN   \n",
       "94  <a href=\"http://twitter.com/download/android\" ...                   NaN   \n",
       "95  <a href=\"https://mobile.twitter.com\" rel=\"nofo...           1.32939e+18   \n",
       "96  <a href=\"https://mobile.twitter.com\" rel=\"nofo...                   NaN   \n",
       "97  <a href=\"http://twitter.com/download/android\" ...                   NaN   \n",
       "\n",
       "    ... retweet_count favorite_count favorited retweeted lang  \\\n",
       "0   ...            20              0     False     False   en   \n",
       "1   ...             0              0     False     False   en   \n",
       "2   ...            32              0     False     False   en   \n",
       "3   ...             1              0     False     False   en   \n",
       "4   ...            19              0     False     False   en   \n",
       "..  ...           ...            ...       ...       ...  ...   \n",
       "93  ...             3              0     False     False   en   \n",
       "94  ...             6              0     False     False   en   \n",
       "95  ...             0              0     False     False   en   \n",
       "96  ...             0              0     False     False   en   \n",
       "97  ...            56              0     False     False   en   \n",
       "\n",
       "                                    extended_entities possibly_sensitive  \\\n",
       "0                                                 NaN                NaN   \n",
       "1                                                 NaN                NaN   \n",
       "2                                                 NaN                NaN   \n",
       "3   {'media': [{'id': 1329406889902436352, 'id_str...              False   \n",
       "4                                                 NaN                NaN   \n",
       "..                                                ...                ...   \n",
       "93                                                NaN                NaN   \n",
       "94                                                NaN                NaN   \n",
       "95                                                NaN                NaN   \n",
       "96                                                NaN              False   \n",
       "97                                                NaN              False   \n",
       "\n",
       "   quoted_status_id quoted_status_id_str quoted_status  \n",
       "0               NaN                  NaN           NaN  \n",
       "1               NaN                  NaN           NaN  \n",
       "2               NaN                  NaN           NaN  \n",
       "3               NaN                  NaN           NaN  \n",
       "4               NaN                  NaN           NaN  \n",
       "..              ...                  ...           ...  \n",
       "93     1.329401e+18  1329401467116130311           NaN  \n",
       "94              NaN                  NaN           NaN  \n",
       "95              NaN                  NaN           NaN  \n",
       "96              NaN                  NaN           NaN  \n",
       "97              NaN                  NaN           NaN  \n",
       "\n",
       "[1120 rows x 31 columns]"
      ]
     },
     "execution_count": 77,
     "metadata": {},
     "output_type": "execute_result"
    }
   ],
   "source": [
    "my_data"
   ]
  },
  {
   "cell_type": "code",
   "execution_count": null,
   "metadata": {},
   "outputs": [],
   "source": []
  }
 ],
 "metadata": {
  "kernelspec": {
   "display_name": "Python [conda env:teaching]",
   "language": "python",
   "name": "conda-env-teaching-py"
  },
  "language_info": {
   "codemirror_mode": {
    "name": "ipython",
    "version": 3
   },
   "file_extension": ".py",
   "mimetype": "text/x-python",
   "name": "python",
   "nbconvert_exporter": "python",
   "pygments_lexer": "ipython3",
   "version": "3.7.8"
  }
 },
 "nbformat": 4,
 "nbformat_minor": 4
}
