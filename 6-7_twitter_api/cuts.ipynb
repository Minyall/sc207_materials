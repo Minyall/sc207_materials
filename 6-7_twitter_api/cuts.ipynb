{
 "cells": [
  {
   "cell_type": "code",
   "execution_count": null,
   "metadata": {},
   "outputs": [],
   "source": []
  },
  {
   "cell_type": "markdown",
   "metadata": {},
   "source": [
    "One way to handle this is to trim off accounts above and below a certain range. We trim off incredibly high follower accounts as outliers, and we trim out very low follower accounts as noise within the data. This is very much an art rather than a science!"
   ]
  },
  {
   "cell_type": "code",
   "execution_count": 17,
   "metadata": {},
   "outputs": [
    {
     "data": {
      "text/html": [
       "<div>\n",
       "<style scoped>\n",
       "    .dataframe tbody tr th:only-of-type {\n",
       "        vertical-align: middle;\n",
       "    }\n",
       "\n",
       "    .dataframe tbody tr th {\n",
       "        vertical-align: top;\n",
       "    }\n",
       "\n",
       "    .dataframe thead th {\n",
       "        text-align: right;\n",
       "    }\n",
       "</style>\n",
       "<table border=\"1\" class=\"dataframe\">\n",
       "  <thead>\n",
       "    <tr style=\"text-align: right;\">\n",
       "      <th></th>\n",
       "      <th>id</th>\n",
       "      <th>user.followers_count</th>\n",
       "      <th>favorite_count</th>\n",
       "      <th>retweet_count</th>\n",
       "    </tr>\n",
       "  </thead>\n",
       "  <tbody>\n",
       "    <tr>\n",
       "      <th>count</th>\n",
       "      <td>4.658000e+03</td>\n",
       "      <td>4.658000e+03</td>\n",
       "      <td>4658.000000</td>\n",
       "      <td>4658.000000</td>\n",
       "    </tr>\n",
       "    <tr>\n",
       "      <th>mean</th>\n",
       "      <td>1.329150e+18</td>\n",
       "      <td>7.362115e+04</td>\n",
       "      <td>249.453199</td>\n",
       "      <td>50.468227</td>\n",
       "    </tr>\n",
       "    <tr>\n",
       "      <th>std</th>\n",
       "      <td>1.302000e+16</td>\n",
       "      <td>1.077477e+06</td>\n",
       "      <td>1964.622280</td>\n",
       "      <td>438.713522</td>\n",
       "    </tr>\n",
       "    <tr>\n",
       "      <th>min</th>\n",
       "      <td>6.522691e+17</td>\n",
       "      <td>0.000000e+00</td>\n",
       "      <td>0.000000</td>\n",
       "      <td>0.000000</td>\n",
       "    </tr>\n",
       "    <tr>\n",
       "      <th>50%</th>\n",
       "      <td>1.329727e+18</td>\n",
       "      <td>1.393000e+03</td>\n",
       "      <td>2.000000</td>\n",
       "      <td>0.000000</td>\n",
       "    </tr>\n",
       "    <tr>\n",
       "      <th>90%</th>\n",
       "      <td>1.330130e+18</td>\n",
       "      <td>3.043630e+04</td>\n",
       "      <td>181.000000</td>\n",
       "      <td>41.000000</td>\n",
       "    </tr>\n",
       "    <tr>\n",
       "      <th>99%</th>\n",
       "      <td>1.330137e+18</td>\n",
       "      <td>7.558273e+05</td>\n",
       "      <td>5015.240000</td>\n",
       "      <td>1072.310000</td>\n",
       "    </tr>\n",
       "    <tr>\n",
       "      <th>99.9%</th>\n",
       "      <td>1.330160e+18</td>\n",
       "      <td>7.653992e+06</td>\n",
       "      <td>30253.921000</td>\n",
       "      <td>5045.858000</td>\n",
       "    </tr>\n",
       "    <tr>\n",
       "      <th>99.99%</th>\n",
       "      <td>1.330160e+18</td>\n",
       "      <td>4.661530e+07</td>\n",
       "      <td>56051.645000</td>\n",
       "      <td>15108.330500</td>\n",
       "    </tr>\n",
       "    <tr>\n",
       "      <th>max</th>\n",
       "      <td>1.330160e+18</td>\n",
       "      <td>4.661536e+07</td>\n",
       "      <td>67764.000000</td>\n",
       "      <td>21691.000000</td>\n",
       "    </tr>\n",
       "  </tbody>\n",
       "</table>\n",
       "</div>"
      ],
      "text/plain": [
       "                  id  user.followers_count  favorite_count  retweet_count\n",
       "count   4.658000e+03          4.658000e+03     4658.000000    4658.000000\n",
       "mean    1.329150e+18          7.362115e+04      249.453199      50.468227\n",
       "std     1.302000e+16          1.077477e+06     1964.622280     438.713522\n",
       "min     6.522691e+17          0.000000e+00        0.000000       0.000000\n",
       "50%     1.329727e+18          1.393000e+03        2.000000       0.000000\n",
       "90%     1.330130e+18          3.043630e+04      181.000000      41.000000\n",
       "99%     1.330137e+18          7.558273e+05     5015.240000    1072.310000\n",
       "99.9%   1.330160e+18          7.653992e+06    30253.921000    5045.858000\n",
       "99.99%  1.330160e+18          4.661530e+07    56051.645000   15108.330500\n",
       "max     1.330160e+18          4.661536e+07    67764.000000   21691.000000"
      ]
     },
     "execution_count": 17,
     "metadata": {},
     "output_type": "execute_result"
    }
   ],
   "source": [
    "df[subset].describe(percentiles=[0.9,0.99,0.999, 0.9999])"
   ]
  },
  {
   "cell_type": "markdown",
   "metadata": {},
   "source": [
    "Lets filter out anyone in the bottom 50% of followers, and anyone in the top 0.1%."
   ]
  },
  {
   "cell_type": "code",
   "execution_count": 18,
   "metadata": {},
   "outputs": [],
   "source": [
    "trim_val = 'user.followers_count'\n",
    "bottom_trim = df[trim_val].quantile(0.50)\n",
    "upper_trim = df[trim_val].quantile(0.99)\n",
    "\n",
    "trim_filter = (bottom_trim < df[trim_val]) & (df[trim_val] < upper_trim)"
   ]
  },
  {
   "cell_type": "code",
   "execution_count": 19,
   "metadata": {},
   "outputs": [
    {
     "data": {
      "text/html": [
       "<div>\n",
       "<style scoped>\n",
       "    .dataframe tbody tr th:only-of-type {\n",
       "        vertical-align: middle;\n",
       "    }\n",
       "\n",
       "    .dataframe tbody tr th {\n",
       "        vertical-align: top;\n",
       "    }\n",
       "\n",
       "    .dataframe thead th {\n",
       "        text-align: right;\n",
       "    }\n",
       "</style>\n",
       "<table border=\"1\" class=\"dataframe\">\n",
       "  <thead>\n",
       "    <tr style=\"text-align: right;\">\n",
       "      <th></th>\n",
       "      <th>id</th>\n",
       "      <th>user.followers_count</th>\n",
       "      <th>favorite_count</th>\n",
       "      <th>retweet_count</th>\n",
       "    </tr>\n",
       "  </thead>\n",
       "  <tbody>\n",
       "    <tr>\n",
       "      <th>count</th>\n",
       "      <td>2.282000e+03</td>\n",
       "      <td>2282.000000</td>\n",
       "      <td>2282.000000</td>\n",
       "      <td>2282.000000</td>\n",
       "    </tr>\n",
       "    <tr>\n",
       "      <th>mean</th>\n",
       "      <td>1.328436e+18</td>\n",
       "      <td>32720.843996</td>\n",
       "      <td>440.992550</td>\n",
       "      <td>92.922875</td>\n",
       "    </tr>\n",
       "    <tr>\n",
       "      <th>std</th>\n",
       "      <td>1.849292e+16</td>\n",
       "      <td>92463.860939</td>\n",
       "      <td>2445.485495</td>\n",
       "      <td>593.731765</td>\n",
       "    </tr>\n",
       "    <tr>\n",
       "      <th>min</th>\n",
       "      <td>6.522691e+17</td>\n",
       "      <td>1394.000000</td>\n",
       "      <td>0.000000</td>\n",
       "      <td>0.000000</td>\n",
       "    </tr>\n",
       "    <tr>\n",
       "      <th>25%</th>\n",
       "      <td>1.329702e+18</td>\n",
       "      <td>2820.250000</td>\n",
       "      <td>2.000000</td>\n",
       "      <td>0.000000</td>\n",
       "    </tr>\n",
       "    <tr>\n",
       "      <th>50%</th>\n",
       "      <td>1.329773e+18</td>\n",
       "      <td>5878.500000</td>\n",
       "      <td>13.000000</td>\n",
       "      <td>3.000000</td>\n",
       "    </tr>\n",
       "    <tr>\n",
       "      <th>75%</th>\n",
       "      <td>1.330111e+18</td>\n",
       "      <td>17920.000000</td>\n",
       "      <td>98.750000</td>\n",
       "      <td>23.750000</td>\n",
       "    </tr>\n",
       "    <tr>\n",
       "      <th>max</th>\n",
       "      <td>1.330160e+18</td>\n",
       "      <td>755826.000000</td>\n",
       "      <td>67764.000000</td>\n",
       "      <td>21691.000000</td>\n",
       "    </tr>\n",
       "  </tbody>\n",
       "</table>\n",
       "</div>"
      ],
      "text/plain": [
       "                 id  user.followers_count  favorite_count  retweet_count\n",
       "count  2.282000e+03           2282.000000     2282.000000    2282.000000\n",
       "mean   1.328436e+18          32720.843996      440.992550      92.922875\n",
       "std    1.849292e+16          92463.860939     2445.485495     593.731765\n",
       "min    6.522691e+17           1394.000000        0.000000       0.000000\n",
       "25%    1.329702e+18           2820.250000        2.000000       0.000000\n",
       "50%    1.329773e+18           5878.500000       13.000000       3.000000\n",
       "75%    1.330111e+18          17920.000000       98.750000      23.750000\n",
       "max    1.330160e+18         755826.000000    67764.000000   21691.000000"
      ]
     },
     "execution_count": 19,
     "metadata": {},
     "output_type": "execute_result"
    }
   ],
   "source": [
    "trim_df = df[trim_filter]\n",
    "trim_df[subset].describe()"
   ]
  },
  {
   "cell_type": "code",
   "execution_count": 20,
   "metadata": {},
   "outputs": [
    {
     "data": {
      "image/png": "[encoded data removed]",
      "text/plain": [
       "<Figure size 720x360 with 1 Axes>"
      ]
     },
     "metadata": {
      "needs_background": "light"
     },
     "output_type": "display_data"
    }
   ],
   "source": [
    "plot = sns.lmplot(data=trim_df,x='user.followers_count',y='favorite_count',fit_reg=True)\n",
    "fig = plt.gcf()\n",
    "fig.set_size_inches(10, 5)\n",
    "plt.show()"
   ]
  },
  {
   "cell_type": "code",
   "execution_count": 21,
   "metadata": {},
   "outputs": [
    {
     "data": {
      "image/png": "[encoded data removed]",
      "text/plain": [
       "<Figure size 720x360 with 1 Axes>"
      ]
     },
     "metadata": {
      "needs_background": "light"
     },
     "output_type": "display_data"
    }
   ],
   "source": [
    "plot = sns.lmplot(data=trim_df,x='user.followers_count',y='retweet_count',fit_reg=True)\n",
    "fig = plt.gcf()\n",
    "fig.set_size_inches(10, 5)\n",
    "plt.show()"
   ]
  },
  {
   "cell_type": "markdown",
   "metadata": {},
   "source": [
    "In general, it often doesn't make too much difference to the trends we see."
   ]
  }
 ],
 "metadata": {
  "kernelspec": {
   "display_name": "",
   "name": ""
  },
  "language_info": {
   "name": ""
  }
 },
 "nbformat": 4,
 "nbformat_minor": 4
}
