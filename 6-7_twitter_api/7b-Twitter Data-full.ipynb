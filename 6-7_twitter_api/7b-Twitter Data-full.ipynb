{
 "cells": [
  {
   "cell_type": "markdown",
   "metadata": {},
   "source": [
    "# SC207 - Session 7\n",
    "# APIs - Exploring and Summarising Twitter Data\n",
    "<img src=\"https://github.com/Minyall/sc207_materials/blob/master/images/tweepy.jpg?raw=true\" align=\"right\" width=\"300\">\n",
    "\n",
    "\n",
    "What kinds of exploratory analysis can we run on social media data? This session covers various examples of the kinds of insights that can be gathered through the analysis of social media data, and how to present those results.\n",
    "\n",
    "[Tweepy Documentation](http://docs.tweepy.org/en/stable/)\n",
    "\n",
    "## Section b) Exploring your data"
   ]
  },
  {
   "cell_type": "code",
   "execution_count": 1,
   "metadata": {},
   "outputs": [],
   "source": [
    "import pandas as pd\n",
    "import seaborn as sns\n",
    "import matplotlib.pyplot as plt"
   ]
  },
  {
   "cell_type": "code",
   "execution_count": 2,
   "metadata": {},
   "outputs": [],
   "source": [
    "def tweet_url(row):\n",
    "    return f\"https://twitter.com/{row['user.screen_name']}/status/{row['id']}\""
   ]
  },
  {
   "cell_type": "code",
   "execution_count": 3,
   "metadata": {},
   "outputs": [
    {
     "data": {
      "text/plain": [
       "24214"
      ]
     },
     "execution_count": 3,
     "metadata": {},
     "output_type": "execute_result"
    }
   ],
   "source": [
    "df = pd.read_pickle('example_twitter_data_unpacked.pkl')\n",
    "len(df)"
   ]
  },
  {
   "cell_type": "code",
   "execution_count": 4,
   "metadata": {},
   "outputs": [],
   "source": [
    "original_tweets_filter = df['retweeted_status.id'].isna()\n",
    "df = df[original_tweets_filter]"
   ]
  },
  {
   "cell_type": "code",
   "execution_count": 5,
   "metadata": {},
   "outputs": [
    {
     "name": "stdout",
     "output_type": "stream",
     "text": [
      "<class 'pandas.core.frame.DataFrame'>\n",
      "Int64Index: 4658 entries, 2 to 24213\n",
      "Columns: 352 entries, created_at to coordinates.coordinates\n",
      "dtypes: bool(15), float64(75), int64(9), object(253)\n",
      "memory usage: 12.1+ MB\n"
     ]
    }
   ],
   "source": [
    "df.info()"
   ]
  },
  {
   "cell_type": "markdown",
   "metadata": {},
   "source": [
    "## Explorations: Favourite Tweets\n",
    "A simple one to begin with. Which tweets got the most 'favourites' or hearts?\n",
    "Let's look at the top 10"
   ]
  },
  {
   "cell_type": "code",
   "execution_count": 6,
   "metadata": {},
   "outputs": [
    {
     "name": "stdout",
     "output_type": "stream",
     "text": [
      "**********\n",
      "INDEX: 23211\n",
      "USER: MrMichaelSpicer\n",
      "FAV: 67764\n",
      "RT: 21691\n",
      "the room next door - Priti Patel https://t.co/kwgEdJKGLr\n",
      "https://twitter.com/MrMichaelSpicer/status/1224619601738137600\n",
      "**********\n",
      "INDEX: 22995\n",
      "USER: DeborahMeaden\n",
      "FAV: 42614\n",
      "RT: 4519\n",
      "Priti Patel should resign (again) or be sacked. If you can’t read the effect you are having on people you are a pretty poor Manager let alone Minister.\n",
      "https://twitter.com/DeborahMeaden/status/1329848910794383361\n",
      "**********\n",
      "INDEX: 22315\n",
      "USER: mrjamesob\n",
      "FAV: 40526\n",
      "RT: 2398\n",
      "Can’t believe Priti Patel is a bully. She seems so nice.\n",
      "https://twitter.com/mrjamesob/status/1329694268718534656\n",
      "**********\n",
      "INDEX: 23346\n",
      "USER: TwitOpOldFarts\n",
      "FAV: 35400\n",
      "RT: 6657\n",
      "Priti Patel - the sort of person who would unplug your life support to charge her mobile phone\n",
      "https://twitter.com/TwitOpOldFarts/status/1311376007375527939\n",
      "**********\n",
      "INDEX: 23568\n",
      "USER: frankieboyle\n",
      "FAV: 32650\n",
      "RT: 5444\n",
      "Priti Patel is like a candidate from a version of The Apprentice where you want to work for Satan\n",
      "https://twitter.com/frankieboyle/status/1249007483571625987\n"
     ]
    }
   ],
   "source": [
    "subset = ['id','user.screen_name','user.followers_count','favorite_count','retweet_count','full_text']\n",
    "\n",
    "top_favs = df[subset].sort_values(by='favorite_count', ascending=False).head(5)\n",
    "\n",
    "for index_number, row in top_favs.iterrows():\n",
    "    \n",
    "    print('*'*10)\n",
    "    print(\"INDEX:\", index_number)\n",
    "    print(\"USER:\", row['user.screen_name'])\n",
    "    print(\"FAV:\", row['favorite_count'])\n",
    "    print(\"RT:\", row['retweet_count'])\n",
    "    print(row['full_text'])\n",
    "    print(tweet_url(row))"
   ]
  },
  {
   "cell_type": "markdown",
   "metadata": {},
   "source": [
    "If you prefer, you can always export subsets of your data like this one, to a csv file to easily view in Excel or similar."
   ]
  },
  {
   "cell_type": "code",
   "execution_count": 7,
   "metadata": {},
   "outputs": [
    {
     "data": {
      "text/html": [
       "<div>\n",
       "<style scoped>\n",
       "    .dataframe tbody tr th:only-of-type {\n",
       "        vertical-align: middle;\n",
       "    }\n",
       "\n",
       "    .dataframe tbody tr th {\n",
       "        vertical-align: top;\n",
       "    }\n",
       "\n",
       "    .dataframe thead th {\n",
       "        text-align: right;\n",
       "    }\n",
       "</style>\n",
       "<table border=\"1\" class=\"dataframe\">\n",
       "  <thead>\n",
       "    <tr style=\"text-align: right;\">\n",
       "      <th></th>\n",
       "      <th>id</th>\n",
       "      <th>user.screen_name</th>\n",
       "      <th>user.followers_count</th>\n",
       "      <th>favorite_count</th>\n",
       "      <th>retweet_count</th>\n",
       "      <th>full_text</th>\n",
       "    </tr>\n",
       "  </thead>\n",
       "  <tbody>\n",
       "    <tr>\n",
       "      <th>23211</th>\n",
       "      <td>1224619601738137600</td>\n",
       "      <td>MrMichaelSpicer</td>\n",
       "      <td>401820</td>\n",
       "      <td>67764</td>\n",
       "      <td>21691</td>\n",
       "      <td>the room next door - Priti Patel https://t.co/...</td>\n",
       "    </tr>\n",
       "    <tr>\n",
       "      <th>22995</th>\n",
       "      <td>1329848910794383361</td>\n",
       "      <td>DeborahMeaden</td>\n",
       "      <td>424433</td>\n",
       "      <td>42614</td>\n",
       "      <td>4519</td>\n",
       "      <td>Priti Patel should resign (again) or be sacked...</td>\n",
       "    </tr>\n",
       "    <tr>\n",
       "      <th>22315</th>\n",
       "      <td>1329694268718534656</td>\n",
       "      <td>mrjamesob</td>\n",
       "      <td>755829</td>\n",
       "      <td>40526</td>\n",
       "      <td>2398</td>\n",
       "      <td>Can’t believe Priti Patel is a bully. She seem...</td>\n",
       "    </tr>\n",
       "    <tr>\n",
       "      <th>23346</th>\n",
       "      <td>1311376007375527939</td>\n",
       "      <td>TwitOpOldFarts</td>\n",
       "      <td>780</td>\n",
       "      <td>35400</td>\n",
       "      <td>6657</td>\n",
       "      <td>Priti Patel - the sort of person who would unp...</td>\n",
       "    </tr>\n",
       "    <tr>\n",
       "      <th>23568</th>\n",
       "      <td>1249007483571625987</td>\n",
       "      <td>frankieboyle</td>\n",
       "      <td>2824176</td>\n",
       "      <td>32650</td>\n",
       "      <td>5444</td>\n",
       "      <td>Priti Patel is like a candidate from a version...</td>\n",
       "    </tr>\n",
       "  </tbody>\n",
       "</table>\n",
       "</div>"
      ],
      "text/plain": [
       "                        id user.screen_name  user.followers_count  \\\n",
       "23211  1224619601738137600  MrMichaelSpicer                401820   \n",
       "22995  1329848910794383361    DeborahMeaden                424433   \n",
       "22315  1329694268718534656        mrjamesob                755829   \n",
       "23346  1311376007375527939   TwitOpOldFarts                   780   \n",
       "23568  1249007483571625987     frankieboyle               2824176   \n",
       "\n",
       "       favorite_count  retweet_count  \\\n",
       "23211           67764          21691   \n",
       "22995           42614           4519   \n",
       "22315           40526           2398   \n",
       "23346           35400           6657   \n",
       "23568           32650           5444   \n",
       "\n",
       "                                               full_text  \n",
       "23211  the room next door - Priti Patel https://t.co/...  \n",
       "22995  Priti Patel should resign (again) or be sacked...  \n",
       "22315  Can’t believe Priti Patel is a bully. She seem...  \n",
       "23346  Priti Patel - the sort of person who would unp...  \n",
       "23568  Priti Patel is like a candidate from a version...  "
      ]
     },
     "execution_count": 7,
     "metadata": {},
     "output_type": "execute_result"
    }
   ],
   "source": [
    "top_favs"
   ]
  },
  {
   "cell_type": "code",
   "execution_count": 8,
   "metadata": {},
   "outputs": [],
   "source": [
    "top_favs.to_csv('top_favs.csv')"
   ]
  },
  {
   "cell_type": "markdown",
   "metadata": {},
   "source": [
    "## The Skewed World of Twitter Interactivity\n",
    "Whilst there are approximately 6,000 tweets posted per second, the vast majority of them recieve little attention. Tweet interaction tends to skew heavily such that the majority have 0 retweets/favorites/replies.\n",
    "\n",
    "If we look above we can see a pretty swift drop in the number of interactions across the top tweets.\n",
    "\n",
    "This can make exploring our data from social media difficult, particularly around these metrics, as often graphs will skew heavily around 0 with a few points then reaching 100,000 + interactions.\n",
    "\n",
    "Because of the scale of the figures we're looking at, Pandas may use *scientific notation*, which is used to express very big numbers in a condensed format.\n",
    "\n",
    "<img src=\"https://github.com/Minyall/sc207_materials/blob/master/images/scientific_notation.png?raw=true\" align=\"left\" width=\"300\">\n"
   ]
  },
  {
   "cell_type": "code",
   "execution_count": 9,
   "metadata": {},
   "outputs": [
    {
     "data": {
      "text/html": [
       "<div>\n",
       "<style scoped>\n",
       "    .dataframe tbody tr th:only-of-type {\n",
       "        vertical-align: middle;\n",
       "    }\n",
       "\n",
       "    .dataframe tbody tr th {\n",
       "        vertical-align: top;\n",
       "    }\n",
       "\n",
       "    .dataframe thead th {\n",
       "        text-align: right;\n",
       "    }\n",
       "</style>\n",
       "<table border=\"1\" class=\"dataframe\">\n",
       "  <thead>\n",
       "    <tr style=\"text-align: right;\">\n",
       "      <th></th>\n",
       "      <th>id</th>\n",
       "      <th>user.followers_count</th>\n",
       "      <th>favorite_count</th>\n",
       "      <th>retweet_count</th>\n",
       "    </tr>\n",
       "  </thead>\n",
       "  <tbody>\n",
       "    <tr>\n",
       "      <th>count</th>\n",
       "      <td>4.658000e+03</td>\n",
       "      <td>4.658000e+03</td>\n",
       "      <td>4658.000000</td>\n",
       "      <td>4658.000000</td>\n",
       "    </tr>\n",
       "    <tr>\n",
       "      <th>mean</th>\n",
       "      <td>1.329150e+18</td>\n",
       "      <td>7.362115e+04</td>\n",
       "      <td>249.453199</td>\n",
       "      <td>50.468227</td>\n",
       "    </tr>\n",
       "    <tr>\n",
       "      <th>std</th>\n",
       "      <td>1.302000e+16</td>\n",
       "      <td>1.077477e+06</td>\n",
       "      <td>1964.622280</td>\n",
       "      <td>438.713522</td>\n",
       "    </tr>\n",
       "    <tr>\n",
       "      <th>min</th>\n",
       "      <td>6.522691e+17</td>\n",
       "      <td>0.000000e+00</td>\n",
       "      <td>0.000000</td>\n",
       "      <td>0.000000</td>\n",
       "    </tr>\n",
       "    <tr>\n",
       "      <th>25%</th>\n",
       "      <td>1.329705e+18</td>\n",
       "      <td>2.922500e+02</td>\n",
       "      <td>0.000000</td>\n",
       "      <td>0.000000</td>\n",
       "    </tr>\n",
       "    <tr>\n",
       "      <th>50%</th>\n",
       "      <td>1.329727e+18</td>\n",
       "      <td>1.393000e+03</td>\n",
       "      <td>2.000000</td>\n",
       "      <td>0.000000</td>\n",
       "    </tr>\n",
       "    <tr>\n",
       "      <th>75%</th>\n",
       "      <td>1.330118e+18</td>\n",
       "      <td>6.082000e+03</td>\n",
       "      <td>17.000000</td>\n",
       "      <td>4.000000</td>\n",
       "    </tr>\n",
       "    <tr>\n",
       "      <th>max</th>\n",
       "      <td>1.330160e+18</td>\n",
       "      <td>4.661536e+07</td>\n",
       "      <td>67764.000000</td>\n",
       "      <td>21691.000000</td>\n",
       "    </tr>\n",
       "  </tbody>\n",
       "</table>\n",
       "</div>"
      ],
      "text/plain": [
       "                 id  user.followers_count  favorite_count  retweet_count\n",
       "count  4.658000e+03          4.658000e+03     4658.000000    4658.000000\n",
       "mean   1.329150e+18          7.362115e+04      249.453199      50.468227\n",
       "std    1.302000e+16          1.077477e+06     1964.622280     438.713522\n",
       "min    6.522691e+17          0.000000e+00        0.000000       0.000000\n",
       "25%    1.329705e+18          2.922500e+02        0.000000       0.000000\n",
       "50%    1.329727e+18          1.393000e+03        2.000000       0.000000\n",
       "75%    1.330118e+18          6.082000e+03       17.000000       4.000000\n",
       "max    1.330160e+18          4.661536e+07    67764.000000   21691.000000"
      ]
     },
     "execution_count": 9,
     "metadata": {},
     "output_type": "execute_result"
    }
   ],
   "source": [
    "df[subset].describe()"
   ]
  },
  {
   "cell_type": "code",
   "execution_count": 10,
   "metadata": {},
   "outputs": [
    {
     "data": {
      "image/png": "[encoded data removed]",
      "text/plain": [
       "<Figure size 720x360 with 1 Axes>"
      ]
     },
     "metadata": {
      "needs_background": "light"
     },
     "output_type": "display_data"
    }
   ],
   "source": [
    "sns.lmplot(data=df,x='retweet_count',y='favorite_count')\n",
    "fig = plt.gcf()\n",
    "fig.set_size_inches(10, 5)\n",
    "plt.show()"
   ]
  },
  {
   "cell_type": "markdown",
   "metadata": {},
   "source": [
    "If we add some extra percentiles to `describe` we can see the values needed to enter...\n",
    " - 0.9: the top 10%\n",
    " - 0.99: the top 1%\n",
    " - 0.999: the top 0.1%"
   ]
  },
  {
   "cell_type": "code",
   "execution_count": 11,
   "metadata": {},
   "outputs": [
    {
     "data": {
      "text/html": [
       "<div>\n",
       "<style scoped>\n",
       "    .dataframe tbody tr th:only-of-type {\n",
       "        vertical-align: middle;\n",
       "    }\n",
       "\n",
       "    .dataframe tbody tr th {\n",
       "        vertical-align: top;\n",
       "    }\n",
       "\n",
       "    .dataframe thead th {\n",
       "        text-align: right;\n",
       "    }\n",
       "</style>\n",
       "<table border=\"1\" class=\"dataframe\">\n",
       "  <thead>\n",
       "    <tr style=\"text-align: right;\">\n",
       "      <th></th>\n",
       "      <th>id</th>\n",
       "      <th>user.followers_count</th>\n",
       "      <th>favorite_count</th>\n",
       "      <th>retweet_count</th>\n",
       "    </tr>\n",
       "  </thead>\n",
       "  <tbody>\n",
       "    <tr>\n",
       "      <th>count</th>\n",
       "      <td>4.658000e+03</td>\n",
       "      <td>4.658000e+03</td>\n",
       "      <td>4658.000000</td>\n",
       "      <td>4658.000000</td>\n",
       "    </tr>\n",
       "    <tr>\n",
       "      <th>mean</th>\n",
       "      <td>1.329150e+18</td>\n",
       "      <td>7.362115e+04</td>\n",
       "      <td>249.453199</td>\n",
       "      <td>50.468227</td>\n",
       "    </tr>\n",
       "    <tr>\n",
       "      <th>std</th>\n",
       "      <td>1.302000e+16</td>\n",
       "      <td>1.077477e+06</td>\n",
       "      <td>1964.622280</td>\n",
       "      <td>438.713522</td>\n",
       "    </tr>\n",
       "    <tr>\n",
       "      <th>min</th>\n",
       "      <td>6.522691e+17</td>\n",
       "      <td>0.000000e+00</td>\n",
       "      <td>0.000000</td>\n",
       "      <td>0.000000</td>\n",
       "    </tr>\n",
       "    <tr>\n",
       "      <th>50%</th>\n",
       "      <td>1.329727e+18</td>\n",
       "      <td>1.393000e+03</td>\n",
       "      <td>2.000000</td>\n",
       "      <td>0.000000</td>\n",
       "    </tr>\n",
       "    <tr>\n",
       "      <th>90%</th>\n",
       "      <td>1.330130e+18</td>\n",
       "      <td>3.043630e+04</td>\n",
       "      <td>181.000000</td>\n",
       "      <td>41.000000</td>\n",
       "    </tr>\n",
       "    <tr>\n",
       "      <th>99%</th>\n",
       "      <td>1.330137e+18</td>\n",
       "      <td>7.558273e+05</td>\n",
       "      <td>5015.240000</td>\n",
       "      <td>1072.310000</td>\n",
       "    </tr>\n",
       "    <tr>\n",
       "      <th>99.9%</th>\n",
       "      <td>1.330160e+18</td>\n",
       "      <td>7.653992e+06</td>\n",
       "      <td>30253.921000</td>\n",
       "      <td>5045.858000</td>\n",
       "    </tr>\n",
       "    <tr>\n",
       "      <th>max</th>\n",
       "      <td>1.330160e+18</td>\n",
       "      <td>4.661536e+07</td>\n",
       "      <td>67764.000000</td>\n",
       "      <td>21691.000000</td>\n",
       "    </tr>\n",
       "  </tbody>\n",
       "</table>\n",
       "</div>"
      ],
      "text/plain": [
       "                 id  user.followers_count  favorite_count  retweet_count\n",
       "count  4.658000e+03          4.658000e+03     4658.000000    4658.000000\n",
       "mean   1.329150e+18          7.362115e+04      249.453199      50.468227\n",
       "std    1.302000e+16          1.077477e+06     1964.622280     438.713522\n",
       "min    6.522691e+17          0.000000e+00        0.000000       0.000000\n",
       "50%    1.329727e+18          1.393000e+03        2.000000       0.000000\n",
       "90%    1.330130e+18          3.043630e+04      181.000000      41.000000\n",
       "99%    1.330137e+18          7.558273e+05     5015.240000    1072.310000\n",
       "99.9%  1.330160e+18          7.653992e+06    30253.921000    5045.858000\n",
       "max    1.330160e+18          4.661536e+07    67764.000000   21691.000000"
      ]
     },
     "execution_count": 11,
     "metadata": {},
     "output_type": "execute_result"
    }
   ],
   "source": [
    "df[subset].describe(percentiles=[0.9,0.99,0.999])"
   ]
  },
  {
   "cell_type": "markdown",
   "metadata": {},
   "source": [
    "From the numbers above we can compare whether favorites or retweets are more evenly distributed in this topic. We can visualise this difference using a `boxen` plot, a type of box plot that breaks the box up so that the width indicates the number of tweets that fall into that value range."
   ]
  },
  {
   "cell_type": "code",
   "execution_count": 12,
   "metadata": {},
   "outputs": [
    {
     "data": {
      "text/html": [
       "<div>\n",
       "<style scoped>\n",
       "    .dataframe tbody tr th:only-of-type {\n",
       "        vertical-align: middle;\n",
       "    }\n",
       "\n",
       "    .dataframe tbody tr th {\n",
       "        vertical-align: top;\n",
       "    }\n",
       "\n",
       "    .dataframe thead th {\n",
       "        text-align: right;\n",
       "    }\n",
       "</style>\n",
       "<table border=\"1\" class=\"dataframe\">\n",
       "  <thead>\n",
       "    <tr style=\"text-align: right;\">\n",
       "      <th></th>\n",
       "      <th>id</th>\n",
       "      <th>variable</th>\n",
       "      <th>value</th>\n",
       "    </tr>\n",
       "  </thead>\n",
       "  <tbody>\n",
       "    <tr>\n",
       "      <th>0</th>\n",
       "      <td>1330137019679432707</td>\n",
       "      <td>favorite_count</td>\n",
       "      <td>0</td>\n",
       "    </tr>\n",
       "    <tr>\n",
       "      <th>1</th>\n",
       "      <td>1330137016881860610</td>\n",
       "      <td>favorite_count</td>\n",
       "      <td>0</td>\n",
       "    </tr>\n",
       "    <tr>\n",
       "      <th>2</th>\n",
       "      <td>1330136998124904449</td>\n",
       "      <td>favorite_count</td>\n",
       "      <td>0</td>\n",
       "    </tr>\n",
       "    <tr>\n",
       "      <th>3</th>\n",
       "      <td>1330136987232301058</td>\n",
       "      <td>favorite_count</td>\n",
       "      <td>0</td>\n",
       "    </tr>\n",
       "    <tr>\n",
       "      <th>4</th>\n",
       "      <td>1330136912443666432</td>\n",
       "      <td>favorite_count</td>\n",
       "      <td>0</td>\n",
       "    </tr>\n",
       "    <tr>\n",
       "      <th>...</th>\n",
       "      <td>...</td>\n",
       "      <td>...</td>\n",
       "      <td>...</td>\n",
       "    </tr>\n",
       "    <tr>\n",
       "      <th>9311</th>\n",
       "      <td>1329676144745074689</td>\n",
       "      <td>retweet_count</td>\n",
       "      <td>6</td>\n",
       "    </tr>\n",
       "    <tr>\n",
       "      <th>9312</th>\n",
       "      <td>1329556103982706690</td>\n",
       "      <td>retweet_count</td>\n",
       "      <td>2</td>\n",
       "    </tr>\n",
       "    <tr>\n",
       "      <th>9313</th>\n",
       "      <td>1329691585035051009</td>\n",
       "      <td>retweet_count</td>\n",
       "      <td>1</td>\n",
       "    </tr>\n",
       "    <tr>\n",
       "      <th>9314</th>\n",
       "      <td>1329691593373347843</td>\n",
       "      <td>retweet_count</td>\n",
       "      <td>2</td>\n",
       "    </tr>\n",
       "    <tr>\n",
       "      <th>9315</th>\n",
       "      <td>1329689201881833473</td>\n",
       "      <td>retweet_count</td>\n",
       "      <td>2</td>\n",
       "    </tr>\n",
       "  </tbody>\n",
       "</table>\n",
       "<p>9316 rows × 3 columns</p>\n",
       "</div>"
      ],
      "text/plain": [
       "                       id        variable  value\n",
       "0     1330137019679432707  favorite_count      0\n",
       "1     1330137016881860610  favorite_count      0\n",
       "2     1330136998124904449  favorite_count      0\n",
       "3     1330136987232301058  favorite_count      0\n",
       "4     1330136912443666432  favorite_count      0\n",
       "...                   ...             ...    ...\n",
       "9311  1329676144745074689   retweet_count      6\n",
       "9312  1329556103982706690   retweet_count      2\n",
       "9313  1329691585035051009   retweet_count      1\n",
       "9314  1329691593373347843   retweet_count      2\n",
       "9315  1329689201881833473   retweet_count      2\n",
       "\n",
       "[9316 rows x 3 columns]"
      ]
     },
     "execution_count": 12,
     "metadata": {},
     "output_type": "execute_result"
    }
   ],
   "source": [
    "# We melt our data so that our data is in a shape that seaborn can understand for the plot we want\n",
    "cat_plot_data = df[subset].melt(id_vars=['id'], value_vars=['favorite_count','retweet_count'])\n",
    "cat_plot_data"
   ]
  },
  {
   "cell_type": "code",
   "execution_count": 13,
   "metadata": {},
   "outputs": [
    {
     "data": {
      "image/png": "[encoded data removed]",
      "text/plain": [
       "<Figure size 720x360 with 1 Axes>"
      ]
     },
     "metadata": {
      "needs_background": "light"
     },
     "output_type": "display_data"
    }
   ],
   "source": [
    "sns.catplot(data=cat_plot_data, x='variable',y='value',height=3.5, aspect=2.5, kind='boxen')\n",
    "fig = plt.gcf()\n",
    "fig.set_size_inches(10, 5)\n",
    "plt.show()"
   ]
  },
  {
   "cell_type": "markdown",
   "metadata": {},
   "source": [
    "Because of the heavy skew there isn't even a clear trend when it comes to followers_count vs retweet count - which we might have expected."
   ]
  },
  {
   "cell_type": "code",
   "execution_count": 14,
   "metadata": {},
   "outputs": [
    {
     "data": {
      "image/png": "[encoded data removed]",
      "text/plain": [
       "<Figure size 720x360 with 1 Axes>"
      ]
     },
     "metadata": {
      "needs_background": "light"
     },
     "output_type": "display_data"
    }
   ],
   "source": [
    "sns.lmplot(data=df,x='user.followers_count',y='retweet_count',fit_reg=True)\n",
    "fig = plt.gcf()\n",
    "fig.set_size_inches(10, 5)\n",
    "plt.show()"
   ]
  },
  {
   "cell_type": "markdown",
   "metadata": {},
   "source": [
    "We can check this to see which are the top tweets for retweet count, and which are top for follower count. It is not always the case that the highest follower counts mean the greatest interaction. Often it is accounts with pre-existing social capital that have high follower counts. This doesn't necessarily always result in high engagement with their content."
   ]
  },
  {
   "cell_type": "code",
   "execution_count": 15,
   "metadata": {},
   "outputs": [
    {
     "data": {
      "text/html": [
       "<div>\n",
       "<style scoped>\n",
       "    .dataframe tbody tr th:only-of-type {\n",
       "        vertical-align: middle;\n",
       "    }\n",
       "\n",
       "    .dataframe tbody tr th {\n",
       "        vertical-align: top;\n",
       "    }\n",
       "\n",
       "    .dataframe thead th {\n",
       "        text-align: right;\n",
       "    }\n",
       "</style>\n",
       "<table border=\"1\" class=\"dataframe\">\n",
       "  <thead>\n",
       "    <tr style=\"text-align: right;\">\n",
       "      <th></th>\n",
       "      <th>id</th>\n",
       "      <th>user.screen_name</th>\n",
       "      <th>user.followers_count</th>\n",
       "      <th>favorite_count</th>\n",
       "      <th>retweet_count</th>\n",
       "      <th>full_text</th>\n",
       "    </tr>\n",
       "  </thead>\n",
       "  <tbody>\n",
       "    <tr>\n",
       "      <th>23211</th>\n",
       "      <td>1224619601738137600</td>\n",
       "      <td>MrMichaelSpicer</td>\n",
       "      <td>401820</td>\n",
       "      <td>67764</td>\n",
       "      <td>21691</td>\n",
       "      <td>the room next door - Priti Patel https://t.co/...</td>\n",
       "    </tr>\n",
       "    <tr>\n",
       "      <th>23409</th>\n",
       "      <td>1201070052952416256</td>\n",
       "      <td>mrjamesob</td>\n",
       "      <td>755750</td>\n",
       "      <td>22861</td>\n",
       "      <td>7556</td>\n",
       "      <td>Politicians like Priti Patel &amp;amp; Boris Johns...</td>\n",
       "    </tr>\n",
       "    <tr>\n",
       "      <th>23307</th>\n",
       "      <td>1326086243751432192</td>\n",
       "      <td>mrjamesob</td>\n",
       "      <td>755749</td>\n",
       "      <td>29003</td>\n",
       "      <td>7266</td>\n",
       "      <td>Hmm.\\n\\nCitizens of 32 countries previously en...</td>\n",
       "    </tr>\n",
       "    <tr>\n",
       "      <th>23346</th>\n",
       "      <td>1311376007375527939</td>\n",
       "      <td>TwitOpOldFarts</td>\n",
       "      <td>780</td>\n",
       "      <td>35400</td>\n",
       "      <td>6657</td>\n",
       "      <td>Priti Patel - the sort of person who would unp...</td>\n",
       "    </tr>\n",
       "    <tr>\n",
       "      <th>23568</th>\n",
       "      <td>1249007483571625987</td>\n",
       "      <td>frankieboyle</td>\n",
       "      <td>2824176</td>\n",
       "      <td>32650</td>\n",
       "      <td>5444</td>\n",
       "      <td>Priti Patel is like a candidate from a version...</td>\n",
       "    </tr>\n",
       "    <tr>\n",
       "      <th>24105</th>\n",
       "      <td>1279047724520869888</td>\n",
       "      <td>cathalmalone</td>\n",
       "      <td>2691</td>\n",
       "      <td>7931</td>\n",
       "      <td>4838</td>\n",
       "      <td>I'm a pretty experienced immigration lawyer, b...</td>\n",
       "    </tr>\n",
       "    <tr>\n",
       "      <th>22995</th>\n",
       "      <td>1329848910794383361</td>\n",
       "      <td>DeborahMeaden</td>\n",
       "      <td>424433</td>\n",
       "      <td>42614</td>\n",
       "      <td>4519</td>\n",
       "      <td>Priti Patel should resign (again) or be sacked...</td>\n",
       "    </tr>\n",
       "    <tr>\n",
       "      <th>23783</th>\n",
       "      <td>1326257138331758592</td>\n",
       "      <td>MsYellowHat</td>\n",
       "      <td>1951</td>\n",
       "      <td>19596</td>\n",
       "      <td>3940</td>\n",
       "      <td>Next to Priti Patel’s heart https://t.co/WfceE...</td>\n",
       "    </tr>\n",
       "    <tr>\n",
       "      <th>23183</th>\n",
       "      <td>1307768775773691904</td>\n",
       "      <td>munyachawawa</td>\n",
       "      <td>119387</td>\n",
       "      <td>14111</td>\n",
       "      <td>3604</td>\n",
       "      <td>Skepta explains THAT Priti Patel tweet with a ...</td>\n",
       "    </tr>\n",
       "    <tr>\n",
       "      <th>9991</th>\n",
       "      <td>1329782334145617924</td>\n",
       "      <td>Andrew_Adonis</td>\n",
       "      <td>137257</td>\n",
       "      <td>24628</td>\n",
       "      <td>3417</td>\n",
       "      <td>So what’s just happened in the Priti Patel cas...</td>\n",
       "    </tr>\n",
       "  </tbody>\n",
       "</table>\n",
       "</div>"
      ],
      "text/plain": [
       "                        id user.screen_name  user.followers_count  \\\n",
       "23211  1224619601738137600  MrMichaelSpicer                401820   \n",
       "23409  1201070052952416256        mrjamesob                755750   \n",
       "23307  1326086243751432192        mrjamesob                755749   \n",
       "23346  1311376007375527939   TwitOpOldFarts                   780   \n",
       "23568  1249007483571625987     frankieboyle               2824176   \n",
       "24105  1279047724520869888     cathalmalone                  2691   \n",
       "22995  1329848910794383361    DeborahMeaden                424433   \n",
       "23783  1326257138331758592      MsYellowHat                  1951   \n",
       "23183  1307768775773691904     munyachawawa                119387   \n",
       "9991   1329782334145617924    Andrew_Adonis                137257   \n",
       "\n",
       "       favorite_count  retweet_count  \\\n",
       "23211           67764          21691   \n",
       "23409           22861           7556   \n",
       "23307           29003           7266   \n",
       "23346           35400           6657   \n",
       "23568           32650           5444   \n",
       "24105            7931           4838   \n",
       "22995           42614           4519   \n",
       "23783           19596           3940   \n",
       "23183           14111           3604   \n",
       "9991            24628           3417   \n",
       "\n",
       "                                               full_text  \n",
       "23211  the room next door - Priti Patel https://t.co/...  \n",
       "23409  Politicians like Priti Patel &amp; Boris Johns...  \n",
       "23307  Hmm.\\n\\nCitizens of 32 countries previously en...  \n",
       "23346  Priti Patel - the sort of person who would unp...  \n",
       "23568  Priti Patel is like a candidate from a version...  \n",
       "24105  I'm a pretty experienced immigration lawyer, b...  \n",
       "22995  Priti Patel should resign (again) or be sacked...  \n",
       "23783  Next to Priti Patel’s heart https://t.co/WfceE...  \n",
       "23183  Skepta explains THAT Priti Patel tweet with a ...  \n",
       "9991   So what’s just happened in the Priti Patel cas...  "
      ]
     },
     "execution_count": 15,
     "metadata": {},
     "output_type": "execute_result"
    }
   ],
   "source": [
    "df.sort_values(by='retweet_count',ascending=False)[subset].head(10)"
   ]
  },
  {
   "cell_type": "code",
   "execution_count": 16,
   "metadata": {},
   "outputs": [
    {
     "data": {
      "text/html": [
       "<div>\n",
       "<style scoped>\n",
       "    .dataframe tbody tr th:only-of-type {\n",
       "        vertical-align: middle;\n",
       "    }\n",
       "\n",
       "    .dataframe tbody tr th {\n",
       "        vertical-align: top;\n",
       "    }\n",
       "\n",
       "    .dataframe thead th {\n",
       "        text-align: right;\n",
       "    }\n",
       "</style>\n",
       "<table border=\"1\" class=\"dataframe\">\n",
       "  <thead>\n",
       "    <tr style=\"text-align: right;\">\n",
       "      <th></th>\n",
       "      <th>id</th>\n",
       "      <th>user.screen_name</th>\n",
       "      <th>user.followers_count</th>\n",
       "      <th>favorite_count</th>\n",
       "      <th>retweet_count</th>\n",
       "      <th>full_text</th>\n",
       "    </tr>\n",
       "  </thead>\n",
       "  <tbody>\n",
       "    <tr>\n",
       "      <th>23416</th>\n",
       "      <td>1329485313685729280</td>\n",
       "      <td>BBCBreaking</td>\n",
       "      <td>46615364</td>\n",
       "      <td>2185</td>\n",
       "      <td>601</td>\n",
       "      <td>Draft report says UK Home Secretary Priti Pate...</td>\n",
       "    </tr>\n",
       "    <tr>\n",
       "      <th>23191</th>\n",
       "      <td>1329752894107750400</td>\n",
       "      <td>BBCBreaking</td>\n",
       "      <td>46615227</td>\n",
       "      <td>3298</td>\n",
       "      <td>802</td>\n",
       "      <td>UK PM's adviser on ministerial code resigns as...</td>\n",
       "    </tr>\n",
       "    <tr>\n",
       "      <th>18321</th>\n",
       "      <td>1329705824009080839</td>\n",
       "      <td>ndtv</td>\n",
       "      <td>13983678</td>\n",
       "      <td>45</td>\n",
       "      <td>5</td>\n",
       "      <td>Colleagues Defend \"Kind\" UK Minister Priti Pat...</td>\n",
       "    </tr>\n",
       "    <tr>\n",
       "      <th>13473</th>\n",
       "      <td>1329718385379307521</td>\n",
       "      <td>guardian</td>\n",
       "      <td>9306616</td>\n",
       "      <td>18</td>\n",
       "      <td>10</td>\n",
       "      <td>UK politics live: public sector workers face p...</td>\n",
       "    </tr>\n",
       "    <tr>\n",
       "      <th>23245</th>\n",
       "      <td>1330098696525139968</td>\n",
       "      <td>guardian</td>\n",
       "      <td>9305904</td>\n",
       "      <td>334</td>\n",
       "      <td>78</td>\n",
       "      <td>Ken Clarke joins criticism of Boris Johnson's ...</td>\n",
       "    </tr>\n",
       "    <tr>\n",
       "      <th>23244</th>\n",
       "      <td>1329899856027070464</td>\n",
       "      <td>FinancialTimes</td>\n",
       "      <td>6791578</td>\n",
       "      <td>285</td>\n",
       "      <td>105</td>\n",
       "      <td>The FT View: Boris Johnson's refusal to accept...</td>\n",
       "    </tr>\n",
       "    <tr>\n",
       "      <th>22411</th>\n",
       "      <td>1329693923707674626</td>\n",
       "      <td>SkyNews</td>\n",
       "      <td>6587344</td>\n",
       "      <td>128</td>\n",
       "      <td>31</td>\n",
       "      <td>“It has all the hallmarks of a prime ministeri...</td>\n",
       "    </tr>\n",
       "    <tr>\n",
       "      <th>24181</th>\n",
       "      <td>1329685990450016256</td>\n",
       "      <td>SkyNews</td>\n",
       "      <td>6587342</td>\n",
       "      <td>28</td>\n",
       "      <td>9</td>\n",
       "      <td>“What I can tell you is what I know about Prit...</td>\n",
       "    </tr>\n",
       "    <tr>\n",
       "      <th>24017</th>\n",
       "      <td>1329641285750231043</td>\n",
       "      <td>SkyNews</td>\n",
       "      <td>6587316</td>\n",
       "      <td>60</td>\n",
       "      <td>11</td>\n",
       "      <td>Priti Patel: Labour demands full release of bu...</td>\n",
       "    </tr>\n",
       "    <tr>\n",
       "      <th>23966</th>\n",
       "      <td>1329492052472713222</td>\n",
       "      <td>SkyNews</td>\n",
       "      <td>6586889</td>\n",
       "      <td>596</td>\n",
       "      <td>160</td>\n",
       "      <td>BREAKING: Sky News understands a draft report ...</td>\n",
       "    </tr>\n",
       "  </tbody>\n",
       "</table>\n",
       "</div>"
      ],
      "text/plain": [
       "                        id user.screen_name  user.followers_count  \\\n",
       "23416  1329485313685729280      BBCBreaking              46615364   \n",
       "23191  1329752894107750400      BBCBreaking              46615227   \n",
       "18321  1329705824009080839             ndtv              13983678   \n",
       "13473  1329718385379307521         guardian               9306616   \n",
       "23245  1330098696525139968         guardian               9305904   \n",
       "23244  1329899856027070464   FinancialTimes               6791578   \n",
       "22411  1329693923707674626          SkyNews               6587344   \n",
       "24181  1329685990450016256          SkyNews               6587342   \n",
       "24017  1329641285750231043          SkyNews               6587316   \n",
       "23966  1329492052472713222          SkyNews               6586889   \n",
       "\n",
       "       favorite_count  retweet_count  \\\n",
       "23416            2185            601   \n",
       "23191            3298            802   \n",
       "18321              45              5   \n",
       "13473              18             10   \n",
       "23245             334             78   \n",
       "23244             285            105   \n",
       "22411             128             31   \n",
       "24181              28              9   \n",
       "24017              60             11   \n",
       "23966             596            160   \n",
       "\n",
       "                                               full_text  \n",
       "23416  Draft report says UK Home Secretary Priti Pate...  \n",
       "23191  UK PM's adviser on ministerial code resigns as...  \n",
       "18321  Colleagues Defend \"Kind\" UK Minister Priti Pat...  \n",
       "13473  UK politics live: public sector workers face p...  \n",
       "23245  Ken Clarke joins criticism of Boris Johnson's ...  \n",
       "23244  The FT View: Boris Johnson's refusal to accept...  \n",
       "22411  “It has all the hallmarks of a prime ministeri...  \n",
       "24181  “What I can tell you is what I know about Prit...  \n",
       "24017  Priti Patel: Labour demands full release of bu...  \n",
       "23966  BREAKING: Sky News understands a draft report ...  "
      ]
     },
     "execution_count": 16,
     "metadata": {},
     "output_type": "execute_result"
    }
   ],
   "source": [
    "df.sort_values(by='user.followers_count',ascending=False)[subset].head(10)"
   ]
  },
  {
   "cell_type": "markdown",
   "metadata": {},
   "source": [
    "# #Hashtags\n",
    "Examining the hashtags of your data can give you a sense of the discourses around a particular topic, and inform you of connectivity to other issues. The first step is to get the hashtags out of their nested data structure.\n",
    "\n",
    "For each entry in `entities.hashtags` we see a list, which if it is not empty, contains a set of dictionaries, and one value in each dictionary, the `text` value, is what we actually want."
   ]
  },
  {
   "cell_type": "code",
   "execution_count": 22,
   "metadata": {},
   "outputs": [],
   "source": [
    "subset = ['id','entities.hashtags']"
   ]
  },
  {
   "cell_type": "code",
   "execution_count": 23,
   "metadata": {},
   "outputs": [
    {
     "data": {
      "text/html": [
       "<div>\n",
       "<style scoped>\n",
       "    .dataframe tbody tr th:only-of-type {\n",
       "        vertical-align: middle;\n",
       "    }\n",
       "\n",
       "    .dataframe tbody tr th {\n",
       "        vertical-align: top;\n",
       "    }\n",
       "\n",
       "    .dataframe thead th {\n",
       "        text-align: right;\n",
       "    }\n",
       "</style>\n",
       "<table border=\"1\" class=\"dataframe\">\n",
       "  <thead>\n",
       "    <tr style=\"text-align: right;\">\n",
       "      <th></th>\n",
       "      <th>id</th>\n",
       "      <th>entities.hashtags</th>\n",
       "    </tr>\n",
       "  </thead>\n",
       "  <tbody>\n",
       "    <tr>\n",
       "      <th>2</th>\n",
       "      <td>1330137019679432707</td>\n",
       "      <td>[]</td>\n",
       "    </tr>\n",
       "    <tr>\n",
       "      <th>3</th>\n",
       "      <td>1330137016881860610</td>\n",
       "      <td>[]</td>\n",
       "    </tr>\n",
       "    <tr>\n",
       "      <th>10</th>\n",
       "      <td>1330136998124904449</td>\n",
       "      <td>[]</td>\n",
       "    </tr>\n",
       "    <tr>\n",
       "      <th>13</th>\n",
       "      <td>1330136987232301058</td>\n",
       "      <td>[{'text': 'Johnson', 'indices': [0, 8]}]</td>\n",
       "    </tr>\n",
       "    <tr>\n",
       "      <th>36</th>\n",
       "      <td>1330136912443666432</td>\n",
       "      <td>[]</td>\n",
       "    </tr>\n",
       "    <tr>\n",
       "      <th>...</th>\n",
       "      <td>...</td>\n",
       "      <td>...</td>\n",
       "    </tr>\n",
       "    <tr>\n",
       "      <th>24209</th>\n",
       "      <td>1329676144745074689</td>\n",
       "      <td>[]</td>\n",
       "    </tr>\n",
       "    <tr>\n",
       "      <th>24210</th>\n",
       "      <td>1329556103982706690</td>\n",
       "      <td>[]</td>\n",
       "    </tr>\n",
       "    <tr>\n",
       "      <th>24211</th>\n",
       "      <td>1329691585035051009</td>\n",
       "      <td>[]</td>\n",
       "    </tr>\n",
       "    <tr>\n",
       "      <th>24212</th>\n",
       "      <td>1329691593373347843</td>\n",
       "      <td>[]</td>\n",
       "    </tr>\n",
       "    <tr>\n",
       "      <th>24213</th>\n",
       "      <td>1329689201881833473</td>\n",
       "      <td>[]</td>\n",
       "    </tr>\n",
       "  </tbody>\n",
       "</table>\n",
       "<p>4658 rows × 2 columns</p>\n",
       "</div>"
      ],
      "text/plain": [
       "                        id                         entities.hashtags\n",
       "2      1330137019679432707                                        []\n",
       "3      1330137016881860610                                        []\n",
       "10     1330136998124904449                                        []\n",
       "13     1330136987232301058  [{'text': 'Johnson', 'indices': [0, 8]}]\n",
       "36     1330136912443666432                                        []\n",
       "...                    ...                                       ...\n",
       "24209  1329676144745074689                                        []\n",
       "24210  1329556103982706690                                        []\n",
       "24211  1329691585035051009                                        []\n",
       "24212  1329691593373347843                                        []\n",
       "24213  1329689201881833473                                        []\n",
       "\n",
       "[4658 rows x 2 columns]"
      ]
     },
     "execution_count": 23,
     "metadata": {},
     "output_type": "execute_result"
    }
   ],
   "source": [
    "df[subset]"
   ]
  },
  {
   "cell_type": "markdown",
   "metadata": {},
   "source": [
    "Each tweet contains a list, because each tweet could have one or more hashtags associated with it. The first step is to `.explode` the column, such that each hashtag gets its own row."
   ]
  },
  {
   "cell_type": "code",
   "execution_count": 24,
   "metadata": {},
   "outputs": [
    {
     "data": {
      "text/html": [
       "<div>\n",
       "<style scoped>\n",
       "    .dataframe tbody tr th:only-of-type {\n",
       "        vertical-align: middle;\n",
       "    }\n",
       "\n",
       "    .dataframe tbody tr th {\n",
       "        vertical-align: top;\n",
       "    }\n",
       "\n",
       "    .dataframe thead th {\n",
       "        text-align: right;\n",
       "    }\n",
       "</style>\n",
       "<table border=\"1\" class=\"dataframe\">\n",
       "  <thead>\n",
       "    <tr style=\"text-align: right;\">\n",
       "      <th></th>\n",
       "      <th>id</th>\n",
       "      <th>entities.hashtags</th>\n",
       "    </tr>\n",
       "  </thead>\n",
       "  <tbody>\n",
       "    <tr>\n",
       "      <th>2</th>\n",
       "      <td>1330137019679432707</td>\n",
       "      <td>NaN</td>\n",
       "    </tr>\n",
       "    <tr>\n",
       "      <th>3</th>\n",
       "      <td>1330137016881860610</td>\n",
       "      <td>NaN</td>\n",
       "    </tr>\n",
       "    <tr>\n",
       "      <th>10</th>\n",
       "      <td>1330136998124904449</td>\n",
       "      <td>NaN</td>\n",
       "    </tr>\n",
       "    <tr>\n",
       "      <th>13</th>\n",
       "      <td>1330136987232301058</td>\n",
       "      <td>{'text': 'Johnson', 'indices': [0, 8]}</td>\n",
       "    </tr>\n",
       "    <tr>\n",
       "      <th>36</th>\n",
       "      <td>1330136912443666432</td>\n",
       "      <td>NaN</td>\n",
       "    </tr>\n",
       "    <tr>\n",
       "      <th>...</th>\n",
       "      <td>...</td>\n",
       "      <td>...</td>\n",
       "    </tr>\n",
       "    <tr>\n",
       "      <th>24209</th>\n",
       "      <td>1329676144745074689</td>\n",
       "      <td>NaN</td>\n",
       "    </tr>\n",
       "    <tr>\n",
       "      <th>24210</th>\n",
       "      <td>1329556103982706690</td>\n",
       "      <td>NaN</td>\n",
       "    </tr>\n",
       "    <tr>\n",
       "      <th>24211</th>\n",
       "      <td>1329691585035051009</td>\n",
       "      <td>NaN</td>\n",
       "    </tr>\n",
       "    <tr>\n",
       "      <th>24212</th>\n",
       "      <td>1329691593373347843</td>\n",
       "      <td>NaN</td>\n",
       "    </tr>\n",
       "    <tr>\n",
       "      <th>24213</th>\n",
       "      <td>1329689201881833473</td>\n",
       "      <td>NaN</td>\n",
       "    </tr>\n",
       "  </tbody>\n",
       "</table>\n",
       "<p>5237 rows × 2 columns</p>\n",
       "</div>"
      ],
      "text/plain": [
       "                        id                       entities.hashtags\n",
       "2      1330137019679432707                                     NaN\n",
       "3      1330137016881860610                                     NaN\n",
       "10     1330136998124904449                                     NaN\n",
       "13     1330136987232301058  {'text': 'Johnson', 'indices': [0, 8]}\n",
       "36     1330136912443666432                                     NaN\n",
       "...                    ...                                     ...\n",
       "24209  1329676144745074689                                     NaN\n",
       "24210  1329556103982706690                                     NaN\n",
       "24211  1329691585035051009                                     NaN\n",
       "24212  1329691593373347843                                     NaN\n",
       "24213  1329689201881833473                                     NaN\n",
       "\n",
       "[5237 rows x 2 columns]"
      ]
     },
     "execution_count": 24,
     "metadata": {},
     "output_type": "execute_result"
    }
   ],
   "source": [
    "hashtag_data = df[subset].explode('entities.hashtags').copy()\n",
    "hashtag_data"
   ]
  },
  {
   "cell_type": "code",
   "execution_count": 25,
   "metadata": {},
   "outputs": [
    {
     "data": {
      "text/html": [
       "<div>\n",
       "<style scoped>\n",
       "    .dataframe tbody tr th:only-of-type {\n",
       "        vertical-align: middle;\n",
       "    }\n",
       "\n",
       "    .dataframe tbody tr th {\n",
       "        vertical-align: top;\n",
       "    }\n",
       "\n",
       "    .dataframe thead th {\n",
       "        text-align: right;\n",
       "    }\n",
       "</style>\n",
       "<table border=\"1\" class=\"dataframe\">\n",
       "  <thead>\n",
       "    <tr style=\"text-align: right;\">\n",
       "      <th></th>\n",
       "      <th>id</th>\n",
       "      <th>entities.hashtags</th>\n",
       "    </tr>\n",
       "  </thead>\n",
       "  <tbody>\n",
       "    <tr>\n",
       "      <th>13</th>\n",
       "      <td>1330136987232301058</td>\n",
       "      <td>{'text': 'Johnson', 'indices': [0, 8]}</td>\n",
       "    </tr>\n",
       "    <tr>\n",
       "      <th>80</th>\n",
       "      <td>1330136822849134593</td>\n",
       "      <td>{'text': 'BullyingisNEVERok', 'indices': [218,...</td>\n",
       "    </tr>\n",
       "    <tr>\n",
       "      <th>111</th>\n",
       "      <td>1330136754515550211</td>\n",
       "      <td>{'text': 'Astroturfers', 'indices': [241, 254]}</td>\n",
       "    </tr>\n",
       "    <tr>\n",
       "      <th>145</th>\n",
       "      <td>1330136672273633280</td>\n",
       "      <td>{'text': 'bbcaq', 'indices': [66, 72]}</td>\n",
       "    </tr>\n",
       "    <tr>\n",
       "      <th>148</th>\n",
       "      <td>1330136669551464449</td>\n",
       "      <td>{'text': 'PritiPatel', 'indices': [238, 249]}</td>\n",
       "    </tr>\n",
       "    <tr>\n",
       "      <th>...</th>\n",
       "      <td>...</td>\n",
       "      <td>...</td>\n",
       "    </tr>\n",
       "    <tr>\n",
       "      <th>24204</th>\n",
       "      <td>1329684884118450177</td>\n",
       "      <td>{'text': 'FollowBackFriday', 'indices': [254, ...</td>\n",
       "    </tr>\n",
       "    <tr>\n",
       "      <th>24204</th>\n",
       "      <td>1329684884118450177</td>\n",
       "      <td>{'text': 'FBPE', 'indices': [272, 277]}</td>\n",
       "    </tr>\n",
       "    <tr>\n",
       "      <th>24205</th>\n",
       "      <td>1329523082202058754</td>\n",
       "      <td>{'text': 'shapeshiftingcreep', 'indices': [81,...</td>\n",
       "    </tr>\n",
       "    <tr>\n",
       "      <th>24205</th>\n",
       "      <td>1329523082202058754</td>\n",
       "      <td>{'text': 'bullying', 'indices': [154, 163]}</td>\n",
       "    </tr>\n",
       "    <tr>\n",
       "      <th>24205</th>\n",
       "      <td>1329523082202058754</td>\n",
       "      <td>{'text': 'CORRUPTION', 'indices': [164, 175]}</td>\n",
       "    </tr>\n",
       "  </tbody>\n",
       "</table>\n",
       "<p>1303 rows × 2 columns</p>\n",
       "</div>"
      ],
      "text/plain": [
       "                        id                                  entities.hashtags\n",
       "13     1330136987232301058             {'text': 'Johnson', 'indices': [0, 8]}\n",
       "80     1330136822849134593  {'text': 'BullyingisNEVERok', 'indices': [218,...\n",
       "111    1330136754515550211    {'text': 'Astroturfers', 'indices': [241, 254]}\n",
       "145    1330136672273633280             {'text': 'bbcaq', 'indices': [66, 72]}\n",
       "148    1330136669551464449      {'text': 'PritiPatel', 'indices': [238, 249]}\n",
       "...                    ...                                                ...\n",
       "24204  1329684884118450177  {'text': 'FollowBackFriday', 'indices': [254, ...\n",
       "24204  1329684884118450177            {'text': 'FBPE', 'indices': [272, 277]}\n",
       "24205  1329523082202058754  {'text': 'shapeshiftingcreep', 'indices': [81,...\n",
       "24205  1329523082202058754        {'text': 'bullying', 'indices': [154, 163]}\n",
       "24205  1329523082202058754      {'text': 'CORRUPTION', 'indices': [164, 175]}\n",
       "\n",
       "[1303 rows x 2 columns]"
      ]
     },
     "execution_count": 25,
     "metadata": {},
     "output_type": "execute_result"
    }
   ],
   "source": [
    "# We drop any rows without hashtags at all so that our data is just tweets with hashtags associated\n",
    "not_empty = ~hashtag_data['entities.hashtags'].isna()\n",
    "hashtag_data = hashtag_data[not_empty]\n",
    "hashtag_data"
   ]
  },
  {
   "cell_type": "code",
   "execution_count": 26,
   "metadata": {},
   "outputs": [
    {
     "data": {
      "text/plain": [
       "id                                      1330136987232301058\n",
       "entities.hashtags    {'text': 'Johnson', 'indices': [0, 8]}\n",
       "Name: 13, dtype: object"
      ]
     },
     "execution_count": 26,
     "metadata": {},
     "output_type": "execute_result"
    }
   ],
   "source": [
    "# if we examine one row... remember iloc indexes purely by row and \n",
    "# column position so first row, whatever its actual index number, is iloc[0]\n",
    "example_row = hashtag_data.iloc[0]\n",
    "example_row"
   ]
  },
  {
   "cell_type": "code",
   "execution_count": 27,
   "metadata": {},
   "outputs": [
    {
     "data": {
      "text/plain": [
       "created_at                                                         Sat Nov 21 13:12:25 +0000 2020\n",
       "id                                                                            1330136987232301058\n",
       "id_str                                                                        1330136987232301058\n",
       "full_text                                       #Johnson refusal to sack Priti Patel\\n\\n“for t...\n",
       "truncated                                                                                   False\n",
       "                                                                      ...                        \n",
       "quoted_status.place.bounding_box.coordinates                                                  NaN\n",
       "geo.type                                                                                      NaN\n",
       "geo.coordinates                                                                               NaN\n",
       "coordinates.type                                                                              NaN\n",
       "coordinates.coordinates                                                                       NaN\n",
       "Name: 13, Length: 352, dtype: object"
      ]
     },
     "execution_count": 27,
     "metadata": {},
     "output_type": "execute_result"
    }
   ],
   "source": [
    "# See that it says Name: and then a number, that is the original index number from the dataframe\n",
    "\n",
    "df.loc[13]"
   ]
  },
  {
   "cell_type": "code",
   "execution_count": 28,
   "metadata": {},
   "outputs": [
    {
     "data": {
      "text/plain": [
       "'https://twitter.com/roger_heywood/status/1330136987232301058'"
      ]
     },
     "execution_count": 28,
     "metadata": {},
     "output_type": "execute_result"
    }
   ],
   "source": [
    "# and we can see the original tweet online\n",
    "tweet_url(df.loc[13])"
   ]
  },
  {
   "cell_type": "code",
   "execution_count": 29,
   "metadata": {},
   "outputs": [
    {
     "data": {
      "text/plain": [
       "'Johnson'"
      ]
     },
     "execution_count": 29,
     "metadata": {},
     "output_type": "execute_result"
    }
   ],
   "source": [
    "# it is a dictionary, so we can get the 'text' by just using a key\n",
    "example_row['entities.hashtags']['text']"
   ]
  },
  {
   "cell_type": "markdown",
   "metadata": {},
   "source": [
    "Ultimately what we want is to be able to do that to each row and then save the result in a new column. Enter pandas `.apply`!"
   ]
  },
  {
   "cell_type": "code",
   "execution_count": 30,
   "metadata": {},
   "outputs": [
    {
     "data": {
      "text/plain": [
       "'Johnson'"
      ]
     },
     "execution_count": 30,
     "metadata": {},
     "output_type": "execute_result"
    }
   ],
   "source": [
    "# First we create a function that does the job we want\n",
    "\n",
    "def extract_entity(entity_dict, entity_key):\n",
    "    return entity_dict[entity_key]\n",
    "\n",
    "extract_entity(example_row['entities.hashtags'], 'text')"
   ]
  },
  {
   "cell_type": "code",
   "execution_count": 31,
   "metadata": {},
   "outputs": [
    {
     "data": {
      "text/plain": [
       "13                  Johnson\n",
       "80        BullyingisNEVERok\n",
       "111            Astroturfers\n",
       "145                   bbcaq\n",
       "148              PritiPatel\n",
       "                ...        \n",
       "24204      FollowBackFriday\n",
       "24204                  FBPE\n",
       "24205    shapeshiftingcreep\n",
       "24205              bullying\n",
       "24205            CORRUPTION\n",
       "Name: entities.hashtags, Length: 1303, dtype: object"
      ]
     },
     "execution_count": 31,
     "metadata": {},
     "output_type": "execute_result"
    }
   ],
   "source": [
    "# Then we apply it to the column containing the data. We'll do it without assigning first just to check it works...\n",
    "\n",
    "hashtag_data['entities.hashtags'].apply(extract_entity, entity_key='text')"
   ]
  },
  {
   "cell_type": "code",
   "execution_count": 32,
   "metadata": {},
   "outputs": [
    {
     "name": "stderr",
     "output_type": "stream",
     "text": [
      "/Users/James/anaconda3/envs/teaching/lib/python3.7/site-packages/ipykernel_launcher.py:1: SettingWithCopyWarning: \n",
      "A value is trying to be set on a copy of a slice from a DataFrame.\n",
      "Try using .loc[row_indexer,col_indexer] = value instead\n",
      "\n",
      "See the caveats in the documentation: https://pandas.pydata.org/pandas-docs/stable/user_guide/indexing.html#returning-a-view-versus-a-copy\n",
      "  \"\"\"Entry point for launching an IPython kernel.\n"
     ]
    },
    {
     "data": {
      "text/html": [
       "<div>\n",
       "<style scoped>\n",
       "    .dataframe tbody tr th:only-of-type {\n",
       "        vertical-align: middle;\n",
       "    }\n",
       "\n",
       "    .dataframe tbody tr th {\n",
       "        vertical-align: top;\n",
       "    }\n",
       "\n",
       "    .dataframe thead th {\n",
       "        text-align: right;\n",
       "    }\n",
       "</style>\n",
       "<table border=\"1\" class=\"dataframe\">\n",
       "  <thead>\n",
       "    <tr style=\"text-align: right;\">\n",
       "      <th></th>\n",
       "      <th>id</th>\n",
       "      <th>entities.hashtags</th>\n",
       "      <th>tag</th>\n",
       "    </tr>\n",
       "  </thead>\n",
       "  <tbody>\n",
       "    <tr>\n",
       "      <th>13</th>\n",
       "      <td>1330136987232301058</td>\n",
       "      <td>{'text': 'Johnson', 'indices': [0, 8]}</td>\n",
       "      <td>Johnson</td>\n",
       "    </tr>\n",
       "    <tr>\n",
       "      <th>80</th>\n",
       "      <td>1330136822849134593</td>\n",
       "      <td>{'text': 'BullyingisNEVERok', 'indices': [218,...</td>\n",
       "      <td>BullyingisNEVERok</td>\n",
       "    </tr>\n",
       "    <tr>\n",
       "      <th>111</th>\n",
       "      <td>1330136754515550211</td>\n",
       "      <td>{'text': 'Astroturfers', 'indices': [241, 254]}</td>\n",
       "      <td>Astroturfers</td>\n",
       "    </tr>\n",
       "    <tr>\n",
       "      <th>145</th>\n",
       "      <td>1330136672273633280</td>\n",
       "      <td>{'text': 'bbcaq', 'indices': [66, 72]}</td>\n",
       "      <td>bbcaq</td>\n",
       "    </tr>\n",
       "    <tr>\n",
       "      <th>148</th>\n",
       "      <td>1330136669551464449</td>\n",
       "      <td>{'text': 'PritiPatel', 'indices': [238, 249]}</td>\n",
       "      <td>PritiPatel</td>\n",
       "    </tr>\n",
       "    <tr>\n",
       "      <th>...</th>\n",
       "      <td>...</td>\n",
       "      <td>...</td>\n",
       "      <td>...</td>\n",
       "    </tr>\n",
       "    <tr>\n",
       "      <th>24204</th>\n",
       "      <td>1329684884118450177</td>\n",
       "      <td>{'text': 'FollowBackFriday', 'indices': [254, ...</td>\n",
       "      <td>FollowBackFriday</td>\n",
       "    </tr>\n",
       "    <tr>\n",
       "      <th>24204</th>\n",
       "      <td>1329684884118450177</td>\n",
       "      <td>{'text': 'FBPE', 'indices': [272, 277]}</td>\n",
       "      <td>FBPE</td>\n",
       "    </tr>\n",
       "    <tr>\n",
       "      <th>24205</th>\n",
       "      <td>1329523082202058754</td>\n",
       "      <td>{'text': 'shapeshiftingcreep', 'indices': [81,...</td>\n",
       "      <td>shapeshiftingcreep</td>\n",
       "    </tr>\n",
       "    <tr>\n",
       "      <th>24205</th>\n",
       "      <td>1329523082202058754</td>\n",
       "      <td>{'text': 'bullying', 'indices': [154, 163]}</td>\n",
       "      <td>bullying</td>\n",
       "    </tr>\n",
       "    <tr>\n",
       "      <th>24205</th>\n",
       "      <td>1329523082202058754</td>\n",
       "      <td>{'text': 'CORRUPTION', 'indices': [164, 175]}</td>\n",
       "      <td>CORRUPTION</td>\n",
       "    </tr>\n",
       "  </tbody>\n",
       "</table>\n",
       "<p>1303 rows × 3 columns</p>\n",
       "</div>"
      ],
      "text/plain": [
       "                        id                                  entities.hashtags  \\\n",
       "13     1330136987232301058             {'text': 'Johnson', 'indices': [0, 8]}   \n",
       "80     1330136822849134593  {'text': 'BullyingisNEVERok', 'indices': [218,...   \n",
       "111    1330136754515550211    {'text': 'Astroturfers', 'indices': [241, 254]}   \n",
       "145    1330136672273633280             {'text': 'bbcaq', 'indices': [66, 72]}   \n",
       "148    1330136669551464449      {'text': 'PritiPatel', 'indices': [238, 249]}   \n",
       "...                    ...                                                ...   \n",
       "24204  1329684884118450177  {'text': 'FollowBackFriday', 'indices': [254, ...   \n",
       "24204  1329684884118450177            {'text': 'FBPE', 'indices': [272, 277]}   \n",
       "24205  1329523082202058754  {'text': 'shapeshiftingcreep', 'indices': [81,...   \n",
       "24205  1329523082202058754        {'text': 'bullying', 'indices': [154, 163]}   \n",
       "24205  1329523082202058754      {'text': 'CORRUPTION', 'indices': [164, 175]}   \n",
       "\n",
       "                      tag  \n",
       "13                Johnson  \n",
       "80      BullyingisNEVERok  \n",
       "111          Astroturfers  \n",
       "145                 bbcaq  \n",
       "148            PritiPatel  \n",
       "...                   ...  \n",
       "24204    FollowBackFriday  \n",
       "24204                FBPE  \n",
       "24205  shapeshiftingcreep  \n",
       "24205            bullying  \n",
       "24205          CORRUPTION  \n",
       "\n",
       "[1303 rows x 3 columns]"
      ]
     },
     "execution_count": 32,
     "metadata": {},
     "output_type": "execute_result"
    }
   ],
   "source": [
    "hashtag_data['tag'] = hashtag_data['entities.hashtags'].apply(extract_entity, entity_key='text')\n",
    "hashtag_data"
   ]
  },
  {
   "cell_type": "code",
   "execution_count": 33,
   "metadata": {},
   "outputs": [
    {
     "data": {
      "text/plain": [
       "PritiPatel               160\n",
       "AntiBullyingWeek          54\n",
       "BullyPatel                46\n",
       "r4today                   41\n",
       "PritiPatelBullying        39\n",
       "PritiBully                35\n",
       "sackpritipatel            26\n",
       "BBCBreakfast              24\n",
       "KayBurley                 23\n",
       "ToryCorruption            23\n",
       "bullying                  23\n",
       "Newsnight                 19\n",
       "BorisJohnsonMustGo        18\n",
       "BullyingAwarenessWeek     18\n",
       "ToryScum                  17\n",
       "patelmustgo               14\n",
       "payfreeze                 13\n",
       "Antibullyingweek2020      11\n",
       "BorisJohnson              11\n",
       "PritiAwful                10\n",
       "Name: tag, dtype: int64"
      ]
     },
     "execution_count": 33,
     "metadata": {},
     "output_type": "execute_result"
    }
   ],
   "source": [
    "# now we can ask how many times each tag is used...\n",
    "hashtag_data['tag'].value_counts().head(20)"
   ]
  },
  {
   "cell_type": "code",
   "execution_count": 34,
   "metadata": {},
   "outputs": [
    {
     "data": {
      "text/html": [
       "<div>\n",
       "<style scoped>\n",
       "    .dataframe tbody tr th:only-of-type {\n",
       "        vertical-align: middle;\n",
       "    }\n",
       "\n",
       "    .dataframe tbody tr th {\n",
       "        vertical-align: top;\n",
       "    }\n",
       "\n",
       "    .dataframe thead th {\n",
       "        text-align: right;\n",
       "    }\n",
       "</style>\n",
       "<table border=\"1\" class=\"dataframe\">\n",
       "  <thead>\n",
       "    <tr style=\"text-align: right;\">\n",
       "      <th></th>\n",
       "      <th>index</th>\n",
       "      <th>tag</th>\n",
       "    </tr>\n",
       "  </thead>\n",
       "  <tbody>\n",
       "    <tr>\n",
       "      <th>0</th>\n",
       "      <td>PritiPatel</td>\n",
       "      <td>160</td>\n",
       "    </tr>\n",
       "    <tr>\n",
       "      <th>1</th>\n",
       "      <td>AntiBullyingWeek</td>\n",
       "      <td>54</td>\n",
       "    </tr>\n",
       "    <tr>\n",
       "      <th>2</th>\n",
       "      <td>BullyPatel</td>\n",
       "      <td>46</td>\n",
       "    </tr>\n",
       "    <tr>\n",
       "      <th>3</th>\n",
       "      <td>r4today</td>\n",
       "      <td>41</td>\n",
       "    </tr>\n",
       "    <tr>\n",
       "      <th>4</th>\n",
       "      <td>PritiPatelBullying</td>\n",
       "      <td>39</td>\n",
       "    </tr>\n",
       "    <tr>\n",
       "      <th>5</th>\n",
       "      <td>PritiBully</td>\n",
       "      <td>35</td>\n",
       "    </tr>\n",
       "    <tr>\n",
       "      <th>6</th>\n",
       "      <td>sackpritipatel</td>\n",
       "      <td>26</td>\n",
       "    </tr>\n",
       "    <tr>\n",
       "      <th>7</th>\n",
       "      <td>BBCBreakfast</td>\n",
       "      <td>24</td>\n",
       "    </tr>\n",
       "    <tr>\n",
       "      <th>8</th>\n",
       "      <td>KayBurley</td>\n",
       "      <td>23</td>\n",
       "    </tr>\n",
       "    <tr>\n",
       "      <th>9</th>\n",
       "      <td>ToryCorruption</td>\n",
       "      <td>23</td>\n",
       "    </tr>\n",
       "    <tr>\n",
       "      <th>10</th>\n",
       "      <td>bullying</td>\n",
       "      <td>23</td>\n",
       "    </tr>\n",
       "    <tr>\n",
       "      <th>11</th>\n",
       "      <td>Newsnight</td>\n",
       "      <td>19</td>\n",
       "    </tr>\n",
       "    <tr>\n",
       "      <th>12</th>\n",
       "      <td>BorisJohnsonMustGo</td>\n",
       "      <td>18</td>\n",
       "    </tr>\n",
       "    <tr>\n",
       "      <th>13</th>\n",
       "      <td>BullyingAwarenessWeek</td>\n",
       "      <td>18</td>\n",
       "    </tr>\n",
       "    <tr>\n",
       "      <th>14</th>\n",
       "      <td>ToryScum</td>\n",
       "      <td>17</td>\n",
       "    </tr>\n",
       "    <tr>\n",
       "      <th>15</th>\n",
       "      <td>patelmustgo</td>\n",
       "      <td>14</td>\n",
       "    </tr>\n",
       "    <tr>\n",
       "      <th>16</th>\n",
       "      <td>payfreeze</td>\n",
       "      <td>13</td>\n",
       "    </tr>\n",
       "    <tr>\n",
       "      <th>17</th>\n",
       "      <td>Antibullyingweek2020</td>\n",
       "      <td>11</td>\n",
       "    </tr>\n",
       "    <tr>\n",
       "      <th>18</th>\n",
       "      <td>BorisJohnson</td>\n",
       "      <td>11</td>\n",
       "    </tr>\n",
       "    <tr>\n",
       "      <th>19</th>\n",
       "      <td>PritiAwful</td>\n",
       "      <td>10</td>\n",
       "    </tr>\n",
       "  </tbody>\n",
       "</table>\n",
       "</div>"
      ],
      "text/plain": [
       "                    index  tag\n",
       "0              PritiPatel  160\n",
       "1        AntiBullyingWeek   54\n",
       "2              BullyPatel   46\n",
       "3                 r4today   41\n",
       "4      PritiPatelBullying   39\n",
       "5              PritiBully   35\n",
       "6          sackpritipatel   26\n",
       "7            BBCBreakfast   24\n",
       "8               KayBurley   23\n",
       "9          ToryCorruption   23\n",
       "10               bullying   23\n",
       "11              Newsnight   19\n",
       "12     BorisJohnsonMustGo   18\n",
       "13  BullyingAwarenessWeek   18\n",
       "14               ToryScum   17\n",
       "15            patelmustgo   14\n",
       "16              payfreeze   13\n",
       "17   Antibullyingweek2020   11\n",
       "18           BorisJohnson   11\n",
       "19             PritiAwful   10"
      ]
     },
     "execution_count": 34,
     "metadata": {},
     "output_type": "execute_result"
    }
   ],
   "source": [
    "plot_tag_data = hashtag_data['tag'].value_counts().head(20).reset_index()\n",
    "plot_tag_data"
   ]
  },
  {
   "cell_type": "code",
   "execution_count": 35,
   "metadata": {},
   "outputs": [
    {
     "data": {
      "image/png": "[encoded data removed]",
      "text/plain": [
       "<Figure size 720x360 with 1 Axes>"
      ]
     },
     "metadata": {
      "needs_background": "light"
     },
     "output_type": "display_data"
    }
   ],
   "source": [
    "plot = sns.barplot(x='index', y='tag', data=plot_tag_data)\n",
    "plot.set_xticklabels(plot.get_xticklabels(), \n",
    "                          rotation=90, \n",
    "                          horizontalalignment='right')\n",
    "plt.title(\"Top 20 Hashtags\")\n",
    "plt.xlabel('Tag')\n",
    "plt.ylabel('Freqency')\n",
    "\n",
    "fig = plt.gcf()\n",
    "fig.set_size_inches(10, 5)\n",
    "plt.show()"
   ]
  },
  {
   "cell_type": "markdown",
   "metadata": {},
   "source": [
    "As usual, all the above can be condensed down into a few lines, and/or a small function..."
   ]
  },
  {
   "cell_type": "code",
   "execution_count": 36,
   "metadata": {},
   "outputs": [],
   "source": [
    "# We made this one earlier\n",
    "def extract_entity(entity_dict, entity_key):\n",
    "    return entity_dict[entity_key]\n",
    "\n",
    "\n",
    "def extract_entities(df, entity_column, entity_key, new_column_name):\n",
    "     \n",
    "    entity_data = df.explode(entity_column).copy()\n",
    "    \n",
    "    not_empty = ~entity_data[entity_column].isna()\n",
    "    entity_data = entity_data[not_empty]\n",
    "    \n",
    "    entity_data[new_column_name] = entity_data[entity_column].apply(extract_entity, entity_key=entity_key)\n",
    "    return entity_data\n",
    "    "
   ]
  },
  {
   "cell_type": "code",
   "execution_count": 37,
   "metadata": {},
   "outputs": [],
   "source": [
    "hashtag_data = extract_entities(df, entity_column='entities.hashtags',entity_key='text', new_column_name='tag')"
   ]
  },
  {
   "cell_type": "code",
   "execution_count": 38,
   "metadata": {},
   "outputs": [
    {
     "data": {
      "text/html": [
       "<div>\n",
       "<style scoped>\n",
       "    .dataframe tbody tr th:only-of-type {\n",
       "        vertical-align: middle;\n",
       "    }\n",
       "\n",
       "    .dataframe tbody tr th {\n",
       "        vertical-align: top;\n",
       "    }\n",
       "\n",
       "    .dataframe thead th {\n",
       "        text-align: right;\n",
       "    }\n",
       "</style>\n",
       "<table border=\"1\" class=\"dataframe\">\n",
       "  <thead>\n",
       "    <tr style=\"text-align: right;\">\n",
       "      <th></th>\n",
       "      <th>id</th>\n",
       "      <th>entities.hashtags</th>\n",
       "      <th>tag</th>\n",
       "    </tr>\n",
       "  </thead>\n",
       "  <tbody>\n",
       "    <tr>\n",
       "      <th>13</th>\n",
       "      <td>1330136987232301058</td>\n",
       "      <td>{'text': 'Johnson', 'indices': [0, 8]}</td>\n",
       "      <td>Johnson</td>\n",
       "    </tr>\n",
       "    <tr>\n",
       "      <th>80</th>\n",
       "      <td>1330136822849134593</td>\n",
       "      <td>{'text': 'BullyingisNEVERok', 'indices': [218,...</td>\n",
       "      <td>BullyingisNEVERok</td>\n",
       "    </tr>\n",
       "    <tr>\n",
       "      <th>111</th>\n",
       "      <td>1330136754515550211</td>\n",
       "      <td>{'text': 'Astroturfers', 'indices': [241, 254]}</td>\n",
       "      <td>Astroturfers</td>\n",
       "    </tr>\n",
       "    <tr>\n",
       "      <th>145</th>\n",
       "      <td>1330136672273633280</td>\n",
       "      <td>{'text': 'bbcaq', 'indices': [66, 72]}</td>\n",
       "      <td>bbcaq</td>\n",
       "    </tr>\n",
       "    <tr>\n",
       "      <th>148</th>\n",
       "      <td>1330136669551464449</td>\n",
       "      <td>{'text': 'PritiPatel', 'indices': [238, 249]}</td>\n",
       "      <td>PritiPatel</td>\n",
       "    </tr>\n",
       "    <tr>\n",
       "      <th>...</th>\n",
       "      <td>...</td>\n",
       "      <td>...</td>\n",
       "      <td>...</td>\n",
       "    </tr>\n",
       "    <tr>\n",
       "      <th>24204</th>\n",
       "      <td>1329684884118450177</td>\n",
       "      <td>{'text': 'FollowBackFriday', 'indices': [254, ...</td>\n",
       "      <td>FollowBackFriday</td>\n",
       "    </tr>\n",
       "    <tr>\n",
       "      <th>24204</th>\n",
       "      <td>1329684884118450177</td>\n",
       "      <td>{'text': 'FBPE', 'indices': [272, 277]}</td>\n",
       "      <td>FBPE</td>\n",
       "    </tr>\n",
       "    <tr>\n",
       "      <th>24205</th>\n",
       "      <td>1329523082202058754</td>\n",
       "      <td>{'text': 'shapeshiftingcreep', 'indices': [81,...</td>\n",
       "      <td>shapeshiftingcreep</td>\n",
       "    </tr>\n",
       "    <tr>\n",
       "      <th>24205</th>\n",
       "      <td>1329523082202058754</td>\n",
       "      <td>{'text': 'bullying', 'indices': [154, 163]}</td>\n",
       "      <td>bullying</td>\n",
       "    </tr>\n",
       "    <tr>\n",
       "      <th>24205</th>\n",
       "      <td>1329523082202058754</td>\n",
       "      <td>{'text': 'CORRUPTION', 'indices': [164, 175]}</td>\n",
       "      <td>CORRUPTION</td>\n",
       "    </tr>\n",
       "  </tbody>\n",
       "</table>\n",
       "<p>1303 rows × 3 columns</p>\n",
       "</div>"
      ],
      "text/plain": [
       "                        id                                  entities.hashtags  \\\n",
       "13     1330136987232301058             {'text': 'Johnson', 'indices': [0, 8]}   \n",
       "80     1330136822849134593  {'text': 'BullyingisNEVERok', 'indices': [218,...   \n",
       "111    1330136754515550211    {'text': 'Astroturfers', 'indices': [241, 254]}   \n",
       "145    1330136672273633280             {'text': 'bbcaq', 'indices': [66, 72]}   \n",
       "148    1330136669551464449      {'text': 'PritiPatel', 'indices': [238, 249]}   \n",
       "...                    ...                                                ...   \n",
       "24204  1329684884118450177  {'text': 'FollowBackFriday', 'indices': [254, ...   \n",
       "24204  1329684884118450177            {'text': 'FBPE', 'indices': [272, 277]}   \n",
       "24205  1329523082202058754  {'text': 'shapeshiftingcreep', 'indices': [81,...   \n",
       "24205  1329523082202058754        {'text': 'bullying', 'indices': [154, 163]}   \n",
       "24205  1329523082202058754      {'text': 'CORRUPTION', 'indices': [164, 175]}   \n",
       "\n",
       "                      tag  \n",
       "13                Johnson  \n",
       "80      BullyingisNEVERok  \n",
       "111          Astroturfers  \n",
       "145                 bbcaq  \n",
       "148            PritiPatel  \n",
       "...                   ...  \n",
       "24204    FollowBackFriday  \n",
       "24204                FBPE  \n",
       "24205  shapeshiftingcreep  \n",
       "24205            bullying  \n",
       "24205          CORRUPTION  \n",
       "\n",
       "[1303 rows x 3 columns]"
      ]
     },
     "execution_count": 38,
     "metadata": {},
     "output_type": "execute_result"
    }
   ],
   "source": [
    "subset = ['id','entities.hashtags','tag']\n",
    "hashtag_data[subset]"
   ]
  },
  {
   "cell_type": "markdown",
   "metadata": {},
   "source": [
    "With the way we've designed our function, we can apply it to any entities column..."
   ]
  },
  {
   "cell_type": "code",
   "execution_count": 39,
   "metadata": {},
   "outputs": [
    {
     "data": {
      "text/plain": [
       "2        [{'screen_name': 'BorisJohnson', 'name': 'Bori...\n",
       "3                                                       []\n",
       "10       [{'screen_name': 'UKChange', 'name': 'Change.o...\n",
       "13                                                      []\n",
       "36       [{'screen_name': 'YouTube', 'name': 'YouTube',...\n",
       "                               ...                        \n",
       "24209    [{'screen_name': 'talkRADIO', 'name': 'talkRAD...\n",
       "24210    [{'screen_name': 'PaulBrandITV', 'name': 'Paul...\n",
       "24211                                                   []\n",
       "24212                                                   []\n",
       "24213                                                   []\n",
       "Name: entities.user_mentions, Length: 4658, dtype: object"
      ]
     },
     "execution_count": 39,
     "metadata": {},
     "output_type": "execute_result"
    }
   ],
   "source": [
    "df['entities.user_mentions']"
   ]
  },
  {
   "cell_type": "code",
   "execution_count": 40,
   "metadata": {},
   "outputs": [],
   "source": [
    "user_mentions = extract_entities(df, entity_column='entities.user_mentions',entity_key='screen_name', new_column_name='mentioned')"
   ]
  },
  {
   "cell_type": "code",
   "execution_count": 41,
   "metadata": {},
   "outputs": [
    {
     "data": {
      "text/html": [
       "<div>\n",
       "<style scoped>\n",
       "    .dataframe tbody tr th:only-of-type {\n",
       "        vertical-align: middle;\n",
       "    }\n",
       "\n",
       "    .dataframe tbody tr th {\n",
       "        vertical-align: top;\n",
       "    }\n",
       "\n",
       "    .dataframe thead th {\n",
       "        text-align: right;\n",
       "    }\n",
       "</style>\n",
       "<table border=\"1\" class=\"dataframe\">\n",
       "  <thead>\n",
       "    <tr style=\"text-align: right;\">\n",
       "      <th></th>\n",
       "      <th>id</th>\n",
       "      <th>entities.user_mentions</th>\n",
       "      <th>mentioned</th>\n",
       "    </tr>\n",
       "  </thead>\n",
       "  <tbody>\n",
       "    <tr>\n",
       "      <th>2</th>\n",
       "      <td>1330137019679432707</td>\n",
       "      <td>{'screen_name': 'BorisJohnson', 'name': 'Boris...</td>\n",
       "      <td>BorisJohnson</td>\n",
       "    </tr>\n",
       "    <tr>\n",
       "      <th>10</th>\n",
       "      <td>1330136998124904449</td>\n",
       "      <td>{'screen_name': 'UKChange', 'name': 'Change.or...</td>\n",
       "      <td>UKChange</td>\n",
       "    </tr>\n",
       "    <tr>\n",
       "      <th>36</th>\n",
       "      <td>1330136912443666432</td>\n",
       "      <td>{'screen_name': 'YouTube', 'name': 'YouTube', ...</td>\n",
       "      <td>YouTube</td>\n",
       "    </tr>\n",
       "    <tr>\n",
       "      <th>40</th>\n",
       "      <td>1330136904109580289</td>\n",
       "      <td>{'screen_name': 'ShazadAkbar', 'name': 'Mirza ...</td>\n",
       "      <td>ShazadAkbar</td>\n",
       "    </tr>\n",
       "    <tr>\n",
       "      <th>55</th>\n",
       "      <td>1330136875189858304</td>\n",
       "      <td>{'screen_name': 'mariacaulfield', 'name': 'Mar...</td>\n",
       "      <td>mariacaulfield</td>\n",
       "    </tr>\n",
       "    <tr>\n",
       "      <th>...</th>\n",
       "      <td>...</td>\n",
       "      <td>...</td>\n",
       "      <td>...</td>\n",
       "    </tr>\n",
       "    <tr>\n",
       "      <th>24199</th>\n",
       "      <td>1329570682196402179</td>\n",
       "      <td>{'screen_name': 'pritipatel', 'name': 'Priti P...</td>\n",
       "      <td>pritipatel</td>\n",
       "    </tr>\n",
       "    <tr>\n",
       "      <th>24209</th>\n",
       "      <td>1329676144745074689</td>\n",
       "      <td>{'screen_name': 'talkRADIO', 'name': 'talkRADI...</td>\n",
       "      <td>talkRADIO</td>\n",
       "    </tr>\n",
       "    <tr>\n",
       "      <th>24209</th>\n",
       "      <td>1329676144745074689</td>\n",
       "      <td>{'screen_name': 'JuliaHB1', 'name': 'Julia Har...</td>\n",
       "      <td>JuliaHB1</td>\n",
       "    </tr>\n",
       "    <tr>\n",
       "      <th>24209</th>\n",
       "      <td>1329676144745074689</td>\n",
       "      <td>{'screen_name': 'mrstevenallen', 'name': 'Stev...</td>\n",
       "      <td>mrstevenallen</td>\n",
       "    </tr>\n",
       "    <tr>\n",
       "      <th>24210</th>\n",
       "      <td>1329556103982706690</td>\n",
       "      <td>{'screen_name': 'PaulBrandITV', 'name': 'Paul ...</td>\n",
       "      <td>PaulBrandITV</td>\n",
       "    </tr>\n",
       "  </tbody>\n",
       "</table>\n",
       "<p>2829 rows × 3 columns</p>\n",
       "</div>"
      ],
      "text/plain": [
       "                        id                             entities.user_mentions  \\\n",
       "2      1330137019679432707  {'screen_name': 'BorisJohnson', 'name': 'Boris...   \n",
       "10     1330136998124904449  {'screen_name': 'UKChange', 'name': 'Change.or...   \n",
       "36     1330136912443666432  {'screen_name': 'YouTube', 'name': 'YouTube', ...   \n",
       "40     1330136904109580289  {'screen_name': 'ShazadAkbar', 'name': 'Mirza ...   \n",
       "55     1330136875189858304  {'screen_name': 'mariacaulfield', 'name': 'Mar...   \n",
       "...                    ...                                                ...   \n",
       "24199  1329570682196402179  {'screen_name': 'pritipatel', 'name': 'Priti P...   \n",
       "24209  1329676144745074689  {'screen_name': 'talkRADIO', 'name': 'talkRADI...   \n",
       "24209  1329676144745074689  {'screen_name': 'JuliaHB1', 'name': 'Julia Har...   \n",
       "24209  1329676144745074689  {'screen_name': 'mrstevenallen', 'name': 'Stev...   \n",
       "24210  1329556103982706690  {'screen_name': 'PaulBrandITV', 'name': 'Paul ...   \n",
       "\n",
       "            mentioned  \n",
       "2        BorisJohnson  \n",
       "10           UKChange  \n",
       "36            YouTube  \n",
       "40        ShazadAkbar  \n",
       "55     mariacaulfield  \n",
       "...               ...  \n",
       "24199      pritipatel  \n",
       "24209       talkRADIO  \n",
       "24209        JuliaHB1  \n",
       "24209   mrstevenallen  \n",
       "24210    PaulBrandITV  \n",
       "\n",
       "[2829 rows x 3 columns]"
      ]
     },
     "execution_count": 41,
     "metadata": {},
     "output_type": "execute_result"
    }
   ],
   "source": [
    "subset = ['id','entities.user_mentions','mentioned']\n",
    "user_mentions[subset]"
   ]
  },
  {
   "cell_type": "code",
   "execution_count": 42,
   "metadata": {},
   "outputs": [
    {
     "data": {
      "image/png": "[encoded data removed]",
      "text/plain": [
       "<Figure size 720x360 with 1 Axes>"
      ]
     },
     "metadata": {
      "needs_background": "light"
     },
     "output_type": "display_data"
    }
   ],
   "source": [
    "plot_data = user_mentions['mentioned'].value_counts().head(20).reset_index()\n",
    "\n",
    "plot = sns.barplot(x='index', y='mentioned', data=plot_data)\n",
    "plot.set_xticklabels(plot.get_xticklabels(), \n",
    "                          rotation=90, \n",
    "                          horizontalalignment='right')\n",
    "plt.title(\"Top 20 Users Mentioned\")\n",
    "plt.xlabel('User')\n",
    "plt.ylabel('Freqency')\n",
    "\n",
    "fig = plt.gcf()\n",
    "fig.set_size_inches(10, 5)\n",
    "plt.show()"
   ]
  },
  {
   "cell_type": "markdown",
   "metadata": {},
   "source": [
    "# Finding text\n",
    "Sometimes it is useful to filter, or find Tweets based on their text content. For example in this debate, some mentioned John Bercow, as another case where bullying was mentioned. Let's create a variable that allows us to split our data based on whether Bercow is mentioned or not."
   ]
  },
  {
   "cell_type": "code",
   "execution_count": 43,
   "metadata": {},
   "outputs": [],
   "source": [
    "bercow_filter = df['full_text'].str.contains('bercow', case=False)"
   ]
  },
  {
   "cell_type": "code",
   "execution_count": 44,
   "metadata": {},
   "outputs": [],
   "source": [
    "df['bercow_mentioned'] = df['full_text'].str.contains('bercow', case=False)"
   ]
  },
  {
   "cell_type": "code",
   "execution_count": 45,
   "metadata": {},
   "outputs": [
    {
     "data": {
      "text/plain": [
       "<AxesSubplot:xlabel='bercow_mentioned'>"
      ]
     },
     "execution_count": 45,
     "metadata": {},
     "output_type": "execute_result"
    },
    {
     "data": {
      "image/png": "[encoded data removed]",
      "text/plain": [
       "<Figure size 432x288 with 1 Axes>"
      ]
     },
     "metadata": {
      "needs_background": "light"
     },
     "output_type": "display_data"
    }
   ],
   "source": [
    "subset=['id','bercow_mentioned']\n",
    "df[subset].groupby('bercow_mentioned').count().plot(kind='bar')"
   ]
  },
  {
   "cell_type": "markdown",
   "metadata": {},
   "source": [
    "## Time Series of Tweets\n",
    "Sometimes it is really useful to get a sense of the time distribution of tweets. We can use Time series information to...\n",
    "\n",
    "- See trends such as peak times for particular topics\n",
    "- Detect potential co-ordinated disinformation campaigns by examining...\n",
    "  - the account creation date of all the accounts pushing a particular hashtag. Were a significant proportion of the accounts created in a small window of time?\n",
    "  - the rate at which accounts are tweeting. Some accounts might tweets hundreds of times per hour - upwards of 50 is considered highly unusual.\n",
    "\n",
    "To ensure Pandas understands that the information in a column is a date, we convert it into date format..."
   ]
  },
  {
   "cell_type": "code",
   "execution_count": 46,
   "metadata": {},
   "outputs": [],
   "source": [
    "df['created_at'] = pd.to_datetime(df['created_at']) #easy!\n"
   ]
  },
  {
   "cell_type": "code",
   "execution_count": 50,
   "metadata": {},
   "outputs": [
    {
     "name": "stderr",
     "output_type": "stream",
     "text": [
      "/Users/James/anaconda3/envs/teaching/lib/python3.7/site-packages/ipykernel_launcher.py:2: FutureWarning: Treating datetime data as categorical rather than numeric in `.describe` is deprecated and will be removed in a future version of pandas. Specify `datetime_is_numeric=True` to silence this warning and adopt the future behavior now.\n",
      "  \n"
     ]
    },
    {
     "data": {
      "text/plain": [
       "count                          4658\n",
       "unique                         4238\n",
       "top       2020-11-20 07:59:33+00:00\n",
       "freq                              4\n",
       "first     2015-10-08 23:47:15+00:00\n",
       "last      2020-11-21 14:44:06+00:00\n",
       "Name: created_at, dtype: object"
      ]
     },
     "execution_count": 50,
     "metadata": {},
     "output_type": "execute_result"
    }
   ],
   "source": [
    "# By changing to a list of datetime objects pandas can now tell us more useful information, such as the earliest and latest date in the dataset\n",
    "df['created_at'].describe()"
   ]
  },
  {
   "cell_type": "code",
   "execution_count": 51,
   "metadata": {},
   "outputs": [],
   "source": [
    "# we can also filter it, such as asking for dates only after a certain point\n",
    "\n",
    "date_filter = df['created_at'] > \"2020-11-20\"\n",
    "recent_tweets = df[date_filter]"
   ]
  },
  {
   "cell_type": "markdown",
   "metadata": {},
   "source": [
    "We then want to group our data into periods of time. There is no point grouping our data just on the 'created_at' column, because every time stamp will be slightly different by a second or two. Grouping by time needs a special object called a `Grouper`.\n",
    "\n",
    "First we create a grouper. We provide it two arguments\n",
    "- The `key` which is the column you want to group by\n",
    "- The `freq` which specifies the time period you want to group by for example 'd' for day, or 'h' for hour, or 'min' for minute.\n",
    "- You can see all the options for freq [here in the Pandas documentation](https://pandas.pydata.org/pandas-docs/stable/user_guide/timeseries.html#offset-aliases)\n"
   ]
  },
  {
   "cell_type": "code",
   "execution_count": 52,
   "metadata": {},
   "outputs": [
    {
     "data": {
      "text/html": [
       "<div>\n",
       "<style scoped>\n",
       "    .dataframe tbody tr th:only-of-type {\n",
       "        vertical-align: middle;\n",
       "    }\n",
       "\n",
       "    .dataframe tbody tr th {\n",
       "        vertical-align: top;\n",
       "    }\n",
       "\n",
       "    .dataframe thead th {\n",
       "        text-align: right;\n",
       "    }\n",
       "</style>\n",
       "<table border=\"1\" class=\"dataframe\">\n",
       "  <thead>\n",
       "    <tr style=\"text-align: right;\">\n",
       "      <th></th>\n",
       "      <th>created_at</th>\n",
       "      <th>id</th>\n",
       "    </tr>\n",
       "  </thead>\n",
       "  <tbody>\n",
       "    <tr>\n",
       "      <th>0</th>\n",
       "      <td>2020-11-20 00:00:00+00:00</td>\n",
       "      <td>12</td>\n",
       "    </tr>\n",
       "    <tr>\n",
       "      <th>1</th>\n",
       "      <td>2020-11-20 01:00:00+00:00</td>\n",
       "      <td>6</td>\n",
       "    </tr>\n",
       "    <tr>\n",
       "      <th>2</th>\n",
       "      <td>2020-11-20 02:00:00+00:00</td>\n",
       "      <td>0</td>\n",
       "    </tr>\n",
       "    <tr>\n",
       "      <th>3</th>\n",
       "      <td>2020-11-20 03:00:00+00:00</td>\n",
       "      <td>1</td>\n",
       "    </tr>\n",
       "    <tr>\n",
       "      <th>4</th>\n",
       "      <td>2020-11-20 04:00:00+00:00</td>\n",
       "      <td>3</td>\n",
       "    </tr>\n",
       "  </tbody>\n",
       "</table>\n",
       "</div>"
      ],
      "text/plain": [
       "                 created_at  id\n",
       "0 2020-11-20 00:00:00+00:00  12\n",
       "1 2020-11-20 01:00:00+00:00   6\n",
       "2 2020-11-20 02:00:00+00:00   0\n",
       "3 2020-11-20 03:00:00+00:00   1\n",
       "4 2020-11-20 04:00:00+00:00   3"
      ]
     },
     "execution_count": 52,
     "metadata": {},
     "output_type": "execute_result"
    }
   ],
   "source": [
    "time_grouper = pd.Grouper(key='created_at', freq='h')\n",
    "plot_data = recent_tweets.groupby(time_grouper).count()['id'].reset_index()\n",
    "plot_data.head()"
   ]
  },
  {
   "cell_type": "code",
   "execution_count": 53,
   "metadata": {},
   "outputs": [
    {
     "data": {
      "image/png": "[encoded data removed]",
      "text/plain": [
       "<Figure size 720x360 with 1 Axes>"
      ]
     },
     "metadata": {
      "needs_background": "light"
     },
     "output_type": "display_data"
    }
   ],
   "source": [
    "plot = sns.relplot(x='created_at', y='id', kind='line', data=plot_data,ci=None)\n",
    "\n",
    "plt.title(\"Tweet Frequency by Hour\")\n",
    "plt.xlabel('Time')\n",
    "plt.ylabel('Freqency')\n",
    "\n",
    "fig = plt.gcf()\n",
    "fig.set_size_inches(10, 5)\n",
    "plt.show()"
   ]
  },
  {
   "cell_type": "code",
   "execution_count": 54,
   "metadata": {},
   "outputs": [
    {
     "data": {
      "text/html": [
       "<div>\n",
       "<style scoped>\n",
       "    .dataframe tbody tr th:only-of-type {\n",
       "        vertical-align: middle;\n",
       "    }\n",
       "\n",
       "    .dataframe tbody tr th {\n",
       "        vertical-align: top;\n",
       "    }\n",
       "\n",
       "    .dataframe thead th {\n",
       "        text-align: right;\n",
       "    }\n",
       "</style>\n",
       "<table border=\"1\" class=\"dataframe\">\n",
       "  <thead>\n",
       "    <tr style=\"text-align: right;\">\n",
       "      <th></th>\n",
       "      <th>bercow_mentioned</th>\n",
       "      <th>created_at</th>\n",
       "      <th>id</th>\n",
       "    </tr>\n",
       "  </thead>\n",
       "  <tbody>\n",
       "    <tr>\n",
       "      <th>0</th>\n",
       "      <td>False</td>\n",
       "      <td>2020-11-20 00:00:00+00:00</td>\n",
       "      <td>12</td>\n",
       "    </tr>\n",
       "    <tr>\n",
       "      <th>1</th>\n",
       "      <td>False</td>\n",
       "      <td>2020-11-20 01:00:00+00:00</td>\n",
       "      <td>6</td>\n",
       "    </tr>\n",
       "    <tr>\n",
       "      <th>2</th>\n",
       "      <td>False</td>\n",
       "      <td>2020-11-20 03:00:00+00:00</td>\n",
       "      <td>1</td>\n",
       "    </tr>\n",
       "    <tr>\n",
       "      <th>3</th>\n",
       "      <td>False</td>\n",
       "      <td>2020-11-20 04:00:00+00:00</td>\n",
       "      <td>3</td>\n",
       "    </tr>\n",
       "    <tr>\n",
       "      <th>4</th>\n",
       "      <td>False</td>\n",
       "      <td>2020-11-20 05:00:00+00:00</td>\n",
       "      <td>4</td>\n",
       "    </tr>\n",
       "  </tbody>\n",
       "</table>\n",
       "</div>"
      ],
      "text/plain": [
       "   bercow_mentioned                created_at  id\n",
       "0             False 2020-11-20 00:00:00+00:00  12\n",
       "1             False 2020-11-20 01:00:00+00:00   6\n",
       "2             False 2020-11-20 03:00:00+00:00   1\n",
       "3             False 2020-11-20 04:00:00+00:00   3\n",
       "4             False 2020-11-20 05:00:00+00:00   4"
      ]
     },
     "execution_count": 54,
     "metadata": {},
     "output_type": "execute_result"
    }
   ],
   "source": [
    "time_grouper = pd.Grouper(key='created_at', freq='h')\n",
    "plot_data = recent_tweets.groupby(['bercow_mentioned',time_grouper]).count()['id'].reset_index()\n",
    "plot_data.head()"
   ]
  },
  {
   "cell_type": "code",
   "execution_count": 55,
   "metadata": {},
   "outputs": [
    {
     "data": {
      "image/png": "[encoded data removed]",
      "text/plain": [
       "<Figure size 720x360 with 1 Axes>"
      ]
     },
     "metadata": {
      "needs_background": "light"
     },
     "output_type": "display_data"
    }
   ],
   "source": [
    "plot = sns.relplot(x='created_at', y='id', hue='bercow_mentioned', kind='line', data=plot_data,ci=None)\n",
    "\n",
    "plt.title(\"Tweet Frequency by Hour\")\n",
    "plt.xlabel('Time')\n",
    "plt.ylabel('Freqency')\n",
    "\n",
    "fig = plt.gcf()\n",
    "fig.set_size_inches(10, 5)\n",
    "plt.show()"
   ]
  },
  {
   "cell_type": "markdown",
   "metadata": {},
   "source": [
    "## A slightly more complex one putting together entities and time series"
   ]
  },
  {
   "cell_type": "code",
   "execution_count": 56,
   "metadata": {},
   "outputs": [
    {
     "data": {
      "text/html": [
       "<div>\n",
       "<style scoped>\n",
       "    .dataframe tbody tr th:only-of-type {\n",
       "        vertical-align: middle;\n",
       "    }\n",
       "\n",
       "    .dataframe tbody tr th {\n",
       "        vertical-align: top;\n",
       "    }\n",
       "\n",
       "    .dataframe thead th {\n",
       "        text-align: right;\n",
       "    }\n",
       "</style>\n",
       "<table border=\"1\" class=\"dataframe\">\n",
       "  <thead>\n",
       "    <tr style=\"text-align: right;\">\n",
       "      <th></th>\n",
       "      <th>id</th>\n",
       "      <th>created_at</th>\n",
       "      <th>tag</th>\n",
       "    </tr>\n",
       "  </thead>\n",
       "  <tbody>\n",
       "    <tr>\n",
       "      <th>13</th>\n",
       "      <td>1330136987232301058</td>\n",
       "      <td>2020-11-21 13:12:25+00:00</td>\n",
       "      <td>Johnson</td>\n",
       "    </tr>\n",
       "    <tr>\n",
       "      <th>80</th>\n",
       "      <td>1330136822849134593</td>\n",
       "      <td>2020-11-21 13:11:45+00:00</td>\n",
       "      <td>BullyingisNEVERok</td>\n",
       "    </tr>\n",
       "    <tr>\n",
       "      <th>111</th>\n",
       "      <td>1330136754515550211</td>\n",
       "      <td>2020-11-21 13:11:29+00:00</td>\n",
       "      <td>Astroturfers</td>\n",
       "    </tr>\n",
       "    <tr>\n",
       "      <th>145</th>\n",
       "      <td>1330136672273633280</td>\n",
       "      <td>2020-11-21 13:11:10+00:00</td>\n",
       "      <td>bbcaq</td>\n",
       "    </tr>\n",
       "    <tr>\n",
       "      <th>148</th>\n",
       "      <td>1330136669551464449</td>\n",
       "      <td>2020-11-21 13:11:09+00:00</td>\n",
       "      <td>PritiPatel</td>\n",
       "    </tr>\n",
       "    <tr>\n",
       "      <th>...</th>\n",
       "      <td>...</td>\n",
       "      <td>...</td>\n",
       "      <td>...</td>\n",
       "    </tr>\n",
       "    <tr>\n",
       "      <th>24190</th>\n",
       "      <td>1329690287275466754</td>\n",
       "      <td>2020-11-20 07:37:23+00:00</td>\n",
       "      <td>NeverTrustATory</td>\n",
       "    </tr>\n",
       "    <tr>\n",
       "      <th>24192</th>\n",
       "      <td>1329690589395357696</td>\n",
       "      <td>2020-11-20 07:38:35+00:00</td>\n",
       "      <td>gmb</td>\n",
       "    </tr>\n",
       "    <tr>\n",
       "      <th>24193</th>\n",
       "      <td>1329689822127124485</td>\n",
       "      <td>2020-11-20 07:35:32+00:00</td>\n",
       "      <td>PritiPatel</td>\n",
       "    </tr>\n",
       "    <tr>\n",
       "      <th>24204</th>\n",
       "      <td>1329684884118450177</td>\n",
       "      <td>2020-11-20 07:15:55+00:00</td>\n",
       "      <td>FollowBackFriday</td>\n",
       "    </tr>\n",
       "    <tr>\n",
       "      <th>24204</th>\n",
       "      <td>1329684884118450177</td>\n",
       "      <td>2020-11-20 07:15:55+00:00</td>\n",
       "      <td>FBPE</td>\n",
       "    </tr>\n",
       "  </tbody>\n",
       "</table>\n",
       "<p>1232 rows × 3 columns</p>\n",
       "</div>"
      ],
      "text/plain": [
       "                        id                created_at                tag\n",
       "13     1330136987232301058 2020-11-21 13:12:25+00:00            Johnson\n",
       "80     1330136822849134593 2020-11-21 13:11:45+00:00  BullyingisNEVERok\n",
       "111    1330136754515550211 2020-11-21 13:11:29+00:00       Astroturfers\n",
       "145    1330136672273633280 2020-11-21 13:11:10+00:00              bbcaq\n",
       "148    1330136669551464449 2020-11-21 13:11:09+00:00         PritiPatel\n",
       "...                    ...                       ...                ...\n",
       "24190  1329690287275466754 2020-11-20 07:37:23+00:00    NeverTrustATory\n",
       "24192  1329690589395357696 2020-11-20 07:38:35+00:00                gmb\n",
       "24193  1329689822127124485 2020-11-20 07:35:32+00:00         PritiPatel\n",
       "24204  1329684884118450177 2020-11-20 07:15:55+00:00   FollowBackFriday\n",
       "24204  1329684884118450177 2020-11-20 07:15:55+00:00               FBPE\n",
       "\n",
       "[1232 rows x 3 columns]"
      ]
     },
     "execution_count": 56,
     "metadata": {},
     "output_type": "execute_result"
    }
   ],
   "source": [
    "hashtag_data = extract_entities(recent_tweets, entity_column='entities.hashtags',entity_key='text', new_column_name='tag')\n",
    "\n",
    "subset=['id','created_at','tag']\n",
    "tag_time_data = hashtag_data[subset]\n",
    "tag_time_data"
   ]
  },
  {
   "cell_type": "code",
   "execution_count": 57,
   "metadata": {},
   "outputs": [
    {
     "data": {
      "text/plain": [
       "['PritiPatel',\n",
       " 'AntiBullyingWeek',\n",
       " 'BullyPatel',\n",
       " 'r4today',\n",
       " 'PritiPatelBullying']"
      ]
     },
     "execution_count": 57,
     "metadata": {},
     "output_type": "execute_result"
    }
   ],
   "source": [
    "top_five_tags = tag_time_data['tag'].value_counts().head(5).reset_index()['index'].tolist()\n",
    "top_five_tags"
   ]
  },
  {
   "cell_type": "code",
   "execution_count": 58,
   "metadata": {},
   "outputs": [
    {
     "data": {
      "text/html": [
       "<div>\n",
       "<style scoped>\n",
       "    .dataframe tbody tr th:only-of-type {\n",
       "        vertical-align: middle;\n",
       "    }\n",
       "\n",
       "    .dataframe tbody tr th {\n",
       "        vertical-align: top;\n",
       "    }\n",
       "\n",
       "    .dataframe thead th {\n",
       "        text-align: right;\n",
       "    }\n",
       "</style>\n",
       "<table border=\"1\" class=\"dataframe\">\n",
       "  <thead>\n",
       "    <tr style=\"text-align: right;\">\n",
       "      <th></th>\n",
       "      <th>id</th>\n",
       "      <th>created_at</th>\n",
       "      <th>tag</th>\n",
       "    </tr>\n",
       "  </thead>\n",
       "  <tbody>\n",
       "    <tr>\n",
       "      <th>148</th>\n",
       "      <td>1330136669551464449</td>\n",
       "      <td>2020-11-21 13:11:09+00:00</td>\n",
       "      <td>PritiPatel</td>\n",
       "    </tr>\n",
       "    <tr>\n",
       "      <th>186</th>\n",
       "      <td>1330136551725142024</td>\n",
       "      <td>2020-11-21 13:10:41+00:00</td>\n",
       "      <td>PritiPatel</td>\n",
       "    </tr>\n",
       "    <tr>\n",
       "      <th>221</th>\n",
       "      <td>1330136452240388102</td>\n",
       "      <td>2020-11-21 13:10:17+00:00</td>\n",
       "      <td>PritiPatelBullying</td>\n",
       "    </tr>\n",
       "    <tr>\n",
       "      <th>495</th>\n",
       "      <td>1330135732229451776</td>\n",
       "      <td>2020-11-21 13:07:25+00:00</td>\n",
       "      <td>PritiPatel</td>\n",
       "    </tr>\n",
       "    <tr>\n",
       "      <th>565</th>\n",
       "      <td>1330135604517105664</td>\n",
       "      <td>2020-11-21 13:06:55+00:00</td>\n",
       "      <td>PritiPatel</td>\n",
       "    </tr>\n",
       "    <tr>\n",
       "      <th>...</th>\n",
       "      <td>...</td>\n",
       "      <td>...</td>\n",
       "      <td>...</td>\n",
       "    </tr>\n",
       "    <tr>\n",
       "      <th>24030</th>\n",
       "      <td>1329683438190923776</td>\n",
       "      <td>2020-11-20 07:10:10+00:00</td>\n",
       "      <td>PritiPatel</td>\n",
       "    </tr>\n",
       "    <tr>\n",
       "      <th>24097</th>\n",
       "      <td>1329654262457110528</td>\n",
       "      <td>2020-11-20 05:14:14+00:00</td>\n",
       "      <td>PritiPatel</td>\n",
       "    </tr>\n",
       "    <tr>\n",
       "      <th>24139</th>\n",
       "      <td>1329684626793766913</td>\n",
       "      <td>2020-11-20 07:14:54+00:00</td>\n",
       "      <td>r4today</td>\n",
       "    </tr>\n",
       "    <tr>\n",
       "      <th>24188</th>\n",
       "      <td>1329691714404163584</td>\n",
       "      <td>2020-11-20 07:43:03+00:00</td>\n",
       "      <td>PritiPatel</td>\n",
       "    </tr>\n",
       "    <tr>\n",
       "      <th>24193</th>\n",
       "      <td>1329689822127124485</td>\n",
       "      <td>2020-11-20 07:35:32+00:00</td>\n",
       "      <td>PritiPatel</td>\n",
       "    </tr>\n",
       "  </tbody>\n",
       "</table>\n",
       "<p>327 rows × 3 columns</p>\n",
       "</div>"
      ],
      "text/plain": [
       "                        id                created_at                 tag\n",
       "148    1330136669551464449 2020-11-21 13:11:09+00:00          PritiPatel\n",
       "186    1330136551725142024 2020-11-21 13:10:41+00:00          PritiPatel\n",
       "221    1330136452240388102 2020-11-21 13:10:17+00:00  PritiPatelBullying\n",
       "495    1330135732229451776 2020-11-21 13:07:25+00:00          PritiPatel\n",
       "565    1330135604517105664 2020-11-21 13:06:55+00:00          PritiPatel\n",
       "...                    ...                       ...                 ...\n",
       "24030  1329683438190923776 2020-11-20 07:10:10+00:00          PritiPatel\n",
       "24097  1329654262457110528 2020-11-20 05:14:14+00:00          PritiPatel\n",
       "24139  1329684626793766913 2020-11-20 07:14:54+00:00             r4today\n",
       "24188  1329691714404163584 2020-11-20 07:43:03+00:00          PritiPatel\n",
       "24193  1329689822127124485 2020-11-20 07:35:32+00:00          PritiPatel\n",
       "\n",
       "[327 rows x 3 columns]"
      ]
     },
     "execution_count": 58,
     "metadata": {},
     "output_type": "execute_result"
    }
   ],
   "source": [
    "top_filter = tag_time_data['tag'].isin(top_five_tags)\n",
    "top_data = tag_time_data[top_filter]\n",
    "top_data"
   ]
  },
  {
   "cell_type": "code",
   "execution_count": 59,
   "metadata": {},
   "outputs": [
    {
     "data": {
      "text/html": [
       "<div>\n",
       "<style scoped>\n",
       "    .dataframe tbody tr th:only-of-type {\n",
       "        vertical-align: middle;\n",
       "    }\n",
       "\n",
       "    .dataframe tbody tr th {\n",
       "        vertical-align: top;\n",
       "    }\n",
       "\n",
       "    .dataframe thead th {\n",
       "        text-align: right;\n",
       "    }\n",
       "</style>\n",
       "<table border=\"1\" class=\"dataframe\">\n",
       "  <thead>\n",
       "    <tr style=\"text-align: right;\">\n",
       "      <th></th>\n",
       "      <th>tag</th>\n",
       "      <th>created_at</th>\n",
       "      <th>id</th>\n",
       "    </tr>\n",
       "  </thead>\n",
       "  <tbody>\n",
       "    <tr>\n",
       "      <th>0</th>\n",
       "      <td>AntiBullyingWeek</td>\n",
       "      <td>2020-11-20 07:00:00+00:00</td>\n",
       "      <td>10</td>\n",
       "    </tr>\n",
       "    <tr>\n",
       "      <th>1</th>\n",
       "      <td>AntiBullyingWeek</td>\n",
       "      <td>2020-11-20 08:00:00+00:00</td>\n",
       "      <td>6</td>\n",
       "    </tr>\n",
       "    <tr>\n",
       "      <th>2</th>\n",
       "      <td>AntiBullyingWeek</td>\n",
       "      <td>2020-11-20 09:00:00+00:00</td>\n",
       "      <td>9</td>\n",
       "    </tr>\n",
       "    <tr>\n",
       "      <th>3</th>\n",
       "      <td>AntiBullyingWeek</td>\n",
       "      <td>2020-11-20 10:00:00+00:00</td>\n",
       "      <td>1</td>\n",
       "    </tr>\n",
       "    <tr>\n",
       "      <th>4</th>\n",
       "      <td>AntiBullyingWeek</td>\n",
       "      <td>2020-11-20 12:00:00+00:00</td>\n",
       "      <td>1</td>\n",
       "    </tr>\n",
       "    <tr>\n",
       "      <th>...</th>\n",
       "      <td>...</td>\n",
       "      <td>...</td>\n",
       "      <td>...</td>\n",
       "    </tr>\n",
       "    <tr>\n",
       "      <th>63</th>\n",
       "      <td>r4today</td>\n",
       "      <td>2020-11-20 07:00:00+00:00</td>\n",
       "      <td>14</td>\n",
       "    </tr>\n",
       "    <tr>\n",
       "      <th>64</th>\n",
       "      <td>r4today</td>\n",
       "      <td>2020-11-20 08:00:00+00:00</td>\n",
       "      <td>19</td>\n",
       "    </tr>\n",
       "    <tr>\n",
       "      <th>65</th>\n",
       "      <td>r4today</td>\n",
       "      <td>2020-11-20 09:00:00+00:00</td>\n",
       "      <td>4</td>\n",
       "    </tr>\n",
       "    <tr>\n",
       "      <th>66</th>\n",
       "      <td>r4today</td>\n",
       "      <td>2020-11-21 08:00:00+00:00</td>\n",
       "      <td>1</td>\n",
       "    </tr>\n",
       "    <tr>\n",
       "      <th>67</th>\n",
       "      <td>r4today</td>\n",
       "      <td>2020-11-21 10:00:00+00:00</td>\n",
       "      <td>1</td>\n",
       "    </tr>\n",
       "  </tbody>\n",
       "</table>\n",
       "<p>68 rows × 3 columns</p>\n",
       "</div>"
      ],
      "text/plain": [
       "                 tag                created_at  id\n",
       "0   AntiBullyingWeek 2020-11-20 07:00:00+00:00  10\n",
       "1   AntiBullyingWeek 2020-11-20 08:00:00+00:00   6\n",
       "2   AntiBullyingWeek 2020-11-20 09:00:00+00:00   9\n",
       "3   AntiBullyingWeek 2020-11-20 10:00:00+00:00   1\n",
       "4   AntiBullyingWeek 2020-11-20 12:00:00+00:00   1\n",
       "..               ...                       ...  ..\n",
       "63           r4today 2020-11-20 07:00:00+00:00  14\n",
       "64           r4today 2020-11-20 08:00:00+00:00  19\n",
       "65           r4today 2020-11-20 09:00:00+00:00   4\n",
       "66           r4today 2020-11-21 08:00:00+00:00   1\n",
       "67           r4today 2020-11-21 10:00:00+00:00   1\n",
       "\n",
       "[68 rows x 3 columns]"
      ]
     },
     "execution_count": 59,
     "metadata": {},
     "output_type": "execute_result"
    }
   ],
   "source": [
    "time_grouper = pd.Grouper(key='created_at', freq='h')\n",
    "plot_data = top_data.groupby(['tag',time_grouper]).count()['id'].reset_index()\n",
    "plot_data"
   ]
  },
  {
   "cell_type": "code",
   "execution_count": 60,
   "metadata": {},
   "outputs": [
    {
     "data": {
      "image/png": "[encoded data removed]",
      "text/plain": [
       "<Figure size 720x360 with 1 Axes>"
      ]
     },
     "metadata": {
      "needs_background": "light"
     },
     "output_type": "display_data"
    }
   ],
   "source": [
    "plot = sns.relplot(x='created_at', y='id', hue='tag', kind='line', data=plot_data,ci=None)\n",
    "\n",
    "plt.title(\"Tweet Frequency by Hour\")\n",
    "plt.xlabel('Time')\n",
    "plt.ylabel('Freqency')\n",
    "\n",
    "fig = plt.gcf()\n",
    "fig.set_size_inches(10, 5)\n",
    "plt.show()"
   ]
  },
  {
   "cell_type": "code",
   "execution_count": null,
   "metadata": {},
   "outputs": [],
   "source": []
  }
 ],
 "metadata": {
  "kernelspec": {
   "display_name": "Python [conda env:teaching]",
   "language": "python",
   "name": "conda-env-teaching-py"
  },
  "language_info": {
   "codemirror_mode": {
    "name": "ipython",
    "version": 3
   },
   "file_extension": ".py",
   "mimetype": "text/x-python",
   "name": "python",
   "nbconvert_exporter": "python",
   "pygments_lexer": "ipython3",
   "version": "3.7.8"
  }
 },
 "nbformat": 4,
 "nbformat_minor": 4
}
