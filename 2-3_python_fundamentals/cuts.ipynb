{
 "cells": [
  {
   "cell_type": "code",
   "execution_count": null,
   "metadata": {},
   "outputs": [],
   "source": []
  },
  {
   "cell_type": "markdown",
   "metadata": {
    "nbpresent": {
     "id": "a5e41e63-8bf1-4bc5-9bf7-1db23e9a0877"
    }
   },
   "source": [
    "## Side Note: Type Checking\n",
    "\n",
    "Most of the time your code will know the data type implictly, but it is useful to be able to explicitly set it, and to check it if you're uncertain what type of data a variable is."
   ]
  },
  {
   "cell_type": "code",
   "execution_count": null,
   "metadata": {
    "nbpresent": {
     "id": "1c33b70b-3657-459a-8fc5-c48c828667bf"
    }
   },
   "outputs": [],
   "source": [
    "print ( type('what type is this string?') )\n",
    "print ( type(20) )\n",
    "print ( type(20.0) )\n",
    "\n",
    "our_list = [1,2,3]\n",
    "print ( type(our_list) )\n"
   ]
  },
  {
   "cell_type": "markdown",
   "metadata": {
    "nbpresent": {
     "id": "13b8f7ec-403e-4fd2-8837-8643972c618c"
    }
   },
   "source": [
    "In some cases we can even change types..."
   ]
  },
  {
   "cell_type": "code",
   "execution_count": null,
   "metadata": {
    "nbpresent": {
     "id": "3bdd3689-b4c1-4403-8939-e72d35ec2639"
    },
    "scrolled": true
   },
   "outputs": [],
   "source": [
    "number_string = '1250'\n",
    "print(number_string)\n",
    "print(type(number_string))\n",
    "\n",
    "number_int = int(number_string)\n",
    "print(number_int)\n",
    "print(type(number_int))"
   ]
  },
  {
   "cell_type": "code",
   "execution_count": null,
   "metadata": {
    "nbpresent": {
     "id": "22e2f1ce-17b5-4a01-a0e0-46100db6e70a"
    }
   },
   "outputs": [],
   "source": [
    "# but transformations are tricky, and must be logical\n",
    "print (int('Hello!'))"
   ]
  },
  {
   "cell_type": "code",
   "execution_count": null,
   "metadata": {},
   "outputs": [],
   "source": [
    "# we can use type checking to ensure that our code is running as expected.\n",
    "# The `assert` statement checks that something is True and if not, throws up an 'Assertion error' to stop the code.\n",
    "\n",
    "assert type(number_string) is str\n",
    "print('So far so good!')\n",
    "\n",
    "assert type(number_int) is int\n",
    "print('Another hurdle crossed!')\n",
    "\n",
    "# Some more code happens and somehow number_int gets turned into a string!\n",
    "number_int = str(number_int)\n",
    "\n",
    "assert type(number_int) is int\n",
    "\n",
    "print('Success!!')"
   ]
  },
  {
   "cell_type": "markdown",
   "metadata": {},
   "source": [
    "### Side Note: Chaining\n",
    "This ability is called chaining, where the result of an operation can be immediately passed to another operation.\n",
    "For example we could start with our `friends` string from earlier.\n",
    "\n",
    ">friends = 'Rachel, Monica, Ross, Joey and Chandler'\n",
    "\n",
    "Let's say we want to make everything lower case, split the string into a list by serperating by each comma, then isolate the string 'joey and chandler', split again by spaces, and then select the word chandler. We could do this as a series of individual lines, assigning the result of each operation to a new variable or we could chain the methods together. \n",
    "\n",
    "Watch what happens as we add each method."
   ]
  },
  {
   "cell_type": "code",
   "execution_count": 1,
   "metadata": {},
   "outputs": [],
   "source": [
    "friends = 'Rachel, Monica, Ross, Joey and Chandler' # We'll rerun the variable assignment just to make sure."
   ]
  },
  {
   "cell_type": "code",
   "execution_count": 2,
   "metadata": {},
   "outputs": [
    {
     "data": {
      "text/plain": [
       "'rachel, monica, ross, joey and chandler'"
      ]
     },
     "execution_count": 2,
     "metadata": {},
     "output_type": "execute_result"
    }
   ],
   "source": [
    "friends.lower()"
   ]
  },
  {
   "cell_type": "code",
   "execution_count": 3,
   "metadata": {},
   "outputs": [
    {
     "data": {
      "text/plain": [
       "['rachel', ' monica', ' ross', ' joey and chandler']"
      ]
     },
     "execution_count": 3,
     "metadata": {},
     "output_type": "execute_result"
    }
   ],
   "source": [
    "friends.lower().split(',')"
   ]
  },
  {
   "cell_type": "code",
   "execution_count": 4,
   "metadata": {},
   "outputs": [
    {
     "data": {
      "text/plain": [
       "' joey and chandler'"
      ]
     },
     "execution_count": 4,
     "metadata": {},
     "output_type": "execute_result"
    }
   ],
   "source": [
    "friends.lower().split(',')[3]"
   ]
  },
  {
   "cell_type": "code",
   "execution_count": 5,
   "metadata": {},
   "outputs": [
    {
     "data": {
      "text/plain": [
       "['joey', 'and', 'chandler']"
      ]
     },
     "execution_count": 5,
     "metadata": {},
     "output_type": "execute_result"
    }
   ],
   "source": [
    "friends.lower().split(',')[3].split()"
   ]
  },
  {
   "cell_type": "code",
   "execution_count": 6,
   "metadata": {},
   "outputs": [
    {
     "data": {
      "text/plain": [
       "'joey'"
      ]
     },
     "execution_count": 6,
     "metadata": {},
     "output_type": "execute_result"
    }
   ],
   "source": [
    "joey = friends.lower().split(',')[3].split()[0]\n",
    "joey"
   ]
  },
  {
   "cell_type": "code",
   "execution_count": 7,
   "metadata": {},
   "outputs": [
    {
     "data": {
      "text/plain": [
       "'chandler'"
      ]
     },
     "execution_count": 7,
     "metadata": {},
     "output_type": "execute_result"
    }
   ],
   "source": [
    "# NOTE:  We did not need all those intermediary steps to achieve this result....\n",
    "chandler = friends.lower().split(',')[3].split()[2]\n",
    "chandler"
   ]
  },
  {
   "cell_type": "code",
   "execution_count": 8,
   "metadata": {},
   "outputs": [
    {
     "data": {
      "text/plain": [
       "'chandler'"
      ]
     },
     "execution_count": 8,
     "metadata": {},
     "output_type": "execute_result"
    }
   ],
   "source": [
    "# Note that this is purely to demonstrate chaining.\n",
    "# A far more efficient approach would be to slice 'Chandler' off the end and then use the .lower() method.\n",
    "\n",
    "friends[-8:].lower()"
   ]
  },
  {
   "cell_type": "markdown",
   "metadata": {},
   "source": [
    "### Side Note Key Points\n",
    "1. In programming the same ends can be achieved using a range of different means.\n",
    "2. Chaining is a useful technique to save time and avoid making too many variables. \n",
    "3. However in Python, readability is highly valued. Sometimes it is better to have more lines of code that are intelligible to a human reader than to just have a single line of code that does 100 operations."
   ]
  },
  {
   "cell_type": "code",
   "execution_count": null,
   "metadata": {},
   "outputs": [],
   "source": []
  },
  {
   "cell_type": "markdown",
   "metadata": {},
   "source": [
    "<a id='dictionaries'></a>\n",
    "\n",
    "## 6. Dictionaries\n",
    "Lists are useful because they provide an ordered collection of values. The value of dictionaries is that they paired  keys and values. This allows you to refer to a dictionary's key, and it will return the associated value. They can be helpful in that they can provide a label for a value, and can be used to ensure pairs of values remain linked together.\n",
    "\n",
    "<img src=\"https://raw.githubusercontent.com/Minyall/sc207_materials/master/images/dictionary.png\">\n",
    "\n"
   ]
  },
  {
   "cell_type": "code",
   "execution_count": null,
   "metadata": {},
   "outputs": [],
   "source": [
    "# Dictionaries can be initisalised in a few ways, here are two approaches...\n",
    "\n",
    "my_empty_dictionary = dict()\n",
    "my_empty_dictionary_bracket = {}"
   ]
  },
  {
   "cell_type": "code",
   "execution_count": null,
   "metadata": {},
   "outputs": [],
   "source": [
    "# we would normally initialise with values\n",
    "\n",
    "test_dict_a = dict(town='Colchester', firstname='Joe', surname='Joeson')\n",
    "test_dict_b = {'town': 'Colchester', 'firstname':'Joe' ,'surname': 'Joeson'}"
   ]
  },
  {
   "cell_type": "code",
   "execution_count": null,
   "metadata": {},
   "outputs": [],
   "source": [
    "# We can look at a whole dictionary\n",
    "print (test_dict_a)"
   ]
  },
  {
   "cell_type": "code",
   "execution_count": null,
   "metadata": {},
   "outputs": [],
   "source": [
    "# and you recall individual values by citing keys using square brackets\n",
    "\n",
    "print(test_dict_a['town'])\n",
    "print(test_dict_b['surname'])"
   ]
  },
  {
   "cell_type": "code",
   "execution_count": null,
   "metadata": {},
   "outputs": [],
   "source": [
    "# we can check whether keys are in a dictionary\n",
    "\n",
    "print ('town' in test_dict_a)\n",
    "print ('pet' in test_dict_b)"
   ]
  },
  {
   "cell_type": "code",
   "execution_count": null,
   "metadata": {},
   "outputs": [],
   "source": [
    "# and we can add to an existing dictionary easily...\n",
    "\n",
    "test_dict_a['pet'] = 'Horse'"
   ]
  },
  {
   "cell_type": "code",
   "execution_count": null,
   "metadata": {},
   "outputs": [],
   "source": [
    "print(test_dict_a)\n",
    "print ('pet' in test_dict_a)"
   ]
  },
  {
   "cell_type": "code",
   "execution_count": null,
   "metadata": {},
   "outputs": [],
   "source": [
    "# and remove values as well using the del statement and providing the dictionary and key\n",
    "\n",
    "del test_dict_a['pet']\n",
    "\n",
    "print(test_dict_a)"
   ]
  },
  {
   "cell_type": "markdown",
   "metadata": {},
   "source": [
    "### Side Note: Dictionary Order\n",
    "\n",
    "Since Python started there has ben no guarantee that the order of dictionaries would be retained. Just because you added a particular `key:value` pair to a dictionary last, it didn't mean it will always stay at the end of the dictionary.\n",
    "\n",
    "People that tried activities such as trying to make a dictionary of values that matched the order of a list often got nasty surprises later when they attempted to match up the list to the dictionary based on the order of the data.\n",
    "\n",
    "Since the release of Python 3.6, dictionaries __have__ retained their order, but the community tends to treat them as if they don't due to backwards compatibility with older scripts, and other conventions that have built up around prior limitations of the language."
   ]
  },
  {
   "cell_type": "code",
   "execution_count": null,
   "metadata": {
    "scrolled": true
   },
   "outputs": [],
   "source": [
    "# dictionaries can hold all sorts of data types - it's often easier to spread them across multiple lines\n",
    "\n",
    "test_dict_b = {'town': 'Colchester', # make sure you seperate value entries with a comma\n",
    "               'firstname':'Joe' ,\n",
    "               'surname': 'Joeson',\n",
    "               'age':32,\n",
    "               'friend_list': ['Donald','Theresa','Kim'],\n",
    "               'clever_function': lambda x: x*2}\n",
    "\n",
    "for key, value in test_dict_b.items():\n",
    "    print('***')\n",
    "    print(key)\n",
    "    print(value)\n",
    "    \n",
    "test_dict_b['clever_function'](2)"
   ]
  },
  {
   "cell_type": "code",
   "execution_count": null,
   "metadata": {},
   "outputs": [],
   "source": [
    "# One use of lists in dictionaries is to create a labelled set of data imagining the keys as the column headers,\n",
    "# and the list under each key the row values for that column. The lists will retain the row order.\n",
    "\n",
    "firstname = ['Donald','Theresa','Kim']\n",
    "surname = ['Trump','May','Jong-un']\n",
    "\n",
    "data = {'first_name': firstname,\n",
    "        'surname': surname}\n",
    "\n",
    "data\n",
    "\n",
    "# Dicitonaries have other functions, and are often used as part of much larger data structures. \n",
    "# For our purposes 'Pandas' is a much better way to handle data in Python, which we'll cover in a later session."
   ]
  },
  {
   "cell_type": "markdown",
   "metadata": {},
   "source": [
    "# *Exercises: Dictionaries*"
   ]
  },
  {
   "cell_type": "code",
   "execution_count": null,
   "metadata": {},
   "outputs": [],
   "source": [
    "# 1. Initialise a new dictionary with three keys, `first_name`, `surname`, and `favourite_animal`. Choose some values.\n",
    "\n"
   ]
  },
  {
   "cell_type": "code",
   "execution_count": null,
   "metadata": {},
   "outputs": [],
   "source": [
    "# 2. Add another key to your dictionary called `secret_plan` and provide a value. \n",
    "# Print the dictionary to check it worked.\n"
   ]
  },
  {
   "cell_type": "code",
   "execution_count": null,
   "metadata": {},
   "outputs": [],
   "source": [
    "# 3. Delete your secret plan from your dictionary....! Print to check you're safe.\n",
    "\n"
   ]
  },
  {
   "cell_type": "markdown",
   "metadata": {},
   "source": [
    "<a id='task'></a>\n",
    "\n",
    "\n",
    "# 9. Final Task - Create your own word frequency script.\n",
    "<img src=\"https://raw.githubusercontent.com/Minyall/sc207_materials/master/images/alice.png\" align=\"right\">\n",
    "\n",
    "\n",
    "Your task using everything you have been shown above is to create a script that can take any length of text, and count up how many times each unique word occurs in the text. You will need two functions. \n",
    "\n",
    "1. The first should take our `test_string`, make everything lowercase, remove any punctuation and return a list of individual word tokens. To help you we have provided a `remove_punctuation` function already (see if you can work out how it works).\n",
    "\n",
    "2. The second function should take a list of string word tokens (the output of the first function) and return a dictionary where each key is a unique word and each value is a count of how many times that word occurs.\n",
    "\n",
    "Once you've created this dictionary you can use the `print_sorted_dict` function provided to see what words occur the most.\n",
    "\n",
    "### Tips:\n",
    "- Make sure you run the two cells with the `test_string` and the helper functions.\n",
    "- Remember you can make new cells by...\n",
    "    - Going into command mode by clicking to the left of a cell (making the coloured bar turn blue) and then...\n",
    "    - tapping 'a' or 'b' on your keyboard to create a new cell either above or below.\n",
    "- If you need to delete a cell go into command mode and then double tap 'd' on the keyboard."
   ]
  },
  {
   "cell_type": "code",
   "execution_count": null,
   "metadata": {},
   "outputs": [],
   "source": [
    "test_string = \"Either the well was very deep, or she fell very slowly, for she had plenty of time as she went down \"\\\n",
    "\"to look about her and to wonder what was going to happen next. First, she tried to look down and make out what she \"\\\n",
    "\"was coming to, but it was too dark to see anything; then she looked at the sides of the well, and noticed that they \"\\\n",
    "\"were filled with cupboards and book-shelves; here and there she saw maps and pictures hung upon pegs. She took down \"\\\n",
    "\"a jar from one of the shelves as she passed; it was labelled ‘ORANGE MARMALADE’, but to her great disappointment it \"\\\n",
    "\"was empty: she did not like to drop the jar for fear of killing somebody, so managed to put it into one of the \"\\\n",
    "\"cupboards as she fell past it.'Well!’ thought Alice to herself, ‘after such a fall as this, I shall think \"\\\n",
    "\"nothing of tumbling down stairs! How brave they’ll all think me at home! Why, I wouldn’t say anything about \"\\\n",
    "\"it, even if I fell off the top of the house!’ (Which was very likely true.) Down, down, down. Would the fall \"\\\n",
    "\"never come to an end! ‘I wonder how many miles I’ve fallen by this time?’ she said aloud. ‘I must be getting \"\\\n",
    "\"somewhere near the centre of the earth. Let me see: that would be four thousand miles down, I think’ (for, \"\\\n",
    "\"you see, Alice had learnt several things of this sort in her lessons in the schoolroom, and though this was not \"\\\n",
    "\"a very good opportunity for showing off her knowledge, as there was no one to listen to her, still it was good \"\\\n",
    "\"practice to say it over) ‘yes, that’s about the right distancebut then I wonder what Latitude or Longitude \"\\\n",
    "\"I’ve got to?’ (Alice had no idea what Latitude was, or Longitude either, but thought they were nice grand words \"\\\n",
    "\"to say.)\""
   ]
  },
  {
   "cell_type": "code",
   "execution_count": null,
   "metadata": {},
   "outputs": [],
   "source": [
    "# Some helper functions for you...\n",
    "from string import punctuation\n",
    "punctuation = [char for char in punctuation]\n",
    "punctuation.extend([\"‘\",\"’\"])\n",
    "\n",
    "def remove_punctuation(text):\n",
    "    return ''.join([char for char in text if char not in punctuation])\n",
    "\n",
    "def print_sorted_dict(your_dictionary):\n",
    "    for word in sorted(your_dictionary, key=your_dictionary.get, reverse=True):\n",
    "        print(f'{word}: {your_dictionary[word]}')\n",
    "    return"
   ]
  },
  {
   "cell_type": "code",
   "execution_count": null,
   "metadata": {},
   "outputs": [],
   "source": [
    "# Function 1 Here"
   ]
  },
  {
   "cell_type": "code",
   "execution_count": null,
   "metadata": {},
   "outputs": [],
   "source": [
    "# Function 2 Here"
   ]
  },
  {
   "cell_type": "code",
   "execution_count": null,
   "metadata": {},
   "outputs": [],
   "source": [
    "cleaned_text = #output of function 1 on test_string\n",
    "my_counter = #output of function 2 on cleaned_text"
   ]
  },
  {
   "cell_type": "code",
   "execution_count": null,
   "metadata": {},
   "outputs": [],
   "source": [
    "print_sorted_dict(my_counter)"
   ]
  },
  {
   "cell_type": "code",
   "execution_count": null,
   "metadata": {},
   "outputs": [],
   "source": []
  },
  {
   "cell_type": "code",
   "execution_count": null,
   "metadata": {},
   "outputs": [],
   "source": [
    "# in the case above the values for sentences and keywords must be passed to the function.\n",
    "# however you can also have optional values to create more complex systems.\n",
    "\n",
    "# In this example we have the lower_output keyword. Keywords must have a default value defined, in this case False \n",
    "\n",
    "def sentence_filter_lower_option(sentences, filter_words, lower_output=False): \n",
    "    filtered = []\n",
    "    for word in filter_words:\n",
    "        for sent in sentences:\n",
    "            if word in sent:\n",
    "                if lower_output:\n",
    "                    sent = sent.lower()\n",
    "                filtered.append(sent)\n",
    "    return filtered"
   ]
  },
  {
   "cell_type": "code",
   "execution_count": null,
   "metadata": {},
   "outputs": [],
   "source": [
    "print(sentence_filter_lower_option(sentences, ['Trump']))\n",
    "print(sentence_filter_lower_option(sentences, ['Trump'], lower_output=True))"
   ]
  },
  {
   "cell_type": "code",
   "execution_count": null,
   "metadata": {},
   "outputs": [],
   "source": [
    "# you can use lambda to make a quick function on the fly which can often be useful\n",
    "\n",
    "tiny_percent_func = lambda fraction, total: (fraction/total)*100 # often a full func is more readable.\n",
    "\n",
    "tiny_percent_func(6, 20)"
   ]
  },
  {
   "cell_type": "code",
   "execution_count": null,
   "metadata": {},
   "outputs": [],
   "source": []
  },
  {
   "cell_type": "markdown",
   "metadata": {
    "nbpresent": {
     "id": "f72c675f-7c68-4f23-8541-01c354be7a1d"
    }
   },
   "source": [
    "### Indexing Strings\n",
    "Each character in a string is also assigned an 'index' number, allowing you to refer to positions in the string. This means you can *slice* the string to extract certain parts of it. This creates a new string and does not change the original variable."
   ]
  },
  {
   "cell_type": "code",
   "execution_count": null,
   "metadata": {
    "nbpresent": {
     "id": "e98c7917-b0b5-4cc1-a8dd-9ccda90831b0"
    },
    "scrolled": true
   },
   "outputs": [],
   "source": [
    "our_string = \"Please don't slice me!\"\n",
    "\n",
    "print(our_string[0])\n",
    "print(our_string[:10])\n",
    "print(our_string[10:])\n",
    "\n",
    "print(our_string)"
   ]
  },
  {
   "cell_type": "markdown",
   "metadata": {
    "nbpresent": {
     "id": "773f2fc0-954a-4500-aa79-474f2a944e10"
    }
   },
   "source": [
    "<img src=\"https://raw.githubusercontent.com/Minyall/sc207_materials/master/images/hello.png\">\n",
    "\n",
    "Indexes start at 0, and if you use a range Python will return every character **up to but not including** the upper number. You can also select characters from the end of a string in reverse by using a negative index number.\n",
    "\n",
    "Indexing can be used to return characters at specific positions.\n",
    "\n",
    "'Hello'[0]\n",
    "> H\n",
    "\n",
    "'Hello'[1]\n",
    "> e\n",
    "\n",
    "An example of an index range or 'slice' would be 'Hello'[1:4] which returns the all characters between the 2nd character (remember 0 indexing) and the 4th character, *but not including* the 4th character itself.\n",
    "\n",
    "> 'ell\n",
    "\n",
    "If we wanted to include the 4th character we would use 'Hello'[1:5]\n",
    "> 'ello\n",
    "\n",
    "If an index value is left blank it is interpreted as either the beginning or end of the string.\n",
    "\n",
    "'Hello'[:3]\n",
    "> Hel\n",
    "\n",
    "'Hello'[3:]\n",
    "> lo"
   ]
  },
  {
   "cell_type": "code",
   "execution_count": null,
   "metadata": {
    "nbpresent": {
     "id": "3f4dfa82-c664-4a17-96a7-b1891f4b8b99"
    }
   },
   "outputs": [],
   "source": [
    "# [Start Index:End Index]\n",
    "\n",
    "print( 'Hello'[0] ) # Return just character 0\n",
    "print( 'Hello'[1:] ) # Beginning from character 1 until the end of the string\n",
    "print( 'Hello'[:4] ) # From the beginning of the String up to but not including character 4\n",
    "print( 'Hello'[2:4] ) # Beginning with character 2, and ending up to but not including character 4"
   ]
  },
  {
   "cell_type": "code",
   "execution_count": null,
   "metadata": {},
   "outputs": [],
   "source": [
    "print( 'Hello' [-4:])\n",
    "print( 'Hello' [-3:-1])\n",
    "print( 'Hello' [-5:])\n",
    "print( 'Hello' [:-2])"
   ]
  }
 ],
 "metadata": {
  "kernelspec": {
   "display_name": "Python [conda env:teaching]",
   "language": "python",
   "name": "conda-env-teaching-py"
  },
  "language_info": {
   "codemirror_mode": {
    "name": "ipython",
    "version": 3
   },
   "file_extension": ".py",
   "mimetype": "text/x-python",
   "name": "python",
   "nbconvert_exporter": "python",
   "pygments_lexer": "ipython3",
   "version": "3.7.8"
  }
 },
 "nbformat": 4,
 "nbformat_minor": 4
}
