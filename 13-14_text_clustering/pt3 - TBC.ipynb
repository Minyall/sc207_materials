{
 "cells": [
  {
   "cell_type": "markdown",
   "metadata": {},
   "source": [
    "# Text Analysis - Finding Themes and Patterns\n",
    "## Pt 3 - Clustering on Features and Vectors\n",
    "\n",
    "In some instances it may be preferable to use another approach to finding themes in text. If you have particularly homgenous data, i.e. a lot of text all around the same broad topic, it may be difficult for LDA to distinguish out themes. These other approaches may allow you to draw out themes when LDA can't."
   ]
  },
  {
   "cell_type": "code",
   "execution_count": 16,
   "metadata": {},
   "outputs": [],
   "source": [
    "import pandas as pd\n",
    "import spacy\n",
    "import gensim\n",
    "\n",
    "# For later plotting\n",
    "import matplotlib.pyplot as plt\n",
    "import seaborn as sns\n",
    "%matplotlib inline"
   ]
  },
  {
   "cell_type": "code",
   "execution_count": 17,
   "metadata": {},
   "outputs": [],
   "source": [
    "# FUNCTIONS\n",
    "def train_phraser(texts, stopwords):\n",
    "    sentences = [\n",
    "        [token.lemma_.lower() for token in sentence if token.lemma_.lower().isalpha()]\n",
    "        for doc in texts \n",
    "        for sentence in doc.sents]\n",
    "    \n",
    "    bigram_phraser = gensim.models.Phrases(sentences, common_terms=stopwords)\n",
    "    return bigram_phraser\n",
    "\n",
    "\n",
    "def filter_text(spacy_doc, phraser, stopwords):\n",
    "    transformed_doc = []\n",
    "    for sentence in spacy_doc.sents:\n",
    "        sentence_tokens = [token.lemma_.lower() for token in sentence if token.lemma_.lower().isalpha()]\n",
    "        transformed = phraser[sentence_tokens]\n",
    "        transformed_doc.extend(transformed)\n",
    "    tokens = [token for token in transformed_doc if token.lower() not in stopwords]\n",
    "    return tokens\n",
    "\n",
    "def dummy_function(doc):\n",
    "    return doc\n",
    "\n",
    "def top_terms(df, group_name=None, top_n=5):\n",
    "    if group_name is not None:\n",
    "        df = df.drop(columns=[group_name])\n",
    "        \n",
    "    return df.sum().sort_values(ascending=False).head(top_n)"
   ]
  },
  {
   "cell_type": "markdown",
   "metadata": {},
   "source": [
    "## Setup \n",
    "Run all the cells from here to \"SETUP END!\" to load, and preprocess our data. You can do this quickly by clicking to the left of this cell to select it, holding shift and then clicking to select the cell \"SETUP END!\". This should highlight all cells in between, then just click the run button. Whilst you're waiting for it to run have a read of the intro to the next section.\n",
    "\n",
    "### 1. Loading our Sample Data\n",
    "See part 1 for full details on this process"
   ]
  },
  {
   "cell_type": "code",
   "execution_count": 18,
   "metadata": {},
   "outputs": [],
   "source": [
    "from sklearn.datasets import fetch_20newsgroups\n",
    "\n",
    "newsgroups_to_fetch = ['alt.atheism', 'talk.religion.misc','comp.graphics', 'sci.space']\n",
    "\n",
    "news_set = fetch_20newsgroups(subset='all', \n",
    "                              categories=newsgroups_to_fetch,\n",
    "                              remove=('headers', 'footers', 'quotes'))"
   ]
  },
  {
   "cell_type": "code",
   "execution_count": 19,
   "metadata": {
    "scrolled": true
   },
   "outputs": [],
   "source": [
    "df = pd.DataFrame({'text':news_set['data'], 'category_num':news_set['target']})"
   ]
  },
  {
   "cell_type": "code",
   "execution_count": 20,
   "metadata": {},
   "outputs": [
    {
     "data": {
      "text/plain": [
       "{0: 'alt.atheism', 1: 'comp.graphics', 2: 'sci.space', 3: 'talk.religion.misc'}"
      ]
     },
     "execution_count": 20,
     "metadata": {},
     "output_type": "execute_result"
    }
   ],
   "source": [
    "category_lookup = {position: item for position, item in enumerate(news_set['target_names'])}\n",
    "category_lookup"
   ]
  },
  {
   "cell_type": "code",
   "execution_count": 21,
   "metadata": {},
   "outputs": [],
   "source": [
    "df['category_label'] = df['category_num'].apply(lambda category_number: category_lookup[category_number])"
   ]
  },
  {
   "cell_type": "code",
   "execution_count": 22,
   "metadata": {},
   "outputs": [
    {
     "data": {
      "text/html": [
       "<div>\n",
       "<style scoped>\n",
       "    .dataframe tbody tr th:only-of-type {\n",
       "        vertical-align: middle;\n",
       "    }\n",
       "\n",
       "    .dataframe tbody tr th {\n",
       "        vertical-align: top;\n",
       "    }\n",
       "\n",
       "    .dataframe thead th {\n",
       "        text-align: right;\n",
       "    }\n",
       "</style>\n",
       "<table border=\"1\" class=\"dataframe\">\n",
       "  <thead>\n",
       "    <tr style=\"text-align: right;\">\n",
       "      <th></th>\n",
       "      <th>text</th>\n",
       "      <th>category_num</th>\n",
       "      <th>category_label</th>\n",
       "    </tr>\n",
       "  </thead>\n",
       "  <tbody>\n",
       "    <tr>\n",
       "      <th>0</th>\n",
       "      <td>My point is that you set up your views as the ...</td>\n",
       "      <td>0</td>\n",
       "      <td>alt.atheism</td>\n",
       "    </tr>\n",
       "    <tr>\n",
       "      <th>1</th>\n",
       "      <td>\\nBy '8 grey level images' you mean 8 items of...</td>\n",
       "      <td>1</td>\n",
       "      <td>comp.graphics</td>\n",
       "    </tr>\n",
       "    <tr>\n",
       "      <th>2</th>\n",
       "      <td>FIRST ANNUAL PHIGS USER GROUP CONFERENCE\\n\\n  ...</td>\n",
       "      <td>1</td>\n",
       "      <td>comp.graphics</td>\n",
       "    </tr>\n",
       "    <tr>\n",
       "      <th>3</th>\n",
       "      <td>I responded to Jim's other articles today, but...</td>\n",
       "      <td>3</td>\n",
       "      <td>talk.religion.misc</td>\n",
       "    </tr>\n",
       "    <tr>\n",
       "      <th>4</th>\n",
       "      <td>\\nWell, I am placing a file at my ftp today th...</td>\n",
       "      <td>1</td>\n",
       "      <td>comp.graphics</td>\n",
       "    </tr>\n",
       "  </tbody>\n",
       "</table>\n",
       "</div>"
      ],
      "text/plain": [
       "                                                text  category_num  \\\n",
       "0  My point is that you set up your views as the ...             0   \n",
       "1  \\nBy '8 grey level images' you mean 8 items of...             1   \n",
       "2  FIRST ANNUAL PHIGS USER GROUP CONFERENCE\\n\\n  ...             1   \n",
       "3  I responded to Jim's other articles today, but...             3   \n",
       "4  \\nWell, I am placing a file at my ftp today th...             1   \n",
       "\n",
       "       category_label  \n",
       "0         alt.atheism  \n",
       "1       comp.graphics  \n",
       "2       comp.graphics  \n",
       "3  talk.religion.misc  \n",
       "4       comp.graphics  "
      ]
     },
     "execution_count": 22,
     "metadata": {},
     "output_type": "execute_result"
    }
   ],
   "source": [
    "df.head()"
   ]
  },
  {
   "cell_type": "markdown",
   "metadata": {},
   "source": [
    "### 2. Preparing our Text"
   ]
  },
  {
   "cell_type": "code",
   "execution_count": 23,
   "metadata": {},
   "outputs": [],
   "source": [
    "nlp = spacy.load('en_core_web_md')"
   ]
  },
  {
   "cell_type": "code",
   "execution_count": 24,
   "metadata": {},
   "outputs": [],
   "source": [
    "stop_list = nlp.Defaults.stop_words\n"
   ]
  },
  {
   "cell_type": "code",
   "execution_count": 25,
   "metadata": {},
   "outputs": [
    {
     "name": "stdout",
     "output_type": "stream",
     "text": [
      "CPU times: user 13.3 s, sys: 1.39 s, total: 14.7 s\n",
      "Wall time: 56.5 s\n"
     ]
    }
   ],
   "source": [
    "%time df['text_nlp'] = list(nlp.pipe(df['text'],n_process=7))"
   ]
  },
  {
   "cell_type": "code",
   "execution_count": 26,
   "metadata": {},
   "outputs": [],
   "source": [
    "phraser = train_phraser(df['text_nlp'], stopwords=stop_list)"
   ]
  },
  {
   "cell_type": "code",
   "execution_count": 27,
   "metadata": {},
   "outputs": [],
   "source": [
    "df['cleaned_tokens'] = df['text_nlp'].apply(filter_text, stopwords=stop_list, phraser=phraser)"
   ]
  },
  {
   "cell_type": "code",
   "execution_count": 28,
   "metadata": {},
   "outputs": [
    {
     "data": {
      "text/plain": [
       "0       [point, set, view, way, believe, eveil, world,...\n",
       "1       [grey, level, image, mean, item, image, work, ...\n",
       "2       [annual, phigs, user, group, conference, annua...\n",
       "3       [respond, jim, article, today, neglect, respon...\n",
       "4       [place, file, ftp, today, contain, polygonal, ...\n",
       "                              ...                        \n",
       "3382    [work, program, display, wireframe, model, use...\n",
       "3383    [russian, ill, fate, phobos, mission, year_ago...\n",
       "3384    [oh, gee, billion, dollar, cover, cost, feasab...\n",
       "3385    [look, software, run, brand_new, know, site, u...\n",
       "3386    [month, look, job, computer_graphic, software,...\n",
       "Name: cleaned_tokens, Length: 3387, dtype: object"
      ]
     },
     "execution_count": 28,
     "metadata": {},
     "output_type": "execute_result"
    }
   ],
   "source": [
    "df['cleaned_tokens']"
   ]
  },
  {
   "cell_type": "markdown",
   "metadata": {},
   "source": [
    "## Vectorizing"
   ]
  },
  {
   "cell_type": "code",
   "execution_count": 178,
   "metadata": {
    "collapsed": true
   },
   "outputs": [],
   "source": [
    "from sklearn.feature_extraction.text import TfidfVectorizer"
   ]
  },
  {
   "cell_type": "code",
   "execution_count": 179,
   "metadata": {},
   "outputs": [],
   "source": [
    "tfidf_vec = TfidfVectorizer(tokenizer=dummy_function,\n",
    "                            preprocessor=dummy_function,\n",
    "                            min_df=0.01, max_df=0.999)"
   ]
  },
  {
   "cell_type": "code",
   "execution_count": 180,
   "metadata": {},
   "outputs": [],
   "source": [
    "tfidf_matrix = tfidf_vec.fit_transform(df['cleaned_tokens'])"
   ]
  },
  {
   "cell_type": "code",
   "execution_count": 181,
   "metadata": {},
   "outputs": [
    {
     "data": {
      "text/plain": [
       "(3387, 1092)"
      ]
     },
     "execution_count": 181,
     "metadata": {},
     "output_type": "execute_result"
    }
   ],
   "source": [
    "tfidf_matrix.shape # let's remind ourselves - the matrix is currently 3,387 documents to 20,236 terms, or dimensions."
   ]
  },
  {
   "cell_type": "markdown",
   "metadata": {},
   "source": [
    "<a id='dimensionality'></a>\n",
    "\n",
    "\n",
    "## Reduce the Dimensionality of the Data\n",
    "\n",
    "**FIRST scroll down and run the cells up to 'Visualizing Clusters', then come back and have a read**\n",
    "\n",
    "What do we mean by reduce the dimensionality? Imagine a simple line graph with an x-axis and a y-axis. These two dimensions allow us not only to see a relationship between changes in the x value and the y value, but also that some points are more similar than others because they are close to one another in 2-dimensional space.\n",
    "\n",
    "<img src=\"https://github.com/Minyall/sc207_materials/blob/master/images/scatterPlot.png?raw=true\" width=\"400\">"
   ]
  },
  {
   "cell_type": "markdown",
   "metadata": {},
   "source": [
    "If we had another dimension - age for example - that would be a three-dimensional plot as the values will have to be plotted in relation to each other in three different directions.\n",
    "<img src=\"https://github.com/Minyall/sc207_materials/blob/master/images/3dscatterplotrotateanim.gif?raw=true\" width=\"400\" align=\"right\">\n",
    "\n",
    "\n",
    "\n",
    "\n",
    "\n",
    "Our news data has 3,387 samples, or points to plot, and 20,236 dimensions i.e. they would need to be arranged in a 20,236 dimensional space to find their relation to one another. Whilst some of the clustering algorithms are capable of working with high dimensional data, in text data, high dimensionality is often noisier and harder to find clear patterns in. \n",
    "\n",
    "We need to get our dimensionality back to two. To do this we use a variety of 'Principal Component Analysis' (PCA) which reduces the amount of data in the dataset to fewer dimensions. These fewer dimensions no longer directly represent the measured values, but still represent the variation that those original values expressed.\n",
    "\n",
    "For more on PCA and some explainers see http://setosa.io/ev/principal-component-analysis/"
   ]
  },
  {
   "cell_type": "markdown",
   "metadata": {},
   "source": [
    "Whilst PCA is a good all round method, for 'sparse' data like our document / term matrices Scikit recommend using [Truncated SVD](http://scikit-learn.org/stable/modules/decomposition.html#lsa) to reduce the dimensions to around 50.\n",
    "\n",
    "We can then use [t-distributed Stochastic Neigbour Embedding (TSNE)](http://scikit-learn.org/stable/modules/manifold.html#t-sne) which specialises in dimensionality reduction for visualising high dimensional data down to two or three dimensions. TSNE is highly 'expensive' in terms of processing time compared to PCA, but provides more accurate results for clustering and visualising.\n",
    "\n",
    "- Google has an accessible Tech Talk on TSNE on [YouTube](https://youtu.be/RJVL80Gg3lA)\n",
    "\n",
    "- A very useful visual site on understanding the variables and options in TSNE and their impact...\n",
    "https://distill.pub/2016/misread-tsne/\n",
    "\n",
    "- A good FAQ on TSNE from its developer https://lvdmaaten.github.io/tsne/"
   ]
  },
  {
   "cell_type": "code",
   "execution_count": null,
   "metadata": {},
   "outputs": [],
   "source": [
    "from sklearn.pipeline import make_pipeline # used to link together a series of transformations into a single operator.\n",
    "from sklearn.decomposition import TruncatedSVD # our dimensionality reduction technique\n",
    "from sklearn.manifold import TSNE"
   ]
  },
  {
   "cell_type": "code",
   "execution_count": 157,
   "metadata": {},
   "outputs": [
    {
     "name": "stderr",
     "output_type": "stream",
     "text": [
      "/Users/James/anaconda3/envs/teaching/lib/python3.7/site-packages/numba/typed_passes.py:271: NumbaPerformanceWarning: \n",
      "The keyword argument 'parallel=True' was specified but no transformation for parallel execution was possible.\n",
      "\n",
      "To find out why, try turning on parallel diagnostics, see http://numba.pydata.org/numba-doc/latest/user/parallel.html#diagnostics for help.\n",
      "\n",
      "File \"../../../../../../anaconda3/envs/teaching/lib/python3.7/site-packages/umap/rp_tree.py\", line 135:\n",
      "@numba.njit(fastmath=True, nogil=True, parallel=True)\n",
      "def euclidean_random_projection_split(data, indices, rng_state):\n",
      "^\n",
      "\n",
      "  state.func_ir.loc))\n",
      "/Users/James/anaconda3/envs/teaching/lib/python3.7/site-packages/umap/nndescent.py:92: NumbaPerformanceWarning: \n",
      "The keyword argument 'parallel=True' was specified but no transformation for parallel execution was possible.\n",
      "\n",
      "To find out why, try turning on parallel diagnostics, see http://numba.pydata.org/numba-doc/latest/user/parallel.html#diagnostics for help.\n",
      "\n",
      "File \"../../../../../../anaconda3/envs/teaching/lib/python3.7/site-packages/umap/utils.py\", line 409:\n",
      "@numba.njit(parallel=True)\n",
      "def build_candidates(current_graph, n_vertices, n_neighbors, max_candidates, rng_state):\n",
      "^\n",
      "\n",
      "  current_graph, n_vertices, n_neighbors, max_candidates, rng_state\n",
      "/Users/James/anaconda3/envs/teaching/lib/python3.7/site-packages/numba/typed_passes.py:271: NumbaPerformanceWarning: \n",
      "The keyword argument 'parallel=True' was specified but no transformation for parallel execution was possible.\n",
      "\n",
      "To find out why, try turning on parallel diagnostics, see http://numba.pydata.org/numba-doc/latest/user/parallel.html#diagnostics for help.\n",
      "\n",
      "File \"../../../../../../anaconda3/envs/teaching/lib/python3.7/site-packages/umap/nndescent.py\", line 47:\n",
      "    @numba.njit(parallel=True)\n",
      "    def nn_descent(\n",
      "    ^\n",
      "\n",
      "  state.func_ir.loc))\n"
     ]
    },
    {
     "name": "stdout",
     "output_type": "stream",
     "text": [
      "CPU times: user 23.1 s, sys: 519 ms, total: 23.6 s\n",
      "Wall time: 21.8 s\n"
     ]
    }
   ],
   "source": [
    "%time reduced_news_matrix = dimension_reducer.fit_transform(vectors) # 1 min 27s on Mac Pro"
   ]
  },
  {
   "cell_type": "code",
   "execution_count": 158,
   "metadata": {},
   "outputs": [
    {
     "data": {
      "text/plain": [
       "(18846, 2)"
      ]
     },
     "execution_count": 158,
     "metadata": {},
     "output_type": "execute_result"
    }
   ],
   "source": [
    "reduced_news_matrix.shape # now we can see we have the same amount of documents, \n",
    "# but the extent of their variation based on their terms is now repesented as two dimensions"
   ]
  },
  {
   "cell_type": "markdown",
   "metadata": {},
   "source": [
    "<a id='plot'></a>\n",
    "\n",
    "\n",
    "## Visualising Clusters\n",
    "Whilst Pandas is good for visualising data, the [Seaborn](https://seaborn.pydata.org) package provides high quality visualisations with very little effort, and is built to integrate with Pandas."
   ]
  },
  {
   "cell_type": "code",
   "execution_count": 159,
   "metadata": {
    "collapsed": true
   },
   "outputs": [],
   "source": [
    "import seaborn as sns # sns is the conventional shortening for seaborn\n",
    "%matplotlib inline \n",
    "# Jupyter magic to show plots in the notebook"
   ]
  },
  {
   "cell_type": "code",
   "execution_count": 160,
   "metadata": {
    "scrolled": true
   },
   "outputs": [
    {
     "data": {
      "text/html": [
       "<div>\n",
       "<style scoped>\n",
       "    .dataframe tbody tr th:only-of-type {\n",
       "        vertical-align: middle;\n",
       "    }\n",
       "\n",
       "    .dataframe tbody tr th {\n",
       "        vertical-align: top;\n",
       "    }\n",
       "\n",
       "    .dataframe thead th {\n",
       "        text-align: right;\n",
       "    }\n",
       "</style>\n",
       "<table border=\"1\" class=\"dataframe\">\n",
       "  <thead>\n",
       "    <tr style=\"text-align: right;\">\n",
       "      <th></th>\n",
       "      <th>x</th>\n",
       "      <th>y</th>\n",
       "    </tr>\n",
       "  </thead>\n",
       "  <tbody>\n",
       "    <tr>\n",
       "      <th>0</th>\n",
       "      <td>-1.321321</td>\n",
       "      <td>-4.239858</td>\n",
       "    </tr>\n",
       "    <tr>\n",
       "      <th>1</th>\n",
       "      <td>2.299153</td>\n",
       "      <td>2.551402</td>\n",
       "    </tr>\n",
       "    <tr>\n",
       "      <th>2</th>\n",
       "      <td>3.431734</td>\n",
       "      <td>5.815783</td>\n",
       "    </tr>\n",
       "  </tbody>\n",
       "</table>\n",
       "</div>"
      ],
      "text/plain": [
       "          x         y\n",
       "0 -1.321321 -4.239858\n",
       "1  2.299153  2.551402\n",
       "2  3.431734  5.815783"
      ]
     },
     "execution_count": 160,
     "metadata": {},
     "output_type": "execute_result"
    }
   ],
   "source": [
    "# first let's put our reduced array into Pandas for ease of integration with seaborn\n",
    "\n",
    "reduc_values = pd.DataFrame(reduced_news_matrix, columns=['x','y'])\n",
    "reduc_values.head(3) # show just top 3 records for brevity"
   ]
  },
  {
   "cell_type": "code",
   "execution_count": 161,
   "metadata": {},
   "outputs": [
    {
     "data": {
      "text/html": [
       "<div>\n",
       "<style scoped>\n",
       "    .dataframe tbody tr th:only-of-type {\n",
       "        vertical-align: middle;\n",
       "    }\n",
       "\n",
       "    .dataframe tbody tr th {\n",
       "        vertical-align: top;\n",
       "    }\n",
       "\n",
       "    .dataframe thead th {\n",
       "        text-align: right;\n",
       "    }\n",
       "</style>\n",
       "<table border=\"1\" class=\"dataframe\">\n",
       "  <thead>\n",
       "    <tr style=\"text-align: right;\">\n",
       "      <th></th>\n",
       "      <th>text</th>\n",
       "      <th>category_num</th>\n",
       "      <th>category_label</th>\n",
       "      <th>text_nlp</th>\n",
       "      <th>cleaned_tokens</th>\n",
       "      <th>x</th>\n",
       "      <th>y</th>\n",
       "    </tr>\n",
       "  </thead>\n",
       "  <tbody>\n",
       "    <tr>\n",
       "      <th>0</th>\n",
       "      <td>\\n\\nI am sure some bashers of Pens fans are pr...</td>\n",
       "      <td>10</td>\n",
       "      <td>rec.sport.hockey</td>\n",
       "      <td>(\\n\\n, I, am, sure, some, bashers, of, Pens, f...</td>\n",
       "      <td>[sure, basher, pens, fan, pretty, confused, la...</td>\n",
       "      <td>-1.321321</td>\n",
       "      <td>-4.239858</td>\n",
       "    </tr>\n",
       "    <tr>\n",
       "      <th>1</th>\n",
       "      <td>My brother is in the market for a high-perform...</td>\n",
       "      <td>3</td>\n",
       "      <td>comp.sys.ibm.pc.hardware</td>\n",
       "      <td>(My, brother, is, in, the, market, for, a, hig...</td>\n",
       "      <td>[brother, market, high_performance, video_card...</td>\n",
       "      <td>2.299153</td>\n",
       "      <td>2.551402</td>\n",
       "    </tr>\n",
       "    <tr>\n",
       "      <th>2</th>\n",
       "      <td>\\n\\n\\n\\n\\tFinally you said what you dream abou...</td>\n",
       "      <td>17</td>\n",
       "      <td>talk.politics.mideast</td>\n",
       "      <td>(\\n\\n\\n\\n\\t, Finally, you, said, what, you, dr...</td>\n",
       "      <td>[finally, dream, mediterranean, new, area, gre...</td>\n",
       "      <td>3.431734</td>\n",
       "      <td>5.815783</td>\n",
       "    </tr>\n",
       "    <tr>\n",
       "      <th>3</th>\n",
       "      <td>\\nThink!\\n\\nIt's the SCSI card doing the DMA t...</td>\n",
       "      <td>3</td>\n",
       "      <td>comp.sys.ibm.pc.hardware</td>\n",
       "      <td>(\\n, Think, !, \\n\\n, It, 's, the, SCSI, card, ...</td>\n",
       "      <td>[think, scsi_card, dma, transfer, disk, scsi_c...</td>\n",
       "      <td>2.867868</td>\n",
       "      <td>-0.710625</td>\n",
       "    </tr>\n",
       "    <tr>\n",
       "      <th>4</th>\n",
       "      <td>1)    I have an old Jasmine drive which I cann...</td>\n",
       "      <td>4</td>\n",
       "      <td>comp.sys.mac.hardware</td>\n",
       "      <td>(1, ),    , I, have, an, old, Jasmine, drive, ...</td>\n",
       "      <td>[old, jasmine, drive, use, new, system, unders...</td>\n",
       "      <td>2.327399</td>\n",
       "      <td>-0.007251</td>\n",
       "    </tr>\n",
       "  </tbody>\n",
       "</table>\n",
       "</div>"
      ],
      "text/plain": [
       "                                                text  category_num  \\\n",
       "0  \\n\\nI am sure some bashers of Pens fans are pr...            10   \n",
       "1  My brother is in the market for a high-perform...             3   \n",
       "2  \\n\\n\\n\\n\\tFinally you said what you dream abou...            17   \n",
       "3  \\nThink!\\n\\nIt's the SCSI card doing the DMA t...             3   \n",
       "4  1)    I have an old Jasmine drive which I cann...             4   \n",
       "\n",
       "             category_label  \\\n",
       "0          rec.sport.hockey   \n",
       "1  comp.sys.ibm.pc.hardware   \n",
       "2     talk.politics.mideast   \n",
       "3  comp.sys.ibm.pc.hardware   \n",
       "4     comp.sys.mac.hardware   \n",
       "\n",
       "                                            text_nlp  \\\n",
       "0  (\\n\\n, I, am, sure, some, bashers, of, Pens, f...   \n",
       "1  (My, brother, is, in, the, market, for, a, hig...   \n",
       "2  (\\n\\n\\n\\n\\t, Finally, you, said, what, you, dr...   \n",
       "3  (\\n, Think, !, \\n\\n, It, 's, the, SCSI, card, ...   \n",
       "4  (1, ),    , I, have, an, old, Jasmine, drive, ...   \n",
       "\n",
       "                                      cleaned_tokens         x         y  \n",
       "0  [sure, basher, pens, fan, pretty, confused, la... -1.321321 -4.239858  \n",
       "1  [brother, market, high_performance, video_card...  2.299153  2.551402  \n",
       "2  [finally, dream, mediterranean, new, area, gre...  3.431734  5.815783  \n",
       "3  [think, scsi_card, dma, transfer, disk, scsi_c...  2.867868 -0.710625  \n",
       "4  [old, jasmine, drive, use, new, system, unders...  2.327399 -0.007251  "
      ]
     },
     "execution_count": 161,
     "metadata": {},
     "output_type": "execute_result"
    }
   ],
   "source": [
    "# and we can add the x and y columns to our original data...\n",
    "data = df.join(reduc_values)\n",
    "data.head()"
   ]
  },
  {
   "cell_type": "code",
   "execution_count": 162,
   "metadata": {},
   "outputs": [
    {
     "data": {
      "image/png": "[encoded data removed]",
      "text/plain": [
       "<Figure size 720x360 with 1 Axes>"
      ]
     },
     "metadata": {
      "needs_background": "light"
     },
     "output_type": "display_data"
    }
   ],
   "source": [
    "# we can now plot this into a scatter plot.\n",
    "\n",
    "graph = sns.lmplot(data=data, x='x', y='y',fit_reg=False, hue='category_label')\n",
    "graph.fig.set_size_inches(10,5)"
   ]
  },
  {
   "cell_type": "code",
   "execution_count": 163,
   "metadata": {},
   "outputs": [],
   "source": [
    "import datashader as ds\n",
    "import datashader.transfer_functions as tf\n",
    "# from holoviews.operation.datashader import datashade\n",
    "# from holoviews.operation import decimate"
   ]
  },
  {
   "cell_type": "code",
   "execution_count": 164,
   "metadata": {},
   "outputs": [
    {
     "data": {
      "image/png": "[encoded data removed]",
      "text/html": [
       "<img style=\"margin: auto; border:1px solid\" src='data:image/png;base64,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'/>"
      ],
      "text/plain": [
       "<xarray.Image (y: 400, x: 400)>\n",
       "array([[0, 0, 0, ..., 0, 0, 0],\n",
       "       [0, 0, 0, ..., 0, 0, 0],\n",
       "       [0, 0, 0, ..., 0, 0, 0],\n",
       "       ...,\n",
       "       [0, 0, 0, ..., 0, 0, 0],\n",
       "       [0, 0, 0, ..., 0, 0, 0],\n",
       "       [0, 0, 0, ..., 0, 0, 0]], dtype=uint32)\n",
       "Coordinates:\n",
       "  * x        (x) float64 -19.03 -18.97 -18.91 -18.85 ... 3.802 3.86 3.917 3.975\n",
       "  * y        (y) float64 -5.248 -5.212 -5.177 -5.141 ... 8.863 8.899 8.934 8.97"
      ]
     },
     "execution_count": 164,
     "metadata": {},
     "output_type": "execute_result"
    }
   ],
   "source": [
    "canvas = ds.Canvas(plot_width=400, plot_height=400)\n",
    "\n",
    "tf.shade(canvas.points(data, x='x', y='y', agg=ds.count()), how='log')\n"
   ]
  },
  {
   "cell_type": "code",
   "execution_count": null,
   "metadata": {},
   "outputs": [],
   "source": [
    "# if we use the 'hue' parameter, we can colour our nodes depending on which newsgroup the document is from,\n",
    "# providing us a good sense of how well the algorithms have done in grouping similar documents together.\n",
    "\n",
    "graph = sns.lmplot(data=data, x='x', y='y',fit_reg=False, hue='category_label')\n",
    "graph.fig.set_size_inches(10,5)"
   ]
  },
  {
   "cell_type": "markdown",
   "metadata": {},
   "source": [
    "There is a clear clustering of topics together, with 'space' and 'comp.graphics' topics seperating fairly nicely. Interestingly where there is not seperation is between alt.atheism and misc. religious talk. This in a way is reassuring, because it has not clustered arbitarily, but recognises similarity in the the discussions occuring in the seperate groups. This is interesting as it suggests a structure that is not necessarily reflected by the categorisation we have. We also have clusters of text that seem to be distinct from their parent groupings.\n",
    "\n",
    "It is worth considering the caveats of TSNE.\n",
    "- The distance between points indicates trhe probability of association rather than a clear distance measure, meaning measuring the distance between points is not necessarily useful.\n",
    "- It is predominantly a technique for visualising data, but not necessarily one for fine-grained analysis.\n",
    "- It is more like a form of 'computer intuition' as it attempts to provide a representation of the data that preserves its global and local structure.\n",
    "\n",
    "The original paper is [available here](https://lvdmaaten.github.io/publications/papers/JMLR_2008.pdf)"
   ]
  },
  {
   "cell_type": "markdown",
   "metadata": {},
   "source": [
    "<a id='clustering'></a>\n",
    "\n",
    "\n",
    "## Finding Themes and Clusters without Labels\n",
    "There are a variety of techniques for clustering and categorising data and drawing out themes or structures when you do not have pre-exisitng labels. \n",
    "\n",
    "We're going to look at two methods...\n",
    "- [K-Means Clustering](http://scikit-learn.org/stable/modules/clustering.html#mini-batch-kmeans)\n",
    "- [Latent Dirichlet Allocation](http://scikit-learn.org/stable/modules/decomposition.html#latentdirichletallocation) (Topic Modelling)"
   ]
  },
  {
   "cell_type": "markdown",
   "metadata": {},
   "source": [
    "<a id='kmeans'></a>\n",
    "\n",
    "\n",
    "### K-Means\n",
    "Stanford have a useful [interactive visualisation](http://stanford.edu/class/ee103/visualizations/kmeans/kmeans.html) of K-Means.\n",
    "\n",
    "It is a relatively simple 'partitioning' algorithm that can still have good results, especially if paired with strong dimensionality reduction techniques. Kmeans utilises the spatial distance between points to determine how similar they are, and then demarcates boundaries. This is why it is better understood as a partitioning algorithm, rather than clustering, as all documents must be assigned a cluster - no matter how distant they are. "
   ]
  },
  {
   "cell_type": "code",
   "execution_count": null,
   "metadata": {
    "collapsed": true
   },
   "outputs": [],
   "source": [
    "from sklearn.cluster import MiniBatchKMeans \n",
    "# Sklearn has a Kmeans import but Minibatch is more robust\n",
    "# and deals better with large datasets."
   ]
  },
  {
   "cell_type": "code",
   "execution_count": null,
   "metadata": {
    "collapsed": true
   },
   "outputs": [],
   "source": [
    "km = MiniBatchKMeans(verbose=0, # as with TSNE\n",
    "                    init='k-means++',# original kmeans is very sensitive to the initial placement of the centroids. ++ adjusts for this.\n",
    "                    n_clusters=3) # the key issue with k-means is that you must manually choose how many clusters it will find.\n",
    "                    # we'll choose 4 because we know that's how many categories we have"
   ]
  },
  {
   "cell_type": "code",
   "execution_count": null,
   "metadata": {
    "scrolled": true
   },
   "outputs": [],
   "source": [
    "km.fit(data[['x','y']]) # we fit to our original 2 dimensional array"
   ]
  },
  {
   "cell_type": "code",
   "execution_count": null,
   "metadata": {},
   "outputs": [],
   "source": [
    "# now we have cluster labels for each of our documents...\n",
    "print(km.labels_)\n",
    "print(km.labels_.shape)"
   ]
  },
  {
   "cell_type": "code",
   "execution_count": null,
   "metadata": {},
   "outputs": [],
   "source": [
    "# we can add these to our existing data...\n",
    "data['k_labels'] = km.labels_\n",
    "data.head()"
   ]
  },
  {
   "cell_type": "code",
   "execution_count": null,
   "metadata": {},
   "outputs": [],
   "source": [
    "hdb = HDBSCAN(min_cluster_size=60, cluster_selection_method='leaf')"
   ]
  },
  {
   "cell_type": "code",
   "execution_count": null,
   "metadata": {},
   "outputs": [],
   "source": [
    "hdb.fit(data[['x','y']])"
   ]
  },
  {
   "cell_type": "code",
   "execution_count": null,
   "metadata": {},
   "outputs": [],
   "source": [
    "data['hdb_labels'] = hdb.labels_"
   ]
  },
  {
   "cell_type": "code",
   "execution_count": null,
   "metadata": {},
   "outputs": [],
   "source": [
    "# now if we plot our values as before, we;ll have the same distribution of plot points because we're using the same\n",
    "# x and y, but our colouring will be based on the K labels instead...\n",
    "\n",
    "\n",
    "graph = sns.lmplot(data=data, x='x', y='y',fit_reg=False, hue='k_labels')\n",
    "graph.fig.set_size_inches(10,5)"
   ]
  },
  {
   "cell_type": "code",
   "execution_count": null,
   "metadata": {},
   "outputs": [],
   "source": [
    "plot_data = data[data['hdb_labels'] != -1]"
   ]
  },
  {
   "cell_type": "code",
   "execution_count": null,
   "metadata": {},
   "outputs": [],
   "source": [
    "\n",
    "graph = sns.lmplot(data=plot_data, x='x', y='y',fit_reg=False, hue='hdb_labels')\n",
    "graph.fig.set_size_inches(10,5)"
   ]
  },
  {
   "cell_type": "code",
   "execution_count": null,
   "metadata": {},
   "outputs": [],
   "source": [
    "k_vs_labels = data.pivot_table(columns=['k_labels'],index = 'category_label',values='text', aggfunc='count')\n",
    "k_vs_labels\n"
   ]
  },
  {
   "cell_type": "code",
   "execution_count": null,
   "metadata": {
    "scrolled": true
   },
   "outputs": [],
   "source": [
    "sns.heatmap(k_vs_labels, cmap='Greens', linewidths=1) # cmap is colour map, for a full list"
   ]
  },
  {
   "cell_type": "code",
   "execution_count": null,
   "metadata": {},
   "outputs": [],
   "source": [
    "hdb_vs_labels = data.pivot_table(columns=['hdb_labels'],index = 'category_label',values='text', aggfunc='count')\n",
    "hdb_vs_labels"
   ]
  },
  {
   "cell_type": "code",
   "execution_count": null,
   "metadata": {},
   "outputs": [],
   "source": [
    "sns.heatmap(hdb_vs_labels.drop(columns=[-1]), cmap='Greens', linewidths=1) # cmap is colour map, for a full list"
   ]
  },
  {
   "cell_type": "code",
   "execution_count": null,
   "metadata": {},
   "outputs": [],
   "source": [
    "# if we compare with the actual labels\n",
    "graph = sns.lmplot(data=data, x='x', y='y',fit_reg=False, hue='category_label')\n",
    "graph.fig.set_size_inches(10,5)"
   ]
  },
  {
   "cell_type": "markdown",
   "metadata": {},
   "source": [
    "#### Determining an appropriate K value\n",
    "If we have no idea of how many topics or clusters are in our data one way to try to find it is using an elbow plot. An elbow plot runs multiple clustering exercises with a different number of clusters. For each run we can extract the sum of the squared distance from their closest cluster centre, for all points. Adding additional centroids to cluster  around will initially reduce this number dramatically, but eventually we get to a point where adding another cluster makes negligble difference. This is our elbow, and provides an indication of how many clusters we should aim for."
   ]
  },
  {
   "cell_type": "code",
   "execution_count": null,
   "metadata": {
    "collapsed": true
   },
   "outputs": [],
   "source": [
    "def elbow_plot(data,maxK=10):\n",
    "    elbow_data = {}\n",
    "    for k in range(1, maxK+1):\n",
    "        kmeans = MiniBatchKMeans(n_clusters=k,\n",
    "                                 max_iter=100,\n",
    "                                 n_init=50,\n",
    "                                 random_state=0).fit(data)\n",
    "        elbow_data[k] = kmeans.inertia_\n",
    "    pd.DataFrame.from_dict([elbow_data]).transpose().plot()\n",
    "    return "
   ]
  },
  {
   "cell_type": "code",
   "execution_count": null,
   "metadata": {
    "scrolled": true
   },
   "outputs": [],
   "source": [
    "elbow_plot(data[['x','y']],maxK=10)"
   ]
  },
  {
   "cell_type": "markdown",
   "metadata": {},
   "source": [
    "The elbow often provides more of a range than a definitive elbow, here between 3 and 5. If we go back at reset our k to a different figure we can compare to the known labels. However without labels the next best step is to look at the text itself."
   ]
  },
  {
   "cell_type": "code",
   "execution_count": null,
   "metadata": {},
   "outputs": [],
   "source": []
  },
  {
   "cell_type": "code",
   "execution_count": null,
   "metadata": {},
   "outputs": [],
   "source": []
  },
  {
   "cell_type": "markdown",
   "metadata": {},
   "source": [
    "#### Significant Terms by Cluster"
   ]
  },
  {
   "cell_type": "code",
   "execution_count": null,
   "metadata": {},
   "outputs": [],
   "source": [
    "k_clustered_scores = pd.concat([data['k_labels'],tfidf_df.drop(columns=['category_label'])], axis=1)"
   ]
  },
  {
   "cell_type": "code",
   "execution_count": null,
   "metadata": {},
   "outputs": [],
   "source": [
    "def top_terms(df, cluster_col, top_n=5):\n",
    "    return df.drop(columns=[cluster_col]).sum().sort_values(ascending=False).head(top_n)"
   ]
  },
  {
   "cell_type": "code",
   "execution_count": null,
   "metadata": {},
   "outputs": [],
   "source": [
    "k_clustered_scores.groupby('k_labels').apply(top_terms, 'k_labels')"
   ]
  },
  {
   "cell_type": "markdown",
   "metadata": {},
   "source": [
    "# Finding Clusters in Unlabelled Data"
   ]
  },
  {
   "cell_type": "code",
   "execution_count": null,
   "metadata": {},
   "outputs": [],
   "source": [
    "news_data = pd.read_pickle('news_data.pkl')\n",
    "news_data['query'].value_counts()"
   ]
  },
  {
   "cell_type": "code",
   "execution_count": null,
   "metadata": {},
   "outputs": [],
   "source": [
    "news_data = news_data[news_data['query'] == 'billionaire'].copy().reset_index(drop=True)\n",
    "news_data.head()"
   ]
  },
  {
   "cell_type": "code",
   "execution_count": null,
   "metadata": {},
   "outputs": [],
   "source": [
    "news_data['text_nlp'] = list(nlp.pipe(news_data['text'], n_process=7))"
   ]
  },
  {
   "cell_type": "code",
   "execution_count": null,
   "metadata": {},
   "outputs": [],
   "source": [
    "news_data['cleaned_text'] = news_data['text_nlp'].apply(filter_text)"
   ]
  },
  {
   "cell_type": "code",
   "execution_count": null,
   "metadata": {},
   "outputs": [],
   "source": [
    "news_texts = news_data['cleaned_text'].apply(' '.join)"
   ]
  },
  {
   "cell_type": "code",
   "execution_count": null,
   "metadata": {},
   "outputs": [],
   "source": [
    "tfidf = TfidfVectorizer(min_df=0.01, max_df=0.99)\n",
    "news_matrix = tfidf.fit_transform(news_texts)"
   ]
  },
  {
   "cell_type": "code",
   "execution_count": null,
   "metadata": {},
   "outputs": [],
   "source": [
    "term_scores = pd.DataFrame(news_matrix.toarray(), columns=tfidf.get_feature_names())"
   ]
  },
  {
   "cell_type": "code",
   "execution_count": null,
   "metadata": {},
   "outputs": [],
   "source": [
    "reduced = dimension_reducer.fit_transform(news_matrix)"
   ]
  },
  {
   "cell_type": "code",
   "execution_count": null,
   "metadata": {},
   "outputs": [],
   "source": [
    "reduced_df = pd.DataFrame(reduced,columns=['x','y'])"
   ]
  },
  {
   "cell_type": "code",
   "execution_count": null,
   "metadata": {},
   "outputs": [],
   "source": [
    "news_data = pd.concat([news_data, reduced_df], axis=1)\n"
   ]
  },
  {
   "cell_type": "code",
   "execution_count": null,
   "metadata": {},
   "outputs": [],
   "source": [
    "news_data.head()"
   ]
  },
  {
   "cell_type": "code",
   "execution_count": null,
   "metadata": {},
   "outputs": [],
   "source": [
    "elbow_plot(news_data[['x','y']])"
   ]
  },
  {
   "cell_type": "code",
   "execution_count": null,
   "metadata": {},
   "outputs": [],
   "source": [
    "km = MiniBatchKMeans(verbose=1, # as with TSNE\n",
    "                    init='k-means++',# original kmeans is very sensitive to the initial placement of the centroids. ++ adjusts for this.\n",
    "                    n_clusters=3)"
   ]
  },
  {
   "cell_type": "code",
   "execution_count": null,
   "metadata": {},
   "outputs": [],
   "source": [
    "km.fit(news_data[['x','y']])"
   ]
  },
  {
   "cell_type": "code",
   "execution_count": null,
   "metadata": {},
   "outputs": [],
   "source": [
    "news_data['k_labels'] = km.labels_"
   ]
  },
  {
   "cell_type": "code",
   "execution_count": null,
   "metadata": {},
   "outputs": [],
   "source": [
    "graph = sns.lmplot(data=news_data, x='x', y='y',fit_reg=False, hue='k_labels')\n",
    "graph.fig.set_size_inches(10,5)"
   ]
  },
  {
   "cell_type": "code",
   "execution_count": null,
   "metadata": {},
   "outputs": [],
   "source": [
    "term_scores = pd.DataFrame(news_matrix.toarray(), columns=tfidf.get_feature_names())\n",
    "term_scores = pd.concat([news_data['k_labels'], term_scores], axis=1)"
   ]
  },
  {
   "cell_type": "code",
   "execution_count": null,
   "metadata": {},
   "outputs": [],
   "source": [
    "term_scores.groupby('k_labels').apply(top_terms, cluster_col='k_labels', top_n=10)"
   ]
  },
  {
   "cell_type": "code",
   "execution_count": null,
   "metadata": {},
   "outputs": [],
   "source": [
    "k = 0\n",
    "\n",
    "for i, row in news_data[news_data['k_labels'] == k].sample(10).iterrows():\n",
    "    print(row['thread.title_full'])"
   ]
  },
  {
   "cell_type": "markdown",
   "metadata": {},
   "source": [
    "# Working with Semantic Vectors"
   ]
  },
  {
   "cell_type": "code",
   "execution_count": null,
   "metadata": {},
   "outputs": [],
   "source": [
    "one_doc = news_data.loc[0,'text_nlp']"
   ]
  },
  {
   "cell_type": "code",
   "execution_count": null,
   "metadata": {},
   "outputs": [],
   "source": [
    "vectors = news_data['text_nlp'].apply(lambda doc: pd.Series(doc.vector))"
   ]
  },
  {
   "cell_type": "code",
   "execution_count": null,
   "metadata": {},
   "outputs": [],
   "source": [
    "reduced_vectors = dimension_reducer.fit_transform(vectors)"
   ]
  },
  {
   "cell_type": "code",
   "execution_count": null,
   "metadata": {},
   "outputs": [],
   "source": [
    "reduc_values = pd.DataFrame(reduced_vectors, columns=['vec_x','vec_y'])\n",
    "news_data = news_data.join(reduc_values)"
   ]
  },
  {
   "cell_type": "code",
   "execution_count": null,
   "metadata": {},
   "outputs": [],
   "source": [
    "graph = sns.lmplot(data=news_data, x='vec_x', y='vec_y',fit_reg=False)\n",
    "graph.fig.set_size_inches(10,5)"
   ]
  },
  {
   "cell_type": "code",
   "execution_count": null,
   "metadata": {},
   "outputs": [],
   "source": [
    "elbow_plot(news_data[['vec_x','vec_y']])"
   ]
  },
  {
   "cell_type": "code",
   "execution_count": null,
   "metadata": {},
   "outputs": [],
   "source": [
    "km = MiniBatchKMeans(verbose=0, # as with TSNE\n",
    "                    init='k-means++',# original kmeans is very sensitive to the initial placement of the centroids. ++ adjusts for this.\n",
    "                    n_clusters=3)"
   ]
  },
  {
   "cell_type": "code",
   "execution_count": null,
   "metadata": {},
   "outputs": [],
   "source": [
    "km.fit(news_data[['vec_x','vec_y']])"
   ]
  },
  {
   "cell_type": "code",
   "execution_count": null,
   "metadata": {},
   "outputs": [],
   "source": [
    "news_data['k_labels'] = km.labels_"
   ]
  },
  {
   "cell_type": "code",
   "execution_count": null,
   "metadata": {},
   "outputs": [],
   "source": [
    "graph = sns.lmplot(data=news_data, x='vec_x', y='vec_y',fit_reg=False, hue='k_labels')\n",
    "graph.fig.set_size_inches(10,5)"
   ]
  },
  {
   "cell_type": "code",
   "execution_count": null,
   "metadata": {},
   "outputs": [],
   "source": [
    "k = 1\n",
    "\n",
    "for i, row in news_data[news_data['k_labels'] == k].sample(10).iterrows():\n",
    "    print(row['thread.title_full'])"
   ]
  },
  {
   "cell_type": "code",
   "execution_count": null,
   "metadata": {},
   "outputs": [],
   "source": [
    "k_vs_labels = news_data.pivot_table(columns=['k_labels'],index = 'query',values='text', aggfunc='count')\n",
    "k_vs_labels\n"
   ]
  },
  {
   "cell_type": "code",
   "execution_count": null,
   "metadata": {
    "scrolled": true
   },
   "outputs": [],
   "source": [
    "sns.heatmap(k_vs_labels, cmap='Greens', linewidths=1) # cmap is colour map, for a full list"
   ]
  },
  {
   "cell_type": "code",
   "execution_count": null,
   "metadata": {},
   "outputs": [],
   "source": [
    "from hdbscan import HDBSCAN"
   ]
  },
  {
   "cell_type": "code",
   "execution_count": null,
   "metadata": {},
   "outputs": [],
   "source": [
    "clusterer = HDBSCAN(cluster_selection_method='leaf', min_cluster_size=30)"
   ]
  },
  {
   "cell_type": "code",
   "execution_count": null,
   "metadata": {},
   "outputs": [],
   "source": [
    "clusterer.fit(df[['x','y']])"
   ]
  },
  {
   "cell_type": "code",
   "execution_count": null,
   "metadata": {},
   "outputs": [],
   "source": [
    "df['hdb_labels'] = clusterer.labels_"
   ]
  },
  {
   "cell_type": "code",
   "execution_count": null,
   "metadata": {},
   "outputs": [],
   "source": [
    "graph = sns.lmplot(data=df, x='x', y='y',fit_reg=False, hue='hdb_labels')\n",
    "graph.fig.set_size_inches(10,5)"
   ]
  },
  {
   "cell_type": "code",
   "execution_count": null,
   "metadata": {},
   "outputs": [],
   "source": [
    "k_vs_labels = df.pivot_table(columns=['hdb_labels'],index = 'category_label',values='text', aggfunc='count')\n",
    "k_vs_labels"
   ]
  },
  {
   "cell_type": "code",
   "execution_count": null,
   "metadata": {},
   "outputs": [],
   "source": [
    "sns.heatmap(k_vs_labels.drop(columns=[-1]), cmap='Greens', linewidths=1) # cmap is colour map, for a full list"
   ]
  },
  {
   "cell_type": "markdown",
   "metadata": {},
   "source": [
    "## Bonus! Non-negative matrix factorization (NMF)"
   ]
  },
  {
   "cell_type": "code",
   "execution_count": null,
   "metadata": {
    "collapsed": true
   },
   "outputs": [],
   "source": [
    "from sklearn.decomposition import NMF"
   ]
  },
  {
   "cell_type": "code",
   "execution_count": null,
   "metadata": {
    "collapsed": true
   },
   "outputs": [],
   "source": [
    "nmf = NMF(n_components=20, random_state=1,\n",
    "          beta_loss='kullback-leibler', solver='mu', max_iter=1000, alpha=.1,\n",
    "          l1_ratio=.5).fit(news_matrix)"
   ]
  },
  {
   "cell_type": "code",
   "execution_count": null,
   "metadata": {
    "collapsed": true
   },
   "outputs": [],
   "source": [
    "term_topic_matrix = nmf.components_\n",
    "doc_topic_matrix = nmf.transform(news_matrix)"
   ]
  }
 ],
 "metadata": {
  "kernelspec": {
   "display_name": "Python [conda env:teaching]",
   "language": "python",
   "name": "conda-env-teaching-py"
  },
  "language_info": {
   "codemirror_mode": {
    "name": "ipython",
    "version": 3
   },
   "file_extension": ".py",
   "mimetype": "text/x-python",
   "name": "python",
   "nbconvert_exporter": "python",
   "pygments_lexer": "ipython3",
   "version": "3.7.3"
  }
 },
 "nbformat": 4,
 "nbformat_minor": 2
}
