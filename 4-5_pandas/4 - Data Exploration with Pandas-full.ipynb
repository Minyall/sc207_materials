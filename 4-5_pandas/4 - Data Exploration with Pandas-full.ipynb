{
 "cells": [
  {
   "cell_type": "markdown",
   "metadata": {
    "pycharm": {
     "name": "#%% md\n"
    }
   },
   "source": [
    "# SC207 - Session 3\n",
    "# Exploring, structuring and visualising data with Pandas\n",
    "<img src=\"https://github.com/Minyall/sc207_materials/blob/master/images/python_pandas.jpg?raw=true\" align=\"right\">\n",
    "\n",
    "\n",
    "- A major part of computational social science is the storing, manipulation and reporting of data. \n",
    "- Pandas is a powerful data management library specifically built for these kinds of tasks.\n",
    "- It can handle very large amounts of data whilst remaining quick and responsive.\n",
    "\n",
    "- We will be using Pandas throughout our practical sessions as a general purpose data management tool but this week we will focus on learning its features.\n",
    "\n",
    "[__Pandas Documentation__](http://pandas.pydata.org/pandas-docs/stable/)"
   ]
  },
  {
   "cell_type": "markdown",
   "metadata": {
    "pycharm": {
     "name": "#%% md\n"
    }
   },
   "source": [
    "\n",
    "\n",
    "### The Data\n",
    "\n",
    "<img src=\"https://github.com/Minyall/sc207_materials/blob/master/images/spotify.png?raw=true\" align=\"right\" width=150>\n",
    "\n",
    "Today we will be using data gathered from Spotify, the popular music streaming service. Spotify provides access to some of its data through their public API. This data has been collected and pre-prepared by your instructors.\n"
   ]
  },
  {
   "cell_type": "markdown",
   "metadata": {
    "pycharm": {
     "name": "#%% md\n"
    }
   },
   "source": [
    "### Imports\n",
    "Importing modules in python is standard practice. Rather than everyone create their own unique code from scratch every time, modules allow us to integrate code developed by others into our own work. In most instances it is better to use a well supported pre-existing library than to write your own."
   ]
  },
  {
   "cell_type": "code",
   "execution_count": 3,
   "metadata": {
    "pycharm": {
     "name": "#%%\n"
    }
   },
   "outputs": [],
   "source": [
    "# Here we import the `pandas` module. We could simply use `import pandas` however `as` allows us to use a shorter name.\n",
    "# As social convention many modules are referred to with these short names.\n",
    "\n",
    "import pandas as pd"
   ]
  },
  {
   "cell_type": "markdown",
   "metadata": {
    "pycharm": {
     "name": "#%% md\n"
    }
   },
   "source": [
    "## Loading Data\n",
    "Often (though not always) you will be importing data from a file into Pandas. Pandas can handle a range of import types...\n",
    "\n",
    "\n",
    "<img src=\"https://github.com/Minyall/sc207_materials/blob/master/images/pandas_import.png?raw=true\">\n",
    "\n",
    "[Source - Pandas Documentation](https://pandas.pydata.org/pandas-docs/stable/io.html)\n",
    "\n",
    "...some will be familiar to you, others less so.\n",
    "\n",
    "Today's data is stored as a __CSV file__, a common format for storing data in a simple way that can be read by lots of different programs including text readers, Microsoft Excel, etc.\n",
    "\n",
    "We need to provide either the relative or full path to the file so Python knows where in your computer to look. If the file is in the same place as your notebook you can provide the *relative* path which is the file path relative to the notebook. In our case the path is simply `spotify_top_songs.csv`. \n",
    "\n",
    "Whilst you're still learning it is best to just keep all relevant files in the same folder as your notebook.\n"
   ]
  },
  {
   "cell_type": "code",
   "execution_count": 76,
   "metadata": {
    "pycharm": {
     "name": "#%%\n"
    }
   },
   "outputs": [],
   "source": [
    "filename = 'spotify_top_songs.csv'\n"
   ]
  },
  {
   "cell_type": "code",
   "execution_count": 77,
   "metadata": {
    "scrolled": true,
    "pycharm": {
     "name": "#%%\n"
    }
   },
   "outputs": [
    {
     "data": {
      "text/plain": "pandas.core.frame.DataFrame"
     },
     "execution_count": 77,
     "metadata": {},
     "output_type": "execute_result"
    }
   ],
   "source": [
    "# load your saved data as variable songs_df, df being short for DataFrame\n",
    "\n",
    "songs_df = pd.read_csv(filename)\n",
    "type(songs_df)"
   ]
  },
  {
   "cell_type": "code",
   "execution_count": 78,
   "metadata": {
    "pycharm": {
     "name": "#%%\n"
    }
   },
   "outputs": [
    {
     "data": {
      "text/plain": "(1187, 13)"
     },
     "execution_count": 78,
     "metadata": {},
     "output_type": "execute_result"
    }
   ],
   "source": [
    "# We can get a quick sense of the size of our dataset using .shape\n",
    "# (number of rows, numer of columns)\n",
    "\n",
    "songs_df.shape"
   ]
  },
  {
   "cell_type": "markdown",
   "source": [
    "## Viewing your data"
   ],
   "metadata": {
    "collapsed": false,
    "pycharm": {
     "name": "#%% md\n"
    }
   }
  },
  {
   "cell_type": "code",
   "execution_count": 80,
   "metadata": {
    "pycharm": {
     "name": "#%%\n"
    }
   },
   "outputs": [
    {
     "data": {
      "text/plain": "                 track_id                              track_name  \\\n0  75FEaRjZTKLhTrFGsfMUXR  Running Up That Hill (A Deal With God)   \n1  4Dvkj6JhhA12EX05fT7y2e                               As It Was   \n2  40SBS57su9xLiE1WqkXOVr                          Afraid To Feel   \n3  2KukL7UlQ8TdvpaA7bY3ZJ                           BREAK MY SOUL   \n4  6xGruZOHLs39ZbVccQTuPZ                           Glimpse of Us   \n\n        artists            genre  release_year  explicit  popularity  \\\n0     Kate Bush          art pop          1985     False          96   \n1  Harry Styles              pop          2022     False          94   \n2     LF SYSTEM      ***OOPS!***          2022     False          82   \n3       Beyoncé        dance pop          2022     False          90   \n4          Joji  alternative r&b          2022     False          98   \n\n   duration_ms            playlist_name  danceability  loudness  speechiness  \\\n0       298933  Top 50 - United Kingdom         0.629   -13.123          NaN   \n1       167303  Top 50 - United Kingdom         0.520    -5.338       0.0557   \n2       177524  Top 50 - United Kingdom         0.578    -3.929       0.1140   \n3       278281  Top 50 - United Kingdom         0.687    -5.040       0.0826   \n4       233456  Top 50 - United Kingdom         0.440    -9.258       0.0531   \n\n  playlist_type  \n0     mixed_pop  \n1     mixed_pop  \n2     mixed_pop  \n3     mixed_pop  \n4     mixed_pop  ",
      "text/html": "<div>\n<style scoped>\n    .dataframe tbody tr th:only-of-type {\n        vertical-align: middle;\n    }\n\n    .dataframe tbody tr th {\n        vertical-align: top;\n    }\n\n    .dataframe thead th {\n        text-align: right;\n    }\n</style>\n<table border=\"1\" class=\"dataframe\">\n  <thead>\n    <tr style=\"text-align: right;\">\n      <th></th>\n      <th>track_id</th>\n      <th>track_name</th>\n      <th>artists</th>\n      <th>genre</th>\n      <th>release_year</th>\n      <th>explicit</th>\n      <th>popularity</th>\n      <th>duration_ms</th>\n      <th>playlist_name</th>\n      <th>danceability</th>\n      <th>loudness</th>\n      <th>speechiness</th>\n      <th>playlist_type</th>\n    </tr>\n  </thead>\n  <tbody>\n    <tr>\n      <th>0</th>\n      <td>75FEaRjZTKLhTrFGsfMUXR</td>\n      <td>Running Up That Hill (A Deal With God)</td>\n      <td>Kate Bush</td>\n      <td>art pop</td>\n      <td>1985</td>\n      <td>False</td>\n      <td>96</td>\n      <td>298933</td>\n      <td>Top 50 - United Kingdom</td>\n      <td>0.629</td>\n      <td>-13.123</td>\n      <td>NaN</td>\n      <td>mixed_pop</td>\n    </tr>\n    <tr>\n      <th>1</th>\n      <td>4Dvkj6JhhA12EX05fT7y2e</td>\n      <td>As It Was</td>\n      <td>Harry Styles</td>\n      <td>pop</td>\n      <td>2022</td>\n      <td>False</td>\n      <td>94</td>\n      <td>167303</td>\n      <td>Top 50 - United Kingdom</td>\n      <td>0.520</td>\n      <td>-5.338</td>\n      <td>0.0557</td>\n      <td>mixed_pop</td>\n    </tr>\n    <tr>\n      <th>2</th>\n      <td>40SBS57su9xLiE1WqkXOVr</td>\n      <td>Afraid To Feel</td>\n      <td>LF SYSTEM</td>\n      <td>***OOPS!***</td>\n      <td>2022</td>\n      <td>False</td>\n      <td>82</td>\n      <td>177524</td>\n      <td>Top 50 - United Kingdom</td>\n      <td>0.578</td>\n      <td>-3.929</td>\n      <td>0.1140</td>\n      <td>mixed_pop</td>\n    </tr>\n    <tr>\n      <th>3</th>\n      <td>2KukL7UlQ8TdvpaA7bY3ZJ</td>\n      <td>BREAK MY SOUL</td>\n      <td>Beyoncé</td>\n      <td>dance pop</td>\n      <td>2022</td>\n      <td>False</td>\n      <td>90</td>\n      <td>278281</td>\n      <td>Top 50 - United Kingdom</td>\n      <td>0.687</td>\n      <td>-5.040</td>\n      <td>0.0826</td>\n      <td>mixed_pop</td>\n    </tr>\n    <tr>\n      <th>4</th>\n      <td>6xGruZOHLs39ZbVccQTuPZ</td>\n      <td>Glimpse of Us</td>\n      <td>Joji</td>\n      <td>alternative r&amp;b</td>\n      <td>2022</td>\n      <td>False</td>\n      <td>98</td>\n      <td>233456</td>\n      <td>Top 50 - United Kingdom</td>\n      <td>0.440</td>\n      <td>-9.258</td>\n      <td>0.0531</td>\n      <td>mixed_pop</td>\n    </tr>\n  </tbody>\n</table>\n</div>"
     },
     "execution_count": 80,
     "metadata": {},
     "output_type": "execute_result"
    }
   ],
   "source": [
    "# .head() shows us the top 5 rows\n",
    "songs_df.head()"
   ]
  },
  {
   "cell_type": "code",
   "execution_count": 81,
   "outputs": [
    {
     "data": {
      "text/plain": "                    track_id                  track_name          artists  \\\n1182  5d6ZRqgbz26Sg4bk1oifQw            Blue Suede Shoes     Carl Perkins   \n1183  6pPr1KLZit9FgFNhp7xE5m              Cheek To Cheek  Ella Fitzgerald   \n1184  2k6qpHJsrKCCyvsHv2cPqR                       Diana        Paul Anka   \n1185  6lYeYgSkWh6TZDQy6YZuvG  Just A Gigolo - Remastered      Louis Prima   \n1186  2R7uUQ0Dehu80gsOcydQC9                  Bo Diddley       Bo Diddley   \n\n                genre  release_year  explicit  popularity  duration_ms  \\\n1182    rock-and-roll          1957     False          57       134445   \n1183  adult standards          1956     False           0       351893   \n1184  adult standards          1966     False          56       140520   \n1185  adult standards          1991     False          53       283200   \n1186   acoustic blues          1958     False          53       149013   \n\n     playlist_name  danceability  loudness  speechiness    playlist_type  \n1182   All Out 50s         0.548    -7.318       0.0364  all_out_decades  \n1183   All Out 50s         0.648   -13.395       0.0883  all_out_decades  \n1184   All Out 50s         0.551    -8.490       0.0325  all_out_decades  \n1185   All Out 50s         0.525   -11.987       0.0945  all_out_decades  \n1186   All Out 50s         0.809   -12.484       0.0574  all_out_decades  ",
      "text/html": "<div>\n<style scoped>\n    .dataframe tbody tr th:only-of-type {\n        vertical-align: middle;\n    }\n\n    .dataframe tbody tr th {\n        vertical-align: top;\n    }\n\n    .dataframe thead th {\n        text-align: right;\n    }\n</style>\n<table border=\"1\" class=\"dataframe\">\n  <thead>\n    <tr style=\"text-align: right;\">\n      <th></th>\n      <th>track_id</th>\n      <th>track_name</th>\n      <th>artists</th>\n      <th>genre</th>\n      <th>release_year</th>\n      <th>explicit</th>\n      <th>popularity</th>\n      <th>duration_ms</th>\n      <th>playlist_name</th>\n      <th>danceability</th>\n      <th>loudness</th>\n      <th>speechiness</th>\n      <th>playlist_type</th>\n    </tr>\n  </thead>\n  <tbody>\n    <tr>\n      <th>1182</th>\n      <td>5d6ZRqgbz26Sg4bk1oifQw</td>\n      <td>Blue Suede Shoes</td>\n      <td>Carl Perkins</td>\n      <td>rock-and-roll</td>\n      <td>1957</td>\n      <td>False</td>\n      <td>57</td>\n      <td>134445</td>\n      <td>All Out 50s</td>\n      <td>0.548</td>\n      <td>-7.318</td>\n      <td>0.0364</td>\n      <td>all_out_decades</td>\n    </tr>\n    <tr>\n      <th>1183</th>\n      <td>6pPr1KLZit9FgFNhp7xE5m</td>\n      <td>Cheek To Cheek</td>\n      <td>Ella Fitzgerald</td>\n      <td>adult standards</td>\n      <td>1956</td>\n      <td>False</td>\n      <td>0</td>\n      <td>351893</td>\n      <td>All Out 50s</td>\n      <td>0.648</td>\n      <td>-13.395</td>\n      <td>0.0883</td>\n      <td>all_out_decades</td>\n    </tr>\n    <tr>\n      <th>1184</th>\n      <td>2k6qpHJsrKCCyvsHv2cPqR</td>\n      <td>Diana</td>\n      <td>Paul Anka</td>\n      <td>adult standards</td>\n      <td>1966</td>\n      <td>False</td>\n      <td>56</td>\n      <td>140520</td>\n      <td>All Out 50s</td>\n      <td>0.551</td>\n      <td>-8.490</td>\n      <td>0.0325</td>\n      <td>all_out_decades</td>\n    </tr>\n    <tr>\n      <th>1185</th>\n      <td>6lYeYgSkWh6TZDQy6YZuvG</td>\n      <td>Just A Gigolo - Remastered</td>\n      <td>Louis Prima</td>\n      <td>adult standards</td>\n      <td>1991</td>\n      <td>False</td>\n      <td>53</td>\n      <td>283200</td>\n      <td>All Out 50s</td>\n      <td>0.525</td>\n      <td>-11.987</td>\n      <td>0.0945</td>\n      <td>all_out_decades</td>\n    </tr>\n    <tr>\n      <th>1186</th>\n      <td>2R7uUQ0Dehu80gsOcydQC9</td>\n      <td>Bo Diddley</td>\n      <td>Bo Diddley</td>\n      <td>acoustic blues</td>\n      <td>1958</td>\n      <td>False</td>\n      <td>53</td>\n      <td>149013</td>\n      <td>All Out 50s</td>\n      <td>0.809</td>\n      <td>-12.484</td>\n      <td>0.0574</td>\n      <td>all_out_decades</td>\n    </tr>\n  </tbody>\n</table>\n</div>"
     },
     "execution_count": 81,
     "metadata": {},
     "output_type": "execute_result"
    }
   ],
   "source": [
    "# .tail() shows us the last 5 rows\n",
    "\n",
    "songs_df.tail()"
   ],
   "metadata": {
    "collapsed": false,
    "pycharm": {
     "name": "#%%\n"
    }
   }
  },
  {
   "cell_type": "code",
   "execution_count": 82,
   "outputs": [
    {
     "data": {
      "text/plain": "                 track_id                              track_name  \\\n0  75FEaRjZTKLhTrFGsfMUXR  Running Up That Hill (A Deal With God)   \n1  4Dvkj6JhhA12EX05fT7y2e                               As It Was   \n2  40SBS57su9xLiE1WqkXOVr                          Afraid To Feel   \n3  2KukL7UlQ8TdvpaA7bY3ZJ                           BREAK MY SOUL   \n4  6xGruZOHLs39ZbVccQTuPZ                           Glimpse of Us   \n5  1PckUlxKqWQs3RlWXVBLw3                         About Damn Time   \n6  02MWAaffLxlfxAUY7c5dvx                              Heat Waves   \n7  0oiv4E896TUTTeQU0cmIui                                 Massive   \n8  4N5s8lPTsjI9EGP7K4SXzB                       Green Green Grass   \n9  1qEmFfgcLObUfQm0j1W2CK                      Late Night Talking   \n\n         artists             genre  release_year  explicit  popularity  \\\n0      Kate Bush           art pop          1985     False          96   \n1   Harry Styles               pop          2022     False          94   \n2      LF SYSTEM       ***OOPS!***          2022     False          82   \n3        Beyoncé         dance pop          2022     False          90   \n4           Joji   alternative r&b          2022     False          98   \n5          Lizzo         dance pop          2022      True          95   \n6  Glass Animals         gauze pop          2020     False          91   \n7          Drake  canadian hip hop          2022     False          79   \n8    George Ezra          folk-pop          2022     False          69   \n9   Harry Styles               pop          2022     False          95   \n\n   duration_ms            playlist_name  danceability  loudness  speechiness  \\\n0       298933  Top 50 - United Kingdom         0.629   -13.123          NaN   \n1       167303  Top 50 - United Kingdom         0.520    -5.338       0.0557   \n2       177524  Top 50 - United Kingdom         0.578    -3.929       0.1140   \n3       278281  Top 50 - United Kingdom         0.687    -5.040       0.0826   \n4       233456  Top 50 - United Kingdom         0.440    -9.258       0.0531   \n5       191822  Top 50 - United Kingdom         0.836    -6.305       0.0656   \n6       238805  Top 50 - United Kingdom         0.761    -6.900       0.0944   \n7       336924  Top 50 - United Kingdom         0.499    -6.774       0.0561   \n8       167613  Top 50 - United Kingdom         0.685    -4.413       0.0595   \n9       177954  Top 50 - United Kingdom         0.714    -4.595       0.0468   \n\n  playlist_type  \n0     mixed_pop  \n1     mixed_pop  \n2     mixed_pop  \n3     mixed_pop  \n4     mixed_pop  \n5     mixed_pop  \n6     mixed_pop  \n7     mixed_pop  \n8     mixed_pop  \n9     mixed_pop  ",
      "text/html": "<div>\n<style scoped>\n    .dataframe tbody tr th:only-of-type {\n        vertical-align: middle;\n    }\n\n    .dataframe tbody tr th {\n        vertical-align: top;\n    }\n\n    .dataframe thead th {\n        text-align: right;\n    }\n</style>\n<table border=\"1\" class=\"dataframe\">\n  <thead>\n    <tr style=\"text-align: right;\">\n      <th></th>\n      <th>track_id</th>\n      <th>track_name</th>\n      <th>artists</th>\n      <th>genre</th>\n      <th>release_year</th>\n      <th>explicit</th>\n      <th>popularity</th>\n      <th>duration_ms</th>\n      <th>playlist_name</th>\n      <th>danceability</th>\n      <th>loudness</th>\n      <th>speechiness</th>\n      <th>playlist_type</th>\n    </tr>\n  </thead>\n  <tbody>\n    <tr>\n      <th>0</th>\n      <td>75FEaRjZTKLhTrFGsfMUXR</td>\n      <td>Running Up That Hill (A Deal With God)</td>\n      <td>Kate Bush</td>\n      <td>art pop</td>\n      <td>1985</td>\n      <td>False</td>\n      <td>96</td>\n      <td>298933</td>\n      <td>Top 50 - United Kingdom</td>\n      <td>0.629</td>\n      <td>-13.123</td>\n      <td>NaN</td>\n      <td>mixed_pop</td>\n    </tr>\n    <tr>\n      <th>1</th>\n      <td>4Dvkj6JhhA12EX05fT7y2e</td>\n      <td>As It Was</td>\n      <td>Harry Styles</td>\n      <td>pop</td>\n      <td>2022</td>\n      <td>False</td>\n      <td>94</td>\n      <td>167303</td>\n      <td>Top 50 - United Kingdom</td>\n      <td>0.520</td>\n      <td>-5.338</td>\n      <td>0.0557</td>\n      <td>mixed_pop</td>\n    </tr>\n    <tr>\n      <th>2</th>\n      <td>40SBS57su9xLiE1WqkXOVr</td>\n      <td>Afraid To Feel</td>\n      <td>LF SYSTEM</td>\n      <td>***OOPS!***</td>\n      <td>2022</td>\n      <td>False</td>\n      <td>82</td>\n      <td>177524</td>\n      <td>Top 50 - United Kingdom</td>\n      <td>0.578</td>\n      <td>-3.929</td>\n      <td>0.1140</td>\n      <td>mixed_pop</td>\n    </tr>\n    <tr>\n      <th>3</th>\n      <td>2KukL7UlQ8TdvpaA7bY3ZJ</td>\n      <td>BREAK MY SOUL</td>\n      <td>Beyoncé</td>\n      <td>dance pop</td>\n      <td>2022</td>\n      <td>False</td>\n      <td>90</td>\n      <td>278281</td>\n      <td>Top 50 - United Kingdom</td>\n      <td>0.687</td>\n      <td>-5.040</td>\n      <td>0.0826</td>\n      <td>mixed_pop</td>\n    </tr>\n    <tr>\n      <th>4</th>\n      <td>6xGruZOHLs39ZbVccQTuPZ</td>\n      <td>Glimpse of Us</td>\n      <td>Joji</td>\n      <td>alternative r&amp;b</td>\n      <td>2022</td>\n      <td>False</td>\n      <td>98</td>\n      <td>233456</td>\n      <td>Top 50 - United Kingdom</td>\n      <td>0.440</td>\n      <td>-9.258</td>\n      <td>0.0531</td>\n      <td>mixed_pop</td>\n    </tr>\n    <tr>\n      <th>5</th>\n      <td>1PckUlxKqWQs3RlWXVBLw3</td>\n      <td>About Damn Time</td>\n      <td>Lizzo</td>\n      <td>dance pop</td>\n      <td>2022</td>\n      <td>True</td>\n      <td>95</td>\n      <td>191822</td>\n      <td>Top 50 - United Kingdom</td>\n      <td>0.836</td>\n      <td>-6.305</td>\n      <td>0.0656</td>\n      <td>mixed_pop</td>\n    </tr>\n    <tr>\n      <th>6</th>\n      <td>02MWAaffLxlfxAUY7c5dvx</td>\n      <td>Heat Waves</td>\n      <td>Glass Animals</td>\n      <td>gauze pop</td>\n      <td>2020</td>\n      <td>False</td>\n      <td>91</td>\n      <td>238805</td>\n      <td>Top 50 - United Kingdom</td>\n      <td>0.761</td>\n      <td>-6.900</td>\n      <td>0.0944</td>\n      <td>mixed_pop</td>\n    </tr>\n    <tr>\n      <th>7</th>\n      <td>0oiv4E896TUTTeQU0cmIui</td>\n      <td>Massive</td>\n      <td>Drake</td>\n      <td>canadian hip hop</td>\n      <td>2022</td>\n      <td>False</td>\n      <td>79</td>\n      <td>336924</td>\n      <td>Top 50 - United Kingdom</td>\n      <td>0.499</td>\n      <td>-6.774</td>\n      <td>0.0561</td>\n      <td>mixed_pop</td>\n    </tr>\n    <tr>\n      <th>8</th>\n      <td>4N5s8lPTsjI9EGP7K4SXzB</td>\n      <td>Green Green Grass</td>\n      <td>George Ezra</td>\n      <td>folk-pop</td>\n      <td>2022</td>\n      <td>False</td>\n      <td>69</td>\n      <td>167613</td>\n      <td>Top 50 - United Kingdom</td>\n      <td>0.685</td>\n      <td>-4.413</td>\n      <td>0.0595</td>\n      <td>mixed_pop</td>\n    </tr>\n    <tr>\n      <th>9</th>\n      <td>1qEmFfgcLObUfQm0j1W2CK</td>\n      <td>Late Night Talking</td>\n      <td>Harry Styles</td>\n      <td>pop</td>\n      <td>2022</td>\n      <td>False</td>\n      <td>95</td>\n      <td>177954</td>\n      <td>Top 50 - United Kingdom</td>\n      <td>0.714</td>\n      <td>-4.595</td>\n      <td>0.0468</td>\n      <td>mixed_pop</td>\n    </tr>\n  </tbody>\n</table>\n</div>"
     },
     "execution_count": 82,
     "metadata": {},
     "output_type": "execute_result"
    }
   ],
   "source": [
    "# You can specify the number of rows to return\n",
    "\n",
    "songs_df.head(10)"
   ],
   "metadata": {
    "collapsed": false,
    "pycharm": {
     "name": "#%%\n"
    }
   }
  },
  {
   "cell_type": "markdown",
   "source": [
    "## Exercise 1\n",
    "\n",
    "Using `songs_df`, view the\n",
    "- top 20 rows\n",
    "- last 30 rows\n"
   ],
   "metadata": {
    "collapsed": false,
    "pycharm": {
     "name": "#%% md\n"
    }
   }
  },
  {
   "cell_type": "code",
   "execution_count": 83,
   "outputs": [],
   "source": [
    "# Write your code for exercise 1 in this cell\n",
    "\n"
   ],
   "metadata": {
    "collapsed": false,
    "pycharm": {
     "name": "#%%\n"
    }
   }
  },
  {
   "cell_type": "code",
   "execution_count": 84,
   "outputs": [
    {
     "ename": "SyntaxError",
     "evalue": "invalid syntax (<ipython-input-84-30a2c98ef231>, line 4)",
     "output_type": "error",
     "traceback": [
      "\u001B[0;36m  File \u001B[0;32m\"<ipython-input-84-30a2c98ef231>\"\u001B[0;36m, line \u001B[0;32m4\u001B[0m\n\u001B[0;31m    answer =\u001B[0m\n\u001B[0m            ^\u001B[0m\n\u001B[0;31mSyntaxError\u001B[0m\u001B[0;31m:\u001B[0m invalid syntax\n"
     ]
    }
   ],
   "source": [
    "# QUESTION\n",
    "# What is the name of the song in the very last row of the dataframe? Assign the name as a string to the answer variable\n",
    "\n",
    "answer =\n",
    "\n",
    "if answer.lower() == songs_df.iloc[-1,1].lower():\n",
    "    print(f'Correct!')\n",
    "else:\n",
    "    print('Incorrect - Try again')\n"
   ],
   "metadata": {
    "collapsed": false,
    "pycharm": {
     "name": "#%%\n"
    }
   }
  },
  {
   "cell_type": "markdown",
   "metadata": {
    "pycharm": {
     "name": "#%% md\n"
    }
   },
   "source": [
    "## Describing your DataFrame\n",
    "<img src=\"https://pandas.pydata.org/docs/_images/01_table_dataframe.svg\" title='Pandas DataFrame' width=\"400\" height=\"200\"/>\n",
    "\n",
    "DataFrames are like big Excel spreadsheets. They have...\n",
    "\n",
    "- Rows\n",
    "- Columns\n",
    "\n",
    "...and `values` which is the data inside the cells of your spreadsheet.\n"
   ]
  },
  {
   "cell_type": "code",
   "execution_count": 85,
   "metadata": {
    "pycharm": {
     "name": "#%%\n"
    }
   },
   "outputs": [
    {
     "data": {
      "text/plain": "Index(['track_id', 'track_name', 'artists', 'genre', 'release_year',\n       'explicit', 'popularity', 'duration_ms', 'playlist_name',\n       'danceability', 'loudness', 'speechiness', 'playlist_type'],\n      dtype='object')"
     },
     "execution_count": 85,
     "metadata": {},
     "output_type": "execute_result"
    }
   ],
   "source": [
    "# We can see a list of our columns...\n",
    "songs_df.columns"
   ]
  },
  {
   "cell_type": "code",
   "execution_count": 86,
   "outputs": [
    {
     "data": {
      "text/plain": "RangeIndex(start=0, stop=1187, step=1)"
     },
     "execution_count": 86,
     "metadata": {},
     "output_type": "execute_result"
    }
   ],
   "source": [
    "# Accessing the row index, i.e. the row labels\n",
    "\n",
    "songs_df.index"
   ],
   "metadata": {
    "collapsed": false,
    "pycharm": {
     "name": "#%%\n"
    }
   }
  },
  {
   "cell_type": "code",
   "execution_count": 87,
   "outputs": [
    {
     "data": {
      "text/plain": "array([['75FEaRjZTKLhTrFGsfMUXR',\n        'Running Up That Hill (A Deal With God)', 'Kate Bush', ...,\n        -13.123, nan, 'mixed_pop'],\n       ['4Dvkj6JhhA12EX05fT7y2e', 'As It Was', 'Harry Styles', ...,\n        -5.338, 0.0557, 'mixed_pop'],\n       ['40SBS57su9xLiE1WqkXOVr', 'Afraid To Feel', 'LF SYSTEM', ...,\n        -3.929, 0.114, 'mixed_pop'],\n       ...,\n       ['2k6qpHJsrKCCyvsHv2cPqR', 'Diana', 'Paul Anka', ..., -8.49,\n        0.0325, 'all_out_decades'],\n       ['6lYeYgSkWh6TZDQy6YZuvG', 'Just A Gigolo - Remastered',\n        'Louis Prima', ..., -11.987, 0.0945, 'all_out_decades'],\n       ['2R7uUQ0Dehu80gsOcydQC9', 'Bo Diddley', 'Bo Diddley', ...,\n        -12.484, 0.0574, 'all_out_decades']], dtype=object)"
     },
     "execution_count": 87,
     "metadata": {},
     "output_type": "execute_result"
    }
   ],
   "source": [
    "# Accessing the DataFrame values\n",
    "\n",
    "songs_df.values"
   ],
   "metadata": {
    "collapsed": false,
    "pycharm": {
     "name": "#%%\n"
    }
   }
  },
  {
   "cell_type": "markdown",
   "source": [
    "The `.info()` method gives us an overview of our DataFrame, including...\n",
    "- A summary of the index labels\n",
    "- Information the columns\n",
    "- a 'Non-Null' Count. i.e. how many 'cells' in the column have a value in them.\n",
    "- The type (Dtype) of values that column holds.\n",
    "    - Integer (int64) - e.g. 5\n",
    "    - Float (float64)- e.g. 5.3\n",
    "    - Boolean (bool) - e.g. True / False\n",
    "    - Other (object) - Usually a string, but can also be any python object e.g. lists, dictionaries, classes.\n",
    "- A summary of how much computer memory the data needs."
   ],
   "metadata": {
    "collapsed": false,
    "pycharm": {
     "name": "#%% md\n"
    }
   }
  },
  {
   "cell_type": "code",
   "execution_count": 88,
   "outputs": [
    {
     "name": "stdout",
     "output_type": "stream",
     "text": [
      "<class 'pandas.core.frame.DataFrame'>\n",
      "RangeIndex: 1187 entries, 0 to 1186\n",
      "Data columns (total 13 columns):\n",
      " #   Column         Non-Null Count  Dtype  \n",
      "---  ------         --------------  -----  \n",
      " 0   track_id       1187 non-null   object \n",
      " 1   track_name     1187 non-null   object \n",
      " 2   artists        1187 non-null   object \n",
      " 3   genre          1187 non-null   object \n",
      " 4   release_year   1187 non-null   int64  \n",
      " 5   explicit       1187 non-null   bool   \n",
      " 6   popularity     1187 non-null   int64  \n",
      " 7   duration_ms    1187 non-null   int64  \n",
      " 8   playlist_name  1187 non-null   object \n",
      " 9   danceability   1187 non-null   float64\n",
      " 10  loudness       1187 non-null   float64\n",
      " 11  speechiness    1186 non-null   float64\n",
      " 12  playlist_type  1187 non-null   object \n",
      "dtypes: bool(1), float64(3), int64(3), object(6)\n",
      "memory usage: 112.6+ KB\n"
     ]
    }
   ],
   "source": [
    "# An informative overview of our DataFrame\n",
    "\n",
    "songs_df.info()"
   ],
   "metadata": {
    "collapsed": false,
    "pycharm": {
     "name": "#%%\n"
    }
   }
  },
  {
   "cell_type": "markdown",
   "source": [
    "## Accessing columns and rows"
   ],
   "metadata": {
    "collapsed": false,
    "pycharm": {
     "name": "#%% md\n"
    }
   }
  },
  {
   "cell_type": "markdown",
   "source": [
    "### Accessing columns\n",
    "<img src=\"https://github.com/Minyall/sc207_materials/blob/master/images/01_table_series.svg?raw=true\" title='Pandas DataFrame'/>\n",
    "\n",
    "A column is also known as a `Series` and in Pandas."
   ],
   "metadata": {
    "collapsed": false,
    "pycharm": {
     "name": "#%% md\n"
    }
   }
  },
  {
   "cell_type": "code",
   "execution_count": 89,
   "metadata": {
    "pycharm": {
     "name": "#%%\n"
    }
   },
   "outputs": [],
   "source": [
    "# We can select a single column like we would select a dictionary key\n",
    "\n",
    "songs_track_names = songs_df['track_name']"
   ]
  },
  {
   "cell_type": "code",
   "execution_count": 90,
   "outputs": [
    {
     "data": {
      "text/plain": "0    Running Up That Hill (A Deal With God)\n1                                 As It Was\n2                            Afraid To Feel\n3                             BREAK MY SOUL\n4                             Glimpse of Us\nName: track_name, dtype: object"
     },
     "execution_count": 90,
     "metadata": {},
     "output_type": "execute_result"
    }
   ],
   "source": [
    "songs_track_names.head()"
   ],
   "metadata": {
    "collapsed": false,
    "pycharm": {
     "name": "#%%\n"
    }
   }
  },
  {
   "cell_type": "code",
   "execution_count": 91,
   "outputs": [
    {
     "data": {
      "text/plain": "pandas.core.series.Series"
     },
     "execution_count": 91,
     "metadata": {},
     "output_type": "execute_result"
    }
   ],
   "source": [
    "type(songs_track_names)"
   ],
   "metadata": {
    "collapsed": false,
    "pycharm": {
     "name": "#%%\n"
    }
   }
  },
  {
   "cell_type": "markdown",
   "source": [
    "Note that the Series retains the index labels on the left from the original dataframe. They're not just listing the position of the rows, but are the index reference numbers for the rows."
   ],
   "metadata": {
    "collapsed": false,
    "pycharm": {
     "name": "#%% md\n"
    }
   }
  },
  {
   "cell_type": "code",
   "execution_count": 92,
   "metadata": {
    "pycharm": {
     "name": "#%%\n"
    }
   },
   "outputs": [
    {
     "data": {
      "text/plain": "                               track_name       artists            genre\n0  Running Up That Hill (A Deal With God)     Kate Bush          art pop\n1                               As It Was  Harry Styles              pop\n2                          Afraid To Feel     LF SYSTEM      ***OOPS!***\n3                           BREAK MY SOUL       Beyoncé        dance pop\n4                           Glimpse of Us          Joji  alternative r&b",
      "text/html": "<div>\n<style scoped>\n    .dataframe tbody tr th:only-of-type {\n        vertical-align: middle;\n    }\n\n    .dataframe tbody tr th {\n        vertical-align: top;\n    }\n\n    .dataframe thead th {\n        text-align: right;\n    }\n</style>\n<table border=\"1\" class=\"dataframe\">\n  <thead>\n    <tr style=\"text-align: right;\">\n      <th></th>\n      <th>track_name</th>\n      <th>artists</th>\n      <th>genre</th>\n    </tr>\n  </thead>\n  <tbody>\n    <tr>\n      <th>0</th>\n      <td>Running Up That Hill (A Deal With God)</td>\n      <td>Kate Bush</td>\n      <td>art pop</td>\n    </tr>\n    <tr>\n      <th>1</th>\n      <td>As It Was</td>\n      <td>Harry Styles</td>\n      <td>pop</td>\n    </tr>\n    <tr>\n      <th>2</th>\n      <td>Afraid To Feel</td>\n      <td>LF SYSTEM</td>\n      <td>***OOPS!***</td>\n    </tr>\n    <tr>\n      <th>3</th>\n      <td>BREAK MY SOUL</td>\n      <td>Beyoncé</td>\n      <td>dance pop</td>\n    </tr>\n    <tr>\n      <th>4</th>\n      <td>Glimpse of Us</td>\n      <td>Joji</td>\n      <td>alternative r&amp;b</td>\n    </tr>\n  </tbody>\n</table>\n</div>"
     },
     "execution_count": 92,
     "metadata": {},
     "output_type": "execute_result"
    }
   ],
   "source": [
    "# We can also select a subset of columns by using double brackets.\n",
    "\n",
    "songs_track_artist_genre = songs_df[['track_name','artists','genre']]\n",
    "\n",
    "songs_track_artist_genre.head()"
   ]
  },
  {
   "cell_type": "code",
   "execution_count": 93,
   "outputs": [
    {
     "data": {
      "text/plain": "pandas.core.frame.DataFrame"
     },
     "execution_count": 93,
     "metadata": {},
     "output_type": "execute_result"
    }
   ],
   "source": [
    "# double-brackets returns a DataFrame, single brackets returns a Series\n",
    "\n",
    "type(songs_track_artist_genre)"
   ],
   "metadata": {
    "collapsed": false,
    "pycharm": {
     "name": "#%%\n"
    }
   }
  },
  {
   "cell_type": "code",
   "execution_count": 94,
   "outputs": [],
   "source": [
    "# ...even if you only select one column\n",
    "songs_single_track_name = songs_df['track_name']\n",
    "songs_doubled_track_name = songs_df[['track_name']]"
   ],
   "metadata": {
    "collapsed": false,
    "pycharm": {
     "name": "#%%\n"
    }
   }
  },
  {
   "cell_type": "code",
   "execution_count": 95,
   "outputs": [
    {
     "data": {
      "text/plain": "pandas.core.series.Series"
     },
     "execution_count": 95,
     "metadata": {},
     "output_type": "execute_result"
    }
   ],
   "source": [
    "type(songs_single_track_name)"
   ],
   "metadata": {
    "collapsed": false,
    "pycharm": {
     "name": "#%%\n"
    }
   }
  },
  {
   "cell_type": "code",
   "execution_count": 96,
   "outputs": [
    {
     "data": {
      "text/plain": "pandas.core.frame.DataFrame"
     },
     "execution_count": 96,
     "metadata": {},
     "output_type": "execute_result"
    }
   ],
   "source": [
    "type(songs_doubled_track_name)"
   ],
   "metadata": {
    "collapsed": false,
    "pycharm": {
     "name": "#%%\n"
    }
   }
  },
  {
   "cell_type": "markdown",
   "source": [
    "## Exercise 2\n",
    "From `songs_df` access the column 'artists' and assign it to a new variable. Check the type to make sure it is a `Series`."
   ],
   "metadata": {
    "collapsed": false,
    "pycharm": {
     "name": "#%% md\n"
    }
   }
  },
  {
   "cell_type": "code",
   "execution_count": 97,
   "outputs": [],
   "source": [
    "# Write your code for exercise 2 in this cell\n",
    "\n"
   ],
   "metadata": {
    "collapsed": false,
    "pycharm": {
     "name": "#%%\n"
    }
   }
  },
  {
   "cell_type": "markdown",
   "source": [
    "### Accessing rows\n",
    "Rows can be accessed in a number of ways...\n",
    "- By referring to their row label - `.loc`\n",
    "- By referring to their row index - `.iloc`\n",
    "- By filtering based on specific criteria"
   ],
   "metadata": {
    "collapsed": false,
    "pycharm": {
     "name": "#%% md\n"
    }
   }
  },
  {
   "cell_type": "code",
   "execution_count": 98,
   "outputs": [
    {
     "data": {
      "text/plain": "track_id          6xGruZOHLs39ZbVccQTuPZ\ntrack_name                 Glimpse of Us\nartists                             Joji\ngenre                    alternative r&b\nrelease_year                        2022\nexplicit                           False\npopularity                            98\nduration_ms                       233456\nplaylist_name    Top 50 - United Kingdom\ndanceability                        0.44\nloudness                          -9.258\nspeechiness                       0.0531\nplaylist_type                  mixed_pop\nName: 4, dtype: object"
     },
     "execution_count": 98,
     "metadata": {},
     "output_type": "execute_result"
    }
   ],
   "source": [
    "# Select the row with label 4\n",
    "\n",
    "row_label_4 = songs_df.loc[4]\n",
    "row_label_4"
   ],
   "metadata": {
    "collapsed": false,
    "pycharm": {
     "name": "#%%\n"
    }
   }
  },
  {
   "cell_type": "markdown",
   "source": [
    "Pandas has flipped the data so that the column labels are on the left, and the row label is at the top. This is because not only is a single column a `Series`, but a single row is a `Series` too."
   ],
   "metadata": {
    "collapsed": false,
    "pycharm": {
     "name": "#%% md\n"
    }
   }
  },
  {
   "cell_type": "code",
   "execution_count": 99,
   "outputs": [
    {
     "data": {
      "text/plain": "pandas.core.series.Series"
     },
     "execution_count": 99,
     "metadata": {},
     "output_type": "execute_result"
    }
   ],
   "source": [
    "# We can check the type of our row\n",
    "type(row_label_4)"
   ],
   "metadata": {
    "collapsed": false,
    "pycharm": {
     "name": "#%%\n"
    }
   }
  },
  {
   "cell_type": "code",
   "execution_count": 100,
   "outputs": [
    {
     "data": {
      "text/plain": "                 track_id                              track_name  \\\n0  75FEaRjZTKLhTrFGsfMUXR  Running Up That Hill (A Deal With God)   \n1  4Dvkj6JhhA12EX05fT7y2e                               As It Was   \n2  40SBS57su9xLiE1WqkXOVr                          Afraid To Feel   \n3  2KukL7UlQ8TdvpaA7bY3ZJ                           BREAK MY SOUL   \n4  6xGruZOHLs39ZbVccQTuPZ                           Glimpse of Us   \n\n        artists            genre  release_year  explicit  popularity  \\\n0     Kate Bush          art pop          1985     False          96   \n1  Harry Styles              pop          2022     False          94   \n2     LF SYSTEM      ***OOPS!***          2022     False          82   \n3       Beyoncé        dance pop          2022     False          90   \n4          Joji  alternative r&b          2022     False          98   \n\n   duration_ms            playlist_name  danceability  loudness  speechiness  \\\n0       298933  Top 50 - United Kingdom         0.629   -13.123          NaN   \n1       167303  Top 50 - United Kingdom         0.520    -5.338       0.0557   \n2       177524  Top 50 - United Kingdom         0.578    -3.929       0.1140   \n3       278281  Top 50 - United Kingdom         0.687    -5.040       0.0826   \n4       233456  Top 50 - United Kingdom         0.440    -9.258       0.0531   \n\n  playlist_type  \n0     mixed_pop  \n1     mixed_pop  \n2     mixed_pop  \n3     mixed_pop  \n4     mixed_pop  ",
      "text/html": "<div>\n<style scoped>\n    .dataframe tbody tr th:only-of-type {\n        vertical-align: middle;\n    }\n\n    .dataframe tbody tr th {\n        vertical-align: top;\n    }\n\n    .dataframe thead th {\n        text-align: right;\n    }\n</style>\n<table border=\"1\" class=\"dataframe\">\n  <thead>\n    <tr style=\"text-align: right;\">\n      <th></th>\n      <th>track_id</th>\n      <th>track_name</th>\n      <th>artists</th>\n      <th>genre</th>\n      <th>release_year</th>\n      <th>explicit</th>\n      <th>popularity</th>\n      <th>duration_ms</th>\n      <th>playlist_name</th>\n      <th>danceability</th>\n      <th>loudness</th>\n      <th>speechiness</th>\n      <th>playlist_type</th>\n    </tr>\n  </thead>\n  <tbody>\n    <tr>\n      <th>0</th>\n      <td>75FEaRjZTKLhTrFGsfMUXR</td>\n      <td>Running Up That Hill (A Deal With God)</td>\n      <td>Kate Bush</td>\n      <td>art pop</td>\n      <td>1985</td>\n      <td>False</td>\n      <td>96</td>\n      <td>298933</td>\n      <td>Top 50 - United Kingdom</td>\n      <td>0.629</td>\n      <td>-13.123</td>\n      <td>NaN</td>\n      <td>mixed_pop</td>\n    </tr>\n    <tr>\n      <th>1</th>\n      <td>4Dvkj6JhhA12EX05fT7y2e</td>\n      <td>As It Was</td>\n      <td>Harry Styles</td>\n      <td>pop</td>\n      <td>2022</td>\n      <td>False</td>\n      <td>94</td>\n      <td>167303</td>\n      <td>Top 50 - United Kingdom</td>\n      <td>0.520</td>\n      <td>-5.338</td>\n      <td>0.0557</td>\n      <td>mixed_pop</td>\n    </tr>\n    <tr>\n      <th>2</th>\n      <td>40SBS57su9xLiE1WqkXOVr</td>\n      <td>Afraid To Feel</td>\n      <td>LF SYSTEM</td>\n      <td>***OOPS!***</td>\n      <td>2022</td>\n      <td>False</td>\n      <td>82</td>\n      <td>177524</td>\n      <td>Top 50 - United Kingdom</td>\n      <td>0.578</td>\n      <td>-3.929</td>\n      <td>0.1140</td>\n      <td>mixed_pop</td>\n    </tr>\n    <tr>\n      <th>3</th>\n      <td>2KukL7UlQ8TdvpaA7bY3ZJ</td>\n      <td>BREAK MY SOUL</td>\n      <td>Beyoncé</td>\n      <td>dance pop</td>\n      <td>2022</td>\n      <td>False</td>\n      <td>90</td>\n      <td>278281</td>\n      <td>Top 50 - United Kingdom</td>\n      <td>0.687</td>\n      <td>-5.040</td>\n      <td>0.0826</td>\n      <td>mixed_pop</td>\n    </tr>\n    <tr>\n      <th>4</th>\n      <td>6xGruZOHLs39ZbVccQTuPZ</td>\n      <td>Glimpse of Us</td>\n      <td>Joji</td>\n      <td>alternative r&amp;b</td>\n      <td>2022</td>\n      <td>False</td>\n      <td>98</td>\n      <td>233456</td>\n      <td>Top 50 - United Kingdom</td>\n      <td>0.440</td>\n      <td>-9.258</td>\n      <td>0.0531</td>\n      <td>mixed_pop</td>\n    </tr>\n  </tbody>\n</table>\n</div>"
     },
     "execution_count": 100,
     "metadata": {},
     "output_type": "execute_result"
    }
   ],
   "source": [
    "# If we wanted to double check our results\n",
    "songs_df.head()"
   ],
   "metadata": {
    "collapsed": false,
    "pycharm": {
     "name": "#%%\n"
    }
   }
  },
  {
   "cell_type": "code",
   "execution_count": 101,
   "outputs": [
    {
     "data": {
      "text/plain": "track_id          6xGruZOHLs39ZbVccQTuPZ\ntrack_name                 Glimpse of Us\nartists                             Joji\ngenre                    alternative r&b\nrelease_year                        2022\nexplicit                           False\npopularity                            98\nduration_ms                       233456\nplaylist_name    Top 50 - United Kingdom\ndanceability                        0.44\nloudness                          -9.258\nspeechiness                       0.0531\nplaylist_type                  mixed_pop\nName: 4, dtype: object"
     },
     "execution_count": 101,
     "metadata": {},
     "output_type": "execute_result"
    }
   ],
   "source": [
    "# Select the row at index position 4\n",
    "\n",
    "row_idx_4 = songs_df.iloc[4]\n",
    "row_idx_4\n"
   ],
   "metadata": {
    "collapsed": false,
    "pycharm": {
     "name": "#%%\n"
    }
   }
  },
  {
   "cell_type": "markdown",
   "source": [
    "It's the same.... so what's the point?\n",
    "\n",
    "By default, Pandas labels the rows by their index position.\n",
    "\n",
    "\n",
    "| index | label | name   |\n",
    "|-------|-------|--------|\n",
    "| 0     | 0     | Arthur |\n",
    "| 1     | 1     | Betty  |\n",
    "| 2     | 2     | Carole |\n",
    "\n",
    "However, whilst the position is always fixed, the labels may change order if the data changes order. If we reversed the order of the data by name...\n",
    "\n",
    "| index | label | name |\n",
    "|-------|-------|----------|\n",
    "| 0     | 2     | Carole   |\n",
    "| 1     | 1     | Betty    |\n",
    "| 2     | 0     | Arthur   |\n",
    "\n"
   ],
   "metadata": {
    "collapsed": false,
    "pycharm": {
     "name": "#%% md\n"
    }
   }
  },
  {
   "cell_type": "code",
   "execution_count": 102,
   "outputs": [
    {
     "data": {
      "text/plain": "                   track_id                          track_name  \\\n584  35zGjsxI020C2NPKp2fzS7                    It's Gonna Be Me   \n477  3tjFYV6RSFtuktYl3ZtYcq              Mood (feat. iann dior)   \n376  3tjFYV6RSFtuktYl3ZtYcq              Mood (feat. iann dior)   \n694  1JClFT74TYSXlzpagbmj0S  California Love - Original Version   \n687  7f0jXNMu2xjQUtmKMuWhGA                          What's Up?   \n\n           artists         genre  release_year  explicit  popularity  \\\n584         *NSYNC      boy band          2000     False          62   \n477       24kGoldn      cali rap          2020      True          32   \n376       24kGoldn      cali rap          2020      True          32   \n694           2Pac        g funk          1998     False          65   \n687  4 Non Blondes  new wave pop          1992     False           0   \n\n     duration_ms                    playlist_name  danceability  loudness  \\\n584       191040                    All Out 2000s         0.644    -4.666   \n477       140525        Every UK Number One: 2022         0.700    -3.558   \n376       140525  Every Official UK Number 1 Ever         0.700    -3.558   \n694       285026                      All Out 90s         0.767    -2.715   \n687       295493                      All Out 90s         0.566    -9.875   \n\n     speechiness    playlist_type  \n584       0.0801  all_out_decades  \n477       0.0369           uk_no1  \n376       0.0369           uk_no1  \n694       0.0410  all_out_decades  \n687       0.0285  all_out_decades  ",
      "text/html": "<div>\n<style scoped>\n    .dataframe tbody tr th:only-of-type {\n        vertical-align: middle;\n    }\n\n    .dataframe tbody tr th {\n        vertical-align: top;\n    }\n\n    .dataframe thead th {\n        text-align: right;\n    }\n</style>\n<table border=\"1\" class=\"dataframe\">\n  <thead>\n    <tr style=\"text-align: right;\">\n      <th></th>\n      <th>track_id</th>\n      <th>track_name</th>\n      <th>artists</th>\n      <th>genre</th>\n      <th>release_year</th>\n      <th>explicit</th>\n      <th>popularity</th>\n      <th>duration_ms</th>\n      <th>playlist_name</th>\n      <th>danceability</th>\n      <th>loudness</th>\n      <th>speechiness</th>\n      <th>playlist_type</th>\n    </tr>\n  </thead>\n  <tbody>\n    <tr>\n      <th>584</th>\n      <td>35zGjsxI020C2NPKp2fzS7</td>\n      <td>It's Gonna Be Me</td>\n      <td>*NSYNC</td>\n      <td>boy band</td>\n      <td>2000</td>\n      <td>False</td>\n      <td>62</td>\n      <td>191040</td>\n      <td>All Out 2000s</td>\n      <td>0.644</td>\n      <td>-4.666</td>\n      <td>0.0801</td>\n      <td>all_out_decades</td>\n    </tr>\n    <tr>\n      <th>477</th>\n      <td>3tjFYV6RSFtuktYl3ZtYcq</td>\n      <td>Mood (feat. iann dior)</td>\n      <td>24kGoldn</td>\n      <td>cali rap</td>\n      <td>2020</td>\n      <td>True</td>\n      <td>32</td>\n      <td>140525</td>\n      <td>Every UK Number One: 2022</td>\n      <td>0.700</td>\n      <td>-3.558</td>\n      <td>0.0369</td>\n      <td>uk_no1</td>\n    </tr>\n    <tr>\n      <th>376</th>\n      <td>3tjFYV6RSFtuktYl3ZtYcq</td>\n      <td>Mood (feat. iann dior)</td>\n      <td>24kGoldn</td>\n      <td>cali rap</td>\n      <td>2020</td>\n      <td>True</td>\n      <td>32</td>\n      <td>140525</td>\n      <td>Every Official UK Number 1 Ever</td>\n      <td>0.700</td>\n      <td>-3.558</td>\n      <td>0.0369</td>\n      <td>uk_no1</td>\n    </tr>\n    <tr>\n      <th>694</th>\n      <td>1JClFT74TYSXlzpagbmj0S</td>\n      <td>California Love - Original Version</td>\n      <td>2Pac</td>\n      <td>g funk</td>\n      <td>1998</td>\n      <td>False</td>\n      <td>65</td>\n      <td>285026</td>\n      <td>All Out 90s</td>\n      <td>0.767</td>\n      <td>-2.715</td>\n      <td>0.0410</td>\n      <td>all_out_decades</td>\n    </tr>\n    <tr>\n      <th>687</th>\n      <td>7f0jXNMu2xjQUtmKMuWhGA</td>\n      <td>What's Up?</td>\n      <td>4 Non Blondes</td>\n      <td>new wave pop</td>\n      <td>1992</td>\n      <td>False</td>\n      <td>0</td>\n      <td>295493</td>\n      <td>All Out 90s</td>\n      <td>0.566</td>\n      <td>-9.875</td>\n      <td>0.0285</td>\n      <td>all_out_decades</td>\n    </tr>\n  </tbody>\n</table>\n</div>"
     },
     "execution_count": 102,
     "metadata": {},
     "output_type": "execute_result"
    }
   ],
   "source": [
    "# Example using our data\n",
    "\n",
    "songs_artist_alphabetical = songs_df.sort_values('artists')\n",
    "songs_artist_alphabetical.head()"
   ],
   "metadata": {
    "collapsed": false,
    "pycharm": {
     "name": "#%%\n"
    }
   }
  },
  {
   "cell_type": "code",
   "execution_count": 103,
   "outputs": [
    {
     "data": {
      "text/plain": "track_id         7f0jXNMu2xjQUtmKMuWhGA\ntrack_name                   What's Up?\nartists                   4 Non Blondes\ngenre                      new wave pop\nrelease_year                       1992\nexplicit                          False\npopularity                            0\nduration_ms                      295493\nplaylist_name               All Out 90s\ndanceability                      0.566\nloudness                         -9.875\nspeechiness                      0.0285\nplaylist_type           all_out_decades\nName: 687, dtype: object"
     },
     "execution_count": 103,
     "metadata": {},
     "output_type": "execute_result"
    }
   ],
   "source": [
    "songs_artist_alphabetical_idx_4 = songs_artist_alphabetical.iloc[4]\n",
    "songs_artist_alphabetical_idx_4"
   ],
   "metadata": {
    "collapsed": false,
    "pycharm": {
     "name": "#%%\n"
    }
   }
  },
  {
   "cell_type": "code",
   "execution_count": 104,
   "outputs": [
    {
     "data": {
      "text/plain": "track_id          6xGruZOHLs39ZbVccQTuPZ\ntrack_name                 Glimpse of Us\nartists                             Joji\ngenre                    alternative r&b\nrelease_year                        2022\nexplicit                           False\npopularity                            98\nduration_ms                       233456\nplaylist_name    Top 50 - United Kingdom\ndanceability                        0.44\nloudness                          -9.258\nspeechiness                       0.0531\nplaylist_type                  mixed_pop\nName: 4, dtype: object"
     },
     "execution_count": 104,
     "metadata": {},
     "output_type": "execute_result"
    }
   ],
   "source": [
    "songs_artist_alphabetical_label_4 = songs_artist_alphabetical.loc[4]\n",
    "songs_artist_alphabetical_label_4"
   ],
   "metadata": {
    "collapsed": false,
    "pycharm": {
     "name": "#%%\n"
    }
   }
  },
  {
   "cell_type": "markdown",
   "source": [
    "## Exercise\n",
    "- Using `.sort_values()` sort your dataframe by `track_name` and assign the result to a new variable.\n",
    "- Using your sorted dataframe, access the row labelled `350` and assign it to its own variable.\n",
    "- Using your sorted dataframe, access the row at index `350` and assign it to its own variable."
   ],
   "metadata": {
    "collapsed": false,
    "pycharm": {
     "name": "#%% md\n"
    }
   }
  },
  {
   "cell_type": "code",
   "execution_count": 105,
   "outputs": [],
   "source": [
    "# Use this cell for the exercise\n",
    "\n",
    "\n",
    "\n"
   ],
   "metadata": {
    "collapsed": false,
    "pycharm": {
     "name": "#%%\n"
    }
   }
  },
  {
   "cell_type": "markdown",
   "source": [
    "## Filtering by conditions\n",
    "Filtering allows you to select multiple rows based on particular criteria. Our dataset was produced by pulling track information from a range of different playlists on Spotify."
   ],
   "metadata": {
    "collapsed": false,
    "pycharm": {
     "name": "#%% md\n"
    }
   }
  },
  {
   "cell_type": "code",
   "execution_count": 108,
   "outputs": [
    {
     "data": {
      "text/plain": "array(['Top 50 - United Kingdom', 'The Pop List', \"Today's Top Hits\",\n       'Cheesy Hits!', 'Alt. Pop.', 'Hit Rewind',\n       'Every Official UK Number 1 Ever', 'Every UK Number One: 2022',\n       'All Out 2000s', 'All Out 2010s', 'All Out 90s', 'All Out 80s',\n       'All Out 70s', 'All Out 60s', 'All Out 50s'], dtype=object)"
     },
     "execution_count": 108,
     "metadata": {},
     "output_type": "execute_result"
    }
   ],
   "source": [
    "# We can see the list of playlists by asking for unique values in the playlist_name column\n",
    "\n",
    "songs_df['playlist_name'].unique()"
   ],
   "metadata": {
    "collapsed": false,
    "pycharm": {
     "name": "#%%\n"
    }
   }
  },
  {
   "cell_type": "markdown",
   "source": [
    "Filtering can be done in many ways, but the standard approach is to use the following syntax...\n",
    "\n",
    "Dataframe[filter conditions]"
   ],
   "metadata": {
    "collapsed": false,
    "pycharm": {
     "name": "#%% md\n"
    }
   }
  },
  {
   "cell_type": "code",
   "execution_count": 110,
   "outputs": [
    {
     "data": {
      "text/plain": "                  track_id                                         track_name  \\\n0   75FEaRjZTKLhTrFGsfMUXR             Running Up That Hill (A Deal With God)   \n1   4Dvkj6JhhA12EX05fT7y2e                                          As It Was   \n2   40SBS57su9xLiE1WqkXOVr                                     Afraid To Feel   \n3   2KukL7UlQ8TdvpaA7bY3ZJ                                      BREAK MY SOUL   \n4   6xGruZOHLs39ZbVccQTuPZ                                      Glimpse of Us   \n5   1PckUlxKqWQs3RlWXVBLw3                                    About Damn Time   \n6   02MWAaffLxlfxAUY7c5dvx                                         Heat Waves   \n7   0oiv4E896TUTTeQU0cmIui                                            Massive   \n8   4N5s8lPTsjI9EGP7K4SXzB                                  Green Green Grass   \n9   1qEmFfgcLObUfQm0j1W2CK                                 Late Night Talking   \n10  3F5CgOj3wFlRv51JsHbxhe                      Jimmy Cooks (feat. 21 Savage)   \n11  7u3w4fQhulC1etJbdfmv3Q                                               IFTK   \n12  5LYMamLv12UPbemOaTPyeV                       Music For a Sushi Restaurant   \n13  59nOXPmaKlBfGMDeOVGrIK                    WAIT FOR U (feat. Drake & Tems)   \n14  2MuWTIM3b0YEAskbeeFE1i                                  Master Of Puppets   \n15  4h9wh7iOZ0GGn8QVp4RAOB                                    I Ain't Worried   \n16  531KGXtBroSrOX9LVmiIgc                                          Starlight   \n17  5rF6YUIlgiat22OT1lWspJ                              Seventeen Going Under   \n18  0wHFktze2PHC5jDt3B17DC                                        First Class   \n19  1RF02Cf80mTaeNXG2P2boR                  21 Reasons (feat. Ella Henderson)   \n20  2PDgArI0p7UkeYgXWuqpmh                                          Last Last   \n21  0hquQWY3xvYqN4qtiquniF  Vegas (From the Original Motion Picture Soundt...   \n22  003vvx7Niy0yvhvHt4a68B                                     Mr. Brightside   \n23  50nfwKoDiSYg8zOCREWAm5                                            Shivers   \n24  3rmo8F54jFF8OgYsqTxm5d                                         Bad Habits   \n25  3pudQCMnsFGwOElTZmuml8                                               Baby   \n26  3sa06xVNmLLYIxdNNmVQN8                     Where Did You Go? (feat. MNEK)   \n27  6uvh0In7u1Xn4HgxOfAn8O                                            Matilda   \n28  1WCEAGGRD066z2Q89ObXTq                             Crazy What Love Can Do   \n29  2DB4DdfCFMw1iaR6JaR03a                         Bam Bam (feat. Ed Sheeran)   \n30  7kjANxR8XN4hCzLaSc2roy                                go - goddard. Remix   \n31  3uUuGVFu1V7jTQL60S1r8z                                  Where Are You Now   \n32  7fYRg3CEbk6rNCuzNzMT06                Potion (with Dua Lipa & Young Thug)   \n33  0O6u0VJ46W86TxN9wgyqDj        I Like You (A Happier Song) (with Doja Cat)   \n34  6JIC3hbC28JZKZ8AlAqX8h                            Cold Heart - PNAU Remix   \n35  7ef4DlsgrMEH11cDZd32M6                           One Kiss (with Dua Lipa)   \n36  4hJhHbkhZFnxmWbAkZRoe0                                               Peru   \n37  6A3SB2C4U6JtCavQOXLYNN                                       Je M'appelle   \n38  4ZtFanR9U6ndgddUvNcjcG                                           good 4 u   \n39  4CUX44NA1CPEzd0ibMLQsL                                  Make Me Feel Good   \n40  78ywqAbY9QktwlTHyc8c4I                                     Elegant & Gang   \n41  5PjdY0CKGZdEuoNab3yDmX                          STAY (with Justin Bieber)   \n42  3nhGk6VnrDHy67pXvMhdPa                                          SPACE MAN   \n43  46IZ0fSY2mpAiktS3KOqds                                         Easy On Me   \n44  51Zw1cKDgkad0CXv23HCMU                                           Daylight   \n45  7jtQIBanIiJOMS6RyCx6jZ                                       Another Love   \n46  7l9IqDtVWJurTvkQHq1BGh                               she's all i wanna be   \n47  58ge6dfP91o9oXMzq3XkIS                                                505   \n48  4RVwu0g32PAqgUiJoXsdF8                                  Happier Than Ever   \n49  4RvWPyQ5RL0ao9LPZeSouE                  Everybody Wants To Rule The World   \n\n             artists                     genre  release_year  explicit  \\\n0          Kate Bush                   art pop          1985     False   \n1       Harry Styles                       pop          2022     False   \n2          LF SYSTEM               ***OOPS!***          2022     False   \n3            Beyoncé                 dance pop          2022     False   \n4               Joji           alternative r&b          2022     False   \n5              Lizzo                 dance pop          2022      True   \n6      Glass Animals                 gauze pop          2020     False   \n7              Drake          canadian hip hop          2022     False   \n8        George Ezra                  folk-pop          2022     False   \n9       Harry Styles                       pop          2022     False   \n10             Drake          canadian hip hop          2022      True   \n11        Tion Wayne                london rap          2022      True   \n12      Harry Styles                       pop          2022     False   \n13            Future               atl hip hop          2022      True   \n14         Metallica                 hard rock          1986     False   \n15       OneRepublic                 dance pop          2022     False   \n16              Dave                uk hip hop          2022      True   \n17        Sam Fender               modern rock          2021      True   \n18       Jack Harlow  deep underground hip hop          2022      True   \n19       Nathan Dawe                 dance pop          2022     False   \n20         Burna Boy            afro dancehall          2022     False   \n21          Doja Cat                 dance pop          2022     False   \n22       The Killers          alternative rock          2004     False   \n23        Ed Sheeran                       pop          2021     False   \n24        Ed Sheeran                       pop          2021     False   \n25             Aitch        manchester hip hop          2022      True   \n26         Jax Jones                 dance pop          2022     False   \n27      Harry Styles                       pop          2022     False   \n28      David Guetta                  big room          2022     False   \n29    Camila Cabello                 dance pop          2022     False   \n30         Cat Burns                       pop          2022      True   \n31  Lost Frequencies               belgian edm          2021     False   \n32     Calvin Harris                 dance pop          2022      True   \n33       Post Malone                   dfw rap          2022      True   \n34        Elton John                 glam rock          2021     False   \n35     Calvin Harris                 dance pop          2018     False   \n36       Fireboy DML            afro dancehall          2021     False   \n37             Benzz               ***OOPS!***          2022      True   \n38    Olivia Rodrigo                       pop          2021      True   \n39      Belters Only                     house          2021     False   \n40    D-Block Europe                uk hip hop          2022      True   \n41     The Kid LAROI        australian hip hop          2021      True   \n42         Sam Ryder               ***OOPS!***          2022     False   \n43             Adele              british soul          2021     False   \n44      Harry Styles                       pop          2022     False   \n45         Tom Odell                 chill pop          2013      True   \n46        Tate McRae                       pop          2022     False   \n47    Arctic Monkeys               garage rock          2007     False   \n48     Billie Eilish                   art pop          2021      True   \n49   Tears For Fears              new romantic          1985     False   \n\n    popularity  duration_ms            playlist_name  danceability  loudness  \\\n0           96       298933  Top 50 - United Kingdom         0.629   -13.123   \n1           94       167303  Top 50 - United Kingdom         0.520    -5.338   \n2           82       177524  Top 50 - United Kingdom         0.578    -3.929   \n3           90       278281  Top 50 - United Kingdom         0.687    -5.040   \n4           98       233456  Top 50 - United Kingdom         0.440    -9.258   \n5           95       191822  Top 50 - United Kingdom         0.836    -6.305   \n6           91       238805  Top 50 - United Kingdom         0.761    -6.900   \n7           79       336924  Top 50 - United Kingdom         0.499    -6.774   \n8           69       167613  Top 50 - United Kingdom         0.685    -4.413   \n9           95       177954  Top 50 - United Kingdom         0.714    -4.595   \n10          92       218364  Top 50 - United Kingdom         0.529    -4.711   \n11          79       190684  Top 50 - United Kingdom         0.614    -4.320   \n12          91       193813  Top 50 - United Kingdom         0.720    -4.652   \n13          91       189893  Top 50 - United Kingdom         0.463    -4.474   \n14          78       515386  Top 50 - United Kingdom         0.543    -9.110   \n15          90       148485  Top 50 - United Kingdom         0.704    -5.927   \n16          83       211935  Top 50 - United Kingdom         0.954    -9.551   \n17          75       297933  Top 50 - United Kingdom         0.480    -4.792   \n18          85       173947  Top 50 - United Kingdom         0.902    -5.902   \n19          84       155253  Top 50 - United Kingdom         0.621    -4.499   \n20          81       172342  Top 50 - United Kingdom         0.795    -4.457   \n21          89       182906  Top 50 - United Kingdom         0.801    -7.574   \n22          85       222973  Top 50 - United Kingdom         0.352    -5.230   \n23          90       207853  Top 50 - United Kingdom         0.788    -2.724   \n24          91       230746  Top 50 - United Kingdom         0.807    -3.745   \n25          78       177733  Top 50 - United Kingdom         0.769    -5.772   \n26          88       177689  Top 50 - United Kingdom         0.763    -4.541   \n27          91       245964  Top 50 - United Kingdom         0.507   -10.000   \n28          87       169756  Top 50 - United Kingdom         0.601    -3.758   \n29          85       206070  Top 50 - United Kingdom         0.756    -6.377   \n30          78       192514  Top 50 - United Kingdom         0.728    -6.601   \n31          92       148197  Top 50 - United Kingdom         0.671    -8.117   \n32          89       214459  Top 50 - United Kingdom         0.824    -4.869   \n33          92       192840  Top 50 - United Kingdom         0.733    -6.009   \n34          85       202735  Top 50 - United Kingdom         0.795    -6.320   \n35          91       214846  Top 50 - United Kingdom         0.791    -3.240   \n36          73       187111  Top 50 - United Kingdom         0.956    -7.892   \n37          84       139574  Top 50 - United Kingdom         0.807    -4.396   \n38          91       178146  Top 50 - United Kingdom         0.563    -5.044   \n39          77       197472  Top 50 - United Kingdom         0.773    -8.169   \n40          73       205200  Top 50 - United Kingdom         0.700   -12.959   \n41          88       141805  Top 50 - United Kingdom         0.591    -5.484   \n42          79       217320  Top 50 - United Kingdom         0.467    -2.220   \n43          83       224694  Top 50 - United Kingdom         0.604    -7.519   \n44          90       164533  Top 50 - United Kingdom         0.686    -7.189   \n45          55       244360  Top 50 - United Kingdom         0.442    -8.550   \n46          76       207120  Top 50 - United Kingdom         0.602    -5.323   \n47          82       253586  Top 50 - United Kingdom         0.520    -5.866   \n48          88       298899  Top 50 - United Kingdom         0.332    -8.697   \n49          86       251488  Top 50 - United Kingdom         0.645   -12.095   \n\n    speechiness playlist_type  \n0           NaN     mixed_pop  \n1        0.0557     mixed_pop  \n2        0.1140     mixed_pop  \n3        0.0826     mixed_pop  \n4        0.0531     mixed_pop  \n5        0.0656     mixed_pop  \n6        0.0944     mixed_pop  \n7        0.0561     mixed_pop  \n8        0.0595     mixed_pop  \n9        0.0468     mixed_pop  \n10       0.1750     mixed_pop  \n11       0.2260     mixed_pop  \n12       0.0400     mixed_pop  \n13       0.3400     mixed_pop  \n14       0.0353     mixed_pop  \n15       0.0475     mixed_pop  \n16       0.2880     mixed_pop  \n17       0.0362     mixed_pop  \n18       0.1090     mixed_pop  \n19       0.1100     mixed_pop  \n20       0.0948     mixed_pop  \n21       0.2550     mixed_pop  \n22       0.0747     mixed_pop  \n23       0.0856     mixed_pop  \n24       0.0347     mixed_pop  \n25       0.2140     mixed_pop  \n26       0.0346     mixed_pop  \n27       0.0400     mixed_pop  \n28       0.0449     mixed_pop  \n29       0.0401     mixed_pop  \n30       0.1300     mixed_pop  \n31       0.1030     mixed_pop  \n32       0.0473     mixed_pop  \n33       0.0751     mixed_pop  \n34       0.0309     mixed_pop  \n35       0.1100     mixed_pop  \n36       0.0926     mixed_pop  \n37       0.2370     mixed_pop  \n38       0.1540     mixed_pop  \n39       0.0386     mixed_pop  \n40       0.3460     mixed_pop  \n41       0.0483     mixed_pop  \n42       0.0489     mixed_pop  \n43       0.0282     mixed_pop  \n44       0.0398     mixed_pop  \n45       0.0451     mixed_pop  \n46       0.0396     mixed_pop  \n47       0.0543     mixed_pop  \n48       0.0348     mixed_pop  \n49       0.0527     mixed_pop  ",
      "text/html": "<div>\n<style scoped>\n    .dataframe tbody tr th:only-of-type {\n        vertical-align: middle;\n    }\n\n    .dataframe tbody tr th {\n        vertical-align: top;\n    }\n\n    .dataframe thead th {\n        text-align: right;\n    }\n</style>\n<table border=\"1\" class=\"dataframe\">\n  <thead>\n    <tr style=\"text-align: right;\">\n      <th></th>\n      <th>track_id</th>\n      <th>track_name</th>\n      <th>artists</th>\n      <th>genre</th>\n      <th>release_year</th>\n      <th>explicit</th>\n      <th>popularity</th>\n      <th>duration_ms</th>\n      <th>playlist_name</th>\n      <th>danceability</th>\n      <th>loudness</th>\n      <th>speechiness</th>\n      <th>playlist_type</th>\n    </tr>\n  </thead>\n  <tbody>\n    <tr>\n      <th>0</th>\n      <td>75FEaRjZTKLhTrFGsfMUXR</td>\n      <td>Running Up That Hill (A Deal With God)</td>\n      <td>Kate Bush</td>\n      <td>art pop</td>\n      <td>1985</td>\n      <td>False</td>\n      <td>96</td>\n      <td>298933</td>\n      <td>Top 50 - United Kingdom</td>\n      <td>0.629</td>\n      <td>-13.123</td>\n      <td>NaN</td>\n      <td>mixed_pop</td>\n    </tr>\n    <tr>\n      <th>1</th>\n      <td>4Dvkj6JhhA12EX05fT7y2e</td>\n      <td>As It Was</td>\n      <td>Harry Styles</td>\n      <td>pop</td>\n      <td>2022</td>\n      <td>False</td>\n      <td>94</td>\n      <td>167303</td>\n      <td>Top 50 - United Kingdom</td>\n      <td>0.520</td>\n      <td>-5.338</td>\n      <td>0.0557</td>\n      <td>mixed_pop</td>\n    </tr>\n    <tr>\n      <th>2</th>\n      <td>40SBS57su9xLiE1WqkXOVr</td>\n      <td>Afraid To Feel</td>\n      <td>LF SYSTEM</td>\n      <td>***OOPS!***</td>\n      <td>2022</td>\n      <td>False</td>\n      <td>82</td>\n      <td>177524</td>\n      <td>Top 50 - United Kingdom</td>\n      <td>0.578</td>\n      <td>-3.929</td>\n      <td>0.1140</td>\n      <td>mixed_pop</td>\n    </tr>\n    <tr>\n      <th>3</th>\n      <td>2KukL7UlQ8TdvpaA7bY3ZJ</td>\n      <td>BREAK MY SOUL</td>\n      <td>Beyoncé</td>\n      <td>dance pop</td>\n      <td>2022</td>\n      <td>False</td>\n      <td>90</td>\n      <td>278281</td>\n      <td>Top 50 - United Kingdom</td>\n      <td>0.687</td>\n      <td>-5.040</td>\n      <td>0.0826</td>\n      <td>mixed_pop</td>\n    </tr>\n    <tr>\n      <th>4</th>\n      <td>6xGruZOHLs39ZbVccQTuPZ</td>\n      <td>Glimpse of Us</td>\n      <td>Joji</td>\n      <td>alternative r&amp;b</td>\n      <td>2022</td>\n      <td>False</td>\n      <td>98</td>\n      <td>233456</td>\n      <td>Top 50 - United Kingdom</td>\n      <td>0.440</td>\n      <td>-9.258</td>\n      <td>0.0531</td>\n      <td>mixed_pop</td>\n    </tr>\n    <tr>\n      <th>5</th>\n      <td>1PckUlxKqWQs3RlWXVBLw3</td>\n      <td>About Damn Time</td>\n      <td>Lizzo</td>\n      <td>dance pop</td>\n      <td>2022</td>\n      <td>True</td>\n      <td>95</td>\n      <td>191822</td>\n      <td>Top 50 - United Kingdom</td>\n      <td>0.836</td>\n      <td>-6.305</td>\n      <td>0.0656</td>\n      <td>mixed_pop</td>\n    </tr>\n    <tr>\n      <th>6</th>\n      <td>02MWAaffLxlfxAUY7c5dvx</td>\n      <td>Heat Waves</td>\n      <td>Glass Animals</td>\n      <td>gauze pop</td>\n      <td>2020</td>\n      <td>False</td>\n      <td>91</td>\n      <td>238805</td>\n      <td>Top 50 - United Kingdom</td>\n      <td>0.761</td>\n      <td>-6.900</td>\n      <td>0.0944</td>\n      <td>mixed_pop</td>\n    </tr>\n    <tr>\n      <th>7</th>\n      <td>0oiv4E896TUTTeQU0cmIui</td>\n      <td>Massive</td>\n      <td>Drake</td>\n      <td>canadian hip hop</td>\n      <td>2022</td>\n      <td>False</td>\n      <td>79</td>\n      <td>336924</td>\n      <td>Top 50 - United Kingdom</td>\n      <td>0.499</td>\n      <td>-6.774</td>\n      <td>0.0561</td>\n      <td>mixed_pop</td>\n    </tr>\n    <tr>\n      <th>8</th>\n      <td>4N5s8lPTsjI9EGP7K4SXzB</td>\n      <td>Green Green Grass</td>\n      <td>George Ezra</td>\n      <td>folk-pop</td>\n      <td>2022</td>\n      <td>False</td>\n      <td>69</td>\n      <td>167613</td>\n      <td>Top 50 - United Kingdom</td>\n      <td>0.685</td>\n      <td>-4.413</td>\n      <td>0.0595</td>\n      <td>mixed_pop</td>\n    </tr>\n    <tr>\n      <th>9</th>\n      <td>1qEmFfgcLObUfQm0j1W2CK</td>\n      <td>Late Night Talking</td>\n      <td>Harry Styles</td>\n      <td>pop</td>\n      <td>2022</td>\n      <td>False</td>\n      <td>95</td>\n      <td>177954</td>\n      <td>Top 50 - United Kingdom</td>\n      <td>0.714</td>\n      <td>-4.595</td>\n      <td>0.0468</td>\n      <td>mixed_pop</td>\n    </tr>\n    <tr>\n      <th>10</th>\n      <td>3F5CgOj3wFlRv51JsHbxhe</td>\n      <td>Jimmy Cooks (feat. 21 Savage)</td>\n      <td>Drake</td>\n      <td>canadian hip hop</td>\n      <td>2022</td>\n      <td>True</td>\n      <td>92</td>\n      <td>218364</td>\n      <td>Top 50 - United Kingdom</td>\n      <td>0.529</td>\n      <td>-4.711</td>\n      <td>0.1750</td>\n      <td>mixed_pop</td>\n    </tr>\n    <tr>\n      <th>11</th>\n      <td>7u3w4fQhulC1etJbdfmv3Q</td>\n      <td>IFTK</td>\n      <td>Tion Wayne</td>\n      <td>london rap</td>\n      <td>2022</td>\n      <td>True</td>\n      <td>79</td>\n      <td>190684</td>\n      <td>Top 50 - United Kingdom</td>\n      <td>0.614</td>\n      <td>-4.320</td>\n      <td>0.2260</td>\n      <td>mixed_pop</td>\n    </tr>\n    <tr>\n      <th>12</th>\n      <td>5LYMamLv12UPbemOaTPyeV</td>\n      <td>Music For a Sushi Restaurant</td>\n      <td>Harry Styles</td>\n      <td>pop</td>\n      <td>2022</td>\n      <td>False</td>\n      <td>91</td>\n      <td>193813</td>\n      <td>Top 50 - United Kingdom</td>\n      <td>0.720</td>\n      <td>-4.652</td>\n      <td>0.0400</td>\n      <td>mixed_pop</td>\n    </tr>\n    <tr>\n      <th>13</th>\n      <td>59nOXPmaKlBfGMDeOVGrIK</td>\n      <td>WAIT FOR U (feat. Drake &amp; Tems)</td>\n      <td>Future</td>\n      <td>atl hip hop</td>\n      <td>2022</td>\n      <td>True</td>\n      <td>91</td>\n      <td>189893</td>\n      <td>Top 50 - United Kingdom</td>\n      <td>0.463</td>\n      <td>-4.474</td>\n      <td>0.3400</td>\n      <td>mixed_pop</td>\n    </tr>\n    <tr>\n      <th>14</th>\n      <td>2MuWTIM3b0YEAskbeeFE1i</td>\n      <td>Master Of Puppets</td>\n      <td>Metallica</td>\n      <td>hard rock</td>\n      <td>1986</td>\n      <td>False</td>\n      <td>78</td>\n      <td>515386</td>\n      <td>Top 50 - United Kingdom</td>\n      <td>0.543</td>\n      <td>-9.110</td>\n      <td>0.0353</td>\n      <td>mixed_pop</td>\n    </tr>\n    <tr>\n      <th>15</th>\n      <td>4h9wh7iOZ0GGn8QVp4RAOB</td>\n      <td>I Ain't Worried</td>\n      <td>OneRepublic</td>\n      <td>dance pop</td>\n      <td>2022</td>\n      <td>False</td>\n      <td>90</td>\n      <td>148485</td>\n      <td>Top 50 - United Kingdom</td>\n      <td>0.704</td>\n      <td>-5.927</td>\n      <td>0.0475</td>\n      <td>mixed_pop</td>\n    </tr>\n    <tr>\n      <th>16</th>\n      <td>531KGXtBroSrOX9LVmiIgc</td>\n      <td>Starlight</td>\n      <td>Dave</td>\n      <td>uk hip hop</td>\n      <td>2022</td>\n      <td>True</td>\n      <td>83</td>\n      <td>211935</td>\n      <td>Top 50 - United Kingdom</td>\n      <td>0.954</td>\n      <td>-9.551</td>\n      <td>0.2880</td>\n      <td>mixed_pop</td>\n    </tr>\n    <tr>\n      <th>17</th>\n      <td>5rF6YUIlgiat22OT1lWspJ</td>\n      <td>Seventeen Going Under</td>\n      <td>Sam Fender</td>\n      <td>modern rock</td>\n      <td>2021</td>\n      <td>True</td>\n      <td>75</td>\n      <td>297933</td>\n      <td>Top 50 - United Kingdom</td>\n      <td>0.480</td>\n      <td>-4.792</td>\n      <td>0.0362</td>\n      <td>mixed_pop</td>\n    </tr>\n    <tr>\n      <th>18</th>\n      <td>0wHFktze2PHC5jDt3B17DC</td>\n      <td>First Class</td>\n      <td>Jack Harlow</td>\n      <td>deep underground hip hop</td>\n      <td>2022</td>\n      <td>True</td>\n      <td>85</td>\n      <td>173947</td>\n      <td>Top 50 - United Kingdom</td>\n      <td>0.902</td>\n      <td>-5.902</td>\n      <td>0.1090</td>\n      <td>mixed_pop</td>\n    </tr>\n    <tr>\n      <th>19</th>\n      <td>1RF02Cf80mTaeNXG2P2boR</td>\n      <td>21 Reasons (feat. Ella Henderson)</td>\n      <td>Nathan Dawe</td>\n      <td>dance pop</td>\n      <td>2022</td>\n      <td>False</td>\n      <td>84</td>\n      <td>155253</td>\n      <td>Top 50 - United Kingdom</td>\n      <td>0.621</td>\n      <td>-4.499</td>\n      <td>0.1100</td>\n      <td>mixed_pop</td>\n    </tr>\n    <tr>\n      <th>20</th>\n      <td>2PDgArI0p7UkeYgXWuqpmh</td>\n      <td>Last Last</td>\n      <td>Burna Boy</td>\n      <td>afro dancehall</td>\n      <td>2022</td>\n      <td>False</td>\n      <td>81</td>\n      <td>172342</td>\n      <td>Top 50 - United Kingdom</td>\n      <td>0.795</td>\n      <td>-4.457</td>\n      <td>0.0948</td>\n      <td>mixed_pop</td>\n    </tr>\n    <tr>\n      <th>21</th>\n      <td>0hquQWY3xvYqN4qtiquniF</td>\n      <td>Vegas (From the Original Motion Picture Soundt...</td>\n      <td>Doja Cat</td>\n      <td>dance pop</td>\n      <td>2022</td>\n      <td>False</td>\n      <td>89</td>\n      <td>182906</td>\n      <td>Top 50 - United Kingdom</td>\n      <td>0.801</td>\n      <td>-7.574</td>\n      <td>0.2550</td>\n      <td>mixed_pop</td>\n    </tr>\n    <tr>\n      <th>22</th>\n      <td>003vvx7Niy0yvhvHt4a68B</td>\n      <td>Mr. Brightside</td>\n      <td>The Killers</td>\n      <td>alternative rock</td>\n      <td>2004</td>\n      <td>False</td>\n      <td>85</td>\n      <td>222973</td>\n      <td>Top 50 - United Kingdom</td>\n      <td>0.352</td>\n      <td>-5.230</td>\n      <td>0.0747</td>\n      <td>mixed_pop</td>\n    </tr>\n    <tr>\n      <th>23</th>\n      <td>50nfwKoDiSYg8zOCREWAm5</td>\n      <td>Shivers</td>\n      <td>Ed Sheeran</td>\n      <td>pop</td>\n      <td>2021</td>\n      <td>False</td>\n      <td>90</td>\n      <td>207853</td>\n      <td>Top 50 - United Kingdom</td>\n      <td>0.788</td>\n      <td>-2.724</td>\n      <td>0.0856</td>\n      <td>mixed_pop</td>\n    </tr>\n    <tr>\n      <th>24</th>\n      <td>3rmo8F54jFF8OgYsqTxm5d</td>\n      <td>Bad Habits</td>\n      <td>Ed Sheeran</td>\n      <td>pop</td>\n      <td>2021</td>\n      <td>False</td>\n      <td>91</td>\n      <td>230746</td>\n      <td>Top 50 - United Kingdom</td>\n      <td>0.807</td>\n      <td>-3.745</td>\n      <td>0.0347</td>\n      <td>mixed_pop</td>\n    </tr>\n    <tr>\n      <th>25</th>\n      <td>3pudQCMnsFGwOElTZmuml8</td>\n      <td>Baby</td>\n      <td>Aitch</td>\n      <td>manchester hip hop</td>\n      <td>2022</td>\n      <td>True</td>\n      <td>78</td>\n      <td>177733</td>\n      <td>Top 50 - United Kingdom</td>\n      <td>0.769</td>\n      <td>-5.772</td>\n      <td>0.2140</td>\n      <td>mixed_pop</td>\n    </tr>\n    <tr>\n      <th>26</th>\n      <td>3sa06xVNmLLYIxdNNmVQN8</td>\n      <td>Where Did You Go? (feat. MNEK)</td>\n      <td>Jax Jones</td>\n      <td>dance pop</td>\n      <td>2022</td>\n      <td>False</td>\n      <td>88</td>\n      <td>177689</td>\n      <td>Top 50 - United Kingdom</td>\n      <td>0.763</td>\n      <td>-4.541</td>\n      <td>0.0346</td>\n      <td>mixed_pop</td>\n    </tr>\n    <tr>\n      <th>27</th>\n      <td>6uvh0In7u1Xn4HgxOfAn8O</td>\n      <td>Matilda</td>\n      <td>Harry Styles</td>\n      <td>pop</td>\n      <td>2022</td>\n      <td>False</td>\n      <td>91</td>\n      <td>245964</td>\n      <td>Top 50 - United Kingdom</td>\n      <td>0.507</td>\n      <td>-10.000</td>\n      <td>0.0400</td>\n      <td>mixed_pop</td>\n    </tr>\n    <tr>\n      <th>28</th>\n      <td>1WCEAGGRD066z2Q89ObXTq</td>\n      <td>Crazy What Love Can Do</td>\n      <td>David Guetta</td>\n      <td>big room</td>\n      <td>2022</td>\n      <td>False</td>\n      <td>87</td>\n      <td>169756</td>\n      <td>Top 50 - United Kingdom</td>\n      <td>0.601</td>\n      <td>-3.758</td>\n      <td>0.0449</td>\n      <td>mixed_pop</td>\n    </tr>\n    <tr>\n      <th>29</th>\n      <td>2DB4DdfCFMw1iaR6JaR03a</td>\n      <td>Bam Bam (feat. Ed Sheeran)</td>\n      <td>Camila Cabello</td>\n      <td>dance pop</td>\n      <td>2022</td>\n      <td>False</td>\n      <td>85</td>\n      <td>206070</td>\n      <td>Top 50 - United Kingdom</td>\n      <td>0.756</td>\n      <td>-6.377</td>\n      <td>0.0401</td>\n      <td>mixed_pop</td>\n    </tr>\n    <tr>\n      <th>30</th>\n      <td>7kjANxR8XN4hCzLaSc2roy</td>\n      <td>go - goddard. Remix</td>\n      <td>Cat Burns</td>\n      <td>pop</td>\n      <td>2022</td>\n      <td>True</td>\n      <td>78</td>\n      <td>192514</td>\n      <td>Top 50 - United Kingdom</td>\n      <td>0.728</td>\n      <td>-6.601</td>\n      <td>0.1300</td>\n      <td>mixed_pop</td>\n    </tr>\n    <tr>\n      <th>31</th>\n      <td>3uUuGVFu1V7jTQL60S1r8z</td>\n      <td>Where Are You Now</td>\n      <td>Lost Frequencies</td>\n      <td>belgian edm</td>\n      <td>2021</td>\n      <td>False</td>\n      <td>92</td>\n      <td>148197</td>\n      <td>Top 50 - United Kingdom</td>\n      <td>0.671</td>\n      <td>-8.117</td>\n      <td>0.1030</td>\n      <td>mixed_pop</td>\n    </tr>\n    <tr>\n      <th>32</th>\n      <td>7fYRg3CEbk6rNCuzNzMT06</td>\n      <td>Potion (with Dua Lipa &amp; Young Thug)</td>\n      <td>Calvin Harris</td>\n      <td>dance pop</td>\n      <td>2022</td>\n      <td>True</td>\n      <td>89</td>\n      <td>214459</td>\n      <td>Top 50 - United Kingdom</td>\n      <td>0.824</td>\n      <td>-4.869</td>\n      <td>0.0473</td>\n      <td>mixed_pop</td>\n    </tr>\n    <tr>\n      <th>33</th>\n      <td>0O6u0VJ46W86TxN9wgyqDj</td>\n      <td>I Like You (A Happier Song) (with Doja Cat)</td>\n      <td>Post Malone</td>\n      <td>dfw rap</td>\n      <td>2022</td>\n      <td>True</td>\n      <td>92</td>\n      <td>192840</td>\n      <td>Top 50 - United Kingdom</td>\n      <td>0.733</td>\n      <td>-6.009</td>\n      <td>0.0751</td>\n      <td>mixed_pop</td>\n    </tr>\n    <tr>\n      <th>34</th>\n      <td>6JIC3hbC28JZKZ8AlAqX8h</td>\n      <td>Cold Heart - PNAU Remix</td>\n      <td>Elton John</td>\n      <td>glam rock</td>\n      <td>2021</td>\n      <td>False</td>\n      <td>85</td>\n      <td>202735</td>\n      <td>Top 50 - United Kingdom</td>\n      <td>0.795</td>\n      <td>-6.320</td>\n      <td>0.0309</td>\n      <td>mixed_pop</td>\n    </tr>\n    <tr>\n      <th>35</th>\n      <td>7ef4DlsgrMEH11cDZd32M6</td>\n      <td>One Kiss (with Dua Lipa)</td>\n      <td>Calvin Harris</td>\n      <td>dance pop</td>\n      <td>2018</td>\n      <td>False</td>\n      <td>91</td>\n      <td>214846</td>\n      <td>Top 50 - United Kingdom</td>\n      <td>0.791</td>\n      <td>-3.240</td>\n      <td>0.1100</td>\n      <td>mixed_pop</td>\n    </tr>\n    <tr>\n      <th>36</th>\n      <td>4hJhHbkhZFnxmWbAkZRoe0</td>\n      <td>Peru</td>\n      <td>Fireboy DML</td>\n      <td>afro dancehall</td>\n      <td>2021</td>\n      <td>False</td>\n      <td>73</td>\n      <td>187111</td>\n      <td>Top 50 - United Kingdom</td>\n      <td>0.956</td>\n      <td>-7.892</td>\n      <td>0.0926</td>\n      <td>mixed_pop</td>\n    </tr>\n    <tr>\n      <th>37</th>\n      <td>6A3SB2C4U6JtCavQOXLYNN</td>\n      <td>Je M'appelle</td>\n      <td>Benzz</td>\n      <td>***OOPS!***</td>\n      <td>2022</td>\n      <td>True</td>\n      <td>84</td>\n      <td>139574</td>\n      <td>Top 50 - United Kingdom</td>\n      <td>0.807</td>\n      <td>-4.396</td>\n      <td>0.2370</td>\n      <td>mixed_pop</td>\n    </tr>\n    <tr>\n      <th>38</th>\n      <td>4ZtFanR9U6ndgddUvNcjcG</td>\n      <td>good 4 u</td>\n      <td>Olivia Rodrigo</td>\n      <td>pop</td>\n      <td>2021</td>\n      <td>True</td>\n      <td>91</td>\n      <td>178146</td>\n      <td>Top 50 - United Kingdom</td>\n      <td>0.563</td>\n      <td>-5.044</td>\n      <td>0.1540</td>\n      <td>mixed_pop</td>\n    </tr>\n    <tr>\n      <th>39</th>\n      <td>4CUX44NA1CPEzd0ibMLQsL</td>\n      <td>Make Me Feel Good</td>\n      <td>Belters Only</td>\n      <td>house</td>\n      <td>2021</td>\n      <td>False</td>\n      <td>77</td>\n      <td>197472</td>\n      <td>Top 50 - United Kingdom</td>\n      <td>0.773</td>\n      <td>-8.169</td>\n      <td>0.0386</td>\n      <td>mixed_pop</td>\n    </tr>\n    <tr>\n      <th>40</th>\n      <td>78ywqAbY9QktwlTHyc8c4I</td>\n      <td>Elegant &amp; Gang</td>\n      <td>D-Block Europe</td>\n      <td>uk hip hop</td>\n      <td>2022</td>\n      <td>True</td>\n      <td>73</td>\n      <td>205200</td>\n      <td>Top 50 - United Kingdom</td>\n      <td>0.700</td>\n      <td>-12.959</td>\n      <td>0.3460</td>\n      <td>mixed_pop</td>\n    </tr>\n    <tr>\n      <th>41</th>\n      <td>5PjdY0CKGZdEuoNab3yDmX</td>\n      <td>STAY (with Justin Bieber)</td>\n      <td>The Kid LAROI</td>\n      <td>australian hip hop</td>\n      <td>2021</td>\n      <td>True</td>\n      <td>88</td>\n      <td>141805</td>\n      <td>Top 50 - United Kingdom</td>\n      <td>0.591</td>\n      <td>-5.484</td>\n      <td>0.0483</td>\n      <td>mixed_pop</td>\n    </tr>\n    <tr>\n      <th>42</th>\n      <td>3nhGk6VnrDHy67pXvMhdPa</td>\n      <td>SPACE MAN</td>\n      <td>Sam Ryder</td>\n      <td>***OOPS!***</td>\n      <td>2022</td>\n      <td>False</td>\n      <td>79</td>\n      <td>217320</td>\n      <td>Top 50 - United Kingdom</td>\n      <td>0.467</td>\n      <td>-2.220</td>\n      <td>0.0489</td>\n      <td>mixed_pop</td>\n    </tr>\n    <tr>\n      <th>43</th>\n      <td>46IZ0fSY2mpAiktS3KOqds</td>\n      <td>Easy On Me</td>\n      <td>Adele</td>\n      <td>british soul</td>\n      <td>2021</td>\n      <td>False</td>\n      <td>83</td>\n      <td>224694</td>\n      <td>Top 50 - United Kingdom</td>\n      <td>0.604</td>\n      <td>-7.519</td>\n      <td>0.0282</td>\n      <td>mixed_pop</td>\n    </tr>\n    <tr>\n      <th>44</th>\n      <td>51Zw1cKDgkad0CXv23HCMU</td>\n      <td>Daylight</td>\n      <td>Harry Styles</td>\n      <td>pop</td>\n      <td>2022</td>\n      <td>False</td>\n      <td>90</td>\n      <td>164533</td>\n      <td>Top 50 - United Kingdom</td>\n      <td>0.686</td>\n      <td>-7.189</td>\n      <td>0.0398</td>\n      <td>mixed_pop</td>\n    </tr>\n    <tr>\n      <th>45</th>\n      <td>7jtQIBanIiJOMS6RyCx6jZ</td>\n      <td>Another Love</td>\n      <td>Tom Odell</td>\n      <td>chill pop</td>\n      <td>2013</td>\n      <td>True</td>\n      <td>55</td>\n      <td>244360</td>\n      <td>Top 50 - United Kingdom</td>\n      <td>0.442</td>\n      <td>-8.550</td>\n      <td>0.0451</td>\n      <td>mixed_pop</td>\n    </tr>\n    <tr>\n      <th>46</th>\n      <td>7l9IqDtVWJurTvkQHq1BGh</td>\n      <td>she's all i wanna be</td>\n      <td>Tate McRae</td>\n      <td>pop</td>\n      <td>2022</td>\n      <td>False</td>\n      <td>76</td>\n      <td>207120</td>\n      <td>Top 50 - United Kingdom</td>\n      <td>0.602</td>\n      <td>-5.323</td>\n      <td>0.0396</td>\n      <td>mixed_pop</td>\n    </tr>\n    <tr>\n      <th>47</th>\n      <td>58ge6dfP91o9oXMzq3XkIS</td>\n      <td>505</td>\n      <td>Arctic Monkeys</td>\n      <td>garage rock</td>\n      <td>2007</td>\n      <td>False</td>\n      <td>82</td>\n      <td>253586</td>\n      <td>Top 50 - United Kingdom</td>\n      <td>0.520</td>\n      <td>-5.866</td>\n      <td>0.0543</td>\n      <td>mixed_pop</td>\n    </tr>\n    <tr>\n      <th>48</th>\n      <td>4RVwu0g32PAqgUiJoXsdF8</td>\n      <td>Happier Than Ever</td>\n      <td>Billie Eilish</td>\n      <td>art pop</td>\n      <td>2021</td>\n      <td>True</td>\n      <td>88</td>\n      <td>298899</td>\n      <td>Top 50 - United Kingdom</td>\n      <td>0.332</td>\n      <td>-8.697</td>\n      <td>0.0348</td>\n      <td>mixed_pop</td>\n    </tr>\n    <tr>\n      <th>49</th>\n      <td>4RvWPyQ5RL0ao9LPZeSouE</td>\n      <td>Everybody Wants To Rule The World</td>\n      <td>Tears For Fears</td>\n      <td>new romantic</td>\n      <td>1985</td>\n      <td>False</td>\n      <td>86</td>\n      <td>251488</td>\n      <td>Top 50 - United Kingdom</td>\n      <td>0.645</td>\n      <td>-12.095</td>\n      <td>0.0527</td>\n      <td>mixed_pop</td>\n    </tr>\n  </tbody>\n</table>\n</div>"
     },
     "execution_count": 110,
     "metadata": {},
     "output_type": "execute_result"
    }
   ],
   "source": [
    "# Filter our dataframe to only show songs from Spotify's Top 50 UK playlist\n",
    "# (Top 50 most played songs in the UK on the day dataset was produced)\n",
    "\n",
    "filter_uk_top_50 = songs_df['playlist_name'] == 'Top 50 - United Kingdom'\n",
    "\n",
    "songs_top_50 = songs_df[filter_uk_top_50]\n",
    "songs_top_50"
   ],
   "metadata": {
    "collapsed": false,
    "pycharm": {
     "name": "#%%\n"
    }
   }
  },
  {
   "cell_type": "code",
   "execution_count": 112,
   "outputs": [
    {
     "data": {
      "text/plain": "                  track_id                                   track_name  \\\n5   1PckUlxKqWQs3RlWXVBLw3                              About Damn Time   \n10  3F5CgOj3wFlRv51JsHbxhe                Jimmy Cooks (feat. 21 Savage)   \n11  7u3w4fQhulC1etJbdfmv3Q                                         IFTK   \n13  59nOXPmaKlBfGMDeOVGrIK              WAIT FOR U (feat. Drake & Tems)   \n16  531KGXtBroSrOX9LVmiIgc                                    Starlight   \n17  5rF6YUIlgiat22OT1lWspJ                        Seventeen Going Under   \n18  0wHFktze2PHC5jDt3B17DC                                  First Class   \n25  3pudQCMnsFGwOElTZmuml8                                         Baby   \n30  7kjANxR8XN4hCzLaSc2roy                          go - goddard. Remix   \n32  7fYRg3CEbk6rNCuzNzMT06          Potion (with Dua Lipa & Young Thug)   \n33  0O6u0VJ46W86TxN9wgyqDj  I Like You (A Happier Song) (with Doja Cat)   \n37  6A3SB2C4U6JtCavQOXLYNN                                 Je M'appelle   \n38  4ZtFanR9U6ndgddUvNcjcG                                     good 4 u   \n40  78ywqAbY9QktwlTHyc8c4I                               Elegant & Gang   \n41  5PjdY0CKGZdEuoNab3yDmX                    STAY (with Justin Bieber)   \n45  7jtQIBanIiJOMS6RyCx6jZ                                 Another Love   \n48  4RVwu0g32PAqgUiJoXsdF8                            Happier Than Ever   \n\n           artists                     genre  release_year  explicit  \\\n5            Lizzo                 dance pop          2022      True   \n10           Drake          canadian hip hop          2022      True   \n11      Tion Wayne                london rap          2022      True   \n13          Future               atl hip hop          2022      True   \n16            Dave                uk hip hop          2022      True   \n17      Sam Fender               modern rock          2021      True   \n18     Jack Harlow  deep underground hip hop          2022      True   \n25           Aitch        manchester hip hop          2022      True   \n30       Cat Burns                       pop          2022      True   \n32   Calvin Harris                 dance pop          2022      True   \n33     Post Malone                   dfw rap          2022      True   \n37           Benzz               ***OOPS!***          2022      True   \n38  Olivia Rodrigo                       pop          2021      True   \n40  D-Block Europe                uk hip hop          2022      True   \n41   The Kid LAROI        australian hip hop          2021      True   \n45       Tom Odell                 chill pop          2013      True   \n48   Billie Eilish                   art pop          2021      True   \n\n    popularity  duration_ms            playlist_name  danceability  loudness  \\\n5           95       191822  Top 50 - United Kingdom         0.836    -6.305   \n10          92       218364  Top 50 - United Kingdom         0.529    -4.711   \n11          79       190684  Top 50 - United Kingdom         0.614    -4.320   \n13          91       189893  Top 50 - United Kingdom         0.463    -4.474   \n16          83       211935  Top 50 - United Kingdom         0.954    -9.551   \n17          75       297933  Top 50 - United Kingdom         0.480    -4.792   \n18          85       173947  Top 50 - United Kingdom         0.902    -5.902   \n25          78       177733  Top 50 - United Kingdom         0.769    -5.772   \n30          78       192514  Top 50 - United Kingdom         0.728    -6.601   \n32          89       214459  Top 50 - United Kingdom         0.824    -4.869   \n33          92       192840  Top 50 - United Kingdom         0.733    -6.009   \n37          84       139574  Top 50 - United Kingdom         0.807    -4.396   \n38          91       178146  Top 50 - United Kingdom         0.563    -5.044   \n40          73       205200  Top 50 - United Kingdom         0.700   -12.959   \n41          88       141805  Top 50 - United Kingdom         0.591    -5.484   \n45          55       244360  Top 50 - United Kingdom         0.442    -8.550   \n48          88       298899  Top 50 - United Kingdom         0.332    -8.697   \n\n    speechiness playlist_type  \n5        0.0656     mixed_pop  \n10       0.1750     mixed_pop  \n11       0.2260     mixed_pop  \n13       0.3400     mixed_pop  \n16       0.2880     mixed_pop  \n17       0.0362     mixed_pop  \n18       0.1090     mixed_pop  \n25       0.2140     mixed_pop  \n30       0.1300     mixed_pop  \n32       0.0473     mixed_pop  \n33       0.0751     mixed_pop  \n37       0.2370     mixed_pop  \n38       0.1540     mixed_pop  \n40       0.3460     mixed_pop  \n41       0.0483     mixed_pop  \n45       0.0451     mixed_pop  \n48       0.0348     mixed_pop  ",
      "text/html": "<div>\n<style scoped>\n    .dataframe tbody tr th:only-of-type {\n        vertical-align: middle;\n    }\n\n    .dataframe tbody tr th {\n        vertical-align: top;\n    }\n\n    .dataframe thead th {\n        text-align: right;\n    }\n</style>\n<table border=\"1\" class=\"dataframe\">\n  <thead>\n    <tr style=\"text-align: right;\">\n      <th></th>\n      <th>track_id</th>\n      <th>track_name</th>\n      <th>artists</th>\n      <th>genre</th>\n      <th>release_year</th>\n      <th>explicit</th>\n      <th>popularity</th>\n      <th>duration_ms</th>\n      <th>playlist_name</th>\n      <th>danceability</th>\n      <th>loudness</th>\n      <th>speechiness</th>\n      <th>playlist_type</th>\n    </tr>\n  </thead>\n  <tbody>\n    <tr>\n      <th>5</th>\n      <td>1PckUlxKqWQs3RlWXVBLw3</td>\n      <td>About Damn Time</td>\n      <td>Lizzo</td>\n      <td>dance pop</td>\n      <td>2022</td>\n      <td>True</td>\n      <td>95</td>\n      <td>191822</td>\n      <td>Top 50 - United Kingdom</td>\n      <td>0.836</td>\n      <td>-6.305</td>\n      <td>0.0656</td>\n      <td>mixed_pop</td>\n    </tr>\n    <tr>\n      <th>10</th>\n      <td>3F5CgOj3wFlRv51JsHbxhe</td>\n      <td>Jimmy Cooks (feat. 21 Savage)</td>\n      <td>Drake</td>\n      <td>canadian hip hop</td>\n      <td>2022</td>\n      <td>True</td>\n      <td>92</td>\n      <td>218364</td>\n      <td>Top 50 - United Kingdom</td>\n      <td>0.529</td>\n      <td>-4.711</td>\n      <td>0.1750</td>\n      <td>mixed_pop</td>\n    </tr>\n    <tr>\n      <th>11</th>\n      <td>7u3w4fQhulC1etJbdfmv3Q</td>\n      <td>IFTK</td>\n      <td>Tion Wayne</td>\n      <td>london rap</td>\n      <td>2022</td>\n      <td>True</td>\n      <td>79</td>\n      <td>190684</td>\n      <td>Top 50 - United Kingdom</td>\n      <td>0.614</td>\n      <td>-4.320</td>\n      <td>0.2260</td>\n      <td>mixed_pop</td>\n    </tr>\n    <tr>\n      <th>13</th>\n      <td>59nOXPmaKlBfGMDeOVGrIK</td>\n      <td>WAIT FOR U (feat. Drake &amp; Tems)</td>\n      <td>Future</td>\n      <td>atl hip hop</td>\n      <td>2022</td>\n      <td>True</td>\n      <td>91</td>\n      <td>189893</td>\n      <td>Top 50 - United Kingdom</td>\n      <td>0.463</td>\n      <td>-4.474</td>\n      <td>0.3400</td>\n      <td>mixed_pop</td>\n    </tr>\n    <tr>\n      <th>16</th>\n      <td>531KGXtBroSrOX9LVmiIgc</td>\n      <td>Starlight</td>\n      <td>Dave</td>\n      <td>uk hip hop</td>\n      <td>2022</td>\n      <td>True</td>\n      <td>83</td>\n      <td>211935</td>\n      <td>Top 50 - United Kingdom</td>\n      <td>0.954</td>\n      <td>-9.551</td>\n      <td>0.2880</td>\n      <td>mixed_pop</td>\n    </tr>\n    <tr>\n      <th>17</th>\n      <td>5rF6YUIlgiat22OT1lWspJ</td>\n      <td>Seventeen Going Under</td>\n      <td>Sam Fender</td>\n      <td>modern rock</td>\n      <td>2021</td>\n      <td>True</td>\n      <td>75</td>\n      <td>297933</td>\n      <td>Top 50 - United Kingdom</td>\n      <td>0.480</td>\n      <td>-4.792</td>\n      <td>0.0362</td>\n      <td>mixed_pop</td>\n    </tr>\n    <tr>\n      <th>18</th>\n      <td>0wHFktze2PHC5jDt3B17DC</td>\n      <td>First Class</td>\n      <td>Jack Harlow</td>\n      <td>deep underground hip hop</td>\n      <td>2022</td>\n      <td>True</td>\n      <td>85</td>\n      <td>173947</td>\n      <td>Top 50 - United Kingdom</td>\n      <td>0.902</td>\n      <td>-5.902</td>\n      <td>0.1090</td>\n      <td>mixed_pop</td>\n    </tr>\n    <tr>\n      <th>25</th>\n      <td>3pudQCMnsFGwOElTZmuml8</td>\n      <td>Baby</td>\n      <td>Aitch</td>\n      <td>manchester hip hop</td>\n      <td>2022</td>\n      <td>True</td>\n      <td>78</td>\n      <td>177733</td>\n      <td>Top 50 - United Kingdom</td>\n      <td>0.769</td>\n      <td>-5.772</td>\n      <td>0.2140</td>\n      <td>mixed_pop</td>\n    </tr>\n    <tr>\n      <th>30</th>\n      <td>7kjANxR8XN4hCzLaSc2roy</td>\n      <td>go - goddard. Remix</td>\n      <td>Cat Burns</td>\n      <td>pop</td>\n      <td>2022</td>\n      <td>True</td>\n      <td>78</td>\n      <td>192514</td>\n      <td>Top 50 - United Kingdom</td>\n      <td>0.728</td>\n      <td>-6.601</td>\n      <td>0.1300</td>\n      <td>mixed_pop</td>\n    </tr>\n    <tr>\n      <th>32</th>\n      <td>7fYRg3CEbk6rNCuzNzMT06</td>\n      <td>Potion (with Dua Lipa &amp; Young Thug)</td>\n      <td>Calvin Harris</td>\n      <td>dance pop</td>\n      <td>2022</td>\n      <td>True</td>\n      <td>89</td>\n      <td>214459</td>\n      <td>Top 50 - United Kingdom</td>\n      <td>0.824</td>\n      <td>-4.869</td>\n      <td>0.0473</td>\n      <td>mixed_pop</td>\n    </tr>\n    <tr>\n      <th>33</th>\n      <td>0O6u0VJ46W86TxN9wgyqDj</td>\n      <td>I Like You (A Happier Song) (with Doja Cat)</td>\n      <td>Post Malone</td>\n      <td>dfw rap</td>\n      <td>2022</td>\n      <td>True</td>\n      <td>92</td>\n      <td>192840</td>\n      <td>Top 50 - United Kingdom</td>\n      <td>0.733</td>\n      <td>-6.009</td>\n      <td>0.0751</td>\n      <td>mixed_pop</td>\n    </tr>\n    <tr>\n      <th>37</th>\n      <td>6A3SB2C4U6JtCavQOXLYNN</td>\n      <td>Je M'appelle</td>\n      <td>Benzz</td>\n      <td>***OOPS!***</td>\n      <td>2022</td>\n      <td>True</td>\n      <td>84</td>\n      <td>139574</td>\n      <td>Top 50 - United Kingdom</td>\n      <td>0.807</td>\n      <td>-4.396</td>\n      <td>0.2370</td>\n      <td>mixed_pop</td>\n    </tr>\n    <tr>\n      <th>38</th>\n      <td>4ZtFanR9U6ndgddUvNcjcG</td>\n      <td>good 4 u</td>\n      <td>Olivia Rodrigo</td>\n      <td>pop</td>\n      <td>2021</td>\n      <td>True</td>\n      <td>91</td>\n      <td>178146</td>\n      <td>Top 50 - United Kingdom</td>\n      <td>0.563</td>\n      <td>-5.044</td>\n      <td>0.1540</td>\n      <td>mixed_pop</td>\n    </tr>\n    <tr>\n      <th>40</th>\n      <td>78ywqAbY9QktwlTHyc8c4I</td>\n      <td>Elegant &amp; Gang</td>\n      <td>D-Block Europe</td>\n      <td>uk hip hop</td>\n      <td>2022</td>\n      <td>True</td>\n      <td>73</td>\n      <td>205200</td>\n      <td>Top 50 - United Kingdom</td>\n      <td>0.700</td>\n      <td>-12.959</td>\n      <td>0.3460</td>\n      <td>mixed_pop</td>\n    </tr>\n    <tr>\n      <th>41</th>\n      <td>5PjdY0CKGZdEuoNab3yDmX</td>\n      <td>STAY (with Justin Bieber)</td>\n      <td>The Kid LAROI</td>\n      <td>australian hip hop</td>\n      <td>2021</td>\n      <td>True</td>\n      <td>88</td>\n      <td>141805</td>\n      <td>Top 50 - United Kingdom</td>\n      <td>0.591</td>\n      <td>-5.484</td>\n      <td>0.0483</td>\n      <td>mixed_pop</td>\n    </tr>\n    <tr>\n      <th>45</th>\n      <td>7jtQIBanIiJOMS6RyCx6jZ</td>\n      <td>Another Love</td>\n      <td>Tom Odell</td>\n      <td>chill pop</td>\n      <td>2013</td>\n      <td>True</td>\n      <td>55</td>\n      <td>244360</td>\n      <td>Top 50 - United Kingdom</td>\n      <td>0.442</td>\n      <td>-8.550</td>\n      <td>0.0451</td>\n      <td>mixed_pop</td>\n    </tr>\n    <tr>\n      <th>48</th>\n      <td>4RVwu0g32PAqgUiJoXsdF8</td>\n      <td>Happier Than Ever</td>\n      <td>Billie Eilish</td>\n      <td>art pop</td>\n      <td>2021</td>\n      <td>True</td>\n      <td>88</td>\n      <td>298899</td>\n      <td>Top 50 - United Kingdom</td>\n      <td>0.332</td>\n      <td>-8.697</td>\n      <td>0.0348</td>\n      <td>mixed_pop</td>\n    </tr>\n  </tbody>\n</table>\n</div>"
     },
     "execution_count": 112,
     "metadata": {},
     "output_type": "execute_result"
    }
   ],
   "source": [
    "# We could filter again to then see which songs in the top 50 are explicit\n",
    "\n",
    "filter_explicit = songs_top_50['explicit'] == True\n",
    "songs_top_50[filter_explicit]"
   ],
   "metadata": {
    "collapsed": false,
    "pycharm": {
     "name": "#%%\n"
    }
   }
  },
  {
   "cell_type": "code",
   "execution_count": 113,
   "outputs": [
    {
     "data": {
      "text/plain": "                  track_id                              track_name  \\\n0   75FEaRjZTKLhTrFGsfMUXR  Running Up That Hill (A Deal With God)   \n14  2MuWTIM3b0YEAskbeeFE1i                       Master Of Puppets   \n22  003vvx7Niy0yvhvHt4a68B                          Mr. Brightside   \n35  7ef4DlsgrMEH11cDZd32M6                One Kiss (with Dua Lipa)   \n45  7jtQIBanIiJOMS6RyCx6jZ                            Another Love   \n47  58ge6dfP91o9oXMzq3XkIS                                     505   \n49  4RvWPyQ5RL0ao9LPZeSouE       Everybody Wants To Rule The World   \n\n            artists             genre  release_year  explicit  popularity  \\\n0         Kate Bush           art pop          1985     False          96   \n14        Metallica         hard rock          1986     False          78   \n22      The Killers  alternative rock          2004     False          85   \n35    Calvin Harris         dance pop          2018     False          91   \n45        Tom Odell         chill pop          2013      True          55   \n47   Arctic Monkeys       garage rock          2007     False          82   \n49  Tears For Fears      new romantic          1985     False          86   \n\n    duration_ms            playlist_name  danceability  loudness  speechiness  \\\n0        298933  Top 50 - United Kingdom         0.629   -13.123          NaN   \n14       515386  Top 50 - United Kingdom         0.543    -9.110       0.0353   \n22       222973  Top 50 - United Kingdom         0.352    -5.230       0.0747   \n35       214846  Top 50 - United Kingdom         0.791    -3.240       0.1100   \n45       244360  Top 50 - United Kingdom         0.442    -8.550       0.0451   \n47       253586  Top 50 - United Kingdom         0.520    -5.866       0.0543   \n49       251488  Top 50 - United Kingdom         0.645   -12.095       0.0527   \n\n   playlist_type  \n0      mixed_pop  \n14     mixed_pop  \n22     mixed_pop  \n35     mixed_pop  \n45     mixed_pop  \n47     mixed_pop  \n49     mixed_pop  ",
      "text/html": "<div>\n<style scoped>\n    .dataframe tbody tr th:only-of-type {\n        vertical-align: middle;\n    }\n\n    .dataframe tbody tr th {\n        vertical-align: top;\n    }\n\n    .dataframe thead th {\n        text-align: right;\n    }\n</style>\n<table border=\"1\" class=\"dataframe\">\n  <thead>\n    <tr style=\"text-align: right;\">\n      <th></th>\n      <th>track_id</th>\n      <th>track_name</th>\n      <th>artists</th>\n      <th>genre</th>\n      <th>release_year</th>\n      <th>explicit</th>\n      <th>popularity</th>\n      <th>duration_ms</th>\n      <th>playlist_name</th>\n      <th>danceability</th>\n      <th>loudness</th>\n      <th>speechiness</th>\n      <th>playlist_type</th>\n    </tr>\n  </thead>\n  <tbody>\n    <tr>\n      <th>0</th>\n      <td>75FEaRjZTKLhTrFGsfMUXR</td>\n      <td>Running Up That Hill (A Deal With God)</td>\n      <td>Kate Bush</td>\n      <td>art pop</td>\n      <td>1985</td>\n      <td>False</td>\n      <td>96</td>\n      <td>298933</td>\n      <td>Top 50 - United Kingdom</td>\n      <td>0.629</td>\n      <td>-13.123</td>\n      <td>NaN</td>\n      <td>mixed_pop</td>\n    </tr>\n    <tr>\n      <th>14</th>\n      <td>2MuWTIM3b0YEAskbeeFE1i</td>\n      <td>Master Of Puppets</td>\n      <td>Metallica</td>\n      <td>hard rock</td>\n      <td>1986</td>\n      <td>False</td>\n      <td>78</td>\n      <td>515386</td>\n      <td>Top 50 - United Kingdom</td>\n      <td>0.543</td>\n      <td>-9.110</td>\n      <td>0.0353</td>\n      <td>mixed_pop</td>\n    </tr>\n    <tr>\n      <th>22</th>\n      <td>003vvx7Niy0yvhvHt4a68B</td>\n      <td>Mr. Brightside</td>\n      <td>The Killers</td>\n      <td>alternative rock</td>\n      <td>2004</td>\n      <td>False</td>\n      <td>85</td>\n      <td>222973</td>\n      <td>Top 50 - United Kingdom</td>\n      <td>0.352</td>\n      <td>-5.230</td>\n      <td>0.0747</td>\n      <td>mixed_pop</td>\n    </tr>\n    <tr>\n      <th>35</th>\n      <td>7ef4DlsgrMEH11cDZd32M6</td>\n      <td>One Kiss (with Dua Lipa)</td>\n      <td>Calvin Harris</td>\n      <td>dance pop</td>\n      <td>2018</td>\n      <td>False</td>\n      <td>91</td>\n      <td>214846</td>\n      <td>Top 50 - United Kingdom</td>\n      <td>0.791</td>\n      <td>-3.240</td>\n      <td>0.1100</td>\n      <td>mixed_pop</td>\n    </tr>\n    <tr>\n      <th>45</th>\n      <td>7jtQIBanIiJOMS6RyCx6jZ</td>\n      <td>Another Love</td>\n      <td>Tom Odell</td>\n      <td>chill pop</td>\n      <td>2013</td>\n      <td>True</td>\n      <td>55</td>\n      <td>244360</td>\n      <td>Top 50 - United Kingdom</td>\n      <td>0.442</td>\n      <td>-8.550</td>\n      <td>0.0451</td>\n      <td>mixed_pop</td>\n    </tr>\n    <tr>\n      <th>47</th>\n      <td>58ge6dfP91o9oXMzq3XkIS</td>\n      <td>505</td>\n      <td>Arctic Monkeys</td>\n      <td>garage rock</td>\n      <td>2007</td>\n      <td>False</td>\n      <td>82</td>\n      <td>253586</td>\n      <td>Top 50 - United Kingdom</td>\n      <td>0.520</td>\n      <td>-5.866</td>\n      <td>0.0543</td>\n      <td>mixed_pop</td>\n    </tr>\n    <tr>\n      <th>49</th>\n      <td>4RvWPyQ5RL0ao9LPZeSouE</td>\n      <td>Everybody Wants To Rule The World</td>\n      <td>Tears For Fears</td>\n      <td>new romantic</td>\n      <td>1985</td>\n      <td>False</td>\n      <td>86</td>\n      <td>251488</td>\n      <td>Top 50 - United Kingdom</td>\n      <td>0.645</td>\n      <td>-12.095</td>\n      <td>0.0527</td>\n      <td>mixed_pop</td>\n    </tr>\n  </tbody>\n</table>\n</div>"
     },
     "execution_count": 113,
     "metadata": {},
     "output_type": "execute_result"
    }
   ],
   "source": [
    "# Which songs in the top 50 were released before 2020?\n",
    "\n",
    "filter_pre_2020 = songs_top_50['release_year'] < 2020\n",
    "songs_top_50[filter_pre_2020]"
   ],
   "metadata": {
    "collapsed": false,
    "pycharm": {
     "name": "#%%\n"
    }
   }
  },
  {
   "cell_type": "code",
   "execution_count": 114,
   "outputs": [
    {
     "data": {
      "text/plain": "                  track_id                              track_name  \\\n0   75FEaRjZTKLhTrFGsfMUXR  Running Up That Hill (A Deal With God)   \n49  4RvWPyQ5RL0ao9LPZeSouE       Everybody Wants To Rule The World   \n14  2MuWTIM3b0YEAskbeeFE1i                       Master Of Puppets   \n22  003vvx7Niy0yvhvHt4a68B                          Mr. Brightside   \n47  58ge6dfP91o9oXMzq3XkIS                                     505   \n45  7jtQIBanIiJOMS6RyCx6jZ                            Another Love   \n35  7ef4DlsgrMEH11cDZd32M6                One Kiss (with Dua Lipa)   \n\n            artists             genre  release_year  explicit  popularity  \\\n0         Kate Bush           art pop          1985     False          96   \n49  Tears For Fears      new romantic          1985     False          86   \n14        Metallica         hard rock          1986     False          78   \n22      The Killers  alternative rock          2004     False          85   \n47   Arctic Monkeys       garage rock          2007     False          82   \n45        Tom Odell         chill pop          2013      True          55   \n35    Calvin Harris         dance pop          2018     False          91   \n\n    duration_ms            playlist_name  danceability  loudness  speechiness  \\\n0        298933  Top 50 - United Kingdom         0.629   -13.123          NaN   \n49       251488  Top 50 - United Kingdom         0.645   -12.095       0.0527   \n14       515386  Top 50 - United Kingdom         0.543    -9.110       0.0353   \n22       222973  Top 50 - United Kingdom         0.352    -5.230       0.0747   \n47       253586  Top 50 - United Kingdom         0.520    -5.866       0.0543   \n45       244360  Top 50 - United Kingdom         0.442    -8.550       0.0451   \n35       214846  Top 50 - United Kingdom         0.791    -3.240       0.1100   \n\n   playlist_type  \n0      mixed_pop  \n49     mixed_pop  \n14     mixed_pop  \n22     mixed_pop  \n47     mixed_pop  \n45     mixed_pop  \n35     mixed_pop  ",
      "text/html": "<div>\n<style scoped>\n    .dataframe tbody tr th:only-of-type {\n        vertical-align: middle;\n    }\n\n    .dataframe tbody tr th {\n        vertical-align: top;\n    }\n\n    .dataframe thead th {\n        text-align: right;\n    }\n</style>\n<table border=\"1\" class=\"dataframe\">\n  <thead>\n    <tr style=\"text-align: right;\">\n      <th></th>\n      <th>track_id</th>\n      <th>track_name</th>\n      <th>artists</th>\n      <th>genre</th>\n      <th>release_year</th>\n      <th>explicit</th>\n      <th>popularity</th>\n      <th>duration_ms</th>\n      <th>playlist_name</th>\n      <th>danceability</th>\n      <th>loudness</th>\n      <th>speechiness</th>\n      <th>playlist_type</th>\n    </tr>\n  </thead>\n  <tbody>\n    <tr>\n      <th>0</th>\n      <td>75FEaRjZTKLhTrFGsfMUXR</td>\n      <td>Running Up That Hill (A Deal With God)</td>\n      <td>Kate Bush</td>\n      <td>art pop</td>\n      <td>1985</td>\n      <td>False</td>\n      <td>96</td>\n      <td>298933</td>\n      <td>Top 50 - United Kingdom</td>\n      <td>0.629</td>\n      <td>-13.123</td>\n      <td>NaN</td>\n      <td>mixed_pop</td>\n    </tr>\n    <tr>\n      <th>49</th>\n      <td>4RvWPyQ5RL0ao9LPZeSouE</td>\n      <td>Everybody Wants To Rule The World</td>\n      <td>Tears For Fears</td>\n      <td>new romantic</td>\n      <td>1985</td>\n      <td>False</td>\n      <td>86</td>\n      <td>251488</td>\n      <td>Top 50 - United Kingdom</td>\n      <td>0.645</td>\n      <td>-12.095</td>\n      <td>0.0527</td>\n      <td>mixed_pop</td>\n    </tr>\n    <tr>\n      <th>14</th>\n      <td>2MuWTIM3b0YEAskbeeFE1i</td>\n      <td>Master Of Puppets</td>\n      <td>Metallica</td>\n      <td>hard rock</td>\n      <td>1986</td>\n      <td>False</td>\n      <td>78</td>\n      <td>515386</td>\n      <td>Top 50 - United Kingdom</td>\n      <td>0.543</td>\n      <td>-9.110</td>\n      <td>0.0353</td>\n      <td>mixed_pop</td>\n    </tr>\n    <tr>\n      <th>22</th>\n      <td>003vvx7Niy0yvhvHt4a68B</td>\n      <td>Mr. Brightside</td>\n      <td>The Killers</td>\n      <td>alternative rock</td>\n      <td>2004</td>\n      <td>False</td>\n      <td>85</td>\n      <td>222973</td>\n      <td>Top 50 - United Kingdom</td>\n      <td>0.352</td>\n      <td>-5.230</td>\n      <td>0.0747</td>\n      <td>mixed_pop</td>\n    </tr>\n    <tr>\n      <th>47</th>\n      <td>58ge6dfP91o9oXMzq3XkIS</td>\n      <td>505</td>\n      <td>Arctic Monkeys</td>\n      <td>garage rock</td>\n      <td>2007</td>\n      <td>False</td>\n      <td>82</td>\n      <td>253586</td>\n      <td>Top 50 - United Kingdom</td>\n      <td>0.520</td>\n      <td>-5.866</td>\n      <td>0.0543</td>\n      <td>mixed_pop</td>\n    </tr>\n    <tr>\n      <th>45</th>\n      <td>7jtQIBanIiJOMS6RyCx6jZ</td>\n      <td>Another Love</td>\n      <td>Tom Odell</td>\n      <td>chill pop</td>\n      <td>2013</td>\n      <td>True</td>\n      <td>55</td>\n      <td>244360</td>\n      <td>Top 50 - United Kingdom</td>\n      <td>0.442</td>\n      <td>-8.550</td>\n      <td>0.0451</td>\n      <td>mixed_pop</td>\n    </tr>\n    <tr>\n      <th>35</th>\n      <td>7ef4DlsgrMEH11cDZd32M6</td>\n      <td>One Kiss (with Dua Lipa)</td>\n      <td>Calvin Harris</td>\n      <td>dance pop</td>\n      <td>2018</td>\n      <td>False</td>\n      <td>91</td>\n      <td>214846</td>\n      <td>Top 50 - United Kingdom</td>\n      <td>0.791</td>\n      <td>-3.240</td>\n      <td>0.1100</td>\n      <td>mixed_pop</td>\n    </tr>\n  </tbody>\n</table>\n</div>"
     },
     "execution_count": 114,
     "metadata": {},
     "output_type": "execute_result"
    }
   ],
   "source": [
    "# in release year order...\n",
    "\n",
    "songs_top_50[filter_pre_2020].sort_values('release_year')"
   ],
   "metadata": {
    "collapsed": false,
    "pycharm": {
     "name": "#%%\n"
    }
   }
  },
  {
   "cell_type": "code",
   "execution_count": 117,
   "outputs": [
    {
     "data": {
      "text/plain": "                  track_id                                   track_name  \\\n4   6xGruZOHLs39ZbVccQTuPZ                                Glimpse of Us   \n0   75FEaRjZTKLhTrFGsfMUXR       Running Up That Hill (A Deal With God)   \n5   1PckUlxKqWQs3RlWXVBLw3                              About Damn Time   \n9   1qEmFfgcLObUfQm0j1W2CK                           Late Night Talking   \n1   4Dvkj6JhhA12EX05fT7y2e                                    As It Was   \n10  3F5CgOj3wFlRv51JsHbxhe                Jimmy Cooks (feat. 21 Savage)   \n31  3uUuGVFu1V7jTQL60S1r8z                            Where Are You Now   \n33  0O6u0VJ46W86TxN9wgyqDj  I Like You (A Happier Song) (with Doja Cat)   \n6   02MWAaffLxlfxAUY7c5dvx                                   Heat Waves   \n12  5LYMamLv12UPbemOaTPyeV                 Music For a Sushi Restaurant   \n13  59nOXPmaKlBfGMDeOVGrIK              WAIT FOR U (feat. Drake & Tems)   \n24  3rmo8F54jFF8OgYsqTxm5d                                   Bad Habits   \n27  6uvh0In7u1Xn4HgxOfAn8O                                      Matilda   \n35  7ef4DlsgrMEH11cDZd32M6                     One Kiss (with Dua Lipa)   \n38  4ZtFanR9U6ndgddUvNcjcG                                     good 4 u   \n\n             artists             genre  release_year  explicit  popularity  \\\n4               Joji   alternative r&b          2022     False          98   \n0          Kate Bush           art pop          1985     False          96   \n5              Lizzo         dance pop          2022      True          95   \n9       Harry Styles               pop          2022     False          95   \n1       Harry Styles               pop          2022     False          94   \n10             Drake  canadian hip hop          2022      True          92   \n31  Lost Frequencies       belgian edm          2021     False          92   \n33       Post Malone           dfw rap          2022      True          92   \n6      Glass Animals         gauze pop          2020     False          91   \n12      Harry Styles               pop          2022     False          91   \n13            Future       atl hip hop          2022      True          91   \n24        Ed Sheeran               pop          2021     False          91   \n27      Harry Styles               pop          2022     False          91   \n35     Calvin Harris         dance pop          2018     False          91   \n38    Olivia Rodrigo               pop          2021      True          91   \n\n    duration_ms            playlist_name  danceability  loudness  speechiness  \\\n4        233456  Top 50 - United Kingdom         0.440    -9.258       0.0531   \n0        298933  Top 50 - United Kingdom         0.629   -13.123          NaN   \n5        191822  Top 50 - United Kingdom         0.836    -6.305       0.0656   \n9        177954  Top 50 - United Kingdom         0.714    -4.595       0.0468   \n1        167303  Top 50 - United Kingdom         0.520    -5.338       0.0557   \n10       218364  Top 50 - United Kingdom         0.529    -4.711       0.1750   \n31       148197  Top 50 - United Kingdom         0.671    -8.117       0.1030   \n33       192840  Top 50 - United Kingdom         0.733    -6.009       0.0751   \n6        238805  Top 50 - United Kingdom         0.761    -6.900       0.0944   \n12       193813  Top 50 - United Kingdom         0.720    -4.652       0.0400   \n13       189893  Top 50 - United Kingdom         0.463    -4.474       0.3400   \n24       230746  Top 50 - United Kingdom         0.807    -3.745       0.0347   \n27       245964  Top 50 - United Kingdom         0.507   -10.000       0.0400   \n35       214846  Top 50 - United Kingdom         0.791    -3.240       0.1100   \n38       178146  Top 50 - United Kingdom         0.563    -5.044       0.1540   \n\n   playlist_type  \n4      mixed_pop  \n0      mixed_pop  \n5      mixed_pop  \n9      mixed_pop  \n1      mixed_pop  \n10     mixed_pop  \n31     mixed_pop  \n33     mixed_pop  \n6      mixed_pop  \n12     mixed_pop  \n13     mixed_pop  \n24     mixed_pop  \n27     mixed_pop  \n35     mixed_pop  \n38     mixed_pop  ",
      "text/html": "<div>\n<style scoped>\n    .dataframe tbody tr th:only-of-type {\n        vertical-align: middle;\n    }\n\n    .dataframe tbody tr th {\n        vertical-align: top;\n    }\n\n    .dataframe thead th {\n        text-align: right;\n    }\n</style>\n<table border=\"1\" class=\"dataframe\">\n  <thead>\n    <tr style=\"text-align: right;\">\n      <th></th>\n      <th>track_id</th>\n      <th>track_name</th>\n      <th>artists</th>\n      <th>genre</th>\n      <th>release_year</th>\n      <th>explicit</th>\n      <th>popularity</th>\n      <th>duration_ms</th>\n      <th>playlist_name</th>\n      <th>danceability</th>\n      <th>loudness</th>\n      <th>speechiness</th>\n      <th>playlist_type</th>\n    </tr>\n  </thead>\n  <tbody>\n    <tr>\n      <th>4</th>\n      <td>6xGruZOHLs39ZbVccQTuPZ</td>\n      <td>Glimpse of Us</td>\n      <td>Joji</td>\n      <td>alternative r&amp;b</td>\n      <td>2022</td>\n      <td>False</td>\n      <td>98</td>\n      <td>233456</td>\n      <td>Top 50 - United Kingdom</td>\n      <td>0.440</td>\n      <td>-9.258</td>\n      <td>0.0531</td>\n      <td>mixed_pop</td>\n    </tr>\n    <tr>\n      <th>0</th>\n      <td>75FEaRjZTKLhTrFGsfMUXR</td>\n      <td>Running Up That Hill (A Deal With God)</td>\n      <td>Kate Bush</td>\n      <td>art pop</td>\n      <td>1985</td>\n      <td>False</td>\n      <td>96</td>\n      <td>298933</td>\n      <td>Top 50 - United Kingdom</td>\n      <td>0.629</td>\n      <td>-13.123</td>\n      <td>NaN</td>\n      <td>mixed_pop</td>\n    </tr>\n    <tr>\n      <th>5</th>\n      <td>1PckUlxKqWQs3RlWXVBLw3</td>\n      <td>About Damn Time</td>\n      <td>Lizzo</td>\n      <td>dance pop</td>\n      <td>2022</td>\n      <td>True</td>\n      <td>95</td>\n      <td>191822</td>\n      <td>Top 50 - United Kingdom</td>\n      <td>0.836</td>\n      <td>-6.305</td>\n      <td>0.0656</td>\n      <td>mixed_pop</td>\n    </tr>\n    <tr>\n      <th>9</th>\n      <td>1qEmFfgcLObUfQm0j1W2CK</td>\n      <td>Late Night Talking</td>\n      <td>Harry Styles</td>\n      <td>pop</td>\n      <td>2022</td>\n      <td>False</td>\n      <td>95</td>\n      <td>177954</td>\n      <td>Top 50 - United Kingdom</td>\n      <td>0.714</td>\n      <td>-4.595</td>\n      <td>0.0468</td>\n      <td>mixed_pop</td>\n    </tr>\n    <tr>\n      <th>1</th>\n      <td>4Dvkj6JhhA12EX05fT7y2e</td>\n      <td>As It Was</td>\n      <td>Harry Styles</td>\n      <td>pop</td>\n      <td>2022</td>\n      <td>False</td>\n      <td>94</td>\n      <td>167303</td>\n      <td>Top 50 - United Kingdom</td>\n      <td>0.520</td>\n      <td>-5.338</td>\n      <td>0.0557</td>\n      <td>mixed_pop</td>\n    </tr>\n    <tr>\n      <th>10</th>\n      <td>3F5CgOj3wFlRv51JsHbxhe</td>\n      <td>Jimmy Cooks (feat. 21 Savage)</td>\n      <td>Drake</td>\n      <td>canadian hip hop</td>\n      <td>2022</td>\n      <td>True</td>\n      <td>92</td>\n      <td>218364</td>\n      <td>Top 50 - United Kingdom</td>\n      <td>0.529</td>\n      <td>-4.711</td>\n      <td>0.1750</td>\n      <td>mixed_pop</td>\n    </tr>\n    <tr>\n      <th>31</th>\n      <td>3uUuGVFu1V7jTQL60S1r8z</td>\n      <td>Where Are You Now</td>\n      <td>Lost Frequencies</td>\n      <td>belgian edm</td>\n      <td>2021</td>\n      <td>False</td>\n      <td>92</td>\n      <td>148197</td>\n      <td>Top 50 - United Kingdom</td>\n      <td>0.671</td>\n      <td>-8.117</td>\n      <td>0.1030</td>\n      <td>mixed_pop</td>\n    </tr>\n    <tr>\n      <th>33</th>\n      <td>0O6u0VJ46W86TxN9wgyqDj</td>\n      <td>I Like You (A Happier Song) (with Doja Cat)</td>\n      <td>Post Malone</td>\n      <td>dfw rap</td>\n      <td>2022</td>\n      <td>True</td>\n      <td>92</td>\n      <td>192840</td>\n      <td>Top 50 - United Kingdom</td>\n      <td>0.733</td>\n      <td>-6.009</td>\n      <td>0.0751</td>\n      <td>mixed_pop</td>\n    </tr>\n    <tr>\n      <th>6</th>\n      <td>02MWAaffLxlfxAUY7c5dvx</td>\n      <td>Heat Waves</td>\n      <td>Glass Animals</td>\n      <td>gauze pop</td>\n      <td>2020</td>\n      <td>False</td>\n      <td>91</td>\n      <td>238805</td>\n      <td>Top 50 - United Kingdom</td>\n      <td>0.761</td>\n      <td>-6.900</td>\n      <td>0.0944</td>\n      <td>mixed_pop</td>\n    </tr>\n    <tr>\n      <th>12</th>\n      <td>5LYMamLv12UPbemOaTPyeV</td>\n      <td>Music For a Sushi Restaurant</td>\n      <td>Harry Styles</td>\n      <td>pop</td>\n      <td>2022</td>\n      <td>False</td>\n      <td>91</td>\n      <td>193813</td>\n      <td>Top 50 - United Kingdom</td>\n      <td>0.720</td>\n      <td>-4.652</td>\n      <td>0.0400</td>\n      <td>mixed_pop</td>\n    </tr>\n    <tr>\n      <th>13</th>\n      <td>59nOXPmaKlBfGMDeOVGrIK</td>\n      <td>WAIT FOR U (feat. Drake &amp; Tems)</td>\n      <td>Future</td>\n      <td>atl hip hop</td>\n      <td>2022</td>\n      <td>True</td>\n      <td>91</td>\n      <td>189893</td>\n      <td>Top 50 - United Kingdom</td>\n      <td>0.463</td>\n      <td>-4.474</td>\n      <td>0.3400</td>\n      <td>mixed_pop</td>\n    </tr>\n    <tr>\n      <th>24</th>\n      <td>3rmo8F54jFF8OgYsqTxm5d</td>\n      <td>Bad Habits</td>\n      <td>Ed Sheeran</td>\n      <td>pop</td>\n      <td>2021</td>\n      <td>False</td>\n      <td>91</td>\n      <td>230746</td>\n      <td>Top 50 - United Kingdom</td>\n      <td>0.807</td>\n      <td>-3.745</td>\n      <td>0.0347</td>\n      <td>mixed_pop</td>\n    </tr>\n    <tr>\n      <th>27</th>\n      <td>6uvh0In7u1Xn4HgxOfAn8O</td>\n      <td>Matilda</td>\n      <td>Harry Styles</td>\n      <td>pop</td>\n      <td>2022</td>\n      <td>False</td>\n      <td>91</td>\n      <td>245964</td>\n      <td>Top 50 - United Kingdom</td>\n      <td>0.507</td>\n      <td>-10.000</td>\n      <td>0.0400</td>\n      <td>mixed_pop</td>\n    </tr>\n    <tr>\n      <th>35</th>\n      <td>7ef4DlsgrMEH11cDZd32M6</td>\n      <td>One Kiss (with Dua Lipa)</td>\n      <td>Calvin Harris</td>\n      <td>dance pop</td>\n      <td>2018</td>\n      <td>False</td>\n      <td>91</td>\n      <td>214846</td>\n      <td>Top 50 - United Kingdom</td>\n      <td>0.791</td>\n      <td>-3.240</td>\n      <td>0.1100</td>\n      <td>mixed_pop</td>\n    </tr>\n    <tr>\n      <th>38</th>\n      <td>4ZtFanR9U6ndgddUvNcjcG</td>\n      <td>good 4 u</td>\n      <td>Olivia Rodrigo</td>\n      <td>pop</td>\n      <td>2021</td>\n      <td>True</td>\n      <td>91</td>\n      <td>178146</td>\n      <td>Top 50 - United Kingdom</td>\n      <td>0.563</td>\n      <td>-5.044</td>\n      <td>0.1540</td>\n      <td>mixed_pop</td>\n    </tr>\n  </tbody>\n</table>\n</div>"
     },
     "execution_count": 117,
     "metadata": {},
     "output_type": "execute_result"
    }
   ],
   "source": [
    "# by popularity.\n",
    "# the ascending keyword in .sort_values() allows us to control if lowest (default), or highest values are first.\n",
    "\n",
    "filter_most_popular = songs_top_50['popularity'] > 90\n",
    "\n",
    "songs_top_50[filter_most_popular].sort_values('popularity', ascending=False)\n"
   ],
   "metadata": {
    "collapsed": false,
    "pycharm": {
     "name": "#%%\n"
    }
   }
  },
  {
   "cell_type": "markdown",
   "source": [
    "[Click here for more information on Spotify's popularity metric.](https://hexdocs.pm/spotify_web_api/Spotify.Tracks.html#t:popularity/0)"
   ],
   "metadata": {
    "collapsed": false,
    "pycharm": {
     "name": "#%% md\n"
    }
   }
  },
  {
   "cell_type": "markdown",
   "source": [
    "We broke down the stages by...\n",
    "- First creating a seperate `songs_top_50` variable by selecting all the rows in the appropriate playlist.\n",
    "- Creating filter variables first before applying them to our new pre-filtered dataset.\n",
    "\n",
    "Pandas supports combining these stages using `&` to combine filters in a single command. However, always aim for clarity and readability above complex solutions."
   ],
   "metadata": {
    "collapsed": false,
    "pycharm": {
     "name": "#%% md\n"
    }
   }
  },
  {
   "cell_type": "code",
   "execution_count": 119,
   "outputs": [
    {
     "data": {
      "text/plain": "                  track_id                                   track_name  \\\n38  4ZtFanR9U6ndgddUvNcjcG                                     good 4 u   \n5   1PckUlxKqWQs3RlWXVBLw3                              About Damn Time   \n10  3F5CgOj3wFlRv51JsHbxhe                Jimmy Cooks (feat. 21 Savage)   \n13  59nOXPmaKlBfGMDeOVGrIK              WAIT FOR U (feat. Drake & Tems)   \n33  0O6u0VJ46W86TxN9wgyqDj  I Like You (A Happier Song) (with Doja Cat)   \n\n           artists             genre  release_year  explicit  popularity  \\\n38  Olivia Rodrigo               pop          2021      True          91   \n5            Lizzo         dance pop          2022      True          95   \n10           Drake  canadian hip hop          2022      True          92   \n13          Future       atl hip hop          2022      True          91   \n33     Post Malone           dfw rap          2022      True          92   \n\n    duration_ms            playlist_name  danceability  loudness  speechiness  \\\n38       178146  Top 50 - United Kingdom         0.563    -5.044       0.1540   \n5        191822  Top 50 - United Kingdom         0.836    -6.305       0.0656   \n10       218364  Top 50 - United Kingdom         0.529    -4.711       0.1750   \n13       189893  Top 50 - United Kingdom         0.463    -4.474       0.3400   \n33       192840  Top 50 - United Kingdom         0.733    -6.009       0.0751   \n\n   playlist_type  \n38     mixed_pop  \n5      mixed_pop  \n10     mixed_pop  \n13     mixed_pop  \n33     mixed_pop  ",
      "text/html": "<div>\n<style scoped>\n    .dataframe tbody tr th:only-of-type {\n        vertical-align: middle;\n    }\n\n    .dataframe tbody tr th {\n        vertical-align: top;\n    }\n\n    .dataframe thead th {\n        text-align: right;\n    }\n</style>\n<table border=\"1\" class=\"dataframe\">\n  <thead>\n    <tr style=\"text-align: right;\">\n      <th></th>\n      <th>track_id</th>\n      <th>track_name</th>\n      <th>artists</th>\n      <th>genre</th>\n      <th>release_year</th>\n      <th>explicit</th>\n      <th>popularity</th>\n      <th>duration_ms</th>\n      <th>playlist_name</th>\n      <th>danceability</th>\n      <th>loudness</th>\n      <th>speechiness</th>\n      <th>playlist_type</th>\n    </tr>\n  </thead>\n  <tbody>\n    <tr>\n      <th>38</th>\n      <td>4ZtFanR9U6ndgddUvNcjcG</td>\n      <td>good 4 u</td>\n      <td>Olivia Rodrigo</td>\n      <td>pop</td>\n      <td>2021</td>\n      <td>True</td>\n      <td>91</td>\n      <td>178146</td>\n      <td>Top 50 - United Kingdom</td>\n      <td>0.563</td>\n      <td>-5.044</td>\n      <td>0.1540</td>\n      <td>mixed_pop</td>\n    </tr>\n    <tr>\n      <th>5</th>\n      <td>1PckUlxKqWQs3RlWXVBLw3</td>\n      <td>About Damn Time</td>\n      <td>Lizzo</td>\n      <td>dance pop</td>\n      <td>2022</td>\n      <td>True</td>\n      <td>95</td>\n      <td>191822</td>\n      <td>Top 50 - United Kingdom</td>\n      <td>0.836</td>\n      <td>-6.305</td>\n      <td>0.0656</td>\n      <td>mixed_pop</td>\n    </tr>\n    <tr>\n      <th>10</th>\n      <td>3F5CgOj3wFlRv51JsHbxhe</td>\n      <td>Jimmy Cooks (feat. 21 Savage)</td>\n      <td>Drake</td>\n      <td>canadian hip hop</td>\n      <td>2022</td>\n      <td>True</td>\n      <td>92</td>\n      <td>218364</td>\n      <td>Top 50 - United Kingdom</td>\n      <td>0.529</td>\n      <td>-4.711</td>\n      <td>0.1750</td>\n      <td>mixed_pop</td>\n    </tr>\n    <tr>\n      <th>13</th>\n      <td>59nOXPmaKlBfGMDeOVGrIK</td>\n      <td>WAIT FOR U (feat. Drake &amp; Tems)</td>\n      <td>Future</td>\n      <td>atl hip hop</td>\n      <td>2022</td>\n      <td>True</td>\n      <td>91</td>\n      <td>189893</td>\n      <td>Top 50 - United Kingdom</td>\n      <td>0.463</td>\n      <td>-4.474</td>\n      <td>0.3400</td>\n      <td>mixed_pop</td>\n    </tr>\n    <tr>\n      <th>33</th>\n      <td>0O6u0VJ46W86TxN9wgyqDj</td>\n      <td>I Like You (A Happier Song) (with Doja Cat)</td>\n      <td>Post Malone</td>\n      <td>dfw rap</td>\n      <td>2022</td>\n      <td>True</td>\n      <td>92</td>\n      <td>192840</td>\n      <td>Top 50 - United Kingdom</td>\n      <td>0.733</td>\n      <td>-6.009</td>\n      <td>0.0751</td>\n      <td>mixed_pop</td>\n    </tr>\n  </tbody>\n</table>\n</div>"
     },
     "execution_count": 119,
     "metadata": {},
     "output_type": "execute_result"
    }
   ],
   "source": [
    "# Explicit Top 50 playlist songs with a popularity over 90, sorted by release year\n",
    "\n",
    "songs_df[\n",
    "    (songs_df['playlist_name'] == 'Top 50 - United Kingdom') &\n",
    "    (songs_df['explicit'] == True) &\n",
    "    (songs_df['popularity'] > 90)\n",
    "].sort_values('release_year')"
   ],
   "metadata": {
    "collapsed": false,
    "pycharm": {
     "name": "#%%\n"
    }
   }
  },
  {
   "cell_type": "markdown",
   "source": [
    "## Exercise\n",
    "Which song on Spotify's playlist 'All Out 50s' is the most popular song amongst Spotify listeners today?\n",
    "\n",
    "1. Filter `songs_df` to only include tracks on the playlist `All Out 50s`.\n",
    "2. Sort the filtered dataset by popularity, so that the most popular song is at the top."
   ],
   "metadata": {
    "collapsed": false,
    "pycharm": {
     "name": "#%% md\n"
    }
   }
  },
  {
   "cell_type": "code",
   "execution_count": 131,
   "outputs": [
    {
     "data": {
      "text/plain": "                   track_id  \\\n0    75FEaRjZTKLhTrFGsfMUXR   \n455  75FEaRjZTKLhTrFGsfMUXR   \n135  29d0nY7TzCoi22XBqDQkiP   \n51   75FEaRjZTKLhTrFGsfMUXR   \n787  75FEaRjZTKLhTrFGsfMUXR   \n413  7ef4DlsgrMEH11cDZd32M6   \n35   7ef4DlsgrMEH11cDZd32M6   \n6    02MWAaffLxlfxAUY7c5dvx   \n163  58HvfVOeJY7lUuCqF0m3ly   \n160  0T5iIrXA4p5GsubkhuBIKV   \n365  4ZtFanR9U6ndgddUvNcjcG   \n24   3rmo8F54jFF8OgYsqTxm5d   \n31   3uUuGVFu1V7jTQL60S1r8z   \n166  5HCyWlXZPP0y6Gqq8TgA20   \n38   4ZtFanR9U6ndgddUvNcjcG   \n147  6Uj1ctrBOjOas8xZXGqKk4   \n120  0T5iIrXA4p5GsubkhuBIKV   \n152  3uUuGVFu1V7jTQL60S1r8z   \n144  0QBzMgT7NIeoCYy3sJCof1   \n148  3k3NWokhRRkEPhCzPmV8TW   \n149  3F5CgOj3wFlRv51JsHbxhe   \n9    1qEmFfgcLObUfQm0j1W2CK   \n154  59nOXPmaKlBfGMDeOVGrIK   \n157  2rurDawMfoKP4uHyb2kJBt   \n141  1qEmFfgcLObUfQm0j1W2CK   \n162  10SRMwb9EuVS1K9rYsBfHQ   \n355  4LRPiXqCikLlN15c3yImP7   \n1    4Dvkj6JhhA12EX05fT7y2e   \n153  7dSZ6zGTQx66c2GF91xCrb   \n138  1rDQ4oMwGJI7B4tovsBOxc   \n133  6xGruZOHLs39ZbVccQTuPZ   \n4    6xGruZOHLs39ZbVccQTuPZ   \n10   3F5CgOj3wFlRv51JsHbxhe   \n12   5LYMamLv12UPbemOaTPyeV   \n13   59nOXPmaKlBfGMDeOVGrIK   \n27   6uvh0In7u1Xn4HgxOfAn8O   \n33   0O6u0VJ46W86TxN9wgyqDj   \n5    1PckUlxKqWQs3RlWXVBLw3   \n52   1qEmFfgcLObUfQm0j1W2CK   \n62   1PckUlxKqWQs3RlWXVBLw3   \n67   0O6u0VJ46W86TxN9wgyqDj   \n69   0mBP9X2gPCuapvpZ7TGDk3   \n75   10SRMwb9EuVS1K9rYsBfHQ   \n85   6xGruZOHLs39ZbVccQTuPZ   \n96   4LRPiXqCikLlN15c3yImP7   \n130  4LRPiXqCikLlN15c3yImP7   \n456  4LRPiXqCikLlN15c3yImP7   \n132  1PckUlxKqWQs3RlWXVBLw3   \n134  0O6u0VJ46W86TxN9wgyqDj   \n137  6Sq7ltF9Qa7SNFBsV5Cogx   \n131  0mBP9X2gPCuapvpZ7TGDk3   \n\n                                            track_name           artists  \\\n0               Running Up That Hill (A Deal With God)         Kate Bush   \n455             Running Up That Hill (A Deal With God)         Kate Bush   \n135  Running Up That Hill (A Deal With God) - 2018 ...         Kate Bush   \n51              Running Up That Hill (A Deal With God)         Kate Bush   \n787             Running Up That Hill (A Deal With God)         Kate Bush   \n413                           One Kiss (with Dua Lipa)     Calvin Harris   \n35                            One Kiss (with Dua Lipa)     Calvin Harris   \n6                                           Heat Waves     Glass Animals   \n163                                MIDDLE OF THE NIGHT        Elley Duhé   \n160                                  Until I Found You   Stephen Sanchez   \n365                                           good 4 u    Olivia Rodrigo   \n24                                          Bad Habits        Ed Sheeran   \n31                                   Where Are You Now  Lost Frequencies   \n166                          STAY (with Justin Bieber)     The Kid LAROI   \n38                                            good 4 u    Olivia Rodrigo   \n147                                              Woman          Doja Cat   \n120                                  Until I Found You   Stephen Sanchez   \n152                                  Where Are You Now  Lost Frequencies   \n144                         Bam Bam (feat. Ed Sheeran)    Camila Cabello   \n148                                      Ojitos Lindos         Bad Bunny   \n149                      Jimmy Cooks (feat. 21 Savage)             Drake   \n9                                   Late Night Talking      Harry Styles   \n154                    WAIT FOR U (feat. Drake & Tems)            Future   \n157                                        Te Felicito           Shakira   \n141                                 Late Night Talking      Harry Styles   \n162                                        Yet To Come               BTS   \n355                                          As It Was      Harry Styles   \n1                                            As It Was      Harry Styles   \n153                                           PROVENZA           KAROL G   \n138                                        First Class       Jack Harlow   \n133                                      Glimpse of Us              Joji   \n4                                        Glimpse of Us              Joji   \n10                       Jimmy Cooks (feat. 21 Savage)             Drake   \n12                        Music For a Sushi Restaurant      Harry Styles   \n13                     WAIT FOR U (feat. Drake & Tems)            Future   \n27                                             Matilda      Harry Styles   \n33         I Like You (A Happier Song) (with Doja Cat)       Post Malone   \n5                                      About Damn Time             Lizzo   \n52                                  Late Night Talking      Harry Styles   \n62                                     About Damn Time             Lizzo   \n67         I Like You (A Happier Song) (with Doja Cat)       Post Malone   \n69             Left and Right (Feat. Jung Kook of BTS)      Charlie Puth   \n75                                         Yet To Come               BTS   \n85                                       Glimpse of Us              Joji   \n96                                           As It Was      Harry Styles   \n130                                          As It Was      Harry Styles   \n456                                          As It Was      Harry Styles   \n132                                    About Damn Time             Lizzo   \n134        I Like You (A Happier Song) (with Doja Cat)       Post Malone   \n137                                    Me Porto Bonito         Bad Bunny   \n131            Left and Right (Feat. Jung Kook of BTS)      Charlie Puth   \n\n                        genre  release_year  explicit  popularity  \\\n0                     art pop          1985     False          96   \n455                   art pop          1985     False          96   \n135                   art pop          1985     False          92   \n51                    art pop          1985     False          96   \n787                   art pop          1985     False          96   \n413                 dance pop          2018     False          91   \n35                  dance pop          2018     False          91   \n6                   gauze pop          2020     False          91   \n163                     alt z          2020     False          93   \n160   gen z singer-songwriter          2021     False          91   \n365                       pop          2021      True          91   \n24                        pop          2021     False          91   \n31                belgian edm          2021     False          92   \n166        australian hip hop          2021      True          91   \n38                        pop          2021      True          91   \n147                 dance pop          2021      True          92   \n120   gen z singer-songwriter          2021     False          91   \n152               belgian edm          2021     False          92   \n144                 dance pop          2022     False          91   \n148                     latin          2022     False          98   \n149          canadian hip hop          2022      True          92   \n9                         pop          2022     False          95   \n154               atl hip hop          2022      True          91   \n157             colombian pop          2022     False          94   \n141                       pop          2022     False          95   \n162                     k-pop          2022     False          93   \n355                       pop          2022     False          99   \n1                         pop          2022     False          94   \n153                     latin          2022     False          96   \n138  deep underground hip hop          2022      True          93   \n133           alternative r&b          2022     False          98   \n4             alternative r&b          2022     False          98   \n10           canadian hip hop          2022      True          92   \n12                        pop          2022     False          91   \n13                atl hip hop          2022      True          91   \n27                        pop          2022     False          91   \n33                    dfw rap          2022      True          92   \n5                   dance pop          2022      True          95   \n52                        pop          2022     False          95   \n62                  dance pop          2022      True          95   \n67                    dfw rap          2022      True          92   \n69                  dance pop          2022     False          92   \n75                      k-pop          2022     False          93   \n85            alternative r&b          2022     False          98   \n96                        pop          2022     False          99   \n130                       pop          2022     False          99   \n456                       pop          2022     False          99   \n132                 dance pop          2022      True          95   \n134                   dfw rap          2022      True          92   \n137                     latin          2022      True         100   \n131                 dance pop          2022     False          92   \n\n     duration_ms                    playlist_name  danceability  loudness  \\\n0         298933          Top 50 - United Kingdom         0.629   -13.123   \n455       298933        Every UK Number One: 2022         0.629   -13.123   \n135       300840                 Today's Top Hits         0.625   -11.903   \n51        298933                     The Pop List         0.629   -13.123   \n787       298933                      All Out 80s         0.629   -13.123   \n413       214846  Every Official UK Number 1 Ever         0.791    -3.240   \n35        214846          Top 50 - United Kingdom         0.791    -3.240   \n6         238805          Top 50 - United Kingdom         0.761    -6.900   \n163       184447                 Today's Top Hits         0.410    -8.271   \n160       177720                 Today's Top Hits         0.539    -6.050   \n365       178146  Every Official UK Number 1 Ever         0.563    -5.044   \n24        230746          Top 50 - United Kingdom         0.807    -3.745   \n31        148197          Top 50 - United Kingdom         0.671    -8.117   \n166       141805                 Today's Top Hits         0.591    -5.484   \n38        178146          Top 50 - United Kingdom         0.563    -5.044   \n147       172626                 Today's Top Hits         0.824    -4.175   \n120       177720                     The Pop List         0.539    -6.050   \n152       148197                 Today's Top Hits         0.671    -8.117   \n144       206070                 Today's Top Hits         0.756    -6.377   \n148       258298                 Today's Top Hits         0.647    -5.745   \n149       218364                 Today's Top Hits         0.529    -4.711   \n9         177954          Top 50 - United Kingdom         0.714    -4.595   \n154       189893                 Today's Top Hits         0.463    -4.474   \n157       172235                 Today's Top Hits         0.695    -4.654   \n141       177954                 Today's Top Hits         0.714    -4.595   \n162       193593                 Today's Top Hits         0.559    -4.515   \n355       167303  Every Official UK Number 1 Ever         0.520    -5.338   \n1         167303          Top 50 - United Kingdom         0.520    -5.338   \n153       210200                 Today's Top Hits         0.870    -8.006   \n138       173947                 Today's Top Hits         0.905    -6.135   \n133       233456                 Today's Top Hits         0.440    -9.258   \n4         233456          Top 50 - United Kingdom         0.440    -9.258   \n10        218364          Top 50 - United Kingdom         0.529    -4.711   \n12        193813          Top 50 - United Kingdom         0.720    -4.652   \n13        189893          Top 50 - United Kingdom         0.463    -4.474   \n27        245964          Top 50 - United Kingdom         0.507   -10.000   \n33        192840          Top 50 - United Kingdom         0.733    -6.009   \n5         191822          Top 50 - United Kingdom         0.836    -6.305   \n52        177954                     The Pop List         0.714    -4.595   \n62        191822                     The Pop List         0.836    -6.305   \n67        192840                     The Pop List         0.733    -6.009   \n69        154486                     The Pop List         0.881    -4.898   \n75        193593                     The Pop List         0.559    -4.515   \n85        233456                     The Pop List         0.440    -9.258   \n96        167303                     The Pop List         0.520    -5.338   \n130       167303                 Today's Top Hits         0.520    -5.338   \n456       167303        Every UK Number One: 2022         0.520    -5.338   \n132       191822                 Today's Top Hits         0.836    -6.305   \n134       192840                 Today's Top Hits         0.733    -6.009   \n137       178567                 Today's Top Hits         0.911    -5.105   \n131       154486                 Today's Top Hits         0.881    -4.898   \n\n     speechiness    playlist_type  \n0            NaN        mixed_pop  \n455       0.0550           uk_no1  \n135       0.0596        mixed_pop  \n51        0.0550        mixed_pop  \n787       0.0550  all_out_decades  \n413       0.1100           uk_no1  \n35        0.1100        mixed_pop  \n6         0.0944        mixed_pop  \n163       0.0467        mixed_pop  \n160       0.0288        mixed_pop  \n365       0.1540           uk_no1  \n24        0.0347        mixed_pop  \n31        0.1030        mixed_pop  \n166       0.0483        mixed_pop  \n38        0.1540        mixed_pop  \n147       0.0854        mixed_pop  \n120       0.0288        mixed_pop  \n152       0.1030        mixed_pop  \n144       0.0401        mixed_pop  \n148       0.0413        mixed_pop  \n149       0.1750        mixed_pop  \n9         0.0468        mixed_pop  \n154       0.3400        mixed_pop  \n157       0.3170        mixed_pop  \n141       0.0468        mixed_pop  \n162       0.1890        mixed_pop  \n355       0.0557           uk_no1  \n1         0.0557        mixed_pop  \n153       0.0541        mixed_pop  \n138       0.1020        mixed_pop  \n133       0.0531        mixed_pop  \n4         0.0531        mixed_pop  \n10        0.1750        mixed_pop  \n12        0.0400        mixed_pop  \n13        0.3400        mixed_pop  \n27        0.0400        mixed_pop  \n33        0.0751        mixed_pop  \n5         0.0656        mixed_pop  \n52        0.0468        mixed_pop  \n62        0.0656        mixed_pop  \n67        0.0751        mixed_pop  \n69        0.0324        mixed_pop  \n75        0.1890        mixed_pop  \n85        0.0531        mixed_pop  \n96        0.0557        mixed_pop  \n130       0.0557        mixed_pop  \n456       0.0557           uk_no1  \n132       0.0656        mixed_pop  \n134       0.0751        mixed_pop  \n137       0.0817        mixed_pop  \n131       0.0324        mixed_pop  ",
      "text/html": "<div>\n<style scoped>\n    .dataframe tbody tr th:only-of-type {\n        vertical-align: middle;\n    }\n\n    .dataframe tbody tr th {\n        vertical-align: top;\n    }\n\n    .dataframe thead th {\n        text-align: right;\n    }\n</style>\n<table border=\"1\" class=\"dataframe\">\n  <thead>\n    <tr style=\"text-align: right;\">\n      <th></th>\n      <th>track_id</th>\n      <th>track_name</th>\n      <th>artists</th>\n      <th>genre</th>\n      <th>release_year</th>\n      <th>explicit</th>\n      <th>popularity</th>\n      <th>duration_ms</th>\n      <th>playlist_name</th>\n      <th>danceability</th>\n      <th>loudness</th>\n      <th>speechiness</th>\n      <th>playlist_type</th>\n    </tr>\n  </thead>\n  <tbody>\n    <tr>\n      <th>0</th>\n      <td>75FEaRjZTKLhTrFGsfMUXR</td>\n      <td>Running Up That Hill (A Deal With God)</td>\n      <td>Kate Bush</td>\n      <td>art pop</td>\n      <td>1985</td>\n      <td>False</td>\n      <td>96</td>\n      <td>298933</td>\n      <td>Top 50 - United Kingdom</td>\n      <td>0.629</td>\n      <td>-13.123</td>\n      <td>NaN</td>\n      <td>mixed_pop</td>\n    </tr>\n    <tr>\n      <th>455</th>\n      <td>75FEaRjZTKLhTrFGsfMUXR</td>\n      <td>Running Up That Hill (A Deal With God)</td>\n      <td>Kate Bush</td>\n      <td>art pop</td>\n      <td>1985</td>\n      <td>False</td>\n      <td>96</td>\n      <td>298933</td>\n      <td>Every UK Number One: 2022</td>\n      <td>0.629</td>\n      <td>-13.123</td>\n      <td>0.0550</td>\n      <td>uk_no1</td>\n    </tr>\n    <tr>\n      <th>135</th>\n      <td>29d0nY7TzCoi22XBqDQkiP</td>\n      <td>Running Up That Hill (A Deal With God) - 2018 ...</td>\n      <td>Kate Bush</td>\n      <td>art pop</td>\n      <td>1985</td>\n      <td>False</td>\n      <td>92</td>\n      <td>300840</td>\n      <td>Today's Top Hits</td>\n      <td>0.625</td>\n      <td>-11.903</td>\n      <td>0.0596</td>\n      <td>mixed_pop</td>\n    </tr>\n    <tr>\n      <th>51</th>\n      <td>75FEaRjZTKLhTrFGsfMUXR</td>\n      <td>Running Up That Hill (A Deal With God)</td>\n      <td>Kate Bush</td>\n      <td>art pop</td>\n      <td>1985</td>\n      <td>False</td>\n      <td>96</td>\n      <td>298933</td>\n      <td>The Pop List</td>\n      <td>0.629</td>\n      <td>-13.123</td>\n      <td>0.0550</td>\n      <td>mixed_pop</td>\n    </tr>\n    <tr>\n      <th>787</th>\n      <td>75FEaRjZTKLhTrFGsfMUXR</td>\n      <td>Running Up That Hill (A Deal With God)</td>\n      <td>Kate Bush</td>\n      <td>art pop</td>\n      <td>1985</td>\n      <td>False</td>\n      <td>96</td>\n      <td>298933</td>\n      <td>All Out 80s</td>\n      <td>0.629</td>\n      <td>-13.123</td>\n      <td>0.0550</td>\n      <td>all_out_decades</td>\n    </tr>\n    <tr>\n      <th>413</th>\n      <td>7ef4DlsgrMEH11cDZd32M6</td>\n      <td>One Kiss (with Dua Lipa)</td>\n      <td>Calvin Harris</td>\n      <td>dance pop</td>\n      <td>2018</td>\n      <td>False</td>\n      <td>91</td>\n      <td>214846</td>\n      <td>Every Official UK Number 1 Ever</td>\n      <td>0.791</td>\n      <td>-3.240</td>\n      <td>0.1100</td>\n      <td>uk_no1</td>\n    </tr>\n    <tr>\n      <th>35</th>\n      <td>7ef4DlsgrMEH11cDZd32M6</td>\n      <td>One Kiss (with Dua Lipa)</td>\n      <td>Calvin Harris</td>\n      <td>dance pop</td>\n      <td>2018</td>\n      <td>False</td>\n      <td>91</td>\n      <td>214846</td>\n      <td>Top 50 - United Kingdom</td>\n      <td>0.791</td>\n      <td>-3.240</td>\n      <td>0.1100</td>\n      <td>mixed_pop</td>\n    </tr>\n    <tr>\n      <th>6</th>\n      <td>02MWAaffLxlfxAUY7c5dvx</td>\n      <td>Heat Waves</td>\n      <td>Glass Animals</td>\n      <td>gauze pop</td>\n      <td>2020</td>\n      <td>False</td>\n      <td>91</td>\n      <td>238805</td>\n      <td>Top 50 - United Kingdom</td>\n      <td>0.761</td>\n      <td>-6.900</td>\n      <td>0.0944</td>\n      <td>mixed_pop</td>\n    </tr>\n    <tr>\n      <th>163</th>\n      <td>58HvfVOeJY7lUuCqF0m3ly</td>\n      <td>MIDDLE OF THE NIGHT</td>\n      <td>Elley Duhé</td>\n      <td>alt z</td>\n      <td>2020</td>\n      <td>False</td>\n      <td>93</td>\n      <td>184447</td>\n      <td>Today's Top Hits</td>\n      <td>0.410</td>\n      <td>-8.271</td>\n      <td>0.0467</td>\n      <td>mixed_pop</td>\n    </tr>\n    <tr>\n      <th>160</th>\n      <td>0T5iIrXA4p5GsubkhuBIKV</td>\n      <td>Until I Found You</td>\n      <td>Stephen Sanchez</td>\n      <td>gen z singer-songwriter</td>\n      <td>2021</td>\n      <td>False</td>\n      <td>91</td>\n      <td>177720</td>\n      <td>Today's Top Hits</td>\n      <td>0.539</td>\n      <td>-6.050</td>\n      <td>0.0288</td>\n      <td>mixed_pop</td>\n    </tr>\n    <tr>\n      <th>365</th>\n      <td>4ZtFanR9U6ndgddUvNcjcG</td>\n      <td>good 4 u</td>\n      <td>Olivia Rodrigo</td>\n      <td>pop</td>\n      <td>2021</td>\n      <td>True</td>\n      <td>91</td>\n      <td>178146</td>\n      <td>Every Official UK Number 1 Ever</td>\n      <td>0.563</td>\n      <td>-5.044</td>\n      <td>0.1540</td>\n      <td>uk_no1</td>\n    </tr>\n    <tr>\n      <th>24</th>\n      <td>3rmo8F54jFF8OgYsqTxm5d</td>\n      <td>Bad Habits</td>\n      <td>Ed Sheeran</td>\n      <td>pop</td>\n      <td>2021</td>\n      <td>False</td>\n      <td>91</td>\n      <td>230746</td>\n      <td>Top 50 - United Kingdom</td>\n      <td>0.807</td>\n      <td>-3.745</td>\n      <td>0.0347</td>\n      <td>mixed_pop</td>\n    </tr>\n    <tr>\n      <th>31</th>\n      <td>3uUuGVFu1V7jTQL60S1r8z</td>\n      <td>Where Are You Now</td>\n      <td>Lost Frequencies</td>\n      <td>belgian edm</td>\n      <td>2021</td>\n      <td>False</td>\n      <td>92</td>\n      <td>148197</td>\n      <td>Top 50 - United Kingdom</td>\n      <td>0.671</td>\n      <td>-8.117</td>\n      <td>0.1030</td>\n      <td>mixed_pop</td>\n    </tr>\n    <tr>\n      <th>166</th>\n      <td>5HCyWlXZPP0y6Gqq8TgA20</td>\n      <td>STAY (with Justin Bieber)</td>\n      <td>The Kid LAROI</td>\n      <td>australian hip hop</td>\n      <td>2021</td>\n      <td>True</td>\n      <td>91</td>\n      <td>141805</td>\n      <td>Today's Top Hits</td>\n      <td>0.591</td>\n      <td>-5.484</td>\n      <td>0.0483</td>\n      <td>mixed_pop</td>\n    </tr>\n    <tr>\n      <th>38</th>\n      <td>4ZtFanR9U6ndgddUvNcjcG</td>\n      <td>good 4 u</td>\n      <td>Olivia Rodrigo</td>\n      <td>pop</td>\n      <td>2021</td>\n      <td>True</td>\n      <td>91</td>\n      <td>178146</td>\n      <td>Top 50 - United Kingdom</td>\n      <td>0.563</td>\n      <td>-5.044</td>\n      <td>0.1540</td>\n      <td>mixed_pop</td>\n    </tr>\n    <tr>\n      <th>147</th>\n      <td>6Uj1ctrBOjOas8xZXGqKk4</td>\n      <td>Woman</td>\n      <td>Doja Cat</td>\n      <td>dance pop</td>\n      <td>2021</td>\n      <td>True</td>\n      <td>92</td>\n      <td>172626</td>\n      <td>Today's Top Hits</td>\n      <td>0.824</td>\n      <td>-4.175</td>\n      <td>0.0854</td>\n      <td>mixed_pop</td>\n    </tr>\n    <tr>\n      <th>120</th>\n      <td>0T5iIrXA4p5GsubkhuBIKV</td>\n      <td>Until I Found You</td>\n      <td>Stephen Sanchez</td>\n      <td>gen z singer-songwriter</td>\n      <td>2021</td>\n      <td>False</td>\n      <td>91</td>\n      <td>177720</td>\n      <td>The Pop List</td>\n      <td>0.539</td>\n      <td>-6.050</td>\n      <td>0.0288</td>\n      <td>mixed_pop</td>\n    </tr>\n    <tr>\n      <th>152</th>\n      <td>3uUuGVFu1V7jTQL60S1r8z</td>\n      <td>Where Are You Now</td>\n      <td>Lost Frequencies</td>\n      <td>belgian edm</td>\n      <td>2021</td>\n      <td>False</td>\n      <td>92</td>\n      <td>148197</td>\n      <td>Today's Top Hits</td>\n      <td>0.671</td>\n      <td>-8.117</td>\n      <td>0.1030</td>\n      <td>mixed_pop</td>\n    </tr>\n    <tr>\n      <th>144</th>\n      <td>0QBzMgT7NIeoCYy3sJCof1</td>\n      <td>Bam Bam (feat. Ed Sheeran)</td>\n      <td>Camila Cabello</td>\n      <td>dance pop</td>\n      <td>2022</td>\n      <td>False</td>\n      <td>91</td>\n      <td>206070</td>\n      <td>Today's Top Hits</td>\n      <td>0.756</td>\n      <td>-6.377</td>\n      <td>0.0401</td>\n      <td>mixed_pop</td>\n    </tr>\n    <tr>\n      <th>148</th>\n      <td>3k3NWokhRRkEPhCzPmV8TW</td>\n      <td>Ojitos Lindos</td>\n      <td>Bad Bunny</td>\n      <td>latin</td>\n      <td>2022</td>\n      <td>False</td>\n      <td>98</td>\n      <td>258298</td>\n      <td>Today's Top Hits</td>\n      <td>0.647</td>\n      <td>-5.745</td>\n      <td>0.0413</td>\n      <td>mixed_pop</td>\n    </tr>\n    <tr>\n      <th>149</th>\n      <td>3F5CgOj3wFlRv51JsHbxhe</td>\n      <td>Jimmy Cooks (feat. 21 Savage)</td>\n      <td>Drake</td>\n      <td>canadian hip hop</td>\n      <td>2022</td>\n      <td>True</td>\n      <td>92</td>\n      <td>218364</td>\n      <td>Today's Top Hits</td>\n      <td>0.529</td>\n      <td>-4.711</td>\n      <td>0.1750</td>\n      <td>mixed_pop</td>\n    </tr>\n    <tr>\n      <th>9</th>\n      <td>1qEmFfgcLObUfQm0j1W2CK</td>\n      <td>Late Night Talking</td>\n      <td>Harry Styles</td>\n      <td>pop</td>\n      <td>2022</td>\n      <td>False</td>\n      <td>95</td>\n      <td>177954</td>\n      <td>Top 50 - United Kingdom</td>\n      <td>0.714</td>\n      <td>-4.595</td>\n      <td>0.0468</td>\n      <td>mixed_pop</td>\n    </tr>\n    <tr>\n      <th>154</th>\n      <td>59nOXPmaKlBfGMDeOVGrIK</td>\n      <td>WAIT FOR U (feat. Drake &amp; Tems)</td>\n      <td>Future</td>\n      <td>atl hip hop</td>\n      <td>2022</td>\n      <td>True</td>\n      <td>91</td>\n      <td>189893</td>\n      <td>Today's Top Hits</td>\n      <td>0.463</td>\n      <td>-4.474</td>\n      <td>0.3400</td>\n      <td>mixed_pop</td>\n    </tr>\n    <tr>\n      <th>157</th>\n      <td>2rurDawMfoKP4uHyb2kJBt</td>\n      <td>Te Felicito</td>\n      <td>Shakira</td>\n      <td>colombian pop</td>\n      <td>2022</td>\n      <td>False</td>\n      <td>94</td>\n      <td>172235</td>\n      <td>Today's Top Hits</td>\n      <td>0.695</td>\n      <td>-4.654</td>\n      <td>0.3170</td>\n      <td>mixed_pop</td>\n    </tr>\n    <tr>\n      <th>141</th>\n      <td>1qEmFfgcLObUfQm0j1W2CK</td>\n      <td>Late Night Talking</td>\n      <td>Harry Styles</td>\n      <td>pop</td>\n      <td>2022</td>\n      <td>False</td>\n      <td>95</td>\n      <td>177954</td>\n      <td>Today's Top Hits</td>\n      <td>0.714</td>\n      <td>-4.595</td>\n      <td>0.0468</td>\n      <td>mixed_pop</td>\n    </tr>\n    <tr>\n      <th>162</th>\n      <td>10SRMwb9EuVS1K9rYsBfHQ</td>\n      <td>Yet To Come</td>\n      <td>BTS</td>\n      <td>k-pop</td>\n      <td>2022</td>\n      <td>False</td>\n      <td>93</td>\n      <td>193593</td>\n      <td>Today's Top Hits</td>\n      <td>0.559</td>\n      <td>-4.515</td>\n      <td>0.1890</td>\n      <td>mixed_pop</td>\n    </tr>\n    <tr>\n      <th>355</th>\n      <td>4LRPiXqCikLlN15c3yImP7</td>\n      <td>As It Was</td>\n      <td>Harry Styles</td>\n      <td>pop</td>\n      <td>2022</td>\n      <td>False</td>\n      <td>99</td>\n      <td>167303</td>\n      <td>Every Official UK Number 1 Ever</td>\n      <td>0.520</td>\n      <td>-5.338</td>\n      <td>0.0557</td>\n      <td>uk_no1</td>\n    </tr>\n    <tr>\n      <th>1</th>\n      <td>4Dvkj6JhhA12EX05fT7y2e</td>\n      <td>As It Was</td>\n      <td>Harry Styles</td>\n      <td>pop</td>\n      <td>2022</td>\n      <td>False</td>\n      <td>94</td>\n      <td>167303</td>\n      <td>Top 50 - United Kingdom</td>\n      <td>0.520</td>\n      <td>-5.338</td>\n      <td>0.0557</td>\n      <td>mixed_pop</td>\n    </tr>\n    <tr>\n      <th>153</th>\n      <td>7dSZ6zGTQx66c2GF91xCrb</td>\n      <td>PROVENZA</td>\n      <td>KAROL G</td>\n      <td>latin</td>\n      <td>2022</td>\n      <td>False</td>\n      <td>96</td>\n      <td>210200</td>\n      <td>Today's Top Hits</td>\n      <td>0.870</td>\n      <td>-8.006</td>\n      <td>0.0541</td>\n      <td>mixed_pop</td>\n    </tr>\n    <tr>\n      <th>138</th>\n      <td>1rDQ4oMwGJI7B4tovsBOxc</td>\n      <td>First Class</td>\n      <td>Jack Harlow</td>\n      <td>deep underground hip hop</td>\n      <td>2022</td>\n      <td>True</td>\n      <td>93</td>\n      <td>173947</td>\n      <td>Today's Top Hits</td>\n      <td>0.905</td>\n      <td>-6.135</td>\n      <td>0.1020</td>\n      <td>mixed_pop</td>\n    </tr>\n    <tr>\n      <th>133</th>\n      <td>6xGruZOHLs39ZbVccQTuPZ</td>\n      <td>Glimpse of Us</td>\n      <td>Joji</td>\n      <td>alternative r&amp;b</td>\n      <td>2022</td>\n      <td>False</td>\n      <td>98</td>\n      <td>233456</td>\n      <td>Today's Top Hits</td>\n      <td>0.440</td>\n      <td>-9.258</td>\n      <td>0.0531</td>\n      <td>mixed_pop</td>\n    </tr>\n    <tr>\n      <th>4</th>\n      <td>6xGruZOHLs39ZbVccQTuPZ</td>\n      <td>Glimpse of Us</td>\n      <td>Joji</td>\n      <td>alternative r&amp;b</td>\n      <td>2022</td>\n      <td>False</td>\n      <td>98</td>\n      <td>233456</td>\n      <td>Top 50 - United Kingdom</td>\n      <td>0.440</td>\n      <td>-9.258</td>\n      <td>0.0531</td>\n      <td>mixed_pop</td>\n    </tr>\n    <tr>\n      <th>10</th>\n      <td>3F5CgOj3wFlRv51JsHbxhe</td>\n      <td>Jimmy Cooks (feat. 21 Savage)</td>\n      <td>Drake</td>\n      <td>canadian hip hop</td>\n      <td>2022</td>\n      <td>True</td>\n      <td>92</td>\n      <td>218364</td>\n      <td>Top 50 - United Kingdom</td>\n      <td>0.529</td>\n      <td>-4.711</td>\n      <td>0.1750</td>\n      <td>mixed_pop</td>\n    </tr>\n    <tr>\n      <th>12</th>\n      <td>5LYMamLv12UPbemOaTPyeV</td>\n      <td>Music For a Sushi Restaurant</td>\n      <td>Harry Styles</td>\n      <td>pop</td>\n      <td>2022</td>\n      <td>False</td>\n      <td>91</td>\n      <td>193813</td>\n      <td>Top 50 - United Kingdom</td>\n      <td>0.720</td>\n      <td>-4.652</td>\n      <td>0.0400</td>\n      <td>mixed_pop</td>\n    </tr>\n    <tr>\n      <th>13</th>\n      <td>59nOXPmaKlBfGMDeOVGrIK</td>\n      <td>WAIT FOR U (feat. Drake &amp; Tems)</td>\n      <td>Future</td>\n      <td>atl hip hop</td>\n      <td>2022</td>\n      <td>True</td>\n      <td>91</td>\n      <td>189893</td>\n      <td>Top 50 - United Kingdom</td>\n      <td>0.463</td>\n      <td>-4.474</td>\n      <td>0.3400</td>\n      <td>mixed_pop</td>\n    </tr>\n    <tr>\n      <th>27</th>\n      <td>6uvh0In7u1Xn4HgxOfAn8O</td>\n      <td>Matilda</td>\n      <td>Harry Styles</td>\n      <td>pop</td>\n      <td>2022</td>\n      <td>False</td>\n      <td>91</td>\n      <td>245964</td>\n      <td>Top 50 - United Kingdom</td>\n      <td>0.507</td>\n      <td>-10.000</td>\n      <td>0.0400</td>\n      <td>mixed_pop</td>\n    </tr>\n    <tr>\n      <th>33</th>\n      <td>0O6u0VJ46W86TxN9wgyqDj</td>\n      <td>I Like You (A Happier Song) (with Doja Cat)</td>\n      <td>Post Malone</td>\n      <td>dfw rap</td>\n      <td>2022</td>\n      <td>True</td>\n      <td>92</td>\n      <td>192840</td>\n      <td>Top 50 - United Kingdom</td>\n      <td>0.733</td>\n      <td>-6.009</td>\n      <td>0.0751</td>\n      <td>mixed_pop</td>\n    </tr>\n    <tr>\n      <th>5</th>\n      <td>1PckUlxKqWQs3RlWXVBLw3</td>\n      <td>About Damn Time</td>\n      <td>Lizzo</td>\n      <td>dance pop</td>\n      <td>2022</td>\n      <td>True</td>\n      <td>95</td>\n      <td>191822</td>\n      <td>Top 50 - United Kingdom</td>\n      <td>0.836</td>\n      <td>-6.305</td>\n      <td>0.0656</td>\n      <td>mixed_pop</td>\n    </tr>\n    <tr>\n      <th>52</th>\n      <td>1qEmFfgcLObUfQm0j1W2CK</td>\n      <td>Late Night Talking</td>\n      <td>Harry Styles</td>\n      <td>pop</td>\n      <td>2022</td>\n      <td>False</td>\n      <td>95</td>\n      <td>177954</td>\n      <td>The Pop List</td>\n      <td>0.714</td>\n      <td>-4.595</td>\n      <td>0.0468</td>\n      <td>mixed_pop</td>\n    </tr>\n    <tr>\n      <th>62</th>\n      <td>1PckUlxKqWQs3RlWXVBLw3</td>\n      <td>About Damn Time</td>\n      <td>Lizzo</td>\n      <td>dance pop</td>\n      <td>2022</td>\n      <td>True</td>\n      <td>95</td>\n      <td>191822</td>\n      <td>The Pop List</td>\n      <td>0.836</td>\n      <td>-6.305</td>\n      <td>0.0656</td>\n      <td>mixed_pop</td>\n    </tr>\n    <tr>\n      <th>67</th>\n      <td>0O6u0VJ46W86TxN9wgyqDj</td>\n      <td>I Like You (A Happier Song) (with Doja Cat)</td>\n      <td>Post Malone</td>\n      <td>dfw rap</td>\n      <td>2022</td>\n      <td>True</td>\n      <td>92</td>\n      <td>192840</td>\n      <td>The Pop List</td>\n      <td>0.733</td>\n      <td>-6.009</td>\n      <td>0.0751</td>\n      <td>mixed_pop</td>\n    </tr>\n    <tr>\n      <th>69</th>\n      <td>0mBP9X2gPCuapvpZ7TGDk3</td>\n      <td>Left and Right (Feat. Jung Kook of BTS)</td>\n      <td>Charlie Puth</td>\n      <td>dance pop</td>\n      <td>2022</td>\n      <td>False</td>\n      <td>92</td>\n      <td>154486</td>\n      <td>The Pop List</td>\n      <td>0.881</td>\n      <td>-4.898</td>\n      <td>0.0324</td>\n      <td>mixed_pop</td>\n    </tr>\n    <tr>\n      <th>75</th>\n      <td>10SRMwb9EuVS1K9rYsBfHQ</td>\n      <td>Yet To Come</td>\n      <td>BTS</td>\n      <td>k-pop</td>\n      <td>2022</td>\n      <td>False</td>\n      <td>93</td>\n      <td>193593</td>\n      <td>The Pop List</td>\n      <td>0.559</td>\n      <td>-4.515</td>\n      <td>0.1890</td>\n      <td>mixed_pop</td>\n    </tr>\n    <tr>\n      <th>85</th>\n      <td>6xGruZOHLs39ZbVccQTuPZ</td>\n      <td>Glimpse of Us</td>\n      <td>Joji</td>\n      <td>alternative r&amp;b</td>\n      <td>2022</td>\n      <td>False</td>\n      <td>98</td>\n      <td>233456</td>\n      <td>The Pop List</td>\n      <td>0.440</td>\n      <td>-9.258</td>\n      <td>0.0531</td>\n      <td>mixed_pop</td>\n    </tr>\n    <tr>\n      <th>96</th>\n      <td>4LRPiXqCikLlN15c3yImP7</td>\n      <td>As It Was</td>\n      <td>Harry Styles</td>\n      <td>pop</td>\n      <td>2022</td>\n      <td>False</td>\n      <td>99</td>\n      <td>167303</td>\n      <td>The Pop List</td>\n      <td>0.520</td>\n      <td>-5.338</td>\n      <td>0.0557</td>\n      <td>mixed_pop</td>\n    </tr>\n    <tr>\n      <th>130</th>\n      <td>4LRPiXqCikLlN15c3yImP7</td>\n      <td>As It Was</td>\n      <td>Harry Styles</td>\n      <td>pop</td>\n      <td>2022</td>\n      <td>False</td>\n      <td>99</td>\n      <td>167303</td>\n      <td>Today's Top Hits</td>\n      <td>0.520</td>\n      <td>-5.338</td>\n      <td>0.0557</td>\n      <td>mixed_pop</td>\n    </tr>\n    <tr>\n      <th>456</th>\n      <td>4LRPiXqCikLlN15c3yImP7</td>\n      <td>As It Was</td>\n      <td>Harry Styles</td>\n      <td>pop</td>\n      <td>2022</td>\n      <td>False</td>\n      <td>99</td>\n      <td>167303</td>\n      <td>Every UK Number One: 2022</td>\n      <td>0.520</td>\n      <td>-5.338</td>\n      <td>0.0557</td>\n      <td>uk_no1</td>\n    </tr>\n    <tr>\n      <th>132</th>\n      <td>1PckUlxKqWQs3RlWXVBLw3</td>\n      <td>About Damn Time</td>\n      <td>Lizzo</td>\n      <td>dance pop</td>\n      <td>2022</td>\n      <td>True</td>\n      <td>95</td>\n      <td>191822</td>\n      <td>Today's Top Hits</td>\n      <td>0.836</td>\n      <td>-6.305</td>\n      <td>0.0656</td>\n      <td>mixed_pop</td>\n    </tr>\n    <tr>\n      <th>134</th>\n      <td>0O6u0VJ46W86TxN9wgyqDj</td>\n      <td>I Like You (A Happier Song) (with Doja Cat)</td>\n      <td>Post Malone</td>\n      <td>dfw rap</td>\n      <td>2022</td>\n      <td>True</td>\n      <td>92</td>\n      <td>192840</td>\n      <td>Today's Top Hits</td>\n      <td>0.733</td>\n      <td>-6.009</td>\n      <td>0.0751</td>\n      <td>mixed_pop</td>\n    </tr>\n    <tr>\n      <th>137</th>\n      <td>6Sq7ltF9Qa7SNFBsV5Cogx</td>\n      <td>Me Porto Bonito</td>\n      <td>Bad Bunny</td>\n      <td>latin</td>\n      <td>2022</td>\n      <td>True</td>\n      <td>100</td>\n      <td>178567</td>\n      <td>Today's Top Hits</td>\n      <td>0.911</td>\n      <td>-5.105</td>\n      <td>0.0817</td>\n      <td>mixed_pop</td>\n    </tr>\n    <tr>\n      <th>131</th>\n      <td>0mBP9X2gPCuapvpZ7TGDk3</td>\n      <td>Left and Right (Feat. Jung Kook of BTS)</td>\n      <td>Charlie Puth</td>\n      <td>dance pop</td>\n      <td>2022</td>\n      <td>False</td>\n      <td>92</td>\n      <td>154486</td>\n      <td>Today's Top Hits</td>\n      <td>0.881</td>\n      <td>-4.898</td>\n      <td>0.0324</td>\n      <td>mixed_pop</td>\n    </tr>\n  </tbody>\n</table>\n</div>"
     },
     "execution_count": 131,
     "metadata": {},
     "output_type": "execute_result"
    }
   ],
   "source": [
    "# Write your code for the exercise here\n",
    "\n",
    "\n",
    "\n",
    "\n",
    "\n",
    "\n"
   ],
   "metadata": {
    "collapsed": false,
    "pycharm": {
     "name": "#%%\n"
    }
   }
  },
  {
   "cell_type": "markdown",
   "source": [
    "## Summarising Data\n",
    "\n",
    "We will learn much more about Pandas' ability to manipulate and aggregate data throughout the course. However, here is a small taste of its capabilities."
   ],
   "metadata": {
    "collapsed": false,
    "pycharm": {
     "name": "#%% md\n"
    }
   }
  },
  {
   "cell_type": "code",
   "execution_count": 132,
   "outputs": [
    {
     "data": {
      "text/plain": "All Out 80s                        100\nEvery Official UK Number 1 Ever    100\nAll Out 70s                        100\nAll Out 90s                        100\nAll Out 60s                        100\nAll Out 2000s                      100\nAll Out 2010s                      100\nAll Out 50s                        100\nThe Pop List                        80\nHit Rewind                          75\nAlt. Pop.                           50\nCheesy Hits!                        50\nToday's Top Hits                    50\nTop 50 - United Kingdom             50\nEvery UK Number One: 2022           32\nName: playlist_name, dtype: int64"
     },
     "execution_count": 132,
     "metadata": {},
     "output_type": "execute_result"
    }
   ],
   "source": [
    "# Value counts provides a quick summary of how many times each value appears in a Series\n",
    "\n",
    "songs_df['playlist_name'].value_counts()"
   ],
   "metadata": {
    "collapsed": false,
    "pycharm": {
     "name": "#%%\n"
    }
   }
  },
  {
   "cell_type": "code",
   "execution_count": 153,
   "outputs": [
    {
     "data": {
      "text/plain": "Ed Sheeran       20\nElton John       17\nTaylor Swift     15\nOne Direction    13\nHarry Styles     13\nLady Gaga        11\nShawn Mendes     11\nJustin Bieber    11\nAriana Grande    10\nDrake            10\nName: artists, dtype: int64"
     },
     "execution_count": 153,
     "metadata": {},
     "output_type": "execute_result"
    }
   ],
   "source": [
    "# How many times does an artist appear in the dataset?\n",
    "songs_df['artists'].value_counts().head(10)"
   ],
   "metadata": {
    "collapsed": false,
    "pycharm": {
     "name": "#%%\n"
    }
   }
  },
  {
   "cell_type": "code",
   "execution_count": 142,
   "outputs": [
    {
     "data": {
      "text/plain": "58.64448188711036"
     },
     "execution_count": 142,
     "metadata": {},
     "output_type": "execute_result"
    }
   ],
   "source": [
    "# What is the average popularity score for our particular dataset?\n",
    "# For spotify overall 50 is average\n",
    "songs_df['popularity'].mean()\n"
   ],
   "metadata": {
    "collapsed": false,
    "pycharm": {
     "name": "#%%\n"
    }
   }
  },
  {
   "cell_type": "markdown",
   "source": [
    "### Grouping\n",
    "Pandas `.groupby()` is an incredibly powerful feature that allows us to ask complex questions of our data."
   ],
   "metadata": {
    "collapsed": false,
    "pycharm": {
     "name": "#%% md\n"
    }
   }
  },
  {
   "cell_type": "code",
   "execution_count": 145,
   "outputs": [
    {
     "data": {
      "text/plain": "playlist_name\nToday's Top Hits                   85.8200\nTop 50 - United Kingdom            85.0800\nThe Pop List                       73.4375\nAll Out 2000s                      65.7000\nHit Rewind                         65.0000\nAll Out 70s                        63.6000\nEvery UK Number One: 2022          61.3125\nAll Out 2010s                      59.5400\nAll Out 90s                        59.0600\nAll Out 80s                        58.7700\nEvery Official UK Number 1 Ever    50.4500\nAll Out 60s                        48.1700\nAlt. Pop.                          46.9800\nAll Out 50s                        37.5600\nCheesy Hits!                       34.4000\nName: popularity, dtype: float64"
     },
     "execution_count": 145,
     "metadata": {},
     "output_type": "execute_result"
    }
   ],
   "source": [
    "# is what is the average popularity score of thr tracks on each playlist?\n",
    "\n",
    "songs_df.groupby('playlist_name')['popularity'].mean().sort_values(ascending=False)"
   ],
   "metadata": {
    "collapsed": false,
    "pycharm": {
     "name": "#%%\n"
    }
   }
  },
  {
   "cell_type": "code",
   "execution_count": 147,
   "outputs": [
    {
     "data": {
      "text/plain": "release_year\n1981    76.000000\n2022    74.909605\n1980    73.750000\n1979    73.000000\n2014    72.777778\n          ...    \n1960    38.333333\n1952    38.000000\n2015    37.166667\n2011    33.437500\n1988    32.833333\nName: popularity, Length: 70, dtype: float64"
     },
     "execution_count": 147,
     "metadata": {},
     "output_type": "execute_result"
    }
   ],
   "source": [
    "# is what is the average popularity score of tracks by release date?\n",
    "\n",
    "songs_df.groupby('release_year')['popularity'].mean().sort_values(ascending=False)"
   ],
   "metadata": {
    "collapsed": false,
    "pycharm": {
     "name": "#%%\n"
    }
   }
  },
  {
   "cell_type": "code",
   "execution_count": 152,
   "outputs": [
    {
     "data": {
      "text/plain": "release_year  explicit\n2022          True        78.222222\n              False       73.455285\n2021          True        66.571429\n              False       59.702128\n2020          True        74.000000\n                            ...    \n1957          False       47.571429\n1956          False       50.857143\n1955          False       65.000000\n1954          False       65.000000\n1952          False       38.000000\nName: popularity, Length: 90, dtype: float64"
     },
     "execution_count": 152,
     "metadata": {},
     "output_type": "execute_result"
    }
   ],
   "source": [
    "# what about grouping again by explicit?\n",
    "songs_df.groupby(['release_year','explicit'])['popularity'].mean().sort_index(ascending=False)"
   ],
   "metadata": {
    "collapsed": false,
    "pycharm": {
     "name": "#%%\n"
    }
   }
  }
 ],
 "metadata": {
  "kernelspec": {
   "name": "python3",
   "language": "python",
   "display_name": "Python 3"
  },
  "language_info": {
   "codemirror_mode": {
    "name": "ipython",
    "version": 3
   },
   "file_extension": ".py",
   "mimetype": "text/x-python",
   "name": "python",
   "nbconvert_exporter": "python",
   "pygments_lexer": "ipython3",
   "version": "3.7.8"
  }
 },
 "nbformat": 4,
 "nbformat_minor": 4
}